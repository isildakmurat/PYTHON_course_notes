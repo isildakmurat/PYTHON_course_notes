{
 "cells": [
  {
   "cell_type": "code",
   "execution_count": 7,
   "metadata": {},
   "outputs": [
    {
     "name": "stdout",
     "output_type": "stream",
     "text": [
      "1375\n",
      "228\n",
      "165\n"
     ]
    }
   ],
   "source": [
    "text = \"\"\"The University of Hawaii began using radio to send digital information as early\n",
    "a Friedhelm Hillebrand conceptualised SMS in 1984 while working for Deutsche Telekom.\n",
    "Sitting Hillebrand typed out random sentences and counted every letter, number,\n",
    "punctuation, and sp Almost every time, the messages contained fewer than 160 characters,\n",
    "thus giving the basis limit one could type via text messaging. With Bernard Ghillebaert\n",
    "of France Télécom, he dev a proposal for the GSM (Groupe Spécial Mobile) meeting in\n",
    "February 1985 in Oslo.\n",
    "The first technical solution evolved in a GSM subgroup under the leadership of Finn\n",
    "Trosby. It was further developed under the leadership of Kevin Holley and Ian Harris (see\n",
    "Short Mes SMS forms an integral part of SS7 (Signalling System No. 7). under SS7, it is a\n",
    "\"state\" wit coded in the ITU-T \"T.56\" text format, that has a \"sequence lead in\" to\n",
    "determine different and may have special character codes that permits, for example,\n",
    "sending simple graphs as te This was part of ISDN (Integrated Services Digital Network)\n",
    "and since GSM is based on this, made its way to the mobile phone. Messages could be sent\n",
    "and received on ISDN phones,\n",
    "and these can send SMS to any GSM phone. The possibility of doing something is one thing,\n",
    "implementing it another, but systems existed from 1988 that sent SMS messages to mobile\n",
    "phophones (compare ND-NOTIS).\"\"\"\n",
    "\n",
    "print(len(text))                # Kaç harf var?\n",
    "\n",
    "text_word = text.split()        # Kaç kelime var?\n",
    "print(len(text_word))\n",
    "\n",
    "new_text = set(text.split())    # \n",
    "print(len(new_text))\n"
   ]
  },
  {
   "cell_type": "code",
   "execution_count": null,
   "metadata": {},
   "outputs": [],
   "source": [
    "# How many characters in text?\n",
    "print('1-How many characters in text?: ', len(text))\n",
    "# How many words are there in the \"text\" ?\n",
    "text_word = text.split()\n",
    "print(\"2-How many words are there in the text?: \", len(text_word))\n",
    "# How many unique words in the text? \n",
    "new_text = set(text.split())\n",
    "print(\"3-How many unique words in the text?: \", len(new_text))\n",
    "# Find Lexical diversity\n",
    "lexical_diversity = round((len(text.split()) / len(new_text)),2)\n",
    "print(\"4-Lexical diversity is: \", lexical_diversity)\n",
    "#Count how many \"the\" in the text ?\n",
    "print(\"5-Number of 'the' in the text: \", text.count(\"the\"))\n",
    "#Count how many \"a in text\" ? \n",
    "print(\"6-Number of 'a' in the text: \", text.count(\"a\"))\n",
    "#Extract first 10 words in text ?\n",
    "print(\"7-First 10 words of the text: \", text_word[:11])\n",
    "#Extract Fourteen character (14) in text\n",
    "print(\"8-First 14 characters of the text: \", text[:15])\n",
    "#Append \"Innomatics Technology Hub\" in first 10 words.\n",
    "text_word[:11] = [\"Innomatics Technology Hub\"]\n",
    "print(\"9- First 10 words of the text with 'Informatics Technology Hub' words appended is: \", text_word, \"\\n\")\n",
    "#Convert every letter into upper case\n",
    "print(\"10- The text written as UPPER cases: \", text.upper(), \"\\n\")\n",
    "#Convert every letter into lower case\n",
    "print(\"11-The text written as LOWER cases\", text.lower(), \"\\n\")\n",
    "#Replace the word \"University\" with name \"Innomatics\" in text\n",
    "print(\"12-The text as the word 'University' replaced with the word 'Innomatics': \", text.replace(\"University\", \"Innomatics\"), \"\\n\")"
   ]
  },
  {
   "cell_type": "code",
   "execution_count": null,
   "metadata": {},
   "outputs": [],
   "source": [
    "mail = \"mailto: Clarusway admission@clarusway.com, 6 Haz 2021 Paz, 21:08 tarihinde şunu yazdı:\"\n",
    "\n",
    "Write python code that outputs \"clarusway.com\" from the string in the \"mail\" variable."
   ]
  },
  {
   "cell_type": "code",
   "execution_count": 1,
   "metadata": {},
   "outputs": [
    {
     "name": "stdout",
     "output_type": "stream",
     "text": [
      "clarusway.com\n"
     ]
    }
   ],
   "source": [
    "mail = \"mailto: Clarusway admission@clarusway.com, 6 Haz 2021 Paz, 21:08 tarihinde şunu yazdı:\"\n",
    "mail = str(mail[28:41])\n",
    "\n",
    "\n",
    "print(mail)"
   ]
  },
  {
   "cell_type": "code",
   "execution_count": 2,
   "metadata": {},
   "outputs": [
    {
     "name": "stdout",
     "output_type": "stream",
     "text": [
      "clarusway.com\n"
     ]
    }
   ],
   "source": [
    "mail = \"mailto: Clarusway admission@clarusway.com, 6 Haz 2021 Paz, 21:08 tarihinde şunu yazdı:\"\n",
    "mail_list = mail.split()\n",
    "print(mail_list[2][mail_list[2].find(\"@\") + 1 : -1])"
   ]
  },
  {
   "cell_type": "code",
   "execution_count": 6,
   "metadata": {},
   "outputs": [
    {
     "name": "stdout",
     "output_type": "stream",
     "text": [
      "['mailto:', 'Clarusway', 'admission@clarusway.com,', '6', 'Haz', '2021', 'Paz,', '21:08', 'tarihinde', 'şunu', 'yazdı:']\n",
      "admission@clarusway.com,\n"
     ]
    }
   ],
   "source": [
    "mail = \"mailto: Clarusway admission@clarusway.com, 6 Haz 2021 Paz, 21:08 tarihinde şunu yazdı:\"\n",
    "mail_list = mail.split()\n",
    "print(mail_list)\n",
    "print(mail_list[2])"
   ]
  },
  {
   "cell_type": "code",
   "execution_count": 19,
   "metadata": {},
   "outputs": [
    {
     "name": "stdout",
     "output_type": "stream",
     "text": [
      "['<html-blob>', '', '', '', '', '', '', '', '', '', '', '', 'Lehrer=Mümtaz Özdemir<br>', 'personal=ali', '', '</html-blob><br><html-blob>ders=kdlsfkal</html-blob>']\n"
     ]
    }
   ],
   "source": [
    "kes = \"<html-blob><u></u><u></u><u></u><u></u><u></u><u></u><u></u><u></u><u></u><u></u><u></u><u></u>Lehrer=Mümtaz Özdemir<br><u></u>personal=ali<u></u><u></u></html-blob><br><html-blob>ders=kdlsfkal</html-blob>\"\n",
    "lan = kes.split(\"<u></u>\")\n",
    "print(lan)"
   ]
  },
  {
   "cell_type": "code",
   "execution_count": 45,
   "metadata": {},
   "outputs": [
    {
     "name": "stdout",
     "output_type": "stream",
     "text": [
      "Lehrer=Mümtaz Özdemir\n",
      "personal=ali\n",
      "ders=kdlsfkal\n"
     ]
    }
   ],
   "source": [
    "kes = \"<html-blob><u></u><u></u><u></u><u></u><u></u><u></u><u></u><u></u><u></u><u></u><u></u><u></u>Lehrer=Mümtaz Özdemir<br><u></u>personal=ali<u></u><u></u></html-blob><br><html-blob>ders=kdlsfkal</html-blob>\"\n",
    "lan = (kes.replace(\"<html-blob>\", \"\").replace(\"<u></u>\", \"\").replace(\"<br>\", \"\\n\").replace(\"</html-blob>\", \"\")).replace(\"\\n\", \"\\n\")\n",
    "print(lan)"
   ]
  },
  {
   "cell_type": "code",
   "execution_count": 1,
   "metadata": {},
   "outputs": [
    {
     "name": "stdout",
     "output_type": "stream",
     "text": [
      "{1, 2, 3}\n"
     ]
    }
   ],
   "source": [
    "a = [1, 2, 1, 2, 3]\n",
    "print(set(a))"
   ]
  },
  {
   "cell_type": "code",
   "execution_count": 2,
   "metadata": {},
   "outputs": [
    {
     "data": {
      "text/plain": [
       "{'blue', 'pink', 'red'}"
      ]
     },
     "execution_count": 2,
     "metadata": {},
     "output_type": "execute_result"
    }
   ],
   "source": [
    "colors = 'red', 'blue', 'pink', 'red'\n",
    "set(colors)"
   ]
  },
  {
   "cell_type": "code",
   "execution_count": 4,
   "metadata": {},
   "outputs": [
    {
     "name": "stdout",
     "output_type": "stream",
     "text": [
      "{1, 2, 3}\n"
     ]
    }
   ],
   "source": [
    "a = [1, 2, 1, 2, 3]\n",
    "a = tuple(a)\n",
    "print(set(a))"
   ]
  },
  {
   "cell_type": "code",
   "execution_count": 10,
   "metadata": {},
   "outputs": [
    {
     "name": "stdout",
     "output_type": "stream",
     "text": [
      "{'W a s h i n g t o n'}\n",
      "{'W e l l i n g t o n'}\n"
     ]
    }
   ],
   "source": [
    "usa = [\"W a s h i n g t o n\"]\n",
    "newz = [\"W e l l i n g t o n\"]\n",
    "usa = tuple(usa)\n",
    "newz = tuple(newz)\n",
    "print(set(usa))\n",
    "print(set(newz))"
   ]
  },
  {
   "cell_type": "code",
   "execution_count": 16,
   "metadata": {},
   "outputs": [
    {
     "name": "stdout",
     "output_type": "stream",
     "text": [
      "{'o', 'h', 'i', 't', 's', 'a', 'W', 'g', 'n'}\n",
      "{'e', 'o', 'l', 'i', 't', 'W', 'g', 'n'}\n",
      "{'a', 'h', 's'}\n",
      "{'e', 'l'}\n",
      "{'o', 'i', 't', 'W', 'g', 'n'}\n"
     ]
    }
   ],
   "source": [
    "usa = set(\"Washington\")\n",
    "newz = set(\"Wellington\")\n",
    "print(set(usa))\n",
    "print(set(newz))\n",
    "print(usa - newz)\n",
    "print(newz - usa)\n",
    "print(newz & usa)"
   ]
  },
  {
   "cell_type": "code",
   "execution_count": 1,
   "metadata": {},
   "outputs": [
    {
     "name": "stdout",
     "output_type": "stream",
     "text": [
      "12345678901234567890  is not an Armstrong Number.\n"
     ]
    }
   ],
   "source": [
    "while True :\n",
    "    \n",
    "    number = input(\"Enter a positive integer number :\")\n",
    "    digits = len(number)\n",
    "    summ = 0\n",
    "    \n",
    "    if not number.isdigit() :\n",
    "        \n",
    "        print(number, \" is invalid entry. Please enter valid input.\")\n",
    "        \n",
    "    elif int(number) >= 0 :\n",
    "        \n",
    "        for i in range(digits) :\n",
    "            \n",
    "            summ = summ + int(number[i]) ** digits\n",
    "            \n",
    "        if summ == int(number) :\n",
    "            print(number, \" is an Armstrong Number.\")\n",
    "            break\n",
    "        else :\n",
    "            print(number, \" is not an Armstrong Number.\")\n",
    "            break"
   ]
  },
  {
   "cell_type": "code",
   "execution_count": null,
   "metadata": {},
   "outputs": [],
   "source": [
    "n = int(input(\"Enter a positive int number to check if it is a Prime Number.\"))\n",
    "\n",
    "counter = 0\n",
    "\n",
    "for i in range(1, n+1) :\n",
    "    if n % i == 0 :\n",
    "        counter += 1\n",
    "        \n",
    "if (n == 0) or (n == 1) or (counter >= 3) :\n",
    "    print(n, \" is not a Prime Number.\")\n",
    "    \n",
    "else :\n",
    "    print(n, \" is a Prime Number.\")"
   ]
  },
  {
   "cell_type": "code",
   "execution_count": 13,
   "metadata": {},
   "outputs": [
    {
     "name": "stdout",
     "output_type": "stream",
     "text": [
      "[0]\n",
      "[0, 1]\n",
      "[0, 1, 2]\n",
      "[0, 1, 2, 3]\n",
      "[0, 1, 2, 3, 4]\n"
     ]
    }
   ],
   "source": [
    "sayılar = []\n",
    "\n",
    "for i in range(5):\n",
    "    sayılar.append(i)\n",
    "    print(sayılar)"
   ]
  },
  {
   "cell_type": "code",
   "execution_count": 14,
   "metadata": {},
   "outputs": [
    {
     "name": "stdout",
     "output_type": "stream",
     "text": [
      "[0, 1, 2, 3, 4]\n"
     ]
    }
   ],
   "source": [
    "sayılar = []\n",
    "\n",
    "for i in range(5):\n",
    "    sayılar.append(i)\n",
    "print(sayılar)"
   ]
  },
  {
   "cell_type": "code",
   "execution_count": 9,
   "metadata": {},
   "outputs": [
    {
     "name": "stdout",
     "output_type": "stream",
     "text": [
      "[0, 1, 2, 3, 4]\n"
     ]
    }
   ],
   "source": [
    "[sayılar for i in range(5)]\n",
    "print(sayılar)"
   ]
  },
  {
   "cell_type": "code",
   "execution_count": 11,
   "metadata": {},
   "outputs": [
    {
     "name": "stdout",
     "output_type": "stream",
     "text": [
      "[[0, 1, 2, 3, 4], [0, 1, 2, 3, 4], [0, 1, 2, 3, 4], [0, 1, 2, 3, 4]]\n"
     ]
    }
   ],
   "source": [
    "print([sayılar for i in range(4)])"
   ]
  },
  {
   "cell_type": "code",
   "execution_count": 20,
   "metadata": {},
   "outputs": [
    {
     "data": {
      "text/plain": [
       "[0, 1, 4, 9, 16]"
      ]
     },
     "execution_count": 20,
     "metadata": {},
     "output_type": "execute_result"
    }
   ],
   "source": [
    "[i**2 for i in range(5)]"
   ]
  },
  {
   "cell_type": "markdown",
   "metadata": {},
   "source": [
    "### IF STATEMENTS"
   ]
  },
  {
   "cell_type": "code",
   "execution_count": 24,
   "metadata": {},
   "outputs": [
    {
     "ename": "SyntaxError",
     "evalue": "invalid syntax. Maybe you meant '==' or ':=' instead of '='? (2729759187.py, line 1)",
     "output_type": "error",
     "traceback": [
      "\u001b[1;36m  Input \u001b[1;32mIn [24]\u001b[1;36m\u001b[0m\n\u001b[1;33m    [i=1 if True]\u001b[0m\n\u001b[1;37m     ^\u001b[0m\n\u001b[1;31mSyntaxError\u001b[0m\u001b[1;31m:\u001b[0m invalid syntax. Maybe you meant '==' or ':=' instead of '='?\n"
     ]
    }
   ],
   "source": [
    "list = [1, 2, 3, 4, 5, 6]\n",
    "newlist = []\n",
    "\n",
    "for i in list:\n",
    "    if i % 2:"
   ]
  },
  {
   "cell_type": "code",
   "execution_count": null,
   "metadata": {},
   "outputs": [],
   "source": []
  }
 ],
 "metadata": {
  "interpreter": {
   "hash": "0127ce2b7568e6364fcc574b031f73928e7aa4cd8418ab017d9e270fb3906b0d"
  },
  "kernelspec": {
   "display_name": "Python 3.10.1 64-bit",
   "language": "python",
   "name": "python3"
  },
  "language_info": {
   "codemirror_mode": {
    "name": "ipython",
    "version": 3
   },
   "file_extension": ".py",
   "mimetype": "text/x-python",
   "name": "python",
   "nbconvert_exporter": "python",
   "pygments_lexer": "ipython3",
   "version": "3.10.1"
  },
  "orig_nbformat": 4
 },
 "nbformat": 4,
 "nbformat_minor": 2
}
