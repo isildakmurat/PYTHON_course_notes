{
 "cells": [
  {
   "cell_type": "code",
   "execution_count": 1,
   "metadata": {},
   "outputs": [
    {
     "name": "stdout",
     "output_type": "stream",
     "text": [
      "murat \n",
      "murat murat \n",
      "murat murat murat \n",
      "murat murat murat murat \n",
      "murat murat murat murat murat \n"
     ]
    }
   ],
   "source": [
    "for kelime in range(1, 6):\n",
    "    print(\"murat \" * kelime)"
   ]
  },
  {
   "cell_type": "code",
   "execution_count": 5,
   "metadata": {},
   "outputs": [
    {
     "name": "stdout",
     "output_type": "stream",
     "text": [
      "murat \n",
      "murat murat \n",
      "murat murat murat \n",
      "murat murat murat murat \n",
      "murat murat murat murat murat \n"
     ]
    }
   ],
   "source": [
    "kelime = 1\n",
    "while kelime < 6:\n",
    "    print(\"murat \" * kelime)\n",
    "    kelime += 1"
   ]
  },
  {
   "cell_type": "code",
   "execution_count": 26,
   "metadata": {},
   "outputs": [
    {
     "name": "stdout",
     "output_type": "stream",
     "text": [
      "XX\n",
      "XXXXX\n"
     ]
    }
   ],
   "source": [
    "for kelime in range(1, 6):\n",
    "    if kelime == 5:\n",
    "        print(\"X\" * kelime)\n",
    "        break\n",
    "    elif kelime == 2:\n",
    "        print(\"X\" * kelime)"
   ]
  },
  {
   "cell_type": "code",
   "execution_count": 19,
   "metadata": {},
   "outputs": [
    {
     "name": "stdout",
     "output_type": "stream",
     "text": [
      "Hello, Murat Işik! The password is : W@12\n"
     ]
    }
   ],
   "source": [
    "username = (input(\"name?: \")).title()\n",
    "username_1 = \"Murat Işik\"\n",
    "if username == username_1:\n",
    "    print(f\"Hello, {username.title()}! The password is : W@12\")\n",
    "else:\n",
    "    print(f\"Hello, {username}! See you later.\")"
   ]
  },
  {
   "cell_type": "code",
   "execution_count": 13,
   "metadata": {},
   "outputs": [
    {
     "data": {
      "text/plain": [
       "'Murat Işik'"
      ]
     },
     "execution_count": 13,
     "metadata": {},
     "output_type": "execute_result"
    }
   ],
   "source": [
    "a = \"Murat IŞIK\".title()\n",
    "a"
   ]
  },
  {
   "cell_type": "code",
   "execution_count": 15,
   "metadata": {},
   "outputs": [
    {
     "data": {
      "text/plain": [
       "'Murat işik'"
      ]
     },
     "execution_count": 15,
     "metadata": {},
     "output_type": "execute_result"
    }
   ],
   "source": [
    "a = \"Murat IŞIK\".capitalize()\n",
    "a"
   ]
  },
  {
   "cell_type": "code",
   "execution_count": 16,
   "metadata": {},
   "outputs": [
    {
     "data": {
      "text/plain": [
       "'mURAT işik'"
      ]
     },
     "execution_count": 16,
     "metadata": {},
     "output_type": "execute_result"
    }
   ],
   "source": [
    "a = \"Murat IŞIK\".swapcase()\n",
    "a"
   ]
  },
  {
   "cell_type": "code",
   "execution_count": null,
   "metadata": {},
   "outputs": [],
   "source": [
    "a = \"Murat IŞIK\".swapcase()\n",
    "a"
   ]
  },
  {
   "cell_type": "code",
   "execution_count": 22,
   "metadata": {},
   "outputs": [
    {
     "name": "stdout",
     "output_type": "stream",
     "text": [
      "You are not in risky group\n"
     ]
    }
   ],
   "source": [
    "age = (input(\"Are you a cigarette addict older than 75 years old?\"))\n",
    "chronic = (input(\"Do you have a severe chronic disease? Y/N\"))\n",
    "immune = (input(\"Is your immune system too weak? Y/N\"))\n",
    "\n",
    "if age == \"Y\" or chronic == \"Y\" or immune == \"Y\":\n",
    "    print(\"You are in risky group\")\n",
    "else:\n",
    "    print(\"You are not in risky group\")"
   ]
  },
  {
   "cell_type": "code",
   "execution_count": 23,
   "metadata": {},
   "outputs": [
    {
     "name": "stdout",
     "output_type": "stream",
     "text": [
      "You are in risky group\n"
     ]
    }
   ],
   "source": [
    "age = (input(\"Are you older then 75 years old?\"))\n",
    "addict = (input(\"Are you a cigarette addict? Y/N\"))\n",
    "chronic = (input(\"Do you have a severe chronic disease? Y/N\"))\n",
    "immune = (input(\"Is your immune system too weak? Y/N\"))\n",
    "\n",
    "if (addict == \"Y\" and age == \"Y\") or chronic == \"Y\" or immune == \"Y\":\n",
    "    print(\"You are in risky group\")\n",
    "else:\n",
    "    print(\"You are not in risky group\")"
   ]
  },
  {
   "cell_type": "code",
   "execution_count": 19,
   "metadata": {},
   "outputs": [
    {
     "name": "stdout",
     "output_type": "stream",
     "text": [
      "You are not in risky group\n"
     ]
    }
   ],
   "source": [
    "\n",
    "age = (int(input(\"Are you older then 75 years old?\")))\n",
    "addict = (input(\"Are you a cigarette addict? Y/N\"))\n",
    "chronic = (input(\"Do you have a severe chronic disease? Y/N\"))\n",
    "immune = (input(\"Is your immune system too weak? Y/N\"))\n",
    "\n",
    "if addict == \"Y\" and age >= 75 or chronic == \"Y\" or immune == \"Y\":\n",
    "    print(\"You are in risky group\")\n",
    "else:\n",
    "    print(\"You are not in risky group\")"
   ]
  },
  {
   "cell_type": "code",
   "execution_count": 8,
   "metadata": {},
   "outputs": [
    {
     "name": "stdout",
     "output_type": "stream",
     "text": [
      "1\n",
      "2\n"
     ]
    }
   ],
   "source": [
    "for i in range(1,3):\n",
    "    print(i)"
   ]
  },
  {
   "cell_type": "code",
   "execution_count": 32,
   "metadata": {},
   "outputs": [
    {
     "name": "stdout",
     "output_type": "stream",
     "text": [
      "Murat                         \n",
      "                         Murat\n",
      "            Murat             \n",
      "Murat*************************\n",
      "*************************Murat\n",
      "************Murat*************\n",
      "Mura\n"
     ]
    }
   ],
   "source": [
    "name = \"Murat\"\n",
    "print(f\"{name:<30}\")      #sağına ekleyerek 30 karaktere tamamla\n",
    "print(f\"{name:>30}\")      #soluna ekleyerek 30 karaktere tamamla\n",
    "print(f\"{name:^30}\")      #sağa sola ekleyerek 30 karaktere tamamla\n",
    "\n",
    "print(f\"{name:*<30}\")     #sağına * ekleyerek 30 karaktere tamamla\n",
    "print(f\"{name:*>30}\")     #soluna * ekleyerek 30 karaktere tamamla\n",
    "print(f\"{name:*^30}\")     #sağa sola * ekleyerek 30 karaktere tamamla\n",
    "\n",
    "print(f\"{name:.3}\")       #sadece ilk üç karakteri al\n"
   ]
  },
  {
   "cell_type": "code",
   "execution_count": null,
   "metadata": {},
   "outputs": [],
   "source": []
  }
 ],
 "metadata": {
  "interpreter": {
   "hash": "0127ce2b7568e6364fcc574b031f73928e7aa4cd8418ab017d9e270fb3906b0d"
  },
  "kernelspec": {
   "display_name": "Python 3.10.1 64-bit",
   "language": "python",
   "name": "python3"
  },
  "language_info": {
   "codemirror_mode": {
    "name": "ipython",
    "version": 3
   },
   "file_extension": ".py",
   "mimetype": "text/x-python",
   "name": "python",
   "nbconvert_exporter": "python",
   "pygments_lexer": "ipython3",
   "version": "3.10.1"
  },
  "orig_nbformat": 4
 },
 "nbformat": 4,
 "nbformat_minor": 2
}
