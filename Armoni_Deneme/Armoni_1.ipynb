{
 "cells": [
  {
   "cell_type": "code",
   "execution_count": 18,
   "metadata": {},
   "outputs": [
    {
     "ename": "SyntaxError",
     "evalue": "invalid syntax (621526146.py, line 6)",
     "output_type": "error",
     "traceback": [
      "\u001b[1;36m  Input \u001b[1;32mIn [18]\u001b[1;36m\u001b[0m\n\u001b[1;33m    print(0::2)\u001b[0m\n\u001b[1;37m           ^\u001b[0m\n\u001b[1;31mSyntaxError\u001b[0m\u001b[1;31m:\u001b[0m invalid syntax\n"
     ]
    }
   ],
   "source": [
    "1, 2, 3, 4, 5, 6, 7 == \"Do\", \"Re\", \"Mi\", \"Fa\", \"Sol\", \"La\", \"Si\"\n",
    "\n",
    "input(\"Kök?\")\n",
    "\n",
    "if 1:                      #Basa göre armoni\n",
    "    print(0::2)\n",
    "elif 2: \n",
    "    print(2, 4, 6, 2)\n",
    "elif 3:\n",
    "    print(3, 5, 7, 3)\n",
    "elif 4:\n",
    "    print(4, 6, 1, 4)\n",
    "elif 5:\n",
    "    print(5, 7, 2, 5)\n",
    "elif 6:\n",
    "    print(6, 1, 3, 6)\n",
    "elif 7:\n",
    "    print(7, 2, 4, 7)"
   ]
  },
  {
   "cell_type": "code",
   "execution_count": null,
   "metadata": {},
   "outputs": [],
   "source": []
  }
 ],
 "metadata": {
  "interpreter": {
   "hash": "0127ce2b7568e6364fcc574b031f73928e7aa4cd8418ab017d9e270fb3906b0d"
  },
  "kernelspec": {
   "display_name": "Python 3.10.1 64-bit",
   "language": "python",
   "name": "python3"
  },
  "language_info": {
   "codemirror_mode": {
    "name": "ipython",
    "version": 3
   },
   "file_extension": ".py",
   "mimetype": "text/x-python",
   "name": "python",
   "nbconvert_exporter": "python",
   "pygments_lexer": "ipython3",
   "version": "3.10.1"
  },
  "orig_nbformat": 4
 },
 "nbformat": 4,
 "nbformat_minor": 2
}
