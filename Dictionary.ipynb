{
 "cells": [
  {
   "cell_type": "code",
   "execution_count": 2,
   "metadata": {},
   "outputs": [
    {
     "name": "stdout",
     "output_type": "stream",
     "text": [
      "{'a': '1', 'b': '2', 'c': '3'}\n",
      "{'d': '4', 'e': '5', 'f': '6'}\n",
      "{'g': '7', 'h': '8', 'i': '9'}\n",
      "{'j': '10', 'k': '11', 'l': '12'}\n"
     ]
    }
   ],
   "source": [
    "d = {\"a\" : \"1\", \"b\" : \"2\", \"c\" : \"3\"}\n",
    "e = dict({\"d\" : \"4\", \"e\" : \"5\", \"f\" : \"6\"})\n",
    "f = dict([(\"g\", \"7\"), (\"h\", \"8\"), (\"i\", \"9\")])\n",
    "g = dict(j=\"10\", k=\"11\", l=\"12\")\n",
    "print(d)\n",
    "print(e)\n",
    "print(f)\n",
    "print(g)"
   ]
  },
  {
   "cell_type": "code",
   "execution_count": 1,
   "metadata": {},
   "outputs": [
    {
     "name": "stdout",
     "output_type": "stream",
     "text": [
      "{'a': '1', 'b': '2', 'c': '3'}\n",
      "{'a': '1', 'b': '2', 'c': '3'}\n",
      "{'a': '1', 'b': '2', 'c': '3'}\n",
      "{'a': '1', 'b': '2', 'c': '3'}\n"
     ]
    }
   ],
   "source": [
    "d = {\"a\" : \"1\", \"b\" : \"2\", \"c\" : \"3\"}\n",
    "e = dict({\"a\" : \"1\", \"b\" : \"2\", \"c\" : \"3\"})\n",
    "f = dict([(\"a\", \"1\"), (\"b\", \"2\"), (\"c\", \"3\")])\n",
    "g = dict(a=\"1\", b=\"2\", c=\"3\")\n",
    "print(d)\n",
    "print(e)\n",
    "print(f)\n",
    "print(g)"
   ]
  },
  {
   "cell_type": "code",
   "execution_count": 6,
   "metadata": {},
   "outputs": [
    {
     "name": "stdout",
     "output_type": "stream",
     "text": [
      "{'a', 'c', '2', 'b', '3', '1'}\n"
     ]
    }
   ],
   "source": [
    "d1 = {\"a\", \"1\", \"b\", \"2\", \"c\", \"3\"}\n",
    "print(d1)"
   ]
  },
  {
   "cell_type": "code",
   "execution_count": 7,
   "metadata": {},
   "outputs": [
    {
     "data": {
      "text/plain": [
       "1"
      ]
     },
     "execution_count": 7,
     "metadata": {},
     "output_type": "execute_result"
    }
   ],
   "source": [
    "11 % 5\n",
    "görüldüğü üzere sayılar 3 basamak sağa doğru kaydı\n",
    "Output = [4, 5, 6, 1, 2, 3]"
   ]
  },
  {
   "cell_type": "code",
   "execution_count": 10,
   "metadata": {},
   "outputs": [
    {
     "name": "stdout",
     "output_type": "stream",
     "text": [
      "[4, 5, 6, 1, 2, 3]\n"
     ]
    }
   ],
   "source": [
    "num = int(input(\"\"))\n",
    "liste = [1, 2, 3, 4, 5, 6]\n",
    "print(liste[num:] + liste[:num])\n"
   ]
  },
  {
   "cell_type": "code",
   "execution_count": 19,
   "metadata": {},
   "outputs": [
    {
     "name": "stdout",
     "output_type": "stream",
     "text": [
      "resta$t\n"
     ]
    }
   ],
   "source": [
    "word = (input(\"\"))\n",
    "word_1 = word[0]\n",
    "word_2 = word[1:]\n",
    "print(word_1 + word_2.replace(\"r\", \"$\"))"
   ]
  },
  {
   "cell_type": "code",
   "execution_count": 48,
   "metadata": {},
   "outputs": [
    {
     "name": "stdout",
     "output_type": "stream",
     "text": [
      "6 5 3 7\n"
     ]
    }
   ],
   "source": [
    "num = 7356\n",
    "binler = num//1000\n",
    "yüzler = num//100 - binler*10\n",
    "onlar = num//10 - binler*100 - yüzler*10\n",
    "birler = num//1 - binler*1000 - yüzler*100 - onlar*10\n",
    "print(birler, onlar, yüzler, binler)"
   ]
  },
  {
   "cell_type": "code",
   "execution_count": 102,
   "metadata": {},
   "outputs": [
    {
     "name": "stdout",
     "output_type": "stream",
     "text": [
      "-14294 -695 3 7\n"
     ]
    }
   ],
   "source": [
    "num = 7356\n",
    "binler = num//1000\n",
    "yüzler = num//100 \n",
    "onlar = num//10\n",
    "birler = num//1\n",
    "print((birler - binler*1000 - yüzler*100 - onlar*10), (onlar - binler*100 - yüzler*10), (yüzler - binler*10), binler)"
   ]
  },
  {
   "cell_type": "code",
   "execution_count": 105,
   "metadata": {},
   "outputs": [
    {
     "data": {
      "text/plain": [
       "'6537'"
      ]
     },
     "execution_count": 105,
     "metadata": {},
     "output_type": "execute_result"
    }
   ],
   "source": [
    "num = 7356\n",
    "num = str(num)\n",
    "num[::-1]"
   ]
  },
  {
   "cell_type": "code",
   "execution_count": 41,
   "metadata": {},
   "outputs": [
    {
     "name": "stdout",
     "output_type": "stream",
     "text": [
      "7\n"
     ]
    }
   ],
   "source": [
    "num = 7356\n",
    "binler = num//1000\n",
    "print(binler)"
   ]
  },
  {
   "cell_type": "code",
   "execution_count": 49,
   "metadata": {},
   "outputs": [
    {
     "name": "stdout",
     "output_type": "stream",
     "text": [
      "Not there yet, x=0\n",
      "Not there yet, x=1\n",
      "Not there yet, x=2\n",
      "Not there yet, x=3\n",
      "Not there yet, x=4\n",
      "x=5\n"
     ]
    }
   ],
   "source": [
    "x = 0\n",
    "while x < 5:\n",
    "  print(\"Not there yet, x=\" + str(x))\n",
    "  x = x + 1\n",
    "print(\"x=\" + str(x))"
   ]
  },
  {
   "cell_type": "code",
   "execution_count": 1,
   "metadata": {},
   "outputs": [
    {
     "ename": "SyntaxError",
     "evalue": "invalid syntax (213199333.py, line 5)",
     "output_type": "error",
     "traceback": [
      "\u001b[1;36m  Input \u001b[1;32mIn [1]\u001b[1;36m\u001b[0m\n\u001b[1;33m    print(d:)\u001b[0m\n\u001b[1;37m           ^\u001b[0m\n\u001b[1;31mSyntaxError\u001b[0m\u001b[1;31m:\u001b[0m invalid syntax\n"
     ]
    }
   ],
   "source": [
    "d = {\"a\" : \"1\", \"b\" : \"2\", \"c\" : \"3\"}\n",
    "e = dict({\"a\" : \"1\", \"b\" : \"2\", \"c\" : \"3\"})\n",
    "f = dict([(\"a\", \"1\"), (\"b\", \"2\"), (\"c\", \"3\")])\n",
    "g = dict(a=\"1\", b=\"2\", c=\"3\")\n",
    "print(d)\n",
    "print(e)\n",
    "print(f)\n",
    "print(g)"
   ]
  },
  {
   "cell_type": "code",
   "execution_count": null,
   "metadata": {},
   "outputs": [],
   "source": []
  }
 ],
 "metadata": {
  "interpreter": {
   "hash": "0127ce2b7568e6364fcc574b031f73928e7aa4cd8418ab017d9e270fb3906b0d"
  },
  "kernelspec": {
   "display_name": "Python 3.10.1 64-bit",
   "language": "python",
   "name": "python3"
  },
  "language_info": {
   "codemirror_mode": {
    "name": "ipython",
    "version": 3
   },
   "file_extension": ".py",
   "mimetype": "text/x-python",
   "name": "python",
   "nbconvert_exporter": "python",
   "pygments_lexer": "ipython3",
   "version": "3.10.1"
  },
  "orig_nbformat": 4
 },
 "nbformat": 4,
 "nbformat_minor": 2
}
