{
 "cells": [
  {
   "cell_type": "markdown",
   "metadata": {},
   "source": [
    "<h1><p style=\"text-align: center; color:darkblue\">PYTHON DERS NOTLARI </p><h1>\n",
    "<h1><p style=\"text-align: center; color:darkblue\">6. DERS (31.01.2022) </p><h1>"
   ]
  },
  {
   "cell_type": "markdown",
   "metadata": {},
   "source": [
    "## Collection Types\n",
    "___\n",
    "* List\n",
    "* Tuple\n",
    "* Dictionary\n",
    "* Set\n",
    "___"
   ]
  },
  {
   "cell_type": "markdown",
   "metadata": {},
   "source": [
    "There are four main collection data types in the Python programming language:\n",
    "* List is a collection which is ordered and changeable.\n",
    "* Tuple is a collection which is ordered and unchangeable.\n",
    "* Set is a collection which is unordered, unchangeable*, and unindexed.\n",
    "* Dictionary is a collection which is ordered** and changeable\n",
    "\n",
    "\n",
    "*Set items are unchangeable, but you can remove and/or add items whenever you like.\n",
    "**As of Python version 3.7, dictionaries are ordered. In Python 3.6 and earlier, dictionaries are unordered."
   ]
  },
  {
   "cell_type": "markdown",
   "metadata": {},
   "source": [
    "### **List**\n",
    "\n",
    ">List fonksiyonu \"iterable\" veriyi elemanlarına ayırır, soldan sağa (baştan sona) kadar gider, aralarına virgül koyar, her bir elemanı listenin elemanı haline getirir.\n",
    "\n",
    "\n",
    "\n",
    "* string verilerde çalışır!\n",
    "* liste içinde liste olabilir\n",
    "_____"
   ]
  },
  {
   "cell_type": "code",
   "execution_count": null,
   "metadata": {},
   "outputs": [],
   "source": [
    "#iki şekilde liste yapılabilir__________________________________________________________________\n",
    "\n",
    "[]\n",
    "\n",
    "#veya\n",
    "\n",
    "\n",
    "list()"
   ]
  },
  {
   "cell_type": "markdown",
   "metadata": {},
   "source": [
    ">* list fonksiyonu içerisine iterable (elemanlarına ayrılabilir) veriler alır\n",
    ">* List fonksiyonu \"iterable\" veriyi elemanlarına ayırır, \n",
    ">* soldan sağa (baştan sona) kadar gider, aralarına virgül koyar, \n",
    ">* her bir elemanı listenin elemanı haline getirir.\n"
   ]
  },
  {
   "cell_type": "code",
   "execution_count": 127,
   "metadata": {},
   "outputs": [
    {
     "ename": "TypeError",
     "evalue": "'list' object is not callable",
     "output_type": "error",
     "traceback": [
      "\u001b[1;31m---------------------------------------------------------------------------\u001b[0m",
      "\u001b[1;31mTypeError\u001b[0m                                 Traceback (most recent call last)",
      "Input \u001b[1;32mIn [127]\u001b[0m, in \u001b[0;36m<module>\u001b[1;34m\u001b[0m\n\u001b[1;32m----> 1\u001b[0m \u001b[38;5;28;43mlist\u001b[39;49m\u001b[43m(\u001b[49m\u001b[38;5;124;43m\"\u001b[39;49m\u001b[38;5;124;43mPython\u001b[39;49m\u001b[38;5;124;43m\"\u001b[39;49m\u001b[43m)\u001b[49m\n",
      "\u001b[1;31mTypeError\u001b[0m: 'list' object is not callable"
     ]
    }
   ],
   "source": [
    "list(\"Python\")"
   ]
  },
  {
   "cell_type": "code",
   "execution_count": null,
   "metadata": {},
   "outputs": [
    {
     "name": "stdout",
     "output_type": "stream",
     "text": [
      "[1, 2, 3]\n",
      "['P', 'y', 't', 'h', 'o', 'n']\n",
      "[1234]\n"
     ]
    }
   ],
   "source": [
    "a = [1, 2, 3]\n",
    "print(list(a))\n",
    "\n",
    "b = \"Python\"\n",
    "print(list(b))\n",
    "\n",
    "c = [1234]     #integer veriler iterable değildir!"
   ]
  },
  {
   "cell_type": "code",
   "execution_count": null,
   "metadata": {},
   "outputs": [
    {
     "ename": "TypeError",
     "evalue": "'int' object is not iterable",
     "output_type": "error",
     "traceback": [
      "\u001b[1;31m---------------------------------------------------------------------------\u001b[0m",
      "\u001b[1;31mTypeError\u001b[0m                                 Traceback (most recent call last)",
      "Input \u001b[1;32mIn [13]\u001b[0m, in \u001b[0;36m<module>\u001b[1;34m\u001b[0m\n\u001b[1;32m----> 1\u001b[0m \u001b[38;5;28;43mlist\u001b[39;49m\u001b[43m(\u001b[49m\u001b[38;5;241;43m1234\u001b[39;49m\u001b[43m)\u001b[49m\n",
      "\u001b[1;31mTypeError\u001b[0m: 'int' object is not iterable"
     ]
    }
   ],
   "source": [
    "list(1234)"
   ]
  },
  {
   "cell_type": "code",
   "execution_count": null,
   "metadata": {},
   "outputs": [
    {
     "name": "stdout",
     "output_type": "stream",
     "text": [
      "['I', ' ', 'q', 'u', 'i', 't', ' ', 's', 'm', 'o', 'k', 'i', 'n', 'g']\n",
      "['I quit smoking']\n"
     ]
    }
   ],
   "source": [
    "string_1 = 'I quit smoking'\n",
    "new_list_1 = list(string_1)\n",
    "print(new_list_1)\n",
    "\n",
    "new_list_2 = [string_1]\n",
    "print(new_list_2)"
   ]
  },
  {
   "cell_type": "code",
   "execution_count": null,
   "metadata": {},
   "outputs": [
    {
     "name": "stdout",
     "output_type": "stream",
     "text": [
      "[13, 'Python', True, None, 1.3, [1, 2, 3]]\n"
     ]
    }
   ],
   "source": [
    "mixed_list = [13, 'Python', True, None, 1.3, [1, 2, 3]]\n",
    "print(mixed_list)"
   ]
  },
  {
   "cell_type": "code",
   "execution_count": null,
   "metadata": {},
   "outputs": [
    {
     "name": "stdout",
     "output_type": "stream",
     "text": [
      "['Python', 'Murat', 13]\n",
      "3\n",
      "[['Python', 'Murat', 13]]\n",
      "1\n"
     ]
    }
   ],
   "source": [
    "my_list = ['Python', 'Murat', 13]\n",
    "new_list1 = list(my_list)\n",
    "new_list2 = [my_list]\n",
    "\n",
    "print(new_list1)\n",
    "print(len(new_list1))\n",
    "\n",
    "print(new_list2)\n",
    "print(len(new_list2))"
   ]
  },
  {
   "cell_type": "code",
   "execution_count": null,
   "metadata": {},
   "outputs": [
    {
     "data": {
      "text/plain": [
       "6"
      ]
     },
     "execution_count": 27,
     "metadata": {},
     "output_type": "execute_result"
    }
   ],
   "source": [
    "ilk_liste = ['Python', True, 13, [1, 2, 3, 4], 1.3, ['Python', [\"Pyt\"]]]\n",
    "len(ilk_liste)"
   ]
  },
  {
   "cell_type": "code",
   "execution_count": null,
   "metadata": {},
   "outputs": [
    {
     "data": {
      "text/plain": [
       "1"
      ]
     },
     "execution_count": 29,
     "metadata": {},
     "output_type": "execute_result"
    }
   ],
   "source": [
    "len([[[\" \"]]])\n"
   ]
  },
  {
   "cell_type": "code",
   "execution_count": null,
   "metadata": {},
   "outputs": [
    {
     "data": {
      "text/plain": [
       "1"
      ]
     },
     "execution_count": 30,
     "metadata": {},
     "output_type": "execute_result"
    }
   ],
   "source": [
    "len([[[\" \", 1, 2]]])"
   ]
  },
  {
   "cell_type": "markdown",
   "metadata": {},
   "source": [
    "# Basic Operations with **lists**\n",
    "___"
   ]
  },
  {
   "cell_type": "markdown",
   "metadata": {},
   "source": [
    ">* .append()\n",
    ">* .insert()"
   ]
  },
  {
   "cell_type": "markdown",
   "metadata": {},
   "source": [
    "## **.append()**"
   ]
  },
  {
   "cell_type": "markdown",
   "metadata": {},
   "source": [
    ">append() parantez içindeki elemanı listenin son elemanı olarak (sağına) listeye ekler"
   ]
  },
  {
   "cell_type": "code",
   "execution_count": null,
   "metadata": {},
   "outputs": [
    {
     "name": "stdout",
     "output_type": "stream",
     "text": [
      "['1']\n",
      "['1', '2']\n",
      "['1', '2', '3']\n"
     ]
    }
   ],
   "source": [
    "numbers = []\n",
    "numbers.append(\"1\")\n",
    "print(numbers)\n",
    "numbers.append(\"2\")\n",
    "print(numbers)\n",
    "numbers.append(\"3\")\n",
    "print(numbers)"
   ]
  },
  {
   "cell_type": "code",
   "execution_count": null,
   "metadata": {},
   "outputs": [
    {
     "name": "stdout",
     "output_type": "stream",
     "text": [
      "['Python', '13', 'Murat', 'P']\n"
     ]
    }
   ],
   "source": [
    "örnek_liste = [\"Python\", \"13\", \"Murat\"]\n",
    "örnek_liste.append(\"P\") #listenin sonuna ekler\n",
    "print(örnek_liste)"
   ]
  },
  {
   "cell_type": "markdown",
   "metadata": {},
   "source": [
    "## **.pop()**"
   ]
  },
  {
   "cell_type": "markdown",
   "metadata": {},
   "source": [
    ">parantezde index numarası belirtilen dizi elemanını yazdırır."
   ]
  },
  {
   "cell_type": "code",
   "execution_count": null,
   "metadata": {},
   "outputs": [
    {
     "data": {
      "text/plain": [
       "'Murat'"
      ]
     },
     "execution_count": 56,
     "metadata": {},
     "output_type": "execute_result"
    }
   ],
   "source": [
    "örnek_liste = [\"Python\", \"13\", \"Murat\"]\n",
    "örnek_liste.pop(2)"
   ]
  },
  {
   "cell_type": "markdown",
   "metadata": {},
   "source": [
    "## **.insert()**"
   ]
  },
  {
   "cell_type": "markdown",
   "metadata": {},
   "source": [
    ">.insert() içine aldığı ilk index numarasına parantezdeki ikinci elemanı listeye ekler"
   ]
  },
  {
   "cell_type": "code",
   "execution_count": null,
   "metadata": {},
   "outputs": [
    {
     "name": "stdout",
     "output_type": "stream",
     "text": [
      "['Python', 'Pyt', '13', 'Murat']\n",
      "['Python', 'Pyt', '13', 'Murat']\n"
     ]
    }
   ],
   "source": [
    "örnek = [\"Python\", \"13\", \"Murat\"]\n",
    "örnek.insert(1, \"Pyt\")              # 1 nolu indekse \"Pyt\" ekle\n",
    "print(örnek)\n",
    "\n",
    "örnek = [\"Python\", \"13\", \"Murat\"]\n",
    "örnek.insert(-2, \"Pyt\")              # -2 nolu indekse \"Pyt\" ekle\n",
    "print(örnek)"
   ]
  },
  {
   "cell_type": "markdown",
   "metadata": {},
   "source": [
    "## **.remove()**"
   ]
  },
  {
   "cell_type": "markdown",
   "metadata": {},
   "source": [
    ">belirtilen liste elemanını listeden siler"
   ]
  },
  {
   "cell_type": "code",
   "execution_count": null,
   "metadata": {},
   "outputs": [
    {
     "name": "stdout",
     "output_type": "stream",
     "text": [
      "['Python', 'Murat']\n"
     ]
    }
   ],
   "source": [
    "örnek = [\"Python\", \"13\", \"Murat\"]\n",
    "örnek.remove(\"13\")                  # \"13\"ü sil\n",
    "print(örnek)"
   ]
  },
  {
   "cell_type": "markdown",
   "metadata": {},
   "source": [
    "## **.sort()**"
   ]
  },
  {
   "cell_type": "markdown",
   "metadata": {},
   "source": [
    ">ASCI koda göre sıralar\n",
    "\n",
    ">farklı tiplerdeki verileri sıralamaz error verir!\n",
    "\n",
    ">string verilerde büyük harfle başlayan kelimeler ASCI'de daha önce olduğu için ilk onları yazdırır"
   ]
  },
  {
   "cell_type": "code",
   "execution_count": null,
   "metadata": {},
   "outputs": [
    {
     "name": "stdout",
     "output_type": "stream",
     "text": [
      "[1, 2, 3, 4, 5]\n",
      "['Güzel', 'Yazılım', 'bir', 'cok', 'python']\n"
     ]
    }
   ],
   "source": [
    "örnek_1 = [3, 5, 1, 2, 4]\n",
    "örnek_1.sort()        \n",
    "print(örnek_1)\n",
    "\n",
    "örnek_2 = [\"python\", \"cok\", \"Güzel\", \"bir\", \"Yazılım\"]\n",
    "örnek_2.sort()        # \"13\"ü sil\n",
    "print(örnek_2)"
   ]
  },
  {
   "cell_type": "code",
   "execution_count": null,
   "metadata": {},
   "outputs": [],
   "source": [
    "list_1 = ['one', 'four', 'nine']\n",
    "list_1.sort()"
   ]
  },
  {
   "cell_type": "code",
   "execution_count": null,
   "metadata": {},
   "outputs": [
    {
     "name": "stdout",
     "output_type": "stream",
     "text": [
      "[5, 4, 3, 2, 1]\n"
     ]
    }
   ],
   "source": [
    "örnek_1 = [3, 5, 1, 2, 4]\n",
    "örnek_1.sort(reverse=True)      # Fonksiyonun parametresini ters çevirdi\n",
    "print(örnek_1)"
   ]
  },
  {
   "cell_type": "code",
   "execution_count": null,
   "metadata": {},
   "outputs": [
    {
     "name": "stdout",
     "output_type": "stream",
     "text": [
      "[False, True]\n"
     ]
    }
   ],
   "source": [
    "list_3 = [True, False]  # True= 1, False=0\n",
    "list_3.sort()           # 0, 1'den küçük olduğu için ilk sırada False yazdırır\n",
    "print(list_3)"
   ]
  },
  {
   "cell_type": "code",
   "execution_count": null,
   "metadata": {},
   "outputs": [
    {
     "name": "stdout",
     "output_type": "stream",
     "text": [
      "[[1], [4], [8]]\n"
     ]
    }
   ],
   "source": [
    "list = [[1], [8], [4]]\n",
    "list.sort()\n",
    "print(list)"
   ]
  },
  {
   "cell_type": "code",
   "execution_count": null,
   "metadata": {},
   "outputs": [
    {
     "name": "stdout",
     "output_type": "stream",
     "text": [
      "[[-8, 4], [2, 100], [13, 27]]\n"
     ]
    }
   ],
   "source": [
    "list = [[13, 27], [-8, 4], [2, 100]] # ilk elemanı baz alır\n",
    "list.sort()\n",
    "print(list)"
   ]
  },
  {
   "cell_type": "markdown",
   "metadata": {},
   "source": [
    "## **ord()**"
   ]
  },
  {
   "cell_type": "markdown",
   "metadata": {},
   "source": [
    ">ord() parantez içindeki karakterin unicode unu verir"
   ]
  },
  {
   "cell_type": "code",
   "execution_count": null,
   "metadata": {},
   "outputs": [
    {
     "data": {
      "text/plain": [
       "64"
      ]
     },
     "execution_count": 80,
     "metadata": {},
     "output_type": "execute_result"
    }
   ],
   "source": [
    "ord(\"@\")"
   ]
  },
  {
   "cell_type": "markdown",
   "metadata": {},
   "source": [
    "## **chr()**"
   ]
  },
  {
   "cell_type": "markdown",
   "metadata": {},
   "source": [
    ">ord()'un zıddı olarak"
   ]
  },
  {
   "cell_type": "code",
   "execution_count": null,
   "metadata": {},
   "outputs": [
    {
     "data": {
      "text/plain": [
       "'F'"
      ]
     },
     "execution_count": 88,
     "metadata": {},
     "output_type": "execute_result"
    }
   ],
   "source": [
    "chr(70)"
   ]
  },
  {
   "cell_type": "markdown",
   "metadata": {},
   "source": [
    "## **Tuple**"
   ]
  },
  {
   "cell_type": "code",
   "execution_count": null,
   "metadata": {},
   "outputs": [],
   "source": []
  },
  {
   "cell_type": "markdown",
   "metadata": {},
   "source": [
    "## **Dictionary**"
   ]
  },
  {
   "cell_type": "code",
   "execution_count": null,
   "metadata": {},
   "outputs": [],
   "source": []
  },
  {
   "cell_type": "markdown",
   "metadata": {},
   "source": [
    "## **Set**"
   ]
  },
  {
   "cell_type": "code",
   "execution_count": null,
   "metadata": {},
   "outputs": [],
   "source": []
  }
 ],
 "metadata": {
  "interpreter": {
   "hash": "0127ce2b7568e6364fcc574b031f73928e7aa4cd8418ab017d9e270fb3906b0d"
  },
  "kernelspec": {
   "display_name": "Python 3.10.1 64-bit",
   "language": "python",
   "name": "python3"
  },
  "language_info": {
   "codemirror_mode": {
    "name": "ipython",
    "version": 3
   },
   "file_extension": ".py",
   "mimetype": "text/x-python",
   "name": "python",
   "nbconvert_exporter": "python",
   "pygments_lexer": "ipython3",
   "version": "3.10.1"
  },
  "orig_nbformat": 4
 },
 "nbformat": 4,
 "nbformat_minor": 2
}
