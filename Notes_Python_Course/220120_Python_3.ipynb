{
 "cells": [
  {
   "cell_type": "markdown",
   "metadata": {},
   "source": [
    "<h1><p style=\"text-align: center; color:darkblue\">PYTHON DERS NOTLARI </p><h1>\n",
    "<h1><p style=\"text-align: center; color:darkblue\">3. DERS (20.01.2022) </p><h1>"
   ]
  },
  {
   "cell_type": "markdown",
   "metadata": {},
   "source": [
    "### KONULAR\n",
    "* Aritmetic Operation **+=**, ***=**, ****=**\n",
    "* İşlem Önceliği\n",
    "* , sep = \"-\"\n",
    "* Escape Sequences \\n, \\t, \\b"
   ]
  },
  {
   "cell_type": "markdown",
   "metadata": {},
   "source": [
    "### **+=**, ***=**, ****=**\n",
    "\n",
    ">(x += 3) ___ (x = x+3)\n",
    "\n",
    ">(x *\\= 3) ___ (x = x\\*3)\n",
    "\n",
    ">(x **\\= 3) ___ (x = x\\**3)\n",
    "_____"
   ]
  },
  {
   "cell_type": "code",
   "execution_count": 10,
   "metadata": {},
   "outputs": [
    {
     "name": "stdout",
     "output_type": "stream",
     "text": [
      "13\n",
      "14\n",
      "13\n",
      "26\n",
      "169\n"
     ]
    }
   ],
   "source": [
    "# ____+=_________+=________+=________+=________+=________+=________+=________+=________+=________\n",
    "\n",
    "var = 13\n",
    "print(var) \n",
    "\n",
    "var = var + 1\n",
    "print(var) \n",
    "\n",
    "#veya\n",
    "\n",
    "var = 12\n",
    "var += 1        \n",
    "print(var)           \n",
    "\n",
    "\n",
    "# ____*=____*=____*=____*=____*=____*=____*=____*=____*=____*=____*=____*=____*=____*=____*=____*=____\n",
    "\n",
    "var = 13\n",
    "var *= 2\n",
    "print(var) \n",
    "\n",
    "# ____**=____**=____**=____**=____**=____**=____**=____**=____**=____**=____**=____**=____**=____\n",
    "\n",
    "var = 13\n",
    "var **= 2\n",
    "print(var) \n"
   ]
  },
  {
   "cell_type": "markdown",
   "metadata": {},
   "source": [
    "### **İŞLEM ÖNCELİĞİ**"
   ]
  },
  {
   "cell_type": "markdown",
   "metadata": {},
   "source": [
    ">1 - parantezler **()**\n",
    "\n",
    "\n",
    ">2 - üslü sayılar ** ve kökler\n",
    "\n",
    "\n",
    ">3 - eksi sayılar **-3**\n",
    "\n",
    "\n",
    ">4 - çarpma ve bölme ***/**\n",
    "\n",
    "\n",
    ">5 - toplama ve çıkarma **+-**"
   ]
  },
  {
   "cell_type": "code",
   "execution_count": 15,
   "metadata": {},
   "outputs": [
    {
     "name": "stdout",
     "output_type": "stream",
     "text": [
      "4.0\n",
      "5.0\n"
     ]
    }
   ],
   "source": [
    "a = (1 + 3) ** (2 ** (1 * 2 / 2 ) / 2)\n",
    "print(a)\n",
    "\n",
    "#üçgenin hipotenüsü hesaplama\n",
    "\n",
    "a = 3\n",
    "b = 4\n",
    "c = (a ** 2 + b ** 2) ** 0.5\n",
    "print(c)"
   ]
  },
  {
   "cell_type": "markdown",
   "metadata": {},
   "source": [
    "### **, sep = \"-\"**"
   ]
  },
  {
   "cell_type": "markdown",
   "metadata": {},
   "source": [
    ">Değişkenler arasına tırnak içindeki karakteri boşluksuz ekler"
   ]
  },
  {
   "cell_type": "code",
   "execution_count": 1,
   "metadata": {},
   "outputs": [
    {
     "name": "stdout",
     "output_type": "stream",
     "text": [
      "Python-13-6.5-False\n"
     ]
    }
   ],
   "source": [
    "print(\"Python\", 13, 6.5, False, sep = \"-\")"
   ]
  },
  {
   "cell_type": "markdown",
   "metadata": {},
   "source": [
    "### **, end = \"\"**"
   ]
  },
  {
   "cell_type": "markdown",
   "metadata": {},
   "source": [
    ">print'in son değrinin ardından ne yapılacağını tırnak içindeki ifade belirler."
   ]
  },
  {
   "cell_type": "code",
   "execution_count": 16,
   "metadata": {},
   "outputs": [
    {
     "name": "stdout",
     "output_type": "stream",
     "text": [
      "Python 13*6.5 False\n",
      "Python 13\n",
      "6.5 False\n",
      "Python 136.5 False\n"
     ]
    }
   ],
   "source": [
    "print(\"Python\", 13, end =\"*\") \n",
    "print(6.5, False)                   #alt satıra geçilmesi gerekirken * ekleyerek birleştirdi\n",
    "\n",
    "#veya\n",
    "\n",
    "print(\"Python\", 13, end =\"\\n\")\n",
    "print(6.5, False)                   #alt satıra geçti çünkü python'da satırlar arası \\n tanımlanmıştır.\n",
    "\n",
    "#veya\n",
    "\n",
    "print(\"Python\", 13, end =\"\")        #alt satıra geçilmesi gerekirken tırnak içinde birşey olmadığı için birleştirdi\n",
    "print(6.5, False)"
   ]
  },
  {
   "cell_type": "markdown",
   "metadata": {},
   "source": [
    "### print() fonksiyonunun boşluk özelliklerine örnekler"
   ]
  },
  {
   "cell_type": "code",
   "execution_count": 23,
   "metadata": {},
   "outputs": [
    {
     "name": "stdout",
     "output_type": "stream",
     "text": [
      "Python nesne yönelimli yorumlamalı birimsel (modüler) ve etkileşimli yüksek seviyeli bir programlama dilidir.\n",
      "Python nesne yönelimli bir programlama dilidir.\n",
      "Python nesne yönelimli bir programlama dilidir.\n",
      "Python nesne yönelimli yorumlamalı birimsel (modüler) ve etkileşimli yüksek seviyeli bir programlama dilidir.\n",
      "Python nesne yönelimli yorumlamalı birimsel (modüler) ve etkileşimli yüksek seviyeli bir programlama dilidir.\n"
     ]
    }
   ],
   "source": [
    "a = \"Python\"\n",
    "b = \"nesne yönelimli\"\n",
    "c = \"yorumlamalı\"\n",
    "d = \"birimsel (modüler) ve\"\n",
    "e = \"etkileşimli yüksek seviyeli\"\n",
    "f = \"bir programlama dilidir.\"\n",
    "g = a + \" \" + b + \" \" + c + \" \" + d + \" \" + e + \" \" + f \n",
    " \n",
    "print(a, b, c, d, e, f)\n",
    "print(\"Python\", \"nesne yönelimli\", \"bir programlama dilidir.\")\n",
    "print(\"Python\" + \" \" + \"nesne yönelimli\" + \" \" + \"bir programlama dilidir.\")\n",
    "print(a + \" \" + b + \" \" + c + \" \" + d + \" \" + e + \" \" + f)\n",
    "print(g)"
   ]
  },
  {
   "cell_type": "markdown",
   "metadata": {},
   "source": [
    "### **Escape Sequences \\n, \\t, \\b**"
   ]
  },
  {
   "cell_type": "markdown",
   "metadata": {},
   "source": [
    "### \\"
   ]
  },
  {
   "cell_type": "code",
   "execution_count": null,
   "metadata": {},
   "outputs": [],
   "source": [
    "1:48:18"
   ]
  },
  {
   "cell_type": "markdown",
   "metadata": {},
   "source": [
    "**\\n** (yeni satıra geç)"
   ]
  },
  {
   "cell_type": "code",
   "execution_count": null,
   "metadata": {},
   "outputs": [],
   "source": []
  },
  {
   "cell_type": "markdown",
   "metadata": {},
   "source": [
    "**\\t** (tab yap)"
   ]
  },
  {
   "cell_type": "code",
   "execution_count": null,
   "metadata": {},
   "outputs": [],
   "source": []
  },
  {
   "cell_type": "markdown",
   "metadata": {},
   "source": [
    "**\\b** (backspace yap)"
   ]
  },
  {
   "cell_type": "code",
   "execution_count": null,
   "metadata": {},
   "outputs": [],
   "source": []
  }
 ],
 "metadata": {
  "interpreter": {
   "hash": "0127ce2b7568e6364fcc574b031f73928e7aa4cd8418ab017d9e270fb3906b0d"
  },
  "kernelspec": {
   "display_name": "Python 3.10.1 64-bit",
   "language": "python",
   "name": "python3"
  },
  "language_info": {
   "codemirror_mode": {
    "name": "ipython",
    "version": 3
   },
   "file_extension": ".py",
   "mimetype": "text/x-python",
   "name": "python",
   "nbconvert_exporter": "python",
   "pygments_lexer": "ipython3",
   "version": "3.10.1"
  },
  "orig_nbformat": 4
 },
 "nbformat": 4,
 "nbformat_minor": 2
}
