{
 "cells": [
  {
   "cell_type": "markdown",
   "metadata": {},
   "source": [
    "<h1><p style=\"text-align: center; color:darkblue\">PYTHON DERS NOTLARI </p><h1>\n",
    "<h1><p style=\"text-align: center; color:darkblue\">7. DERS (02.02.2022) </p><h1>"
   ]
  },
  {
   "cell_type": "markdown",
   "metadata": {},
   "source": [
    "## Collection Types\n",
    "___\n",
    "* List\n",
    "* Tuple\n",
    "* Dictionary\n",
    "* Set\n",
    "___"
   ]
  },
  {
   "cell_type": "markdown",
   "metadata": {},
   "source": [
    "### **Tuple**\n",
    "\n",
    ">List fonksiyonu \"iterable\" veriyi elemanlarına ayırır, soldan sağa (baştan sona) kadar gider, aralarına virgül koyar, her bir elemanı listenin elemanı haline getirir.\n",
    "\n",
    "\n",
    "\n",
    "* tuple yapısına öğe eklenemez; list yapısındaki append() metodu yoktur.\n",
    "* tuple yapısında öğe atılamaz; list yapısındaki remove() ve pop() metotları yoktur.\n",
    "* tuple içinde bir öğe aranamaz ; list yapısındaki index() metodu yoktur.\n",
    "* Döngüler tuple’da list yapısına göre daha hızlıdır.\n",
    "* Değişmeyecek veriler için tuple yapısı list yapısına göre daha uygun seçimdir.\n",
    "* Değişmezliği nedeniyle tuple, dictionary yapısı için anahtar kelimeler olarak kullanılabilir.\n",
    "* Tuple string dönüşümü için kullanabilir.\n",
    "* Tuple yapısından list yapısına ve list yapısından tuple yapısına rahatlıkla dönüşüm yapılabilir.\n",
    "_____"
   ]
  },
  {
   "cell_type": "code",
   "execution_count": null,
   "metadata": {},
   "outputs": [],
   "source": [
    "#iki şekilde liste yapılabilir__________________________________________________________________\n",
    "\n",
    "[]\n",
    "\n",
    "#veya\n",
    "\n",
    "\n",
    "list()"
   ]
  },
  {
   "cell_type": "markdown",
   "metadata": {},
   "source": [
    ">* list fonksiyonu içerisine iterable (elemanlarına ayrılabilir) veriler alır\n",
    ">* List fonksiyonu \"iterable\" veriyi elemanlarına ayırır, \n",
    ">* soldan sağa (baştan sona) kadar gider, aralarına virgül koyar, \n",
    ">* her bir elemanı listenin elemanı haline getirir.\n",
    "\n",
    "\n",
    "* Mutable and Immutable Data Types in Python\n",
    "* Some of the mutable data types :\n",
    "* list, dictionary, set and user-defined classes.\n",
    "* some of the immutable data types:\n",
    "* int, float, decimal, bool, string, tuple, and range. (edited) "
   ]
  },
  {
   "cell_type": "code",
   "execution_count": 127,
   "metadata": {},
   "outputs": [
    {
     "ename": "TypeError",
     "evalue": "'list' object is not callable",
     "output_type": "error",
     "traceback": [
      "\u001b[1;31m---------------------------------------------------------------------------\u001b[0m",
      "\u001b[1;31mTypeError\u001b[0m                                 Traceback (most recent call last)",
      "Input \u001b[1;32mIn [127]\u001b[0m, in \u001b[0;36m<module>\u001b[1;34m\u001b[0m\n\u001b[1;32m----> 1\u001b[0m \u001b[38;5;28;43mlist\u001b[39;49m\u001b[43m(\u001b[49m\u001b[38;5;124;43m\"\u001b[39;49m\u001b[38;5;124;43mPython\u001b[39;49m\u001b[38;5;124;43m\"\u001b[39;49m\u001b[43m)\u001b[49m\n",
      "\u001b[1;31mTypeError\u001b[0m: 'list' object is not callable"
     ]
    }
   ],
   "source": [
    "list(\"Python\")"
   ]
  },
  {
   "cell_type": "code",
   "execution_count": 1,
   "metadata": {},
   "outputs": [
    {
     "name": "stdout",
     "output_type": "stream",
     "text": [
      "3\n"
     ]
    }
   ],
   "source": [
    "print(len([[1, 2, 3]][0]))"
   ]
  },
  {
   "cell_type": "code",
   "execution_count": null,
   "metadata": {},
   "outputs": [],
   "source": [
    "solar = \"Earth\", \"Venus\", \"Uranus\""
   ]
  },
  {
   "cell_type": "code",
   "execution_count": 1,
   "metadata": {},
   "outputs": [
    {
     "name": "stdout",
     "output_type": "stream",
     "text": [
      "<class 'list'> [1, 4, 3, 2, 5, 6, 7, 4]\n"
     ]
    }
   ],
   "source": [
    "my_tuple = (1, 4, 3, 2, 5, 6, 7, 4)\n",
    "my_list = list(my_tuple)\n",
    "print(type(my_list), my_list)"
   ]
  },
  {
   "cell_type": "code",
   "execution_count": 2,
   "metadata": {},
   "outputs": [
    {
     "name": "stdout",
     "output_type": "stream",
     "text": [
      "('A', 'l', 'p', 's')\n"
     ]
    }
   ],
   "source": [
    "mountain = tuple('Alps')\n",
    "print(mountain)"
   ]
  },
  {
   "cell_type": "code",
   "execution_count": 4,
   "metadata": {},
   "outputs": [
    {
     "name": "stdout",
     "output_type": "stream",
     "text": [
      "(1, 2, 3, 4, 5, 6, 7, 8, 9, 10)\n"
     ]
    }
   ],
   "source": [
    "a = tuple(range(1,11))\n",
    "print(a)"
   ]
  },
  {
   "cell_type": "code",
   "execution_count": null,
   "metadata": {},
   "outputs": [],
   "source": []
  },
  {
   "cell_type": "markdown",
   "metadata": {},
   "source": [
    "### Dictionaries"
   ]
  },
  {
   "cell_type": "markdown",
   "metadata": {},
   "source": [
    "* {}"
   ]
  },
  {
   "cell_type": "markdown",
   "metadata": {},
   "source": [
    "* Dictionary'ler, veri değerlerini key: value çiftlerinde depolamak için kullanılır.\n",
    "* (Dictionaries are used to store data values in key:value pairs.)\n",
    "* Dictionary sıralı (ordered), değiştirilebilir ve duplicate'lere (tekrarlara) izin vermeyen bir collectiondır.\n",
    "* A dictionary is a collection which is ordered*, changeable and do not allow duplicates."
   ]
  },
  {
   "cell_type": "code",
   "execution_count": 10,
   "metadata": {},
   "outputs": [
    {
     "ename": "SyntaxError",
     "evalue": "expression cannot contain assignment, perhaps you meant \"==\"? (3205949526.py, line 3)",
     "output_type": "error",
     "traceback": [
      "\u001b[1;36m  Input \u001b[1;32mIn [10]\u001b[1;36m\u001b[0m\n\u001b[1;33m    dic = dict((1, 2, 3) = [1, 2, 3])\u001b[0m\n\u001b[1;37m               ^\u001b[0m\n\u001b[1;31mSyntaxError\u001b[0m\u001b[1;31m:\u001b[0m expression cannot contain assignment, perhaps you meant \"==\"?\n"
     ]
    }
   ],
   "source": [
    "dic = {(1, 2, 3) : [1, 2, 3]}\n",
    "print(dic)\n",
    "dic = dict((1, 2, 3) = [1, 2, 3])\n",
    "print(dic)"
   ]
  },
  {
   "cell_type": "code",
   "execution_count": null,
   "metadata": {},
   "outputs": [],
   "source": []
  }
 ],
 "metadata": {
  "interpreter": {
   "hash": "0127ce2b7568e6364fcc574b031f73928e7aa4cd8418ab017d9e270fb3906b0d"
  },
  "kernelspec": {
   "display_name": "Python 3.10.1 64-bit",
   "language": "python",
   "name": "python3"
  },
  "language_info": {
   "codemirror_mode": {
    "name": "ipython",
    "version": 3
   },
   "file_extension": ".py",
   "mimetype": "text/x-python",
   "name": "python",
   "nbconvert_exporter": "python",
   "pygments_lexer": "ipython3",
   "version": "3.10.1"
  },
  "orig_nbformat": 4
 },
 "nbformat": 4,
 "nbformat_minor": 2
}
