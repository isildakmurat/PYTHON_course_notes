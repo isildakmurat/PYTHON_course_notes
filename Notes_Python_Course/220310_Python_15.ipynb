{
 "cells": [
  {
   "cell_type": "code",
   "execution_count": 1,
   "metadata": {},
   "outputs": [
    {
     "name": "stdout",
     "output_type": "stream",
     "text": [
      "1\n"
     ]
    }
   ],
   "source": [
    "print(\"1\")"
   ]
  },
  {
   "cell_type": "code",
   "execution_count": 7,
   "metadata": {},
   "outputs": [
    {
     "name": "stdout",
     "output_type": "stream",
     "text": [
      "True\n"
     ]
    }
   ],
   "source": [
    "names = [\"susan\", \"tom\", \"False\"]\n",
    "print(all(names))"
   ]
  },
  {
   "cell_type": "code",
   "execution_count": 8,
   "metadata": {},
   "outputs": [
    {
     "name": "stdout",
     "output_type": "stream",
     "text": [
      "False\n"
     ]
    }
   ],
   "source": [
    "names = [\"susan\", \"tom\", \"False\", False]\n",
    "print(all(names))"
   ]
  },
  {
   "cell_type": "code",
   "execution_count": 9,
   "metadata": {},
   "outputs": [
    {
     "name": "stdout",
     "output_type": "stream",
     "text": [
      "12\n"
     ]
    }
   ],
   "source": [
    "def üçgeninçevresi(x, y, z):\n",
    "    print(x+y+z)\n",
    "    \n",
    "üçgeninçevresi(3, 4, 5)"
   ]
  },
  {
   "cell_type": "code",
   "execution_count": 10,
   "metadata": {},
   "outputs": [
    {
     "name": "stdout",
     "output_type": "stream",
     "text": [
      "7\n"
     ]
    }
   ],
   "source": [
    "def add(x, y):\n",
    "    print(x+y)\n",
    "\n",
    "add(3,4)"
   ]
  },
  {
   "cell_type": "code",
   "execution_count": 33,
   "metadata": {},
   "outputs": [
    {
     "name": "stdout",
     "output_type": "stream",
     "text": [
      "7\n"
     ]
    }
   ],
   "source": [
    "def calculator(x, y, z):\n",
    "    if z == \"+\":\n",
    "        print(x+y)\n",
    "    elif z == \"-\":\n",
    "        print(x-y)\n",
    "    elif z == \"*\":\n",
    "        print(x*y)\n",
    "    elif z == \"/\":\n",
    "        print(x/y)\n",
    "    else:\n",
    "        print(\"Enter a valid operations\")\n",
    "\n",
    "calculator(3, 4, \"+\")"
   ]
  },
  {
   "cell_type": "code",
   "execution_count": 25,
   "metadata": {},
   "outputs": [
    {
     "data": {
      "text/plain": [
       "7"
      ]
     },
     "execution_count": 25,
     "metadata": {},
     "output_type": "execute_result"
    }
   ],
   "source": [
    "text = input()\n",
    "nokta = \".\"\n",
    "\n",
    "def kaç_cümle(text, nokta) :\n",
    "    count = 0\n",
    "    newtext = list(text)\n",
    "    for i in newtext:\n",
    "        if (i == nokta):\n",
    "            count = count + 1\n",
    "    return count\n",
    "    \n",
    "kaç_cümle(text, nokta)"
   ]
  },
  {
   "cell_type": "code",
   "execution_count": 53,
   "metadata": {},
   "outputs": [
    {
     "name": "stdout",
     "output_type": "stream",
     "text": [
      "M\n",
      "u\n",
      "r\n",
      "a\n",
      "t\n"
     ]
    }
   ],
   "source": [
    "for i in input(\"Metin\"):\n",
    "    i.count(\".\")\n",
    "    print(i)"
   ]
  },
  {
   "cell_type": "code",
   "execution_count": 55,
   "metadata": {},
   "outputs": [],
   "source": [
    "def countX(lst, x): \n",
    "    count = 0\n",
    "    for ele in lst: \n",
    "        if (ele == x): \n",
    "            count = count + 1\n",
    "    return count"
   ]
  },
  {
   "cell_type": "code",
   "execution_count": 56,
   "metadata": {},
   "outputs": [],
   "source": [
    "lst = [1, 2, 3, 5]"
   ]
  },
  {
   "cell_type": "code",
   "execution_count": 58,
   "metadata": {},
   "outputs": [
    {
     "data": {
      "text/plain": [
       "1"
      ]
     },
     "execution_count": 58,
     "metadata": {},
     "output_type": "execute_result"
    }
   ],
   "source": [
    "countX(lst, 5)"
   ]
  },
  {
   "cell_type": "code",
   "execution_count": 6,
   "metadata": {},
   "outputs": [
    {
     "ename": "NameError",
     "evalue": "name 'count' is not defined",
     "output_type": "error",
     "traceback": [
      "\u001b[1;31m---------------------------------------------------------------------------\u001b[0m",
      "\u001b[1;31mNameError\u001b[0m                                 Traceback (most recent call last)",
      "\u001b[1;32mc:\\Users\\murat\\Google Drive\\6 - DEV\\Pyhton study\\Python_Course\\220310_Python_15.ipynb Cell 12'\u001b[0m in \u001b[0;36m<module>\u001b[1;34m\u001b[0m\n\u001b[0;32m      <a href='vscode-notebook-cell:/c%3A/Users/murat/Google%20Drive/6%20-%20DEV/Pyhton%20study/Python_Course/220310_Python_15.ipynb#ch0000011?line=1'>2</a>\u001b[0m b \u001b[39m=\u001b[39m \u001b[39mlist\u001b[39m(a)\n\u001b[0;32m      <a href='vscode-notebook-cell:/c%3A/Users/murat/Google%20Drive/6%20-%20DEV/Pyhton%20study/Python_Course/220310_Python_15.ipynb#ch0000011?line=3'>4</a>\u001b[0m \u001b[39mfor\u001b[39;00m i \u001b[39min\u001b[39;00m b :\n\u001b[1;32m----> <a href='vscode-notebook-cell:/c%3A/Users/murat/Google%20Drive/6%20-%20DEV/Pyhton%20study/Python_Course/220310_Python_15.ipynb#ch0000011?line=4'>5</a>\u001b[0m     \u001b[39mprint\u001b[39m(count(i))\n",
      "\u001b[1;31mNameError\u001b[0m: name 'count' is not defined"
     ]
    }
   ],
   "source": [
    "a = input(\"\")\n",
    "b = list(a)\n",
    "\n",
    "for i in b :\n",
    "    print(i)\n"
   ]
  }
 ],
 "metadata": {
  "interpreter": {
   "hash": "0127ce2b7568e6364fcc574b031f73928e7aa4cd8418ab017d9e270fb3906b0d"
  },
  "kernelspec": {
   "display_name": "Python 3.10.1 64-bit",
   "language": "python",
   "name": "python3"
  },
  "language_info": {
   "codemirror_mode": {
    "name": "ipython",
    "version": 3
   },
   "file_extension": ".py",
   "mimetype": "text/x-python",
   "name": "python",
   "nbconvert_exporter": "python",
   "pygments_lexer": "ipython3",
   "version": "3.10.1"
  },
  "orig_nbformat": 4
 },
 "nbformat": 4,
 "nbformat_minor": 2
}
