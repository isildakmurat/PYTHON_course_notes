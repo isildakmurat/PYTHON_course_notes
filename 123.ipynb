{
 "cells": [
  {
   "cell_type": "code",
   "execution_count": 1,
   "metadata": {},
   "outputs": [
    {
     "name": "stdout",
     "output_type": "stream",
     "text": [
      "['Armut, gÃ¼lgiller familyasÄ±nÄ±n Amygdaloideae alt familyasÄ±nda sÄ±nÄ±flanan Pyrus cinsine ait aÄŸaÃ§ nitelikli bitki tÃ¼rleriyle, bu tÃ¼rlerden bazÄ±larÄ±nÄ±n aynÄ± adlÄ± pomaceous yenilebilir meyvesidir. Armut dÃ¼nya Ã§apÄ±nda Ã¼retilen ve tÃ¼ketilen, aÄŸaÃ§ta yetiÅŸen ve yazÄ±n sonundan ekim ayÄ±na kadar hasat edilen meyvedir.']\n"
     ]
    }
   ],
   "source": [
    "file = open ('words.txt', 'r')\n",
    "lines= list (file)\n",
    "file_contents = file.read()\n",
    "print(lines)\n",
    "file.close()"
   ]
  },
  {
   "cell_type": "code",
   "execution_count": null,
   "metadata": {},
   "outputs": [],
   "source": [
    "file = open ('words.txt', 'r')\n",
    "lines= list (file)\n",
    "file_contents = file.read()\n",
    "print(lines)\n",
    "file.close()\n",
    "ords_all = 0\n",
    "for line in lines:\n",
    "    words_all = words_all + len(line.split())\n",
    "    print ('Total words:   ', words_all)\n",
    "full_stops = 0\n",
    "for stop in lines:\n",
    "    full_stops = full_stops + len(stop.split('.'))\n",
    "print ('total stops:    ', full_stops)"
   ]
  },
  {
   "cell_type": "code",
   "execution_count": 3,
   "metadata": {},
   "outputs": [
    {
     "ename": "NameError",
     "evalue": "name 'words_all' is not defined",
     "output_type": "error",
     "traceback": [
      "\u001b[1;31m---------------------------------------------------------------------------\u001b[0m",
      "\u001b[1;31mNameError\u001b[0m                                 Traceback (most recent call last)",
      "\u001b[1;32mc:\\Users\\murat\\Google Drive\\6 - DEV\\Pyhton study\\123.ipynb Cell 3'\u001b[0m in \u001b[0;36m<cell line: 3>\u001b[1;34m()\u001b[0m\n\u001b[0;32m      <a href='vscode-notebook-cell:/c%3A/Users/murat/Google%20Drive/6%20-%20DEV/Pyhton%20study/123.ipynb#ch0000002?line=1'>2</a>\u001b[0m ords_all \u001b[39m=\u001b[39m \u001b[39m0\u001b[39m\n\u001b[0;32m      <a href='vscode-notebook-cell:/c%3A/Users/murat/Google%20Drive/6%20-%20DEV/Pyhton%20study/123.ipynb#ch0000002?line=2'>3</a>\u001b[0m \u001b[39mfor\u001b[39;00m line \u001b[39min\u001b[39;00m lines:\n\u001b[1;32m----> <a href='vscode-notebook-cell:/c%3A/Users/murat/Google%20Drive/6%20-%20DEV/Pyhton%20study/123.ipynb#ch0000002?line=3'>4</a>\u001b[0m     words_all \u001b[39m=\u001b[39m words_all \u001b[39m+\u001b[39m \u001b[39mlen\u001b[39m(line\u001b[39m.\u001b[39msplit())\n\u001b[0;32m      <a href='vscode-notebook-cell:/c%3A/Users/murat/Google%20Drive/6%20-%20DEV/Pyhton%20study/123.ipynb#ch0000002?line=4'>5</a>\u001b[0m     \u001b[39mprint\u001b[39m (\u001b[39m'\u001b[39m\u001b[39mTotal words:   \u001b[39m\u001b[39m'\u001b[39m, words_all)\n\u001b[0;32m      <a href='vscode-notebook-cell:/c%3A/Users/murat/Google%20Drive/6%20-%20DEV/Pyhton%20study/123.ipynb#ch0000002?line=5'>6</a>\u001b[0m     full_stops \u001b[39m=\u001b[39m \u001b[39m0\u001b[39m\n",
      "\u001b[1;31mNameError\u001b[0m: name 'words_all' is not defined"
     ]
    }
   ],
   "source": [
    "line = [\"aasd\", \"asda\", \"123\", \"dfj.\"]\n",
    "ords_all = 0\n",
    "for line in lines:\n",
    "    words_all = words_all + len(line.split())\n",
    "    print ('Total words:   ', words_all)\n",
    "    full_stops = 0\n",
    "for stop in lines:\n",
    "    full_stops = full_stops + len(stop.split('.'))\n",
    "print ('total stops:    ', full_stops)"
   ]
  },
  {
   "cell_type": "code",
   "execution_count": 7,
   "metadata": {},
   "outputs": [
    {
     "ename": "AttributeError",
     "evalue": "'list' object has no attribute 'split'",
     "output_type": "error",
     "traceback": [
      "\u001b[1;31m---------------------------------------------------------------------------\u001b[0m",
      "\u001b[1;31mAttributeError\u001b[0m                            Traceback (most recent call last)",
      "\u001b[1;32mc:\\Users\\murat\\Google Drive\\6 - DEV\\Pyhton study\\123.ipynb Cell 4'\u001b[0m in \u001b[0;36m<cell line: 2>\u001b[1;34m()\u001b[0m\n\u001b[0;32m      <a href='vscode-notebook-cell:/c%3A/Users/murat/Google%20Drive/6%20-%20DEV/Pyhton%20study/123.ipynb#ch0000003?line=0'>1</a>\u001b[0m line \u001b[39m=\u001b[39m [\u001b[39m\"\u001b[39m\u001b[39maasd\u001b[39m\u001b[39m\"\u001b[39m]\n\u001b[1;32m----> <a href='vscode-notebook-cell:/c%3A/Users/murat/Google%20Drive/6%20-%20DEV/Pyhton%20study/123.ipynb#ch0000003?line=1'>2</a>\u001b[0m line\u001b[39m.\u001b[39;49msplit()\n",
      "\u001b[1;31mAttributeError\u001b[0m: 'list' object has no attribute 'split'"
     ]
    }
   ],
   "source": [
    "line = [\"aasd\"]\n",
    "line.split()"
   ]
  },
  {
   "cell_type": "code",
   "execution_count": null,
   "metadata": {},
   "outputs": [],
   "source": []
  }
 ],
 "metadata": {
  "interpreter": {
   "hash": "1e0e9c6fa50239b296d741002312a367832c358bdded32aabb2575ff59aa9be4"
  },
  "kernelspec": {
   "display_name": "Python 3.9.10 64-bit (windows store)",
   "language": "python",
   "name": "python3"
  },
  "language_info": {
   "codemirror_mode": {
    "name": "ipython",
    "version": 3
   },
   "file_extension": ".py",
   "mimetype": "text/x-python",
   "name": "python",
   "nbconvert_exporter": "python",
   "pygments_lexer": "ipython3",
   "version": "3.9.10"
  },
  "orig_nbformat": 4
 },
 "nbformat": 4,
 "nbformat_minor": 2
}
