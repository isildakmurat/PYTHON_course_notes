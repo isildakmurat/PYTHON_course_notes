{
 "cells": [
  {
   "cell_type": "markdown",
   "metadata": {},
   "source": [
    "# Question"
   ]
  },
  {
   "cell_type": "markdown",
   "metadata": {},
   "source": [
    "### Given a positive integer N, The task is to write a Python program to check if the number is prime or not."
   ]
  },
  {
   "cell_type": "markdown",
   "metadata": {},
   "source": [
    "# Solutions"
   ]
  },
  {
   "cell_type": "code",
   "execution_count": 38,
   "metadata": {},
   "outputs": [
    {
     "name": "stdout",
     "output_type": "stream",
     "text": [
      "13 is a prime number\n"
     ]
    }
   ],
   "source": [
    "number = int(input(\"Write a number: \"))\n",
    "\n",
    "if number == 1:\n",
    "    result = True\n",
    "elif number == 0:\n",
    "    result = False\n",
    "else:\n",
    "    for i in range(2, number):\n",
    "        if number % i != 0:\n",
    "            result = True\n",
    "        else:\n",
    "            result = False\n",
    "            break\n",
    "if result == True :\n",
    "    print(number, \"is a prime number\")\n",
    "else :\n",
    "    print(number, \"is not a prime number\")"
   ]
  },
  {
   "cell_type": "code",
   "execution_count": 43,
   "metadata": {},
   "outputs": [
    {
     "name": "stdout",
     "output_type": "stream",
     "text": [
      "14 is not a prime number\n"
     ]
    }
   ],
   "source": [
    "number = int(input(\"Write a number: \"))\n",
    "result = False\n",
    "if number > 1 :\n",
    "    for i in range(2, number):\n",
    "        if (number % i) == 0:\n",
    "            result = True\n",
    "            break\n",
    "if result:\n",
    "    print(number, \"is not a prime number\")\n",
    "else:\n",
    "    print(number, \"is a prime number\")"
   ]
  },
  {
   "cell_type": "code",
   "execution_count": 49,
   "metadata": {},
   "outputs": [
    {
     "name": "stdout",
     "output_type": "stream",
     "text": [
      "False\n"
     ]
    }
   ],
   "source": [
    "number = int(input(\"Write a number: \"))\n",
    "\n",
    "for i in range(2, number):\n",
    "    if number / i == i:\n",
    "        break\n",
    "if True:    \n",
    "    print(False)"
   ]
  },
  {
   "cell_type": "code",
   "execution_count": null,
   "metadata": {},
   "outputs": [],
   "source": [
    "number = int(input(\"Write a number: \"))\n",
    "result = False\n",
    "if number > 1 :\n",
    "    for i in range(2, number):\n",
    "        if (number % i) == 0:\n",
    "            result = True\n",
    "            break\n",
    "if result:\n",
    "    print(number, \"is not a prime number\")\n",
    "else:\n",
    "    print(number, \"is a prime number\")"
   ]
  },
  {
   "cell_type": "code",
   "execution_count": 108,
   "metadata": {},
   "outputs": [
    {
     "ename": "SyntaxError",
     "evalue": "invalid syntax (4126162356.py, line 1)",
     "output_type": "error",
     "traceback": [
      "\u001b[1;36m  Input \u001b[1;32mIn [108]\u001b[1;36m\u001b[0m\n\u001b[1;33m    pNumber = (lambda number : [i for i in range(2, number) if number % i == 0] if True)\u001b[0m\n\u001b[1;37m                                                                                       ^\u001b[0m\n\u001b[1;31mSyntaxError\u001b[0m\u001b[1;31m:\u001b[0m invalid syntax\n"
     ]
    }
   ],
   "source": [
    "pNumber = (lambda number : [i for i in range(2, number) if number % i == 0])\n",
    "print(pNumber(13))"
   ]
  },
  {
   "cell_type": "code",
   "execution_count": 10,
   "metadata": {},
   "outputs": [
    {
     "ename": "SyntaxError",
     "evalue": "invalid syntax (3298363500.py, line 2)",
     "output_type": "error",
     "traceback": [
      "\u001b[1;36m  Input \u001b[1;32mIn [10]\u001b[1;36m\u001b[0m\n\u001b[1;33m    print((lambda number : [i for i in range(2, number) if number % i == 0])(number))\u001b[0m\n\u001b[1;37m    ^\u001b[0m\n\u001b[1;31mSyntaxError\u001b[0m\u001b[1;31m:\u001b[0m invalid syntax\n"
     ]
    }
   ],
   "source": [
    "number = int(input(\"Write a number: \")\n",
    "print((lambda number : [i for i in range(2, number) if number % i == 0])(number))"
   ]
  },
  {
   "cell_type": "code",
   "execution_count": 8,
   "metadata": {},
   "outputs": [
    {
     "ename": "SyntaxError",
     "evalue": "invalid syntax (2043142773.py, line 2)",
     "output_type": "error",
     "traceback": [
      "\u001b[1;36m  Input \u001b[1;32mIn [8]\u001b[1;36m\u001b[0m\n\u001b[1;33m    a = lambda number : [i if number % i == 0 else False for i in range(2, number)]\u001b[0m\n\u001b[1;37m    ^\u001b[0m\n\u001b[1;31mSyntaxError\u001b[0m\u001b[1;31m:\u001b[0m invalid syntax\n"
     ]
    }
   ],
   "source": [
    "number = int(input(\"Write a number: \")\n",
    "a = lambda number : [i if number % i == 0 else False for i in range(2, number)]\n",
    "print(a(number))"
   ]
  },
  {
   "cell_type": "code",
   "execution_count": null,
   "metadata": {},
   "outputs": [],
   "source": []
  }
 ],
 "metadata": {
  "interpreter": {
   "hash": "1e0e9c6fa50239b296d741002312a367832c358bdded32aabb2575ff59aa9be4"
  },
  "kernelspec": {
   "display_name": "Python 3.9.12 64-bit (windows store)",
   "language": "python",
   "name": "python3"
  },
  "language_info": {
   "codemirror_mode": {
    "name": "ipython",
    "version": 3
   },
   "file_extension": ".py",
   "mimetype": "text/x-python",
   "name": "python",
   "nbconvert_exporter": "python",
   "pygments_lexer": "ipython3",
   "version": "3.9.12"
  },
  "orig_nbformat": 4
 },
 "nbformat": 4,
 "nbformat_minor": 2
}
