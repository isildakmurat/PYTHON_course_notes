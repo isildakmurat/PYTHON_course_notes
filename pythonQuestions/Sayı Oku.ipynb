{
 "cells": [
  {
   "cell_type": "markdown",
   "metadata": {},
   "source": [
    "Write a program that takes a maximum two-digit (1-99) number from the user and finds the pronunciation of that number. For example:\n",
    "İnput:97\n",
    "Output:Doksan Yedi "
   ]
  },
  {
   "cell_type": "code",
   "execution_count": 3,
   "metadata": {},
   "outputs": [
    {
     "ename": "SyntaxError",
     "evalue": "cannot assign to expression here. Maybe you meant '==' instead of '='? (4200577859.py, line 24)",
     "output_type": "error",
     "traceback": [
      "\u001b[1;36m  Input \u001b[1;32mIn [3]\u001b[1;36m\u001b[0m\n\u001b[1;33m    sayı - sayı%10 = onlar.keys()\u001b[0m\n\u001b[1;37m    ^\u001b[0m\n\u001b[1;31mSyntaxError\u001b[0m\u001b[1;31m:\u001b[0m cannot assign to expression here. Maybe you meant '==' instead of '='?\n"
     ]
    }
   ],
   "source": [
    "sayı = int(input(\"Sayı giriniz: \"))\n",
    "birler = {1 : \"bir\", \n",
    "          2 : \"iki\", \n",
    "          3 : \"üç\", \n",
    "          4: \"dört\", \n",
    "          5 : \"beş\", \n",
    "          6 : \"altı\", \n",
    "          7 : \"yedi\", \n",
    "          8 : \"sekiz\", \n",
    "          9 : \"dokuz\"}\n",
    "\n",
    "onlar = {1 : \"on\", \n",
    "          2 : \"yirmi\", \n",
    "          3 : \"otuz\", \n",
    "          4 : \"kırk\", \n",
    "          5 : \"elli\", \n",
    "          6 : \"altmış\", \n",
    "          7 : \"yetmiş\", \n",
    "          8 : \"seksen\", \n",
    "          9 : \"doksan\"}\n",
    "\n",
    "sayı % 10 \n",
    "a = birler.keys()\n",
    "sayı - sayı%10 = onlar.keys()\n"
   ]
  },
  {
   "cell_type": "code",
   "execution_count": 1,
   "metadata": {},
   "outputs": [
    {
     "ename": "ValueError",
     "evalue": "invalid literal for int() with base 10: ''",
     "output_type": "error",
     "traceback": [
      "\u001b[1;31m---------------------------------------------------------------------------\u001b[0m",
      "\u001b[1;31mValueError\u001b[0m                                Traceback (most recent call last)",
      "\u001b[1;32mc:\\Users\\murat\\Google Drive\\6 - DEV\\Pyhton study\\Sorular\\Sayı Oku.ipynb Cell 3'\u001b[0m in \u001b[0;36m<module>\u001b[1;34m\u001b[0m\n\u001b[1;32m----> <a href='vscode-notebook-cell:/c%3A/Users/murat/Google%20Drive/6%20-%20DEV/Pyhton%20study/Sorular/Say%C4%B1%20Oku.ipynb#ch0000002?line=0'>1</a>\u001b[0m sayı \u001b[39m=\u001b[39m \u001b[39mint\u001b[39;49m(\u001b[39minput\u001b[39;49m(\u001b[39m\"\u001b[39;49m\u001b[39mSayı girin: \u001b[39;49m\u001b[39m\"\u001b[39;49m))\n\u001b[0;32m      <a href='vscode-notebook-cell:/c%3A/Users/murat/Google%20Drive/6%20-%20DEV/Pyhton%20study/Sorular/Say%C4%B1%20Oku.ipynb#ch0000002?line=1'>2</a>\u001b[0m sayı_birler \u001b[39m=\u001b[39m sayı\u001b[39m%\u001b[39m\u001b[39m10\u001b[39m\n\u001b[0;32m      <a href='vscode-notebook-cell:/c%3A/Users/murat/Google%20Drive/6%20-%20DEV/Pyhton%20study/Sorular/Say%C4%B1%20Oku.ipynb#ch0000002?line=2'>3</a>\u001b[0m sayı_onlar \u001b[39m=\u001b[39m (sayı \u001b[39m-\u001b[39m sayı\u001b[39m%\u001b[39m\u001b[39m10\u001b[39m)\u001b[39m/\u001b[39m\u001b[39m10\u001b[39m\n",
      "\u001b[1;31mValueError\u001b[0m: invalid literal for int() with base 10: ''"
     ]
    }
   ],
   "source": [
    "sayı = int(input(\"Sayı girin: \"))\n",
    "sayı_birler = sayı%10\n",
    "sayı_onlar = (sayı - sayı%10)/10\n",
    "birler = [\"\", \"bir\", \"iki\", \"üç\", \"dört\", \"beş\", \"altı\", \"yedi\", \"sekiz\", \"dokuz\"]\n",
    "onlar = [\"\", \"on\", \"yirmi\", \"otuz\", \"kırk\", \"elli\", \"altmış\", \"yemiş\", \"seksen\", \"doksan\"]\n",
    "print(onlar[int(sayı_onlar)], birler[int(sayı_birler)])\n"
   ]
  },
  {
   "cell_type": "code",
   "execution_count": 59,
   "metadata": {},
   "outputs": [
    {
     "name": "stdout",
     "output_type": "stream",
     "text": [
      "Enter your 2 digit number:  15\n",
      "On Beş\n"
     ]
    }
   ],
   "source": [
    "sayı = int(input(\"Enter your 2 digit number: \"))\n",
    "sayı_birler = sayı%10\n",
    "sayı_onlar = (sayı - sayı%10)/10\n",
    "birler = [\"\", \"Bir\", \"İki\", \"Üç\", \"Dört\", \"Beş\", \"Altı\", \"Yedi\", \"Sekiz\", \"Dokuz\"]\n",
    "onlar = [\"\", \"On\", \"Yirmi\", \"Otuz\", \"Kırk\", \"Elli\", \"Altmış\", \"Yetmiş\", \"Seksen\", \"Doksan\"]\n",
    "print(\"Enter your 2 digit number: \", sayı)\n",
    "print(onlar[int(sayı_onlar)], birler[int(sayı_birler)])"
   ]
  },
  {
   "cell_type": "code",
   "execution_count": 79,
   "metadata": {},
   "outputs": [
    {
     "name": "stdout",
     "output_type": "stream",
     "text": [
      "Enter your 2 digit number:  85\n",
      "Seksen Beş\n"
     ]
    }
   ],
   "source": [
    "sayı = int(input(\"Enter your 2 digit number: \"))\n",
    "birler = {0 : \"\",\n",
    "          1 : \"Bir\", \n",
    "          2 : \"İki\", \n",
    "          3 : \"Üç\", \n",
    "          4: \"Dört\", \n",
    "          5 : \"Beş\", \n",
    "          6 : \"Altı\", \n",
    "          7 : \"Yedi\", \n",
    "          8 : \"Sekiz\", \n",
    "          9 : \"Dokuz\"}\n",
    "onlar = { 0 : \"\",\n",
    "          1 : \"On\", \n",
    "          2 : \"Yirmi\", \n",
    "          3 : \"Otuz\", \n",
    "          4 : \"Kırk\", \n",
    "          5 : \"Elli\", \n",
    "          6 : \"Altmış\", \n",
    "          7 : \"Yetmiş\", \n",
    "          8 : \"Seksen\", \n",
    "          9 : \"Doksan\"}\n",
    "sayı_birler = sayı % 10\n",
    "sayı_onlar = (sayı - sayı%10) / 10\n",
    "print(\"Enter your 2 digit number: \", sayı)\n",
    "print(((onlar[int(sayı_onlar)])), (birler[int(sayı_birler)]))"
   ]
  },
  {
   "cell_type": "code",
   "execution_count": 81,
   "metadata": {},
   "outputs": [
    {
     "name": "stdout",
     "output_type": "stream",
     "text": [
      "Enter your 2 digit number:  80\n",
      "Seksen \n"
     ]
    }
   ],
   "source": [
    "sayı = int(input(\"Enter your 2 digit number: \"))\n",
    "birler = {0 : \"\", 1 : \"Bir\", 2 : \"İki\", 3 : \"Üç\", 4: \"Dört\", 5 : \"Beş\", 6 : \"Altı\", 7 : \"Yedi\", 8 : \"Sekiz\", 9 : \"Dokuz\"}\n",
    "onlar = { 0 : \"\", 1 : \"On\", 2 : \"Yirmi\", 3 : \"Otuz\", 4 : \"Kırk\", 5 : \"Elli\", 6 : \"Altmış\", 7 : \"Yetmiş\", 8 : \"Seksen\", 9 : \"Doksan\"}\n",
    "sayı_birler = sayı % 10\n",
    "sayı_onlar = (sayı - sayı%10) / 10\n",
    "print(\"Enter your 2 digit number: \", sayı)\n",
    "print(((onlar[int(sayı_onlar)])), (birler[int(sayı_birler)]))"
   ]
  },
  {
   "cell_type": "code",
   "execution_count": 24,
   "metadata": {},
   "outputs": [
    {
     "name": "stdout",
     "output_type": "stream",
     "text": [
      "Yazmış olduğunuz sayının yazılışı:  On Üç\n"
     ]
    }
   ],
   "source": [
    "onlar = [\"Sıfır \",\"On \",\"Yirmi \",\"Otuz \",\"Kırk \",\"Elli \", \"Altmış \" ,\"Yetmiş \" , \"Seksen \" , \"Doksan \"]\n",
    "birler = [\"\",\"Bir\",\"İki\", \"Üç\" , \"Dört\" ,\"Beş\" ,\"Altı\" ,\"Yedi\", \"Sekiz\", \"Dokuz\"]\n",
    "sayı = str(input(\"İki Basamaklı Bir Sayı Giriniz (01, 99) : \"))\n",
    "print(\"Yazmış olduğunuz sayının yazılışı:  \",onlar[int(sayı[0])],birler[int(sayı[1])], sep=\"\")"
   ]
  },
  {
   "cell_type": "code",
   "execution_count": 16,
   "metadata": {},
   "outputs": [
    {
     "name": "stdout",
     "output_type": "stream",
     "text": [
      "On Üç\n"
     ]
    }
   ],
   "source": [
    "number = int(input(\"Enter 2-digit number: \"))\n",
    "\n",
    "birler = (\" \",\"bir\",\"iki\",\"üç\",\"dört\",\"beş\",\"altı\",\"yedi\",\"sekiz\",\"dokuz\")\n",
    "onlar =(\"boş\", \"on\", \"yirmi\",\"otuz\",\"kırk\",\"elli\",\"altmış\",\"yetmiş\",\"seksen\",\"doksan\")\n",
    "\n",
    "number_ = onlar[int(number / 10)].capitalize(), birler[number % 10].capitalize()\n",
    "print(number_[0] + \" \" + number_[1])"
   ]
  },
  {
   "cell_type": "code",
   "execution_count": 14,
   "metadata": {},
   "outputs": [
    {
     "name": "stdout",
     "output_type": "stream",
     "text": [
      "on üc\n"
     ]
    }
   ],
   "source": [
    "numbers = {\"one_digit_numbers\":{1:\"bir\", 2:\"iki\", 3:\"üc\", 4:\"dört\", 5:\"bes\", 6:\"alti\", 7:\"yedi\", 8: \"sekiz\", 9:\"dokuz\"},\n",
    "           \"two_digit_numbers\":{1:\"on\", 2:\"yirmi\", 3:\"otuz\", 4:\"kirk\", 5:\"elli\", 6:\"altmis\", 7:\"yetmis\", 8:\"seksen\", 9:\"doksan\"}\n",
    "          }\n",
    "num = int(input(\"Enter a number between 1-99: \"))\n",
    "a = num//10\n",
    "b = num%10\n",
    "print(\"{} {}\".format(numbers[\"two_digit_numbers\"][a],numbers[\"one_digit_numbers\"][b]))"
   ]
  },
  {
   "cell_type": "code",
   "execution_count": 5,
   "metadata": {},
   "outputs": [
    {
     "name": "stdout",
     "output_type": "stream",
     "text": [
      "87 Eighty Seven\n",
      "Read here (11-19) 87 Seveeen\n"
     ]
    }
   ],
   "source": [
    "two_digit_num = int(input(\"most two digit number:\"))\n",
    "ones_pronounciaiton_dict = {0 : \"\", 1 : \"One\", 2 : \"Two\", 3 : \"Three\", 4 : \"Four\", 5 : \"Five\",\\\n",
    "     6 : \"Six\", 7 : \"Seven\", 8 : \"Eight\", 9 : \"Nine\"}\n",
    "tens_pronounciation_dict = {0 : \"\", 1 : \"Ten\", 2 : \"Twenty\", 3 : \"Thirty\", 4 : \"Fourthy\", 5 : \"Fifty\",\\\n",
    "     6 : \"Sixty\", 7 : \"Seventy\", 8 : \"Eighty\", 9 : \"Ninety\"}\n",
    "\n",
    "tens_digit = two_digit_num // 10\n",
    "ones_digit = two_digit_num % 10\n",
    "print(two_digit_num, tens_pronounciation_dict[tens_digit] + \" \" + ones_pronounciaiton_dict[ones_digit])\n",
    "if two_digit_num == 11:\n",
    "    print(\"eleven\")\n",
    "elif two_digit_num == 12:\n",
    "    print(\"twelve\")\n",
    "else:\n",
    "    print(\"Read here (11-19)\", two_digit_num, tens_pronounciation_dict[ones_digit][0:4] + \"een\")"
   ]
  },
  {
   "cell_type": "code",
   "execution_count": 12,
   "metadata": {},
   "outputs": [
    {
     "name": "stdout",
     "output_type": "stream",
     "text": [
      "['1', '3']\n",
      "onüç\n"
     ]
    }
   ],
   "source": [
    "number = input(\"Enter a two-digit number: \")\n",
    "list_number = list(number)\n",
    "print(list_number)\n",
    "dict_number = {\n",
    "    0 : {\n",
    "          \"1\" : \"on\",\n",
    "          \"2\" : \"yirmi\",\n",
    "          \"3\" : \"otuz\",\n",
    "          \"4\" : \"kırk\",\n",
    "          \"5\" : \"elli\",\n",
    "          \"6\" : \"altmış\",\n",
    "          \"7\" : \"yetmiş\",\n",
    "          \"8\" : \"seksen\",\n",
    "          \"9\" : \"doksan\"\n",
    "    },\n",
    "    1 : {\n",
    "        \"0\" : \"\",\n",
    "        \"1\" : \"bir\",\n",
    "        \"2\" : \"iki\",\n",
    "        \"3\" : \"üç\",\n",
    "        \"4\" : \"dört\",\n",
    "        \"5\" : \"beş\",\n",
    "        \"6\" : \"altı\",\n",
    "        \"7\" : \"yedi\",\n",
    "        \"8\" : \"sekiz\",\n",
    "        \"9\" : \"dokuz\"\n",
    "            }\n",
    "}\n",
    "print(f\"{dict_number[0][list_number[0]]}{dict_number[1][list_number[1]]}\")"
   ]
  },
  {
   "cell_type": "code",
   "execution_count": 9,
   "metadata": {},
   "outputs": [
    {
     "name": "stdout",
     "output_type": "stream",
     "text": [
      " beş\n"
     ]
    }
   ],
   "source": [
    "sayı = (int(input(\"Sayı gir: \")))\n",
    "birler = [\"\", \"bir\", \"iki\", \"üç\", \"dört\", \"beş\", \"altı\", \"yedi\", \"sekiz\", \"dokuz\"]\n",
    "onlar = [\"\", \"on\", \"yirmi\", \"otuz\", \"kırk\", \"elli\", \"altmış\", \"yetmiş\", \"seksen\", \"doksan\"]\n",
    "sayı_onlar = sayı//10\n",
    "sayı_birler = sayı%10\n",
    "print(onlar[sayı_onlar], birler[sayı_birler])"
   ]
  }
 ],
 "metadata": {
  "interpreter": {
   "hash": "0127ce2b7568e6364fcc574b031f73928e7aa4cd8418ab017d9e270fb3906b0d"
  },
  "kernelspec": {
   "display_name": "Python 3.10.1 64-bit",
   "language": "python",
   "name": "python3"
  },
  "language_info": {
   "codemirror_mode": {
    "name": "ipython",
    "version": 3
   },
   "file_extension": ".py",
   "mimetype": "text/x-python",
   "name": "python",
   "nbconvert_exporter": "python",
   "pygments_lexer": "ipython3",
   "version": "3.10.1"
  },
  "orig_nbformat": 4
 },
 "nbformat": 4,
 "nbformat_minor": 2
}
