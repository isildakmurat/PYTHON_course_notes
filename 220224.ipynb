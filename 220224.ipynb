{
 "cells": [
  {
   "cell_type": "code",
   "execution_count": 3,
   "metadata": {},
   "outputs": [
    {
     "name": "stdout",
     "output_type": "stream",
     "text": [
      "B\n"
     ]
    }
   ],
   "source": [
    "notunuz= int(input(\"Not: \"))\n",
    "\n",
    "if notunuz >= 95:\n",
    "    print(\"A+\")\n",
    "elif notunuz >= 90:\n",
    "    if notunuz <= 94:\n",
    "        print(\"A\")\n",
    "    else:\n",
    "        print(\"A\")\n",
    "elif notunuz >= 85:\n",
    "    if notunuz <= 89:\n",
    "        print(\"B+\")\n",
    "    else:\n",
    "        print(\"B+\")\n",
    "elif notunuz >= 80:\n",
    "    if notunuz <= 84:\n",
    "        print(\"B\")\n",
    "    else:\n",
    "        print(\"B\")\n",
    "else:\n",
    "    print(\"Kaldınız\")"
   ]
  },
  {
   "cell_type": "code",
   "execution_count": null,
   "metadata": {},
   "outputs": [],
   "source": []
  }
 ],
 "metadata": {
  "interpreter": {
   "hash": "0127ce2b7568e6364fcc574b031f73928e7aa4cd8418ab017d9e270fb3906b0d"
  },
  "kernelspec": {
   "display_name": "Python 3.10.1 64-bit",
   "language": "python",
   "name": "python3"
  },
  "language_info": {
   "codemirror_mode": {
    "name": "ipython",
    "version": 3
   },
   "file_extension": ".py",
   "mimetype": "text/x-python",
   "name": "python",
   "nbconvert_exporter": "python",
   "pygments_lexer": "ipython3",
   "version": "3.10.1"
  },
  "orig_nbformat": 4
 },
 "nbformat": 4,
 "nbformat_minor": 2
}
