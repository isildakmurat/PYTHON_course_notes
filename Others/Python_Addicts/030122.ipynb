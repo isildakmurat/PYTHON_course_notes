{
 "cells": [
  {
   "cell_type": "markdown",
   "metadata": {},
   "source": [
    "## İlk 5 soru Murphy Mentor\n",
    "## Soru-1 \n",
    "Write a program to accept a string from the user and display characters that are present at an even index number.\n",
    "\n",
    "For example, str = \"pynative\" so you should display ‘p’, ‘n’, ‘t’, ‘v’."
   ]
  },
  {
   "cell_type": "code",
   "execution_count": null,
   "metadata": {},
   "outputs": [],
   "source": []
  },
  {
   "cell_type": "markdown",
   "metadata": {},
   "source": [
    "## Soru-2\n",
    "Write a Program to extract each digit from an integer in the reverse order. \n",
    "For example, If the given int is 7536, the output shall be “6 3 5 7“."
   ]
  },
  {
   "cell_type": "code",
   "execution_count": null,
   "metadata": {},
   "outputs": [],
   "source": []
  },
  {
   "cell_type": "markdown",
   "metadata": {},
   "source": [
    "## Soru-3\n",
    "Write a program to print the following start pattern using the for loop\n",
    "\n",
    "* \n",
    "* * \n",
    "* * * \n",
    "* * * * \n",
    "* * * * * \n",
    "* * * * \n",
    "* * * \n",
    "* * \n",
    "*"
   ]
  },
  {
   "cell_type": "code",
   "execution_count": null,
   "metadata": {},
   "outputs": [],
   "source": []
  },
  {
   "cell_type": "markdown",
   "metadata": {},
   "source": [
    "## Soru-4\n",
    "Write a Python program that accepts a string and calculate the number of digits and letters. \n",
    "Sample Data : \"Nonsense^%^ 952\" \n",
    "Expected Output : Letters 6 Digits 2"
   ]
  },
  {
   "cell_type": "code",
   "execution_count": null,
   "metadata": {},
   "outputs": [],
   "source": []
  },
  {
   "cell_type": "markdown",
   "metadata": {},
   "source": [
    "## Soru-5\n",
    "Write a program that checks that the entered number is a prime number.\n",
    "Entered number : 13\n",
    "Expected output : \"13 is a prime number!\""
   ]
  },
  {
   "cell_type": "code",
   "execution_count": null,
   "metadata": {},
   "outputs": [],
   "source": []
  },
  {
   "cell_type": "markdown",
   "metadata": {},
   "source": [
    "## Soru-6 (Berlin Mentor)\n",
    "Group Anagrams Purpose of the this coding challenge is to solve a grouping algorithm in Python.\n",
    "Learning Outcomes At the end of the this coding challenge, students will be able to;\n",
    "get a basic understanding of grouping algorithms. demonstrate their knowledge of lists, dicts in python implement loops to solve the problems in python get a better understanding of computational thinking concepts Problem Statement Given a list of strings, group anagrams together.\n",
    "Example:\n",
    "Input:\n",
    "[\"eat\", \"tea\", \"tan\", \"ate\", \"nat\", \"bat\"],\n",
    "Output:\n",
    "[ [\"ate\",\"eat\",\"tea\"], [\"nat\",\"tan\"], [\"bat\"] ]\n",
    "Note: All inputs will be in lowercase. The order of your output does not matter. "
   ]
  },
  {
   "cell_type": "code",
   "execution_count": null,
   "metadata": {},
   "outputs": [],
   "source": []
  }
 ],
 "metadata": {
  "language_info": {
   "name": "python"
  },
  "orig_nbformat": 4
 },
 "nbformat": 4,
 "nbformat_minor": 2
}
