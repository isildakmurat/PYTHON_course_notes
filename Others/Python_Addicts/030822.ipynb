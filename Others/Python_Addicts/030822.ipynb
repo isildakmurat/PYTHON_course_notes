{
 "cells": [
  {
   "cell_type": "markdown",
   "id": "ab3cd892",
   "metadata": {},
   "source": [
    "* LPW 2022 03 08 PYTHON LOOPS"
   ]
  },
  {
   "cell_type": "markdown",
   "id": "4787745e",
   "metadata": {},
   "source": [
    "## 1 soru : Bir mülakatta katılımcının başarılı olabilmesi için İngilizce ya da Fransızcadan birini bilmesi ve yaşının 40’tan küçük olması gerekmektedir. Katılımcıya yukarıdaki bilgileri, adını ve soyadını sorarak mülakat sonucunu “Başarılı” yada “Başarısız” çıktıları ile gösteriniz.\n",
    "\n",
    "```if Statement```\n",
    "-https://www.geeksforgeeks.org/python-if-else/?ref=lbp\n",
    "\n",
    "-https://www.geeksforgeeks.org/check-multiple-conditions-in-if-statement-python/\n",
    "\n",
    "```Python Operators```\n",
    "-https://www.w3schools.com/python/python_operators.asp\n",
    "```\n",
    "solution 1: with If Statement\n",
    "solution 2: with Ternary `if` statements\n",
    "```"
   ]
  },
  {
   "cell_type": "code",
   "execution_count": null,
   "id": "363cc7e9",
   "metadata": {},
   "outputs": [],
   "source": [
    "name = input(\"Name: \")\n",
    "lang = input(\"Language: \")\n",
    "age = input(\"Age: \")\n"
   ]
  },
  {
   "cell_type": "code",
   "execution_count": null,
   "id": "26c22e4e",
   "metadata": {},
   "outputs": [],
   "source": []
  },
  {
   "cell_type": "markdown",
   "id": "4698a760",
   "metadata": {},
   "source": [
    "## 2 soru: 3×3 bir matrisin eleman indislerini yazdıran python kodunu for döngüsü ile yazınız.\n",
    "\n",
    "https://www.geeksforgeeks.org/python-for-loops/?ref=lbp\n",
    "\n",
    "-```A FOR loop is used for ITERATING over a sequence.```\n",
    "```\n",
    "solution 1: with Nested For Loop - only print('String') \n",
    "solution 2: with Nested For Loop - with Python Collections (Arrays)\n",
    "```"
   ]
  },
  {
   "cell_type": "code",
   "execution_count": null,
   "id": "4a8b442f",
   "metadata": {},
   "outputs": [],
   "source": [
    "matrisx = 3\n",
    "matrisy = 3\n"
   ]
  },
  {
   "cell_type": "code",
   "execution_count": null,
   "id": "f54dc4e8",
   "metadata": {},
   "outputs": [],
   "source": []
  },
  {
   "cell_type": "markdown",
   "id": "3cfbb23e",
   "metadata": {},
   "source": [
    "## 3 soru: Klavyeden girilen iki sayı arasındaki sayıların toplamını bulan python kodunu yazınız.\n",
    "```\n",
    "solution 1: with For Loop\n",
    "solution 2: with List Comprehension - with generator\n",
    "```"
   ]
  },
  {
   "cell_type": "code",
   "execution_count": null,
   "id": "8f912514",
   "metadata": {},
   "outputs": [],
   "source": [
    "num31 = input()\n",
    "num32 = input()\n"
   ]
  },
  {
   "cell_type": "code",
   "execution_count": null,
   "id": "e329f089",
   "metadata": {},
   "outputs": [],
   "source": []
  },
  {
   "cell_type": "markdown",
   "id": "1add710c",
   "metadata": {},
   "source": [
    "## 4 soru: Klavyeden Girilen sayı 0 (sıfır) olana kadar girilen tüm sayıları toplayan ve ekranda gösteren python programını while döngüsü ile yazınız.\n",
    "\n",
    "https://www.geeksforgeeks.org/python-while-loop/?ref=lbp\n",
    "\n",
    "-```With the WHILE loop we can execute a set of STATEMENTS as long as a CONDITION is true.```\n",
    "```\n",
    "solution 1: with While Loop\n",
    "```"
   ]
  },
  {
   "cell_type": "code",
   "execution_count": null,
   "id": "9bb4d576",
   "metadata": {},
   "outputs": [],
   "source": [
    "num4 = input()\n"
   ]
  },
  {
   "cell_type": "code",
   "execution_count": null,
   "id": "849d4734",
   "metadata": {},
   "outputs": [],
   "source": []
  },
  {
   "cell_type": "markdown",
   "id": "782e7437",
   "metadata": {},
   "source": [
    "## 5 soru: Klavyeden girilen bir sayının faktöriyelini while döngüsü kullanarak yapan python kodunu yazınız. Eger faktöriyelin uzunluğu 2 yi geçerse “exceeded limit” hatasını versin\n",
    "```\n",
    "solution 1: with While Loop\n",
    "solution 2: with For Loop\n",
    "```"
   ]
  },
  {
   "cell_type": "code",
   "execution_count": null,
   "id": "fad393b1",
   "metadata": {},
   "outputs": [],
   "source": [
    "num5 = input()"
   ]
  },
  {
   "cell_type": "code",
   "execution_count": null,
   "id": "d2b396b9",
   "metadata": {},
   "outputs": [],
   "source": []
  },
  {
   "cell_type": "markdown",
   "id": "b95d90c5",
   "metadata": {},
   "source": [
    "## 6 soru: Klavyeden girilen bir şifrenin karakterlerini kontrol ederek girilen şifrenin 4 karakter olana kadar yeni şifre isteyen, girince de doğru şifreyi ekranda gösteren python kodunu yazınız.\n",
    "```\n",
    "solution 1: with While Loop - with Continue and Break\n",
    "```"
   ]
  },
  {
   "cell_type": "code",
   "execution_count": null,
   "id": "e18992d8",
   "metadata": {},
   "outputs": [],
   "source": [
    "num6 = input()"
   ]
  },
  {
   "cell_type": "code",
   "execution_count": null,
   "id": "68f695e8",
   "metadata": {},
   "outputs": [],
   "source": []
  },
  {
   "cell_type": "markdown",
   "id": "3a882dba",
   "metadata": {},
   "source": [
    "## 7 soru: [1…81=n] klavyeden girilen int n değeri dahil kontrol edip 1 den başlayıp 7 rakamı geçen bütün sayıların listesini oluşturunuz.\n",
    "```\n",
    "solution 1: with For Loop\n",
    "solution 2: with List Comprehension\n",
    "```"
   ]
  },
  {
   "cell_type": "code",
   "execution_count": null,
   "id": "204df7f5",
   "metadata": {},
   "outputs": [],
   "source": [
    "num7 = input()"
   ]
  },
  {
   "cell_type": "code",
   "execution_count": null,
   "id": "09ed2e03",
   "metadata": {},
   "outputs": [],
   "source": []
  },
  {
   "cell_type": "markdown",
   "id": "b6066962",
   "metadata": {},
   "source": [
    "## 8 soru: Klavyeden girilen iki sayı arasındaki tek sayıların toplamının ortalamasını bulan python kodunu yazınız.\n",
    "```\n",
    "solution 1: with For Loop\n",
    "solution 2: with List Comprehension - with generator\n",
    "```"
   ]
  },
  {
   "cell_type": "code",
   "execution_count": null,
   "id": "a8ef720f",
   "metadata": {},
   "outputs": [],
   "source": [
    "num81 = input()\n",
    "num82 = input()"
   ]
  },
  {
   "cell_type": "code",
   "execution_count": null,
   "id": "350a4779",
   "metadata": {},
   "outputs": [],
   "source": []
  },
  {
   "cell_type": "markdown",
   "id": "e01e8d75",
   "metadata": {},
   "source": [
    "## 9 soru: 0 dan 30’a kadar (30 dahil) olan sayılardan 2 ve 3 e bölünenleri ekranda sıralayan programın python kodlarını yazınız. \n",
    "```\n",
    "solution 1: with For Loop\n",
    "```"
   ]
  },
  {
   "cell_type": "code",
   "execution_count": null,
   "id": "0276bf24",
   "metadata": {},
   "outputs": [],
   "source": [
    "num9 = 30\n"
   ]
  },
  {
   "cell_type": "code",
   "execution_count": null,
   "id": "7be837f3",
   "metadata": {},
   "outputs": [],
   "source": []
  },
  {
   "cell_type": "markdown",
   "id": "3dfd4594",
   "metadata": {},
   "source": [
    "## 10- soru: Klavyeden girilen bir sayının rakamlarının toplamını bulan ve ekranda gösteren python kodunu yazınız.\n",
    "```\n",
    "solution 1: with For Loop \n",
    "solution 2: with While Loop\n",
    "```"
   ]
  },
  {
   "cell_type": "code",
   "execution_count": null,
   "id": "70489850",
   "metadata": {},
   "outputs": [
    {
     "data": {
      "text/plain": [
       "9"
      ]
     },
     "metadata": {},
     "output_type": "display_data"
    }
   ],
   "source": [
    "var = int(input())\n",
    "\n"
   ]
  },
  {
   "cell_type": "code",
   "execution_count": null,
   "id": "6026ec2e",
   "metadata": {},
   "outputs": [],
   "source": []
  },
  {
   "cell_type": "markdown",
   "id": "6f59a24d",
   "metadata": {},
   "source": [
    "# Bonus"
   ]
  },
  {
   "cell_type": "markdown",
   "id": "842f91cc",
   "metadata": {},
   "source": [
    "## mini Bonus: Klavyeden girilen 0 ile 99.999 arasındaki basamak sayısını ekrana yazdıran algoritma?\n",
    "```\n",
    "solution 1: with If Statement\n",
    "solution 2: with Ternary `if` statements\n",
    "```"
   ]
  },
  {
   "cell_type": "code",
   "execution_count": null,
   "id": "d676b8fc",
   "metadata": {},
   "outputs": [],
   "source": []
  },
  {
   "cell_type": "code",
   "execution_count": null,
   "id": "7b0f5153",
   "metadata": {},
   "outputs": [],
   "source": []
  },
  {
   "cell_type": "markdown",
   "id": "10ab9ed3",
   "metadata": {},
   "source": [
    "## *' Shapes\n",
    "```\n",
    "solution 1: with Nested For Loop\n",
    "\n",
    "( ipucu örnek: line = 6, + * ve ‘ ‘ tek boşluk vardır. )\n",
    "1- şekil üzerinde sayılabilecek karakterleri sayısal olarak ifade etme\n",
    "2- şeklin matematiksel modelinin-ilişkisinin Oluşturulması (ör: kaç yıldız, kaç artı, kaç boşluk gibi)\n",
    "3- for döngüsün başlangıç ve bitiş noktaları hakkında fikir sahibi olma.\n",
    "4- print() kullanımı\n",
    "5- sonuç oluşturduğunuz modele göre kod tasarımı\n",
    "```"
   ]
  },
  {
   "cell_type": "code",
   "execution_count": null,
   "id": "13f00899",
   "metadata": {},
   "outputs": [],
   "source": []
  },
  {
   "cell_type": "code",
   "execution_count": null,
   "id": "71a374bc",
   "metadata": {},
   "outputs": [],
   "source": []
  },
  {
   "cell_type": "code",
   "execution_count": null,
   "id": "2e50e584",
   "metadata": {},
   "outputs": [],
   "source": []
  },
  {
   "cell_type": "code",
   "execution_count": null,
   "id": "98466f18",
   "metadata": {},
   "outputs": [],
   "source": []
  }
 ],
 "metadata": {
  "language_info": {
   "name": "python"
  },
  "orig_nbformat": 4
 },
 "nbformat": 4,
 "nbformat_minor": 2
}
