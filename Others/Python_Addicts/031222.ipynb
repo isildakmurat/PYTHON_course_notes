{
 "cells": [
  {
   "cell_type": "markdown",
   "metadata": {},
   "source": [
    "## Soru-1\n",
    "Make a solution that takes a list of numbers or strings and returns a list with the items from the original list stored into sublists. Items of the same value should be in the same sublist.\n",
    "\n",
    "Examples [2, 1, 2, 1] ➞ [[2, 2], [1, 1]],\n",
    "[5, 4, 5, 5, 4, 3] ➞ [[5, 5, 5], [4, 4], [3]],\n",
    "[\"b\", \"a\", \"b\", \"a\", \"c\"] ➞ [[\"b\", \"b\"], [\"a\", \"a\"], [\"c\"]]\n",
    "\n",
    "Notes The sublists should be returned in the order of each element's first appearance in the given list."
   ]
  },
  {
   "cell_type": "code",
   "execution_count": 5,
   "metadata": {},
   "outputs": [
    {
     "name": "stdout",
     "output_type": "stream",
     "text": [
      "[[5, 5, 5], [4, 4], [3]]\n"
     ]
    }
   ],
   "source": [
    "liste = [5, 4, 5, 5, 4, 3]\n",
    "# dicti = {5:[5,5,5], 4:[4,4], 3:[3]}\n",
    "newd = {}\n",
    "for i in liste :\n",
    "    if i not in newd :\n",
    "        newd[i] = [i]*liste.count(i)\n",
    "print(list(newd.values()))"
   ]
  },
  {
   "cell_type": "code",
   "execution_count": 1,
   "metadata": {},
   "outputs": [
    {
     "name": "stdout",
     "output_type": "stream",
     "text": [
      "[[5, 5, 5, 5], [4, 4, 4], [3, 3], [2, 2, 2], [1, 1]]\n"
     ]
    }
   ],
   "source": [
    "my_list = [5, 4, 3, 2, 5, 4, 3, 5, 4, 2, 5, 1, 1, 2]\n",
    "my_dict = {}\n",
    "for i in my_list : \n",
    "    if i in my_dict :\n",
    "        my_dict[i].append(i) \n",
    "    else : \n",
    "        my_dict[i] = [i]\n",
    "print(list(my_dict.values()))"
   ]
  },
  {
   "cell_type": "code",
   "execution_count": 2,
   "metadata": {},
   "outputs": [
    {
     "name": "stdout",
     "output_type": "stream",
     "text": [
      "[[5, 5, 5, 5], [4, 4, 4], [3, 3], [2, 2, 2], [1, 1]]\n"
     ]
    }
   ],
   "source": [
    "my_list = [5, 4, 3, 2, 5, 4, 3, 5, 4, 2, 5, 1, 1, 2]\n",
    "my_dict = {}\n",
    "\n",
    "for i in my_list : \n",
    "    if i in my_dict :\n",
    "        my_dict[i] += [i]\n",
    "    else : \n",
    "        my_dict[i] = [i]\n",
    "\n",
    "print(list(my_dict.values()))"
   ]
  },
  {
   "cell_type": "code",
   "execution_count": null,
   "metadata": {},
   "outputs": [],
   "source": []
  }
 ],
 "metadata": {
  "interpreter": {
   "hash": "1119d47f94ad9ac75885573077f663dd4dae1d75e807f23fe53292849f40bbc4"
  },
  "kernelspec": {
   "display_name": "Python 3.10.2 64-bit",
   "language": "python",
   "name": "python3"
  },
  "language_info": {
   "codemirror_mode": {
    "name": "ipython",
    "version": 3
   },
   "file_extension": ".py",
   "mimetype": "text/x-python",
   "name": "python",
   "nbconvert_exporter": "python",
   "pygments_lexer": "ipython3",
   "version": "3.10.2"
  },
  "orig_nbformat": 4
 },
 "nbformat": 4,
 "nbformat_minor": 2
}
