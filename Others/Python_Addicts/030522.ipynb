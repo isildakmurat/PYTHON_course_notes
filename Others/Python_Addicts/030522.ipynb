{
 "cells": [
  {
   "cell_type": "markdown",
   "metadata": {},
   "source": [
    "## Soru-1\n",
    "2 satır ve N-1 sütunlu bir matrisiniz olduğunu düşünün (2X(N-1)), öyle ki matrisin her hücresi 0 ya da 1 dışında bir değer alamıyor. Size verilecek olan iki sayıdan biri 1. satırdaki rakamların toplamı, diğeri de 2. satırdaki rakamların toplamı, ve size verilen dizinin rakamları da sırasıyla bir hücreye ait iki satırın toplamından oluşacak şekilde olmalı. Bu koşulu sağlayan durumda matrisin satırlarını sırasıyla yazan bir string, aksi takdirde “IMPOSSIBLE” yazan bir fonksiyon yazın.\n",
    "ÖRN:\n",
    "Sayılar: 2, 2\n",
    "Dizi: [2, 0, 2, 0}\n",
    "CEVAP:\n",
    "“1010, 1010\"\n",
    "ÖRN:\n",
    "Sayılar: 3,1\n",
    "Dizi: [1, 0, 2, 1]\n",
    "CEVAP:\n",
    "“1011, 0010”\n",
    "ÖRN:\n",
    "Sayılar: 2, 1\n",
    "Dizi: [1, 1, 0, 0]\n",
    "CEVAP:\n",
    "“IMPOSSIBLE”\n"
   ]
  },
  {
   "cell_type": "markdown",
   "metadata": {},
   "source": []
  }
 ],
 "metadata": {
  "language_info": {
   "name": "python"
  },
  "orig_nbformat": 4
 },
 "nbformat": 4,
 "nbformat_minor": 2
}
