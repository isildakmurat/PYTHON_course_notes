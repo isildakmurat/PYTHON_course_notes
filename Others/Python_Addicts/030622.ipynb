{
 "cells": [
  {
   "cell_type": "markdown",
   "metadata": {},
   "source": [
    "## Soru-1 \n",
    "Kullanıcıdan 2 tane sayı alarak bu sayıların en büyük ortak bölenini (EBOB) bulan bir program yazınız..:dart:\n",
    "mümkün olduğunca en kısa halini yazınız.\n",
    "EBOB hakkında bilgi\n",
    "https://www.matematikciler.com/8-sinif-ebob-ekok/"
   ]
  },
  {
   "cell_type": "code",
   "execution_count": null,
   "metadata": {},
   "outputs": [],
   "source": []
  },
  {
   "cell_type": "markdown",
   "metadata": {},
   "source": [
    "## Soru-2\n",
    "Kullanıcıdan 2 tane sayı alarak bu sayıların en küçük ortak katını (EKOK) bulan bir program yazınız..:dart:\n",
    "mümkün olduğunca en kısa halini yazınız.\n",
    "EKOK hakkında bilgi\n",
    "https://www.matematikciler.com/8-sinif-ebob-ekok/"
   ]
  },
  {
   "cell_type": "code",
   "execution_count": null,
   "metadata": {},
   "outputs": [],
   "source": []
  },
  {
   "cell_type": "markdown",
   "metadata": {},
   "source": [
    "Bugün paylaşılan ve live python workshop konulu pdf var (indirilenlerde) Oradaki sorulara da bakabilirsin."
   ]
  }
 ],
 "metadata": {
  "language_info": {
   "name": "python"
  },
  "orig_nbformat": 4
 },
 "nbformat": 4,
 "nbformat_minor": 2
}
