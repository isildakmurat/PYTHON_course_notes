{
 "cells": [
  {
   "cell_type": "markdown",
   "metadata": {},
   "source": [
    "## Soru-1\n",
    "Write a Python program that accepts a string and calculate the number of digits and letters.\n",
    "\n",
    "Input : Hello321Bye360 \n",
    "\n",
    "Output : \n",
    "\n",
    "Digit - 6\n",
    "\n",
    "Letter - 8"
   ]
  },
  {
   "cell_type": "code",
   "execution_count": 42,
   "metadata": {},
   "outputs": [
    {
     "name": "stdout",
     "output_type": "stream",
     "text": [
      "Digit - 3 \n",
      "\n",
      "Letter - 3\n"
     ]
    }
   ],
   "source": [
    "\n",
    "# Kendi çözümüm \n",
    "input_value = input(\"Please write something include letter and digit:\")\n",
    "input_value = input_value.strip()\n",
    "digit_list = []\n",
    "Letter_list = []\n",
    "\n",
    "for i in input_value :\n",
    "    if i.isnumeric() :\n",
    "        digit_list.append(i)\n",
    "    else :\n",
    "        Letter_list.append(i)\n",
    "\n",
    "print(f\"Digit - {len(digit_list)}\", \"\\n\")\n",
    "print(f\"Letter - {len(Letter_list)}\")\n",
    "\n",
    "    \n",
    "        "
   ]
  },
  {
   "cell_type": "code",
   "execution_count": 19,
   "metadata": {},
   "outputs": [
    {
     "name": "stdout",
     "output_type": "stream",
     "text": [
      "the digit char in text:  4 the string char in text : 6\n"
     ]
    }
   ],
   "source": [
    "text = input(\"enter a word: \")\n",
    "count_digit=0\n",
    "count_string= 0\n",
    "for i in text:\n",
    "    if i.isdigit():\n",
    "        count_digit += 1\n",
    "    else:\n",
    "        count_string += 1\n",
    "print(\"the digit char in text: \", count_digit,\"the string char in text :\", count_string)"
   ]
  },
  {
   "cell_type": "markdown",
   "metadata": {},
   "source": [
    "## Soru-2\n",
    "With a given integral number n, write a program to generate a dictionary that contains (i, i*i)such that is an integral number between 1 and n (both included). and then the program shouldprint the dictionary.Suppose the following input is supplied to the program:8\n",
    "\n",
    "Then, the outputshould be:{1: 1, 2: 4, 3: 9, 4: 16, 5: 25, 6: 36, 7: 49, 8: 64}"
   ]
  },
  {
   "cell_type": "code",
   "execution_count": 38,
   "metadata": {},
   "outputs": [
    {
     "name": "stdout",
     "output_type": "stream",
     "text": [
      "{1: 1, 2: 4, 3: 9, 4: 16, 5: 25, 6: 36, 7: 49, 8: 64}\n"
     ]
    }
   ],
   "source": [
    "# Kendi çözümüm \n",
    "input_number = int(input(\"Please write a number between 1 and 9 :\"))\n",
    "empty_dict = {}\n",
    "\n",
    "for i in range(1, (input_number+1)) : \n",
    "    empty_dict[i] = i * i\n",
    "print(empty_dict)"
   ]
  },
  {
   "cell_type": "markdown",
   "metadata": {},
   "source": [
    "## Soru-3\n",
    "1-100 arasındaki tau sayılarını yazdıralım alacağımız sonuç => 1,2,8,9,12,18,24,36,40,56,60,72,80,84,88,96 olacak.\n",
    "Peki tau sayısının kuralı nedir ? \n",
    "\n",
    "Pozitif bölenlerinin sayısına bölünen sayılara denir.\n",
    "9 sayısının pozitif tamsayı bölenleri: 1,3,9 dir. Dolayısı ile pozitif tamsayı bölen sayısı adeti 3 tür.\n",
    "9 bölen sayısı olan bu 3 sayısına tam bölünebildiği için\n",
    "9 sayısı bir Tau sayısıdır."
   ]
  },
  {
   "cell_type": "code",
   "execution_count": 3,
   "metadata": {},
   "outputs": [
    {
     "name": "stdout",
     "output_type": "stream",
     "text": [
      "[1, 2, 8, 9, 12, 18, 24, 36, 40, 56, 60, 72, 80, 84, 88, 96]\n"
     ]
    }
   ],
   "source": [
    "# Kendi çözümüm\n",
    "number_list = list(range(1, 101))\n",
    "dict_tau = {}\n",
    "list_tau = []\n",
    "for i in number_list : \n",
    "    for ii in number_list :\n",
    "        if i in dict_tau :\n",
    "            if i % ii == 0 :\n",
    "                dict_tau[i] += [ii]\n",
    "        else : \n",
    "            dict_tau[i] = [ii]\n",
    "\n",
    "dict_values = list(dict_tau.values())\n",
    "\n",
    "for k in number_list :\n",
    "    if k % len(dict_values[k-1]) == 0 :\n",
    "        list_tau.append(k)\n",
    "print(list_tau) "
   ]
  },
  {
   "cell_type": "code",
   "execution_count": 52,
   "metadata": {},
   "outputs": [
    {
     "name": "stdout",
     "output_type": "stream",
     "text": [
      "[1, 2, 8, 9, 12, 18, 24, 36, 40, 56, 60, 72, 80, 84, 88, 96]\n"
     ]
    }
   ],
   "source": [
    "tau=[]\n",
    "for i in range(1,101):\n",
    "  count=0\n",
    "  for j in range(1,i+1):\n",
    "    if i % j == 0:\n",
    "      count+=1\n",
    "  if i % count ==0:\n",
    "    tau.append(i)\n",
    "print(tau)"
   ]
  },
  {
   "cell_type": "code",
   "execution_count": 29,
   "metadata": {},
   "outputs": [
    {
     "name": "stdout",
     "output_type": "stream",
     "text": [
      "[1, 2, 8, 9, 12, 18, 24, 36, 40, 56, 60, 72, 80, 84, 88, 96]\n"
     ]
    }
   ],
   "source": [
    "list_tau = list()\n",
    "n = int(input(\"Enter an integer: \"))\n",
    "for i in range(1, n + 1):\n",
    "  list_i = []\n",
    "  for j in range(1, n):\n",
    "    if i % j == 0:\n",
    "      list_i.append(j)\n",
    "  if i % len(list_i) == 0:\n",
    "    list_tau.append(i)\n",
    "print(list_tau)"
   ]
  },
  {
   "cell_type": "markdown",
   "metadata": {},
   "source": [
    "## Web Örnek\n",
    "Herhangi bir sayıyı (2019 mesela) list'e çevirmenin yöntemi: "
   ]
  },
  {
   "cell_type": "code",
   "execution_count": 1,
   "metadata": {},
   "outputs": [
    {
     "name": "stdout",
     "output_type": "stream",
     "text": [
      "The original number is 1993\n",
      "The list from number is [1, 9, 9, 3]\n"
     ]
    }
   ],
   "source": [
    "num = 1993\n",
    "  \n",
    "# printing number \n",
    "print (\"The original number is \" + str(num))\n",
    "  \n",
    "# using list comprehension\n",
    "# to convert number to list of integers\n",
    "res = [int(x) for x in str(num)]\n",
    "  \n",
    "# printing result \n",
    "print (\"The list from number is \" + str(res))"
   ]
  },
  {
   "cell_type": "code",
   "execution_count": null,
   "metadata": {},
   "outputs": [],
   "source": [
    "num = 1993\n",
    "res = [int(x) for x in str(num)]\n",
    "print (\"The list from number is \" + str(res))"
   ]
  },
  {
   "cell_type": "code",
   "execution_count": 5,
   "metadata": {},
   "outputs": [
    {
     "name": "stdout",
     "output_type": "stream",
     "text": [
      "The original number is 2019\n",
      "The list from number is [2, 0, 1, 9]\n"
     ]
    }
   ],
   "source": [
    "\n",
    "# Python3 code to demonstrate \n",
    "# conversion of number to list of integers\n",
    "# using map()\n",
    "  \n",
    "# initializing number \n",
    "num = 2019\n",
    "  \n",
    "# printing number \n",
    "print (\"The original number is \" + str(num))\n",
    "  \n",
    "# using map()\n",
    "# to convert number to list of integers\n",
    "res = list(map(int, str(num)))\n",
    "  \n",
    "# printing result \n",
    "print (\"The list from number is \" + str(res))"
   ]
  },
  {
   "cell_type": "code",
   "execution_count": 1,
   "metadata": {},
   "outputs": [
    {
     "name": "stdout",
     "output_type": "stream",
     "text": [
      "['a', 'b', 'c', 'd', 'e']\n"
     ]
    }
   ],
   "source": [
    "*s, = \"abcde\"\n",
    "print(s)"
   ]
  },
  {
   "cell_type": "code",
   "execution_count": 2,
   "metadata": {},
   "outputs": [
    {
     "data": {
      "text/plain": [
       "['a', 'b', 'c', 'd', 'e']"
      ]
     },
     "execution_count": 2,
     "metadata": {},
     "output_type": "execute_result"
    }
   ],
   "source": [
    "s = \"abcde\"\n",
    "list(s)"
   ]
  },
  {
   "cell_type": "code",
   "execution_count": null,
   "metadata": {},
   "outputs": [],
   "source": []
  }
 ],
 "metadata": {
  "interpreter": {
   "hash": "1119d47f94ad9ac75885573077f663dd4dae1d75e807f23fe53292849f40bbc4"
  },
  "kernelspec": {
   "display_name": "Python 3.10.2 64-bit",
   "language": "python",
   "name": "python3"
  },
  "language_info": {
   "codemirror_mode": {
    "name": "ipython",
    "version": 3
   },
   "file_extension": ".py",
   "mimetype": "text/x-python",
   "name": "python",
   "nbconvert_exporter": "python",
   "pygments_lexer": "ipython3",
   "version": "3.10.2"
  },
  "orig_nbformat": 4
 },
 "nbformat": 4,
 "nbformat_minor": 2
}
