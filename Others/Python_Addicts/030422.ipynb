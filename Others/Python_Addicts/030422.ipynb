{
 "cells": [
  {
   "cell_type": "markdown",
   "metadata": {},
   "source": [
    "## Soru-1\n",
    "1 den 10000 e kadar olan fibonacci sayılarını ekrana yazdırın..\n",
    "Fibonacci Serisi yeni bir sayıyı önceki iki sayının toplamı şeklinde oluşturur.\n",
    "1,1,2,3,5,8,13,21,34..............."
   ]
  },
  {
   "cell_type": "code",
   "execution_count": null,
   "metadata": {},
   "outputs": [],
   "source": []
  },
  {
   "cell_type": "markdown",
   "metadata": {},
   "source": [
    "## Soru-2\n",
    "ilk 20 fibonacci sayısını ekrana yazdırın..\n",
    "Fibonacci Serisi yeni bir sayıyı önceki iki sayının toplamı şeklinde oluşturur.\n",
    "1,1,2,3,5,8,13,21,34..............."
   ]
  },
  {
   "cell_type": "code",
   "execution_count": null,
   "metadata": {},
   "outputs": [],
   "source": []
  },
  {
   "cell_type": "markdown",
   "metadata": {},
   "source": [
    "## Soru-3\n",
    "Write a program that switches the values stored in the variables a and b.\n",
    "(a ve b değişkenlerinde bulunan değerleri değiştiren bir program yazın.)\n",
    "input :\n",
    "a = 3\n",
    "b = 5\n",
    "output:\n",
    "a = 5\n",
    "b = 3"
   ]
  },
  {
   "cell_type": "code",
   "execution_count": null,
   "metadata": {},
   "outputs": [],
   "source": []
  },
  {
   "cell_type": "markdown",
   "metadata": {},
   "source": []
  }
 ],
 "metadata": {
  "language_info": {
   "name": "python"
  },
  "orig_nbformat": 4
 },
 "nbformat": 4,
 "nbformat_minor": 2
}
