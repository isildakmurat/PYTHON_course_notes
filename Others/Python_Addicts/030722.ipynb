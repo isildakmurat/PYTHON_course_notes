{
 "cells": [
  {
   "cell_type": "markdown",
   "metadata": {},
   "source": [
    "## Soru-1 \n",
    "1'den 100'e kadar olan sayılardan Pisagor üçgeni oluşturanları ekrana yazdıran bir fonksiyon yazın.\n",
    "(a <= 100,b <= 100)  (Pisagor üçgen şartı --> a*a + b*b = c*c )"
   ]
  },
  {
   "cell_type": "code",
   "execution_count": null,
   "metadata": {},
   "outputs": [],
   "source": []
  }
 ],
 "metadata": {
  "language_info": {
   "name": "python"
  },
  "orig_nbformat": 4
 },
 "nbformat": 4,
 "nbformat_minor": 2
}
