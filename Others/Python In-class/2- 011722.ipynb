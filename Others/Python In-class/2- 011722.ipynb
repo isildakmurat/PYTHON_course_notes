{
 "cells": [
  {
   "cell_type": "markdown",
   "metadata": {},
   "source": [
    "VARIABLES"
   ]
  },
  {
   "cell_type": "code",
   "execution_count": 1,
   "metadata": {},
   "outputs": [
    {
     "name": "stdout",
     "output_type": "stream",
     "text": [
      "30\n"
     ]
    }
   ],
   "source": [
    "my_age = 33\n",
    "your_age = 30\n",
    "my_age = your_age\n",
    "print(my_age)"
   ]
  },
  {
   "cell_type": "markdown",
   "metadata": {},
   "source": [
    "Conventional (PEP 8) Naming Rules \n",
    "\n",
    "Python'da vereceğimiz variable'ları rastgele veremeyiz, belirli kuralları vardır. 3-4 kelimeli geçmemeli, içindeki value ile alakalı olmalı, \n",
    "hepsi küçük harf ile yazılmalı ve aralarına \"_\" konulmalı."
   ]
  },
  {
   "cell_type": "code",
   "execution_count": null,
   "metadata": {},
   "outputs": [],
   "source": [
    "variable = 3.14\n",
    "var_one = 'something'  # variable yazılırken arasına lowercase (alt çizgi) konuldu ve küçük harfler ile yazıldı. Büyük harf de olur ama PEP8'e uygun olmaz. "
   ]
  },
  {
   "cell_type": "code",
   "execution_count": null,
   "metadata": {},
   "outputs": [],
   "source": [
    "Bu 3 adet variable değerini kullanmayalım, karışabiliyor. \n",
    "\n",
    "l = 3.14  # This is lowercase \"l\"(el) letter\n",
    "I = 3.14  # This is uppercase letter eye\n",
    "1 = 'something wrong'  # This is number one."
   ]
  },
  {
   "cell_type": "code",
   "execution_count": null,
   "metadata": {},
   "outputs": [],
   "source": [
    "O ile 0'ı da kullanmayalım. \n",
    "\n",
    "time_0 = '3.14'  # This is uppercase letter \"0\"\n",
    "time_0 = '3.14'  # This is number zero "
   ]
  },
  {
   "cell_type": "markdown",
   "metadata": {},
   "source": [
    "Python'a özel keyword leri variable olarak kullanamayız. "
   ]
  },
  {
   "cell_type": "code",
   "execution_count": 3,
   "metadata": {},
   "outputs": [
    {
     "ename": "SyntaxError",
     "evalue": "invalid syntax (377805530.py, line 1)",
     "output_type": "error",
     "traceback": [
      "\u001b[1;36m  Input \u001b[1;32mIn [3]\u001b[1;36m\u001b[0m\n\u001b[1;33m    and = \"AliVeliDeli\"\u001b[0m\n\u001b[1;37m    ^\u001b[0m\n\u001b[1;31mSyntaxError\u001b[0m\u001b[1;31m:\u001b[0m invalid syntax\n"
     ]
    }
   ],
   "source": [
    "and = \"AliVeliDeli\"\n",
    "pritnt(and)"
   ]
  },
  {
   "cell_type": "code",
   "execution_count": 4,
   "metadata": {},
   "outputs": [],
   "source": [
    "if_or_else = \"clarusway\"  # Bu şekilde özel variable ları birleştirdiğimizde çalışır ama çok tavsiye edilmez."
   ]
  },
  {
   "cell_type": "code",
   "execution_count": null,
   "metadata": {},
   "outputs": [],
   "source": [
    "amnt_rttn_fruits  # amount of rotten fruits\n",
    "rotten_fruits\n",
    "amount_rotten_fruits\n",
    "\n",
    "list_prime_number  # the list of prime numbers \n",
    "prime_list\n",
    "prime_no\n",
    "\n",
    "list_math_exam_score  # list of mathematics exam scores\n",
    "math_scores\n",
    "scores_math\n"
   ]
  },
  {
   "cell_type": "code",
   "execution_count": 5,
   "metadata": {},
   "outputs": [
    {
     "name": "stdout",
     "output_type": "stream",
     "text": [
      "same\n",
      "same\n",
      "same\n"
     ]
    }
   ],
   "source": [
    "x = y = z = \"same\"  # Değer atama işlemlerinde sağdan sola doğru düşüneceğiz. \n",
    "print(x)\n",
    "print(y)\n",
    "print(z)"
   ]
  },
  {
   "cell_type": "code",
   "execution_count": 13,
   "metadata": {},
   "outputs": [
    {
     "data": {
      "text/plain": [
       "'same'"
      ]
     },
     "execution_count": 13,
     "metadata": {},
     "output_type": "execute_result"
    }
   ],
   "source": [
    "x = y = z = 'same'  # Değer atama işlemlerinde sağdan sola doğru düşüneceğiz. \n",
    "x  # print yazmadan sadece variable ifadesini yazsak bile VSCode'da çıktı verir. Atadığımız değer çift tınak string ise ona göre tırnak içinde verir. "
   ]
  },
  {
   "cell_type": "code",
   "execution_count": 9,
   "metadata": {},
   "outputs": [
    {
     "name": "stdout",
     "output_type": "stream",
     "text": [
      "31 28 31 30 31 30 31 31 30 31 30 31\n"
     ]
    }
   ],
   "source": [
    "jan = march = may = july = agt = oct = dec = 31  # multi assigments in the single line\n",
    "apr = june = sep = nov = 30\n",
    "feb = 28\n",
    "print(jan, feb, march, apr, may, june, july, agt, sep, oct, nov, dec)"
   ]
  },
  {
   "cell_type": "code",
   "execution_count": 24,
   "metadata": {},
   "outputs": [],
   "source": [
    "thomas = 33\n",
    "marry = 28\n",
    "walter = None  # Eğer biz variable'a bir değişken atamayacaksak, sadece rezerve yapacaksak bu durumda \"None\" değerini yazıyoruz. Baş harfi de büyük olacak. \n",
    "isabella = 46\n",
    "walter  # Çıktı aldığımızda herhangi bir değer yazdırmadı \"None\" olduğu için. Ama print(walter) yazsaydık o vakit None yazdıracaktı."
   ]
  },
  {
   "cell_type": "code",
   "execution_count": 25,
   "metadata": {},
   "outputs": [
    {
     "name": "stdout",
     "output_type": "stream",
     "text": [
      "33\n",
      "28\n",
      "None\n",
      "46\n"
     ]
    }
   ],
   "source": [
    "thomas = 33\n",
    "marry = 28\n",
    "walter = None  # Eğer biz variable'a bir değişken atamayacaksak, sadece rezerve yapacaksak bu durumda \"None\" değerini yazıyoruz. Baş harfi de büyük olacak.Daha sonra bunun değerini güncelleyebiliriz.  \n",
    "isabella = 46\n",
    "print(thomas)\n",
    "print(marry)\n",
    "print(walter)\n",
    "print(isabella)"
   ]
  },
  {
   "cell_type": "code",
   "execution_count": 26,
   "metadata": {},
   "outputs": [
    {
     "ename": "NameError",
     "evalue": "name 'C' is not defined",
     "output_type": "error",
     "traceback": [
      "\u001b[1;31m---------------------------------------------------------------------------\u001b[0m",
      "\u001b[1;31mNameError\u001b[0m                                 Traceback (most recent call last)",
      "\u001b[1;32mg:\\Drive'ım\\Masaüstü\\Eğitimler\\Yazılım\\VS Code Genel\\Python In-class\\011722.ipynb Cell 16'\u001b[0m in \u001b[0;36m<module>\u001b[1;34m\u001b[0m\n\u001b[0;32m      <a href='vscode-notebook-cell:/g%3A/Drive%27%C4%B1m/Masa%C3%BCst%C3%BC/E%C4%9Fitimler/Yaz%C4%B1l%C4%B1m/VS%20Code%20Genel/Python%20In-class/011722.ipynb#ch0000018?line=0'>1</a>\u001b[0m c \u001b[39m=\u001b[39m \u001b[39m11\u001b[39m  \u001b[39m# Python küçük ve büyük harfe karşı duyarlıdır. Mesela küçük c'yi 11'e eşitledik ama çıktı olarak büyük C yazarsak hata verir. \u001b[39;00m\n\u001b[1;32m----> <a href='vscode-notebook-cell:/g%3A/Drive%27%C4%B1m/Masa%C3%BCst%C3%BC/E%C4%9Fitimler/Yaz%C4%B1l%C4%B1m/VS%20Code%20Genel/Python%20In-class/011722.ipynb#ch0000018?line=1'>2</a>\u001b[0m C\n",
      "\u001b[1;31mNameError\u001b[0m: name 'C' is not defined"
     ]
    }
   ],
   "source": [
    "c = 11  # Python küçük ve büyük harfe karşı duyarlıdır. Mesela küçük c'yi 11'e eşitledik ama çıktı olarak büyük C yazarsak hata verir. \n",
    "C"
   ]
  },
  {
   "cell_type": "code",
   "execution_count": 27,
   "metadata": {},
   "outputs": [
    {
     "name": "stdout",
     "output_type": "stream",
     "text": [
      "apple.com\n",
      "clarusway.com\n"
     ]
    }
   ],
   "source": [
    "website = \"apple.com\"\n",
    "print(website)\n",
    "\n",
    "# assigning a new variable to website \n",
    "website = \"clarusway.com\"  # En son hangi değeri atadıysak en son onu yazdırır. \n",
    "\n",
    "print(website)"
   ]
  },
  {
   "cell_type": "code",
   "execution_count": 29,
   "metadata": {},
   "outputs": [
    {
     "name": "stdout",
     "output_type": "stream",
     "text": [
      "33 55 33\n"
     ]
    }
   ],
   "source": [
    "a = 11\n",
    "b = 22\n",
    "c = 44\n",
    "\n",
    "a = 33\n",
    "b = 55\n",
    "c = a\n",
    "print(a, b, c)  # En son hangi değeri verdiksek o kalır. "
   ]
  },
  {
   "cell_type": "code",
   "execution_count": 30,
   "metadata": {},
   "outputs": [
    {
     "name": "stdout",
     "output_type": "stream",
     "text": [
      "100\n"
     ]
    }
   ],
   "source": [
    "first_number = 100\n",
    "second_number = first_number  # En son satır en güncelidir. \n",
    "print(second_number) \n"
   ]
  },
  {
   "cell_type": "code",
   "execution_count": 32,
   "metadata": {},
   "outputs": [
    {
     "name": "stdout",
     "output_type": "stream",
     "text": [
      "33\n",
      "33\n",
      "15\n"
     ]
    }
   ],
   "source": [
    "x = 15\n",
    "y = 33\n",
    "z = x \n",
    "x = y \n",
    "\n",
    "print(x)\n",
    "print(y)\n",
    "print(z)"
   ]
  },
  {
   "cell_type": "code",
   "execution_count": 33,
   "metadata": {},
   "outputs": [
    {
     "ename": "SyntaxError",
     "evalue": "cannot assign to literal here. Maybe you meant '==' instead of '='? (2441185170.py, line 1)",
     "output_type": "error",
     "traceback": [
      "\u001b[1;36m  Input \u001b[1;32mIn [33]\u001b[1;36m\u001b[0m\n\u001b[1;33m    \"x\" = 15\u001b[0m\n\u001b[1;37m    ^\u001b[0m\n\u001b[1;31mSyntaxError\u001b[0m\u001b[1;31m:\u001b[0m cannot assign to literal here. Maybe you meant '==' instead of '='?\n"
     ]
    }
   ],
   "source": [
    "\"x\" = 15  # String bir variable'a value atayamayız. "
   ]
  },
  {
   "cell_type": "code",
   "execution_count": 34,
   "metadata": {},
   "outputs": [
    {
     "name": "stdout",
     "output_type": "stream",
     "text": [
      "5\n",
      "3.2\n",
      "Hello\n"
     ]
    }
   ],
   "source": [
    "a, b, c = 5, 3.2, \"Hello\"\n",
    "print(a)\n",
    "print(b)\n",
    "print(c)"
   ]
  },
  {
   "cell_type": "code",
   "execution_count": 36,
   "metadata": {},
   "outputs": [
    {
     "name": "stdout",
     "output_type": "stream",
     "text": [
      "Joseph 44 yellow\n"
     ]
    }
   ],
   "source": [
    "man = \"andrew\"\n",
    "color = \"green\"\n",
    "age = 32\n",
    "pi = 3.14\n",
    "color = \"yellow\"\n",
    "age = 44\n",
    "man = \"Joseph\"\n",
    "\n",
    "print(man, age, color)"
   ]
  },
  {
   "cell_type": "markdown",
   "metadata": {},
   "source": [
    "INTRODUCTION TO DATA TYPES\n",
    "1 - String (Klavyede tuşladığımız her şey olabilir)\n",
    "2 - Integer (Tam sayı)\n",
    "3 - Float (ondalıklı sayı)\n",
    "4 - bool (True, False)"
   ]
  },
  {
   "cell_type": "code",
   "execution_count": 39,
   "metadata": {},
   "outputs": [
    {
     "name": "stdout",
     "output_type": "stream",
     "text": [
      "being a good person\n"
     ]
    }
   ],
   "source": [
    "my_text = \"being a good person\"  # String type is called \"str\" ve çift ya da tek tırnak arasında yazılabilir. \n",
    "print(my_text)"
   ]
  },
  {
   "cell_type": "code",
   "execution_count": 41,
   "metadata": {},
   "outputs": [
    {
     "name": "stdout",
     "output_type": "stream",
     "text": [
      "1923\n",
      "%&+^3!>\n",
      "<class 'str'> <class 'str'>\n"
     ]
    }
   ],
   "source": [
    "str_number = '1923'\n",
    "str_sign = '%&+^3!>'\n",
    "print(str_number)\n",
    "print(str_sign)\n",
    "print(type(str_number), type(str_sign))"
   ]
  },
  {
   "cell_type": "markdown",
   "metadata": {},
   "source": [
    "Numeric Types\n",
    "1- Integer\n",
    "2- Float\n",
    "3- complex"
   ]
  },
  {
   "cell_type": "code",
   "execution_count": 42,
   "metadata": {},
   "outputs": [
    {
     "name": "stdout",
     "output_type": "stream",
     "text": [
      "40\n",
      "-18\n"
     ]
    }
   ],
   "source": [
    "my_integer = 40\n",
    "negative_num = -18  # String type is called \"int\" \n",
    "\n",
    "print(my_integer)  \n",
    "print(negative_num)"
   ]
  },
  {
   "cell_type": "code",
   "execution_count": 43,
   "metadata": {},
   "outputs": [
    {
     "data": {
      "text/plain": [
       "True"
      ]
     },
     "execution_count": 43,
     "metadata": {},
     "output_type": "execute_result"
    }
   ],
   "source": [
    "10 == 10.0  # 10, 10.0'a eşitmidir. "
   ]
  },
  {
   "cell_type": "code",
   "execution_count": 44,
   "metadata": {},
   "outputs": [
    {
     "data": {
      "text/plain": [
       "10.0"
      ]
     },
     "execution_count": 44,
     "metadata": {},
     "output_type": "execute_result"
    }
   ],
   "source": [
    "\"10\"  # String\n",
    "10  # integer\n",
    "10.0  # float"
   ]
  },
  {
   "cell_type": "code",
   "execution_count": 47,
   "metadata": {},
   "outputs": [
    {
     "data": {
      "text/plain": [
       "float"
      ]
     },
     "execution_count": 47,
     "metadata": {},
     "output_type": "execute_result"
    }
   ],
   "source": [
    "type(0.0)  # Eğer print yazmadan direk type diyerek tipini öğrenirsek, float olarak çıktı verir. Aşağıdaki gibi ise <class 'float'> verir. "
   ]
  },
  {
   "cell_type": "code",
   "execution_count": 48,
   "metadata": {},
   "outputs": [
    {
     "name": "stdout",
     "output_type": "stream",
     "text": [
      "<class 'float'>\n"
     ]
    }
   ],
   "source": [
    "print(type(0.0))"
   ]
  },
  {
   "cell_type": "markdown",
   "metadata": {},
   "source": [
    "Boolean : Sadece 2 değer alır. True ya da False. Evet hayır gibi, var ya da yok gibi düşünebiliriz. Sorduğumuz soruya cevap. "
   ]
  },
  {
   "cell_type": "code",
   "execution_count": 49,
   "metadata": {},
   "outputs": [
    {
     "name": "stdout",
     "output_type": "stream",
     "text": [
      "<class 'str'>\n"
     ]
    }
   ],
   "source": [
    "my_data = 'I am string'\n",
    "print(type(my_data))"
   ]
  },
  {
   "cell_type": "markdown",
   "metadata": {},
   "source": [
    "Python'da gömülü fonksiyonlar vardır. \"print\" şimdiye kadar en çok kullandıklarımızdandır. \"str()\", \"İnt()\", \"float()\" gibi yeni fonksiyonlar da mevcuttur.Fonksiyonu çağırmaya \"call a function\" denir. "
   ]
  },
  {
   "cell_type": "code",
   "execution_count": null,
   "metadata": {},
   "outputs": [],
   "source": [
    "str()  # String'e çevirir. Tüm veri tipleri String'e dönüşür fakat ve diğer integer ve float'a dönüşmez. \n",
    "int()  # Integer'a çevirir\n",
    "float()  # float'a çevirir"
   ]
  },
  {
   "cell_type": "code",
   "execution_count": 51,
   "metadata": {},
   "outputs": [
    {
     "name": "stdout",
     "output_type": "stream",
     "text": [
      "10\n"
     ]
    }
   ],
   "source": [
    "int(\"10\")"
   ]
  },
  {
   "cell_type": "code",
   "execution_count": 52,
   "metadata": {},
   "outputs": [
    {
     "data": {
      "text/plain": [
       "int"
      ]
     },
     "execution_count": 52,
     "metadata": {},
     "output_type": "execute_result"
    }
   ],
   "source": [
    "a = int(\"11\")\n",
    "type(a)"
   ]
  },
  {
   "cell_type": "code",
   "execution_count": 53,
   "metadata": {},
   "outputs": [
    {
     "ename": "ValueError",
     "evalue": "invalid literal for int() with base 10: 'onbir'",
     "output_type": "error",
     "traceback": [
      "\u001b[1;31m---------------------------------------------------------------------------\u001b[0m",
      "\u001b[1;31mValueError\u001b[0m                                Traceback (most recent call last)",
      "\u001b[1;32mg:\\Drive'ım\\Masaüstü\\Eğitimler\\Yazılım\\VS Code Genel\\Python In-class\\011722.ipynb Cell 39'\u001b[0m in \u001b[0;36m<module>\u001b[1;34m\u001b[0m\n\u001b[1;32m----> <a href='vscode-notebook-cell:/g%3A/Drive%27%C4%B1m/Masa%C3%BCst%C3%BC/E%C4%9Fitimler/Yaz%C4%B1l%C4%B1m/VS%20Code%20Genel/Python%20In-class/011722.ipynb#ch0000043?line=0'>1</a>\u001b[0m \u001b[39mint\u001b[39;49m(\u001b[39m\"\u001b[39;49m\u001b[39monbir\u001b[39;49m\u001b[39m\"\u001b[39;49m)\n\u001b[0;32m      <a href='vscode-notebook-cell:/g%3A/Drive%27%C4%B1m/Masa%C3%BCst%C3%BC/E%C4%9Fitimler/Yaz%C4%B1l%C4%B1m/VS%20Code%20Genel/Python%20In-class/011722.ipynb#ch0000043?line=1'>2</a>\u001b[0m \u001b[39mint\u001b[39m(\u001b[39m\"\u001b[39m\u001b[39mten\u001b[39m\u001b[39m\"\u001b[39m)\n",
      "\u001b[1;31mValueError\u001b[0m: invalid literal for int() with base 10: 'onbir'"
     ]
    }
   ],
   "source": [
    "int(\"onbir\")  # Her şeyin integer'a dönüşemeyeceğine örnek. \n",
    "int(\"ten\")"
   ]
  },
  {
   "cell_type": "code",
   "execution_count": 57,
   "metadata": {},
   "outputs": [
    {
     "name": "stdout",
     "output_type": "stream",
     "text": [
      "3.14\n",
      "<class 'str'>\n"
     ]
    }
   ],
   "source": [
    "pi = 3.14 \n",
    "converted_pi = str(pi)\n",
    "print(converted_pi)\n",
    "print(type(converted_pi))"
   ]
  },
  {
   "cell_type": "code",
   "execution_count": 58,
   "metadata": {},
   "outputs": [
    {
     "data": {
      "text/plain": [
       "3"
      ]
     },
     "execution_count": 58,
     "metadata": {},
     "output_type": "execute_result"
    }
   ],
   "source": [
    "int(3.14)  # Integer fonksiyonu bu şekilde çalışıyor yani virgülden sonraki kısmı atıyor. "
   ]
  },
  {
   "cell_type": "code",
   "execution_count": 59,
   "metadata": {},
   "outputs": [
    {
     "data": {
      "text/plain": [
       "11.0"
      ]
     },
     "execution_count": 59,
     "metadata": {},
     "output_type": "execute_result"
    }
   ],
   "source": [
    "float(\"11\")"
   ]
  },
  {
   "cell_type": "code",
   "execution_count": 60,
   "metadata": {},
   "outputs": [
    {
     "data": {
      "text/plain": [
       "11.0"
      ]
     },
     "execution_count": 60,
     "metadata": {},
     "output_type": "execute_result"
    }
   ],
   "source": [
    "float(11)"
   ]
  },
  {
   "cell_type": "code",
   "execution_count": 61,
   "metadata": {},
   "outputs": [
    {
     "data": {
      "text/plain": [
       "33.33"
      ]
     },
     "execution_count": 61,
     "metadata": {},
     "output_type": "execute_result"
    }
   ],
   "source": [
    "float(\"33.33\")"
   ]
  },
  {
   "cell_type": "code",
   "execution_count": 62,
   "metadata": {},
   "outputs": [
    {
     "name": "stdout",
     "output_type": "stream",
     "text": [
      "28\n",
      "36.5\n",
      "I am at_39\n"
     ]
    }
   ],
   "source": [
    "x = 39\n",
    "v = \"11\"\n",
    "y = \"2.5\"\n",
    "z = \"I am at_\"\n",
    "\n",
    "print(x-int(v))\n",
    "print(x-float(y))\n",
    "print(z+str(x))\n",
    "\n"
   ]
  },
  {
   "cell_type": "code",
   "execution_count": 63,
   "metadata": {},
   "outputs": [
    {
     "data": {
      "text/plain": [
       "'3311'"
      ]
     },
     "execution_count": 63,
     "metadata": {},
     "output_type": "execute_result"
    }
   ],
   "source": [
    "\"33\" + \"11\"  # String olan ifadeleri yan yana toplarsak yapıştırır. "
   ]
  },
  {
   "cell_type": "code",
   "execution_count": 64,
   "metadata": {},
   "outputs": [
    {
     "ename": "TypeError",
     "evalue": "can only concatenate str (not \"int\") to str",
     "output_type": "error",
     "traceback": [
      "\u001b[1;31m---------------------------------------------------------------------------\u001b[0m",
      "\u001b[1;31mTypeError\u001b[0m                                 Traceback (most recent call last)",
      "\u001b[1;32mg:\\Drive'ım\\Masaüstü\\Eğitimler\\Yazılım\\VS Code Genel\\Python In-class\\011722.ipynb Cell 47'\u001b[0m in \u001b[0;36m<module>\u001b[1;34m\u001b[0m\n\u001b[1;32m----> <a href='vscode-notebook-cell:/g%3A/Drive%27%C4%B1m/Masa%C3%BCst%C3%BC/E%C4%9Fitimler/Yaz%C4%B1l%C4%B1m/VS%20Code%20Genel/Python%20In-class/011722.ipynb#ch0000051?line=0'>1</a>\u001b[0m \u001b[39m\"\u001b[39;49m\u001b[39m33\u001b[39;49m\u001b[39m\"\u001b[39;49m \u001b[39m+\u001b[39;49m \u001b[39m11\u001b[39;49m\n",
      "\u001b[1;31mTypeError\u001b[0m: can only concatenate str (not \"int\") to str"
     ]
    }
   ],
   "source": [
    "\"33\" + 11  # Bir string ile bir integer toplanamaz, farklı türlerdedir. "
   ]
  },
  {
   "cell_type": "markdown",
   "metadata": {},
   "source": [
    "Simple Operations\n",
    " 1- Arithmetic Operations \n",
    " + addition (100 + 45 = 145)\n",
    " - subtraction (500-650 = 435)\n",
    " * Multiplication (25 * 4 = 100)\n",
    " / division (Buna float division da diyebiliriz) (10 / 2 = 5.0)\n",
    " // floor division (integer division da diyebiliriz) (11 // 5 = 2)  # Bölüm kısmı yani içindeki tam satı kısmıdır. \n",
    " ** exponentiation (2 ** 5 = 32) \n",
    " % modulus  # (11 % 5 = 1)  # Bölmedeki kalan kısmını verir. Bu fonksiyon sayesinde tek mi çift mi olup olmadığını bulabiliriz ya da 3'e bölünüp bölünmediğini.  "
   ]
  },
  {
   "cell_type": "code",
   "execution_count": 65,
   "metadata": {},
   "outputs": [
    {
     "data": {
      "text/plain": [
       "5.0"
      ]
     },
     "execution_count": 65,
     "metadata": {},
     "output_type": "execute_result"
    }
   ],
   "source": [
    "10 / 2  # Bir işlemde bölüm var ise o float sonuç verir. "
   ]
  },
  {
   "cell_type": "code",
   "execution_count": 66,
   "metadata": {},
   "outputs": [
    {
     "data": {
      "text/plain": [
       "8"
      ]
     },
     "execution_count": 66,
     "metadata": {},
     "output_type": "execute_result"
    }
   ],
   "source": [
    "43 // 5 # floor division"
   ]
  },
  {
   "cell_type": "code",
   "execution_count": 67,
   "metadata": {},
   "outputs": [
    {
     "data": {
      "text/plain": [
       "3"
      ]
     },
     "execution_count": 67,
     "metadata": {},
     "output_type": "execute_result"
    }
   ],
   "source": [
    "43 % 5  # modulus"
   ]
  },
  {
   "cell_type": "code",
   "execution_count": 69,
   "metadata": {},
   "outputs": [
    {
     "name": "stdout",
     "output_type": "stream",
     "text": [
      "4\n",
      "15.0\n",
      "11 - 7\n"
     ]
    },
    {
     "ename": "TypeError",
     "evalue": "can only concatenate str (not \"int\") to str",
     "output_type": "error",
     "traceback": [
      "\u001b[1;31m---------------------------------------------------------------------------\u001b[0m",
      "\u001b[1;31mTypeError\u001b[0m                                 Traceback (most recent call last)",
      "\u001b[1;32mg:\\Drive'ım\\Masaüstü\\Eğitimler\\Yazılım\\VS Code Genel\\Python In-class\\011722.ipynb Cell 52'\u001b[0m in \u001b[0;36m<module>\u001b[1;34m\u001b[0m\n\u001b[0;32m      <a href='vscode-notebook-cell:/g%3A/Drive%27%C4%B1m/Masa%C3%BCst%C3%BC/E%C4%9Fitimler/Yaz%C4%B1l%C4%B1m/VS%20Code%20Genel/Python%20In-class/011722.ipynb#ch0000056?line=1'>2</a>\u001b[0m \u001b[39mprint\u001b[39m(\u001b[39m4\u001b[39m \u001b[39m+\u001b[39m \u001b[39m11.0\u001b[39m)  \u001b[39m# Bir fonksiyon için de float ve integer değer var ise sonuçta float çıkacaktır. \u001b[39;00m\n\u001b[0;32m      <a href='vscode-notebook-cell:/g%3A/Drive%27%C4%B1m/Masa%C3%BCst%C3%BC/E%C4%9Fitimler/Yaz%C4%B1l%C4%B1m/VS%20Code%20Genel/Python%20In-class/011722.ipynb#ch0000056?line=2'>3</a>\u001b[0m \u001b[39mprint\u001b[39m(\u001b[39m'\u001b[39m\u001b[39m11 - 7\u001b[39m\u001b[39m'\u001b[39m)\n\u001b[1;32m----> <a href='vscode-notebook-cell:/g%3A/Drive%27%C4%B1m/Masa%C3%BCst%C3%BC/E%C4%9Fitimler/Yaz%C4%B1l%C4%B1m/VS%20Code%20Genel/Python%20In-class/011722.ipynb#ch0000056?line=3'>4</a>\u001b[0m \u001b[39mprint\u001b[39m(\u001b[39m'\u001b[39;49m\u001b[39m4\u001b[39;49m\u001b[39m'\u001b[39;49m \u001b[39m+\u001b[39;49m \u001b[39m4\u001b[39;49m)\n",
      "\u001b[1;31mTypeError\u001b[0m: can only concatenate str (not \"int\") to str"
     ]
    }
   ],
   "source": [
    "print(11-7)\n",
    "print(4 + 11.0)  # Bir fonksiyon için de float var ise sonuç float çıkacaktır. \n",
    "print('11 - 7')  # 11-7 işlemi tekli çift tırnak içinde yer aldığı için sonuçta stringdir. \n",
    "print('4' + 4)  # Elma ile armudu yani string ile integer ı toplamaya çalıştığımız için hata verdi. "
   ]
  },
  {
   "cell_type": "code",
   "execution_count": 72,
   "metadata": {},
   "outputs": [
    {
     "name": "stdout",
     "output_type": "stream",
     "text": [
      "26\n"
     ]
    }
   ],
   "source": [
    "num1, num2 = 81, 55  # Virgüller ile ayrılmış variablelar var, aynı şekilde virgüller ile ayrılmış value lar var. Sırası ile atanırlar.  \n",
    "num3 = num1 - num2\n",
    "print(num3)"
   ]
  },
  {
   "cell_type": "code",
   "execution_count": 76,
   "metadata": {},
   "outputs": [
    {
     "data": {
      "text/plain": [
       "78.5"
      ]
     },
     "execution_count": 76,
     "metadata": {},
     "output_type": "execute_result"
    }
   ],
   "source": [
    "r = 5\n",
    "area = 3.14 * (r**2)\n",
    "area\n"
   ]
  },
  {
   "cell_type": "code",
   "execution_count": 77,
   "metadata": {},
   "outputs": [
    {
     "name": "stdout",
     "output_type": "stream",
     "text": [
      "1\n",
      "10.0\n"
     ]
    }
   ],
   "source": [
    "print(11 % 2)  # remainder if this division is 1\n",
    "               # it means 11 is an odd number (tekli sayı)\n",
    "print((4 * 5) / 2)  # Sonuç foat dır. Bunu unutmayalım. "
   ]
  },
  {
   "cell_type": "code",
   "execution_count": 79,
   "metadata": {},
   "outputs": [
    {
     "name": "stdout",
     "output_type": "stream",
     "text": [
      "8\n",
      "9\n",
      "4.0\n"
     ]
    }
   ],
   "source": [
    "print(2 ** 3)  # 2 to the power of 3 (2 üzeri 3 kuvveti)\n",
    "print(3 ** 2)  # square of 3 (3'ün karesi)\n",
    "a = 2\n",
    "b = 8\n",
    "print((a * b) ** 0.5) #square root (kare kök), fonksiyon içinde herhangi bir yer de float var ise sonuçta float tır. "
   ]
  },
  {
   "cell_type": "code",
   "execution_count": null,
   "metadata": {},
   "outputs": [],
   "source": []
  }
 ],
 "metadata": {
  "interpreter": {
   "hash": "1119d47f94ad9ac75885573077f663dd4dae1d75e807f23fe53292849f40bbc4"
  },
  "kernelspec": {
   "display_name": "Python 3.10.2 64-bit",
   "language": "python",
   "name": "python3"
  },
  "language_info": {
   "codemirror_mode": {
    "name": "ipython",
    "version": 3
   },
   "file_extension": ".py",
   "mimetype": "text/x-python",
   "name": "python",
   "nbconvert_exporter": "python",
   "pygments_lexer": "ipython3",
   "version": "3.10.2"
  },
  "orig_nbformat": 4
 },
 "nbformat": 4,
 "nbformat_minor": 2
}
