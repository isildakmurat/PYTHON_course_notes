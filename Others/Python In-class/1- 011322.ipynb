{
 "cells": [
  {
   "cell_type": "markdown",
   "metadata": {},
   "source": [
    "INTRODUCTION TO PYTHON"
   ]
  },
  {
   "cell_type": "markdown",
   "metadata": {},
   "source": [
    "Klavye üzerinde yer alan tüm karakterleri \"\", '', \"\"\" \"\"\", ya da ''' ''' arasında yazarsak bize string veri tipi verir yani text olarak çıkarır. Çift tırnak ile başladıysak çift tırnak ile bitirmeliyiz. Diğer tüm durumlar için de geçerlidir. "
   ]
  },
  {
   "cell_type": "code",
   "execution_count": 7,
   "metadata": {},
   "outputs": [
    {
     "name": "stdout",
     "output_type": "stream",
     "text": [
      "hello world!\n"
     ]
    }
   ],
   "source": [
    "print(\"hello world!\")  # Press \"shift + enter\" kodu çalıştırır / Hata aldığımız zaman üst kısımda yer alan \"Restart\" komutuna basabiliriz. "
   ]
  },
  {
   "cell_type": "code",
   "execution_count": 2,
   "metadata": {},
   "outputs": [
    {
     "ename": "SyntaxError",
     "evalue": "unterminated string literal (detected at line 1) (842549119.py, line 1)",
     "output_type": "error",
     "traceback": [
      "\u001b[1;36m  Input \u001b[1;32mIn [2]\u001b[1;36m\u001b[0m\n\u001b[1;33m    print(\"hello world')\u001b[0m\n\u001b[1;37m          ^\u001b[0m\n\u001b[1;31mSyntaxError\u001b[0m\u001b[1;31m:\u001b[0m unterminated string literal (detected at line 1)\n"
     ]
    }
   ],
   "source": [
    "print(\"hello world')   # Hata verir.Çift ile başlayıp, çift ile bitmediği için. "
   ]
  },
  {
   "cell_type": "code",
   "execution_count": 3,
   "metadata": {},
   "outputs": [
    {
     "name": "stdout",
     "output_type": "stream",
     "text": [
      "3#^+$%6-*0\n"
     ]
    }
   ],
   "source": [
    "print(\"3#^+$%6-*0\")  # Klavyenin üzerindeki tuşlar ile yazdığımız tüm karakterler tırnak içinde yazıldığı sürece string'dir ve hata almadan print edebiliriz."
   ]
  },
  {
   "cell_type": "code",
   "execution_count": 4,
   "metadata": {},
   "outputs": [
    {
     "ename": "SyntaxError",
     "evalue": "unterminated string literal (detected at line 1) (2178593903.py, line 1)",
     "output_type": "error",
     "traceback": [
      "\u001b[1;36m  Input \u001b[1;32mIn [4]\u001b[1;36m\u001b[0m\n\u001b[1;33m    print(\"benim adım joseph,\u001b[0m\n\u001b[1;37m          ^\u001b[0m\n\u001b[1;31mSyntaxError\u001b[0m\u001b[1;31m:\u001b[0m unterminated string literal (detected at line 1)\n"
     ]
    }
   ],
   "source": [
    "print(\"benim adım joseph,   #Birden fazla satırda çift ya da tek tırnak işe yaramıyor. \n",
    "      ben sizi çok sevdim\n",
    "      sizde huzur var\")"
   ]
  },
  {
   "cell_type": "code",
   "execution_count": 5,
   "metadata": {},
   "outputs": [
    {
     "name": "stdout",
     "output_type": "stream",
     "text": [
      "benim adım joseph,  \n",
      "      ben sizi çok sevdim\n",
      "      sizde huzur var\n"
     ]
    }
   ],
   "source": [
    "print(\"\"\"benim adım joseph,  # Üçlü tırnak ile başlayıp, üçlü tırnak ile bitirdiğimizde, bu tarz çoklu satırları da yazdırabiliriz. \n",
    "      ben sizi çok sevdim    # Aynısını tekli üç tırnakta da yapabiliriz. \n",
    "      sizde huzur var\"\"\")"
   ]
  },
  {
   "cell_type": "code",
   "execution_count": 6,
   "metadata": {},
   "outputs": [
    {
     "name": "stdout",
     "output_type": "stream",
     "text": [
      "hello world!\n"
     ]
    }
   ],
   "source": [
    "print(\"\"\"hello world!\"\"\")"
   ]
  },
  {
   "cell_type": "code",
   "execution_count": 7,
   "metadata": {},
   "outputs": [
    {
     "name": "stdout",
     "output_type": "stream",
     "text": [
      "hello world!\n"
     ]
    }
   ],
   "source": [
    "print('''hello world!''')"
   ]
  },
  {
   "cell_type": "code",
   "execution_count": 8,
   "metadata": {},
   "outputs": [
    {
     "name": "stdout",
     "output_type": "stream",
     "text": [
      "41\n"
     ]
    }
   ],
   "source": [
    "print(41)  # Buradaki sayı integer veri tipidir. Sayılarda tırnak kullanırsak, bunu stringe çevirmiş oluruz. "
   ]
  },
  {
   "cell_type": "code",
   "execution_count": 9,
   "metadata": {},
   "outputs": [
    {
     "name": "stdout",
     "output_type": "stream",
     "text": [
      "41\n"
     ]
    }
   ],
   "source": [
    "print(\"41\")  # Yine çıktı alabiliriz tabi ama tırnak içinde yazıldığı için string veri tipidir buradaki sayı. "
   ]
  },
  {
   "cell_type": "code",
   "execution_count": 12,
   "metadata": {},
   "outputs": [
    {
     "name": "stdout",
     "output_type": "stream",
     "text": [
      "'We should have enough time for our family\"\n"
     ]
    }
   ],
   "source": [
    "print(''''We should have enough time for our family\"''')  # Başında 3 tırnak ve sonunda 3 tırnak olduğu için aradaki tüm verileri string kabul eder."
   ]
  },
  {
   "cell_type": "markdown",
   "metadata": {},
   "source": [
    "python'da ondalık sayı yazarken virgül değil, nokta kullanılır. (3.14 doğru bir yazımdır) Virgül iki temel yapıyı, değişkeni, değeri birbirinden ayırmakta kullanılır. "
   ]
  },
  {
   "cell_type": "code",
   "execution_count": 13,
   "metadata": {},
   "outputs": [
    {
     "name": "stdout",
     "output_type": "stream",
     "text": [
      "3.14\n"
     ]
    }
   ],
   "source": [
    "print(3.14)"
   ]
  },
  {
   "cell_type": "code",
   "execution_count": 14,
   "metadata": {},
   "outputs": [
    {
     "name": "stdout",
     "output_type": "stream",
     "text": [
      "3 4\n"
     ]
    }
   ],
   "source": [
    "print(3,4)"
   ]
  },
  {
   "cell_type": "code",
   "execution_count": 15,
   "metadata": {},
   "outputs": [
    {
     "name": "stdout",
     "output_type": "stream",
     "text": [
      "3 4 11.4 ali deli veli\n"
     ]
    }
   ],
   "source": [
    "print(3, 4, 11.4, \"ali\", \"deli\", \"veli\")"
   ]
  },
  {
   "cell_type": "code",
   "execution_count": 16,
   "metadata": {},
   "outputs": [
    {
     "name": "stdout",
     "output_type": "stream",
     "text": [
      "first line\n",
      "\n",
      "third line\n"
     ]
    }
   ],
   "source": [
    "print('first line')\n",
    "print()  # iç kısmını boş bırakırsak, boş yazdırır.\n",
    "print('''third line''')"
   ]
  },
  {
   "cell_type": "code",
   "execution_count": 17,
   "metadata": {},
   "outputs": [
    {
     "name": "stdout",
     "output_type": "stream",
     "text": [
      "ali\n",
      "\n",
      "veli\n"
     ]
    }
   ],
   "source": [
    "print(\"ali\")\n",
    "print(\"\")\n",
    "print(\"veli\")"
   ]
  },
  {
   "cell_type": "markdown",
   "metadata": {},
   "source": [
    "Print() ile print(\"\") aynıdır. "
   ]
  },
  {
   "cell_type": "code",
   "execution_count": 18,
   "metadata": {},
   "outputs": [
    {
     "ename": "SyntaxError",
     "evalue": "unterminated triple-quoted string literal (detected at line 1) (878951140.py, line 1)",
     "output_type": "error",
     "traceback": [
      "\u001b[1;36m  Input \u001b[1;32mIn [18]\u001b[1;36m\u001b[0m\n\u001b[1;33m    print('''')\u001b[0m\n\u001b[1;37m          ^\u001b[0m\n\u001b[1;31mSyntaxError\u001b[0m\u001b[1;31m:\u001b[0m unterminated triple-quoted string literal (detected at line 1)\n"
     ]
    }
   ],
   "source": [
    "print('''') #hata veriyor, python ilk 3 tırnağı alınca karşılığını alamadığı için hata veriyor."
   ]
  },
  {
   "cell_type": "markdown",
   "metadata": {},
   "source": [
    "\"arasına yazabiliriz\", 'arasına  yazabiliriz', \"\"\"arasına yazabiliriz\"\"\" ya da '''arasına bir şeyler yazabiliriz''' , string olabilmesi bu 4 şekilde mümkündür. "
   ]
  },
  {
   "cell_type": "code",
   "execution_count": 19,
   "metadata": {},
   "outputs": [
    {
     "name": "stdout",
     "output_type": "stream",
     "text": [
      "\"\"\n"
     ]
    }
   ],
   "source": [
    "print('\"\"')"
   ]
  },
  {
   "cell_type": "code",
   "execution_count": 20,
   "metadata": {},
   "outputs": [
    {
     "name": "stdout",
     "output_type": "stream",
     "text": [
      "''\n"
     ]
    }
   ],
   "source": [
    "print(\"''\")"
   ]
  },
  {
   "cell_type": "code",
   "execution_count": 21,
   "metadata": {},
   "outputs": [
    {
     "name": "stdout",
     "output_type": "stream",
     "text": [
      "\"\n"
     ]
    }
   ],
   "source": [
    "print('\"')"
   ]
  },
  {
   "cell_type": "markdown",
   "metadata": {},
   "source": [
    "Kahoot\n",
    "\n",
    "1. What is Python ? \n",
    "- High Level Programming Language\n",
    "\n",
    "2. Who created Python ?\n",
    "- Guido van Rossum\n",
    "\n",
    "3. The latest version of Python is ...\n",
    "- 3.10.1\n",
    "\n",
    "4. The Jupyter Lab/Notebook is an open-source web application that allows us cell-based execution.\n",
    "- True\n",
    "\n",
    "5. Which of the following companies/institutions did not build its IT infrastructure using Python ? \n",
    "Google - NASA - Netflix - (Nike)\n",
    "\n",
    "\n",
    "6. Python'nun tanıtım videosunda ki seslendirmeyi de \"Python\"programla dili ile yapıldı. İleri seviye de biz de bunu bu şekilde yapabiliriz. "
   ]
  },
  {
   "cell_type": "markdown",
   "metadata": {},
   "source": [
    "FORMAT & STYLE OF CODİNG"
   ]
  },
  {
   "cell_type": "markdown",
   "metadata": {},
   "source": [
    "PEP 8 Kuralları: Bu kuralları uygulamassak da olur yani kural değildir ama bir düzen olmaz.\n",
    "\n",
    "1- Bir satırda 79 karakteri geçmemeliyiz. Geçsek de bir şey olmaz ama geçmememiz daha iyi. \"\\\" ile satırımız uzadığında aşağıya aktarabiliyoruz. \n"
   ]
  },
  {
   "cell_type": "code",
   "execution_count": 1,
   "metadata": {},
   "outputs": [
    {
     "name": "stdout",
     "output_type": "stream",
     "text": [
      "uyarsan güzel olur\n"
     ]
    }
   ],
   "source": [
    "print(\"uyarsan \\\n",
    "güzel olur\")"
   ]
  },
  {
   "cell_type": "code",
   "execution_count": 29,
   "metadata": {},
   "outputs": [
    {
     "ename": "SyntaxError",
     "evalue": "unexpected character after line continuation character (101516550.py, line 1)",
     "output_type": "error",
     "traceback": [
      "\u001b[1;36m  Input \u001b[1;32mIn [29]\u001b[1;36m\u001b[0m\n\u001b[1;33m    pr\\int()   #fonksiyonları, özel kelimeleri bölmeyeceğiz.\u001b[0m\n\u001b[1;37m       ^\u001b[0m\n\u001b[1;31mSyntaxError\u001b[0m\u001b[1;31m:\u001b[0m unexpected character after line continuation character\n"
     ]
    }
   ],
   "source": [
    "pr\\int()   #fonksiyonları, özel kelimeleri bölmeyeceğiz. Bölmekteki amacımız 79 karakteri aşmamak. "
   ]
  },
  {
   "cell_type": "markdown",
   "metadata": {},
   "source": [
    "2- Parantezlerden önce ve sonra boşluk bırakmamaya gayret etmeliyiz. \n",
    "DOĞRU: spam(meat[1], {milk: 2}) , YANLIŞ: spam( meat[ 1 ], { milk: 2} )\n",
    "\n",
    "3- Bir virgül koyarsak ve sonrasında parantez var ise yine boşluk bırakmama gayret etmeliyiz. \n",
    "DOĞRU: df[0,] or foo = (2,) , YANLIŞ: df[0,] or foo = (2,)\n",
    "\n",
    "4- , ; : dan önce boşluk bırakılmaz.\n",
    "DOĞRU: if y == 3: print x, y; x, y = y, x    YANLIŞ: if y == 3 : print x , y ; x , y = y , x\n",
    "\n",
    "5- Fonksiyon parantezlerinden önce boşluk bırakmayalım\n",
    "DOĞRU: print(x, y)  YANLIŞ: print (x, y)\n",
    "\n",
    "6- Kod yazarken hizalamaya çalışmamıza gerek yoktur. \n",
    "7- =, +=, ==, <, >, >=, in, not in, is, and, or, not gibi ifadelerin öncesinde ve sonrasında boşluk bırakmamız gerekir. "
   ]
  },
  {
   "cell_type": "markdown",
   "metadata": {},
   "source": [
    "Comment and Docstrings\n",
    "\n",
    "Yazdığımız koda sonradan baktığımızda ne olduğunu hatırlamamız açısından öncesinde # ifadesi koyarak yorum/açıklama yazabiliriz. PEP 8 kuralları gereği öncesinde 2 boşluk, sonrasında ise 1 boşluk bırakmamız gerekir. Boşluk bırakmassak da çalışır ama bıraksak daha güzel olur. Kod satırına başlık olarak da koyabiliriz."
   ]
  },
  {
   "cell_type": "code",
   "execution_count": 30,
   "metadata": {},
   "outputs": [
    {
     "name": "stdout",
     "output_type": "stream",
     "text": [
      "hello world\n"
     ]
    }
   ],
   "source": [
    "print(\"hello world\")  # bu bir açıklama  satırıdır."
   ]
  },
  {
   "cell_type": "code",
   "execution_count": 31,
   "metadata": {},
   "outputs": [],
   "source": [
    "# bu bir açıklama satırıdır. \n",
    "# bu açıklamanın ikinci satırıdır. \n",
    "# bu son satırdır. "
   ]
  },
  {
   "cell_type": "markdown",
   "metadata": {},
   "source": [
    "BASİC DATA TYPES\n",
    "- Variables\n",
    "- Introduction to Data Types\n",
    "- Strings\n",
    "- Numeric Types\n",
    "- Boolean\n",
    "- Type Conversion "
   ]
  },
  {
   "cell_type": "markdown",
   "metadata": {},
   "source": [
    "Variables\n",
    "\n",
    "- Naming Variables: Değişkenlere istediğimiz ismi verebiliriz ama PEP 8'e uygun olarak vermemiz çok daha iyi olur. Kodumuzu hep başkası da okuyacakmış gibi düşüneceğiz. O yoğunluk içerisinde o koda kendimiz de baksak anlamayabiliriz sonrasında. \n",
    "\n",
    "  variable name = value (değişkene değer atıyoruz)\n"
   ]
  },
  {
   "cell_type": "code",
   "execution_count": 2,
   "metadata": {},
   "outputs": [],
   "source": [
    "planet = \"jupyter\"\n",
    "price = 140 \n",
    "pi_number = 3.14"
   ]
  },
  {
   "cell_type": "code",
   "execution_count": 3,
   "metadata": {},
   "outputs": [
    {
     "name": "stdout",
     "output_type": "stream",
     "text": [
      "125.0\n"
     ]
    }
   ],
   "source": [
    "a = 25\n",
    "b = 10\n",
    "c = 2\n",
    "print((a*b)/c)"
   ]
  },
  {
   "cell_type": "code",
   "execution_count": 6,
   "metadata": {},
   "outputs": [
    {
     "name": "stdout",
     "output_type": "stream",
     "text": [
      "ali 33 deli\n"
     ]
    }
   ],
   "source": [
    "a = \"ali\"\n",
    "b = 33\n",
    "c = \"deli\"\n",
    "print(a, b, c)"
   ]
  }
 ],
 "metadata": {
  "interpreter": {
   "hash": "1119d47f94ad9ac75885573077f663dd4dae1d75e807f23fe53292849f40bbc4"
  },
  "kernelspec": {
   "display_name": "Python 3.10.2 64-bit",
   "language": "python",
   "name": "python3"
  },
  "language_info": {
   "codemirror_mode": {
    "name": "ipython",
    "version": 3
   },
   "file_extension": ".py",
   "mimetype": "text/x-python",
   "name": "python",
   "nbconvert_exporter": "python",
   "pygments_lexer": "ipython3",
   "version": "3.10.2"
  },
  "orig_nbformat": 4
 },
 "nbformat": 4,
 "nbformat_minor": 2
}
