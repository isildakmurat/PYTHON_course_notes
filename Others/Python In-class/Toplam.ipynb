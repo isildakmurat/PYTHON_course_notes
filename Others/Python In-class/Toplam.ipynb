{
 "cells": [
  {
   "cell_type": "markdown",
   "metadata": {},
   "source": [
    "1. DERS (011322)"
   ]
  },
  {
   "cell_type": "markdown",
   "metadata": {},
   "source": [
    "INTRODUCTION TO PYTHON"
   ]
  },
  {
   "cell_type": "markdown",
   "metadata": {},
   "source": [
    "Klavye üzerinde yer alan tüm karakterleri \"\", '', \"\"\" \"\"\", ya da ''' ''' arasında yazarsak bize string veri tipi verir yani text olarak çıkarır. Çift tırnak ile başladıysak çift tırnak ile bitirmeliyiz. Diğer tüm durumlar için de geçerlidir. "
   ]
  },
  {
   "cell_type": "code",
   "execution_count": null,
   "metadata": {},
   "outputs": [
    {
     "name": "stdout",
     "output_type": "stream",
     "text": [
      "hello world!\n"
     ]
    }
   ],
   "source": [
    "print(\"hello world!\")  # Press \"shift + enter\" kodu çalıştırır / Hata aldığımız zaman üst kısımda yer alan \"Restart\" komutuna basabiliriz. "
   ]
  },
  {
   "cell_type": "code",
   "execution_count": null,
   "metadata": {},
   "outputs": [
    {
     "ename": "SyntaxError",
     "evalue": "unterminated string literal (detected at line 1) (842549119.py, line 1)",
     "output_type": "error",
     "traceback": [
      "\u001b[1;36m  Input \u001b[1;32mIn [2]\u001b[1;36m\u001b[0m\n",
      "\u001b[1;33m    print(\"hello world')\u001b[0m\n",
      "\u001b[1;37m          ^\u001b[0m\n",
      "\u001b[1;31mSyntaxError\u001b[0m\u001b[1;31m:\u001b[0m unterminated string literal (detected at line 1)\n"
     ]
    }
   ],
   "source": [
    "print(\"hello world')   # Hata verir.Çift ile başlayıp, çift ile bitmediği için. "
   ]
  },
  {
   "cell_type": "code",
   "execution_count": 1,
   "metadata": {},
   "outputs": [
    {
     "name": "stdout",
     "output_type": "stream",
     "text": [
      "3#^+$%6-*0\n"
     ]
    }
   ],
   "source": [
    "print(\"3#^+$%6-*0\")  # Klavyenin üzerindeki tuşlar ile yazdığımız tüm karakterler tırnak içinde yazıldığı sürece string'dir ve hata almadan print edebiliriz."
   ]
  },
  {
   "cell_type": "code",
   "execution_count": null,
   "metadata": {},
   "outputs": [
    {
     "ename": "SyntaxError",
     "evalue": "unterminated string literal (detected at line 1) (2178593903.py, line 1)",
     "output_type": "error",
     "traceback": [
      "\u001b[1;36m  Input \u001b[1;32mIn [4]\u001b[1;36m\u001b[0m\n",
      "\u001b[1;33m    print(\"benim adım joseph,\u001b[0m\n",
      "\u001b[1;37m          ^\u001b[0m\n",
      "\u001b[1;31mSyntaxError\u001b[0m\u001b[1;31m:\u001b[0m unterminated string literal (detected at line 1)\n"
     ]
    }
   ],
   "source": [
    "print(\"benim adım joseph,   #Birden fazla satırda çift ya da tek tırnak işe yaramıyor. \n",
    "      ben sizi çok sevdim\n",
    "      sizde huzur var\")"
   ]
  },
  {
   "cell_type": "code",
   "execution_count": null,
   "metadata": {},
   "outputs": [
    {
     "name": "stdout",
     "output_type": "stream",
     "text": [
      "benim adım joseph,  \n",
      "      ben sizi çok sevdim\n",
      "      sizde huzur var\n"
     ]
    }
   ],
   "source": [
    "print(\"\"\"benim adım joseph,  # Üçlü tırnak ile başlayıp, üçlü tırnak ile bitirdiğimizde, bu tarz çoklu satırları da yazdırabiliriz. \n",
    "      ben sizi çok sevdim    # Aynısını tekli üç tırnakta da yapabiliriz. \n",
    "      sizde huzur var\"\"\")"
   ]
  },
  {
   "cell_type": "code",
   "execution_count": null,
   "metadata": {},
   "outputs": [
    {
     "name": "stdout",
     "output_type": "stream",
     "text": [
      "hello world!\n"
     ]
    }
   ],
   "source": [
    "print(\"\"\"hello world!\"\"\")"
   ]
  },
  {
   "cell_type": "code",
   "execution_count": null,
   "metadata": {},
   "outputs": [
    {
     "name": "stdout",
     "output_type": "stream",
     "text": [
      "hello world!\n"
     ]
    }
   ],
   "source": [
    "print('''hello world!''')"
   ]
  },
  {
   "cell_type": "code",
   "execution_count": null,
   "metadata": {},
   "outputs": [
    {
     "name": "stdout",
     "output_type": "stream",
     "text": [
      "41\n"
     ]
    }
   ],
   "source": [
    "print(41)  # Buradaki sayı integer veri tipidir. Sayılarda tırnak kullanırsak, bunu stringe çevirmiş oluruz. "
   ]
  },
  {
   "cell_type": "code",
   "execution_count": null,
   "metadata": {},
   "outputs": [
    {
     "name": "stdout",
     "output_type": "stream",
     "text": [
      "41\n"
     ]
    }
   ],
   "source": [
    "print(\"41\")  # Yine çıktı alabiliriz tabi ama tırnak içinde yazıldığı için string veri tipidir buradaki sayı. "
   ]
  },
  {
   "cell_type": "code",
   "execution_count": null,
   "metadata": {},
   "outputs": [
    {
     "name": "stdout",
     "output_type": "stream",
     "text": [
      "'We should have enough time for our family\"\n"
     ]
    }
   ],
   "source": [
    "print(''''We should have enough time for our family\"''')  # Başında 3 tırnak ve sonunda 3 tırnak olduğu için aradaki tüm verileri string kabul eder."
   ]
  },
  {
   "cell_type": "markdown",
   "metadata": {},
   "source": [
    "python'da ondalık sayı yazarken virgül değil, nokta kullanılır. (3.14 doğru bir yazımdır) Virgül iki temel yapıyı, değişkeni, değeri birbirinden ayırmakta kullanılır. "
   ]
  },
  {
   "cell_type": "code",
   "execution_count": null,
   "metadata": {},
   "outputs": [
    {
     "name": "stdout",
     "output_type": "stream",
     "text": [
      "3.14\n"
     ]
    }
   ],
   "source": [
    "print(3.14)"
   ]
  },
  {
   "cell_type": "code",
   "execution_count": null,
   "metadata": {},
   "outputs": [
    {
     "name": "stdout",
     "output_type": "stream",
     "text": [
      "3 4\n"
     ]
    }
   ],
   "source": [
    "print(3,4)"
   ]
  },
  {
   "cell_type": "code",
   "execution_count": null,
   "metadata": {},
   "outputs": [
    {
     "name": "stdout",
     "output_type": "stream",
     "text": [
      "3 4 11.4 ali deli veli\n"
     ]
    }
   ],
   "source": [
    "print(3, 4, 11.4, \"ali\", \"deli\", \"veli\")"
   ]
  },
  {
   "cell_type": "code",
   "execution_count": null,
   "metadata": {},
   "outputs": [
    {
     "name": "stdout",
     "output_type": "stream",
     "text": [
      "first line\n",
      "\n",
      "third line\n"
     ]
    }
   ],
   "source": [
    "print('first line')\n",
    "print()  # iç kısmını boş bırakırsak, boş yazdırır.\n",
    "print('''third line''')"
   ]
  },
  {
   "cell_type": "code",
   "execution_count": null,
   "metadata": {},
   "outputs": [
    {
     "name": "stdout",
     "output_type": "stream",
     "text": [
      "ali\n",
      "\n",
      "veli\n"
     ]
    }
   ],
   "source": [
    "print(\"ali\")\n",
    "print(\"\")\n",
    "print(\"veli\")"
   ]
  },
  {
   "cell_type": "markdown",
   "metadata": {},
   "source": [
    "Print() ile print(\"\") aynıdır. "
   ]
  },
  {
   "cell_type": "code",
   "execution_count": null,
   "metadata": {},
   "outputs": [
    {
     "ename": "SyntaxError",
     "evalue": "unterminated triple-quoted string literal (detected at line 1) (878951140.py, line 1)",
     "output_type": "error",
     "traceback": [
      "\u001b[1;36m  Input \u001b[1;32mIn [18]\u001b[1;36m\u001b[0m\n",
      "\u001b[1;33m    print('''')\u001b[0m\n",
      "\u001b[1;37m          ^\u001b[0m\n",
      "\u001b[1;31mSyntaxError\u001b[0m\u001b[1;31m:\u001b[0m unterminated triple-quoted string literal (detected at line 1)\n"
     ]
    }
   ],
   "source": [
    "print('''') #hata veriyor, python ilk 3 tırnağı alınca karşılığını alamadığı için hata veriyor."
   ]
  },
  {
   "cell_type": "markdown",
   "metadata": {},
   "source": [
    "\"arasına yazabiliriz\", 'arasına  yazabiliriz', \"\"\"arasına yazabiliriz\"\"\" ya da '''arasına bir şeyler yazabiliriz''' , string olabilmesi bu 4 şekilde mümkündür. "
   ]
  },
  {
   "cell_type": "code",
   "execution_count": null,
   "metadata": {},
   "outputs": [
    {
     "name": "stdout",
     "output_type": "stream",
     "text": [
      "\"\"\n"
     ]
    }
   ],
   "source": [
    "print('\"\"')"
   ]
  },
  {
   "cell_type": "code",
   "execution_count": null,
   "metadata": {},
   "outputs": [
    {
     "name": "stdout",
     "output_type": "stream",
     "text": [
      "''\n"
     ]
    }
   ],
   "source": [
    "print(\"''\")"
   ]
  },
  {
   "cell_type": "code",
   "execution_count": null,
   "metadata": {},
   "outputs": [
    {
     "name": "stdout",
     "output_type": "stream",
     "text": [
      "\"\n"
     ]
    }
   ],
   "source": [
    "print('\"')"
   ]
  },
  {
   "cell_type": "markdown",
   "metadata": {},
   "source": [
    "Kahoot\n",
    "\n",
    "1. What is Python ? \n",
    "- High Level Programming Language\n",
    "\n",
    "2. Who created Python ?\n",
    "- Guido van Rossum\n",
    "\n",
    "3. The latest version of Python is ...\n",
    "- 3.10.1\n",
    "\n",
    "4. The Jupyter Lab/Notebook is an open-source web application that allows us cell-based execution.\n",
    "- True\n",
    "\n",
    "5. Which of the following companies/institutions did not build its IT infrastructure using Python ? \n",
    "Google - NASA - Netflix - (Nike)\n",
    "\n",
    "\n",
    "6. Python'nun tanıtım videosunda ki seslendirmeyi de \"Python\"programla dili ile yapıldı. İleri seviye de biz de bunu bu şekilde yapabiliriz. "
   ]
  },
  {
   "cell_type": "markdown",
   "metadata": {},
   "source": [
    "FORMAT & STYLE OF CODİNG"
   ]
  },
  {
   "cell_type": "markdown",
   "metadata": {},
   "source": [
    "PEP 8 Kuralları: Bu kuralları uygulamassak da olur yani kural değildir ama bir düzen olmaz.\n",
    "\n",
    "1- Bir satırda 79 karakteri geçmemeliyiz. Geçsek de bir şey olmaz ama geçmememiz daha iyi. \"\\\" ile satırımız uzadığında aşağıya aktarabiliyoruz. \n"
   ]
  },
  {
   "cell_type": "code",
   "execution_count": null,
   "metadata": {},
   "outputs": [
    {
     "name": "stdout",
     "output_type": "stream",
     "text": [
      "uyarsan güzel olur\n"
     ]
    }
   ],
   "source": [
    "print(\"uyarsan \\\n",
    "güzel olur\")"
   ]
  },
  {
   "cell_type": "code",
   "execution_count": null,
   "metadata": {},
   "outputs": [
    {
     "ename": "SyntaxError",
     "evalue": "unexpected character after line continuation character (101516550.py, line 1)",
     "output_type": "error",
     "traceback": [
      "\u001b[1;36m  Input \u001b[1;32mIn [29]\u001b[1;36m\u001b[0m\n",
      "\u001b[1;33m    pr\\int()   #fonksiyonları, özel kelimeleri bölmeyeceğiz.\u001b[0m\n",
      "\u001b[1;37m       ^\u001b[0m\n",
      "\u001b[1;31mSyntaxError\u001b[0m\u001b[1;31m:\u001b[0m unexpected character after line continuation character\n"
     ]
    }
   ],
   "source": [
    "pr\\int()   #fonksiyonları, özel kelimeleri bölmeyeceğiz. Bölmekteki amacımız 79 karakteri aşmamak. "
   ]
  },
  {
   "cell_type": "markdown",
   "metadata": {},
   "source": [
    "2- Parantezlerden önce ve sonra boşluk bırakmamaya gayret etmeliyiz. \n",
    "DOĞRU: spam(meat[1], {milk: 2}) , YANLIŞ: spam( meat[ 1 ], { milk: 2} )\n",
    "\n",
    "3- Bir virgül koyarsak ve sonrasında parantez var ise yine boşluk bırakmama gayret etmeliyiz. \n",
    "DOĞRU: df[0,] or foo = (2,) , YANLIŞ: df[0,] or foo = (2,)\n",
    "\n",
    "4- , ; : dan önce boşluk bırakılmaz.\n",
    "DOĞRU: if y == 3: print x, y; x, y = y, x    YANLIŞ: if y == 3 : print x , y ; x , y = y , x\n",
    "\n",
    "5- Fonksiyon parantezlerinden önce boşluk bırakmayalım\n",
    "DOĞRU: print(x, y)  YANLIŞ: print (x, y)\n",
    "\n",
    "6- Kod yazarken hizalamaya çalışmamıza gerek yoktur. \n",
    "7- =, +=, ==, <, >, >=, in, not in, is, and, or, not gibi ifadelerin öncesinde ve sonrasında boşluk bırakmamız gerekir. "
   ]
  },
  {
   "cell_type": "markdown",
   "metadata": {},
   "source": [
    "Comment and Docstrings\n",
    "\n",
    "Yazdığımız koda sonradan baktığımızda ne olduğunu hatırlamamız açısından öncesinde # ifadesi koyarak yorum/açıklama yazabiliriz. PEP 8 kuralları gereği öncesinde 2 boşluk, sonrasında ise 1 boşluk bırakmamız gerekir. Boşluk bırakmassak da çalışır ama bıraksak daha güzel olur. Kod satırına başlık olarak da koyabiliriz."
   ]
  },
  {
   "cell_type": "code",
   "execution_count": null,
   "metadata": {},
   "outputs": [
    {
     "name": "stdout",
     "output_type": "stream",
     "text": [
      "hello world\n"
     ]
    }
   ],
   "source": [
    "print(\"hello world\")  # bu bir açıklama  satırıdır."
   ]
  },
  {
   "cell_type": "code",
   "execution_count": null,
   "metadata": {},
   "outputs": [],
   "source": [
    "# bu bir açıklama satırıdır. \n",
    "# bu açıklamanın ikinci satırıdır. \n",
    "# bu son satırdır. "
   ]
  },
  {
   "cell_type": "markdown",
   "metadata": {},
   "source": [
    "BASİC DATA TYPES\n",
    "- Variables\n",
    "- Introduction to Data Types\n",
    "- Strings\n",
    "- Numeric Types\n",
    "- Boolean\n",
    "- Type Conversion "
   ]
  },
  {
   "cell_type": "markdown",
   "metadata": {},
   "source": [
    "Variables\n",
    "\n",
    "- Naming Variables: Değişkenlere istediğimiz ismi verebiliriz ama PEP 8'e uygun olarak vermemiz çok daha iyi olur. Kodumuzu hep başkası da okuyacakmış gibi düşüneceğiz. O yoğunluk içerisinde o koda kendimiz de baksak anlamayabiliriz sonrasında. \n",
    "\n",
    "  variable name = value (değişkene değer atıyoruz)\n"
   ]
  },
  {
   "cell_type": "code",
   "execution_count": null,
   "metadata": {},
   "outputs": [],
   "source": [
    "planet = \"jupyter\"\n",
    "price = 140 \n",
    "pi_number = 3.14"
   ]
  },
  {
   "cell_type": "code",
   "execution_count": null,
   "metadata": {},
   "outputs": [
    {
     "name": "stdout",
     "output_type": "stream",
     "text": [
      "125.0\n"
     ]
    }
   ],
   "source": [
    "a = 25\n",
    "b = 10\n",
    "c = 2\n",
    "print((a*b)/c)"
   ]
  },
  {
   "cell_type": "code",
   "execution_count": null,
   "metadata": {},
   "outputs": [
    {
     "name": "stdout",
     "output_type": "stream",
     "text": [
      "ali 33 deli\n"
     ]
    }
   ],
   "source": [
    "a = \"ali\"\n",
    "b = 33\n",
    "c = \"deli\"\n",
    "print(a, b, c)"
   ]
  },
  {
   "cell_type": "markdown",
   "metadata": {},
   "source": [
    "2. DERS (011722)"
   ]
  },
  {
   "cell_type": "markdown",
   "metadata": {},
   "source": [
    "VARIABLES"
   ]
  },
  {
   "cell_type": "code",
   "execution_count": null,
   "metadata": {},
   "outputs": [
    {
     "name": "stdout",
     "output_type": "stream",
     "text": [
      "30\n"
     ]
    }
   ],
   "source": [
    "my_age = 33\n",
    "your_age = 30\n",
    "my_age = your_age\n",
    "print(my_age)"
   ]
  },
  {
   "cell_type": "markdown",
   "metadata": {},
   "source": [
    "Conventional (PEP 8) Naming Rules \n",
    "\n",
    "Python'da vereceğimiz variable'ları rastgele veremeyiz, belirli kuralları vardır. 3-4 kelimeli geçmemeli, içindeki value ile alakalı olmalı, \n",
    "hepsi küçük harf ile yazılmalı ve aralarına \"_\" konulmalı."
   ]
  },
  {
   "cell_type": "code",
   "execution_count": null,
   "metadata": {},
   "outputs": [],
   "source": [
    "variable = 3.14\n",
    "var_one = 'something'  # variable yazılırken arasına lowercase (alt çizgi) konuldu ve küçük harfler ile yazıldı. Büyük harf de olur ama PEP8'e uygun olmaz. "
   ]
  },
  {
   "cell_type": "code",
   "execution_count": null,
   "metadata": {},
   "outputs": [],
   "source": [
    "Bu 3 adet variable değerini kullanmayalım, karışabiliyor. \n",
    "\n",
    "l = 3.14  # This is lowercase \"l\"(el) letter\n",
    "I = 3.14  # This is uppercase letter eye\n",
    "1 = 'something wrong'  # This is number one."
   ]
  },
  {
   "cell_type": "code",
   "execution_count": null,
   "metadata": {},
   "outputs": [],
   "source": [
    "O ile 0'ı da kullanmayalım. \n",
    "\n",
    "time_0 = '3.14'  # This is uppercase letter \"0\"\n",
    "time_0 = '3.14'  # This is number zero "
   ]
  },
  {
   "cell_type": "markdown",
   "metadata": {},
   "source": [
    "Python'a özel keyword leri variable olarak kullanamayız. "
   ]
  },
  {
   "cell_type": "code",
   "execution_count": null,
   "metadata": {},
   "outputs": [
    {
     "ename": "SyntaxError",
     "evalue": "invalid syntax (377805530.py, line 1)",
     "output_type": "error",
     "traceback": [
      "\u001b[1;36m  Input \u001b[1;32mIn [3]\u001b[1;36m\u001b[0m\n",
      "\u001b[1;33m    and = \"AliVeliDeli\"\u001b[0m\n",
      "\u001b[1;37m    ^\u001b[0m\n",
      "\u001b[1;31mSyntaxError\u001b[0m\u001b[1;31m:\u001b[0m invalid syntax\n"
     ]
    }
   ],
   "source": [
    "and = \"AliVeliDeli\"\n",
    "pritnt(and)"
   ]
  },
  {
   "cell_type": "code",
   "execution_count": null,
   "metadata": {},
   "outputs": [],
   "source": [
    "if_or_else = \"clarusway\"  # Bu şekilde özel variable ları birleştirdiğimizde çalışır ama çok tavsiye edilmez."
   ]
  },
  {
   "cell_type": "code",
   "execution_count": null,
   "metadata": {},
   "outputs": [],
   "source": [
    "amnt_rttn_fruits  # amount of rotten fruits\n",
    "rotten_fruits\n",
    "amount_rotten_fruits\n",
    "\n",
    "list_prime_number  # the list of prime numbers \n",
    "prime_list\n",
    "prime_no\n",
    "\n",
    "list_math_exam_score  # list of mathematics exam scores\n",
    "math_scores\n",
    "scores_math\n"
   ]
  },
  {
   "cell_type": "code",
   "execution_count": null,
   "metadata": {},
   "outputs": [
    {
     "name": "stdout",
     "output_type": "stream",
     "text": [
      "same\n",
      "same\n",
      "same\n"
     ]
    }
   ],
   "source": [
    "x = y = z = \"same\"  # Değer atama işlemlerinde sağdan sola doğru düşüneceğiz. \n",
    "print(x)\n",
    "print(y)\n",
    "print(z)"
   ]
  },
  {
   "cell_type": "code",
   "execution_count": null,
   "metadata": {},
   "outputs": [
    {
     "data": {
      "text/plain": [
       "'same'"
      ]
     },
     "metadata": {},
     "output_type": "display_data"
    }
   ],
   "source": [
    "x = y = z = 'same'  # Değer atama işlemlerinde sağdan sola doğru düşüneceğiz. \n",
    "x  # print yazmadan sadece variable ifadesini yazsak bile VSCode'da çıktı verir. Atadığımız değer çift tınak string ise ona göre tırnak içinde verir. "
   ]
  },
  {
   "cell_type": "code",
   "execution_count": null,
   "metadata": {},
   "outputs": [
    {
     "name": "stdout",
     "output_type": "stream",
     "text": [
      "31 28 31 30 31 30 31 31 30 31 30 31\n"
     ]
    }
   ],
   "source": [
    "jan = march = may = july = agt = oct = dec = 31  # multi assigments in the single line\n",
    "apr = june = sep = nov = 30\n",
    "feb = 28\n",
    "print(jan, feb, march, apr, may, june, july, agt, sep, oct, nov, dec)"
   ]
  },
  {
   "cell_type": "code",
   "execution_count": null,
   "metadata": {},
   "outputs": [],
   "source": [
    "thomas = 33\n",
    "marry = 28\n",
    "walter = None  # Eğer biz variable'a bir değişken atamayacaksak, sadece rezerve yapacaksak bu durumda \"None\" değerini yazıyoruz. Baş harfi de büyük olacak. \n",
    "isabella = 46\n",
    "walter  # Çıktı aldığımızda herhangi bir değer yazdırmadı \"None\" olduğu için. Ama print(walter) yazsaydık o vakit None yazdıracaktı."
   ]
  },
  {
   "cell_type": "code",
   "execution_count": null,
   "metadata": {},
   "outputs": [
    {
     "name": "stdout",
     "output_type": "stream",
     "text": [
      "33\n",
      "28\n",
      "None\n",
      "46\n"
     ]
    }
   ],
   "source": [
    "thomas = 33\n",
    "marry = 28\n",
    "walter = None  # Eğer biz variable'a bir değişken atamayacaksak, sadece rezerve yapacaksak bu durumda \"None\" değerini yazıyoruz. Baş harfi de büyük olacak.Daha sonra bunun değerini güncelleyebiliriz.  \n",
    "isabella = 46\n",
    "print(thomas)\n",
    "print(marry)\n",
    "print(walter)\n",
    "print(isabella)"
   ]
  },
  {
   "cell_type": "code",
   "execution_count": null,
   "metadata": {},
   "outputs": [
    {
     "ename": "NameError",
     "evalue": "name 'C' is not defined",
     "output_type": "error",
     "traceback": [
      "\u001b[1;31m---------------------------------------------------------------------------\u001b[0m\n",
      "\u001b[1;31mNameError\u001b[0m                                 Traceback (most recent call last)\n",
      "\u001b[1;32mg:\\Drive'ım\\Masaüstü\\Eğitimler\\Yazılım\\VS Code Genel\\Python In-class\\011722.ipynb Cell 16'\u001b[0m in \u001b[0;36m<module>\u001b[1;34m\u001b[0m\n",
      "\u001b[0;32m      <a href='vscode-notebook-cell:/g%3A/Drive%27%C4%B1m/Masa%C3%BCst%C3%BC/E%C4%9Fitimler/Yaz%C4%B1l%C4%B1m/VS%20Code%20Genel/Python%20In-class/011722.ipynb#ch0000018?line=0'>1</a>\u001b[0m c \u001b[39m=\u001b[39m \u001b[39m11\u001b[39m  \u001b[39m# Python küçük ve büyük harfe karşı duyarlıdır. Mesela küçük c'yi 11'e eşitledik ama çıktı olarak büyük C yazarsak hata verir. \u001b[39;00m\n",
      "\u001b[1;32m----> <a href='vscode-notebook-cell:/g%3A/Drive%27%C4%B1m/Masa%C3%BCst%C3%BC/E%C4%9Fitimler/Yaz%C4%B1l%C4%B1m/VS%20Code%20Genel/Python%20In-class/011722.ipynb#ch0000018?line=1'>2</a>\u001b[0m C\n",
      "\n",
      "\u001b[1;31mNameError\u001b[0m: name 'C' is not defined"
     ]
    }
   ],
   "source": [
    "c = 11  # Python küçük ve büyük harfe karşı duyarlıdır. Mesela küçük c'yi 11'e eşitledik ama çıktı olarak büyük C yazarsak hata verir. \n",
    "C"
   ]
  },
  {
   "cell_type": "code",
   "execution_count": null,
   "metadata": {},
   "outputs": [
    {
     "name": "stdout",
     "output_type": "stream",
     "text": [
      "apple.com\n",
      "clarusway.com\n"
     ]
    }
   ],
   "source": [
    "website = \"apple.com\"\n",
    "print(website)\n",
    "\n",
    "# assigning a new variable to website \n",
    "website = \"clarusway.com\"  # En son hangi değeri atadıysak en son onu yazdırır. \n",
    "\n",
    "print(website)"
   ]
  },
  {
   "cell_type": "code",
   "execution_count": null,
   "metadata": {},
   "outputs": [
    {
     "name": "stdout",
     "output_type": "stream",
     "text": [
      "33 55 33\n"
     ]
    }
   ],
   "source": [
    "a = 11\n",
    "b = 22\n",
    "c = 44\n",
    "\n",
    "a = 33\n",
    "b = 55\n",
    "c = a\n",
    "print(a, b, c)  # En son hangi değeri verdiksek o kalır. "
   ]
  },
  {
   "cell_type": "code",
   "execution_count": null,
   "metadata": {},
   "outputs": [
    {
     "name": "stdout",
     "output_type": "stream",
     "text": [
      "100\n"
     ]
    }
   ],
   "source": [
    "first_number = 100\n",
    "second_number = first_number  # En son satır en güncelidir. \n",
    "print(second_number) \n"
   ]
  },
  {
   "cell_type": "code",
   "execution_count": null,
   "metadata": {},
   "outputs": [
    {
     "name": "stdout",
     "output_type": "stream",
     "text": [
      "33\n",
      "33\n",
      "15\n"
     ]
    }
   ],
   "source": [
    "x = 15\n",
    "y = 33\n",
    "z = x \n",
    "x = y \n",
    "\n",
    "print(x)\n",
    "print(y)\n",
    "print(z)"
   ]
  },
  {
   "cell_type": "code",
   "execution_count": null,
   "metadata": {},
   "outputs": [
    {
     "ename": "SyntaxError",
     "evalue": "cannot assign to literal here. Maybe you meant '==' instead of '='? (2441185170.py, line 1)",
     "output_type": "error",
     "traceback": [
      "\u001b[1;36m  Input \u001b[1;32mIn [33]\u001b[1;36m\u001b[0m\n",
      "\u001b[1;33m    \"x\" = 15\u001b[0m\n",
      "\u001b[1;37m    ^\u001b[0m\n",
      "\u001b[1;31mSyntaxError\u001b[0m\u001b[1;31m:\u001b[0m cannot assign to literal here. Maybe you meant '==' instead of '='?\n"
     ]
    }
   ],
   "source": [
    "\"x\" = 15  # String bir variable'a value atayamayız. "
   ]
  },
  {
   "cell_type": "code",
   "execution_count": null,
   "metadata": {},
   "outputs": [
    {
     "name": "stdout",
     "output_type": "stream",
     "text": [
      "5\n",
      "3.2\n",
      "Hello\n"
     ]
    }
   ],
   "source": [
    "a, b, c = 5, 3.2, \"Hello\"\n",
    "print(a)\n",
    "print(b)\n",
    "print(c)"
   ]
  },
  {
   "cell_type": "code",
   "execution_count": null,
   "metadata": {},
   "outputs": [
    {
     "name": "stdout",
     "output_type": "stream",
     "text": [
      "Joseph 44 yellow\n"
     ]
    }
   ],
   "source": [
    "man = \"andrew\"\n",
    "color = \"green\"\n",
    "age = 32\n",
    "pi = 3.14\n",
    "color = \"yellow\"\n",
    "age = 44\n",
    "man = \"Joseph\"\n",
    "\n",
    "print(man, age, color)"
   ]
  },
  {
   "cell_type": "markdown",
   "metadata": {},
   "source": [
    "INTRODUCTION TO DATA TYPES\n",
    "1 - String (Klavyede tuşladığımız her şey olabilir)\n",
    "2 - Integer (Tam sayı)\n",
    "3 - Float (ondalıklı sayı)\n",
    "4 - bool (True, False)"
   ]
  },
  {
   "cell_type": "code",
   "execution_count": null,
   "metadata": {},
   "outputs": [
    {
     "name": "stdout",
     "output_type": "stream",
     "text": [
      "being a good person\n"
     ]
    }
   ],
   "source": [
    "my_text = \"being a good person\"  # String type is called \"str\" ve çift ya da tek tırnak arasında yazılabilir. \n",
    "print(my_text)"
   ]
  },
  {
   "cell_type": "code",
   "execution_count": null,
   "metadata": {},
   "outputs": [
    {
     "name": "stdout",
     "output_type": "stream",
     "text": [
      "1923\n",
      "%&+^3!>\n",
      "<class 'str'> <class 'str'>\n"
     ]
    }
   ],
   "source": [
    "str_number = '1923'\n",
    "str_sign = '%&+^3!>'\n",
    "print(str_number)\n",
    "print(str_sign)\n",
    "print(type(str_number), type(str_sign))"
   ]
  },
  {
   "cell_type": "markdown",
   "metadata": {},
   "source": [
    "Numeric Types\n",
    "1- Integer\n",
    "2- Float\n",
    "3- complex"
   ]
  },
  {
   "cell_type": "code",
   "execution_count": null,
   "metadata": {},
   "outputs": [
    {
     "name": "stdout",
     "output_type": "stream",
     "text": [
      "40\n",
      "-18\n"
     ]
    }
   ],
   "source": [
    "my_integer = 40\n",
    "negative_num = -18  # String type is called \"int\" \n",
    "\n",
    "print(my_integer)  \n",
    "print(negative_num)"
   ]
  },
  {
   "cell_type": "code",
   "execution_count": null,
   "metadata": {},
   "outputs": [
    {
     "data": {
      "text/plain": [
       "True"
      ]
     },
     "metadata": {},
     "output_type": "display_data"
    }
   ],
   "source": [
    "10 == 10.0  # 10, 10.0'a eşitmidir. "
   ]
  },
  {
   "cell_type": "code",
   "execution_count": null,
   "metadata": {},
   "outputs": [
    {
     "data": {
      "text/plain": [
       "10.0"
      ]
     },
     "metadata": {},
     "output_type": "display_data"
    }
   ],
   "source": [
    "\"10\"  # String\n",
    "10  # integer\n",
    "10.0  # float"
   ]
  },
  {
   "cell_type": "code",
   "execution_count": null,
   "metadata": {},
   "outputs": [
    {
     "data": {
      "text/plain": [
       "float"
      ]
     },
     "metadata": {},
     "output_type": "display_data"
    }
   ],
   "source": [
    "type(0.0)  # Eğer print yazmadan direk type diyerek tipini öğrenirsek, float olarak çıktı verir. Aşağıdaki gibi ise <class 'float'> verir. "
   ]
  },
  {
   "cell_type": "code",
   "execution_count": null,
   "metadata": {},
   "outputs": [
    {
     "name": "stdout",
     "output_type": "stream",
     "text": [
      "<class 'float'>\n"
     ]
    }
   ],
   "source": [
    "print(type(0.0))"
   ]
  },
  {
   "cell_type": "markdown",
   "metadata": {},
   "source": [
    "Boolean : Sadece 2 değer alır. True ya da False. Evet hayır gibi, var ya da yok gibi düşünebiliriz. Sorduğumuz soruya cevap. "
   ]
  },
  {
   "cell_type": "code",
   "execution_count": null,
   "metadata": {},
   "outputs": [
    {
     "name": "stdout",
     "output_type": "stream",
     "text": [
      "<class 'str'>\n"
     ]
    }
   ],
   "source": [
    "my_data = 'I am string'\n",
    "print(type(my_data))"
   ]
  },
  {
   "cell_type": "markdown",
   "metadata": {},
   "source": [
    "Python'da gömülü fonksiyonlar vardır. \"print\" şimdiye kadar en çok kullandıklarımızdandır. \"str()\", \"İnt()\", \"float()\" gibi yeni fonksiyonlar da mevcuttur.Fonksiyonu çağırmaya \"call a function\" denir. "
   ]
  },
  {
   "cell_type": "code",
   "execution_count": null,
   "metadata": {},
   "outputs": [],
   "source": [
    "str()  # String'e çevirir. Tüm veri tipleri String'e dönüşür fakat ve diğer integer ve float'a dönüşmez. \n",
    "int()  # Integer'a çevirir\n",
    "float()  # float'a çevirir"
   ]
  },
  {
   "cell_type": "code",
   "execution_count": null,
   "metadata": {},
   "outputs": [
    {
     "name": "stdout",
     "output_type": "stream",
     "text": [
      "10\n"
     ]
    }
   ],
   "source": [
    "int(\"10\")"
   ]
  },
  {
   "cell_type": "code",
   "execution_count": null,
   "metadata": {},
   "outputs": [
    {
     "data": {
      "text/plain": [
       "int"
      ]
     },
     "metadata": {},
     "output_type": "display_data"
    }
   ],
   "source": [
    "a = int(\"11\")\n",
    "type(a)"
   ]
  },
  {
   "cell_type": "code",
   "execution_count": null,
   "metadata": {},
   "outputs": [
    {
     "ename": "ValueError",
     "evalue": "invalid literal for int() with base 10: 'onbir'",
     "output_type": "error",
     "traceback": [
      "\u001b[1;31m---------------------------------------------------------------------------\u001b[0m\n",
      "\u001b[1;31mValueError\u001b[0m                                Traceback (most recent call last)\n",
      "\u001b[1;32mg:\\Drive'ım\\Masaüstü\\Eğitimler\\Yazılım\\VS Code Genel\\Python In-class\\011722.ipynb Cell 39'\u001b[0m in \u001b[0;36m<module>\u001b[1;34m\u001b[0m\n",
      "\u001b[1;32m----> <a href='vscode-notebook-cell:/g%3A/Drive%27%C4%B1m/Masa%C3%BCst%C3%BC/E%C4%9Fitimler/Yaz%C4%B1l%C4%B1m/VS%20Code%20Genel/Python%20In-class/011722.ipynb#ch0000043?line=0'>1</a>\u001b[0m \u001b[39mint\u001b[39;49m(\u001b[39m\"\u001b[39;49m\u001b[39monbir\u001b[39;49m\u001b[39m\"\u001b[39;49m)\n",
      "\u001b[0;32m      <a href='vscode-notebook-cell:/g%3A/Drive%27%C4%B1m/Masa%C3%BCst%C3%BC/E%C4%9Fitimler/Yaz%C4%B1l%C4%B1m/VS%20Code%20Genel/Python%20In-class/011722.ipynb#ch0000043?line=1'>2</a>\u001b[0m \u001b[39mint\u001b[39m(\u001b[39m\"\u001b[39m\u001b[39mten\u001b[39m\u001b[39m\"\u001b[39m)\n",
      "\n",
      "\u001b[1;31mValueError\u001b[0m: invalid literal for int() with base 10: 'onbir'"
     ]
    }
   ],
   "source": [
    "int(\"onbir\")  # Her şeyin integer'a dönüşemeyeceğine örnek. \n",
    "int(\"ten\")"
   ]
  },
  {
   "cell_type": "code",
   "execution_count": null,
   "metadata": {},
   "outputs": [
    {
     "name": "stdout",
     "output_type": "stream",
     "text": [
      "3.14\n",
      "<class 'str'>\n"
     ]
    }
   ],
   "source": [
    "pi = 3.14 \n",
    "converted_pi = str(pi)\n",
    "print(converted_pi)\n",
    "print(type(converted_pi))"
   ]
  },
  {
   "cell_type": "code",
   "execution_count": null,
   "metadata": {},
   "outputs": [
    {
     "data": {
      "text/plain": [
       "3"
      ]
     },
     "metadata": {},
     "output_type": "display_data"
    }
   ],
   "source": [
    "int(3.14)  # Integer fonksiyonu bu şekilde çalışıyor yani virgülden sonraki kısmı atıyor. "
   ]
  },
  {
   "cell_type": "code",
   "execution_count": null,
   "metadata": {},
   "outputs": [
    {
     "data": {
      "text/plain": [
       "11.0"
      ]
     },
     "metadata": {},
     "output_type": "display_data"
    }
   ],
   "source": [
    "float(\"11\")"
   ]
  },
  {
   "cell_type": "code",
   "execution_count": null,
   "metadata": {},
   "outputs": [
    {
     "data": {
      "text/plain": [
       "11.0"
      ]
     },
     "metadata": {},
     "output_type": "display_data"
    }
   ],
   "source": [
    "float(11)"
   ]
  },
  {
   "cell_type": "code",
   "execution_count": null,
   "metadata": {},
   "outputs": [
    {
     "data": {
      "text/plain": [
       "33.33"
      ]
     },
     "metadata": {},
     "output_type": "display_data"
    }
   ],
   "source": [
    "float(\"33.33\")"
   ]
  },
  {
   "cell_type": "code",
   "execution_count": null,
   "metadata": {},
   "outputs": [
    {
     "name": "stdout",
     "output_type": "stream",
     "text": [
      "28\n",
      "36.5\n",
      "I am at_39\n"
     ]
    }
   ],
   "source": [
    "x = 39\n",
    "v = \"11\"\n",
    "y = \"2.5\"\n",
    "z = \"I am at_\"\n",
    "\n",
    "print(x-int(v))\n",
    "print(x-float(y))\n",
    "print(z+str(x))\n",
    "\n"
   ]
  },
  {
   "cell_type": "code",
   "execution_count": null,
   "metadata": {},
   "outputs": [
    {
     "data": {
      "text/plain": [
       "'3311'"
      ]
     },
     "metadata": {},
     "output_type": "display_data"
    }
   ],
   "source": [
    "\"33\" + \"11\"  # String olan ifadeleri yan yana toplarsak yapıştırır. "
   ]
  },
  {
   "cell_type": "code",
   "execution_count": null,
   "metadata": {},
   "outputs": [
    {
     "ename": "TypeError",
     "evalue": "can only concatenate str (not \"int\") to str",
     "output_type": "error",
     "traceback": [
      "\u001b[1;31m---------------------------------------------------------------------------\u001b[0m\n",
      "\u001b[1;31mTypeError\u001b[0m                                 Traceback (most recent call last)\n",
      "\u001b[1;32mg:\\Drive'ım\\Masaüstü\\Eğitimler\\Yazılım\\VS Code Genel\\Python In-class\\011722.ipynb Cell 47'\u001b[0m in \u001b[0;36m<module>\u001b[1;34m\u001b[0m\n",
      "\u001b[1;32m----> <a href='vscode-notebook-cell:/g%3A/Drive%27%C4%B1m/Masa%C3%BCst%C3%BC/E%C4%9Fitimler/Yaz%C4%B1l%C4%B1m/VS%20Code%20Genel/Python%20In-class/011722.ipynb#ch0000051?line=0'>1</a>\u001b[0m \u001b[39m\"\u001b[39;49m\u001b[39m33\u001b[39;49m\u001b[39m\"\u001b[39;49m \u001b[39m+\u001b[39;49m \u001b[39m11\u001b[39;49m\n",
      "\n",
      "\u001b[1;31mTypeError\u001b[0m: can only concatenate str (not \"int\") to str"
     ]
    }
   ],
   "source": [
    "\"33\" + 11  # Bir string ile bir integer toplanamaz, farklı türlerdedir. "
   ]
  },
  {
   "cell_type": "markdown",
   "metadata": {},
   "source": [
    "Simple Operations\n",
    " 1- Arithmetic Operations \n",
    " + addition (100 + 45 = 145)\n",
    " - subtraction (500-650 = 435)\n",
    " * Multiplication (25 * 4 = 100)\n",
    " / division (Buna float division da diyebiliriz) (10 / 2 = 5.0)\n",
    " // floor division (integer division da diyebiliriz) (11 // 5 = 2)  # Bölüm kısmı yani içindeki tam satı kısmıdır. \n",
    " ** exponentiation (2 ** 5 = 32) \n",
    " % modulus  # (11 % 5 = 1)  # Bölmedeki kalan kısmını verir. Bu fonksiyon sayesinde tek mi çift mi olup olmadığını bulabiliriz ya da 3'e bölünüp bölünmediğini.  "
   ]
  },
  {
   "cell_type": "code",
   "execution_count": null,
   "metadata": {},
   "outputs": [
    {
     "data": {
      "text/plain": [
       "5.0"
      ]
     },
     "metadata": {},
     "output_type": "display_data"
    }
   ],
   "source": [
    "10 / 2  # Bir işlemde bölüm var ise o float sonuç verir. "
   ]
  },
  {
   "cell_type": "code",
   "execution_count": null,
   "metadata": {},
   "outputs": [
    {
     "data": {
      "text/plain": [
       "8"
      ]
     },
     "metadata": {},
     "output_type": "display_data"
    }
   ],
   "source": [
    "43 // 5 # floor division"
   ]
  },
  {
   "cell_type": "code",
   "execution_count": null,
   "metadata": {},
   "outputs": [
    {
     "data": {
      "text/plain": [
       "3"
      ]
     },
     "metadata": {},
     "output_type": "display_data"
    }
   ],
   "source": [
    "43 % 5  # modulus"
   ]
  },
  {
   "cell_type": "code",
   "execution_count": null,
   "metadata": {},
   "outputs": [
    {
     "name": "stdout",
     "output_type": "stream",
     "text": [
      "4\n",
      "15.0\n",
      "11 - 7\n"
     ]
    },
    {
     "ename": "TypeError",
     "evalue": "can only concatenate str (not \"int\") to str",
     "output_type": "error",
     "traceback": [
      "\u001b[1;31m---------------------------------------------------------------------------\u001b[0m\n",
      "\u001b[1;31mTypeError\u001b[0m                                 Traceback (most recent call last)\n",
      "\u001b[1;32mg:\\Drive'ım\\Masaüstü\\Eğitimler\\Yazılım\\VS Code Genel\\Python In-class\\011722.ipynb Cell 52'\u001b[0m in \u001b[0;36m<module>\u001b[1;34m\u001b[0m\n",
      "\u001b[0;32m      <a href='vscode-notebook-cell:/g%3A/Drive%27%C4%B1m/Masa%C3%BCst%C3%BC/E%C4%9Fitimler/Yaz%C4%B1l%C4%B1m/VS%20Code%20Genel/Python%20In-class/011722.ipynb#ch0000056?line=1'>2</a>\u001b[0m \u001b[39mprint\u001b[39m(\u001b[39m4\u001b[39m \u001b[39m+\u001b[39m \u001b[39m11.0\u001b[39m)  \u001b[39m# Bir fonksiyon için de float ve integer değer var ise sonuçta float çıkacaktır. \u001b[39;00m\n",
      "\u001b[0;32m      <a href='vscode-notebook-cell:/g%3A/Drive%27%C4%B1m/Masa%C3%BCst%C3%BC/E%C4%9Fitimler/Yaz%C4%B1l%C4%B1m/VS%20Code%20Genel/Python%20In-class/011722.ipynb#ch0000056?line=2'>3</a>\u001b[0m \u001b[39mprint\u001b[39m(\u001b[39m'\u001b[39m\u001b[39m11 - 7\u001b[39m\u001b[39m'\u001b[39m)\n",
      "\u001b[1;32m----> <a href='vscode-notebook-cell:/g%3A/Drive%27%C4%B1m/Masa%C3%BCst%C3%BC/E%C4%9Fitimler/Yaz%C4%B1l%C4%B1m/VS%20Code%20Genel/Python%20In-class/011722.ipynb#ch0000056?line=3'>4</a>\u001b[0m \u001b[39mprint\u001b[39m(\u001b[39m'\u001b[39;49m\u001b[39m4\u001b[39;49m\u001b[39m'\u001b[39;49m \u001b[39m+\u001b[39;49m \u001b[39m4\u001b[39;49m)\n",
      "\n",
      "\u001b[1;31mTypeError\u001b[0m: can only concatenate str (not \"int\") to str"
     ]
    }
   ],
   "source": [
    "print(11-7)\n",
    "print(4 + 11.0)  # Bir fonksiyon için de float var ise sonuç float çıkacaktır. \n",
    "print('11 - 7')  # 11-7 işlemi tekli çift tırnak içinde yer aldığı için sonuçta stringdir. \n",
    "print('4' + 4)  # Elma ile armudu yani string ile integer ı toplamaya çalıştığımız için hata verdi. "
   ]
  },
  {
   "cell_type": "code",
   "execution_count": null,
   "metadata": {},
   "outputs": [
    {
     "name": "stdout",
     "output_type": "stream",
     "text": [
      "26\n"
     ]
    }
   ],
   "source": [
    "num1, num2 = 81, 55  # Virgüller ile ayrılmış variablelar var, aynı şekilde virgüller ile ayrılmış value lar var. Sırası ile atanırlar.  \n",
    "num3 = num1 - num2\n",
    "print(num3)"
   ]
  },
  {
   "cell_type": "code",
   "execution_count": null,
   "metadata": {},
   "outputs": [
    {
     "data": {
      "text/plain": [
       "78.5"
      ]
     },
     "metadata": {},
     "output_type": "display_data"
    }
   ],
   "source": [
    "r = 5\n",
    "area = 3.14 * (r**2)\n",
    "area\n"
   ]
  },
  {
   "cell_type": "code",
   "execution_count": null,
   "metadata": {},
   "outputs": [
    {
     "name": "stdout",
     "output_type": "stream",
     "text": [
      "1\n",
      "10.0\n"
     ]
    }
   ],
   "source": [
    "print(11 % 2)  # remainder if this division is 1\n",
    "               # it means 11 is an odd number (tekli sayı)\n",
    "print((4 * 5) / 2)  # Sonuç foat dır. Bunu unutmayalım. "
   ]
  },
  {
   "cell_type": "code",
   "execution_count": null,
   "metadata": {},
   "outputs": [
    {
     "name": "stdout",
     "output_type": "stream",
     "text": [
      "8\n",
      "9\n",
      "4.0\n"
     ]
    }
   ],
   "source": [
    "print(2 ** 3)  # 2 to the power of 3 (2 üzeri 3 kuvveti)\n",
    "print(3 ** 2)  # square of 3 (3'ün karesi)\n",
    "a = 2\n",
    "b = 8\n",
    "print((a * b) ** 0.5) #square root (kare kök), fonksiyon içinde herhangi bir yer de float var ise sonuçta float tır. "
   ]
  },
  {
   "cell_type": "markdown",
   "metadata": {},
   "source": [
    "3. DERS (012022)"
   ]
  },
  {
   "cell_type": "markdown",
   "metadata": {},
   "source": [
    "Arithmetic Operations"
   ]
  },
  {
   "cell_type": "code",
   "execution_count": null,
   "metadata": {},
   "outputs": [
    {
     "data": {
      "text/plain": [
       "10"
      ]
     },
     "metadata": {},
     "output_type": "display_data"
    }
   ],
   "source": [
    "değişken = 10\n",
    "değişken "
   ]
  },
  {
   "cell_type": "code",
   "execution_count": null,
   "metadata": {},
   "outputs": [
    {
     "data": {
      "text/plain": [
       "11"
      ]
     },
     "metadata": {},
     "output_type": "display_data"
    }
   ],
   "source": [
    "değişken = değişken + 1\n",
    "değişken"
   ]
  },
  {
   "cell_type": "code",
   "execution_count": null,
   "metadata": {},
   "outputs": [
    {
     "data": {
      "text/plain": [
       "12"
      ]
     },
     "metadata": {},
     "output_type": "display_data"
    }
   ],
   "source": [
    "değişken = değişken + 1\n",
    "değişken"
   ]
  },
  {
   "cell_type": "code",
   "execution_count": null,
   "metadata": {},
   "outputs": [
    {
     "data": {
      "text/plain": [
       "10"
      ]
     },
     "metadata": {},
     "output_type": "display_data"
    }
   ],
   "source": [
    "değişken2 = 5\n",
    "değişken2 = değişken2 * 2\n",
    "değişken2"
   ]
  },
  {
   "cell_type": "code",
   "execution_count": null,
   "metadata": {},
   "outputs": [
    {
     "data": {
      "text/plain": [
       "20"
      ]
     },
     "metadata": {},
     "output_type": "display_data"
    }
   ],
   "source": [
    "değişken2 = değişken2 * 2\n",
    "değişken2"
   ]
  },
  {
   "cell_type": "markdown",
   "metadata": {},
   "source": [
    "değişken = değişken + 1  # Bu ve aşağıdaki aynıdır. Aşağıda yazan ifade daha kısa halidir.  \n",
    "değişken += 1 "
   ]
  },
  {
   "cell_type": "code",
   "execution_count": null,
   "metadata": {},
   "outputs": [
    {
     "data": {
      "text/plain": [
       "13"
      ]
     },
     "metadata": {},
     "output_type": "display_data"
    }
   ],
   "source": [
    "değişken = 12\n",
    "değişken += 1 \n",
    "değişken "
   ]
  },
  {
   "cell_type": "code",
   "execution_count": null,
   "metadata": {},
   "outputs": [
    {
     "data": {
      "text/plain": [
       "20"
      ]
     },
     "metadata": {},
     "output_type": "display_data"
    }
   ],
   "source": [
    "değişken = 10\n",
    "değişken *= 2\n",
    "değişken "
   ]
  },
  {
   "cell_type": "code",
   "execution_count": null,
   "metadata": {},
   "outputs": [
    {
     "data": {
      "text/plain": [
       "40"
      ]
     },
     "metadata": {},
     "output_type": "display_data"
    }
   ],
   "source": [
    "değişken2 *= 2  # Artık yeni değer olarak değişken değerini 20 olarak kabul eder. \n",
    "değişken2"
   ]
  },
  {
   "cell_type": "code",
   "execution_count": null,
   "metadata": {},
   "outputs": [
    {
     "data": {
      "text/plain": [
       "10"
      ]
     },
     "metadata": {},
     "output_type": "display_data"
    }
   ],
   "source": [
    "a = 8\n",
    "b = 2\n",
    "a += b\n",
    "a"
   ]
  },
  {
   "cell_type": "code",
   "execution_count": null,
   "metadata": {},
   "outputs": [
    {
     "data": {
      "text/plain": [
       "20"
      ]
     },
     "metadata": {},
     "output_type": "display_data"
    }
   ],
   "source": [
    "a *= b\n",
    "a"
   ]
  },
  {
   "cell_type": "markdown",
   "metadata": {},
   "source": [
    "İşlem önceliğinde; \n",
    "1. parentheses ()\n",
    "2. power ** \n",
    "3. unary minus: -3\n",
    "4. multiplication and division: *, /\n",
    "5. addition and subtraction: +, - "
   ]
  },
  {
   "cell_type": "code",
   "execution_count": null,
   "metadata": {},
   "outputs": [
    {
     "name": "stdout",
     "output_type": "stream",
     "text": [
      "4.0\n"
     ]
    }
   ],
   "source": [
    "a = (1+3) ** (2 ** (1 * 2 / 2) / 2)  # Bölme işleminin olduğu yerde float olarak devam eder. \n",
    "print(a) \n"
   ]
  },
  {
   "cell_type": "code",
   "execution_count": null,
   "metadata": {},
   "outputs": [
    {
     "data": {
      "text/plain": [
       "5.0"
      ]
     },
     "metadata": {},
     "output_type": "display_data"
    }
   ],
   "source": [
    "a = 3\n",
    "b = 4\n",
    "c = (a ** 2 + b ** 2) ** (0.5)  # 0.5 değeri aynı zamanda 1/2 değeri olduğu için yani bölme işlemi uygulandığından ötürü yine sonucumuz float dır. \n",
    "c"
   ]
  },
  {
   "cell_type": "code",
   "execution_count": null,
   "metadata": {},
   "outputs": [
    {
     "data": {
      "text/plain": [
       "5"
      ]
     },
     "metadata": {},
     "output_type": "display_data"
    }
   ],
   "source": [
    "#calculate the hypotenuse of a triangle (c = ?)\n",
    "a = 3\n",
    "b = 4\n",
    "c = (a ** 2 + b ** 2) ** 0.5\n",
    "int(c)"
   ]
  },
  {
   "cell_type": "markdown",
   "metadata": {},
   "source": [
    "Operations with print() function\n"
   ]
  },
  {
   "cell_type": "code",
   "execution_count": null,
   "metadata": {},
   "outputs": [
    {
     "name": "stdout",
     "output_type": "stream",
     "text": [
      "we have reached 2021\n"
     ]
    }
   ],
   "source": [
    "number = 2021\n",
    "text = \"we have reached\"\n",
    "print(text, number)"
   ]
  },
  {
   "cell_type": "code",
   "execution_count": null,
   "metadata": {},
   "outputs": [
    {
     "name": "stdout",
     "output_type": "stream",
     "text": [
      "ali\n",
      "deli veli\n",
      "selvi baharat 44\n",
      "5.0 False ahmet 3.14\n"
     ]
    }
   ],
   "source": [
    "print(\"ali\")\n",
    "print(\"deli\", \"veli\")\n",
    "print(\"selvi\", \"baharat\", 44)\n",
    "print(c, False, \"ahmet\", 3.14)"
   ]
  },
  {
   "cell_type": "code",
   "execution_count": null,
   "metadata": {},
   "outputs": [
    {
     "name": "stdout",
     "output_type": "stream",
     "text": [
      "5.0-False-ahmet-3.14\n"
     ]
    }
   ],
   "source": [
    "print(c, False, \"ahmet\", 3.14, sep = \"-\")  # sep = \" \" fonksiyonu sayesinde çift tırnak arasına hangi değeri koyarsak onu değerlerimizin arasına atar. "
   ]
  },
  {
   "cell_type": "code",
   "execution_count": null,
   "metadata": {},
   "outputs": [
    {
     "name": "stdout",
     "output_type": "stream",
     "text": [
      "5.0*False*ahmet*3.14\n"
     ]
    }
   ],
   "source": [
    "print(c, False, \"ahmet\", 3.14, sep = \"*\")"
   ]
  },
  {
   "cell_type": "code",
   "execution_count": null,
   "metadata": {},
   "outputs": [
    {
     "name": "stdout",
     "output_type": "stream",
     "text": [
      "ali veli ayşe\n"
     ]
    }
   ],
   "source": [
    "print(\"ali\", end = \" \")  # end = \" \" ifadesi, yazdığımız en son değerden sonra ne koyacağımızı ve bir alt satır değerinin de onun devamında gelmesini sağlar. \n",
    "print(\"veli\", \"ayşe\")"
   ]
  },
  {
   "cell_type": "code",
   "execution_count": null,
   "metadata": {},
   "outputs": [
    {
     "name": "stdout",
     "output_type": "stream",
     "text": [
      "ali\n",
      "veli ayşe\n"
     ]
    }
   ],
   "source": [
    "print(\"ali\")  # Normal yazımda OUTPUT aşağıdaki gibidir. \n",
    "print(\"veli\", \"ayşe\")"
   ]
  },
  {
   "cell_type": "code",
   "execution_count": null,
   "metadata": {},
   "outputs": [
    {
     "name": "stdout",
     "output_type": "stream",
     "text": [
      "5.0 False ahmet 3.14-ayşe\n"
     ]
    }
   ],
   "source": [
    "print(c, False, \"ahmet\", 3.14, end = \"-\")\n",
    "print(\"ayşe\")"
   ]
  },
  {
   "cell_type": "code",
   "execution_count": null,
   "metadata": {},
   "outputs": [
    {
     "name": "stdout",
     "output_type": "stream",
     "text": [
      "I bought 6 kg. of apple this morning\n",
      "I bought 6 kg. of apple this morning\n",
      "I bought 6 kg. of apple this morning\n",
      "I bought 6 kg. of apple this morning\n"
     ]
    }
   ],
   "source": [
    "text1 = \"I bought\"\n",
    "text2 = \"kg. of apple this morning\"\n",
    "amount = 6 \n",
    "text3 = text1 + \" \" + str(amount) + \" \" + text2  # I bought 6 kg. of apple this morning\n",
    "print(text1, amount, text2)  # I bought 6 kg. of apple this morning\n",
    "print(\"I bought\", 6, \"kg. of apple this morning\")  # I bought 6 kg. of apple this morning\n",
    "print(\"I bought \" + \"6 \" + \"kg. of apple this morning\")  # I bought 6 kg. of apple this morning\n",
    "print(text3)"
   ]
  },
  {
   "cell_type": "markdown",
   "metadata": {},
   "source": [
    "Escape Sequences (review)\n",
    "\n",
    "Python ignores any character which comes immediately after \\\n",
    "\n",
    "Bu konu stringlerin için de \\ işaretinin kullanılması. Özel karakterlerin önüne gelir ise onu normalize eder ya da belirli harflerin önüne gelirse de farklı bir özellik kazanır. \\n, \\t, b\\ . Ya shirli hale getiriyor ya da sihirli olanı sihirsiz hale getiriyor. \n",
    "\\n : new line\n",
    "\\t : tab mark \n",
    "\\b : backspace"
   ]
  },
  {
   "cell_type": "code",
   "execution_count": null,
   "metadata": {},
   "outputs": [
    {
     "ename": "SyntaxError",
     "evalue": "unterminated string literal (detected at line 1) (1447621355.py, line 1)",
     "output_type": "error",
     "traceback": [
      "\u001b[1;36m  Input \u001b[1;32mIn [41]\u001b[1;36m\u001b[0m\n",
      "\u001b[1;33m    print('Ahmet'in ceketi')\u001b[0m\n",
      "\u001b[1;37m                          ^\u001b[0m\n",
      "\u001b[1;31mSyntaxError\u001b[0m\u001b[1;31m:\u001b[0m unterminated string literal (detected at line 1)\n"
     ]
    }
   ],
   "source": [
    "print('Ahmet'in ceketi')  # tek tırnaklar uyuşmadığı için hata veriyor. Bu kapsamda orta kısımdaki tek tırnağın özelliğini kaldırıyoruz aşağıda. "
   ]
  },
  {
   "cell_type": "code",
   "execution_count": null,
   "metadata": {},
   "outputs": [
    {
     "name": "stdout",
     "output_type": "stream",
     "text": [
      "Ahmet'in ceketi\n"
     ]
    }
   ],
   "source": [
    "print('Ahmet\\'in ceketi')  # Tek tırnağın önüne \\ koyduğumuzda artık özel bir karakter olmaktan çıkıyor ve hata vermeden yazdırıyor. Normal bir tırnak oldu."
   ]
  },
  {
   "cell_type": "code",
   "execution_count": null,
   "metadata": {},
   "outputs": [
    {
     "name": "stdout",
     "output_type": "stream",
     "text": [
      "Ahmet\\in ceketi\n"
     ]
    }
   ],
   "source": [
    "print('Ahmet\\in ceketi')  # önündeki i harfi özel bir karakter olmadığı için normal string olarak yazdırdı. "
   ]
  },
  {
   "cell_type": "code",
   "execution_count": null,
   "metadata": {},
   "outputs": [
    {
     "name": "stdout",
     "output_type": "stream",
     "text": [
      "Ayla\n",
      "ın çantası\n"
     ]
    }
   ],
   "source": [
    "print('Ayla\\nın çantası')  # n özel bir karakter olduğu için \\n olduğunda new line olarak sonrasını aşağıya atıyor. "
   ]
  },
  {
   "cell_type": "code",
   "execution_count": null,
   "metadata": {},
   "outputs": [
    {
     "name": "stdout",
     "output_type": "stream",
     "text": [
      "Ayla\\nın çantası\n"
     ]
    }
   ],
   "source": [
    "print('Ayla\\\\nın çantası')  # \\n özel karakterinin de önünde \\ koyarsak, artık \\ karakterini işlem yapamaz hale getirir, etkisizleştirir. "
   ]
  },
  {
   "cell_type": "code",
   "execution_count": null,
   "metadata": {},
   "outputs": [
    {
     "name": "stdout",
     "output_type": "stream",
     "text": [
      "C:\\north pole\n",
      "oise_penguins.txt\n",
      "----------\n",
      "first\tsecond\tthird\n"
     ]
    }
   ],
   "source": [
    "print('C:\\\\north pole\\noise_penguins.txt')\n",
    "print('----------')\n",
    "print('first', 'second', 'third', sep = '\\t')"
   ]
  },
  {
   "cell_type": "code",
   "execution_count": null,
   "metadata": {},
   "outputs": [
    {
     "name": "stdout",
     "output_type": "stream",
     "text": [
      "we areoosting ourrotherhood\n",
      "it's essential to learn Python's libraries in IT world\n"
     ]
    }
   ],
   "source": [
    "print('we are', '\\boosting', 'our', '\\brotherhood')  # we areoostig ourrotherhood\n",
    "print('it\\'s essential to learn Python\\'s libraries in IT world')  # it's essential to learn Python's libraries in IT world"
   ]
  },
  {
   "cell_type": "markdown",
   "metadata": {},
   "source": [
    "Boolean Operations"
   ]
  },
  {
   "cell_type": "markdown",
   "metadata": {},
   "source": [
    "1- and : Eğer hepsi True ise bu ifadenin sonucu en SON elemandır. Bir tane bile False var ise ilk False'dur. "
   ]
  },
  {
   "cell_type": "code",
   "execution_count": null,
   "metadata": {},
   "outputs": [
    {
     "data": {
      "text/plain": [
       "False"
      ]
     },
     "metadata": {},
     "output_type": "display_data"
    }
   ],
   "source": [
    "bool(\"\")  # Boş bir string False verir. "
   ]
  },
  {
   "cell_type": "code",
   "execution_count": null,
   "metadata": {},
   "outputs": [
    {
     "data": {
      "text/plain": [
       "False"
      ]
     },
     "metadata": {},
     "output_type": "display_data"
    }
   ],
   "source": [
    "bool([])  # Boş bir liste False verir. "
   ]
  },
  {
   "cell_type": "code",
   "execution_count": null,
   "metadata": {},
   "outputs": [
    {
     "data": {
      "text/plain": [
       "False"
      ]
     },
     "metadata": {},
     "output_type": "display_data"
    }
   ],
   "source": [
    "bool(())  # Boş bir tuple False verir. "
   ]
  },
  {
   "cell_type": "code",
   "execution_count": null,
   "metadata": {},
   "outputs": [
    {
     "data": {
      "text/plain": [
       "False"
      ]
     },
     "metadata": {},
     "output_type": "display_data"
    }
   ],
   "source": [
    "bool({})  # Boş bir dictionary False verir. "
   ]
  },
  {
   "cell_type": "code",
   "execution_count": null,
   "metadata": {},
   "outputs": [
    {
     "data": {
      "text/plain": [
       "False"
      ]
     },
     "metadata": {},
     "output_type": "display_data"
    }
   ],
   "source": [
    "bool(0)  # Boolean içindeki integer 0' da False verir. "
   ]
  },
  {
   "cell_type": "code",
   "execution_count": null,
   "metadata": {},
   "outputs": [
    {
     "data": {
      "text/plain": [
       "False"
      ]
     },
     "metadata": {},
     "output_type": "display_data"
    }
   ],
   "source": [
    "bool(None)  # None ifadesi Falsy'dir. "
   ]
  },
  {
   "cell_type": "markdown",
   "metadata": {},
   "source": [
    "Yukarıda da yer aldığı gibi boş string, boş liste, boş tuple, boş dictionary ve bool(0) ile bool(None) dışında geri kalan her şey \"True\" verir. "
   ]
  },
  {
   "cell_type": "code",
   "execution_count": null,
   "metadata": {},
   "outputs": [
    {
     "data": {
      "text/plain": [
       "True"
      ]
     },
     "metadata": {},
     "output_type": "display_data"
    }
   ],
   "source": [
    "bool(\"0\")  # Dolu bir string True verir. "
   ]
  },
  {
   "cell_type": "code",
   "execution_count": null,
   "metadata": {},
   "outputs": [
    {
     "data": {
      "text/plain": [
       "True"
      ]
     },
     "metadata": {},
     "output_type": "display_data"
    }
   ],
   "source": [
    "bool(\" \")  # Bu boş bir string değildir, arada boşluk olduğu için bunu dolu bir string olarak kabul eder ve True verir. "
   ]
  },
  {
   "cell_type": "code",
   "execution_count": null,
   "metadata": {},
   "outputs": [
    {
     "data": {
      "text/plain": [
       "0"
      ]
     },
     "metadata": {},
     "output_type": "display_data"
    }
   ],
   "source": [
    "0 and None and 1  # Arada \"and\" olduğu için tek tek elemanların Truty ya da Falsy olduklarına bakarız ve 0 Falsy olduğu için ilk Falsy bizim sonucumuzdur\n",
    "# Yukarıdaki ifade aslında şu şekilde de yazılabilir. False and False and True "
   ]
  },
  {
   "cell_type": "markdown",
   "metadata": {},
   "source": [
    "2- or : Eğer hepsi False ise bu ifadenin sonucu en SON elemandır. Bir tane bile True var ise ilk True'dur. Yani and deki durumun tam tersidir. "
   ]
  },
  {
   "cell_type": "code",
   "execution_count": null,
   "metadata": {},
   "outputs": [
    {
     "data": {
      "text/plain": [
       "True"
      ]
     },
     "metadata": {},
     "output_type": "display_data"
    }
   ],
   "source": [
    "True or True or True  # or ifadesinde ilk True hangisi ise sonuç o dur. "
   ]
  },
  {
   "cell_type": "code",
   "execution_count": null,
   "metadata": {},
   "outputs": [
    {
     "data": {
      "text/plain": [
       "False"
      ]
     },
     "metadata": {},
     "output_type": "display_data"
    }
   ],
   "source": [
    "False or False or False # Hepsi False olur ise en sonuncu sonuçtur. "
   ]
  },
  {
   "cell_type": "code",
   "execution_count": null,
   "metadata": {},
   "outputs": [
    {
     "data": {
      "text/plain": [
       "''"
      ]
     },
     "metadata": {},
     "output_type": "display_data"
    }
   ],
   "source": [
    "0 or None or \"\"  # Buradaki ifadelerin hepsi Falsy'dir ve hepsi Falsy olur ise sonuçta en sonuncu ifadedir. "
   ]
  },
  {
   "cell_type": "code",
   "execution_count": null,
   "metadata": {},
   "outputs": [
    {
     "data": {
      "text/plain": [
       "1"
      ]
     },
     "metadata": {},
     "output_type": "display_data"
    }
   ],
   "source": [
    "0 or 1 or 2 or \"\"  # Falsy or Truty or Truty or Falsy olduğu için bir tane bile Truty var ise ilk Truty'dir. "
   ]
  },
  {
   "cell_type": "markdown",
   "metadata": {},
   "source": [
    "3- not : Kendisinden sonra geleni tersine çevirir. True ise False, False ise True'a çevirir. Her zaman \"True\" ya da \"False\" sonucu verir. not'ın önüne koyacağımız bir value olması gerekir. (\"Not 0\" gibi) "
   ]
  },
  {
   "cell_type": "code",
   "execution_count": null,
   "metadata": {},
   "outputs": [
    {
     "data": {
      "text/plain": [
       "False"
      ]
     },
     "metadata": {},
     "output_type": "display_data"
    }
   ],
   "source": [
    "not 1  # 1 değeri normalde Truty olmasına rağmen "
   ]
  },
  {
   "cell_type": "code",
   "execution_count": null,
   "metadata": {},
   "outputs": [
    {
     "data": {
      "text/plain": [
       "True"
      ]
     },
     "metadata": {},
     "output_type": "display_data"
    }
   ],
   "source": [
    "not False "
   ]
  },
  {
   "cell_type": "code",
   "execution_count": null,
   "metadata": {},
   "outputs": [
    {
     "data": {
      "text/plain": [
       "True"
      ]
     },
     "metadata": {},
     "output_type": "display_data"
    }
   ],
   "source": [
    "not 0"
   ]
  },
  {
   "cell_type": "markdown",
   "metadata": {},
   "source": [
    "İşlem sırasına soktuğumuzda; \n",
    "1. not\n",
    "2. and\n",
    "3. or"
   ]
  },
  {
   "cell_type": "code",
   "execution_count": null,
   "metadata": {},
   "outputs": [
    {
     "name": "stdout",
     "output_type": "stream",
     "text": [
      "False\n"
     ]
    }
   ],
   "source": [
    "bool_var = False and not True\n",
    "print(bool_var)"
   ]
  },
  {
   "cell_type": "code",
   "execution_count": null,
   "metadata": {},
   "outputs": [
    {
     "data": {
      "text/plain": [
       "True"
      ]
     },
     "metadata": {},
     "output_type": "display_data"
    }
   ],
   "source": [
    "True and False or not False or False  # True and False or True or False - False or True or False - True"
   ]
  },
  {
   "cell_type": "markdown",
   "metadata": {},
   "source": [
    "Truth Values of Logic Statements \n",
    "- Falsy values in Python \n",
    "  None\n",
    "  Zero : 0, 0.0, 0j\n",
    "  Empty Seq. and collections : \"\", [], {}\n",
    "  Any remaining value : True\n"
   ]
  },
  {
   "cell_type": "code",
   "execution_count": null,
   "metadata": {},
   "outputs": [
    {
     "name": "stdout",
     "output_type": "stream",
     "text": [
      "3\n"
     ]
    }
   ],
   "source": [
    "print(2 and 3)"
   ]
  },
  {
   "cell_type": "code",
   "execution_count": null,
   "metadata": {},
   "outputs": [
    {
     "name": "stdout",
     "output_type": "stream",
     "text": [
      "0\n"
     ]
    }
   ],
   "source": [
    "print(1 and 0)"
   ]
  },
  {
   "cell_type": "code",
   "execution_count": null,
   "metadata": {},
   "outputs": [
    {
     "name": "stdout",
     "output_type": "stream",
     "text": [
      "hello world\n",
      "[]\n",
      "None\n"
     ]
    }
   ],
   "source": [
    "print(2 and \"hello world\")\n",
    "print([] and \"be happy!\")\n",
    "print(None and ())"
   ]
  },
  {
   "cell_type": "code",
   "execution_count": null,
   "metadata": {},
   "outputs": [
    {
     "name": "stdout",
     "output_type": "stream",
     "text": [
      "2\n",
      "1\n"
     ]
    }
   ],
   "source": [
    "print(2 or 3)\n",
    "print(None or 1)"
   ]
  },
  {
   "cell_type": "code",
   "execution_count": null,
   "metadata": {},
   "outputs": [
    {
     "name": "stdout",
     "output_type": "stream",
     "text": [
      "2\n",
      "be happy!\n",
      "()\n",
      "0\n",
      "{0}\n"
     ]
    }
   ],
   "source": [
    "print(2 or \"hello world\")\n",
    "print([] or \"be happy!\")\n",
    "print(None or ())\n",
    "print({} or 0)\n",
    "print({0} or False)"
   ]
  },
  {
   "cell_type": "markdown",
   "metadata": {},
   "source": [
    "The Strenght of the String\n",
    "- Indexing & Slicing Strings"
   ]
  },
  {
   "cell_type": "code",
   "execution_count": null,
   "metadata": {},
   "outputs": [
    {
     "data": {
      "text/plain": [
       "'&% , ali deli veli-1234'"
      ]
     },
     "metadata": {},
     "output_type": "display_data"
    }
   ],
   "source": [
    "string_karakterler = \"&% , ali deli veli-1234\"  # Bu string ifade içindeki her bir karakter bir değer olmakta (boşluk da dahil)\n",
    "string_karakterler"
   ]
  },
  {
   "cell_type": "code",
   "execution_count": null,
   "metadata": {},
   "outputs": [
    {
     "data": {
      "text/plain": [
       "'&'"
      ]
     },
     "metadata": {},
     "output_type": "display_data"
    }
   ],
   "source": [
    "string_karakterler[0]  # soldan sağa doğru ilerleyecek şekilde köşeli parantez içinde yazdığım sayıya göre sting ifadenin tüm elemanlarına ulaşabiliyorum. "
   ]
  },
  {
   "cell_type": "code",
   "execution_count": null,
   "metadata": {},
   "outputs": [
    {
     "data": {
      "text/plain": [
       "'s'"
      ]
     },
     "metadata": {},
     "output_type": "display_data"
    }
   ],
   "source": [
    "\"clarus\"[5]  # 5. index numarası bizlere s yi verir. "
   ]
  },
  {
   "cell_type": "code",
   "execution_count": null,
   "metadata": {},
   "outputs": [
    {
     "data": {
      "text/plain": [
       "'s'"
      ]
     },
     "metadata": {},
     "output_type": "display_data"
    }
   ],
   "source": [
    "okul = \"clarus\"  \n",
    "okul[5] "
   ]
  },
  {
   "cell_type": "code",
   "execution_count": null,
   "metadata": {},
   "outputs": [
    {
     "data": {
      "text/plain": [
       "'ar'"
      ]
     },
     "metadata": {},
     "output_type": "display_data"
    }
   ],
   "source": [
    "okul[2:4]  # 2. indexten başla ve :'den sonraki değerin bir eksiğine kadar git demek. Yani köşeli parantez içindeki ilk değer start, 2. değer ise stop ama 1 eksiği. "
   ]
  },
  {
   "cell_type": "code",
   "execution_count": null,
   "metadata": {},
   "outputs": [
    {
     "data": {
      "text/plain": [
       "'cla'"
      ]
     },
     "metadata": {},
     "output_type": "display_data"
    }
   ],
   "source": [
    "okul[:3]  # En baştan başla ve stop un bir eksiğine kadar git demek. "
   ]
  },
  {
   "cell_type": "markdown",
   "metadata": {},
   "source": [
    "Eğer bir string ifadeden tek bir ifade çekmek istiyorsak tek bir tane sayı yazacağız köşeli parantez içine ama birden çok sayı yazacaksak o zaman aralarında : olacak şekilde 2 sayı belirteceğiz. step de aksi belirtilmediği sürece yönümüz soldan sağa doğrudur. \n",
    "\n",
    "[start:stop:step]"
   ]
  },
  {
   "cell_type": "code",
   "execution_count": null,
   "metadata": {},
   "outputs": [
    {
     "data": {
      "text/plain": [
       "'clarus'"
      ]
     },
     "metadata": {},
     "output_type": "display_data"
    }
   ],
   "source": [
    "okul[:]  # En baştan başla ve en sona kadar git demektir. O yüzden tüm string ifadeyi yazdırır. "
   ]
  },
  {
   "cell_type": "markdown",
   "metadata": {},
   "source": [
    "4. DERS (012422)"
   ]
  },
  {
   "cell_type": "markdown",
   "metadata": {},
   "source": [
    "Kadayıf dolmasının malzemeleri; \n",
    "- Kadayıf\n",
    "- İç \n",
    "  - Ceviz\n",
    "  - Fındık\n",
    "  - Fıstık\n",
    "- Şerbet\n",
    "  - Su\n",
    "  - Şeker\n",
    "- Yumurta"
   ]
  },
  {
   "cell_type": "code",
   "execution_count": null,
   "metadata": {},
   "outputs": [
    {
     "data": {
      "text/plain": [
       "True"
      ]
     },
     "metadata": {},
     "output_type": "display_data"
    }
   ],
   "source": [
    "kadayıf = True  # Olmazsa olmaz\n",
    "\n",
    "# İç --> Olmazsa olmaz\n",
    "fındık = True  # Farketmez\n",
    "fıstık = False  # Farketmez\n",
    "ceviz = False  # Farketmez\n",
    "\n",
    "# Şerbet \n",
    "su = True\n",
    "şeker = True\n",
    "\n",
    "yumurta = True # Olmazsa olmaz\n",
    "\n",
    "# içecek --> Olmazsa olmaz\n",
    "çay = True\n",
    "meşrubat = False\n",
    "limonata = False\n",
    "\n",
    "yedim = kadayıf and (su and şeker) and (fındık or fıstık or ceviz) and yumurta\\\n",
    "and (çay or meşrubat or limonata)\n",
    "yedim"
   ]
  },
  {
   "cell_type": "markdown",
   "metadata": {},
   "source": []
  },
  {
   "cell_type": "markdown",
   "metadata": {},
   "source": [
    "\"and\" de False'u arar, \"or\" da True'yu arar. "
   ]
  },
  {
   "cell_type": "markdown",
   "metadata": {},
   "source": [
    "Indexing & Slicing Strings\n",
    "\n",
    "iterable : Tek tek elemanlarına ayrılabilen, ulaşılabilen verilere denmektedir. iterate etmek de tek tek o elemanlara ulaşıp üzerinde gezmektir. String'de bir iterable'dır. Tek tek elemanlarına ulaşıp üzerinde gezebiliriz. \n",
    "\n",
    "slicing yaptığımızda birden çok elemanı almış oluruz.\n",
    "indexing yaptığımızda ise bir eleman almış oluruz."
   ]
  },
  {
   "cell_type": "code",
   "execution_count": null,
   "metadata": {},
   "outputs": [
    {
     "name": "stdout",
     "output_type": "stream",
     "text": [
      "Orange\n",
      "O\n",
      "r\n",
      "ang\n",
      "ange\n"
     ]
    }
   ],
   "source": [
    "fruit = \"Orange\"\n",
    "print(fruit)\n",
    "print(fruit[0])\n",
    "print(fruit[1])\n",
    "print(fruit[2:5])\n",
    "print(fruit[2:])"
   ]
  },
  {
   "cell_type": "code",
   "execution_count": null,
   "metadata": {},
   "outputs": [
    {
     "name": "stdout",
     "output_type": "stream",
     "text": [
      "hoenix\n",
      "Phoeni\n",
      "Ponx\n",
      "hei\n",
      "nix\n",
      "xineohP\n"
     ]
    }
   ],
   "source": [
    "city = \"Phoenix\"\n",
    "print(city[1:])  # hoenix\n",
    "print(city[:6])  # Phoeni\n",
    "print(city[::2])  # Ponx\n",
    "print(city[1::2])  # hei\n",
    "print(city[-3:])  # nix\n",
    "print(city[::-1])  # xineohP"
   ]
  },
  {
   "cell_type": "code",
   "execution_count": null,
   "metadata": {},
   "outputs": [
    {
     "name": "stdout",
     "output_type": "stream",
     "text": [
      "ippopotamus\n",
      "hippop\n",
      "hpooau\n",
      "ipp\n",
      "mus\n",
      "sumatopoppih\n"
     ]
    }
   ],
   "source": [
    "animal = \"hippopotamus\"\n",
    "print(animal[1:])  # ippopotamus\n",
    "print(animal[:6])  # hippop\n",
    "print(animal[::2])  # hpooau\n",
    "print(animal[1:7:2])  # ipp\n",
    "print(animal[-3:])  # mus\n",
    "print(animal[::-1])  # sumatopoppih\n"
   ]
  },
  {
   "cell_type": "markdown",
   "metadata": {},
   "source": [
    "\"len\" fonsiyonu iterable'ın uzunluğunu verir. Yani sadece iterable değer alır içine. len(1230) da 1230 iterable bir veri tipi olmadığı için sonucu hata verir. "
   ]
  },
  {
   "cell_type": "code",
   "execution_count": null,
   "metadata": {},
   "outputs": [
    {
     "data": {
      "text/plain": [
       "7"
      ]
     },
     "metadata": {},
     "output_type": "display_data"
    }
   ],
   "source": [
    "len(city)  # len fonsiyonu integer (tam sayı) değer verir ve uzunluk yani eleman sayısını verir. "
   ]
  },
  {
   "cell_type": "code",
   "execution_count": null,
   "metadata": {},
   "outputs": [
    {
     "data": {
      "text/plain": [
       "3"
      ]
     },
     "metadata": {},
     "output_type": "display_data"
    }
   ],
   "source": [
    "len(\"321\")"
   ]
  },
  {
   "cell_type": "code",
   "execution_count": null,
   "metadata": {},
   "outputs": [
    {
     "data": {
      "text/plain": [
       "1"
      ]
     },
     "metadata": {},
     "output_type": "display_data"
    }
   ],
   "source": [
    "len(\"0\")"
   ]
  },
  {
   "cell_type": "code",
   "execution_count": null,
   "metadata": {},
   "outputs": [
    {
     "data": {
      "text/plain": [
       "3"
      ]
     },
     "metadata": {},
     "output_type": "display_data"
    }
   ],
   "source": [
    "len(\"1 1\")"
   ]
  },
  {
   "cell_type": "code",
   "execution_count": null,
   "metadata": {},
   "outputs": [
    {
     "ename": "TypeError",
     "evalue": "object of type 'int' has no len()",
     "output_type": "error",
     "traceback": [
      "\u001b[1;31m---------------------------------------------------------------------------\u001b[0m\n",
      "\u001b[1;31mTypeError\u001b[0m                                 Traceback (most recent call last)\n",
      "\u001b[1;32mg:\\Drive'ım\\Masaüstü\\Eğitimler\\Yazılım\\VS Code Genel\\Python In-class\\012422.ipynb Cell 15'\u001b[0m in \u001b[0;36m<module>\u001b[1;34m\u001b[0m\n",
      "\u001b[1;32m----> <a href='vscode-notebook-cell:/g%3A/Drive%27%C4%B1m/Masa%C3%BCst%C3%BC/E%C4%9Fitimler/Yaz%C4%B1l%C4%B1m/VS%20Code%20Genel/Python%20In-class/012422.ipynb#ch0000015?line=0'>1</a>\u001b[0m \u001b[39mlen\u001b[39;49m(\u001b[39m111\u001b[39;49m)\n",
      "\n",
      "\u001b[1;31mTypeError\u001b[0m: object of type 'int' has no len()"
     ]
    }
   ],
   "source": [
    "len(111)  # iterable(elemanlarına ayrılabilen) olmadığı için eleman sayısından da bahsedilemez. String'e dönüştürseydik olurdu. "
   ]
  },
  {
   "cell_type": "markdown",
   "metadata": {},
   "source": [
    "String Formatting with Arithmetic Syntax\n",
    "\n",
    " +\n",
    " =\n",
    " *"
   ]
  },
  {
   "cell_type": "code",
   "execution_count": null,
   "metadata": {},
   "outputs": [
    {
     "data": {
      "text/plain": [
       "'121121'"
      ]
     },
     "metadata": {},
     "output_type": "display_data"
    }
   ],
   "source": [
    "sonuc = str((5 + 6) ** 2) + '121'\n",
    "sonuc"
   ]
  },
  {
   "cell_type": "code",
   "execution_count": null,
   "metadata": {},
   "outputs": [
    {
     "data": {
      "text/plain": [
       "'alideliveli'"
      ]
     },
     "metadata": {},
     "output_type": "display_data"
    }
   ],
   "source": [
    "\"ali\" + \"deli\" + \"veli\""
   ]
  },
  {
   "cell_type": "code",
   "execution_count": null,
   "metadata": {},
   "outputs": [
    {
     "data": {
      "text/plain": [
       "'100500001'"
      ]
     },
     "metadata": {},
     "output_type": "display_data"
    }
   ],
   "source": [
    "\"100\" + \"500\" + \"001\""
   ]
  },
  {
   "cell_type": "code",
   "execution_count": null,
   "metadata": {},
   "outputs": [
    {
     "data": {
      "text/plain": [
       "'121121121121121121121121'"
      ]
     },
     "metadata": {},
     "output_type": "display_data"
    }
   ],
   "source": [
    "sonuc = str((5 + 6) ** 2) + '121'\n",
    "sonuc = (sonuc + sonuc) * 2\n",
    "sonuc"
   ]
  },
  {
   "cell_type": "code",
   "execution_count": null,
   "metadata": {},
   "outputs": [
    {
     "data": {
      "text/plain": [
       "'alialiali'"
      ]
     },
     "metadata": {},
     "output_type": "display_data"
    }
   ],
   "source": [
    "\"ali\" * 3"
   ]
  },
  {
   "cell_type": "code",
   "execution_count": null,
   "metadata": {},
   "outputs": [
    {
     "data": {
      "text/plain": [
       "'veliveliveli'"
      ]
     },
     "metadata": {},
     "output_type": "display_data"
    }
   ],
   "source": [
    "3 * \"veli\""
   ]
  },
  {
   "cell_type": "code",
   "execution_count": null,
   "metadata": {},
   "outputs": [
    {
     "name": "stdout",
     "output_type": "stream",
     "text": [
      "uppercase\n",
      "uppercase\n",
      "uppercase\n"
     ]
    }
   ],
   "source": [
    "str_one = 'upper'\n",
    "str_two = 'case'\n",
    "str_comb = str_one + str_two\n",
    "print(\"upper\" + \"case\")\n",
    "print(str_one + str_two)\n",
    "print(str_comb)"
   ]
  },
  {
   "cell_type": "code",
   "execution_count": null,
   "metadata": {},
   "outputs": [
    {
     "name": "stdout",
     "output_type": "stream",
     "text": [
      "c l a r u s w a y\n"
     ]
    }
   ],
   "source": [
    "print(* \"clarusway\")  # iterable bir ifadenin önüne eğer yıldız koyarsak elemanlarına ayırır yani böler. "
   ]
  },
  {
   "cell_type": "code",
   "execution_count": null,
   "metadata": {},
   "outputs": [
    {
     "ename": "TypeError",
     "evalue": "print() argument after * must be an iterable, not int",
     "output_type": "error",
     "traceback": [
      "\u001b[1;31m---------------------------------------------------------------------------\u001b[0m\n",
      "\u001b[1;31mTypeError\u001b[0m                                 Traceback (most recent call last)\n",
      "\u001b[1;32mg:\\Drive'ım\\Masaüstü\\Eğitimler\\Yazılım\\VS Code Genel\\Python In-class\\012422.ipynb Cell 24'\u001b[0m in \u001b[0;36m<module>\u001b[1;34m\u001b[0m\n",
      "\u001b[1;32m----> <a href='vscode-notebook-cell:/g%3A/Drive%27%C4%B1m/Masa%C3%BCst%C3%BC/E%C4%9Fitimler/Yaz%C4%B1l%C4%B1m/VS%20Code%20Genel/Python%20In-class/012422.ipynb#ch0000026?line=0'>1</a>\u001b[0m \u001b[39mprint\u001b[39;49m(\u001b[39m*\u001b[39;49m \u001b[39m111\u001b[39;49m)\n",
      "\n",
      "\u001b[1;31mTypeError\u001b[0m: print() argument after * must be an iterable, not int"
     ]
    }
   ],
   "source": [
    "print(* 111)  # iterable olmadığı için yani elemanlarına ayrılabilen bir ifade olmadığı için hata verdi. "
   ]
  },
  {
   "cell_type": "code",
   "execution_count": null,
   "metadata": {},
   "outputs": [
    {
     "ename": "TypeError",
     "evalue": "unsupported operand type(s) for +: 'int' and 'str'",
     "output_type": "error",
     "traceback": [
      "\u001b[1;31m---------------------------------------------------------------------------\u001b[0m\n",
      "\u001b[1;31mTypeError\u001b[0m                                 Traceback (most recent call last)\n",
      "\u001b[1;32mg:\\Drive'ım\\Masaüstü\\Eğitimler\\Yazılım\\VS Code Genel\\Python In-class\\012422.ipynb Cell 25'\u001b[0m in \u001b[0;36m<module>\u001b[1;34m\u001b[0m\n",
      "\u001b[1;32m----> <a href='vscode-notebook-cell:/g%3A/Drive%27%C4%B1m/Masa%C3%BCst%C3%BC/E%C4%9Fitimler/Yaz%C4%B1l%C4%B1m/VS%20Code%20Genel/Python%20In-class/012422.ipynb#ch0000027?line=0'>1</a>\u001b[0m \u001b[39m1\u001b[39;49m \u001b[39m+\u001b[39;49m \u001b[39m\"\u001b[39;49m\u001b[39m1\u001b[39;49m\u001b[39m\"\u001b[39;49m\n",
      "\n",
      "\u001b[1;31mTypeError\u001b[0m: unsupported operand type(s) for +: 'int' and 'str'"
     ]
    }
   ],
   "source": [
    "1 + \"1\"  # Bir string ile bir integer'ı toplarsak hata verir. Ama aşağıdaki gibi çarparsak; "
   ]
  },
  {
   "cell_type": "code",
   "execution_count": null,
   "metadata": {},
   "outputs": [
    {
     "data": {
      "text/plain": [
       "'vv'"
      ]
     },
     "metadata": {},
     "output_type": "display_data"
    }
   ],
   "source": [
    "2 * \"v\"  # tekrar ettirir ve yan yana yazar (string olarak)"
   ]
  },
  {
   "cell_type": "code",
   "execution_count": null,
   "metadata": {},
   "outputs": [
    {
     "name": "stdout",
     "output_type": "stream",
     "text": [
      "I   a m   a n g r y . . .\n"
     ]
    }
   ],
   "source": [
    "string_1 = 'I am angry...'\n",
    "print(* string_1)"
   ]
  },
  {
   "cell_type": "code",
   "execution_count": null,
   "metadata": {},
   "outputs": [
    {
     "name": "stdout",
     "output_type": "stream",
     "text": [
      "1 4 5 3\n"
     ]
    }
   ],
   "source": [
    "string_2 = \"1453\"\n",
    "print(* string_2)"
   ]
  },
  {
   "cell_type": "code",
   "execution_count": null,
   "metadata": {},
   "outputs": [
    {
     "name": "stdout",
     "output_type": "stream",
     "text": [
      "j o s e p h\n"
     ]
    }
   ],
   "source": [
    "print(* \"joseph\")"
   ]
  },
  {
   "cell_type": "code",
   "execution_count": null,
   "metadata": {},
   "outputs": [
    {
     "data": {
      "text/plain": [
       "1"
      ]
     },
     "metadata": {},
     "output_type": "display_data"
    }
   ],
   "source": [
    "len(\" \")"
   ]
  },
  {
   "cell_type": "code",
   "execution_count": null,
   "metadata": {},
   "outputs": [
    {
     "data": {
      "text/plain": [
       "'aliveli'"
      ]
     },
     "metadata": {},
     "output_type": "display_data"
    }
   ],
   "source": [
    "a = \"ali\"\n",
    "b = \"veli\"\n",
    "a = a + b\n",
    "a"
   ]
  },
  {
   "cell_type": "markdown",
   "metadata": {},
   "source": [
    "String Formatting with string.format() Method\n",
    "\n",
    "Bu metod sadece stringler ile kullanılır. Formulü aşağıdaki gibidir. \n",
    "\n",
    "'string {} string {} string'.format(data1, data2)"
   ]
  },
  {
   "cell_type": "code",
   "execution_count": null,
   "metadata": {},
   "outputs": [
    {
     "data": {
      "text/plain": [
       "<function str.format>"
      ]
     },
     "metadata": {},
     "output_type": "display_data"
    }
   ],
   "source": [
    "deneme = \"clarusway\"\n",
    "deneme.format()\n",
    "# ya da şu şekilde de yazabiliriz; \n",
    "\"clarusway\".format()"
   ]
  },
  {
   "cell_type": "code",
   "execution_count": null,
   "metadata": {},
   "outputs": [
    {
     "data": {
      "text/plain": [
       "\"Ben sabah 05:00 de uyandım. Okul'a gittim. Gelirken de 2 kg elma aldım.\""
      ]
     },
     "metadata": {},
     "output_type": "display_data"
    }
   ],
   "source": [
    "saat = \"05:00\"\n",
    "yer = \"Okul\"\n",
    "miktar = 2\n",
    "\"Ben sabah {} de uyandım. {}'a gittim. Gelirken de {} kg elma aldım.\".format(saat, yer, miktar)  # format içinde 0, 1, 2 olarak index sayıları verebiliriz. \n",
    "# {} koyduğumuzda format içindeki verileri yazdırmak istediğimizde kullanıyoruz.  "
   ]
  },
  {
   "cell_type": "code",
   "execution_count": null,
   "metadata": {},
   "outputs": [
    {
     "data": {
      "text/plain": [
       "\"Ben sabah 05.00 de uyandım. okul'a gittim. Gelirken de 2 kg elma aldım.\""
      ]
     },
     "metadata": {},
     "output_type": "display_data"
    }
   ],
   "source": [
    "# bu da format metodunun 3. kullanımıdır. \n",
    "\"Ben sabah {saat} de uyandım. {yer}'a gittim. Gelirken de {miktar} kg elma aldım.\".format(yer = \"okul\", miktar = 2, saat = \"05.00\")"
   ]
  },
  {
   "cell_type": "code",
   "execution_count": null,
   "metadata": {},
   "outputs": [
    {
     "data": {
      "text/plain": [
       "\"Ben sabah 05.00 de uyandım. okul'a gittim. Gelirken de 2 kg elma aldım.\""
      ]
     },
     "metadata": {},
     "output_type": "display_data"
    }
   ],
   "source": [
    "# illa değişkenleri atamak zorunda da değiliz, içine direk değerleri de yazdırabiliriz. \n",
    "\"Ben sabah {} de uyandım. {}'a gittim. Gelirken de {} kg elma aldım.\".format(\"05.00\", \"okul\", \"2\")"
   ]
  },
  {
   "cell_type": "code",
   "execution_count": null,
   "metadata": {},
   "outputs": [
    {
     "data": {
      "text/plain": [
       "\"Ben sabah 05.00 de uyandım. okul'a gittim. Gelirken de 2 kg elma aldım.\""
      ]
     },
     "metadata": {},
     "output_type": "display_data"
    }
   ],
   "source": [
    "# bu da format metodunun 4. kullanımıdır. format içindeki veriler 0, 1, 2 olmak üzere index ataması yapabilir ve {} içlerine de o index numaralarını yazabiliriz. \n",
    "\"Ben sabah {2} de uyandım. {0}'a gittim. Gelirken de {1} kg elma aldım.\".format(\"okul\", 2, \"05.00\")  "
   ]
  },
  {
   "cell_type": "markdown",
   "metadata": {},
   "source": [
    "5. DERS (012622)"
   ]
  },
  {
   "cell_type": "code",
   "execution_count": null,
   "metadata": {},
   "outputs": [
    {
     "name": "stdout",
     "output_type": "stream",
     "text": [
      "The amount of orange we bought is 4 pounds\n"
     ]
    }
   ],
   "source": [
    "fruit = \"orange\"\n",
    "vegetable = \"tomato\"\n",
    "amount = 4 \n",
    "print('The amount of {} we bought is {} pounds'.format(fruit, amount))"
   ]
  },
  {
   "cell_type": "code",
   "execution_count": null,
   "metadata": {},
   "outputs": [
    {
     "name": "stdout",
     "output_type": "stream",
     "text": [
      "The amount of apple we bought is 2 pounds\n"
     ]
    }
   ],
   "source": [
    "print('The amount of {fruit} we bought is {amount} pounds'.format(fruit = \"apple\", amount = 2))"
   ]
  },
  {
   "cell_type": "code",
   "execution_count": null,
   "metadata": {},
   "outputs": [
    {
     "name": "stdout",
     "output_type": "stream",
     "text": [
      "The amount of apple we bought is 2 pounds\n"
     ]
    }
   ],
   "source": [
    "print('The amount of {1} we bought is {0} pounds'.format(2, \"apple\"))"
   ]
  },
  {
   "cell_type": "code",
   "execution_count": null,
   "metadata": {},
   "outputs": [
    {
     "name": "stdout",
     "output_type": "stream",
     "text": [
      "The amount of apple we bought is 2 pounds\n"
     ]
    }
   ],
   "source": [
    "print('The amount of {} we bought is {} pounds'.format(\"apple\", 2))"
   ]
  },
  {
   "cell_type": "code",
   "execution_count": null,
   "metadata": {},
   "outputs": [
    {
     "name": "stdout",
     "output_type": "stream",
     "text": [
      "California is the most crowded state of the USA\n"
     ]
    }
   ],
   "source": [
    "print(\"{state} is the most {adjective} state of the {country}\".format(state = \"California\", country = \"USA\", adjective = \"crowded\"))"
   ]
  },
  {
   "cell_type": "code",
   "execution_count": null,
   "metadata": {},
   "outputs": [
    {
     "name": "stdout",
     "output_type": "stream",
     "text": [
      "California is the most crowded state of the USA\n"
     ]
    }
   ],
   "source": [
    "print(\"{0} is the most {2} state of the {1}\".format(\"California\", \"USA\", \"crowded\"))"
   ]
  },
  {
   "cell_type": "code",
   "execution_count": null,
   "metadata": {},
   "outputs": [
    {
     "name": "stdout",
     "output_type": "stream",
     "text": [
      "California is the most crowded state of the USA\n"
     ]
    }
   ],
   "source": [
    "state = \"California\"\n",
    "country = \"USA\"\n",
    "adjective = \"crowded\"\n",
    "\n",
    "print(\"{} is the most {} state of the {}\".format(state, adjective, country))"
   ]
  },
  {
   "cell_type": "code",
   "execution_count": null,
   "metadata": {},
   "outputs": [
    {
     "name": "stdout",
     "output_type": "stream",
     "text": [
      "California is the most crowded state of the USA\n"
     ]
    }
   ],
   "source": [
    "print(\"{} is the most {} state of the {}\".format(\"California\", \"crowded\", \"USA\"))"
   ]
  },
  {
   "cell_type": "code",
   "execution_count": null,
   "metadata": {},
   "outputs": [
    {
     "name": "stdout",
     "output_type": "stream",
     "text": [
      "generosity wins in all circumstances\n"
     ]
    }
   ],
   "source": [
    "phrase = \"{2} {3} {1} {0}\".format('circumstances', 'in all', 'generosity', 'wins')\n",
    "print(phrase)"
   ]
  },
  {
   "cell_type": "markdown",
   "metadata": {},
   "source": [
    "Şimdiye kadar 2 tane string format metodu gördük; \n",
    "1- Arithmatic Syntax (*, +, =)\n",
    "2- string.format() Method\n",
    "\n",
    "Şimdi ise 3. sünü göreceğiz;\n"
   ]
  },
  {
   "cell_type": "markdown",
   "metadata": {},
   "source": [
    "String Formatting with f-String\n",
    "\n",
    "f'string {variable1} string {variable2} string'"
   ]
  },
  {
   "cell_type": "code",
   "execution_count": null,
   "metadata": {},
   "outputs": [
    {
     "name": "stdout",
     "output_type": "stream",
     "text": [
      "The amount of orange and Tomato we bought are totally 6 pounds\n"
     ]
    }
   ],
   "source": [
    "fruit = \"orange\"\n",
    "vegetable = \"tomato\"\n",
    "amount = 6\n",
    "output = f\"The amount of {fruit} and {vegetable} we bought are totally {amount} pounds\"\n",
    "print(output)"
   ]
  },
  {
   "cell_type": "code",
   "execution_count": null,
   "metadata": {},
   "outputs": [
    {
     "name": "stdout",
     "output_type": "stream",
     "text": [
      "8\n"
     ]
    }
   ],
   "source": [
    "sample = f\"{2 ** 3}\"  # f string metodun da süslü parantez içinde fonksiyonlar ve metodların hepsi çalışır.   \n",
    "print(sample)  # .format() metounda da bazıları geçerli ama  f string metodunda hepsi geçerli. "
   ]
  },
  {
   "cell_type": "code",
   "execution_count": null,
   "metadata": {},
   "outputs": [
    {
     "name": "stdout",
     "output_type": "stream",
     "text": [
      "My name is Mariam\n"
     ]
    }
   ],
   "source": [
    "# string.capitalize() metodu, kullanıldığı string ifadenin baş harfini büyük diğerlerini küçük yapmaktadır. \n",
    "name = \"MARIAM\"\n",
    "sentence = f\"My name is {name.capitalize()}\"  # f string metodu içinde farklı metod ve fonksiyonlar kullanılabilmektedir. \n",
    "print(sentence)"
   ]
  },
  {
   "cell_type": "code",
   "execution_count": null,
   "metadata": {},
   "outputs": [
    {
     "name": "stdout",
     "output_type": "stream",
     "text": [
      "Hi Joseph. You are one of the teachers in the Data Sciense section.\n"
     ]
    }
   ],
   "source": [
    "name = \"Joseph\"\n",
    "job = \"teachers\"\n",
    "domain = \"Data Sciense\"\n",
    "message = (\n",
    "    f\"Hi {name}.\"\n",
    "    f\" You are one of the {job}\"\n",
    "    f\" in the {domain} section.\"\n",
    ")\n",
    "print(message)"
   ]
  },
  {
   "cell_type": "code",
   "execution_count": null,
   "metadata": {},
   "outputs": [
    {
     "name": "stdout",
     "output_type": "stream",
     "text": [
      "Hi Joseph. You are one of the teachers in the Data Sciense section.\n"
     ]
    }
   ],
   "source": [
    "name = \"Joseph\"\n",
    "job = \"teachers\"\n",
    "domain = \"Data Sciense\"  # \"\\\" işareti ile de ayrı ayrı satırlardda yazabiliriz rahat olması açısından. Burada parantez yoktur. \n",
    "message = f\"Hi {name}.\" \\\n",
    "    f\" You are one of the {job}\" \\\n",
    "    f\" in the {domain} section.\"\n",
    "print(message)"
   ]
  },
  {
   "cell_type": "code",
   "execution_count": null,
   "metadata": {},
   "outputs": [
    {
     "data": {
      "text/plain": [
       "'Hi Joseph. Are you ill?'"
      ]
     },
     "metadata": {},
     "output_type": "display_data"
    }
   ],
   "source": [
    "name = \"Joseph\"\n",
    "status = \"ill\"\n",
    "message = f\"Hi {name}. \\\n",
    "Are you {status}?\"\n",
    "message"
   ]
  },
  {
   "cell_type": "code",
   "execution_count": null,
   "metadata": {},
   "outputs": [
    {
     "name": "stdout",
     "output_type": "stream",
     "text": [
      "Susan is a young lady and she is a student at the CLRWY IT university\n"
     ]
    }
   ],
   "source": [
    "name = \"Susan\"\n",
    "age = \"young\"\n",
    "gender = \"lady\"\n",
    "school = \"CLRWY IT university\"\n",
    "\n",
    "sentence = (  # Parantez olmadığında \\ ile aşağı satırlara yazdırıyoruz. \n",
    "    f\"{name} is\" \n",
    "    f\" a {age}\"\n",
    "    f\" {gender}\"\n",
    "    f\" and she is a student at the {school}\"\n",
    ")\n",
    "print(sentence)"
   ]
  },
  {
   "cell_type": "markdown",
   "metadata": {},
   "source": [
    "Immutability \n",
    "\n",
    "Değişmezlik. Stringler immutability dir. "
   ]
  },
  {
   "cell_type": "code",
   "execution_count": null,
   "metadata": {},
   "outputs": [
    {
     "name": "stdout",
     "output_type": "stream",
     "text": [
      "clarusway\n",
      "ClarusWay\n",
      "clarusway\n"
     ]
    }
   ],
   "source": [
    "var_string = 'ClarusWay'\n",
    "print(var_string.lower())  # lower fonksiyonu, string olab value değerimizin tüm harflerini küçültür. \n",
    "print(var_string)\n",
    "var_string = 'ClarusWay'.lower()\n",
    "print(var_string)"
   ]
  },
  {
   "cell_type": "code",
   "execution_count": null,
   "metadata": {},
   "outputs": [
    {
     "data": {
      "text/plain": [
       "'ali̇ VELI'"
      ]
     },
     "metadata": {},
     "output_type": "display_data"
    }
   ],
   "source": [
    "isim = \"ALİ veli\"\n",
    "isim.swapcase()  # Herşeyi tam tersine çevirir. Büyükleri küçük, küçükleri ise büyük yapar. \n"
   ]
  },
  {
   "cell_type": "code",
   "execution_count": null,
   "metadata": {},
   "outputs": [
    {
     "data": {
      "text/plain": [
       "'ali̇ VELI'"
      ]
     },
     "metadata": {},
     "output_type": "display_data"
    }
   ],
   "source": [
    "isim  # Bizim variable mız değişmedi, sadece output umuz değişti, variable aynı durmaktadır. "
   ]
  },
  {
   "cell_type": "code",
   "execution_count": null,
   "metadata": {},
   "outputs": [
    {
     "data": {
      "text/plain": [
       "'ALİ veli'"
      ]
     },
     "metadata": {},
     "output_type": "display_data"
    }
   ],
   "source": [
    "isim = isim.swapcase()\n",
    "isim "
   ]
  },
  {
   "cell_type": "code",
   "execution_count": null,
   "metadata": {},
   "outputs": [
    {
     "name": "stdout",
     "output_type": "stream",
     "text": [
      "In God we Trust\n"
     ]
    }
   ],
   "source": [
    "var_str = \"In God we Trust\"\n",
    "var_str.lower() # in god we trust\n",
    "print(var_str)  "
   ]
  },
  {
   "cell_type": "markdown",
   "metadata": {},
   "source": [
    "Searching a String \n",
    "\n",
    "Aşağıdaki iki metod ile text içinde herhangi bir karakter aramamızı sağlar, boolean sonuç verirler (True ya da False). Çokça kullanılan metodlardır. \n",
    "\n",
    "- string.startswith() : en başında arar \n",
    "- string.endswith() : en sonunda arar"
   ]
  },
  {
   "cell_type": "code",
   "execution_count": null,
   "metadata": {},
   "outputs": [
    {
     "name": "stdout",
     "output_type": "stream",
     "text": [
      "True\n",
      "False\n"
     ]
    }
   ],
   "source": [
    "text = \"www.clarusway.com\"\n",
    "print(text.endswith(\".com\"))  # Son 4 karakter bu mu diye soruyor ve True\n",
    "print(text.startswith(\"http:\"))  # İlk 5 karakter bu mu diye soruyor ve False"
   ]
  },
  {
   "cell_type": "code",
   "execution_count": null,
   "metadata": {},
   "outputs": [
    {
     "name": "stdout",
     "output_type": "stream",
     "text": [
      "True\n",
      "True\n"
     ]
    }
   ],
   "source": [
    "text = \"www.clarusway.com\"\n",
    "print(text.endswith(\"om\"))\n",
    "print(text.startswith(\"w\"))"
   ]
  },
  {
   "cell_type": "code",
   "execution_count": null,
   "metadata": {},
   "outputs": [
    {
     "name": "stdout",
     "output_type": "stream",
     "text": [
      "True\n",
      "True\n"
     ]
    }
   ],
   "source": [
    "email = \"clarusway@clarusway.com is my e-mail address\"\n",
    "print(email.startswith(\"@\", 9))  # 9 numaralı indekste \"@\" var diyor. \n",
    "print(email.endswith(\"-\", 10, 32))  # 10 numaralı indeksten başla 32'ye kadar git (32 dahil değil) ve \"-\" karakterini ara. Aradığında 31. karakterde buldu. "
   ]
  },
  {
   "cell_type": "markdown",
   "metadata": {},
   "source": [
    "Changing a String\n",
    "\n",
    "string.method(arguments)\n",
    "\n",
    "- str.replace(old, new[, count])  # eskisi ile yenisini değiştirir. \n",
    "- str.swapcase()  # Her şeyi tam tersine çevirir. Örneğin küçükleri büyük, büyükleri küçük yapar. \n",
    "- str.capitalize()  # Kelimenin/cümlenin ilk harfini büyük yapar, geri kalanını ise küçük yapar. \n",
    "- str.upper()  # Tüm kelimeyi büyük harfe çevirir. \n",
    "- str.lower()  # Tüm kelimeyi büyük harfe çeivirir. \n",
    "- str.title()  # Kelimelerin baş harflerini büyütüyor. "
   ]
  },
  {
   "cell_type": "code",
   "execution_count": null,
   "metadata": {},
   "outputs": [
    {
     "data": {
      "text/plain": [
       "'clarusway'"
      ]
     },
     "metadata": {},
     "output_type": "display_data"
    }
   ],
   "source": [
    "text = \"Clarusway\"\n",
    "text.replace(\"C\", \"c\")  # İlk önce eskiyi yazdık ve sonra da yeniyi yani olmasını istediğimizi yazdık. "
   ]
  },
  {
   "cell_type": "code",
   "execution_count": null,
   "metadata": {},
   "outputs": [
    {
     "data": {
      "text/plain": [
       "'Clarusway'"
      ]
     },
     "metadata": {},
     "output_type": "display_data"
    }
   ],
   "source": [
    "text  # stringler immutable (değişmez) oldukları için text'in çıktısını aldığımızda yine ilk hali ile verir. "
   ]
  },
  {
   "cell_type": "code",
   "execution_count": null,
   "metadata": {},
   "outputs": [
    {
     "data": {
      "text/plain": [
       "'Cl**rusw**y'"
      ]
     },
     "metadata": {},
     "output_type": "display_data"
    }
   ],
   "source": [
    "text.replace(\"a\", \"**\")  # \"a\" ları bul yerine \"**\" koy. "
   ]
  },
  {
   "cell_type": "code",
   "execution_count": null,
   "metadata": {},
   "outputs": [
    {
     "data": {
      "text/plain": [
       "str"
      ]
     },
     "metadata": {},
     "output_type": "display_data"
    }
   ],
   "source": [
    "type(text.replace(\"a\", \"**\"))"
   ]
  },
  {
   "cell_type": "code",
   "execution_count": null,
   "metadata": {},
   "outputs": [
    {
     "name": "stdout",
     "output_type": "stream",
     "text": [
      "I LIVE AND WORK IN VIRGINIA\n",
      "i live and work in virginia\n",
      "i LIVE AND WORK IN vIRGINIA\n",
      "I live and work in Virginia\n"
     ]
    }
   ],
   "source": [
    "sentence = \"I live and work in Virginia\"\n",
    "print(sentence.upper())\n",
    "print(sentence.lower())\n",
    "print(sentence.swapcase())\n",
    "print(sentence)  # Ana cümlemiz değişmedi, string ifadeler değişmezdirler. "
   ]
  },
  {
   "cell_type": "code",
   "execution_count": null,
   "metadata": {},
   "outputs": [
    {
     "data": {
      "text/plain": [
       "'Clarusway'"
      ]
     },
     "metadata": {},
     "output_type": "display_data"
    }
   ],
   "source": [
    "text  # Tek bir string'de birden çok metod kullanabiliriz. Aşağıda örnekleri mevcuttur. "
   ]
  },
  {
   "cell_type": "code",
   "execution_count": null,
   "metadata": {},
   "outputs": [
    {
     "data": {
      "text/plain": [
       "'Cl--rusw--y'"
      ]
     },
     "metadata": {},
     "output_type": "display_data"
    }
   ],
   "source": [
    "text.replace(\"a\", \"--\")"
   ]
  },
  {
   "cell_type": "code",
   "execution_count": null,
   "metadata": {},
   "outputs": [
    {
     "data": {
      "text/plain": [
       "'Cl--ruw--y'"
      ]
     },
     "metadata": {},
     "output_type": "display_data"
    }
   ],
   "source": [
    "text.replace(\"a\", \"--\").replace(\"s\", \"\")"
   ]
  },
  {
   "cell_type": "code",
   "execution_count": null,
   "metadata": {},
   "outputs": [
    {
     "data": {
      "text/plain": [
       "'CL--RUW--Y'"
      ]
     },
     "metadata": {},
     "output_type": "display_data"
    }
   ],
   "source": [
    "text.replace(\"a\", \"--\").replace(\"s\", \"\").upper()"
   ]
  },
  {
   "cell_type": "code",
   "execution_count": null,
   "metadata": {},
   "outputs": [
    {
     "name": "stdout",
     "output_type": "stream",
     "text": [
      "The Better The Family, The Better The Society\n"
     ]
    }
   ],
   "source": [
    "text = \"the better the family, the better the society\"  # Tüm baş harflerini büyüttük ve text için yeniden değer atadık. \n",
    "text = text.title()\n",
    "print(text)"
   ]
  },
  {
   "cell_type": "code",
   "execution_count": null,
   "metadata": {},
   "outputs": [
    {
     "name": "stdout",
     "output_type": "stream",
     "text": [
      "sodome and Gomore\n"
     ]
    }
   ],
   "source": [
    "text = \"s0d0me and G0m0re\"\n",
    "text = text.replace(\"0\", \"o\")\n",
    "print(text)"
   ]
  },
  {
   "cell_type": "markdown",
   "metadata": {},
   "source": [
    "Editing a String\n",
    "\n",
    "string.method(arguments)\n",
    "\n",
    "- string.strip() : \n",
    "- string.rstrip() : \n",
    "- string.lstrip() : "
   ]
  },
  {
   "cell_type": "code",
   "execution_count": null,
   "metadata": {},
   "outputs": [
    {
     "name": "stdout",
     "output_type": "stream",
     "text": [
      "listen first\n"
     ]
    }
   ],
   "source": [
    "space_string = \"    listen first    \"\n",
    "print(space_string.strip())  # Sağdaki ve soldaki tüm boşlukları kaldırır. "
   ]
  },
  {
   "cell_type": "code",
   "execution_count": null,
   "metadata": {},
   "outputs": [
    {
     "name": "stdout",
     "output_type": "stream",
     "text": [
      "YOU CAN LEARN ALMOST EVERYTHING IN PRE-CLASS\n"
     ]
    }
   ],
   "source": [
    "\n",
    "text = \"tyou can learn almost everything in pre-classz\"\n",
    "text = text.lstrip(\"t\").rstrip(\"z\").upper()\n",
    "print(text)"
   ]
  },
  {
   "cell_type": "markdown",
   "metadata": {},
   "source": [
    "6. DERS (013122)"
   ]
  },
  {
   "cell_type": "markdown",
   "metadata": {},
   "source": [
    "Collection Types\n",
    "- List\n",
    "- Tuple\n",
    "- Dictionary \n",
    "- Set\n",
    "\n",
    "String, integer, float, bloolean gibi veri tipleri vardı. Bunlar x = \"Clarusway\" gibi tek bir veri tipi içeriyorlardı. \n",
    "Collection lar ise birden çok veri içeriyor. "
   ]
  },
  {
   "cell_type": "markdown",
   "metadata": {},
   "source": [
    "Lists\n",
    "\n",
    "Collection lar arasında en çok kullanılandır diyebiliriz. \n",
    "- [] manuel olarak bu şekilde köşeli parantez içinde oluşturabiliriz. \n",
    "- list() fonksiyonu da bir diğer yöntemdir. List fonk. içine iterable veriler alır. İçine koyduğumuz iterable bir veriyi aralarına virgül koyarak elemanlarına ayırıyor, baştan(soldan) başlıyor sona kadar gidiyor ve her bir elemanını listenin elemanı haline getiriyor. "
   ]
  },
  {
   "cell_type": "code",
   "execution_count": null,
   "metadata": {},
   "outputs": [],
   "source": [
    "X = [\"ali\", \"veli\"]  # Şimdiye kadar gördüğümüz konularda değişkene (variable) tek bir değer (value) atıyorken şimdi içinde birden çok veri var. "
   ]
  },
  {
   "cell_type": "code",
   "execution_count": null,
   "metadata": {},
   "outputs": [],
   "source": [
    "[\"Clarusway\"]  # Bu bir listedir ve 1 elemanı vardır. \n",
    "[\"ali\", \"veli\", \"deli\"]  # Bu da bir listedir ve 3 elemanı vardır. "
   ]
  },
  {
   "cell_type": "code",
   "execution_count": null,
   "metadata": {},
   "outputs": [
    {
     "data": {
      "text/plain": [
       "['c', 'l', 'a', 'r', 'u', 's']"
      ]
     },
     "metadata": {},
     "output_type": "display_data"
    }
   ],
   "source": [
    "list(\"clarus\")"
   ]
  },
  {
   "cell_type": "code",
   "execution_count": null,
   "metadata": {},
   "outputs": [
    {
     "data": {
      "text/plain": [
       "[1, 2, 3]"
      ]
     },
     "metadata": {},
     "output_type": "display_data"
    }
   ],
   "source": [
    "a = [1, 2, 3]  #  list fonksiyonunun tanımında da köşeli parantez içinde elemanlarına ayırır ve aralarına virgül koyar olduğu için yine aynı sonucu verir. \n",
    "list(a)"
   ]
  },
  {
   "cell_type": "code",
   "execution_count": null,
   "metadata": {},
   "outputs": [
    {
     "name": "stdout",
     "output_type": "stream",
     "text": [
      "['h', 'a', 'p', 'p', 'y']\n",
      "['h', 'a', 'p', 'p', 'y']\n"
     ]
    }
   ],
   "source": [
    "list_1 = ['h', 'a', 'p', 'p', 'y']\n",
    "word = \"happy\"\n",
    "list_2 = list(word)\n",
    "print(list_1)\n",
    "print(list_2)"
   ]
  },
  {
   "cell_type": "code",
   "execution_count": null,
   "metadata": {},
   "outputs": [
    {
     "ename": "TypeError",
     "evalue": "'int' object is not iterable",
     "output_type": "error",
     "traceback": [
      "\u001b[1;31m---------------------------------------------------------------------------\u001b[0m\n",
      "\u001b[1;31mTypeError\u001b[0m                                 Traceback (most recent call last)\n",
      "\u001b[1;32mg:\\Drive'ım\\Masaüstü\\Eğitimler\\Yazılım\\VS Code Genel\\Python In-class\\013122.ipynb Cell 8'\u001b[0m in \u001b[0;36m<module>\u001b[1;34m\u001b[0m\n",
      "\u001b[1;32m----> <a href='vscode-notebook-cell:/g%3A/Drive%27%C4%B1m/Masa%C3%BCst%C3%BC/E%C4%9Fitimler/Yaz%C4%B1l%C4%B1m/VS%20Code%20Genel/Python%20In-class/013122.ipynb#ch0000010?line=0'>1</a>\u001b[0m \u001b[39mlist\u001b[39;49m(\u001b[39m1234\u001b[39;49m)\n",
      "\n",
      "\u001b[1;31mTypeError\u001b[0m: 'int' object is not iterable"
     ]
    }
   ],
   "source": [
    "list(1234)  # iterable yani elemanlarına ayrılabilen bir veri olmadığı için hata verir. "
   ]
  },
  {
   "cell_type": "code",
   "execution_count": null,
   "metadata": {},
   "outputs": [
    {
     "ename": "TypeError",
     "evalue": "object of type 'int' has no len()",
     "output_type": "error",
     "traceback": [
      "\u001b[1;31m---------------------------------------------------------------------------\u001b[0m\n",
      "\u001b[1;31mTypeError\u001b[0m                                 Traceback (most recent call last)\n",
      "\u001b[1;32mg:\\Drive'ım\\Masaüstü\\Eğitimler\\Yazılım\\VS Code Genel\\Python In-class\\013122.ipynb Cell 9'\u001b[0m in \u001b[0;36m<module>\u001b[1;34m\u001b[0m\n",
      "\u001b[1;32m----> <a href='vscode-notebook-cell:/g%3A/Drive%27%C4%B1m/Masa%C3%BCst%C3%BC/E%C4%9Fitimler/Yaz%C4%B1l%C4%B1m/VS%20Code%20Genel/Python%20In-class/013122.ipynb#ch0000011?line=0'>1</a>\u001b[0m \u001b[39mlen\u001b[39;49m(\u001b[39m1230\u001b[39;49m)\n",
      "\n",
      "\u001b[1;31mTypeError\u001b[0m: object of type 'int' has no len()"
     ]
    }
   ],
   "source": [
    "len(1230)  # Hatırlatmak için yapıldı, len fonksiyonları da sadece iterable veriler alır içine. "
   ]
  },
  {
   "cell_type": "code",
   "execution_count": null,
   "metadata": {},
   "outputs": [
    {
     "name": "stdout",
     "output_type": "stream",
     "text": [
      "['I', ' ', 'q', 'u', 'i', 't', ' ', 's', 'm', 'o', 'k', 'i', 'n', 'g']\n",
      "['I quit smoking']\n"
     ]
    }
   ],
   "source": [
    "string_1 = \"I quit smoking\"\n",
    "new_list_1 = list(string_1)  # we created multi element list, aralardaki boşluklar bile elemandır. \n",
    "print(new_list_1)\n",
    "\n",
    "new_list_2 = [string_1] # this is a single element list \n",
    "print(new_list_2)\n"
   ]
  },
  {
   "cell_type": "code",
   "execution_count": null,
   "metadata": {},
   "outputs": [
    {
     "name": "stdout",
     "output_type": "stream",
     "text": [
      "[11, 'Joseph', False, 3.14, None, [1, 2, 3]]\n"
     ]
    }
   ],
   "source": [
    "mixed_list = [11, \"Joseph\", False, 3.14, None, [1, 2, 3]]  # Sırası ile int, str, bool, float, NoneType, list hepsinden vardır. \n",
    "print(mixed_list)"
   ]
  },
  {
   "cell_type": "code",
   "execution_count": null,
   "metadata": {},
   "outputs": [
    {
     "name": "stdout",
     "output_type": "stream",
     "text": [
      "['joseph', 'Clarusway', 2020]\n",
      "3\n",
      "[['joseph', 'Clarusway', 2020]]\n",
      "1\n"
     ]
    }
   ],
   "source": [
    "my_list = [\"joseph\", \"Clarusway\", 2020]\n",
    "new_list1 = list(my_list)\n",
    "new_list_2 = [my_list]\n",
    "\n",
    "print(new_list1)\n",
    "print(len(new_list1))\n",
    "print(new_list_2)\n",
    "print(len(new_list_2))"
   ]
  },
  {
   "cell_type": "code",
   "execution_count": null,
   "metadata": {},
   "outputs": [
    {
     "name": "stdout",
     "output_type": "stream",
     "text": [
      "[\"2020's hard\"]\n",
      "['2', '0', '2', '0', \"'\", 's', ' ', 'h', 'a', 'r', 'd']\n"
     ]
    }
   ],
   "source": [
    "my_list1 = [\"2020's hard\"]\n",
    "my_list2 = list(\"2020's hard\")\n",
    "\n",
    "print(my_list1)\n",
    "print(my_list2)"
   ]
  },
  {
   "cell_type": "markdown",
   "metadata": {},
   "source": [
    "Basic Operations with Lists"
   ]
  },
  {
   "cell_type": "code",
   "execution_count": null,
   "metadata": {},
   "outputs": [
    {
     "data": {
      "text/plain": [
       "[]"
      ]
     },
     "metadata": {},
     "output_type": "display_data"
    }
   ],
   "source": [
    "empty_list1 = list()  # Boş liste oluşturam yöntemleri bu ve alt satırdaki gibidir. \n",
    "empty_list2 = []\n",
    "print(empty_list1)\n",
    "print(empty_list2)"
   ]
  },
  {
   "cell_type": "markdown",
   "metadata": {},
   "source": [
    ".append() : Listenin en sonuna eleman ilave eder. Mevcutun üzerine koyar ve tek bir eleman ekleyebiliriz. Fonksiyonlar normal parantez ile çalışır, burada append de listenin bir fonksiyonu olduğu için () ile çalışır."
   ]
  },
  {
   "cell_type": "code",
   "execution_count": null,
   "metadata": {},
   "outputs": [
    {
     "name": "stdout",
     "output_type": "stream",
     "text": [
      "[]\n",
      "[]\n"
     ]
    }
   ],
   "source": [
    "boş = []\n",
    "boş2 = list()\n",
    "\n",
    "print(boş)\n",
    "print(boş2)"
   ]
  },
  {
   "cell_type": "markdown",
   "metadata": {},
   "source": [
    "\"ali deli veli\"'dan sonra yani string bir ifadeden sonra nokta (.) koyduğumuzda yukarı doğru bir liste açılır ve bunlar string metodlarıdır.\n",
    "\n",
    "\"ali deli veli\".(Burada açılır)\n",
    "\n",
    "Aynı durum list fonksiyonu içinde geçerlidir. \n",
    "\n",
    "listem = []\n",
    "listem.(burada çıkar)"
   ]
  },
  {
   "cell_type": "code",
   "execution_count": null,
   "metadata": {},
   "outputs": [],
   "source": [
    "listem = []  # Aşağıda noktadan sonra listeye herhangi bir metod tanımlayabilmemiz için öncelikle bir list tanımlamalıyız. "
   ]
  },
  {
   "cell_type": "markdown",
   "metadata": {},
   "source": [
    "Stringler immutable dır (değiştirilemez) ama list ler mutable dır. (değiştirilebilir) Listelerin yerlerini de değiştirebiliriz. "
   ]
  },
  {
   "cell_type": "code",
   "execution_count": null,
   "metadata": {},
   "outputs": [],
   "source": [
    "listem.append(11)  # Herhangi bir çıktı vermedi ama listemiz değişti aslında, aşağıda görebiliriz. \n",
    "# strin'deki gibi (\"ali veli deli\".replace(\"i\", \"+\") bunda hemen sonuç verir mesela çalıştırdığımızda ama asıl stringimiz değişmez, immutable'dır.)\n"
   ]
  },
  {
   "cell_type": "code",
   "execution_count": null,
   "metadata": {},
   "outputs": [
    {
     "data": {
      "text/plain": [
       "[11]"
      ]
     },
     "metadata": {},
     "output_type": "display_data"
    }
   ],
   "source": [
    "listem  # Listemiz boştu ama şuanda içinde 11 var. "
   ]
  },
  {
   "cell_type": "code",
   "execution_count": null,
   "metadata": {},
   "outputs": [
    {
     "name": "stdout",
     "output_type": "stream",
     "text": [
      "[11, 22]\n"
     ]
    }
   ],
   "source": [
    "listem.append(22)\n",
    "print(listem)"
   ]
  },
  {
   "cell_type": "code",
   "execution_count": null,
   "metadata": {},
   "outputs": [],
   "source": [
    "listem.append(33)"
   ]
  },
  {
   "cell_type": "code",
   "execution_count": null,
   "metadata": {},
   "outputs": [
    {
     "data": {
      "text/plain": [
       "[11, 22, 33]"
      ]
     },
     "metadata": {},
     "output_type": "display_data"
    }
   ],
   "source": [
    "listem"
   ]
  },
  {
   "cell_type": "code",
   "execution_count": null,
   "metadata": {},
   "outputs": [
    {
     "data": {
      "text/plain": [
       "['ali', 'deli', 'veli']"
      ]
     },
     "metadata": {},
     "output_type": "display_data"
    }
   ],
   "source": [
    "gardaşlar = [\"ali\", \"deli\"]\n",
    "gardaşlar.append(\"veli\")\n",
    "gardaşlar"
   ]
  },
  {
   "cell_type": "code",
   "execution_count": null,
   "metadata": {},
   "outputs": [
    {
     "data": {
      "text/plain": [
       "['ali', 'deli', 'veli', True]"
      ]
     },
     "metadata": {},
     "output_type": "display_data"
    }
   ],
   "source": [
    "gardaşlar.append(True)\n",
    "gardaşlar"
   ]
  },
  {
   "cell_type": "code",
   "execution_count": null,
   "metadata": {},
   "outputs": [],
   "source": [
    "gardaşlar.append(3.14)"
   ]
  },
  {
   "cell_type": "code",
   "execution_count": null,
   "metadata": {},
   "outputs": [
    {
     "data": {
      "text/plain": [
       "['ali', 'deli', 'veli', True, 3.14]"
      ]
     },
     "metadata": {},
     "output_type": "display_data"
    }
   ],
   "source": [
    "gardaşlar"
   ]
  },
  {
   "cell_type": "markdown",
   "metadata": {},
   "source": [
    "gardaşlar.pop(index=-1, /)  # En son elemanı siler ve sildiği elemanın da çıktısını verir. "
   ]
  },
  {
   "cell_type": "code",
   "execution_count": null,
   "metadata": {},
   "outputs": [
    {
     "data": {
      "text/plain": [
       "3.14"
      ]
     },
     "metadata": {},
     "output_type": "display_data"
    }
   ],
   "source": [
    "gardaşlar.pop()  # Listenin en sonundaki elemanı siler ve sildiği elemanı da çıktı verir.     "
   ]
  },
  {
   "cell_type": "code",
   "execution_count": null,
   "metadata": {},
   "outputs": [
    {
     "data": {
      "text/plain": [
       "['ali', 'deli', 'veli', True]"
      ]
     },
     "metadata": {},
     "output_type": "display_data"
    }
   ],
   "source": [
    "gardaşlar  # Çıktı aldığımızda 3.14'ün olmadığını görürüz. "
   ]
  },
  {
   "cell_type": "code",
   "execution_count": null,
   "metadata": {},
   "outputs": [
    {
     "data": {
      "text/plain": [
       "['ali', 'deli', 'veli']"
      ]
     },
     "metadata": {},
     "output_type": "display_data"
    }
   ],
   "source": [
    "gardaşlar.pop()\n",
    "gardaşlar"
   ]
  },
  {
   "cell_type": "code",
   "execution_count": null,
   "metadata": {},
   "outputs": [
    {
     "data": {
      "text/plain": [
       "['ali', 'veli']"
      ]
     },
     "metadata": {},
     "output_type": "display_data"
    }
   ],
   "source": [
    "gardaşlar.pop(1)  # 1 numaralı index silinir, ilk satırın çıktısı da yine sildiği elemandır. \n",
    "gardaşlar"
   ]
  },
  {
   "cell_type": "code",
   "execution_count": null,
   "metadata": {},
   "outputs": [
    {
     "name": "stdout",
     "output_type": "stream",
     "text": [
      "[6666, 'Multiverse', [0]]\n"
     ]
    }
   ],
   "source": [
    "empty_list = []\n",
    "empty_list.append(6666)\n",
    "empty_list.append(\"Multiverse\")\n",
    "empty_list.append([0])\n",
    "\n",
    "print(empty_list)"
   ]
  },
  {
   "cell_type": "code",
   "execution_count": null,
   "metadata": {},
   "outputs": [
    {
     "name": "stdout",
     "output_type": "stream",
     "text": [
      "['New York', 'London', 'Istabul', 'Seoul', 'Sydney', 'Addis Ababa']\n"
     ]
    }
   ],
   "source": [
    "city = [\"New York\", \"London\", \"Istabul\", \"Seoul\", \"Sydney\"]\n",
    "city.append(\"Addis Ababa\")\n",
    "print(city)"
   ]
  },
  {
   "cell_type": "code",
   "execution_count": null,
   "metadata": {},
   "outputs": [
    {
     "name": "stdout",
     "output_type": "stream",
     "text": [
      "[1, 2, 3, 4]\n"
     ]
    }
   ],
   "source": [
    "numbers = []\n",
    "numbers.append(1)\n",
    "numbers.append(2)\n",
    "numbers.append(3)\n",
    "numbers.append(4)\n",
    "\n",
    "print(numbers)"
   ]
  },
  {
   "cell_type": "markdown",
   "metadata": {},
   "source": [
    ".insert() : Liste elemanları arasına ekleme yapabiliriz. İndeks numarasını yazarız ve ekleriz. Diğer indeksler sağa doğru kayar.  \n",
    "\n",
    "gardaşlar.insert(index, object, /)  # Formulü budur. "
   ]
  },
  {
   "cell_type": "code",
   "execution_count": null,
   "metadata": {},
   "outputs": [
    {
     "data": {
      "text/plain": [
       "['ali', 'deli', 'veli']"
      ]
     },
     "metadata": {},
     "output_type": "display_data"
    }
   ],
   "source": [
    "gardaşlar.insert(1, \"deli\")\n",
    "gardaşlar"
   ]
  },
  {
   "cell_type": "code",
   "execution_count": null,
   "metadata": {},
   "outputs": [
    {
     "name": "stdout",
     "output_type": "stream",
     "text": [
      "[1, 4, 9, 7]\n",
      "[1, 4, 6, 9, 7]\n"
     ]
    }
   ],
   "source": [
    "numbers = [1, 4, 7]\n",
    "numbers.insert(2, 9)\n",
    "print(numbers)\n",
    "numbers.insert(2, 6)\n",
    "print(numbers)"
   ]
  },
  {
   "cell_type": "code",
   "execution_count": null,
   "metadata": {},
   "outputs": [
    {
     "name": "stdout",
     "output_type": "stream",
     "text": [
      "['New York', 'London', 'Stockholm', 'Istabul', 'Seoul', 'Sydney', 'Addis Ababa']\n"
     ]
    }
   ],
   "source": [
    "city = ['New York', 'London', 'Istabul', 'Seoul', 'Sydney', 'Addis Ababa']\n",
    "city.insert(2, \"Stockholm\")  # Üst listede yer alan 2 numaralı index'deki Istanbul sağ kayarak yerine stockholm gelir. \n",
    "print(city)"
   ]
  },
  {
   "cell_type": "code",
   "execution_count": null,
   "metadata": {},
   "outputs": [],
   "source": [
    "listem = [1, 2, 3, 4]"
   ]
  },
  {
   "cell_type": "code",
   "execution_count": null,
   "metadata": {},
   "outputs": [
    {
     "name": "stdout",
     "output_type": "stream",
     "text": [
      "[1, 2, 3, 4, 5]\n"
     ]
    }
   ],
   "source": [
    "listem.insert(4, 5)\n",
    "print(listem)"
   ]
  },
  {
   "cell_type": "markdown",
   "metadata": {},
   "source": [
    ".remove() : Listeden herhangi bir elemanı kaldırır, siler."
   ]
  },
  {
   "cell_type": "code",
   "execution_count": null,
   "metadata": {},
   "outputs": [
    {
     "data": {
      "text/plain": [
       "[False, 'ali', 11, ['veli', ['deli']]]"
      ]
     },
     "metadata": {},
     "output_type": "display_data"
    }
   ],
   "source": [
    "mesela = [[1, 2, 4], False, \"ali\", 11, [\"veli\", [\"deli\"]]]\n",
    "mesela.remove([1, 2, 4])  # remove içine yazdığımız elemanı liste içinden çıkarır. \n",
    "mesela"
   ]
  },
  {
   "cell_type": "markdown",
   "metadata": {},
   "source": [
    ".sort() : Liste elemanlarının aynı tipte olması gerekmekte ve o elemanları ya küçükten büyüğe ya da alfabetik sıraya göre sıralar. reverse ile sıralamayı terse çevirebiliriz. "
   ]
  },
  {
   "cell_type": "code",
   "execution_count": null,
   "metadata": {},
   "outputs": [
    {
     "data": {
      "text/plain": [
       "[1, 1, 3, 5, 7]"
      ]
     },
     "metadata": {},
     "output_type": "display_data"
    }
   ],
   "source": [
    "yeni = [3, 5, 1, 7, 4]\n",
    "yeni.sort()  # Sayısal olarak küçükten büyüğe doğru sıraldık. Kalıcı olarak değiştirdik. \n",
    "yeni "
   ]
  },
  {
   "cell_type": "code",
   "execution_count": null,
   "metadata": {},
   "outputs": [
    {
     "data": {
      "text/plain": [
       "['ali', 'behçet', 'cavidan', 'veli']"
      ]
     },
     "metadata": {},
     "output_type": "display_data"
    }
   ],
   "source": [
    "eski = [\"behçet\", \"cavidan\", \"ali\", \"veli\"]\n",
    "eski.sort()  # Burada da alfabetik sıraya göre ilerlemektedir. \n",
    "eski"
   ]
  },
  {
   "cell_type": "code",
   "execution_count": null,
   "metadata": {},
   "outputs": [
    {
     "ename": "TypeError",
     "evalue": "'<' not supported between instances of 'int' and 'str'",
     "output_type": "error",
     "traceback": [
      "\u001b[1;31m---------------------------------------------------------------------------\u001b[0m\n",
      "\u001b[1;31mTypeError\u001b[0m                                 Traceback (most recent call last)\n",
      "\u001b[1;32mg:\\Drive'ım\\Masaüstü\\Eğitimler\\Yazılım\\VS Code Genel\\Python In-class\\013122.ipynb Cell 49'\u001b[0m in \u001b[0;36m<module>\u001b[1;34m\u001b[0m\n",
      "\u001b[0;32m      <a href='vscode-notebook-cell:/g%3A/Drive%27%C4%B1m/Masa%C3%BCst%C3%BC/E%C4%9Fitimler/Yaz%C4%B1l%C4%B1m/VS%20Code%20Genel/Python%20In-class/013122.ipynb#ch0000053?line=0'>1</a>\u001b[0m mix_list \u001b[39m=\u001b[39m [\u001b[39m\"\u001b[39m\u001b[39md\u001b[39m\u001b[39m\"\u001b[39m, \u001b[39m1\u001b[39m, \u001b[39m\"\u001b[39m\u001b[39ma\u001b[39m\u001b[39m\"\u001b[39m, \u001b[39m7\u001b[39m]\n",
      "\u001b[1;32m----> <a href='vscode-notebook-cell:/g%3A/Drive%27%C4%B1m/Masa%C3%BCst%C3%BC/E%C4%9Fitimler/Yaz%C4%B1l%C4%B1m/VS%20Code%20Genel/Python%20In-class/013122.ipynb#ch0000053?line=1'>2</a>\u001b[0m mix_list\u001b[39m.\u001b[39;49msort()\n",
      "\u001b[0;32m      <a href='vscode-notebook-cell:/g%3A/Drive%27%C4%B1m/Masa%C3%BCst%C3%BC/E%C4%9Fitimler/Yaz%C4%B1l%C4%B1m/VS%20Code%20Genel/Python%20In-class/013122.ipynb#ch0000053?line=2'>3</a>\u001b[0m \u001b[39mprint\u001b[39m(mix_list)\n",
      "\n",
      "\u001b[1;31mTypeError\u001b[0m: '<' not supported between instances of 'int' and 'str'"
     ]
    }
   ],
   "source": [
    "mix_list = [\"d\", 1, \"a\", 7]\n",
    "mix_list.sort()\n",
    "print(mix_list)"
   ]
  },
  {
   "cell_type": "code",
   "execution_count": null,
   "metadata": {},
   "outputs": [
    {
     "name": "stdout",
     "output_type": "stream",
     "text": [
      "['four', 'nine', 'one']\n"
     ]
    }
   ],
   "source": [
    "list_1 = [\"one\", \"four\", \"nine\"]\n",
    "list_1.sort()\n",
    "print(list_1)"
   ]
  },
  {
   "cell_type": "code",
   "execution_count": null,
   "metadata": {},
   "outputs": [
    {
     "data": {
      "text/plain": [
       "['one', 'nine', 'four']"
      ]
     },
     "metadata": {},
     "output_type": "display_data"
    }
   ],
   "source": [
    "list_1.sort(reverse=True)  # Tam tersine çevirdik. \n",
    "list_1"
   ]
  },
  {
   "cell_type": "code",
   "execution_count": null,
   "metadata": {},
   "outputs": [
    {
     "data": {
      "text/plain": [
       "['*-', '@', 'False']"
      ]
     },
     "metadata": {},
     "output_type": "display_data"
    }
   ],
   "source": [
    "list_2 = [\"@\", \"*-\", \"False\"]\n",
    "list_2.sort()  # Bu gibi karakterler (string) de aski koda göre sıralanır. Klavyedeki her bir karakterin sayısal bir karşılığı vardır. \n",
    "list_2"
   ]
  },
  {
   "cell_type": "code",
   "execution_count": null,
   "metadata": {},
   "outputs": [
    {
     "data": {
      "text/plain": [
       "['False', '@', '*-']"
      ]
     },
     "metadata": {},
     "output_type": "display_data"
    }
   ],
   "source": [
    "list_2 = [\"@\", \"*-\", \"False\"]\n",
    "list_2.sort(reverse=True)  # Sıralamayı terse çevirdik \n",
    "list_2"
   ]
  },
  {
   "cell_type": "code",
   "execution_count": null,
   "metadata": {},
   "outputs": [
    {
     "data": {
      "text/plain": [
       "42"
      ]
     },
     "metadata": {},
     "output_type": "display_data"
    }
   ],
   "source": [
    "ord(\"*\")  # Ord fonksiyonu sayesinde klavyedeki karakterlerin aski kodlarını görebiliriz. "
   ]
  },
  {
   "cell_type": "code",
   "execution_count": null,
   "metadata": {},
   "outputs": [
    {
     "data": {
      "text/plain": [
       "64"
      ]
     },
     "metadata": {},
     "output_type": "display_data"
    }
   ],
   "source": [
    "ord(\"@\")"
   ]
  },
  {
   "cell_type": "code",
   "execution_count": null,
   "metadata": {},
   "outputs": [
    {
     "data": {
      "text/plain": [
       "70"
      ]
     },
     "metadata": {},
     "output_type": "display_data"
    }
   ],
   "source": [
    "ord(\"F\")"
   ]
  },
  {
   "cell_type": "code",
   "execution_count": null,
   "metadata": {},
   "outputs": [
    {
     "data": {
      "text/plain": [
       "[False, True]"
      ]
     },
     "metadata": {},
     "output_type": "display_data"
    }
   ],
   "source": [
    "list_3 = [True, False]  # False'u 0, True'yu 1 kabul eder ve ona göre listeler. \n",
    "list_3.sort()\n",
    "list_3"
   ]
  },
  {
   "cell_type": "code",
   "execution_count": null,
   "metadata": {},
   "outputs": [
    {
     "data": {
      "text/plain": [
       "[[-12], [3], [44]]"
      ]
     },
     "metadata": {},
     "output_type": "display_data"
    }
   ],
   "source": [
    "list_4 = [[3], [44], [-12]]  # Liste içinde listeyi de sıralar. \n",
    "list_4.sort()\n",
    "list_4"
   ]
  },
  {
   "cell_type": "code",
   "execution_count": null,
   "metadata": {},
   "outputs": [
    {
     "data": {
      "text/plain": [
       "[[-12, 1], [1, 3], [44, -40]]"
      ]
     },
     "metadata": {},
     "output_type": "display_data"
    }
   ],
   "source": [
    "list_5 = [[1, 3], [44, -40], [-12,1]]  # Eğer elemanlar içinde birden falza eleman olur ise o durumda da ilk elemanlarını baz alır. \n",
    "list_5.sort()\n",
    "list_5 "
   ]
  },
  {
   "cell_type": "markdown",
   "metadata": {},
   "source": [
    "chr(): Bir aski kodun string karşılığını bulmak için kullanırız. ord ile chr birbirinin zıttıdır. "
   ]
  },
  {
   "cell_type": "code",
   "execution_count": null,
   "metadata": {},
   "outputs": [
    {
     "data": {
      "text/plain": [
       "'F'"
      ]
     },
     "metadata": {},
     "output_type": "display_data"
    }
   ],
   "source": [
    "chr(70)"
   ]
  },
  {
   "cell_type": "code",
   "execution_count": null,
   "metadata": {},
   "outputs": [
    {
     "data": {
      "text/plain": [
       "3"
      ]
     },
     "metadata": {},
     "output_type": "display_data"
    }
   ],
   "source": [
    "list_1 = [\"one\", \"four\", \"nine\"]\n",
    "lenght = len(list_1)  # Listelerin uzunluğu, içindeki virgül ile ayrılmış elemanları kadardır. \n",
    "lenght"
   ]
  },
  {
   "cell_type": "markdown",
   "metadata": {},
   "source": [
    "7. DERS (020222)"
   ]
  },
  {
   "cell_type": "code",
   "execution_count": null,
   "metadata": {},
   "outputs": [
    {
     "name": "stdout",
     "output_type": "stream",
     "text": [
      "-1\n"
     ]
    }
   ],
   "source": [
    "a = 1\n",
    "print(-a)"
   ]
  },
  {
   "cell_type": "code",
   "execution_count": null,
   "metadata": {},
   "outputs": [
    {
     "name": "stdout",
     "output_type": "stream",
     "text": [
      "11\n"
     ]
    }
   ],
   "source": [
    "b = -11 \n",
    "print(-b)"
   ]
  },
  {
   "cell_type": "code",
   "execution_count": null,
   "metadata": {},
   "outputs": [
    {
     "name": "stdout",
     "output_type": "stream",
     "text": [
      "The sum of 3 + 4 is : 7\n"
     ]
    }
   ],
   "source": [
    "a = 3\n",
    "b = 4\n",
    "print(\"The sum of {} + {} is : {}\".format(a, b, a+b))"
   ]
  },
  {
   "cell_type": "code",
   "execution_count": null,
   "metadata": {},
   "outputs": [
    {
     "name": "stdout",
     "output_type": "stream",
     "text": [
      "The sum of 3 x 4 is : 12\n"
     ]
    }
   ],
   "source": [
    "a = 3\n",
    "b = 4\n",
    "print(\"The sum of {} x {} is : {}\".format(a, b, a*b))"
   ]
  },
  {
   "cell_type": "code",
   "execution_count": null,
   "metadata": {},
   "outputs": [
    {
     "name": "stdout",
     "output_type": "stream",
     "text": [
      "The power of 3 to 2 is : 8\n"
     ]
    }
   ],
   "source": [
    "a = 2\n",
    "b = 3\n",
    "print(\"The power of {} to {} is : {}\".format(b, a, a**b))  # The power of 3 to 2, 2**3 demek. "
   ]
  },
  {
   "cell_type": "code",
   "execution_count": null,
   "metadata": {},
   "outputs": [
    {
     "data": {
      "text/plain": [
       "'3.15, 5.367, 7.3243'"
      ]
     },
     "metadata": {},
     "output_type": "display_data"
    }
   ],
   "source": [
    "text = \"{:.2f}, {:.3f}, {:.4f}\".format(3.1463, 5.367, 7.324324)  # {} içine : koyduğumuzda, format içindeki almak istediğimiz kısmı belirleyebiliyoruz. \n",
    "text  # Mesela bu soruda f yazarak float sayının .'dan sonraki 2 basamağını ya da 3 basamağını almasını belirttik. "
   ]
  },
  {
   "cell_type": "code",
   "execution_count": null,
   "metadata": {},
   "outputs": [
    {
     "data": {
      "text/plain": [
       "'3.1, 5.37, 7.324'"
      ]
     },
     "metadata": {},
     "output_type": "display_data"
    }
   ],
   "source": [
    "text = text = \"{:.2}, {:.3}, {:.4}\".format(3.1463, 5.367, 7.324324)  # f'i kaldırınca tüm sayının ne kadarını alacağına bakar. \n",
    "text  # Bu durumda string bir ifade de bu şekilde değildir. "
   ]
  },
  {
   "cell_type": "code",
   "execution_count": null,
   "metadata": {},
   "outputs": [
    {
     "data": {
      "text/plain": [
       "'a3, 5.b, 7.32'"
      ]
     },
     "metadata": {},
     "output_type": "display_data"
    }
   ],
   "source": [
    "text = \"{:.2s}, {:.3s}, {:.4s}\".format(\"a3.1463\", \"5.b367\", \"7.324324c\")  # Format içine string ifadeler tanımladığımızda 2s, 3s yerien 1 ya da 3 yazsak da aynı sonucu verir. \n",
    "text"
   ]
  },
  {
   "cell_type": "code",
   "execution_count": null,
   "metadata": {},
   "outputs": [
    {
     "data": {
      "text/plain": [
       "'a3, 5.b, 7.32'"
      ]
     },
     "metadata": {},
     "output_type": "display_data"
    }
   ],
   "source": [
    "text = \"{:.2}, {:.3}, {:.4}\".format(\"a3.1463\", \"5.b367\", \"7.324324c\")\n",
    "text"
   ]
  },
  {
   "cell_type": "code",
   "execution_count": null,
   "metadata": {},
   "outputs": [
    {
     "data": {
      "text/plain": [
       "'      test'"
      ]
     },
     "metadata": {},
     "output_type": "display_data"
    }
   ],
   "source": [
    "text = \"{:>10}\".format(\"test\")  # {:>10} dediğimizde 10 karakerlik bir alanda sağa yasla demek. \n",
    "text"
   ]
  },
  {
   "cell_type": "code",
   "execution_count": null,
   "metadata": {},
   "outputs": [],
   "source": [
    "text = \"{:<10}\".format(\"test\")  # Ok'un yönünü değiştirdiğimiz de ise sola yasla demektir.  \n",
    "text"
   ]
  },
  {
   "cell_type": "code",
   "execution_count": null,
   "metadata": {},
   "outputs": [
    {
     "data": {
      "text/plain": [
       "'formatlama satırı                 test bu da textin son kısmı'"
      ]
     },
     "metadata": {},
     "output_type": "display_data"
    }
   ],
   "source": [
    "text = \"formatlama satırı {:>20} bu da textin son kısmı\".format(\"test\")  # Sağa yasladı \n",
    "text"
   ]
  },
  {
   "cell_type": "code",
   "execution_count": null,
   "metadata": {},
   "outputs": [
    {
     "data": {
      "text/plain": [
       "'formatlama satırı test                 bu da textin son kısmı'"
      ]
     },
     "metadata": {},
     "output_type": "display_data"
    }
   ],
   "source": [
    "text = \"formatlama satırı {:<20} bu da textin son kısmı\".format(\"test\")  # Sola yasladı \n",
    "text"
   ]
  },
  {
   "cell_type": "code",
   "execution_count": null,
   "metadata": {},
   "outputs": [
    {
     "data": {
      "text/plain": [
       "'formatlama satırı         test         bu da textin son kısmı'"
      ]
     },
     "metadata": {},
     "output_type": "display_data"
    }
   ],
   "source": [
    "text = \"formatlama satırı {:^20} bu da textin son kısmı\".format(\"test\")  # Ortada \n",
    "text"
   ]
  },
  {
   "cell_type": "code",
   "execution_count": null,
   "metadata": {},
   "outputs": [
    {
     "data": {
      "text/plain": [
       "'hippo     '"
      ]
     },
     "metadata": {},
     "output_type": "display_data"
    }
   ],
   "source": [
    "\"{:10.5}\".format(\"hippopotamus\") # 10 karakterden oluşan bir alan tanımladı sadece stringin ilk 5 ifadesini aldı. "
   ]
  },
  {
   "cell_type": "code",
   "execution_count": null,
   "metadata": {},
   "outputs": [
    {
     "data": {
      "text/plain": [
       "'          hippo'"
      ]
     },
     "metadata": {},
     "output_type": "display_data"
    }
   ],
   "source": [
    "\"{:>15.5}\".format(\"hippopotamus\")  # Sağa yasla, 15'lik bir alan al ve ilk 5'ini yazdır. "
   ]
  },
  {
   "cell_type": "code",
   "execution_count": null,
   "metadata": {},
   "outputs": [
    {
     "data": {
      "text/plain": [
       "'+55'"
      ]
     },
     "metadata": {},
     "output_type": "display_data"
    }
   ],
   "source": [
    "\"{:+}\".format(55)"
   ]
  },
  {
   "cell_type": "code",
   "execution_count": null,
   "metadata": {},
   "outputs": [
    {
     "data": {
      "text/plain": [
       "'55'"
      ]
     },
     "metadata": {},
     "output_type": "display_data"
    }
   ],
   "source": [
    "\"{:-}\".format(55)"
   ]
  },
  {
   "cell_type": "markdown",
   "metadata": {},
   "source": [
    "Indexing a list\n",
    "\n",
    "Bir yerde indekslemeden bahsediliyor ise [] vardır. indeksleme iterable elemalar için geçerlidir. Integer'lar iterable değildir. \n",
    "\n",
    "list_name[index no]  "
   ]
  },
  {
   "cell_type": "code",
   "execution_count": null,
   "metadata": {},
   "outputs": [
    {
     "name": "stdout",
     "output_type": "stream",
     "text": [
      "a\n"
     ]
    }
   ],
   "source": [
    "word = [\"h\", \"a\", \"p\", \"p\", \"y\"]  # Listelerdeki indexleme de aynı stringlerdeki gibidir. 0,1,2... diye devam eder. String örnek de aşağıdaki örnekde. \n",
    "print(word[1])"
   ]
  },
  {
   "cell_type": "code",
   "execution_count": null,
   "metadata": {},
   "outputs": [
    {
     "name": "stdout",
     "output_type": "stream",
     "text": [
      "a\n"
     ]
    }
   ],
   "source": [
    "word = \"Happy\"\n",
    "print(word[1])"
   ]
  },
  {
   "cell_type": "code",
   "execution_count": null,
   "metadata": {},
   "outputs": [
    {
     "name": "stdout",
     "output_type": "stream",
     "text": [
      "blue\n"
     ]
    },
    {
     "data": {
      "text/plain": [
       "str"
      ]
     },
     "metadata": {},
     "output_type": "display_data"
    }
   ],
   "source": [
    "colors = [\"red\", \"purple\", \"blue\", \"yellow\", \"green\"]\n",
    "print(colors[2])  # Çıktısını verdiği eleman string olduğu için \"colors2\" ifadesi de string tipindedir. \n",
    "type(colors[2])"
   ]
  },
  {
   "cell_type": "code",
   "execution_count": null,
   "metadata": {},
   "outputs": [
    {
     "data": {
      "text/plain": [
       "'yellow'"
      ]
     },
     "metadata": {},
     "output_type": "display_data"
    }
   ],
   "source": [
    "[\"red\", \"purple\", \"blue\", \"yellow\", \"green\"][3]"
   ]
  },
  {
   "cell_type": "code",
   "execution_count": null,
   "metadata": {},
   "outputs": [
    {
     "name": "stdout",
     "output_type": "stream",
     "text": [
      "[['New York', 'London', 'Istabul', 'Seoul', 'Sydney']]\n"
     ]
    }
   ],
   "source": [
    "city = [\"New York\", \"London\", \"Istabul\", \"Seoul\", \"Sydney\"]\n",
    "city_list = []\n",
    "city_list.append(city)  # we have created a nested list\n",
    "\n",
    "print(city_list)  # Bu listenin eleman sayısı 1'dir. "
   ]
  },
  {
   "cell_type": "code",
   "execution_count": null,
   "metadata": {},
   "outputs": [
    {
     "data": {
      "text/plain": [
       "[['New York', 'London', 'Istabul', 'Seoul', 'Sydney']]"
      ]
     },
     "metadata": {},
     "output_type": "display_data"
    }
   ],
   "source": [
    "city_list = [city]\n",
    "city_list"
   ]
  },
  {
   "cell_type": "code",
   "execution_count": null,
   "metadata": {},
   "outputs": [
    {
     "ename": "IndexError",
     "evalue": "list index out of range",
     "output_type": "error",
     "traceback": [
      "\u001b[1;31m---------------------------------------------------------------------------\u001b[0m\n",
      "\u001b[1;31mIndexError\u001b[0m                                Traceback (most recent call last)\n",
      "\u001b[1;32mg:\\Drive'ım\\Masaüstü\\Eğitimler\\Yazılım\\VS Code Genel\\Python In-class\\020222.ipynb Cell 26'\u001b[0m in \u001b[0;36m<module>\u001b[1;34m\u001b[0m\n",
      "\u001b[1;32m----> <a href='vscode-notebook-cell:/g%3A/Drive%27%C4%B1m/Masa%C3%BCst%C3%BC/E%C4%9Fitimler/Yaz%C4%B1l%C4%B1m/VS%20Code%20Genel/Python%20In-class/020222.ipynb#ch0000026?line=0'>1</a>\u001b[0m city_list[\u001b[39m1\u001b[39;49m]\n",
      "\n",
      "\u001b[1;31mIndexError\u001b[0m: list index out of range"
     ]
    }
   ],
   "source": [
    "city_list[1]  # Bu listenin tek bir elamanı olduğu ve indeks sayısı 0 olduğu için hata verir. "
   ]
  },
  {
   "cell_type": "code",
   "execution_count": null,
   "metadata": {},
   "outputs": [
    {
     "data": {
      "text/plain": [
       "['New York', 'London', 'Istabul', 'Seoul', 'Sydney']"
      ]
     },
     "metadata": {},
     "output_type": "display_data"
    }
   ],
   "source": [
    "city_list[0]  # Tek bir elemanı olduğu ve aşağıdaki eleman olduğu için bunu verir. "
   ]
  },
  {
   "cell_type": "code",
   "execution_count": null,
   "metadata": {},
   "outputs": [
    {
     "data": {
      "text/plain": [
       "list"
      ]
     },
     "metadata": {},
     "output_type": "display_data"
    }
   ],
   "source": [
    "type(city_list)"
   ]
  },
  {
   "cell_type": "code",
   "execution_count": null,
   "metadata": {},
   "outputs": [
    {
     "data": {
      "text/plain": [
       "'Istabul'"
      ]
     },
     "metadata": {},
     "output_type": "display_data"
    }
   ],
   "source": [
    "city_list[0][2]  # city_list içinde 1 elaman olduğu için onu aldık ve o elemana içinde de 2 numaralı indeksi aldık. O da \"Istanbul\""
   ]
  },
  {
   "cell_type": "code",
   "execution_count": null,
   "metadata": {},
   "outputs": [
    {
     "data": {
      "text/plain": [
       "str"
      ]
     },
     "metadata": {},
     "output_type": "display_data"
    }
   ],
   "source": [
    "type(city_list[0][2])"
   ]
  },
  {
   "cell_type": "code",
   "execution_count": null,
   "metadata": {},
   "outputs": [
    {
     "data": {
      "text/plain": [
       "'a'"
      ]
     },
     "metadata": {},
     "output_type": "display_data"
    }
   ],
   "source": [
    "city_list[0][2][3]  # İterable lar indekslenebiliyor. "
   ]
  },
  {
   "cell_type": "markdown",
   "metadata": {},
   "source": [
    "Slicing a list: Liste içinde aradan birden fazla elaman seçeceksek buna slicing deniliyor. Bir string slicing yapıyorsak çıktımız da string dir. Aynı şekilde bir list ya da tuple için de aynı şekilde çıktıların tipi de aynıdır. Aynı strinlerde olduğu gibidir. \n",
    "\n",
    "list_name = [start:stop:step]\n",
    "From \"Start\" to \"stop-1\" by \"step\"\n"
   ]
  },
  {
   "cell_type": "code",
   "execution_count": null,
   "metadata": {},
   "outputs": [
    {
     "name": "stdout",
     "output_type": "stream",
     "text": [
      "[6, 8, 10]\n"
     ]
    }
   ],
   "source": [
    "even_numbers = [2, 4, 6, 8, 10, 12, 14]\n",
    "print(even_numbers[2:5])  # Dikkat ettiğimiz üzere çıktısını da liste olarak verdi. Gerisinin mantığı stringlerde olduğu gibi. \n"
   ]
  },
  {
   "cell_type": "code",
   "execution_count": null,
   "metadata": {},
   "outputs": [
    {
     "data": {
      "text/plain": [
       "[1, 2, 3, 4, 5, 6, 7, 8, 9, 10]"
      ]
     },
     "metadata": {},
     "output_type": "display_data"
    }
   ],
   "source": [
    "range(1, 11)  # Range function'ı iterable üretir. Çok kullaılır. Range(start, stop, step)\n",
    "sayılarım = list(range(1,11))\n",
    "sayılarım"
   ]
  },
  {
   "cell_type": "code",
   "execution_count": null,
   "metadata": {},
   "outputs": [
    {
     "data": {
      "text/plain": [
       "[1, 3, 5, 7, 9]"
      ]
     },
     "metadata": {},
     "output_type": "display_data"
    }
   ],
   "source": [
    "diğer = list(range(1, 11, 2))  # 2'şer 2'şer atlayarak gidiyor. \n",
    "diğer"
   ]
  },
  {
   "cell_type": "code",
   "execution_count": null,
   "metadata": {},
   "outputs": [
    {
     "data": {
      "text/plain": [
       "[0, 1, 2, 3, 4, 5, 6, 7, 8, 9, 10]"
      ]
     },
     "metadata": {},
     "output_type": "display_data"
    }
   ],
   "source": [
    "list(range(11))  # Tek bir sayı yazarsak stop-1'i algılar. Yani start=0, step=+1 dir default olarak. "
   ]
  },
  {
   "cell_type": "code",
   "execution_count": null,
   "metadata": {},
   "outputs": [
    {
     "data": {
      "text/plain": [
       "[11, 10, 9, 8, 7, 6, 5, 4, 3, 2]"
      ]
     },
     "metadata": {},
     "output_type": "display_data"
    }
   ],
   "source": [
    "list(range(11, 1, -1))"
   ]
  },
  {
   "cell_type": "code",
   "execution_count": null,
   "metadata": {},
   "outputs": [
    {
     "name": "stdout",
     "output_type": "stream",
     "text": [
      "3\n"
     ]
    }
   ],
   "source": [
    "print(len([[1, 2, 3]][0]))"
   ]
  },
  {
   "cell_type": "code",
   "execution_count": null,
   "metadata": {},
   "outputs": [],
   "source": [
    "# Listemizdeki tekli sayıları bulabilemek için yazdığımız kod. \n",
    "odd_numbers = list(range(11))\n",
    "\n",
    "print(odd_numbers)\n",
    "print(odd_numbers[1:11:2])  # 1 numaralı indeksten başla yani (1) ve 2'şer atlayarak devam et. Böylece tekli sayıları bulacağız. "
   ]
  },
  {
   "cell_type": "code",
   "execution_count": null,
   "metadata": {},
   "outputs": [
    {
     "name": "stdout",
     "output_type": "stream",
     "text": [
      "['elephant', 'bear', 'fox', 'wolf', 'rabbit', 'deer', 'giraffe']\n"
     ]
    }
   ],
   "source": [
    "animals =  [\"elephant\", \"bear\", \"fox\", \"wolf\", \"rabbit\", \"deer\", \"giraffe\"]\n",
    "print(animals[:])  # En baştan başla, en sonra kadar git diyor. Listenin kendisini verir. "
   ]
  },
  {
   "cell_type": "code",
   "execution_count": null,
   "metadata": {},
   "outputs": [
    {
     "name": "stdout",
     "output_type": "stream",
     "text": [
      "['wolf', 'rabbit', 'deer', 'giraffe']\n"
     ]
    }
   ],
   "source": [
    "animals =  [\"elephant\", \"bear\", \"fox\", \"wolf\", \"rabbit\", \"deer\", \"giraffe\"]\n",
    "print(animals[3:])  # 3 numaralı indeksten başla ve sona kadar git. "
   ]
  },
  {
   "cell_type": "code",
   "execution_count": null,
   "metadata": {},
   "outputs": [
    {
     "name": "stdout",
     "output_type": "stream",
     "text": [
      "['elephant', 'fox', 'rabbit', 'giraffe']\n"
     ]
    }
   ],
   "source": [
    "animals =  [\"elephant\", \"bear\", \"fox\", \"wolf\", \"rabbit\", \"deer\", \"giraffe\"]\n",
    "print(animals[::2])  # En baştan başla, en son kadar git ve 2'şerli atlayarak git. "
   ]
  },
  {
   "cell_type": "code",
   "execution_count": null,
   "metadata": {},
   "outputs": [
    {
     "data": {
      "text/plain": [
       "['one', 'two', 'three']"
      ]
     },
     "metadata": {},
     "output_type": "display_data"
    }
   ],
   "source": [
    "mix_list = [1, [1, \"one\", 2, \"two\", 3, \"three\"], 4]\n",
    "mix_list[1][1::2]  # mix_list'in 1 numaralı elemanına ulaş ve içinden de \"one\", \"two\", \"three\" verilerini al. "
   ]
  },
  {
   "cell_type": "code",
   "execution_count": null,
   "metadata": {},
   "outputs": [
    {
     "name": "stdout",
     "output_type": "stream",
     "text": [
      "London\n"
     ]
    }
   ],
   "source": [
    "city = [\"New York\", \"London\", \"Istanbul\", \"Seoul\", \"Sydney\"]\n",
    "print(city[-4])"
   ]
  },
  {
   "cell_type": "code",
   "execution_count": null,
   "metadata": {},
   "outputs": [
    {
     "name": "stdout",
     "output_type": "stream",
     "text": [
      "London\n"
     ]
    }
   ],
   "source": [
    "city = [\"New York\", \"London\", \"Istanbul\", \"Seoul\", \"Sydney\"]\n",
    "print(city[1])"
   ]
  },
  {
   "cell_type": "code",
   "execution_count": null,
   "metadata": {},
   "outputs": [
    {
     "name": "stdout",
     "output_type": "stream",
     "text": [
      "['Istanbul', 'Seoul', 'Sydney']\n"
     ]
    }
   ],
   "source": [
    "city = [\"New York\", \"London\", \"Istanbul\", \"Seoul\", \"Sydney\"]\n",
    "print(city[-3:])"
   ]
  },
  {
   "cell_type": "code",
   "execution_count": null,
   "metadata": {},
   "outputs": [
    {
     "name": "stdout",
     "output_type": "stream",
     "text": [
      "['New York', 'London']\n"
     ]
    }
   ],
   "source": [
    "city = [\"New York\", \"London\", \"Istanbul\", \"Seoul\", \"Sydney\"]\n",
    "print(city[:-3])"
   ]
  },
  {
   "cell_type": "code",
   "execution_count": null,
   "metadata": {},
   "outputs": [
    {
     "name": "stdout",
     "output_type": "stream",
     "text": [
      "['Sydney', 'Seoul', 'Istanbul', 'London', 'New York']\n"
     ]
    }
   ],
   "source": [
    "city = [\"New York\", \"London\", \"Istanbul\", \"Seoul\", \"Sydney\"]\n",
    "print(city[::-1])"
   ]
  },
  {
   "cell_type": "code",
   "execution_count": null,
   "metadata": {},
   "outputs": [
    {
     "name": "stdout",
     "output_type": "stream",
     "text": [
      "['New York', 'London', 'Istanbul']\n"
     ]
    }
   ],
   "source": [
    "city = [\"New York\", \"London\", \"Istanbul\", \"Seoul\", \"Sydney\"]\n",
    "print(city[:-2])"
   ]
  },
  {
   "cell_type": "code",
   "execution_count": null,
   "metadata": {},
   "outputs": [
    {
     "name": "stdout",
     "output_type": "stream",
     "text": [
      "['Sydney', 'Istanbul', 'New York']\n"
     ]
    }
   ],
   "source": [
    "city = [\"New York\", \"London\", \"Istanbul\", \"Seoul\", \"Sydney\"]\n",
    "print(city[::-2])"
   ]
  },
  {
   "cell_type": "code",
   "execution_count": null,
   "metadata": {},
   "outputs": [
    {
     "name": "stdout",
     "output_type": "stream",
     "text": [
      "['h', 'g', 'f', 'e']\n",
      "[]\n"
     ]
    }
   ],
   "source": [
    "letters = [\"a\", \"b\", \"c\", \"d\", \"e\", \"f\", \"g\", \"h\", \"i\", \"j\"]\n",
    "print(letters[7:3:-1])\n",
    "print(letters[2:6:-1])"
   ]
  },
  {
   "cell_type": "markdown",
   "metadata": {},
   "source": [
    "Tuple: Değiştireilemez (Immutable) dır. Sayısını arttıramayız, yeni bir eleman ekleyemeyiz, eleman çıkaramayız ama tuple'ın elemanlarına nüfus ederek elemanları üzerinde oynayabiliriz.Tabi bu değiştirilemez özelliğini yine de değiştirmiyor. Listelerde olduğu gibi append metodu, sort metodu, remove metodu kullanılmadığı için yani arka planda çalışan bu fonksiyonlar daha az olduğu için daha az yer kaplarlar ve bundan dolayı da daha hızlı çalışırlar.Listelere göre içinden veri çekmek, indekslemek çok daha hızlıdır. İçine atarız ve öyle kalır tuple larda. GÜvenli bir alandır, IP numaraları, TC kimlik numaraları, bir sağlık kuruluşunun database'indeki özel rakamlar, şifreler, sigorta numaraları vb. bu tür değişmesini istemediğimiz verilen depolanmasında kullanılır. Ya da yanlışlıklada olsa kazara silinmesini, değişmesini önlemek istediğimiz bilgileri tuple ile kullanabiliriz. \n",
    "\n",
    "Bir tuple oluştururken iki şekilde yapabiliriz; \n",
    "()\n",
    "tuple()\n",
    "\n",
    "Tuple'lar içlerine iterable(elemanlarına ayrılabilen) veri alırlar. UNUTMAYALIM; Collection fonksiyonlar (list, tuple, set, dict) bunların hepsi iterable alır. "
   ]
  },
  {
   "cell_type": "code",
   "execution_count": null,
   "metadata": {},
   "outputs": [
    {
     "name": "stdout",
     "output_type": "stream",
     "text": [
      "120\n",
      "64\n"
     ]
    }
   ],
   "source": [
    "import sys\n",
    "x = [1, 2, 3]\n",
    "y = (1, 2, 3)\n",
    "print(sys.getsizeof(x))  # Liste ve tuple'ın kapladıkları alanları byte olarak kıyasladık. Aşağıda da gördüğümüz üzere tuple çok daha az yer kaplamakta. \n",
    "print(sys.getsizeof(y))"
   ]
  },
  {
   "cell_type": "code",
   "execution_count": null,
   "metadata": {},
   "outputs": [
    {
     "name": "stdout",
     "output_type": "stream",
     "text": [
      "('h', 'a', 'p', 'p', 'y')\n",
      "('h', 'a', 'p', 'p', 'y')\n",
      "('h', 'a', 'p', 'p', 'y')\n"
     ]
    }
   ],
   "source": [
    "tuple_1 = (\"h\", \"a\", \"p\", \"p\", \"y\")\n",
    "word = \"happy\"\n",
    "tuple_2 = tuple(word)\n",
    "print(tuple(tuple_1))\n",
    "print(tuple_1)\n",
    "print(tuple_2)"
   ]
  },
  {
   "cell_type": "code",
   "execution_count": null,
   "metadata": {},
   "outputs": [
    {
     "name": "stdout",
     "output_type": "stream",
     "text": [
      "<class 'tuple'>\n"
     ]
    },
    {
     "data": {
      "text/plain": [
       "()"
      ]
     },
     "metadata": {},
     "output_type": "display_data"
    }
   ],
   "source": [
    "empty_tuple = ()\n",
    "print(type(empty_tuple))\n",
    "tuple()\n",
    "\n"
   ]
  },
  {
   "cell_type": "code",
   "execution_count": null,
   "metadata": {},
   "outputs": [
    {
     "name": "stdout",
     "output_type": "stream",
     "text": [
      "Solar\n",
      "<class 'str'>\n"
     ]
    }
   ],
   "source": [
    "my_tuple = (\"Solar\")\n",
    "print(my_tuple, type(my_tuple), sep=\"\\n\")"
   ]
  },
  {
   "cell_type": "code",
   "execution_count": null,
   "metadata": {},
   "outputs": [
    {
     "name": "stdout",
     "output_type": "stream",
     "text": [
      "1\n",
      "2\n",
      "3\n",
      "1 2 3\n"
     ]
    }
   ],
   "source": [
    "a, b, c = 1, 2, 3\n",
    "print(a)\n",
    "print(b)\n",
    "print(c)\n",
    "print(a, b, c)\n"
   ]
  },
  {
   "cell_type": "code",
   "execution_count": null,
   "metadata": {},
   "outputs": [
    {
     "name": "stdout",
     "output_type": "stream",
     "text": [
      "(1, 2, 3)\n"
     ]
    },
    {
     "data": {
      "text/plain": [
       "tuple"
      ]
     },
     "metadata": {},
     "output_type": "display_data"
    }
   ],
   "source": [
    "x = 1, 2, 3  # Virgül ile ayırdığımız değerleri eğer parantez içinde yazmaz isek Python onu tuple olarak kabul eder. \n",
    "print(x)\n",
    "type(x)"
   ]
  },
  {
   "cell_type": "code",
   "execution_count": null,
   "metadata": {},
   "outputs": [
    {
     "name": "stdout",
     "output_type": "stream",
     "text": [
      "('ali', 'veli', 'deli')\n"
     ]
    },
    {
     "data": {
      "text/plain": [
       "tuple"
      ]
     },
     "metadata": {},
     "output_type": "display_data"
    }
   ],
   "source": [
    "y = \"ali\", \"veli\", \"deli\"\n",
    "print(y)\n",
    "type(y)"
   ]
  },
  {
   "cell_type": "code",
   "execution_count": null,
   "metadata": {},
   "outputs": [
    {
     "data": {
      "text/plain": [
       "str"
      ]
     },
     "metadata": {},
     "output_type": "display_data"
    }
   ],
   "source": [
    "z = \"ali\"  # Tuple'da tek elemanlı olarak tanımlamak yetmiyor, mutlaka yanına en azından bir , (virgül) koymalıyız. \n",
    "type(z)"
   ]
  },
  {
   "cell_type": "code",
   "execution_count": null,
   "metadata": {},
   "outputs": [
    {
     "name": "stdout",
     "output_type": "stream",
     "text": [
      "('ali',)\n"
     ]
    },
    {
     "data": {
      "text/plain": [
       "tuple"
      ]
     },
     "metadata": {},
     "output_type": "display_data"
    }
   ],
   "source": [
    "z = \"ali\",  # Tek elemanlı tuple yapmak için bu şekilde tanımlamamız gerekir. \n",
    "print(z)\n",
    "type(z)"
   ]
  },
  {
   "cell_type": "code",
   "execution_count": null,
   "metadata": {},
   "outputs": [
    {
     "data": {
      "text/plain": [
       "int"
      ]
     },
     "metadata": {},
     "output_type": "display_data"
    }
   ],
   "source": [
    "t = 1\n",
    "type(t)"
   ]
  },
  {
   "cell_type": "code",
   "execution_count": null,
   "metadata": {},
   "outputs": [
    {
     "data": {
      "text/plain": [
       "tuple"
      ]
     },
     "metadata": {},
     "output_type": "display_data"
    }
   ],
   "source": [
    "t = 1,\n",
    "type(t)"
   ]
  },
  {
   "cell_type": "code",
   "execution_count": null,
   "metadata": {},
   "outputs": [
    {
     "name": "stdout",
     "output_type": "stream",
     "text": [
      "('Earth', 'Venus', 'Uranus')\n",
      "<class 'tuple'>\n"
     ]
    }
   ],
   "source": [
    "solar = \"Earth\", \"Venus\", \"Uranus\"  # Parantez içinde değiller \n",
    "print(solar, type(solar), sep = \"\\n\")"
   ]
  },
  {
   "cell_type": "code",
   "execution_count": null,
   "metadata": {},
   "outputs": [
    {
     "data": {
      "text/plain": [
       "('solar',)"
      ]
     },
     "metadata": {},
     "output_type": "display_data"
    }
   ],
   "source": [
    "tuple([\"solar\"])  # İçindeki liste iterable'mı? Evet,Listemizin tek bir elemanı var o da \"Solar\".Bunu tuple yaparlen ise tek bir elemanı al tuple yap demek.\n",
    "# Bunu yaparken ise tek bir elemanı alıp yanına virgül koyuyoruz, sonra da parantez ile kapatıyoruz. "
   ]
  },
  {
   "cell_type": "markdown",
   "metadata": {},
   "source": [
    "## 8. DERS "
   ]
  },
  {
   "cell_type": "markdown",
   "metadata": {},
   "source": [
    "Hatırlatma: Collection type lar, birden fazla veriyi depolayabilen veri tipleri. String, boolean, integer tek bir veri tipiydi. Bir değişken, bir değer alabiliyorlar. Collectionlar ise (List, Tuple, Set, Dict ) bunlar birdan falza tipte değer alabiliyorlar. İki tane integer'ı ya da string'i tek bir değişkene atamak istiyorsak bu list, tuple ya da set oluyor. "
   ]
  },
  {
   "cell_type": "code",
   "execution_count": null,
   "metadata": {},
   "outputs": [
    {
     "name": "stdout",
     "output_type": "stream",
     "text": [
      "<class 'list'> [1, 4, 3, 4, 5, 6, 7, 4]\n"
     ]
    }
   ],
   "source": [
    "# list to tuple, tuple to list\n",
    "\n",
    "my_tuple = (1, 4, 3, 4, 5, 6, 7, 4)\n",
    "my_list = list(my_tuple)\n",
    "print(type(my_list), my_list)\n",
    "\n"
   ]
  },
  {
   "cell_type": "code",
   "execution_count": null,
   "metadata": {},
   "outputs": [
    {
     "name": "stdout",
     "output_type": "stream",
     "text": [
      "<class 'list'> [1, 4, 3, 4, 5, 6, 7, 4]\n"
     ]
    }
   ],
   "source": [
    "my_list = (1, 4, 3, 4, 5, 6, 7, 4)\n",
    "my_tuple = list(my_list)\n",
    "print(type(my_tuple), my_tuple)"
   ]
  },
  {
   "cell_type": "code",
   "execution_count": null,
   "metadata": {},
   "outputs": [
    {
     "name": "stdout",
     "output_type": "stream",
     "text": [
      "('A', 'l', 'p', 's')\n"
     ]
    }
   ],
   "source": [
    "mountain = tuple(\"Alps\")\n",
    "print(mountain) "
   ]
  },
  {
   "cell_type": "code",
   "execution_count": null,
   "metadata": {},
   "outputs": [
    {
     "data": {
      "text/plain": [
       "(1, 2, 3, 4, 5, 6, 7, 8, 9, 10)"
      ]
     },
     "metadata": {},
     "output_type": "display_data"
    }
   ],
   "source": [
    "tuple(range(1, 11))"
   ]
  },
  {
   "cell_type": "markdown",
   "metadata": {},
   "source": [
    "Just like the lists, the tuples support idexing "
   ]
  },
  {
   "cell_type": "code",
   "execution_count": null,
   "metadata": {},
   "outputs": [
    {
     "name": "stdout",
     "output_type": "stream",
     "text": [
      "0\n",
      "2\n",
      "4\n"
     ]
    },
    {
     "ename": "IndexError",
     "evalue": "tuple index out of range",
     "output_type": "error",
     "traceback": [
      "\u001b[1;31m---------------------------------------------------------------------------\u001b[0m\n",
      "\u001b[1;31mIndexError\u001b[0m                                Traceback (most recent call last)\n",
      "\u001b[1;32mg:\\Drive'ım\\Masaüstü\\Eğitimler\\Yazılım\\VS Code Genel\\Python In-class\\020722.ipynb Cell 7'\u001b[0m in \u001b[0;36m<module>\u001b[1;34m\u001b[0m\n",
      "\u001b[0;32m      <a href='vscode-notebook-cell:/g%3A/Drive%27%C4%B1m/Masa%C3%BCst%C3%BC/E%C4%9Fitimler/Yaz%C4%B1l%C4%B1m/VS%20Code%20Genel/Python%20In-class/020722.ipynb#ch0000006?line=2'>3</a>\u001b[0m \u001b[39mprint\u001b[39m(even_no[\u001b[39m1\u001b[39m])\n",
      "\u001b[0;32m      <a href='vscode-notebook-cell:/g%3A/Drive%27%C4%B1m/Masa%C3%BCst%C3%BC/E%C4%9Fitimler/Yaz%C4%B1l%C4%B1m/VS%20Code%20Genel/Python%20In-class/020722.ipynb#ch0000006?line=3'>4</a>\u001b[0m \u001b[39mprint\u001b[39m(even_no[\u001b[39m2\u001b[39m])\n",
      "\u001b[1;32m----> <a href='vscode-notebook-cell:/g%3A/Drive%27%C4%B1m/Masa%C3%BCst%C3%BC/E%C4%9Fitimler/Yaz%C4%B1l%C4%B1m/VS%20Code%20Genel/Python%20In-class/020722.ipynb#ch0000006?line=4'>5</a>\u001b[0m \u001b[39mprint\u001b[39m(even_no[\u001b[39m3\u001b[39;49m])\n",
      "\n",
      "\u001b[1;31mIndexError\u001b[0m: tuple index out of range"
     ]
    }
   ],
   "source": [
    "even_no = (0, 2, 4)\n",
    "print(even_no[0])\n",
    "print(even_no[1])\n",
    "print(even_no[2])\n",
    "print(even_no[3])"
   ]
  },
  {
   "cell_type": "markdown",
   "metadata": {},
   "source": [
    "tuple is IMMUTABLE"
   ]
  },
  {
   "cell_type": "code",
   "execution_count": null,
   "metadata": {},
   "outputs": [
    {
     "data": {
      "text/plain": [
       "'Tokyo'"
      ]
     },
     "metadata": {},
     "output_type": "display_data"
    }
   ],
   "source": [
    "city_list = [\"Tokyo\",\"Istanbul\", \"Moscow\", \"Dublin\"]\n",
    "city_tuple =tuple(city_list)\n",
    "city_tuple[0]"
   ]
  },
  {
   "cell_type": "code",
   "execution_count": null,
   "metadata": {},
   "outputs": [
    {
     "data": {
      "text/plain": [
       "(1, 2, 3, 4, 5, 6, 7, 8, 9, 10)"
      ]
     },
     "metadata": {},
     "output_type": "display_data"
    }
   ],
   "source": [
    "tuple(range(1,11))"
   ]
  },
  {
   "cell_type": "code",
   "execution_count": null,
   "metadata": {},
   "outputs": [
    {
     "data": {
      "text/plain": [
       "(1, 2, 3, 4, 5, 6, 7, 8, 9, 10)"
      ]
     },
     "metadata": {},
     "output_type": "display_data"
    }
   ],
   "source": [
    "sayılar = tuple(range(1,11))\n",
    "sayılar"
   ]
  },
  {
   "cell_type": "code",
   "execution_count": null,
   "metadata": {},
   "outputs": [
    {
     "data": {
      "text/plain": [
       "[1, 2, 3, 4, 5, 6, 7, 8, 9, 10]"
      ]
     },
     "metadata": {},
     "output_type": "display_data"
    }
   ],
   "source": [
    "liste_sayılar = list(sayılar)\n",
    "liste_sayılar"
   ]
  },
  {
   "cell_type": "code",
   "execution_count": null,
   "metadata": {},
   "outputs": [
    {
     "data": {
      "text/plain": [
       "[1, 2, 3, 33, 5, 6, 7, 8, 9, 10]"
      ]
     },
     "metadata": {},
     "output_type": "display_data"
    }
   ],
   "source": [
    "liste_sayılar[3] = 33  # Listelerde bu şekilde içine atama yapabiliyor ama istediğimiz veriyi ama tuple'larda bu şekilde yapamayız. \n",
    "liste_sayılar"
   ]
  },
  {
   "cell_type": "code",
   "execution_count": null,
   "metadata": {},
   "outputs": [
    {
     "data": {
      "text/plain": [
       "[1, 2, 3, 33, 5, 6, 7, 8, 9, 'ten']"
      ]
     },
     "metadata": {},
     "output_type": "display_data"
    }
   ],
   "source": [
    "liste_sayılar[-1] = \"ten\"\n",
    "liste_sayılar"
   ]
  },
  {
   "cell_type": "code",
   "execution_count": null,
   "metadata": {},
   "outputs": [
    {
     "ename": "TypeError",
     "evalue": "'tuple' object does not support item assignment",
     "output_type": "error",
     "traceback": [
      "\u001b[1;31m---------------------------------------------------------------------------\u001b[0m\n",
      "\u001b[1;31mTypeError\u001b[0m                                 Traceback (most recent call last)\n",
      "\u001b[1;32mg:\\Drive'ım\\Masaüstü\\Eğitimler\\Yazılım\\VS Code Genel\\Python In-class\\020722.ipynb Cell 14'\u001b[0m in \u001b[0;36m<module>\u001b[1;34m\u001b[0m\n",
      "\u001b[0;32m      <a href='vscode-notebook-cell:/g%3A/Drive%27%C4%B1m/Masa%C3%BCst%C3%BC/E%C4%9Fitimler/Yaz%C4%B1l%C4%B1m/VS%20Code%20Genel/Python%20In-class/020722.ipynb#ch0000014?line=0'>1</a>\u001b[0m sayılar \u001b[39m=\u001b[39m (\u001b[39m1\u001b[39m, \u001b[39m2\u001b[39m, \u001b[39m3\u001b[39m, \u001b[39m4\u001b[39m, \u001b[39m5\u001b[39m, \u001b[39m6\u001b[39m, \u001b[39m7\u001b[39m, \u001b[39m8\u001b[39m, \u001b[39m9\u001b[39m, \u001b[39m10\u001b[39m)\n",
      "\u001b[1;32m----> <a href='vscode-notebook-cell:/g%3A/Drive%27%C4%B1m/Masa%C3%BCst%C3%BC/E%C4%9Fitimler/Yaz%C4%B1l%C4%B1m/VS%20Code%20Genel/Python%20In-class/020722.ipynb#ch0000014?line=1'>2</a>\u001b[0m sayılar[\u001b[39m3\u001b[39m] \u001b[39m=\u001b[39m \u001b[39m33\u001b[39m\n",
      "\n",
      "\u001b[1;31mTypeError\u001b[0m: 'tuple' object does not support item assignment"
     ]
    }
   ],
   "source": [
    "sayılar = (1, 2, 3, 4, 5, 6, 7, 8, 9, 10)  # tuple is immutable\n",
    "sayılar[3] = 33 "
   ]
  },
  {
   "cell_type": "code",
   "execution_count": null,
   "metadata": {},
   "outputs": [
    {
     "name": "stdout",
     "output_type": "stream",
     "text": [
      "('11', 11, [2, 'two', ('six', 6)], (5, 'fair'))\n"
     ]
    }
   ],
   "source": [
    "mix_tuple = (\"11\", 11, [2, \"two\", (\"six\", 6)], (5, \"fair\"))\n",
    "print(mix_tuple)"
   ]
  },
  {
   "cell_type": "code",
   "execution_count": null,
   "metadata": {},
   "outputs": [
    {
     "data": {
      "text/plain": [
       "'six'"
      ]
     },
     "metadata": {},
     "output_type": "display_data"
    }
   ],
   "source": [
    "mix_tuple[2][2][0]"
   ]
  },
  {
   "cell_type": "code",
   "execution_count": null,
   "metadata": {},
   "outputs": [
    {
     "name": "stdout",
     "output_type": "stream",
     "text": [
      "<class 'list'>\n"
     ]
    }
   ],
   "source": [
    "print(type(mix_tuple[2]))"
   ]
  },
  {
   "cell_type": "code",
   "execution_count": null,
   "metadata": {},
   "outputs": [],
   "source": [
    "mix_tuple[2].append(False)  # Tuple'lar immutable olmasına rağmen içindeki bir elemana ekleme, çıkarma yapabiliyoruz ama tuple'a yapamıyoruz. \n"
   ]
  },
  {
   "cell_type": "code",
   "execution_count": null,
   "metadata": {},
   "outputs": [
    {
     "name": "stdout",
     "output_type": "stream",
     "text": [
      "('11', 11, [2, 'two', ('six', 6), False], (5, 'fair'))\n"
     ]
    }
   ],
   "source": [
    "mix_tuple"
   ]
  },
  {
   "cell_type": "code",
   "execution_count": null,
   "metadata": {},
   "outputs": [
    {
     "data": {
      "text/plain": [
       "'SIX'"
      ]
     },
     "metadata": {},
     "output_type": "display_data"
    }
   ],
   "source": [
    "mix_tuple[2][2][0].upper()  # Stringler ımmutable (değiştirilemez) oldukları için bu sonuca özel olarak büyük harflidir ama asıl  tuple içinde değişmez."
   ]
  },
  {
   "cell_type": "code",
   "execution_count": null,
   "metadata": {},
   "outputs": [
    {
     "data": {
      "text/plain": [
       "('11', 11, [2, 'two', ('six', 6), False], (5, 'fair'))"
      ]
     },
     "metadata": {},
     "output_type": "display_data"
    }
   ],
   "source": [
    "mix_tuple  # Burada da görüldüğü üzere değişmemiştir aslında. "
   ]
  },
  {
   "cell_type": "code",
   "execution_count": null,
   "metadata": {},
   "outputs": [
    {
     "data": {
      "text/plain": [
       "('11', 11, [2, 'TWO', ('six', 6), False], (5, 'fair'))"
      ]
     },
     "metadata": {},
     "output_type": "display_data"
    }
   ],
   "source": [
    "mix_tuple[2][1] = \"TWO\"  # Buradaki \"two\" değeri list içinde yer aldığı için değişiklik yapabildik ama tuple içinde yer alan bir değeri değiştiremiyoruz. \n",
    "mix_tuple"
   ]
  },
  {
   "cell_type": "code",
   "execution_count": null,
   "metadata": {},
   "outputs": [
    {
     "name": "stdout",
     "output_type": "stream",
     "text": [
      "['two', ('six', 6)]\n",
      "<class 'list'>\n"
     ]
    }
   ],
   "source": [
    "mix_tuple = (\"11\", 11, [2, \"two\", (\"six\", 6)], (5, \"fair\"))\n",
    "str_six = mix_tuple[2][1:3]\n",
    "print(str_six, type(str_six), sep=\"\\n\")\n",
    "\n",
    "# [\"two\", (\"six\", 6)]\n",
    "# <class 'list'>"
   ]
  },
  {
   "cell_type": "code",
   "execution_count": null,
   "metadata": {},
   "outputs": [
    {
     "name": "stdout",
     "output_type": "stream",
     "text": [
      "(5, 'fair')\n",
      "<class 'tuple'>\n"
     ]
    }
   ],
   "source": [
    "mix_tuple = (\"11\", 11, [2, \"two\", (\"six\", 6)], (5, \"fair\"))\n",
    "last_item = mix_tuple[-1]\n",
    "print(last_item, type(last_item), sep=\"\\n\")"
   ]
  },
  {
   "cell_type": "code",
   "execution_count": null,
   "metadata": {},
   "outputs": [
    {
     "name": "stdout",
     "output_type": "stream",
     "text": [
      "fair\n",
      "<class 'str'>\n"
     ]
    }
   ],
   "source": [
    "mix_tuple = (\"11\", 11, [2, \"two\", (\"six\", 6)], (5, \"fair\"))\n",
    "last_item = mix_tuple[-1][1]\n",
    "print(last_item, type(last_item), sep=\"\\n\")"
   ]
  },
  {
   "cell_type": "markdown",
   "metadata": {},
   "source": [
    "## Dictionary : \n",
    "Çok kullanılan bir konudur. İki tane veri vardır yani veri çifti.  Her bir çift virgüller ile ayrılıyor. Her bir çifte item deniliyor. İterable'dır. Eleman sayısı ise 2'dir aşağıdaki örneğin. \n",
    "{key1 : value1,\n",
    "key2  : value2}\n",
    "\n",
    "{}  # Manuel olarka bu şekilde yaparız ya da aşağıdaki gibi. \n",
    "dict()"
   ]
  },
  {
   "cell_type": "code",
   "execution_count": null,
   "metadata": {},
   "outputs": [
    {
     "name": "stdout",
     "output_type": "stream",
     "text": [
      "{'ali': 33, 'deli': 41, 'veli': 1000}\n"
     ]
    }
   ],
   "source": [
    "print({\"ali\" : 33,\n",
    "\"deli\" : 41,\n",
    "\"veli\" : 1000})"
   ]
  },
  {
   "cell_type": "code",
   "execution_count": null,
   "metadata": {},
   "outputs": [
    {
     "name": "stdout",
     "output_type": "stream",
     "text": [
      "{'fruit': 'apple', 'drink': 'water'}\n",
      "{'fruit': 'apple', 'drink': 'water'}\n"
     ]
    }
   ],
   "source": [
    "grocer1 = {\"fruit\" : \"apple\", \"drink\" : \"water\"}\n",
    "grocer2 = dict(fruit=\"apple\", drink=\"water\")  # Dict fonksyonu içine yazılış diğerlerinde olduğu gibi değildir, biraz daha farklıdır.  \n",
    "print(grocer1)\n",
    "print(grocer2)\n"
   ]
  },
  {
   "cell_type": "code",
   "execution_count": null,
   "metadata": {},
   "outputs": [
    {
     "data": {
      "text/plain": [
       "{1: 'one',\n",
       " 'two': 2,\n",
       " False: [1, 2, 3],\n",
       " 1.5: ('one', 'two'),\n",
       " (1, 2): 'clarusway'}"
      ]
     },
     "metadata": {},
     "output_type": "display_data"
    }
   ],
   "source": [
    "first_dict = {1:\"one\", \"two\":2, False:[1,2,3], 1.5:(\"one\", \"two\"), (1,2):\"clarusway\"}  # Burada da göreceğimiz üzere bir çok tipte key and value olabilmekte\n",
    "first_dict"
   ]
  },
  {
   "cell_type": "code",
   "execution_count": null,
   "metadata": {},
   "outputs": [
    {
     "ename": "TypeError",
     "evalue": "unhashable type: 'list'",
     "output_type": "error",
     "traceback": [
      "\u001b[1;31m---------------------------------------------------------------------------\u001b[0m\n",
      "\u001b[1;31mTypeError\u001b[0m                                 Traceback (most recent call last)\n",
      "\u001b[1;32mg:\\Drive'ım\\Masaüstü\\Eğitimler\\Yazılım\\VS Code Genel\\Python In-class\\020722.ipynb Cell 31'\u001b[0m in \u001b[0;36m<module>\u001b[1;34m\u001b[0m\n",
      "\u001b[1;32m----> <a href='vscode-notebook-cell:/g%3A/Drive%27%C4%B1m/Masa%C3%BCst%C3%BC/E%C4%9Fitimler/Yaz%C4%B1l%C4%B1m/VS%20Code%20Genel/Python%20In-class/020722.ipynb#ch0000100?line=0'>1</a>\u001b[0m second_dict \u001b[39m=\u001b[39m {[\u001b[39m1\u001b[39m,\u001b[39m2\u001b[39m]:\u001b[39m\"\u001b[39m\u001b[39mone\u001b[39m\u001b[39m\"\u001b[39m, \u001b[39m\"\u001b[39m\u001b[39mtwo\u001b[39m\u001b[39m\"\u001b[39m:\u001b[39m2\u001b[39m, \u001b[39mFalse\u001b[39;00m:[\u001b[39m1\u001b[39m,\u001b[39m2\u001b[39m,\u001b[39m3\u001b[39m], \u001b[39m1.5\u001b[39m:(\u001b[39m\"\u001b[39m\u001b[39mone\u001b[39m\u001b[39m\"\u001b[39m, \u001b[39m\"\u001b[39m\u001b[39mtwo\u001b[39m\u001b[39m\"\u001b[39m), (\u001b[39m1\u001b[39m,\u001b[39m2\u001b[39m):\u001b[39m\"\u001b[39m\u001b[39mclarusway\u001b[39m\u001b[39m\"\u001b[39m}\n",
      "\u001b[0;32m      <a href='vscode-notebook-cell:/g%3A/Drive%27%C4%B1m/Masa%C3%BCst%C3%BC/E%C4%9Fitimler/Yaz%C4%B1l%C4%B1m/VS%20Code%20Genel/Python%20In-class/020722.ipynb#ch0000100?line=1'>2</a>\u001b[0m second_dict\n",
      "\n",
      "\u001b[1;31mTypeError\u001b[0m: unhashable type: 'list'"
     ]
    }
   ],
   "source": [
    "second_dict = {[1,2]:\"one\", \"two\":2, False:[1,2,3], 1.5:(\"one\", \"two\"), (1,2):\"clarusway\"}\n",
    "second_dict  # Liste olarak key olduğunda kabul etmiyor ve hata veriyor. "
   ]
  },
  {
   "cell_type": "code",
   "execution_count": null,
   "metadata": {},
   "outputs": [
    {
     "ename": "TypeError",
     "evalue": "unhashable type: 'dict'",
     "output_type": "error",
     "traceback": [
      "\u001b[1;31m---------------------------------------------------------------------------\u001b[0m\n",
      "\u001b[1;31mTypeError\u001b[0m                                 Traceback (most recent call last)\n",
      "\u001b[1;32mg:\\Drive'ım\\Masaüstü\\Eğitimler\\Yazılım\\VS Code Genel\\Python In-class\\020722.ipynb Cell 32'\u001b[0m in \u001b[0;36m<module>\u001b[1;34m\u001b[0m\n",
      "\u001b[1;32m----> <a href='vscode-notebook-cell:/g%3A/Drive%27%C4%B1m/Masa%C3%BCst%C3%BC/E%C4%9Fitimler/Yaz%C4%B1l%C4%B1m/VS%20Code%20Genel/Python%20In-class/020722.ipynb#ch0000101?line=0'>1</a>\u001b[0m third_dict \u001b[39m=\u001b[39m {{\u001b[39m1\u001b[39m:\u001b[39m2\u001b[39m}:\u001b[39m\"\u001b[39m\u001b[39mone\u001b[39m\u001b[39m\"\u001b[39m, \u001b[39m\"\u001b[39m\u001b[39mtwo\u001b[39m\u001b[39m\"\u001b[39m:\u001b[39m2\u001b[39m, \u001b[39mFalse\u001b[39;00m:[\u001b[39m1\u001b[39m,\u001b[39m2\u001b[39m,\u001b[39m3\u001b[39m], \u001b[39m1.5\u001b[39m:(\u001b[39m\"\u001b[39m\u001b[39mone\u001b[39m\u001b[39m\"\u001b[39m, \u001b[39m\"\u001b[39m\u001b[39mtwo\u001b[39m\u001b[39m\"\u001b[39m), (\u001b[39m1\u001b[39m,\u001b[39m2\u001b[39m):\u001b[39m\"\u001b[39m\u001b[39mclarusway\u001b[39m\u001b[39m\"\u001b[39m}\n",
      "\u001b[0;32m      <a href='vscode-notebook-cell:/g%3A/Drive%27%C4%B1m/Masa%C3%BCst%C3%BC/E%C4%9Fitimler/Yaz%C4%B1l%C4%B1m/VS%20Code%20Genel/Python%20In-class/020722.ipynb#ch0000101?line=1'>2</a>\u001b[0m third_dict\n",
      "\n",
      "\u001b[1;31mTypeError\u001b[0m: unhashable type: 'dict'"
     ]
    }
   ],
   "source": [
    "third_dict = {{1:2}:\"one\", \"two\":2, False:[1,2,3], 1.5:(\"one\", \"two\"), (1,2):\"clarusway\"}\n",
    "third_dict  # Key olarak dictionary'de dict kullanamıyoruz. "
   ]
  },
  {
   "cell_type": "code",
   "execution_count": null,
   "metadata": {},
   "outputs": [
    {
     "data": {
      "text/plain": [
       "{1: 'bir'}"
      ]
     },
     "metadata": {},
     "output_type": "display_data"
    }
   ],
   "source": [
    "{1 : \"bir\"}"
   ]
  },
  {
   "cell_type": "code",
   "execution_count": null,
   "metadata": {},
   "outputs": [
    {
     "data": {
      "text/plain": [
       "{'isim': 'Ali, Deli, Veli'}"
      ]
     },
     "metadata": {},
     "output_type": "display_data"
    }
   ],
   "source": [
    "dict(isim = \"Ali, Deli, Veli\")  Bizim burada tanımladığımız key(isim) kısmı, dictionary çıktısında stringe dönüyor. "
   ]
  },
  {
   "cell_type": "code",
   "execution_count": null,
   "metadata": {},
   "outputs": [
    {
     "ename": "SyntaxError",
     "evalue": "keyword argument repeated: isim (2946282986.py, line 1)",
     "output_type": "error",
     "traceback": [
      "\u001b[1;36m  Input \u001b[1;32mIn [39]\u001b[1;36m\u001b[0m\n",
      "\u001b[1;33m    dict(isim = \"ali\", isim = \"deli\")\u001b[0m\n",
      "\u001b[1;37m                       ^\u001b[0m\n",
      "\u001b[1;31mSyntaxError\u001b[0m\u001b[1;31m:\u001b[0m keyword argument repeated: isim\n"
     ]
    }
   ],
   "source": [
    "dict(isim = \"ali\", isim = \"deli\")  # Aynı key'i birden fazla value'da kullanamıyoruz. "
   ]
  },
  {
   "cell_type": "code",
   "execution_count": null,
   "metadata": {},
   "outputs": [
    {
     "data": {
      "text/plain": [
       "{'sayılar': [1, 2, 3], 'harfler': {1: 'bir'}}"
      ]
     },
     "metadata": {},
     "output_type": "display_data"
    }
   ],
   "source": [
    "dict(sayılar = [1, 2, 3], harfler = {1 : \"bir\"})  # dict içindeki key'ler, çıktığı aldığımızda string oluyor. "
   ]
  },
  {
   "cell_type": "code",
   "execution_count": null,
   "metadata": {},
   "outputs": [
    {
     "name": "stdout",
     "output_type": "stream",
     "text": [
      "Denver\n",
      "<class 'str'>\n"
     ]
    }
   ],
   "source": [
    "state_capitals = {\"Arkanas\" : \"Little Rock\",\n",
    "                  \"Colorado\" : \"Denver\",\n",
    "                  \"California\" : \"Sacramento\",\n",
    "                  \"Georgia\" : \"Atalanta\"\n",
    "                  }\n",
    "\n",
    "a = state_capitals[\"Colorado\"]  # accessing method. Bu yöntem sayesinde dict içndeki bir değere key üzerinden ulaşabiliriz.\n",
    "print(a, type(a), sep=\"\\n\")  # Value içinde ne varsa sonuçta da onu döndürür. \n",
    "\n",
    "    "
   ]
  },
  {
   "cell_type": "code",
   "execution_count": null,
   "metadata": {},
   "outputs": [
    {
     "name": "stdout",
     "output_type": "stream",
     "text": [
      "{'Arkanas': 'Little Rock', 'Colorado': 'Denver', 'California': 'Sacramento', 'Georgia': 'Atalanta', 'Virginia': 'Richmord'}\n"
     ]
    }
   ],
   "source": [
    "state_capitals = {\"Arkanas\" : \"Little Rock\",\n",
    "                  \"Colorado\" : \"Denver\",\n",
    "                  \"California\" : \"Sacramento\",\n",
    "                  \"Georgia\" : \"Atalanta\"\n",
    "                  }\n",
    "\n",
    "state_capitals[\"Virginia\"] = \"Richmord\"  # adding a new item\n",
    "print(state_capitals)\n"
   ]
  },
  {
   "cell_type": "code",
   "execution_count": null,
   "metadata": {},
   "outputs": [
    {
     "name": "stdout",
     "output_type": "stream",
     "text": [
      "{'Arkanas': 'Little Rock', 'Colorado': 123, 'California': 'Sacramento', 'Georgia': 'Atalanta'}\n"
     ]
    }
   ],
   "source": [
    "state_capitals = {\"Arkanas\" : \"Little Rock\",\n",
    "                  \"Colorado\" : \"Denver\",\n",
    "                  \"California\" : \"Sacramento\",\n",
    "                  \"Georgia\" : \"Atalanta\"\n",
    "                  }\n",
    "state_capitals[\"Colorado\"] = 123\n",
    "print(state_capitals)"
   ]
  },
  {
   "cell_type": "markdown",
   "metadata": {},
   "source": [
    "## Hatırlatma!\n",
    " Key olarak list ve dict kabul etmiyor. Value olarak int, float, string, bool, list, tuple yapabiliriz, hepsi olmakta yani. "
   ]
  },
  {
   "cell_type": "code",
   "execution_count": null,
   "metadata": {},
   "outputs": [],
   "source": [
    "family = {\"name1\" : \"Ahmet\",\n",
    "          \"name2\" : \"Mehmet\",\n",
    "          \"name3\" : \"Ayşe\"\n",
    "          }  # Manuel tanımlama "
   ]
  },
  {
   "cell_type": "code",
   "execution_count": null,
   "metadata": {},
   "outputs": [
    {
     "data": {
      "text/plain": [
       "{'name1': 'Ahmet', 'name2': 'Mehmet', 'name3': 'Ayşe'}"
      ]
     },
     "metadata": {},
     "output_type": "display_data"
    }
   ],
   "source": [
    "dict(name1 = \"Ahmet\", name2 = \"Mehmet\", name3 = \"Ayşe\")  # dict içinde kullanım "
   ]
  },
  {
   "cell_type": "code",
   "execution_count": null,
   "metadata": {},
   "outputs": [
    {
     "name": "stdout",
     "output_type": "stream",
     "text": [
      "{'name1': 'Ahmet', 'name2': 'Mehmet', 'name3': 'Ayşe', 'name4': 'Elif'}\n"
     ]
    }
   ],
   "source": [
    "family[\"name4\"] = \"Elif\"  # Bu çok kullanışlıdır, UNUTMA!!!\n",
    "print(family)"
   ]
  },
  {
   "cell_type": "code",
   "execution_count": null,
   "metadata": {},
   "outputs": [
    {
     "data": {
      "text/plain": [
       "{'ali': 1, 'deli': 1, 'veli': 1}"
      ]
     },
     "metadata": {},
     "output_type": "display_data"
    }
   ],
   "source": [
    "bi_örnek = {\"ali\" : 1, \"deli\" : 1, \"veli\" : 1}\n",
    "bi_örnek\n"
   ]
  },
  {
   "cell_type": "code",
   "execution_count": null,
   "metadata": {},
   "outputs": [
    {
     "data": {
      "text/plain": [
       "{'ali': 3, 'deli': 1, 'veli': 1}"
      ]
     },
     "metadata": {},
     "output_type": "display_data"
    }
   ],
   "source": [
    "bi_örnek[\"ali\"] += 1  # bi_örnek[\"ali\"] = b_örnek[\"ali\"] + 1, 2 kere açlıştırınca 2 arttırdı. \n",
    "bi_örnek"
   ]
  },
  {
   "cell_type": "code",
   "execution_count": null,
   "metadata": {},
   "outputs": [
    {
     "data": {
      "text/plain": [
       "{'ali': 3, 'deli': 2, 'veli': 1}"
      ]
     },
     "metadata": {},
     "output_type": "display_data"
    }
   ],
   "source": [
    "bi_örnek[\"deli\"] += 1 \n",
    "bi_örnek"
   ]
  },
  {
   "cell_type": "code",
   "execution_count": null,
   "metadata": {},
   "outputs": [
    {
     "data": {
      "text/plain": [
       "{'animal': 'dog',\n",
       " 'planet': 'neptun',\n",
       " 'number': 40,\n",
       " 'pi': 3.14,\n",
       " 'is_good': True}"
      ]
     },
     "metadata": {},
     "output_type": "display_data"
    }
   ],
   "source": [
    "dict_by_dict = dict(animal = \"dog\", planet = \"neptun\", number = 40, pi = 3.14, is_good = True)\n",
    "dict_by_dict\n",
    "\n",
    "# dict çıktısında yukarıda tanımladığımız keyler yani değişkenler (variable lar) string olur. "
   ]
  },
  {
   "cell_type": "code",
   "execution_count": null,
   "metadata": {},
   "outputs": [
    {
     "ename": "NameError",
     "evalue": "name 'animal' is not defined",
     "output_type": "error",
     "traceback": [
      "\u001b[1;31m---------------------------------------------------------------------------\u001b[0m\n",
      "\u001b[1;31mNameError\u001b[0m                                 Traceback (most recent call last)\n",
      "\u001b[1;32mg:\\Drive'ım\\Masaüstü\\Eğitimler\\Yazılım\\VS Code Genel\\Python In-class\\020722.ipynb Cell 48'\u001b[0m in \u001b[0;36m<module>\u001b[1;34m\u001b[0m\n",
      "\u001b[1;32m----> <a href='vscode-notebook-cell:/g%3A/Drive%27%C4%B1m/Masa%C3%BCst%C3%BC/E%C4%9Fitimler/Yaz%C4%B1l%C4%B1m/VS%20Code%20Genel/Python%20In-class/020722.ipynb#ch0000049?line=0'>1</a>\u001b[0m dict_by_dict[animal]\n",
      "\n",
      "\u001b[1;31mNameError\u001b[0m: name 'animal' is not defined"
     ]
    }
   ],
   "source": [
    "dict_by_dict[animal]  # String olarak çağırmadığımız için hata verdi. "
   ]
  },
  {
   "cell_type": "code",
   "execution_count": null,
   "metadata": {},
   "outputs": [
    {
     "data": {
      "text/plain": [
       "'dog'"
      ]
     },
     "metadata": {},
     "output_type": "display_data"
    }
   ],
   "source": [
    "dict_by_dict[\"animal\"]"
   ]
  },
  {
   "cell_type": "code",
   "execution_count": null,
   "metadata": {},
   "outputs": [
    {
     "data": {
      "text/plain": [
       "bool"
      ]
     },
     "metadata": {},
     "output_type": "display_data"
    }
   ],
   "source": [
    "type(dict_by_dict[\"is_good\"])"
   ]
  },
  {
   "cell_type": "code",
   "execution_count": null,
   "metadata": {},
   "outputs": [
    {
     "data": {
      "text/plain": [
       "True"
      ]
     },
     "metadata": {},
     "output_type": "display_data"
    }
   ],
   "source": [
    "dict_by_dict[\"is_good\"]"
   ]
  },
  {
   "cell_type": "code",
   "execution_count": null,
   "metadata": {},
   "outputs": [
    {
     "name": "stdout",
     "output_type": "stream",
     "text": [
      "{'name1': 'Ahmet', 'name2': 'Mehmet', 'name3': 'Ayşe'}\n"
     ]
    }
   ],
   "source": [
    "family = dict(name1 = \"Ahmet\", name2 = \"Mehmet\", name3 = \"Ayşe\")\n",
    "print(family)"
   ]
  },
  {
   "cell_type": "code",
   "execution_count": null,
   "metadata": {},
   "outputs": [
    {
     "data": {
      "text/plain": [
       "{}"
      ]
     },
     "metadata": {},
     "output_type": "display_data"
    }
   ],
   "source": [
    "dict()"
   ]
  },
  {
   "cell_type": "code",
   "execution_count": null,
   "metadata": {},
   "outputs": [
    {
     "data": {
      "text/plain": [
       "{'animal': 'dog',\n",
       " 'planet': 'neptun',\n",
       " 'number': 40,\n",
       " 'pi': 3.14,\n",
       " 'is_good': True}"
      ]
     },
     "metadata": {},
     "output_type": "display_data"
    }
   ],
   "source": [
    "dict_by_dict"
   ]
  },
  {
   "cell_type": "markdown",
   "metadata": {},
   "source": [
    "## Main Operations with Dictionaries\n",
    "\n",
    "Aşağıdakiler ise dictionary'nin metodlarıdır. \n",
    "\n",
    "- .items()\n",
    "- .keys()\n",
    "- .values()\n",
    "- .update()"
   ]
  },
  {
   "cell_type": "code",
   "execution_count": null,
   "metadata": {},
   "outputs": [
    {
     "data": {
      "text/plain": [
       "{'animal': 'dog',\n",
       " 'planet': 'neptun',\n",
       " 'number': 40,\n",
       " 'pi': 3.14,\n",
       " 'is_good': True,\n",
       " 'yasemin': 'bayan'}"
      ]
     },
     "metadata": {},
     "output_type": "display_data"
    }
   ],
   "source": [
    "dict_by_dict.update({\"yasemin\" : \"bayan\"})\n",
    "dict_by_dict"
   ]
  },
  {
   "cell_type": "code",
   "execution_count": null,
   "metadata": {},
   "outputs": [
    {
     "data": {
      "text/plain": [
       "{'animal': 'dog',\n",
       " 'planet': 'neptun',\n",
       " 'number': 40,\n",
       " 'pi': 3.14,\n",
       " 'is_good': True,\n",
       " 'yasemin': 'bayan',\n",
       " 'Ahmet': 'bay',\n",
       " 11: 'integer'}"
      ]
     },
     "metadata": {},
     "output_type": "display_data"
    }
   ],
   "source": [
    "dict_by_dict.update({\"Ahmet\" : \"bay\", 11 : \"integer\"})  # Update metodu dictionary'i kalıcı olarak değiştirir, mutable'dır. \n",
    "dict_by_dict"
   ]
  },
  {
   "cell_type": "code",
   "execution_count": null,
   "metadata": {},
   "outputs": [
    {
     "data": {
      "text/plain": [
       "{'animal': 'dog',\n",
       " 'planet': 'neptun',\n",
       " 'number': 40,\n",
       " 'pi': 3.14,\n",
       " 'is_good': True,\n",
       " 'yasemin': 'bayan',\n",
       " 'Ahmet': 'bay',\n",
       " 11: 'integer'}"
      ]
     },
     "metadata": {},
     "output_type": "display_data"
    }
   ],
   "source": [
    "dict_by_dict"
   ]
  },
  {
   "cell_type": "code",
   "execution_count": null,
   "metadata": {},
   "outputs": [
    {
     "name": "stdout",
     "output_type": "stream",
     "text": [
      "dict_items([('animal', 'dog'), ('planet', 'neptun'), ('number', 40), ('pi', 3.14), ('is_good', True), ('yasemin', 'bayan'), ('Ahmet', 'bay'), (11, 'integer')]) \n",
      "\n",
      "dict_keys(['animal', 'planet', 'number', 'pi', 'is_good', 'yasemin', 'Ahmet', 11]) \n",
      "\n",
      "dict_values(['dog', 'neptun', 40, 3.14, True, 'bayan', 'bay', 'integer'])\n"
     ]
    }
   ],
   "source": [
    "print(dict_by_dict.items(), \"\\n\")  # her bir key ve value değerini çift olacak şekilde tuple olarak yazdırır. \n",
    "print(dict_by_dict.keys(), \"\\n\")  # \"\\n\" ifadesi sayesinde ise bir sonraki satıra boşluk bırakır.\n",
    "print(dict_by_dict.values())"
   ]
  },
  {
   "cell_type": "markdown",
   "metadata": {},
   "source": [
    "## 9. DERS"
   ]
  },
  {
   "cell_type": "markdown",
   "id": "48e59907",
   "metadata": {},
   "source": [
    "- Herhangi bir object'in üstüne kurulan fonksiyonlara metod denir. \n",
    "- list(dictname.items()) => liste içerisine dict items tuple olarak atar.\n",
    "- \"in\" True or False output verir. var mı yok mu kontrolü yapar.\n",
    "- bootcamp = \"c l a r u s w a y\".split()  split komutu defult değeri her boşluktan bölüp liste yapar.() içine atama yapılırsa o değere göre böler.\n",
    "- iç içe dictionary (nested) olabilir.\n",
    "- len() dictionary lerde key sayısını verir.\n",
    "- max() en yüksek int değerini döndürür.\n",
    "- max(boşiterable, default = ) => eğer boş iterable da kullanılırsa default değerini döndürür.\n",
    "- max(numbers, key = numbers.)    key parametresine fonksiyon atanması gerekir.\n",
    "- max(numbers, key = numbers.count) #fonksiyonu numbers a tek tek uygula ve o çıkan sonucun en büyüğünü verir.\n",
    "- numbers.count(max(numbers, key = numbers.count)) #en çok tekrar eden elemanın kaç kez tekrar ettiğini verir."
   ]
  },
  {
   "cell_type": "code",
   "execution_count": null,
   "id": "7296ad00",
   "metadata": {},
   "outputs": [
    {
     "name": "stdout",
     "output_type": "stream",
     "text": [
      "dict_items([('animal', 'dog'), ('planet', 'Neptun'), ('number', 40), ('pi', 3.14), ('is_good', True)]) \n",
      "\n",
      "dict_keys(['animal', 'planet', 'number', 'pi', 'is_good']) \n",
      "\n",
      "dict_values(['dog', 'Neptun', 40, 3.14, True]) \n",
      "\n"
     ]
    }
   ],
   "source": [
    "dict_by_dict = {'animal':'dog',\n",
    "\t\t\t'planet': 'Neptun',\n",
    "\t\t\t'number': 40,\n",
    "\t\t\t'pi':3.14,\n",
    "\t\t\t'is_good': True}\n",
    "\n",
    "print(dict_by_dict.items(), '\\n')  # Buradaki \"\\n\" bir alt satıra geçerken arada bir boşluk bıraktırıyor. \n",
    "print(dict_by_dict.keys(), '\\n')\n",
    "print(dict_by_dict.values(), '\\n')"
   ]
  },
  {
   "cell_type": "code",
   "execution_count": null,
   "id": "38d10b65",
   "metadata": {},
   "outputs": [
    {
     "data": {
      "text/plain": [
       "dict_items([('animal', 'dog'), ('planet', 'Neptun'), ('number', 40), ('pi', 3.14), ('is_good', True)])"
      ]
     },
     "metadata": {},
     "output_type": "display_data"
    }
   ],
   "source": [
    "dict_by_dict.items()"
   ]
  },
  {
   "cell_type": "code",
   "execution_count": null,
   "id": "7342e493",
   "metadata": {},
   "outputs": [
    {
     "ename": "ValueError",
     "evalue": "too many values to unpack (expected 2)",
     "output_type": "error",
     "traceback": [
      "\u001b[1;31m---------------------------------------------------------------------------\u001b[0m\n",
      "\u001b[1;31mValueError\u001b[0m                                Traceback (most recent call last)\n",
      "\u001b[1;32mg:\\Drive'ım\\Masaüstü\\Eğitimler\\Yazılım\\VS Code Genel\\Python In-class\\9- 021022.ipynb Cell 4'\u001b[0m in \u001b[0;36m<module>\u001b[1;34m\u001b[0m\n",
      "\u001b[1;32m----> <a href='vscode-notebook-cell:/g%3A/Drive%27%C4%B1m/Masa%C3%BCst%C3%BC/E%C4%9Fitimler/Yaz%C4%B1l%C4%B1m/VS%20Code%20Genel/Python%20In-class/9-%20021022.ipynb#ch0000002?line=0'>1</a>\u001b[0m x, y \u001b[39m=\u001b[39m dict_by_dict\u001b[39m.\u001b[39mitems()\n",
      "\n",
      "\u001b[1;31mValueError\u001b[0m: too many values to unpack (expected 2)"
     ]
    }
   ],
   "source": [
    "x, y = dict_by_dict.items()"
   ]
  },
  {
   "cell_type": "code",
   "execution_count": null,
   "id": "5c5dfb6c",
   "metadata": {},
   "outputs": [
    {
     "ename": "TypeError",
     "evalue": "cannot unpack non-iterable int object",
     "output_type": "error",
     "traceback": [
      "\u001b[1;31m---------------------------------------------------------------------------\u001b[0m\n",
      "\u001b[1;31mTypeError\u001b[0m                                 Traceback (most recent call last)\n",
      "\u001b[1;32mg:\\Drive'ım\\Masaüstü\\Eğitimler\\Yazılım\\VS Code Genel\\Python In-class\\9- 021022.ipynb Cell 5'\u001b[0m in \u001b[0;36m<module>\u001b[1;34m\u001b[0m\n",
      "\u001b[1;32m----> <a href='vscode-notebook-cell:/g%3A/Drive%27%C4%B1m/Masa%C3%BCst%C3%BC/E%C4%9Fitimler/Yaz%C4%B1l%C4%B1m/VS%20Code%20Genel/Python%20In-class/9-%20021022.ipynb#ch0000003?line=0'>1</a>\u001b[0m a, b \u001b[39m=\u001b[39m \u001b[39m1\u001b[39m\n",
      "\n",
      "\u001b[1;31mTypeError\u001b[0m: cannot unpack non-iterable int object"
     ]
    }
   ],
   "source": [
    "a, b = 1"
   ]
  },
  {
   "cell_type": "code",
   "execution_count": null,
   "id": "b9a4ec5f",
   "metadata": {},
   "outputs": [
    {
     "data": {
      "text/plain": [
       "[('animal', 'dog'),\n",
       " ('planet', 'Neptun'),\n",
       " ('number', 40),\n",
       " ('pi', 3.14),\n",
       " ('is_good', True)]"
      ]
     },
     "metadata": {},
     "output_type": "display_data"
    }
   ],
   "source": [
    "list(dict_by_dict.items())"
   ]
  },
  {
   "cell_type": "code",
   "execution_count": null,
   "id": "5634aac8",
   "metadata": {},
   "outputs": [],
   "source": [
    "items = list(dict_by_dict.items())"
   ]
  },
  {
   "cell_type": "code",
   "execution_count": null,
   "id": "20a48e43",
   "metadata": {},
   "outputs": [],
   "source": [
    "x, y = items[0]  # Buradaki 0 numaralı indeks içinde 1'den falz değer olduğu için atama gerçekleşti. "
   ]
  },
  {
   "cell_type": "code",
   "execution_count": null,
   "id": "d24e6a22",
   "metadata": {},
   "outputs": [
    {
     "data": {
      "text/plain": [
       "'animal'"
      ]
     },
     "metadata": {},
     "output_type": "display_data"
    }
   ],
   "source": [
    "x"
   ]
  },
  {
   "cell_type": "code",
   "execution_count": null,
   "id": "e5f7f6aa",
   "metadata": {},
   "outputs": [
    {
     "data": {
      "text/plain": [
       "'dog'"
      ]
     },
     "metadata": {},
     "output_type": "display_data"
    }
   ],
   "source": [
    "y"
   ]
  },
  {
   "cell_type": "code",
   "execution_count": null,
   "id": "e0d80566",
   "metadata": {},
   "outputs": [],
   "source": [
    "x, y = \"animal\", \"dog\""
   ]
  },
  {
   "cell_type": "code",
   "execution_count": null,
   "id": "aa803524",
   "metadata": {},
   "outputs": [
    {
     "data": {
      "text/plain": [
       "dict_keys(['animal', 'planet', 'number', 'pi', 'is_good'])"
      ]
     },
     "metadata": {},
     "output_type": "display_data"
    }
   ],
   "source": [
    "dict_by_dict.keys()"
   ]
  },
  {
   "cell_type": "code",
   "execution_count": null,
   "id": "f2d1b1c1",
   "metadata": {},
   "outputs": [
    {
     "data": {
      "text/plain": [
       "('animal', 'planet', 'number', 'pi', 'is_good')"
      ]
     },
     "metadata": {},
     "output_type": "display_data"
    }
   ],
   "source": [
    "tuple(dict_by_dict.keys())"
   ]
  },
  {
   "cell_type": "code",
   "execution_count": null,
   "id": "5588b2a3",
   "metadata": {},
   "outputs": [
    {
     "data": {
      "text/plain": [
       "dict_values(['dog', 'Neptun', 40, 3.14, True])"
      ]
     },
     "metadata": {},
     "output_type": "display_data"
    }
   ],
   "source": [
    "dict_by_dict.values()"
   ]
  },
  {
   "cell_type": "code",
   "execution_count": null,
   "id": "82013720",
   "metadata": {},
   "outputs": [
    {
     "data": {
      "text/plain": [
       "{3.14, 40, 'Neptun', True, 'dog'}"
      ]
     },
     "metadata": {},
     "output_type": "display_data"
    }
   ],
   "source": [
    "set(dict_by_dict.values())"
   ]
  },
  {
   "cell_type": "code",
   "execution_count": null,
   "id": "e492e280",
   "metadata": {},
   "outputs": [],
   "source": [
    "family = {'name1': 'Joseph', \n",
    "          'name2': 'Bella',\n",
    "          'name3': 'Aisha',\n",
    "          'name4': 'Tom'\n",
    "         }"
   ]
  },
  {
   "cell_type": "code",
   "execution_count": null,
   "id": "be4069ec",
   "metadata": {},
   "outputs": [
    {
     "data": {
      "text/plain": [
       "{'name1': 'Joseph', 'name2': 'Bella', 'name3': 'Aisha', 'name4': 'Tom'}"
      ]
     },
     "metadata": {},
     "output_type": "display_data"
    }
   ],
   "source": [
    "family"
   ]
  },
  {
   "cell_type": "code",
   "execution_count": null,
   "id": "68672c84",
   "metadata": {},
   "outputs": [
    {
     "data": {
      "text/plain": [
       "[('name1', 'Joseph'), ('name2', 'Bella'), ('name3', 'Aisha'), ('name4', 'Tom')]"
      ]
     },
     "metadata": {},
     "output_type": "display_data"
    }
   ],
   "source": [
    "list(family.items())"
   ]
  },
  {
   "cell_type": "code",
   "execution_count": null,
   "id": "29ae1122",
   "metadata": {},
   "outputs": [
    {
     "data": {
      "text/plain": [
       "['name1', 'name2', 'name3', 'name4']"
      ]
     },
     "metadata": {},
     "output_type": "display_data"
    }
   ],
   "source": [
    "list(family.keys())"
   ]
  },
  {
   "cell_type": "code",
   "execution_count": null,
   "id": "77e01f9c",
   "metadata": {},
   "outputs": [
    {
     "data": {
      "text/plain": [
       "['Joseph', 'Bella', 'Aisha', 'Tom']"
      ]
     },
     "metadata": {},
     "output_type": "display_data"
    }
   ],
   "source": [
    "list(family.values())"
   ]
  },
  {
   "cell_type": "code",
   "execution_count": null,
   "id": "773f39d0",
   "metadata": {},
   "outputs": [],
   "source": [
    "family[\"name5\"] = \"idris\"  # Bu çok kullanılır, DİKKAT ET. Hiç olmayan bir değişkene bir değer atıyoruz. "
   ]
  },
  {
   "cell_type": "code",
   "execution_count": null,
   "id": "082dc0d9",
   "metadata": {},
   "outputs": [
    {
     "data": {
      "text/plain": [
       "{'name1': 'Joseph',\n",
       " 'name2': 'Bella',\n",
       " 'name3': 'Aisha',\n",
       " 'name4': 'Tom',\n",
       " 'name5': 'idris'}"
      ]
     },
     "metadata": {},
     "output_type": "display_data"
    }
   ],
   "source": [
    "family"
   ]
  },
  {
   "cell_type": "code",
   "execution_count": null,
   "id": "fec5d87f",
   "metadata": {},
   "outputs": [],
   "source": [
    "family.update({\"name6\" : \"buşra\"})  # update metodu ile aynı anda birden çok eleman ekleyebiliriz. Update içinde dict olarak yazıyoruz. "
   ]
  },
  {
   "cell_type": "code",
   "execution_count": null,
   "id": "abac2cc9",
   "metadata": {},
   "outputs": [
    {
     "data": {
      "text/plain": [
       "{'name1': 'Joseph',\n",
       " 'name2': 'Bella',\n",
       " 'name3': 'Aisha',\n",
       " 'name4': 'Tom',\n",
       " 'name5': 'idris',\n",
       " 'name6': 'buşra'}"
      ]
     },
     "metadata": {},
     "output_type": "display_data"
    }
   ],
   "source": [
    "family"
   ]
  },
  {
   "cell_type": "code",
   "execution_count": null,
   "id": "3f71e226",
   "metadata": {},
   "outputs": [],
   "source": [
    "family.update({\"name2\" : \"elizabeth\"})  # Mevcut key deki value değerini değiştirdik.  "
   ]
  },
  {
   "cell_type": "code",
   "execution_count": null,
   "id": "57ed7855",
   "metadata": {},
   "outputs": [
    {
     "data": {
      "text/plain": [
       "{'name1': 'Joseph',\n",
       " 'name2': 'elizabeth',\n",
       " 'name3': 'Aisha',\n",
       " 'name4': 'Tom',\n",
       " 'name5': 'idris',\n",
       " 'name6': 'buşra'}"
      ]
     },
     "metadata": {},
     "output_type": "display_data"
    }
   ],
   "source": [
    "family"
   ]
  },
  {
   "cell_type": "code",
   "execution_count": null,
   "id": "b627fbb6",
   "metadata": {},
   "outputs": [],
   "source": [
    "family[\"name5\"] = \"osman\""
   ]
  },
  {
   "cell_type": "code",
   "execution_count": null,
   "id": "7632cdc5",
   "metadata": {},
   "outputs": [
    {
     "data": {
      "text/plain": [
       "{'name1': 'Joseph',\n",
       " 'name2': 'elizabeth',\n",
       " 'name3': 'Aisha',\n",
       " 'name4': 'Tom',\n",
       " 'name5': 'osman',\n",
       " 'name6': 'buşra'}"
      ]
     },
     "metadata": {},
     "output_type": "display_data"
    }
   ],
   "source": [
    "family"
   ]
  },
  {
   "cell_type": "code",
   "execution_count": null,
   "id": "fd6b5199",
   "metadata": {},
   "outputs": [],
   "source": [
    "# del bir keyword, fonksiyon değildir? Bu keyword'ün yanına boşluk ve indeksleme yapıyoruz.  \n",
    "del family[\"name1\"]  # İndeks içine sadece key yazıyoruz. "
   ]
  },
  {
   "cell_type": "code",
   "execution_count": null,
   "id": "ca36e8e7",
   "metadata": {},
   "outputs": [
    {
     "data": {
      "text/plain": [
       "{'name2': 'elizabeth',\n",
       " 'name3': 'Aisha',\n",
       " 'name4': 'Tom',\n",
       " 'name5': 'osman',\n",
       " 'name6': 'buşra'}"
      ]
     },
     "metadata": {},
     "output_type": "display_data"
    }
   ],
   "source": [
    "family"
   ]
  },
  {
   "cell_type": "code",
   "execution_count": null,
   "id": "a5802a7d",
   "metadata": {},
   "outputs": [],
   "source": [
    "# Aynı anda iki tane simek istediğimizde yan yana virgül ile.  \n",
    "\n",
    "del family[\"name3\"], family[\"name5\"]"
   ]
  },
  {
   "cell_type": "code",
   "execution_count": null,
   "id": "877da819",
   "metadata": {},
   "outputs": [
    {
     "data": {
      "text/plain": [
       "{'name2': 'elizabeth', 'name4': 'Tom', 'name6': 'buşra'}"
      ]
     },
     "metadata": {},
     "output_type": "display_data"
    }
   ],
   "source": [
    "family"
   ]
  },
  {
   "cell_type": "code",
   "execution_count": null,
   "id": "7a08fda2",
   "metadata": {},
   "outputs": [],
   "source": [
    "a = \"clarusway\""
   ]
  },
  {
   "cell_type": "code",
   "execution_count": null,
   "id": "d3eef9b5",
   "metadata": {},
   "outputs": [
    {
     "name": "stdout",
     "output_type": "stream",
     "text": [
      "clarusway\n"
     ]
    }
   ],
   "source": [
    "print(a)"
   ]
  },
  {
   "cell_type": "code",
   "execution_count": null,
   "id": "a3aeab2a",
   "metadata": {},
   "outputs": [],
   "source": [
    "del a  # Bir değişkeni niye silme ihtiyacı duyarız ki, kullanmayız biter ? İşimize yaramayan veriler hafızda çok yer tutmasın diye. "
   ]
  },
  {
   "cell_type": "code",
   "execution_count": null,
   "id": "1818dd58",
   "metadata": {},
   "outputs": [
    {
     "ename": "NameError",
     "evalue": "name 'a' is not defined",
     "output_type": "error",
     "traceback": [
      "\u001b[1;31m---------------------------------------------------------------------------\u001b[0m\n",
      "\u001b[1;31mNameError\u001b[0m                                 Traceback (most recent call last)\n",
      "\u001b[1;32mg:\\Drive'ım\\Masaüstü\\Eğitimler\\Yazılım\\VS Code Genel\\Python In-class\\9- 021022.ipynb Cell 36'\u001b[0m in \u001b[0;36m<module>\u001b[1;34m\u001b[0m\n",
      "\u001b[1;32m----> <a href='vscode-notebook-cell:/g%3A/Drive%27%C4%B1m/Masa%C3%BCst%C3%BC/E%C4%9Fitimler/Yaz%C4%B1l%C4%B1m/VS%20Code%20Genel/Python%20In-class/9-%20021022.ipynb#ch0000034?line=0'>1</a>\u001b[0m \u001b[39mprint\u001b[39m(a)\n",
      "\n",
      "\u001b[1;31mNameError\u001b[0m: name 'a' is not defined"
     ]
    }
   ],
   "source": [
    "print(a)  # Sildiğini teğit ettik. "
   ]
  },
  {
   "cell_type": "code",
   "execution_count": null,
   "id": "48b8d97a",
   "metadata": {},
   "outputs": [],
   "source": [
    "# Herhangi bir iterable içinde herhangi bir eleman var mı yok mu bu kontrol etmemize yarar. \n",
    "in  # True ya da False output veren bir keyword'dür. "
   ]
  },
  {
   "cell_type": "code",
   "execution_count": null,
   "id": "97b36e85",
   "metadata": {},
   "outputs": [
    {
     "data": {
      "text/plain": [
       "False"
      ]
     },
     "metadata": {},
     "output_type": "display_data"
    }
   ],
   "source": [
    "\"i\" in \"clarusway\"  # Clarusway içinde string i harfi var mı diye soru soruyoruz. "
   ]
  },
  {
   "cell_type": "code",
   "execution_count": null,
   "id": "d5adb142",
   "metadata": {},
   "outputs": [
    {
     "data": {
      "text/plain": [
       "True"
      ]
     },
     "metadata": {},
     "output_type": "display_data"
    }
   ],
   "source": [
    "\"a\" in \"clarusway\" "
   ]
  },
  {
   "cell_type": "code",
   "execution_count": null,
   "id": "9dae7fa7",
   "metadata": {},
   "outputs": [
    {
     "data": {
      "text/plain": [
       "False"
      ]
     },
     "metadata": {},
     "output_type": "display_data"
    }
   ],
   "source": [
    "\"A\" in \"clarusway\"  # Büyük harf, küçük harf duyarlılığı vardır. "
   ]
  },
  {
   "cell_type": "code",
   "execution_count": null,
   "id": "ce022126",
   "metadata": {},
   "outputs": [
    {
     "data": {
      "text/plain": [
       "['ali', 'deli', 'veli']"
      ]
     },
     "metadata": {},
     "output_type": "display_data"
    }
   ],
   "source": [
    "# - lerden böl ve her böldüğün string parçasını listenin elemanları haline getir.  \n",
    "\"ali-deli-veli\".split(\"-\")  # Nereden bölmesini istiyorsak parantez içine onu koyuyoruz.  "
   ]
  },
  {
   "cell_type": "code",
   "execution_count": null,
   "id": "6c28ea1a",
   "metadata": {},
   "outputs": [],
   "source": [
    "bootcamp = \"c l a r u s w a y\".split()  # Bunu çok kullanırız. Aralarındaki boşluklardan listeye çeviriyoruz. "
   ]
  },
  {
   "cell_type": "code",
   "execution_count": null,
   "id": "41fe0af8",
   "metadata": {},
   "outputs": [
    {
     "data": {
      "text/plain": [
       "['c', 'l', 'a', 'r', 'u', 's', 'w', 'a', 'y']"
      ]
     },
     "metadata": {},
     "output_type": "display_data"
    }
   ],
   "source": [
    "bootcamp  # Kolay liste yapma yöntemi "
   ]
  },
  {
   "cell_type": "code",
   "execution_count": null,
   "id": "290b98f6",
   "metadata": {},
   "outputs": [
    {
     "data": {
      "text/plain": [
       "True"
      ]
     },
     "metadata": {},
     "output_type": "display_data"
    }
   ],
   "source": [
    "\"a\" in bootcamp  # bootcamp iterable olduğu için elemanları arasında arama yapıyor, kontrol ediyor."
   ]
  },
  {
   "cell_type": "code",
   "execution_count": null,
   "id": "c1f4dad4",
   "metadata": {},
   "outputs": [
    {
     "data": {
      "text/plain": [
       "{'animal': 'dog',\n",
       " 'planet': 'Neptun',\n",
       " 'number': 40,\n",
       " 'pi': 3.14,\n",
       " 'is_good': True}"
      ]
     },
     "metadata": {},
     "output_type": "display_data"
    }
   ],
   "source": [
    "# Aynı şekilde dict ler içinde de yapabiliriz. \n",
    "\n",
    "dict_by_dict"
   ]
  },
  {
   "cell_type": "code",
   "execution_count": null,
   "id": "25625984",
   "metadata": {},
   "outputs": [
    {
     "data": {
      "text/plain": [
       "False"
      ]
     },
     "metadata": {},
     "output_type": "display_data"
    }
   ],
   "source": [
    "\"dog\" in dict_by_dict  # in metodu sadece key olarak bakıyor. "
   ]
  },
  {
   "cell_type": "code",
   "execution_count": null,
   "id": "8990e0ae",
   "metadata": {},
   "outputs": [
    {
     "data": {
      "text/plain": [
       "True"
      ]
     },
     "metadata": {},
     "output_type": "display_data"
    }
   ],
   "source": [
    "\"planet\" in dict_by_dict # key'e baktığı için True"
   ]
  },
  {
   "cell_type": "code",
   "execution_count": null,
   "id": "04664fb2",
   "metadata": {},
   "outputs": [
    {
     "data": {
      "text/plain": [
       "True"
      ]
     },
     "metadata": {},
     "output_type": "display_data"
    }
   ],
   "source": [
    "\"dog\" in dict_by_dict.values()  # Value lar arasından da bu şekilde bakabiliriz. "
   ]
  },
  {
   "cell_type": "code",
   "execution_count": null,
   "id": "b14021d6",
   "metadata": {},
   "outputs": [
    {
     "data": {
      "text/plain": [
       "False"
      ]
     },
     "metadata": {},
     "output_type": "display_data"
    }
   ],
   "source": [
    "not True"
   ]
  },
  {
   "cell_type": "code",
   "execution_count": null,
   "id": "adcd8ef9",
   "metadata": {},
   "outputs": [
    {
     "data": {
      "text/plain": [
       "True"
      ]
     },
     "metadata": {},
     "output_type": "display_data"
    }
   ],
   "source": [
    "\"dog\" not in dict_by_dict  # dog içinde yok mu ? diye soruyoruz not in diyerek. "
   ]
  },
  {
   "cell_type": "code",
   "execution_count": null,
   "id": "921a3c9f",
   "metadata": {},
   "outputs": [],
   "source": [
    "school_records={\n",
    "\t'personal_info':\n",
    "\t\t{'kid':{'tom':{'class':'intermediate', 'age':10},\n",
    "\t\t\t'sue':{'class':'elemantary', 'age':8}\n",
    "\t\t\t},\n",
    "\t\t'teen':{'joseph':{'class':'college', 'age':19},\n",
    "\t\t\t'marry':{'class':'high school', 'age':16}\n",
    "\t\t\t},\n",
    "\t\t},\n",
    "\t'grades_info':\n",
    "\t\t{'kid':{'tom':{'math':88, 'speech':69},\n",
    "\t\t\t'sue':{'math':90, 'speech':81}\n",
    "\t\t\t},\n",
    "\t\t'teen':{'joseph':{'coding':80, 'math':89},\n",
    "\t\t\t'marry':{'coding':70, 'math':96}\n",
    "\t\t\t},\n",
    "\t\t}\n",
    "}"
   ]
  },
  {
   "cell_type": "code",
   "execution_count": null,
   "id": "5aacdcc7",
   "metadata": {},
   "outputs": [
    {
     "data": {
      "text/plain": [
       "2"
      ]
     },
     "metadata": {},
     "output_type": "display_data"
    }
   ],
   "source": [
    "len(school_records)  # Len iterable alır eleman sayısını verir. "
   ]
  },
  {
   "cell_type": "code",
   "execution_count": null,
   "id": "3d7570fc",
   "metadata": {},
   "outputs": [
    {
     "data": {
      "text/plain": [
       "{'kid': {'tom': {'class': 'intermediate', 'age': 10},\n",
       "  'sue': {'class': 'elemantary', 'age': 8}},\n",
       " 'teen': {'joseph': {'class': 'college', 'age': 19},\n",
       "  'marry': {'class': 'high school', 'age': 16}}}"
      ]
     },
     "metadata": {},
     "output_type": "display_data"
    }
   ],
   "source": [
    "school_records[\"personal_info\"]"
   ]
  },
  {
   "cell_type": "code",
   "execution_count": null,
   "id": "a28a7356",
   "metadata": {},
   "outputs": [
    {
     "data": {
      "text/plain": [
       "dict"
      ]
     },
     "metadata": {},
     "output_type": "display_data"
    }
   ],
   "source": [
    "type(school_records[\"personal_info\"])"
   ]
  },
  {
   "cell_type": "code",
   "execution_count": null,
   "id": "9d500512",
   "metadata": {},
   "outputs": [
    {
     "data": {
      "text/plain": [
       "2"
      ]
     },
     "metadata": {},
     "output_type": "display_data"
    }
   ],
   "source": [
    "len(school_records[\"personal_info\"])"
   ]
  },
  {
   "cell_type": "code",
   "execution_count": null,
   "id": "8975dde0",
   "metadata": {},
   "outputs": [
    {
     "data": {
      "text/plain": [
       "{'kid': {'tom': {'math': 88, 'speech': 69}, 'sue': {'math': 90, 'speech': 81}},\n",
       " 'teen': {'joseph': {'coding': 80, 'math': 89},\n",
       "  'marry': {'coding': 70, 'math': 96}}}"
      ]
     },
     "metadata": {},
     "output_type": "display_data"
    }
   ],
   "source": [
    "school_records['grades_info']"
   ]
  },
  {
   "cell_type": "code",
   "execution_count": null,
   "id": "65fdb20b",
   "metadata": {},
   "outputs": [
    {
     "data": {
      "text/plain": [
       "{'tom': {'class': 'intermediate', 'age': 10},\n",
       " 'sue': {'class': 'elemantary', 'age': 8}}"
      ]
     },
     "metadata": {},
     "output_type": "display_data"
    }
   ],
   "source": [
    "school_records[\"personal_info\"][\"kid\"]"
   ]
  },
  {
   "cell_type": "code",
   "execution_count": null,
   "id": "2df8a8c6",
   "metadata": {},
   "outputs": [
    {
     "data": {
      "text/plain": [
       "2"
      ]
     },
     "metadata": {},
     "output_type": "display_data"
    }
   ],
   "source": [
    "len(school_records[\"personal_info\"][\"kid\"])"
   ]
  },
  {
   "cell_type": "code",
   "execution_count": null,
   "id": "c5679042",
   "metadata": {},
   "outputs": [
    {
     "data": {
      "text/plain": [
       "{'class': 'intermediate', 'age': 10}"
      ]
     },
     "metadata": {},
     "output_type": "display_data"
    }
   ],
   "source": [
    "school_records[\"personal_info\"][\"kid\"][\"tom\"]"
   ]
  },
  {
   "cell_type": "code",
   "execution_count": null,
   "id": "18d7a684",
   "metadata": {},
   "outputs": [
    {
     "data": {
      "text/plain": [
       "10"
      ]
     },
     "metadata": {},
     "output_type": "display_data"
    }
   ],
   "source": [
    "school_records[\"personal_info\"][\"kid\"][\"tom\"]['age']  # Key ne ise onunla indeksleyebiliriz. Direk sayı yazamayız.  "
   ]
  },
  {
   "cell_type": "code",
   "execution_count": null,
   "metadata": {},
   "outputs": [
    {
     "data": {
      "text/plain": [
       "{'coding': 80, 'math': 89}"
      ]
     },
     "metadata": {},
     "output_type": "display_data"
    }
   ],
   "source": [
    "school_records['grades_info'][\"teen\"][\"joseph\"]\n"
   ]
  },
  {
   "cell_type": "code",
   "execution_count": null,
   "id": "e7f2727d",
   "metadata": {},
   "outputs": [
    {
     "name": "stdout",
     "output_type": "stream",
     "text": [
      "[('coding', 80), ('math', 89)]\n"
     ]
    }
   ],
   "source": [
    "print(list(school_records['grades_info'][\"teen\"][\"joseph\"].items()))\n"
   ]
  },
  {
   "cell_type": "markdown",
   "id": "dda26ce4",
   "metadata": {},
   "source": [
    "## The most frequent element"
   ]
  },
  {
   "cell_type": "code",
   "execution_count": null,
   "id": "f6f8ea35",
   "metadata": {},
   "outputs": [],
   "source": [
    "numbers = [-1, 3, 7, 4, 3, 0, 3, 16, 3, 7, 0, 0, 1]"
   ]
  },
  {
   "cell_type": "code",
   "execution_count": null,
   "id": "4f52fd90",
   "metadata": {},
   "outputs": [
    {
     "data": {
      "text/plain": [
       "16"
      ]
     },
     "metadata": {},
     "output_type": "display_data"
    }
   ],
   "source": [
    "max(numbers)  # iterable içindeki elemanlardan birini döndürüyor. "
   ]
  },
  {
   "cell_type": "code",
   "execution_count": null,
   "id": "04f1adf9",
   "metadata": {},
   "outputs": [
    {
     "data": {
      "text/plain": [
       "5"
      ]
     },
     "metadata": {},
     "output_type": "display_data"
    }
   ],
   "source": [
    "max(2, 3, 5)"
   ]
  },
  {
   "cell_type": "code",
   "execution_count": null,
   "id": "505cad55",
   "metadata": {},
   "outputs": [
    {
     "data": {
      "text/plain": [
       "'Boş'"
      ]
     },
     "metadata": {},
     "output_type": "display_data"
    }
   ],
   "source": [
    "empty = []  # Boş bir iterable'ın max alırken default'a ne tanımlamışsak onu döndürür. \n",
    "\n",
    "max(empty, default = \"Boş\")"
   ]
  },
  {
   "cell_type": "code",
   "execution_count": null,
   "id": "24c3419a",
   "metadata": {},
   "outputs": [
    {
     "data": {
      "text/plain": [
       "True"
      ]
     },
     "metadata": {},
     "output_type": "display_data"
    }
   ],
   "source": [
    "max(empty, default = True)"
   ]
  },
  {
   "cell_type": "code",
   "execution_count": null,
   "id": "bdb259e1",
   "metadata": {},
   "outputs": [
    {
     "data": {
      "text/plain": [
       "22"
      ]
     },
     "metadata": {},
     "output_type": "display_data"
    }
   ],
   "source": [
    "max(empty, default = 22)"
   ]
  },
  {
   "cell_type": "code",
   "execution_count": null,
   "id": "7a386251",
   "metadata": {},
   "outputs": [],
   "source": [
    "empty = ()"
   ]
  },
  {
   "cell_type": "code",
   "execution_count": null,
   "id": "d4f27666",
   "metadata": {},
   "outputs": [
    {
     "data": {
      "text/plain": [
       "22"
      ]
     },
     "metadata": {},
     "output_type": "display_data"
    }
   ],
   "source": [
    "max(empty, default = 22)"
   ]
  },
  {
   "cell_type": "code",
   "execution_count": null,
   "id": "a7a42ce4",
   "metadata": {},
   "outputs": [],
   "source": [
    "sequence = [1, 1, 1, 1, 2, 2, 2, 3, 3, 4]"
   ]
  },
  {
   "cell_type": "code",
   "execution_count": null,
   "id": "698de2bd",
   "metadata": {},
   "outputs": [
    {
     "data": {
      "text/plain": [
       "4"
      ]
     },
     "metadata": {},
     "output_type": "display_data"
    }
   ],
   "source": [
    "max(sequence)"
   ]
  },
  {
   "cell_type": "code",
   "execution_count": null,
   "id": "398de96e",
   "metadata": {},
   "outputs": [
    {
     "data": {
      "text/plain": [
       "1"
      ]
     },
     "metadata": {},
     "output_type": "display_data"
    }
   ],
   "source": [
    "sequence.count(4)"
   ]
  },
  {
   "cell_type": "code",
   "execution_count": null,
   "id": "cbfd8437",
   "metadata": {},
   "outputs": [
    {
     "data": {
      "text/plain": [
       "4"
      ]
     },
     "metadata": {},
     "output_type": "display_data"
    }
   ],
   "source": [
    "sequence.count(1)"
   ]
  },
  {
   "cell_type": "code",
   "execution_count": null,
   "id": "7bc708a8",
   "metadata": {},
   "outputs": [
    {
     "data": {
      "text/plain": [
       "2"
      ]
     },
     "metadata": {},
     "output_type": "display_data"
    }
   ],
   "source": [
    "sequence.count(3)"
   ]
  },
  {
   "cell_type": "code",
   "execution_count": null,
   "id": "0fb8ceb6",
   "metadata": {},
   "outputs": [
    {
     "data": {
      "text/plain": [
       "3"
      ]
     },
     "metadata": {},
     "output_type": "display_data"
    }
   ],
   "source": [
    "sequence.count(2)"
   ]
  },
  {
   "cell_type": "code",
   "execution_count": null,
   "id": "bb786196",
   "metadata": {},
   "outputs": [
    {
     "data": {
      "text/plain": [
       "[-1, 3, 7, 4, 3, 0, 3, 16, 3, 7, 0, 0, 1]"
      ]
     },
     "metadata": {},
     "output_type": "display_data"
    }
   ],
   "source": [
    "numbers"
   ]
  },
  {
   "cell_type": "code",
   "execution_count": null,
   "id": "f6572fa0",
   "metadata": {},
   "outputs": [
    {
     "data": {
      "text/plain": [
       "16"
      ]
     },
     "metadata": {},
     "output_type": "display_data"
    }
   ],
   "source": [
    "max(numbers)"
   ]
  },
  {
   "cell_type": "code",
   "execution_count": null,
   "id": "25959055",
   "metadata": {},
   "outputs": [
    {
     "data": {
      "text/plain": [
       "1"
      ]
     },
     "metadata": {},
     "output_type": "display_data"
    }
   ],
   "source": [
    "numbers.count(16)"
   ]
  },
  {
   "cell_type": "code",
   "execution_count": null,
   "id": "b8244c64",
   "metadata": {},
   "outputs": [
    {
     "data": {
      "text/plain": [
       "1"
      ]
     },
     "metadata": {},
     "output_type": "display_data"
    }
   ],
   "source": [
    "numbers.count(max(numbers))"
   ]
  },
  {
   "cell_type": "code",
   "execution_count": null,
   "id": "a03ba443",
   "metadata": {},
   "outputs": [
    {
     "data": {
      "text/plain": [
       "3"
      ]
     },
     "metadata": {},
     "output_type": "display_data"
    }
   ],
   "source": [
    "max(numbers, key = numbers.count)  # fonksiyonu numbers a tek tek uygula ve o çıkan sonucun en büyüğünü verir."
   ]
  },
  {
   "cell_type": "code",
   "execution_count": null,
   "id": "beff5b00",
   "metadata": {},
   "outputs": [
    {
     "data": {
      "text/plain": [
       "4"
      ]
     },
     "metadata": {},
     "output_type": "display_data"
    }
   ],
   "source": [
    "numbers.count(max(numbers, key = numbers.count))  #en çok tekrar eden elemanın kaç kez tekrar ettiğini verir."
   ]
  },
  {
   "cell_type": "code",
   "execution_count": null,
   "id": "b564c0e8",
   "metadata": {},
   "outputs": [
    {
     "data": {
      "text/plain": [
       "4"
      ]
     },
     "metadata": {},
     "output_type": "display_data"
    }
   ],
   "source": [
    "numbers.count(max(numbers, key = numbers.count))  "
   ]
  },
  {
   "cell_type": "code",
   "execution_count": null,
   "id": "d9aeb2de",
   "metadata": {},
   "outputs": [],
   "source": [
    "sehirler = [\"istanbul\", \"van\", \"ağrı\", \"ankara\"]"
   ]
  },
  {
   "cell_type": "code",
   "execution_count": null,
   "id": "bce8ee52",
   "metadata": {},
   "outputs": [
    {
     "data": {
      "text/plain": [
       "['ankara', 'ağrı', 'istanbul', 'van']"
      ]
     },
     "metadata": {},
     "output_type": "display_data"
    }
   ],
   "source": [
    "sorted(sehirler)"
   ]
  },
  {
   "cell_type": "code",
   "execution_count": null,
   "id": "ba70b189",
   "metadata": {},
   "outputs": [
    {
     "data": {
      "text/plain": [
       "['van', 'ağrı', 'ankara', 'istanbul']"
      ]
     },
     "metadata": {},
     "output_type": "display_data"
    }
   ],
   "source": [
    "sorted(sehirler, key = len)"
   ]
  },
  {
   "cell_type": "code",
   "execution_count": null,
   "id": "f177732c",
   "metadata": {},
   "outputs": [
    {
     "data": {
      "text/plain": [
       "['istanbul', 'ankara', 'ağrı', 'van']"
      ]
     },
     "metadata": {},
     "output_type": "display_data"
    }
   ],
   "source": [
    "sorted(sehirler, key = len, reverse  = True)  # #sehirler listesine(iterable) len fonksiyonunu çalıştır, ters sırala.(büyükten küçüğe)"
   ]
  },
  {
   "cell_type": "code",
   "execution_count": null,
   "id": "7e0ec124",
   "metadata": {},
   "outputs": [
    {
     "data": {
      "text/plain": [
       "['van', 'ağrı', 'ankara', 'istanbul']"
      ]
     },
     "metadata": {},
     "output_type": "display_data"
    }
   ],
   "source": [
    "sehirler.sort(key  = len)\n",
    "sehirler"
   ]
  },
  {
   "cell_type": "markdown",
   "metadata": {},
   "source": [
    "## 10. DERS"
   ]
  },
  {
   "cell_type": "markdown",
   "metadata": {},
   "source": [
    "## SETS\n",
    "Tekrar eden eleman yoktur (No repetition) - Örneğin bir listeyi kümeye çevirdiğimizde sadece uniqe olanları alır, tekrar edenleri almaz. \n",
    "Matematiksel küme operasyonları yapabiliriz. Sonuçta da yine küme çıktısı verir! (Union-Birleşim, İntersection-Kesişim, difference-fark)\n",
    "Unordered'dırlar. - Biz bir küme oluşturduğumuzda, o kümenin elemanlarını farklı şekilde sıralayabilir, kendi algoritmasına bağlıdır. \n",
    "\n",
    "Bu iki yöntem ile oluşturulur. \n",
    "{}\n",
    "set() - Her zaman ki gibi iterable verileri içine alır. \n",
    "\n",
    "list(), tuple(), dict(), set() bunların hepsi iterable alırlar"
   ]
  },
  {
   "cell_type": "code",
   "execution_count": null,
   "metadata": {},
   "outputs": [
    {
     "name": "stdout",
     "output_type": "stream",
     "text": [
      "{'red', 'blue', 'pink'}\n"
     ]
    },
    {
     "data": {
      "text/plain": [
       "{'blue', 'pink', 'red'}"
      ]
     },
     "metadata": {},
     "output_type": "display_data"
    }
   ],
   "source": [
    "set_1 = {'red', 'blue', 'pink', 'red'}  # Dikket ettiğimiz üzere aynı elemandan 2 adet var manuel olarak yazdığımızda. \n",
    "colors = 'red', 'blue', 'pink', 'red' # Dikkat, buradaki colors ifadesi aslında bir tuple'dır. Parantez koymasak bile tuple olarak algılar python. \n",
    "set_2 = set(colors)  # Bir fonksiyon içine eleman koymaya (Burada olduğu gibi) \"pass an argument\" denir. \n",
    "print(set_1)\n",
    "set(colors)  # Set komutu ile yazdırdığımızda rastgele sıra ile çıktı vermekte ve 2 adet olanları tek bir tane yazdırmakta. "
   ]
  },
  {
   "cell_type": "code",
   "execution_count": null,
   "metadata": {},
   "outputs": [
    {
     "name": "stdout",
     "output_type": "stream",
     "text": [
      "set()\n",
      "<class 'set'>\n"
     ]
    },
    {
     "data": {
      "text/plain": [
       "set"
      ]
     },
     "metadata": {},
     "output_type": "display_data"
    }
   ],
   "source": [
    "empty_set = set()  # Boş küme \n",
    "\n",
    "print(empty_set)\n",
    "print(type(empty_set))\n",
    "type(empty_set)"
   ]
  },
  {
   "cell_type": "code",
   "execution_count": null,
   "metadata": {},
   "outputs": [
    {
     "name": "stdout",
     "output_type": "stream",
     "text": [
      "{'orchid', 'carnation', 'violet', 'rose'}\n",
      "['orchid', 'carnation', 'violet', 'rose']\n"
     ]
    }
   ],
   "source": [
    "flower_list = [\"rose\", \"violet\", \"carnation\", \"rose\", \"orchid\", \"rose\", \"orchid\"]\n",
    "flowerset = set(flower_list)\n",
    "flowerlist = list(flowerset)\n",
    "\n",
    "print(flowerset)\n",
    "print(flowerlist)"
   ]
  },
  {
   "cell_type": "code",
   "execution_count": null,
   "metadata": {},
   "outputs": [
    {
     "data": {
      "text/plain": [
       "{0, 1, 2}"
      ]
     },
     "metadata": {},
     "output_type": "display_data"
    }
   ],
   "source": [
    "ilk_kumem = {1, 1, 2, 0, 1}  # süslü parantez ile manuel bir küme oluşturduk.\n",
    "ilk_kumem"
   ]
  },
  {
   "cell_type": "code",
   "execution_count": null,
   "metadata": {},
   "outputs": [
    {
     "data": {
      "text/plain": [
       "5"
      ]
     },
     "metadata": {},
     "output_type": "display_data"
    }
   ],
   "source": [
    "len([1, 1, 2, 0, 1])\n"
   ]
  },
  {
   "cell_type": "code",
   "execution_count": null,
   "metadata": {},
   "outputs": [
    {
     "data": {
      "text/plain": [
       "3"
      ]
     },
     "metadata": {},
     "output_type": "display_data"
    }
   ],
   "source": [
    "len({1, 1, 2, 0, 1})  # len fonksiyonu iterable'lar ile kullanıldığı için içine küme attık ve sadece uniqe lerini aldı. "
   ]
  },
  {
   "cell_type": "code",
   "execution_count": null,
   "metadata": {},
   "outputs": [
    {
     "name": "stdout",
     "output_type": "stream",
     "text": [
      "['a', 'b', 'c', 'd', 'e', 'f', 'g', 'h', 'i', 'j', 'k', 'l', 'm', 'n', 'o', 'p', 'r', 's', 't', 'u', 'w', 'v', 'y', 'z']\n"
     ]
    }
   ],
   "source": [
    "letter = \"a b c d e f g h i j k l m n o p r s t u w v y z\".split()  # Arada boşluk koyarak split fonsiyonunu kullanınca direk listeye çevirir. \n",
    "print(letter)"
   ]
  },
  {
   "cell_type": "code",
   "execution_count": null,
   "metadata": {},
   "outputs": [
    {
     "name": "stdout",
     "output_type": "stream",
     "text": [
      "{'k', 't', 'd', 'p', 'i', 'y', 'o', 'n', 'm', 'f', 's', 'r', 'u', 'h', 'g', 'a', 'l', 'j', 'w', 'e', 'c', 'z', 'v', 'b'}\n"
     ]
    }
   ],
   "source": [
    "print(set(letter))  # Kümeye çevirdiğimizde karışık olarak verir. "
   ]
  },
  {
   "cell_type": "code",
   "execution_count": null,
   "metadata": {},
   "outputs": [
    {
     "name": "stdout",
     "output_type": "stream",
     "text": [
      "{'k', 't', 'd', 'p', 'i', 'y', 'o', 'n', 'm', 'f', 's', 'r', 'u', 'h', 'g', 'a', 'l', 'j', 'w', 'e', 'c', 'z', 'v', 'b'}\n"
     ]
    }
   ],
   "source": [
    "print(set(letter))  # restart edilmiş hali ve sıra yine değişti sıralama "
   ]
  },
  {
   "cell_type": "code",
   "execution_count": null,
   "metadata": {},
   "outputs": [
    {
     "data": {
      "text/plain": [
       "2"
      ]
     },
     "metadata": {},
     "output_type": "display_data"
    }
   ],
   "source": [
    "şöyle_birşey = {1, \"1\", 1.0}  # 1 = 1.0 dır set için. Görsel olarak farklı gibi olsada bu duruma dikkat. \n",
    "len(şöyle_birşey)"
   ]
  },
  {
   "cell_type": "code",
   "execution_count": null,
   "metadata": {},
   "outputs": [
    {
     "data": {
      "text/plain": [
       "False"
      ]
     },
     "metadata": {},
     "output_type": "display_data"
    }
   ],
   "source": [
    "1 == \"1\""
   ]
  },
  {
   "cell_type": "code",
   "execution_count": null,
   "metadata": {},
   "outputs": [
    {
     "data": {
      "text/plain": [
       "True"
      ]
     },
     "metadata": {},
     "output_type": "display_data"
    }
   ],
   "source": [
    "1 == 1.0 "
   ]
  },
  {
   "cell_type": "code",
   "execution_count": null,
   "metadata": {},
   "outputs": [
    {
     "ename": "TypeError",
     "evalue": "unhashable type: 'list'",
     "output_type": "error",
     "traceback": [
      "\u001b[1;31m---------------------------------------------------------------------------\u001b[0m\n",
      "\u001b[1;31mTypeError\u001b[0m                                 Traceback (most recent call last)\n",
      "\u001b[1;32mg:\\Drive'ım\\Masaüstü\\Eğitimler\\Yazılım\\VS Code Genel\\Python In-class\\022122.ipynb Cell 12'\u001b[0m in \u001b[0;36m<module>\u001b[1;34m\u001b[0m\n",
      "\u001b[0;32m      <a href='vscode-notebook-cell:/g%3A/Drive%27%C4%B1m/Masa%C3%BCst%C3%BC/E%C4%9Fitimler/Yaz%C4%B1l%C4%B1m/VS%20Code%20Genel/Python%20In-class/022122.ipynb#ch0000012?line=0'>1</a>\u001b[0m given_list \u001b[39m=\u001b[39m [\u001b[39m1\u001b[39m, \u001b[39m2\u001b[39m, \u001b[39m3\u001b[39m, \u001b[39m4\u001b[39m, \u001b[39m5\u001b[39m]\n",
      "\u001b[1;32m----> <a href='vscode-notebook-cell:/g%3A/Drive%27%C4%B1m/Masa%C3%BCst%C3%BC/E%C4%9Fitimler/Yaz%C4%B1l%C4%B1m/VS%20Code%20Genel/Python%20In-class/022122.ipynb#ch0000012?line=1'>2</a>\u001b[0m kumemiz \u001b[39m=\u001b[39m {given_list}\n",
      "\n",
      "\u001b[1;31mTypeError\u001b[0m: unhashable type: 'list'"
     ]
    }
   ],
   "source": [
    "given_list = [1, 2, 3, 4, 5]  # Listeyi manuel olarak direk küme içine aldığımızda olmamakta.\n",
    "kumemiz = {given_list}"
   ]
  },
  {
   "cell_type": "code",
   "execution_count": null,
   "metadata": {},
   "outputs": [
    {
     "name": "stdout",
     "output_type": "stream",
     "text": [
      "{(1, 2, 3, 4, 5)}\n"
     ]
    }
   ],
   "source": [
    "given_list = 1, 2, 3, 4, 5  # Küme içine tuple olmasına izin veriyor ama. \n",
    "kumemiz = {given_list}\n",
    "print(kumemiz)"
   ]
  },
  {
   "cell_type": "code",
   "execution_count": null,
   "metadata": {},
   "outputs": [
    {
     "name": "stdout",
     "output_type": "stream",
     "text": [
      "{1, 2, 3, 4, 5}\n"
     ]
    }
   ],
   "source": [
    "given_list = [1, 2, 3, 4, 5]  \n",
    "kumemiz = set(given_list)  # Bir list'i kümeye çevirebiliriz bu şekilde ama direk süslü parantez içinde yazamayız yukarıdaki gibi. \n",
    "print(kumemiz)"
   ]
  },
  {
   "cell_type": "code",
   "execution_count": null,
   "metadata": {},
   "outputs": [
    {
     "ename": "TypeError",
     "evalue": "unhashable type: 'list'",
     "output_type": "error",
     "traceback": [
      "\u001b[1;31m---------------------------------------------------------------------------\u001b[0m\n",
      "\u001b[1;31mTypeError\u001b[0m                                 Traceback (most recent call last)\n",
      "\u001b[1;32mg:\\Drive'ım\\Masaüstü\\Eğitimler\\Yazılım\\VS Code Genel\\Python In-class\\022122.ipynb Cell 17'\u001b[0m in \u001b[0;36m<module>\u001b[1;34m\u001b[0m\n",
      "\u001b[1;32m----> <a href='vscode-notebook-cell:/g%3A/Drive%27%C4%B1m/Masa%C3%BCst%C3%BC/E%C4%9Fitimler/Yaz%C4%B1l%C4%B1m/VS%20Code%20Genel/Python%20In-class/022122.ipynb#ch0000012?line=0'>1</a>\u001b[0m {[\u001b[39m1\u001b[39m, \u001b[39m\"\u001b[39m\u001b[39mbir\u001b[39m\u001b[39m\"\u001b[39m], \u001b[39m1\u001b[39m, \u001b[39m2\u001b[39m}\n",
      "\n",
      "\u001b[1;31mTypeError\u001b[0m: unhashable type: 'list'"
     ]
    }
   ],
   "source": [
    "{[1, \"bir\"], 1, 2} # İçinde liste olduğu için ve liste birden fazla değerden oluştuğu için, aynı zaman da mutable oluduğu için hata veriyor. "
   ]
  },
  {
   "cell_type": "code",
   "execution_count": null,
   "metadata": {},
   "outputs": [
    {
     "ename": "TypeError",
     "evalue": "unhashable type: 'dict'",
     "output_type": "error",
     "traceback": [
      "\u001b[1;31m---------------------------------------------------------------------------\u001b[0m\n",
      "\u001b[1;31mTypeError\u001b[0m                                 Traceback (most recent call last)\n",
      "\u001b[1;32mg:\\Drive'ım\\Masaüstü\\Eğitimler\\Yazılım\\VS Code Genel\\Python In-class\\022122.ipynb Cell 18'\u001b[0m in \u001b[0;36m<module>\u001b[1;34m\u001b[0m\n",
      "\u001b[1;32m----> <a href='vscode-notebook-cell:/g%3A/Drive%27%C4%B1m/Masa%C3%BCst%C3%BC/E%C4%9Fitimler/Yaz%C4%B1l%C4%B1m/VS%20Code%20Genel/Python%20In-class/022122.ipynb#ch0000013?line=0'>1</a>\u001b[0m {{\u001b[39m1\u001b[39m: \u001b[39m\"\u001b[39m\u001b[39mbir\u001b[39m\u001b[39m\"\u001b[39m}, \u001b[39m1\u001b[39m, \u001b[39m2\u001b[39m}\n",
      "\n",
      "\u001b[1;31mTypeError\u001b[0m: unhashable type: 'dict'"
     ]
    }
   ],
   "source": [
    " {{1: \"bir\"}, 1, 2}  # Yine aynı şekilde manuel bir küme içinde dict'de olamıyor. "
   ]
  },
  {
   "cell_type": "code",
   "execution_count": null,
   "metadata": {},
   "outputs": [
    {
     "ename": "TypeError",
     "evalue": "unhashable type: 'set'",
     "output_type": "error",
     "traceback": [
      "\u001b[1;31m---------------------------------------------------------------------------\u001b[0m\n",
      "\u001b[1;31mTypeError\u001b[0m                                 Traceback (most recent call last)\n",
      "\u001b[1;32mg:\\Drive'ım\\Masaüstü\\Eğitimler\\Yazılım\\VS Code Genel\\Python In-class\\022122.ipynb Cell 19'\u001b[0m in \u001b[0;36m<module>\u001b[1;34m\u001b[0m\n",
      "\u001b[1;32m----> <a href='vscode-notebook-cell:/g%3A/Drive%27%C4%B1m/Masa%C3%BCst%C3%BC/E%C4%9Fitimler/Yaz%C4%B1l%C4%B1m/VS%20Code%20Genel/Python%20In-class/022122.ipynb#ch0000014?line=0'>1</a>\u001b[0m {\u001b[39m1\u001b[39m, \u001b[39m2\u001b[39m, {\u001b[39m\"\u001b[39m\u001b[39mali\u001b[39m\u001b[39m\"\u001b[39m, \u001b[39m\"\u001b[39m\u001b[39mveli\u001b[39m\u001b[39m\"\u001b[39m}, \u001b[39m3\u001b[39m, \u001b[39m4\u001b[39m}\n",
      "\n",
      "\u001b[1;31mTypeError\u001b[0m: unhashable type: 'set'"
     ]
    }
   ],
   "source": [
    "{1, 2, {\"ali\", \"veli\"}, 3, 4}  # # Yine aynı şekilde manuel bir küme içinde dict'de olamıyor. "
   ]
  },
  {
   "cell_type": "code",
   "execution_count": null,
   "metadata": {},
   "outputs": [
    {
     "data": {
      "text/plain": [
       "{(3, 4), 1, 2}"
      ]
     },
     "metadata": {},
     "output_type": "display_data"
    }
   ],
   "source": [
    "tuple_set = {1, 2, (3, 4)}  # Sırasını değiştirdi ama tuple yaptı. \n",
    "tuple_set"
   ]
  },
  {
   "cell_type": "markdown",
   "metadata": {},
   "source": [
    "Main Operations with sets (review)"
   ]
  },
  {
   "cell_type": "code",
   "execution_count": null,
   "metadata": {},
   "outputs": [
    {
     "name": "stdout",
     "output_type": "stream",
     "text": [
      "{'carnation', 'archid', 'rose', 'viole'}\n",
      "{'carnation', 'archid', 'rose', 'viole'}\n"
     ]
    }
   ],
   "source": [
    "a = {'carnation', 'archid', 'rose', 'viole'}\n",
    "b = {'rose', 'carnation', 'archid', 'rose', 'viole'}\n",
    "print(a, b, sep=\"\\n\")"
   ]
  },
  {
   "cell_type": "code",
   "execution_count": null,
   "metadata": {},
   "outputs": [
    {
     "data": {
      "text/plain": [
       "{'archid', 'carnation', 'lily', 'rose', 'viole'}"
      ]
     },
     "metadata": {},
     "output_type": "display_data"
    }
   ],
   "source": [
    "a.add(\"lily\") # İstediği herhangi bir yere \"lily\" eklendi. \n",
    "a"
   ]
  },
  {
   "cell_type": "code",
   "execution_count": null,
   "metadata": {},
   "outputs": [
    {
     "name": "stdout",
     "output_type": "stream",
     "text": [
      "{'e', 'l', 'a', 'd', 'i', 'p', 'h'}\n",
      "{'o', 'n', 'l', 'd', 'i', 'p', 'h'}\n"
     ]
    }
   ],
   "source": [
    "a = set(\"philadelphia\")\n",
    "b = set(\"dolphin\")\n",
    "print(a, b, sep=\"\\n\")"
   ]
  },
  {
   "cell_type": "code",
   "execution_count": null,
   "metadata": {},
   "outputs": [
    {
     "name": "stdout",
     "output_type": "stream",
     "text": [
      "{'a', 'e'}\n",
      "{'a', 'e'}\n"
     ]
    }
   ],
   "source": [
    "print(a-b)\n",
    "print(a.difference(b))  # Bunların her ikisi de a'nın b'den farkı demektir. (a fark b)"
   ]
  },
  {
   "cell_type": "code",
   "execution_count": null,
   "metadata": {},
   "outputs": [
    {
     "name": "stdout",
     "output_type": "stream",
     "text": [
      "{'n', 'o'}\n",
      "{'n', 'o'}\n"
     ]
    }
   ],
   "source": [
    "print(b-a)  # Bunların her ikisi de b'nın a'den farkı demektir. (b fark a)\n",
    "print(b.difference(a))"
   ]
  },
  {
   "cell_type": "code",
   "execution_count": null,
   "metadata": {},
   "outputs": [
    {
     "name": "stdout",
     "output_type": "stream",
     "text": [
      "{'e', 'o', 'n', 'l', 'a', 'd', 'p', 'i', 'h'}\n",
      "{'e', 'o', 'n', 'l', 'a', 'd', 'p', 'i', 'h'}\n",
      "{'e', 'o', 'n', 'l', 'a', 'd', 'p', 'i', 'h'}\n",
      "{'e', 'o', 'n', 'l', 'a', 'd', 'p', 'i', 'h'}\n"
     ]
    }
   ],
   "source": [
    "print(a | b)  # Birleşim olduğunda ise | (vertical bar) kullanıyoruz. \n",
    "print(b | a)  # Her üçü de birbirine eşittir.\n",
    "print(a.union(b))\n",
    "print(b.union(a))"
   ]
  },
  {
   "cell_type": "code",
   "execution_count": null,
   "metadata": {},
   "outputs": [
    {
     "name": "stdout",
     "output_type": "stream",
     "text": [
      "{'l', 'd', 'p', 'i', 'h'}\n",
      "{'l', 'd', 'p', 'i', 'h'}\n",
      "{'l', 'd', 'p', 'i', 'h'}\n",
      "{'l', 'd', 'p', 'i', 'h'}\n"
     ]
    }
   ],
   "source": [
    "print(a & b)  # Kesişim olduğunda ise & ile ifade edilir. \n",
    "print(b & a)  # Herbiri birbirine eşittir.\n",
    "print(a.intersection(b))\n",
    "print(b.intersection(a))"
   ]
  },
  {
   "cell_type": "code",
   "execution_count": null,
   "metadata": {},
   "outputs": [
    {
     "name": "stdout",
     "output_type": "stream",
     "text": [
      "{'/', '2', '1', '0'}\n"
     ]
    },
    {
     "data": {
      "text/plain": [
       "{'02/21/2022'}"
      ]
     },
     "metadata": {},
     "output_type": "display_data"
    }
   ],
   "source": [
    "date1 = set(\"02/21/2022\")  # Burada set foksiyonu sayesinde iterable'ı elemanlarına ayırıyoruz ve kümeye dönüştürüyoruz ama aşağıda; \n",
    "date2 = {\"02/21/2022\"}  # Direk süslü parantez içinde tek bir string eleman yer almaktadır. \n",
    "\n",
    "print(date1)\n",
    "date2"
   ]
  },
  {
   "cell_type": "code",
   "execution_count": null,
   "metadata": {},
   "outputs": [
    {
     "data": {
      "text/plain": [
       "{'02/21/2022'}"
      ]
     },
     "metadata": {},
     "output_type": "display_data"
    }
   ],
   "source": [
    "date2"
   ]
  },
  {
   "cell_type": "code",
   "execution_count": null,
   "metadata": {},
   "outputs": [
    {
     "name": "stdout",
     "output_type": "stream",
     "text": [
      "{1, 2, 3, 4, 5}\n"
     ]
    }
   ],
   "source": [
    "given_list = [1, 2, 3, 3, 3, 3, 4, 4, 5, 5]  # Herhangi bir collection'nın sadece uniqe elamanlarını görmek istiyorum dediğiniz de direk set fonksiyonunu kullanmalıyız. \n",
    "unique = set(given_list)  # Burada direk {given_list} yapmak istediğimizde hata veriyordu, UNUTMA. \n",
    "print(unique)\n"
   ]
  },
  {
   "cell_type": "code",
   "execution_count": null,
   "metadata": {},
   "outputs": [
    {
     "name": "stdout",
     "output_type": "stream",
     "text": [
      "{'e', 'g', 'o', 'n', 't', 'l', 'W', 'i'}\n",
      "{'w', 'g', 'o', 'n', 't', 'a', 'i', 's', 'h'} \n",
      "\n",
      "{'l', 'e', 'W'}\n",
      "{'l', 'e', 'W'} \n",
      "\n",
      "{'w', 'a', 'h', 's'}\n",
      "{'w', 'a', 'h', 's'} \n",
      "\n",
      "{'g', 'o', 'n', 't', 'i'}\n",
      "{'g', 'o', 'n', 't', 'i'} \n",
      "\n",
      "{'w', 'e', 'g', 'o', 'n', 't', 'l', 'W', 'a', 's', 'i', 'h'}\n",
      "{'w', 'e', 'g', 'o', 'n', 't', 'l', 'W', 'a', 's', 'i', 'h'}\n"
     ]
    }
   ],
   "source": [
    "new_zeland = set(\"Wellington\")\n",
    "us = set(\"washington\")\n",
    "\n",
    "print(new_zeland)\n",
    "print(us, \"\\n\")\n",
    "\n",
    "print(new_zeland - us) # new_zeland fark us\n",
    "print(new_zeland.difference(us), \"\\n\")\n",
    "\n",
    "print(us - new_zeland)  # Us fark new_zeland\n",
    "print(us.difference(new_zeland), \"\\n\")\n",
    "\n",
    "print(new_zeland & us)  # new_zeland kesişim us\n",
    "print(new_zeland.intersection(us), \"\\n\")\n",
    "\n",
    "print(new_zeland | us)  # new_zeland birleşim us\n",
    "print(new_zeland.union(us))\n",
    "\n"
   ]
  },
  {
   "cell_type": "markdown",
   "metadata": {},
   "source": [
    "## CONTROL FLOW STATEMENTS"
   ]
  },
  {
   "cell_type": "markdown",
   "metadata": {},
   "source": [
    "Python kodlarımızı kontrol etmemize yarayan, istediğimiz doğrultuda yönlendirmemizi sağlayan, istediğimiz şartlarda çalışmasını, istemediğimiz şartlarda çalışmamasını sağlayan, istediğimiz kadar tekrar etmesini sağlamamıza imkan veren kodlar bütünüdür. "
   ]
  },
  {
   "cell_type": "markdown",
   "metadata": {},
   "source": [
    "IF : Koşullu yapılardır, belirli koşullar sağlanınca çalışır, sağlanmayınca çalışmaz. Aşağıdaki formül yapısında kullanılır. \n",
    "\n",
    "if condition : \n",
    "    body  \n",
    "    \n",
    "if satırından sonra mutlaka 4 adet boşluk bıraktığımız girinti yer almalıdır. \n",
    "condition kısmında mutlaka boolean gibi bir iafe yer almalıdır. (True, False, Turty, Falsy) İlla blooean tipinde olmak zorunda değildir. \n",
    "\n"
   ]
  },
  {
   "cell_type": "code",
   "execution_count": null,
   "metadata": {},
   "outputs": [
    {
     "name": "stdout",
     "output_type": "stream",
     "text": [
      "1\n",
      "2\n",
      "3\n",
      "4\n",
      "5\n"
     ]
    }
   ],
   "source": [
    "sayılar = [1, 2, 3, 4, 5]\n",
    "print(sayılar[0])\n",
    "print(sayılar[1])\n",
    "print(sayılar[2])  # Normalde tek tek bu şekilde yazmamız gerekir. \n",
    "print(sayılar[3])\n",
    "print(sayılar[4])"
   ]
  },
  {
   "cell_type": "markdown",
   "metadata": {},
   "source": [
    ">, <, >=, <=, == bunlar her zaman boolean sonuç verirler. "
   ]
  },
  {
   "cell_type": "code",
   "execution_count": null,
   "metadata": {},
   "outputs": [],
   "source": [
    "a = 3\n",
    "b = 0"
   ]
  },
  {
   "cell_type": "code",
   "execution_count": null,
   "metadata": {},
   "outputs": [
    {
     "data": {
      "text/plain": [
       "False"
      ]
     },
     "metadata": {},
     "output_type": "display_data"
    }
   ],
   "source": [
    "b > a  # b büyük müdür a'dan diye soru soruyoruz (Büyük olmadığı için de False veriyor cevap)"
   ]
  },
  {
   "cell_type": "code",
   "execution_count": null,
   "metadata": {},
   "outputs": [
    {
     "name": "stdout",
     "output_type": "stream",
     "text": [
      "ali\n"
     ]
    }
   ],
   "source": [
    "if b > a :  # Burada eğer bu koşulumuz True döndürüyorsa bir alt satırdaki ifadeyi yazdır diyoruz, ama eğer False döndürüyor ise en alttaki satırı. \n",
    "    print(\"hello\")  # Yani True verdiğinde bu body kımsını çalıştırır, aksi halde body'den çıkar. \n",
    "print(\"ali\") "
   ]
  },
  {
   "cell_type": "code",
   "execution_count": null,
   "metadata": {},
   "outputs": [],
   "source": [
    "if condition : \n",
    "    body1\n",
    "    body2\n",
    "outbody "
   ]
  },
  {
   "cell_type": "code",
   "execution_count": null,
   "metadata": {},
   "outputs": [
    {
     "name": "stdout",
     "output_type": "stream",
     "text": [
      "hello world\n",
      "print me in all cases\n"
     ]
    }
   ],
   "source": [
    "if \"0\" : \n",
    "    print(\"hello world\")\n",
    "print(\"print me in all cases\")"
   ]
  },
  {
   "cell_type": "code",
   "execution_count": null,
   "metadata": {},
   "outputs": [],
   "source": [
    "if \"0\" and \"\" :\n",
    "    print(\"hello world\")"
   ]
  },
  {
   "cell_type": "code",
   "execution_count": null,
   "metadata": {},
   "outputs": [],
   "source": [
    "if 0 or \"False\" and None : \n",
    "    print(\"hello universe\")"
   ]
  },
  {
   "cell_type": "code",
   "execution_count": null,
   "metadata": {},
   "outputs": [
    {
     "name": "stdout",
     "output_type": "stream",
     "text": [
      "clarusway\n"
     ]
    }
   ],
   "source": [
    "if 1 :  # Truty olduğu için altındaki print'i çalıştırır. \n",
    "    print(\"clarusway\")"
   ]
  },
  {
   "cell_type": "code",
   "execution_count": null,
   "metadata": {},
   "outputs": [
    {
     "name": "stdout",
     "output_type": "stream",
     "text": [
      "hello\n"
     ]
    }
   ],
   "source": [
    "if -1 :  # Truty olduğu için altındaki print'i çalıştırır. \n",
    "    print(\"hello\")"
   ]
  },
  {
   "cell_type": "code",
   "execution_count": null,
   "metadata": {},
   "outputs": [
    {
     "name": "stdout",
     "output_type": "stream",
     "text": [
      "hello\n"
     ]
    }
   ],
   "source": [
    "if [\"\"] :  # Burada boş bir liste yok, her ne kadar boş bir string de olsa içinde, sonuçta dolu bir liste, o yüzden truty. \n",
    "    print(\"hello\")"
   ]
  },
  {
   "cell_type": "code",
   "execution_count": null,
   "metadata": {},
   "outputs": [
    {
     "name": "stdout",
     "output_type": "stream",
     "text": [
      "it is true\n"
     ]
    }
   ],
   "source": [
    "if True : \n",
    "    print(\"it is true\")"
   ]
  },
  {
   "cell_type": "code",
   "execution_count": null,
   "metadata": {},
   "outputs": [
    {
     "name": "stdout",
     "output_type": "stream",
     "text": [
      "Bon Appetit\n"
     ]
    }
   ],
   "source": [
    "minced_meat = True\n",
    "hamburger_bread = True\n",
    "lettuce = False\n",
    "pepper = True\n",
    "grocery_store = True\n",
    "\n",
    "hamburger = minced_meat and hamburger_bread and (lettuce or pepper) and grocery_store\n",
    "\n",
    "if hamburger : \n",
    "    print(\"Bon Appetit\")"
   ]
  },
  {
   "cell_type": "code",
   "execution_count": null,
   "metadata": {},
   "outputs": [
    {
     "data": {
      "text/plain": [
       "True"
      ]
     },
     "metadata": {},
     "output_type": "display_data"
    }
   ],
   "source": [
    "1 == 1.0"
   ]
  },
  {
   "cell_type": "code",
   "execution_count": null,
   "metadata": {},
   "outputs": [
    {
     "data": {
      "text/plain": [
       "False"
      ]
     },
     "metadata": {},
     "output_type": "display_data"
    }
   ],
   "source": [
    "3 > 3 "
   ]
  },
  {
   "cell_type": "code",
   "execution_count": null,
   "metadata": {},
   "outputs": [
    {
     "data": {
      "text/plain": [
       "True"
      ]
     },
     "metadata": {},
     "output_type": "display_data"
    }
   ],
   "source": [
    "3 >= 3"
   ]
  },
  {
   "cell_type": "code",
   "execution_count": null,
   "metadata": {},
   "outputs": [
    {
     "name": "stdout",
     "output_type": "stream",
     "text": [
      "veli\n"
     ]
    }
   ],
   "source": [
    "if \"ali\" != \"deli\" :  # Sonuç true olduğu için veli'yi yazdırır. \n",
    "    print(\"veli\")"
   ]
  },
  {
   "cell_type": "code",
   "execution_count": null,
   "metadata": {},
   "outputs": [],
   "source": [
    "if \"ali\" == \"Ali\" :  # Sonuç false olduğu için çıktı vermez. \n",
    "    print(\"deli\")"
   ]
  },
  {
   "cell_type": "code",
   "execution_count": null,
   "metadata": {},
   "outputs": [
    {
     "data": {
      "text/plain": [
       "str"
      ]
     },
     "metadata": {},
     "output_type": "display_data"
    }
   ],
   "source": [
    "# input fonksiyonunda kullanıcıdan ne tip bir veri alırsak alalım tipi string'dir. String'de olsa, integer'da olsa alınan veri hep stringdir. \n",
    "type(input(\"bir şey yaz :\"))  # Klavyeden ne girersek girelim sonuç string'dir. "
   ]
  },
  {
   "cell_type": "markdown",
   "metadata": {},
   "source": [
    "Comparison Operators"
   ]
  },
  {
   "cell_type": "code",
   "execution_count": null,
   "metadata": {},
   "outputs": [
    {
     "name": "stdout",
     "output_type": "stream",
     "text": [
      "True\n"
     ]
    }
   ],
   "source": [
    "a = set(\"TWELVE PLUS ONE\")\n",
    "b = set(\"ELEVEN PLUS TWO\")\n",
    "\n",
    "print(a == b)\n"
   ]
  },
  {
   "cell_type": "code",
   "execution_count": null,
   "metadata": {},
   "outputs": [
    {
     "name": "stdout",
     "output_type": "stream",
     "text": [
      "You entered True\n",
      "You entered True\n"
     ]
    }
   ],
   "source": [
    "word = input(\"Please enter Yes or No?\").title().strip() == \"Yes\"\n",
    "\n",
    "if word :\n",
    "    print(\"You entered\", word)\n",
    "print(\"You entered\", word)"
   ]
  },
  {
   "cell_type": "code",
   "execution_count": null,
   "metadata": {},
   "outputs": [
    {
     "name": "stdout",
     "output_type": "stream",
     "text": [
      "You entered True\n"
     ]
    }
   ],
   "source": [
    "# Kullanıcı hepsi küçük ya da hepsi büyük yes yazar ise onu istediğimiz formata çevirmek için title kullandık (baş harf büyük)\n",
    "# Kullanıcı ekstradan boşluk vb girdise onları kırpsın diye strip kullandık.  \n",
    "\n",
    "word = input(\"Please enter Yes or No?\").title().strip() == \"Yes\" # input içerisinden bize gelecek olan veri string olduğu için string metodlarını uyguladık.\n",
    "print(\"You entered\", word) "
   ]
  },
  {
   "cell_type": "code",
   "execution_count": null,
   "metadata": {},
   "outputs": [
    {
     "name": "stdout",
     "output_type": "stream",
     "text": [
      "You entered False\n"
     ]
    }
   ],
   "source": [
    "print(f\"You entered {input('Please enter Yes or No?').title().strip() == 'Yes'}\")"
   ]
  },
  {
   "cell_type": "markdown",
   "metadata": {},
   "source": [
    "## 11. DERS"
   ]
  },
  {
   "cell_type": "markdown",
   "metadata": {},
   "source": [
    "IF-ELSE"
   ]
  },
  {
   "cell_type": "code",
   "execution_count": null,
   "metadata": {},
   "outputs": [],
   "source": [
    "if condition1: \n",
    "    execute body1\n",
    "else :\n",
    "    execute body2"
   ]
  },
  {
   "cell_type": "code",
   "execution_count": null,
   "metadata": {},
   "outputs": [
    {
     "name": "stdout",
     "output_type": "stream",
     "text": [
      "you guaranteed the job\n"
     ]
    }
   ],
   "source": [
    "course = \"clarusway\"\n",
    "if course == \"clarusway\" :  # Bu kurs clarusway'e mi eşit ? \n",
    "    print(\"you guaranteed the job\")\n",
    "else : \n",
    "    print(\"think about it again\")"
   ]
  },
  {
   "cell_type": "code",
   "execution_count": null,
   "metadata": {},
   "outputs": [
    {
     "name": "stdout",
     "output_type": "stream",
     "text": [
      "Number is bigger than 3\n"
     ]
    }
   ],
   "source": [
    "number = 5 \n",
    "if number <= 3 : \n",
    "    print(\"Number is smaller than or equal to 3\")\n",
    "else : \n",
    "    print(\"Number is bigger than 3\")"
   ]
  },
  {
   "cell_type": "code",
   "execution_count": null,
   "metadata": {},
   "outputs": [
    {
     "name": "stdout",
     "output_type": "stream",
     "text": [
      "12 is even\n"
     ]
    }
   ],
   "source": [
    "number = int(input(\"Please enter a number :\"))\n",
    "if number % 2 == 0 :\n",
    "    print(number, \"is even\")\n",
    "else :\n",
    "    print(number, \"is odd\") "
   ]
  },
  {
   "cell_type": "code",
   "execution_count": null,
   "metadata": {},
   "outputs": [
    {
     "name": "stdout",
     "output_type": "stream",
     "text": [
      "3.0 is positive number\n"
     ]
    }
   ],
   "source": [
    "number = float(input(\"Please enter a number except 0 :\"))\n",
    "if number < 0 :\n",
    "    print(\"{} is negative number\".format(number))\n",
    "else : \n",
    "    print(\"{} is positive number\".format(number))"
   ]
  },
  {
   "cell_type": "code",
   "execution_count": null,
   "metadata": {},
   "outputs": [
    {
     "name": "stdout",
     "output_type": "stream",
     "text": [
      "35.0 is the large number\n"
     ]
    }
   ],
   "source": [
    "number1 = float(input(\"Please enter a first number :\"))\n",
    "number2 = float(input(\"Please enter a second number :\"))\n",
    "if number1 > number2 :\n",
    "    print(f\"{number1} is the large number\")\n",
    "else :\n",
    "    print(f\"{number2} is the large number\")"
   ]
  },
  {
   "cell_type": "code",
   "execution_count": null,
   "metadata": {},
   "outputs": [
    {
     "name": "stdout",
     "output_type": "stream",
     "text": [
      "Yes\n"
     ]
    }
   ],
   "source": [
    "bool_value = True\n",
    "\n",
    "if bool_value :\n",
    "    print(\"Yes\")\n",
    "else :\n",
    "    print(\"No\")"
   ]
  },
  {
   "cell_type": "markdown",
   "metadata": {},
   "source": [
    "IF - ELIF - ELSE "
   ]
  },
  {
   "cell_type": "code",
   "execution_count": null,
   "metadata": {},
   "outputs": [],
   "source": [
    "if condition1:\n",
    "    execute body1\n",
    "elif condition2:\n",
    "    execute body2\n",
    "else:\n",
    "    execute body3"
   ]
  },
  {
   "cell_type": "code",
   "execution_count": null,
   "metadata": {},
   "outputs": [
    {
     "name": "stdout",
     "output_type": "stream",
     "text": [
      "No such audience, stay at your home\n"
     ]
    }
   ],
   "source": [
    "audience = \"baby\"\n",
    "\n",
    "if audience == \"kid\" :\n",
    "    print(\"it is free to go to cinema\")\n",
    "elif audience == \"teen\" :\n",
    "    print(\"discounted price!\")\n",
    "elif audience == \"adult\" :\n",
    "    print(\"normal price\")\n",
    "else : \n",
    "    print(\"No such audience, stay at your home\")"
   ]
  },
  {
   "cell_type": "code",
   "execution_count": null,
   "metadata": {},
   "outputs": [
    {
     "name": "stdout",
     "output_type": "stream",
     "text": [
      "The largest number is 35.0\n"
     ]
    }
   ],
   "source": [
    "num_1 = float(input(\"Enter first number :\"))\n",
    "num_2 = float(input(\"Enter second number :\"))\n",
    "num_3 = float(input(\"Enter third number :\"))\n",
    "\n",
    "if (num_1 > num_2) and (num_1 > num_3) : \n",
    "    print(f\"The largest number is {num_1}\")\n",
    "elif (num_2 > num_1) and (num_2 > num_3) : \n",
    "    print(f\"The largest number is {num_2}\")\n",
    "else :\n",
    "    print(f\"The largest number is {num_3}\")\n"
   ]
  },
  {
   "cell_type": "code",
   "execution_count": null,
   "metadata": {},
   "outputs": [
    {
     "name": "stdout",
     "output_type": "stream",
     "text": [
      "The largest number is: 25.0\n"
     ]
    }
   ],
   "source": [
    "first_number = float(input(\"Lütfen 1. sayıyı giriniz?\"))\n",
    "seccond_number =float(input(\"Lütfen 2. sayıyı giriniz?\"))\n",
    "third_number = float(input(\"Lütfen 3. sayıyı giriniz?\"))\n",
    "if (first_number > seccond_number) and (first_number > third_number) :\n",
    "    largest = first_number\n",
    "elif (seccond_number > first_number ) and (seccond_number > third_number) :\n",
    "    largest = seccond_number\n",
    "else :\n",
    "    largest = third_number\n",
    "\n",
    "print((\"The largest number is:\"),largest)"
   ]
  },
  {
   "cell_type": "code",
   "execution_count": null,
   "metadata": {},
   "outputs": [
    {
     "name": "stdout",
     "output_type": "stream",
     "text": [
      "25.0 is positive number\n"
     ]
    }
   ],
   "source": [
    "number = float(input(\"Enter a number :\"))\n",
    "if number > 0 : \n",
    "    print(\"{} is positive number\".format(number))\n",
    "elif number == 0 : \n",
    "    print(\"{} is notr\".format(number))\n",
    "else :\n",
    "    print(\"{} is negative number\".format(number))"
   ]
  },
  {
   "cell_type": "code",
   "execution_count": null,
   "metadata": {},
   "outputs": [
    {
     "name": "stdout",
     "output_type": "stream",
     "text": [
      "B-\n"
     ]
    }
   ],
   "source": [
    "exam_score = float(input(\"Öğrencinin sınav notunu giriniz?\"))\n",
    "if exam_score >= 95 :\n",
    "    print(\"A+\")\n",
    "elif exam_score < 95 and exam_score >= 90 :\n",
    "    print(\"A\")\n",
    "elif exam_score < 90 and exam_score >= 85 :\n",
    "    print(\"B+\")\n",
    "elif exam_score < 85 and exam_score >= 80 :\n",
    "    print(\"B\")\n",
    "else:\n",
    "    print(\"B-\")\n"
   ]
  },
  {
   "cell_type": "markdown",
   "metadata": {},
   "source": [
    "NESTED STRUCTURE OF PRE-CLASS EXAMPLES"
   ]
  },
  {
   "cell_type": "code",
   "execution_count": null,
   "metadata": {},
   "outputs": [
    {
     "name": "stdout",
     "output_type": "stream",
     "text": [
      "discounted price!\n"
     ]
    }
   ],
   "source": [
    "audience_group = \"kid\", \"teen\", \"adult\"\n",
    "audience = \"teen\"\n",
    "\n",
    "if audience in audience_group : \n",
    "    if audience == \"kid\" : \n",
    "        print(\"it is free to go to cinema\")\n",
    "    elif audience == \"teen\" : \n",
    "        print(\"discounted price!\")\n",
    "    else :\n",
    "        print(\"normal price\")\n",
    "\n",
    "else :\n",
    "    print(\"No such audience, stay at home!\")"
   ]
  },
  {
   "cell_type": "code",
   "execution_count": null,
   "metadata": {},
   "outputs": [
    {
     "name": "stdout",
     "output_type": "stream",
     "text": [
      "student's degree is B\n"
     ]
    }
   ],
   "source": [
    "score = int(input('enter student\\'s number :'))\n",
    "if score >= 90 : \n",
    "    if score >= 95 :\n",
    "        print(\"Student's degree is A+\")\n",
    "    else :\n",
    "        print(\"student's degree is A\")\n",
    "elif score >= 80 :\n",
    "    if score >= 85 :\n",
    "        print(\"Student's degree is B+\")\n",
    "    else :\n",
    "        print(\"student's degree is B\")\n",
    "else : \n",
    "    print(\"Below B\")"
   ]
  },
  {
   "cell_type": "code",
   "execution_count": null,
   "metadata": {},
   "outputs": [
    {
     "name": "stdout",
     "output_type": "stream",
     "text": [
      "Your degree: B+\n"
     ]
    }
   ],
   "source": [
    "score = int(input('enter student\\'s number :'))\n",
    "if score >= 90 : \n",
    "    if score >= 95 :\n",
    "        score_letter = \"A+\"\n",
    "    else :\n",
    "        score_letter = \"A\"\n",
    "elif score >= 80 :\n",
    "    if score >= 85 :\n",
    "        score_letter = \"B+\"\n",
    "    else :\n",
    "        score_letter = \"B\"\n",
    "else : \n",
    "    print(\"Below B\")\n",
    "print(\"Your degree:\", score_letter)"
   ]
  },
  {
   "cell_type": "code",
   "execution_count": null,
   "metadata": {},
   "outputs": [
    {
     "name": "stdout",
     "output_type": "stream",
     "text": [
      "B\n"
     ]
    }
   ],
   "source": [
    "# NESTED olmadan boolean olarak çözümü (Kendime ait)\n",
    "\n",
    "exam_score = float(input(\"Öğrencinin sınav notunu giriniz?\"))\n",
    "if exam_score >= 95 :\n",
    "    print(\"A+\")\n",
    "elif exam_score < 95 and exam_score >= 90 :\n",
    "    print(\"A\")\n",
    "elif exam_score < 90 and exam_score >= 85 :\n",
    "    print(\"B+\")\n",
    "elif exam_score < 85 and exam_score >= 80 :\n",
    "    print(\"B\")\n",
    "else:\n",
    "    print(\"B-\")"
   ]
  },
  {
   "cell_type": "markdown",
   "metadata": {},
   "source": [
    "## LOOPS\n",
    "\n",
    "While Loop : Bir condition vardır yani TRUE, FALSE vardır. Eğer bir condition eğer TRUE ise sürekli devam eder kod bloğu içinde. Condition FALSE'a döndüğü anda body'den çıkıyor. \n",
    "For Loop : Sayı sayıyor, mesela bir iterable'ın eleman sayısı üzerinde iterate ediyorsak ve eleman sayısı 5 ise 5 kere kodumuzu çalıştırıyor. Eğer 1000 ise 1000 kere kodumuzu çalıştırıyor. O sayıyı bitirene kadar iterate ediyor (yeniliyor) Sırayla teker teker kod bloğunu çalıştırır. "
   ]
  },
  {
   "cell_type": "markdown",
   "metadata": {},
   "source": [
    "While Loop "
   ]
  },
  {
   "cell_type": "code",
   "execution_count": null,
   "metadata": {},
   "outputs": [],
   "source": [
    "while conditions :  # While condition'ı TRUE döndüğü sürece alt kısmındaki body de yer alanları sürekli çalıştırır. False olduğunda durur. \n",
    "    body "
   ]
  },
  {
   "cell_type": "code",
   "execution_count": null,
   "metadata": {},
   "outputs": [],
   "source": [
    "while 0 :  # Buradaki condition 0 olduğu için Falsy'dir ve döngüye girmez. \n",
    "    print(\"sıfır\")"
   ]
  },
  {
   "cell_type": "code",
   "execution_count": null,
   "metadata": {},
   "outputs": [
    {
     "name": "stdout",
     "output_type": "stream",
     "text": [
      "0\n",
      "1\n",
      "2\n",
      "3\n",
      "4\n",
      "5\n",
      "now, number is bigger or equal to 6\n"
     ]
    }
   ],
   "source": [
    "number = 0\n",
    "while number < 6 :\n",
    "    print(number)\n",
    "    number += 1\n",
    "print(\"now, number is bigger or equal to 6\")\n"
   ]
  },
  {
   "cell_type": "code",
   "execution_count": null,
   "metadata": {},
   "outputs": [],
   "source": [
    "condition = 5  # False'a eşit olamadığı için sonsuz döngüye girer. \n",
    "while condition :\n",
    "    print(condition)"
   ]
  },
  {
   "cell_type": "code",
   "execution_count": null,
   "metadata": {},
   "outputs": [
    {
     "name": "stdout",
     "output_type": "stream",
     "text": [
      "4\n",
      "3\n",
      "2\n",
      "1\n",
      "0\n"
     ]
    }
   ],
   "source": [
    "condition = 5  # False'a eşit olamadığı için sonsuz döngüye girer. Sonsuz döngüden çıkabilmek için ise break yapıyoruz.  \n",
    "while True :\n",
    "    condition -= 1\n",
    "    print(condition)\n",
    "    \n",
    "    if condition == 0 :\n",
    "        break"
   ]
  },
  {
   "cell_type": "markdown",
   "metadata": {},
   "source": [
    "## 12. DERS"
   ]
  },
  {
   "cell_type": "code",
   "execution_count": null,
   "metadata": {},
   "outputs": [],
   "source": [
    "while condition1 :\n",
    "    body1\n",
    "    while condition2 : \n",
    "        body2\n",
    "        break\n",
    "    break"
   ]
  },
  {
   "cell_type": "code",
   "execution_count": null,
   "metadata": {},
   "outputs": [
    {
     "name": "stdout",
     "output_type": "stream",
     "text": [
      "square of 0 is : 0\n",
      "square of 1 is : 1\n",
      "square of 2 is : 4\n",
      "square of 3 is : 9\n",
      "square of 4 is : 16\n"
     ]
    }
   ],
   "source": [
    "my_list = [\"a\", \"b\", \"c\", \"d\", \"e\"]\n",
    "a = 0\n",
    "while a < len(my_list) : \n",
    "    print(\"square of {} is : {}\".format(a, a**2))\n",
    "    a += 1\n"
   ]
  },
  {
   "cell_type": "code",
   "execution_count": null,
   "metadata": {},
   "outputs": [
    {
     "data": {
      "text/plain": [
       "False"
      ]
     },
     "metadata": {},
     "output_type": "display_data"
    }
   ],
   "source": [
    "\"cka\".isnumeric()"
   ]
  },
  {
   "cell_type": "code",
   "execution_count": null,
   "metadata": {},
   "outputs": [
    {
     "name": "stdout",
     "output_type": "stream",
     "text": [
      "You entered incorrectly\n",
      "You entered incorrectly\n",
      "Thank you\n"
     ]
    }
   ],
   "source": [
    "user_age = input(\"Enter your age :\")\n",
    "\n",
    "while not user_age.isdigit() :\n",
    "    print(\"You entered incorrectly\")\n",
    "    user_age = input(\"Enter your age again :\")\n",
    "\n",
    "\n",
    "print(\"Thank you\")"
   ]
  },
  {
   "cell_type": "code",
   "execution_count": null,
   "metadata": {},
   "outputs": [
    {
     "data": {
      "text/plain": [
       "False"
      ]
     },
     "metadata": {},
     "output_type": "display_data"
    }
   ],
   "source": [
    "yaş = \"onanltı\"\n",
    "yaş.isdigit()  # Girilen tüm değerlerin string olarak 0,1,2,...9 olmasını istiyor. \n"
   ]
  },
  {
   "cell_type": "code",
   "execution_count": null,
   "metadata": {},
   "outputs": [
    {
     "name": "stdout",
     "output_type": "stream",
     "text": [
      "Great! You entered valid input\n"
     ]
    }
   ],
   "source": [
    "age = input(\"how old are you?\")\n",
    "\n",
    "while not age.isdigit() : \n",
    "\n",
    "    print(\"You entered incorrectly\")\n",
    "\n",
    "    age = input(\"Enter your age please\")\n",
    "\n",
    "print(\"Great! You entered valid input\")"
   ]
  },
  {
   "cell_type": "code",
   "execution_count": null,
   "metadata": {},
   "outputs": [
    {
     "name": "stdout",
     "output_type": "stream",
     "text": [
      "Bilemedin\n",
      "Bilemedin\n",
      "Bilemedin\n",
      "Tebrik ederim, bildin\n"
     ]
    }
   ],
   "source": [
    "number = 15\n",
    "guess_number = int(input(\"Aklımdaki sayıyı tahmin et?\"))\n",
    "\n",
    "while number > guess_number :\n",
    "    print(\"Bilemedin\")\n",
    "    guess_number = int(input(\"Biraz yukarı, tekrar tahmin et?\"))\n",
    "    while number < guess_number :\n",
    "        print(\"Bilemedin\")\n",
    "        guess_number = int(input(\"Biraz aşağı, tekrar tahmin et?\"))\n",
    "\n",
    "if number == guess_number :\n",
    "        print(\"Tebrik ederim, bildin\")"
   ]
  },
  {
   "cell_type": "code",
   "execution_count": null,
   "metadata": {},
   "outputs": [
    {
     "name": "stdout",
     "output_type": "stream",
     "text": [
      "Little lower...\n",
      "Are you a MINDREADER!!\n"
     ]
    }
   ],
   "source": [
    "number = 15\n",
    "\n",
    "while True :\n",
    "    guess = int(input(\"enter a number : \"))\n",
    "    if guess < number :\n",
    "        print(\"Little higher...\") \n",
    "    \n",
    "    elif guess > number :\n",
    "         print(\"Little lower...\")\n",
    "   \n",
    "    else :\n",
    "        print(\"Are you a MINDREADER!!\")\n",
    "        break\n",
    "\n",
    "\n"
   ]
  },
  {
   "cell_type": "code",
   "execution_count": null,
   "metadata": {},
   "outputs": [
    {
     "name": "stdout",
     "output_type": "stream",
     "text": [
      "The lenght of the longest word is 9\n"
     ]
    }
   ],
   "source": [
    "sentence = input(\"Please enter a sentence at least 2 word :\")\n",
    "list_sentence = sentence.split()\n",
    "lenght_list = len(list_sentence)\n",
    "lengt_assume = 0\n",
    "longest = 0\n",
    "\n",
    "while lengt_assume < lenght_list :\n",
    "    if len(list_sentence[lengt_assume]) > longest :\n",
    "        longest = len(list_sentence[lengt_assume])\n",
    "\n",
    "    lengt_assume += 1\n",
    "print(\"The lenght of the longest word is\", longest)\n",
    "\n"
   ]
  },
  {
   "cell_type": "code",
   "execution_count": null,
   "metadata": {},
   "outputs": [
    {
     "name": "stdout",
     "output_type": "stream",
     "text": [
      "The lenght of the longest word :  8\n"
     ]
    }
   ],
   "source": [
    "sentence = input(\"Enter a sentence at least 2 word?\")\n",
    "word_list= sentence.split()\n",
    "longest = 0\n",
    "i = 0\n",
    "while i < len(word_list) :\n",
    "    if len(word_list[i]) > longest :\n",
    "            longest = len(word_list[i])\n",
    "\n",
    "    i += 1\n",
    "\n",
    "print(\"The lenght of the longest word : \", longest)"
   ]
  },
  {
   "cell_type": "markdown",
   "metadata": {},
   "source": [
    "## FOR LOOP \n",
    "Burada bir şart ya da koşul yoktur. Sadece bir iterable var ve bu iterable'ın değişkene (variable) atanması durumu var. "
   ]
  },
  {
   "cell_type": "code",
   "execution_count": null,
   "metadata": {},
   "outputs": [],
   "source": [
    "for variable in iterable : \n",
    "    body"
   ]
  },
  {
   "cell_type": "code",
   "execution_count": null,
   "metadata": {},
   "outputs": [
    {
     "name": "stdout",
     "output_type": "stream",
     "text": [
      "1\n",
      "2\n",
      "3\n",
      "4\n",
      "5\n"
     ]
    }
   ],
   "source": [
    "for i in [1, 2, 3, 4, 5] :\n",
    "    print(i)  # Bu bizim code body miz. "
   ]
  },
  {
   "cell_type": "code",
   "execution_count": null,
   "metadata": {},
   "outputs": [
    {
     "name": "stdout",
     "output_type": "stream",
     "text": [
      "ali\n",
      "deli\n",
      "veli\n"
     ]
    }
   ],
   "source": [
    "benim_listem = [\"ali\", \"deli\", \"veli\"]\n",
    "print(benim_listem[0])\n",
    "print(benim_listem[1])\n",
    "print(benim_listem[2])  # Normalde tek tek bu şekilde yazdırmamız gerekirken for ile tek bir kere de yazdırabiliriz. "
   ]
  },
  {
   "cell_type": "code",
   "execution_count": null,
   "metadata": {},
   "outputs": [
    {
     "name": "stdout",
     "output_type": "stream",
     "text": [
      "ali\n",
      "deli\n",
      "veli\n"
     ]
    }
   ],
   "source": [
    "benim_listem = [\"ali\", \"deli\", \"veli\"]\n",
    "for i in benim_listem :\n",
    "    print(i)"
   ]
  },
  {
   "cell_type": "code",
   "execution_count": null,
   "metadata": {},
   "outputs": [
    {
     "name": "stdout",
     "output_type": "stream",
     "text": [
      "Hello Ahmed\n",
      "Hello Aisha\n",
      "Hello Adam\n",
      "Hello Joseph\n",
      "Hello Beyza\n"
     ]
    }
   ],
   "source": [
    "names = [\"Ahmed\", \"Aisha\", \"Adam\", \"Joseph\", \"Beyza\"]\n",
    "for name in names : \n",
    "    print(\"Hello\", name)"
   ]
  },
  {
   "cell_type": "code",
   "execution_count": null,
   "metadata": {},
   "outputs": [
    {
     "name": "stdout",
     "output_type": "stream",
     "text": [
      "Hello Ahmed\n",
      "Hello AishaAdam\n",
      "Hello Joseph\n",
      "Hello Gabriel\n"
     ]
    }
   ],
   "source": [
    "names = [\"Ahmed\", \"Aisha\" \"Adam\", \"Joseph\", \"Gabriel\"]\n",
    "for name in names:\n",
    "    print(f\"Hello {name}\")"
   ]
  },
  {
   "cell_type": "code",
   "execution_count": null,
   "metadata": {},
   "outputs": [
    {
     "name": "stdout",
     "output_type": "stream",
     "text": [
      "Hello Ahmed\n",
      "Hello AishaAdam\n",
      "Hello Joseph\n",
      "Hello Gabriel\n"
     ]
    }
   ],
   "source": [
    "names = [\"Ahmed\", \"Aisha\" \"Adam\", \"Joseph\", \"Gabriel\"]\n",
    "for name in names:\n",
    "    print(\"Hello {}\".format(name))"
   ]
  },
  {
   "cell_type": "code",
   "execution_count": null,
   "metadata": {},
   "outputs": [],
   "source": [
    "List_range = list(range(1,6))"
   ]
  },
  {
   "cell_type": "code",
   "execution_count": null,
   "metadata": {},
   "outputs": [
    {
     "name": "stdout",
     "output_type": "stream",
     "text": [
      "1\n",
      "2\n",
      "3\n",
      "4\n",
      "5\n"
     ]
    }
   ],
   "source": [
    "for i in List_range : \n",
    "    print(i)"
   ]
  },
  {
   "cell_type": "code",
   "execution_count": null,
   "metadata": {},
   "outputs": [
    {
     "name": "stdout",
     "output_type": "stream",
     "text": [
      "[1]\n",
      "[1, 2]\n",
      "[1, 2, 3]\n",
      "[1, 2, 3, 4]\n",
      "[1, 2, 3, 4, 5]\n"
     ]
    }
   ],
   "source": [
    "numbers = []  # Boş liste oluşturduk ve içine eleman atacağız. \n",
    "for i in range(1, 6) : \n",
    "    numbers.append(i)\n",
    "    print(numbers)\n"
   ]
  },
  {
   "cell_type": "markdown",
   "metadata": {},
   "source": [
    "Aşağıda elemanlarına ayrılabilen metodlar yer almaktadır. Yani iterable lar. \n",
    "\n",
    "str\n",
    "list\n",
    "tuple\n",
    "dict\n",
    "set"
   ]
  },
  {
   "cell_type": "code",
   "execution_count": null,
   "metadata": {},
   "outputs": [
    {
     "name": "stdout",
     "output_type": "stream",
     "text": [
      "a\n",
      "l\n",
      "i\n"
     ]
    }
   ],
   "source": [
    "for i in \"ali\" :\n",
    "    print(i)"
   ]
  },
  {
   "cell_type": "code",
   "execution_count": null,
   "metadata": {},
   "outputs": [
    {
     "ename": "TypeError",
     "evalue": "'int' object is not iterable",
     "output_type": "error",
     "traceback": [
      "\u001b[1;31m---------------------------------------------------------------------------\u001b[0m\n",
      "\u001b[1;31mTypeError\u001b[0m                                 Traceback (most recent call last)\n",
      "Input \u001b[1;32mIn [26]\u001b[0m, in \u001b[0;36m<module>\u001b[1;34m\u001b[0m\n",
      "\u001b[1;32m----> 1\u001b[0m \u001b[39mfor\u001b[39;00m i \u001b[39min\u001b[39;00m \u001b[39m5\u001b[39m :\n",
      "\u001b[0;32m      2\u001b[0m     \u001b[39mprint\u001b[39m(i)\n",
      "\n",
      "\u001b[1;31mTypeError\u001b[0m: 'int' object is not iterable"
     ]
    }
   ],
   "source": [
    "for i in 5 :\n",
    "    print(i)"
   ]
  },
  {
   "cell_type": "code",
   "execution_count": null,
   "metadata": {},
   "outputs": [
    {
     "name": "stdout",
     "output_type": "stream",
     "text": [
      "c-l-a-r-u-s-w-a-y"
     ]
    }
   ],
   "source": [
    "word = input(\"enter a word\")\n",
    "counter = 0\n",
    "for i in word : \n",
    "    counter += 1\n",
    "    if counter < len(word) :\n",
    "        i += \"-\"\n",
    "    print(i, end = \"\")\n"
   ]
  },
  {
   "cell_type": "markdown",
   "metadata": {},
   "source": [
    "## 13. DERS"
   ]
  },
  {
   "cell_type": "code",
   "execution_count": null,
   "metadata": {},
   "outputs": [
    {
     "name": "stdout",
     "output_type": "stream",
     "text": [
      "name\n",
      "surname\n",
      "age\n"
     ]
    }
   ],
   "source": [
    "user = {\n",
    "    \"name\" : \"Daniel\", \n",
    "    \"surname\" : \"Smith\", \n",
    "    \"age\" : 35\n",
    "}\n",
    "for attribute in user :   #Sadece keyler gelir. \n",
    "    print(attribute)"
   ]
  },
  {
   "cell_type": "code",
   "execution_count": null,
   "metadata": {},
   "outputs": [
    {
     "name": "stdout",
     "output_type": "stream",
     "text": [
      "Daniel Smith 35 "
     ]
    }
   ],
   "source": [
    "user = {\n",
    "    \"name\" : \"Daniel\",   # for döngüleri iterable'ın uzunluğu kadar iterate (tekrar eder) eder. \n",
    "    \"surname\" : \"Smith\", \n",
    "    \"age\" : 35\n",
    "}\n",
    "for i in user.values() :   \n",
    "    print(i, end =\" \")"
   ]
  },
  {
   "cell_type": "code",
   "execution_count": null,
   "metadata": {},
   "outputs": [
    {
     "name": "stdout",
     "output_type": "stream",
     "text": [
      "hello\n",
      "hello\n",
      "hello\n"
     ]
    }
   ],
   "source": [
    "for i in \"abc\"  :  # Buradaki i değişkenini illa ki kod bloğumuz içinde kullanmak zorunda değiliz. \"abc\" string ifadesi iterable olduğu için ve  \n",
    "    print(\"hello\")  # uzunluğu da 3 olduğu için 3 kere iterate eder. "
   ]
  },
  {
   "cell_type": "code",
   "execution_count": null,
   "metadata": {},
   "outputs": [
    {
     "name": "stdout",
     "output_type": "stream",
     "text": [
      "name : Daniel\n",
      "surname : Smith\n",
      "age : 35\n"
     ]
    }
   ],
   "source": [
    "user = {\n",
    "    \"name\" : \"Daniel\",    \n",
    "    \"surname\" : \"Smith\",  # for dan sonra 2 ve daha fazla değişken de kullanabiliriz. \n",
    "    \"age\" : 35\n",
    "}  \n",
    "for key, value in user.items() :   # HATIRLATMA! user items sayesinde (name, Daniel), (surname, Smith), (age, 35) tuple yapıyoruz. \n",
    "    print(key, \":\",  value)"
   ]
  },
  {
   "cell_type": "code",
   "execution_count": null,
   "metadata": {},
   "outputs": [
    {
     "name": "stdout",
     "output_type": "stream",
     "text": [
      "1 2\n",
      "3 4\n",
      "5 6\n"
     ]
    }
   ],
   "source": [
    "test = [(1, 2), (3, 4), (5, 6)]\n",
    "for i, j in test : \n",
    "    print(i, j)"
   ]
  },
  {
   "cell_type": "code",
   "execution_count": null,
   "metadata": {},
   "outputs": [
    {
     "name": "stdout",
     "output_type": "stream",
     "text": [
      "1 2 11\n",
      "3 4 22\n",
      "5 6 33\n"
     ]
    }
   ],
   "source": [
    "test2 = [(1, 2, 11), (3, 4, 22), (5, 6, 33)]\n",
    "for i, j, t in test2 : \n",
    "    print(i, j, t)"
   ]
  },
  {
   "cell_type": "code",
   "execution_count": null,
   "metadata": {},
   "outputs": [
    {
     "name": "stdout",
     "output_type": "stream",
     "text": [
      "(1, 2, 11)\n",
      "(3, 4, 22)\n",
      "(5, 6, 33)\n"
     ]
    }
   ],
   "source": [
    "test2 = [(1, 2, 11), (3, 4, 22), (5, 6, 33)]\n",
    "for i in test2 : \n",
    "    print(i)"
   ]
  },
  {
   "cell_type": "code",
   "execution_count": null,
   "metadata": {},
   "outputs": [
    {
     "name": "stdout",
     "output_type": "stream",
     "text": [
      "I love you\n",
      "I love you\n",
      "I love you\n",
      "I love you\n",
      "I love you\n"
     ]
    }
   ],
   "source": [
    "times = int(input(\"How many times should I say 'I love You'\"))\n",
    "for i in range(times) :  # Burada ki range fonksiyonu ile sayı dizisi üretiyoruz ve itarable'a dönüştürüyoruz. Yani range fonksiyonu iterable dır. \n",
    "    print(\"I love you\")"
   ]
  },
  {
   "cell_type": "code",
   "execution_count": null,
   "metadata": {},
   "outputs": [
    {
     "name": "stdout",
     "output_type": "stream",
     "text": [
      "5 x 0 = 0\n",
      "5 x 1 = 5\n",
      "5 x 2 = 10\n",
      "5 x 3 = 15\n",
      "5 x 4 = 20\n",
      "5 x 5 = 25\n",
      "5 x 6 = 30\n",
      "5 x 7 = 35\n",
      "5 x 8 = 40\n",
      "5 x 9 = 45\n",
      "5 x 10 = 50\n"
     ]
    }
   ],
   "source": [
    "number = input(\"Please enter a number between 1 and 10\")\n",
    "\n",
    "for i in range(11) :  # Eğer içinde sadece bir adet sayı var ise zaten 0'dan başlayıp o sayıya kadar demek. \n",
    "    print(number, \"x\", i, \"=\", (int(number)*i))\n"
   ]
  },
  {
   "cell_type": "code",
   "execution_count": null,
   "metadata": {},
   "outputs": [],
   "source": [
    "range(start, stop, step)  "
   ]
  },
  {
   "cell_type": "code",
   "execution_count": null,
   "metadata": {},
   "outputs": [
    {
     "name": "stdout",
     "output_type": "stream",
     "text": [
      "10 9 8 7 6 5 4 3 2\n"
     ]
    }
   ],
   "source": [
    "print(* range(10,1,-1))"
   ]
  },
  {
   "cell_type": "code",
   "execution_count": null,
   "metadata": {},
   "outputs": [
    {
     "name": "stdout",
     "output_type": "stream",
     "text": [
      "1 2 3 4 5 6 7 8 9\n"
     ]
    }
   ],
   "source": [
    "print(* range(1, 10))"
   ]
  },
  {
   "cell_type": "code",
   "execution_count": null,
   "metadata": {},
   "outputs": [
    {
     "name": "stdout",
     "output_type": "stream",
     "text": [
      "j o s e p h\n"
     ]
    }
   ],
   "source": [
    "print(* \"joseph\")"
   ]
  },
  {
   "cell_type": "code",
   "execution_count": null,
   "metadata": {},
   "outputs": [
    {
     "name": "stdout",
     "output_type": "stream",
     "text": [
      "1\n",
      "22\n",
      "333\n",
      "4444\n",
      "55555\n",
      "666666\n",
      "7777777\n",
      "88888888\n",
      "999999999\n"
     ]
    }
   ],
   "source": [
    "for i in range(1,10) :\n",
    "    print(str(i)*i)"
   ]
  },
  {
   "cell_type": "code",
   "execution_count": null,
   "metadata": {},
   "outputs": [
    {
     "data": {
      "text/plain": [
       "[0, 1, 2, 3, 4, 5, 6, 7, 8, 9, 10]"
      ]
     },
     "metadata": {},
     "output_type": "display_data"
    }
   ],
   "source": [
    "list(range(11))"
   ]
  },
  {
   "cell_type": "code",
   "execution_count": null,
   "metadata": {},
   "outputs": [
    {
     "data": {
      "text/plain": [
       "(0, 1, 2, 3, 4, 5, 6, 7, 8, 9, 10)"
      ]
     },
     "metadata": {},
     "output_type": "display_data"
    }
   ],
   "source": [
    "tuple(range(11))"
   ]
  },
  {
   "cell_type": "code",
   "execution_count": null,
   "metadata": {},
   "outputs": [
    {
     "data": {
      "text/plain": [
       "{0, 1, 2, 3, 4, 5, 6, 7, 8, 9, 10}"
      ]
     },
     "metadata": {},
     "output_type": "display_data"
    }
   ],
   "source": [
    "set(range(11))"
   ]
  },
  {
   "cell_type": "code",
   "execution_count": null,
   "metadata": {},
   "outputs": [
    {
     "name": "stdout",
     "output_type": "stream",
     "text": [
      "0 1 2 3 4 5 6 7 8 9 10\n"
     ]
    }
   ],
   "source": [
    "print(* range(11))"
   ]
  },
  {
   "cell_type": "code",
   "execution_count": null,
   "metadata": {},
   "outputs": [
    {
     "name": "stdout",
     "output_type": "stream",
     "text": [
      "range(0, 11)\n"
     ]
    }
   ],
   "source": [
    "print(range(11))  # Bizim doğrudan range object'ini çıktı almaya çalışmamız söz konusu değil. "
   ]
  },
  {
   "cell_type": "code",
   "execution_count": null,
   "metadata": {},
   "outputs": [
    {
     "name": "stdout",
     "output_type": "stream",
     "text": [
      "5 7 9 11 13 15 17 19 21 23\n"
     ]
    }
   ],
   "source": [
    "print(*range(5, 25, 2))"
   ]
  },
  {
   "cell_type": "code",
   "execution_count": null,
   "metadata": {},
   "outputs": [
    {
     "name": "stdout",
     "output_type": "stream",
     "text": [
      "one : 1\n",
      "two : 2\n",
      "three : 3\n",
      "four : 4\n",
      "five : 5\n"
     ]
    }
   ],
   "source": [
    "text = [\"one\", \"two\", \"three\", \"four\", \"five\"]\n",
    "numbers = [1, 2, 3, 4, 5]\n",
    "for x, y in zip(text, numbers) :  # Her bir elemanı indeks numaralarına göre karşılıklı olarak eşleştirir. \n",
    "    print(x, \":\", y)"
   ]
  },
  {
   "cell_type": "code",
   "execution_count": null,
   "metadata": {},
   "outputs": [
    {
     "data": {
      "text/plain": [
       "<zip at 0x2045b8344c0>"
      ]
     },
     "metadata": {},
     "output_type": "display_data"
    }
   ],
   "source": [
    "text = [\"one\", \"two\", \"three\", \"four\", \"five\"]\n",
    "numbers = [1, 2, 3, 4, 5]\n",
    "zipped = zip(text, numbers)\n",
    "zipped  # Memory'deki lokasyonu, adresi gösterir. Bunu görsel olarak alabilmemiz için collection functions, * ya da for döngülerini kullanabiliriz. "
   ]
  },
  {
   "cell_type": "code",
   "execution_count": null,
   "metadata": {},
   "outputs": [
    {
     "name": "stdout",
     "output_type": "stream",
     "text": [
      "('one', 1) ('two', 2) ('three', 3) ('four', 4) ('five', 5)\n"
     ]
    }
   ],
   "source": [
    "print(* zipped)"
   ]
  },
  {
   "cell_type": "code",
   "execution_count": null,
   "metadata": {},
   "outputs": [
    {
     "data": {
      "text/plain": [
       "[]"
      ]
     },
     "metadata": {},
     "output_type": "display_data"
    }
   ],
   "source": [
    "list(zipped)  # Boş çıktı vermesi zip fonksiyonuna özeldir, bir üstte çalıştığı için içi boş çıktı. İçini yeniden doldurup yeniden çalıştırırsak olur. "
   ]
  },
  {
   "cell_type": "code",
   "execution_count": null,
   "metadata": {},
   "outputs": [
    {
     "data": {
      "text/plain": [
       "[('one', 1), ('two', 2), ('three', 3), ('four', 4), ('five', 5)]"
      ]
     },
     "metadata": {},
     "output_type": "display_data"
    }
   ],
   "source": [
    "zipped = zip(text, numbers)  # Yeniden doldurduk ve çalıştırdık. \n",
    "list(zipped)"
   ]
  },
  {
   "cell_type": "code",
   "execution_count": null,
   "metadata": {},
   "outputs": [
    {
     "name": "stdout",
     "output_type": "stream",
     "text": [
      "one : 1\n",
      "two : 2\n",
      "three : 3\n",
      "four : 4\n",
      "five : 5\n"
     ]
    }
   ],
   "source": [
    "zipped = zip(text, numbers)\n",
    "for x, y in zipped :\n",
    "    print(x, \":\", y)"
   ]
  },
  {
   "cell_type": "code",
   "execution_count": null,
   "metadata": {},
   "outputs": [
    {
     "data": {
      "text/plain": [
       "{'one': 1, 'two': 2, 'three': 3, 'four': 4, 'five': 5}"
      ]
     },
     "metadata": {},
     "output_type": "display_data"
    }
   ],
   "source": [
    "zipped = zip(text, numbers)  # ÖNEMLİ!!! zip fonksiyonunu dictionary için kullanabiliriz. Dict metodunda da çift olarak yapıyoruz çünkü. \n",
    "dict(zipped)"
   ]
  },
  {
   "cell_type": "markdown",
   "metadata": {},
   "source": [
    "zip fonksiyonu 2, 3, 4 ... gibi istediği kadar eleman alabilir ve eşleştirebilir. "
   ]
  },
  {
   "cell_type": "code",
   "execution_count": null,
   "metadata": {},
   "outputs": [
    {
     "name": "stdout",
     "output_type": "stream",
     "text": [
      "(1, 1) (2, 4)\n"
     ]
    }
   ],
   "source": [
    "a = (1, 2, 3)  # Dikkat etmemiz gereken bir durum. Eleman sayıları birbiri ile uyuşmuyor ise uyuştuğu kadarını da çıktı verir. 3 açıkta kaldı eşi yok. \n",
    "b = (1, 4)\n",
    "print(* zip(a, b))"
   ]
  },
  {
   "cell_type": "code",
   "execution_count": null,
   "metadata": {},
   "outputs": [
    {
     "name": "stdout",
     "output_type": "stream",
     "text": [
      "(1, 1) (2, 4) (3, 9)\n"
     ]
    }
   ],
   "source": [
    "a = (1, 2, 3)   # Biri list diğeri tuple bile olsa yine de eşleştirir ve () içinde sonuç çıkarır. \n",
    "b = [1, 4, 9]\n",
    "print(* zip(a, b))"
   ]
  },
  {
   "cell_type": "code",
   "execution_count": null,
   "metadata": {},
   "outputs": [
    {
     "name": "stdout",
     "output_type": "stream",
     "text": [
      "(1, 1) (2, 4) (3, 9)\n"
     ]
    }
   ],
   "source": [
    "a = {1, 2, 3}   # Biri list diğeri tuple ya da her ikisi de farklı da olsa yine de eşleştirir ve () içinde sonuç çıkarır. \n",
    "b = [1, 4, 9]\n",
    "print(* zip(a, b))"
   ]
  },
  {
   "cell_type": "code",
   "execution_count": null,
   "metadata": {},
   "outputs": [
    {
     "name": "stdout",
     "output_type": "stream",
     "text": [
      "evens: [0, 2, 4, 6, 8]\n",
      "odds: [1, 3, 5, 7, 9]\n"
     ]
    }
   ],
   "source": [
    "# Kendi çözümüm. Çok dolandırdım ama mantık aynı. \n",
    "\n",
    "numbers = list(range(10))\n",
    "numbers_half_len = len(numbers) / 2\n",
    "empty_list_even = []\n",
    "empty_list_odd = []\n",
    "for i in range(10) :\n",
    "    if numbers[i] % 2 == 0 : \n",
    "        empty_list_even.append(i)\n",
    "        if len(empty_list_even) == numbers_half_len :\n",
    "            print(\"evens:\", empty_list_even)\n",
    "        \n",
    "    else :\n",
    "        empty_list_odd.append(i)\n",
    "        if len(empty_list_odd) == numbers_half_len :\n",
    "            print(\"odds:\", empty_list_odd)\n",
    "        \n"
   ]
  },
  {
   "cell_type": "code",
   "execution_count": null,
   "metadata": {},
   "outputs": [
    {
     "name": "stdout",
     "output_type": "stream",
     "text": [
      "evens: [0, 2, 4, 6, 8]\n",
      "odds: [1, 3, 5, 7, 9]\n"
     ]
    }
   ],
   "source": [
    "# Hocanın çözümü \n",
    "\n",
    "evens = []\n",
    "odds = []\n",
    "\n",
    "for i in range(10) :\n",
    "    if i % 2 == 0 :\n",
    "        evens.append(i)\n",
    "    else : \n",
    "        odds.append(i)\n",
    "print(\"evens:\", evens)\n",
    "print(\"odds:\", odds)"
   ]
  },
  {
   "cell_type": "code",
   "execution_count": null,
   "metadata": {},
   "outputs": [
    {
     "name": "stdout",
     "output_type": "stream",
     "text": [
      "The number of even numbers : 3\n",
      "The number of odd numbers : 4\n"
     ]
    }
   ],
   "source": [
    "# Kendi çözümüm\n",
    "\n",
    "example_list = [11, 2, 24, 61, 48, 33, 3]\n",
    "evens = []\n",
    "odds = []\n",
    "\n",
    "for i in example_list : \n",
    "    if i % 2 == 0 :\n",
    "        evens.append(i)\n",
    "    else : \n",
    "        odds.append(i)\n",
    "print(\"The number of even numbers :\", len(evens))\n",
    "print(\"The number of odd numbers :\", len(odds))\n"
   ]
  },
  {
   "cell_type": "code",
   "execution_count": null,
   "metadata": {},
   "outputs": [
    {
     "name": "stdout",
     "output_type": "stream",
     "text": [
      "The number of even numbers : 3\n",
      "The number of odd numbers : 4\n"
     ]
    }
   ],
   "source": [
    "# Hocanın çözümü (saydırarak yaptı)\n",
    "\n",
    "example_list = [11, 2, 24, 61, 48, 33, 3]\n",
    "evens = 0\n",
    "odds = 0\n",
    "\n",
    "for i in example_list : \n",
    "    if i % 2 == 0 :\n",
    "        evens += 1  # Bu saydırma metodudur, eğer bu şartı sağlıyor ise her seferinde 1 arttır demek. O yüzden yukarıda 0 değerini girdik. \n",
    "    else : \n",
    "        odds += 1\n",
    "print(\"The number of even numbers :\", evens)\n",
    "print(\"The number of odd numbers :\", odds)"
   ]
  },
  {
   "cell_type": "code",
   "execution_count": null,
   "metadata": {},
   "outputs": [
    {
     "data": {
      "text/plain": [
       "2775"
      ]
     },
     "metadata": {},
     "output_type": "display_data"
    }
   ],
   "source": [
    "# Kendi çözümüm\n",
    "\n",
    "empty_list = []\n",
    "for i in range(1, 75) :\n",
    "    empty_list.append(i)\n",
    "sum(empty_list)\n",
    "    \n",
    "    "
   ]
  },
  {
   "cell_type": "code",
   "execution_count": null,
   "metadata": {},
   "outputs": [
    {
     "name": "stdout",
     "output_type": "stream",
     "text": [
      "2775\n"
     ]
    }
   ],
   "source": [
    "# Hocanın çözümü \n",
    "sum_num = 0\n",
    "for i in range(1,75) : \n",
    "    sum_num += i\n",
    "print(sum_num)"
   ]
  },
  {
   "cell_type": "markdown",
   "metadata": {},
   "source": [
    "Nested for Loop "
   ]
  },
  {
   "cell_type": "code",
   "execution_count": null,
   "metadata": {},
   "outputs": [],
   "source": [
    "for variable1 in iterable1 : \n",
    "    for variable2 in iterable2 :\n",
    "        body "
   ]
  },
  {
   "cell_type": "code",
   "execution_count": null,
   "metadata": {},
   "outputs": [
    {
     "name": "stdout",
     "output_type": "stream",
     "text": [
      "I am happy\n",
      "I am confident\n",
      "You are happy\n",
      "You are confident\n"
     ]
    }
   ],
   "source": [
    "who = [\"I am\", \"You are\"]\n",
    "mood = [\"happy\", \"confident\"]\n",
    "for i in who :\n",
    "    for ii in mood : \n",
    "        print(i, ii)"
   ]
  },
  {
   "cell_type": "code",
   "execution_count": null,
   "metadata": {},
   "outputs": [
    {
     "name": "stdout",
     "output_type": "stream",
     "text": [
      "susan is happy\n",
      "susan is sad\n",
      "tom is happy\n",
      "tom is sad\n",
      "edward is happy\n",
      "edward is sad\n"
     ]
    }
   ],
   "source": [
    "names = [\"susan\", \"tom\", \"edward\"]\n",
    "mood = [\"happy\", \"sad\"]\n",
    "for i in names :\n",
    "    for ii in mood : \n",
    "        print(i, \"is\", ii)  # print(f\"{i} is {ii}\") ya da print(\"{} is {}\".format(i, ii)) olabilirdi çıktı için. "
   ]
  },
  {
   "cell_type": "code",
   "execution_count": null,
   "metadata": {},
   "outputs": [
    {
     "data": {
      "text/plain": [
       "(1, 2, 3, 4, 5, 6, 7)"
      ]
     },
     "metadata": {},
     "output_type": "display_data"
    }
   ],
   "source": [
    "# tuple kullanarak atama yapabiliriz \n",
    "\n",
    "tuple(range(1, 8))"
   ]
  },
  {
   "cell_type": "code",
   "execution_count": null,
   "metadata": {},
   "outputs": [],
   "source": [
    "mon, tue, wed, thu, fri, sat, sun = tuple(range(1,8))"
   ]
  },
  {
   "cell_type": "code",
   "execution_count": null,
   "metadata": {},
   "outputs": [
    {
     "data": {
      "text/plain": [
       "1"
      ]
     },
     "metadata": {},
     "output_type": "display_data"
    }
   ],
   "source": [
    "mon "
   ]
  },
  {
   "cell_type": "code",
   "execution_count": null,
   "metadata": {},
   "outputs": [
    {
     "data": {
      "text/plain": [
       "5"
      ]
     },
     "metadata": {},
     "output_type": "display_data"
    }
   ],
   "source": [
    "fri"
   ]
  },
  {
   "cell_type": "code",
   "execution_count": null,
   "metadata": {},
   "outputs": [
    {
     "data": {
      "text/plain": [
       "[1, 2, 4, 'ali', 'veli']"
      ]
     },
     "metadata": {},
     "output_type": "display_data"
    }
   ],
   "source": [
    "# İki listenin toplanması. Bunu çok kullanırız. İçlerindeki verinin değeri farklı olsa da oluyor. \n",
    "\n",
    "[1, 2, 4] + [\"ali\", \"veli\"]"
   ]
  },
  {
   "cell_type": "code",
   "execution_count": null,
   "metadata": {},
   "outputs": [
    {
     "ename": "ValueError",
     "evalue": "too many values to unpack (expected 2)",
     "output_type": "error",
     "traceback": [
      "\u001b[1;31m---------------------------------------------------------------------------\u001b[0m\n",
      "\u001b[1;31mValueError\u001b[0m                                Traceback (most recent call last)\n",
      "\u001b[1;32mg:\\Drive'ım\\Masaüstü\\Eğitimler\\Yazılım\\VS Code Genel\\Python In-class\\13- 030322.ipynb Cell 47'\u001b[0m in \u001b[0;36m<module>\u001b[1;34m\u001b[0m\n",
      "\u001b[1;32m----> <a href='vscode-notebook-cell:/g%3A/Drive%27%C4%B1m/Masa%C3%BCst%C3%BC/E%C4%9Fitimler/Yaz%C4%B1l%C4%B1m/VS%20Code%20Genel/Python%20In-class/13-%20030322.ipynb#ch0000075?line=0'>1</a>\u001b[0m a, b \u001b[39m=\u001b[39m (\u001b[39m10\u001b[39m, \u001b[39m20\u001b[39m, \u001b[39m30\u001b[39m, \u001b[39m40\u001b[39m)\n",
      "\n",
      "\u001b[1;31mValueError\u001b[0m: too many values to unpack (expected 2)"
     ]
    }
   ],
   "source": [
    "a, b = (10, 20, 30, 40)  # variable ile value sayıları uyuşmadığı için haya verir. Bunu hatasız bir şekilde yapabilmemiz için. "
   ]
  },
  {
   "cell_type": "code",
   "execution_count": null,
   "metadata": {},
   "outputs": [
    {
     "name": "stdout",
     "output_type": "stream",
     "text": [
      "10 30\n"
     ]
    }
   ],
   "source": [
    "a, _, b, _ = (10, 20, 30, 40)  # Bu şekilde yaparak istediğimiz noktaya atamamızı yaptık. \n",
    "print(a, b)"
   ]
  },
  {
   "cell_type": "code",
   "execution_count": null,
   "metadata": {},
   "outputs": [
    {
     "ename": "ValueError",
     "evalue": "too many values to unpack (expected 3)",
     "output_type": "error",
     "traceback": [
      "\u001b[1;31m---------------------------------------------------------------------------\u001b[0m\n",
      "\u001b[1;31mValueError\u001b[0m                                Traceback (most recent call last)\n",
      "\u001b[1;32mg:\\Drive'ım\\Masaüstü\\Eğitimler\\Yazılım\\VS Code Genel\\Python In-class\\13- 030322.ipynb Cell 49'\u001b[0m in \u001b[0;36m<module>\u001b[1;34m\u001b[0m\n",
      "\u001b[1;32m----> <a href='vscode-notebook-cell:/g%3A/Drive%27%C4%B1m/Masa%C3%BCst%C3%BC/E%C4%9Fitimler/Yaz%C4%B1l%C4%B1m/VS%20Code%20Genel/Python%20In-class/13-%20030322.ipynb#ch0000078?line=0'>1</a>\u001b[0m x, y, z \u001b[39m=\u001b[39m (\u001b[39m11\u001b[39m, \u001b[39m22\u001b[39m, \u001b[39m33\u001b[39m, \u001b[39m44\u001b[39m, \u001b[39m55\u001b[39m)\n",
      "\n",
      "\u001b[1;31mValueError\u001b[0m: too many values to unpack (expected 3)"
     ]
    }
   ],
   "source": [
    "x, y, z = (11, 22, 33, 44, 55)\n"
   ]
  },
  {
   "cell_type": "code",
   "execution_count": null,
   "metadata": {},
   "outputs": [
    {
     "name": "stdout",
     "output_type": "stream",
     "text": [
      "11 22 [33, 44, 55]\n"
     ]
    }
   ],
   "source": [
    "x, y, *z = (11, 22, 33, 44, 55)  # z'nin başındaki yıldız sayesinde geri kalan son 3 değeri de z'ye atadık. \n",
    "print(x, y, z)"
   ]
  },
  {
   "cell_type": "code",
   "execution_count": null,
   "metadata": {},
   "outputs": [
    {
     "name": "stdout",
     "output_type": "stream",
     "text": [
      "11 22\n"
     ]
    }
   ],
   "source": [
    "x, y, *_ = (11, 22, 33, 44, 55)\n",
    "print(x, y)"
   ]
  },
  {
   "cell_type": "code",
   "execution_count": null,
   "metadata": {},
   "outputs": [
    {
     "name": "stdout",
     "output_type": "stream",
     "text": [
      "11\n",
      "22\n",
      "[33, 44, 55, 66]\n",
      "77\n"
     ]
    }
   ],
   "source": [
    "x, y, *z, t = (11, 22, 33, 44, 55, 66, 77)\n",
    "print(x, y, z, t, sep=\"\\n\")"
   ]
  },
  {
   "cell_type": "code",
   "execution_count": null,
   "metadata": {},
   "outputs": [
    {
     "name": "stdout",
     "output_type": "stream",
     "text": [
      "11\n",
      "22\n",
      "77\n"
     ]
    }
   ],
   "source": [
    "x, y, *_, t = (11, 22, 33, 44, 55, 66, 77)\n",
    "print(x, y, t, sep=\"\\n\")"
   ]
  }
 ],
 "metadata": {
  "interpreter": {
   "hash": "1119d47f94ad9ac75885573077f663dd4dae1d75e807f23fe53292849f40bbc4"
  },
  "kernelspec": {
   "display_name": "Python 3.10.2 64-bit",
   "language": "python",
   "name": "python3"
  },
  "language_info": {
   "codemirror_mode": {
    "name": "ipython",
    "version": 3
   },
   "file_extension": ".py",
   "mimetype": "text/x-python",
   "name": "python",
   "nbconvert_exporter": "python",
   "pygments_lexer": "ipython3",
   "version": "3.10.2"
  },
  "orig_nbformat": 4
 },
 "nbformat": 4,
 "nbformat_minor": 2
}
