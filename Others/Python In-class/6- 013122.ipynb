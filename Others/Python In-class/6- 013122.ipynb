{
 "cells": [
  {
   "cell_type": "markdown",
   "metadata": {},
   "source": [
    "Collection Types\n",
    "- List\n",
    "- Tuple\n",
    "- Dictionary \n",
    "- Set\n",
    "\n",
    "String, integer, float, bloolean gibi veri tipleri vardı. Bunlar x = \"Clarusway\" gibi tek bir veri tipi içeriyorlardı. \n",
    "Collection lar ise birden çok veri içeriyor. "
   ]
  },
  {
   "cell_type": "markdown",
   "metadata": {},
   "source": [
    "Lists\n",
    "\n",
    "Collection lar arasında en çok kullanılandır diyebiliriz. \n",
    "- [] manuel olarak bu şekilde köşeli parantez içinde oluşturabiliriz. \n",
    "- list() fonksiyonu da bir diğer yöntemdir. List fonk. içine iterable veriler alır. İçine koyduğumuz iterable bir veriyi aralarına virgül koyarak elemanlarına ayırıyor, baştan(soldan) başlıyor sona kadar gidiyor ve her bir elemanını listenin elemanı haline getiriyor. "
   ]
  },
  {
   "cell_type": "code",
   "execution_count": null,
   "metadata": {},
   "outputs": [],
   "source": [
    "X = [\"ali\", \"veli\"]  # Şimdiye kadar gördüğümüz konularda değişkene (variable) tek bir değer (value) atıyorken şimdi içinde birden çok veri var. "
   ]
  },
  {
   "cell_type": "code",
   "execution_count": null,
   "metadata": {},
   "outputs": [],
   "source": [
    "[\"Clarusway\"]  # Bu bir listedir ve 1 elemanı vardır. \n",
    "[\"ali\", \"veli\", \"deli\"]  # Bu da bir listedir ve 3 elemanı vardır. "
   ]
  },
  {
   "cell_type": "code",
   "execution_count": 2,
   "metadata": {},
   "outputs": [
    {
     "data": {
      "text/plain": [
       "['c', 'l', 'a', 'r', 'u', 's']"
      ]
     },
     "execution_count": 2,
     "metadata": {},
     "output_type": "execute_result"
    }
   ],
   "source": [
    "list(\"clarus\")"
   ]
  },
  {
   "cell_type": "code",
   "execution_count": 4,
   "metadata": {},
   "outputs": [
    {
     "data": {
      "text/plain": [
       "[1, 2, 3]"
      ]
     },
     "execution_count": 4,
     "metadata": {},
     "output_type": "execute_result"
    }
   ],
   "source": [
    "a = [1, 2, 3]  #  list fonksiyonunun tanımında da köşeli parantez içinde elemanlarına ayırır ve aralarına virgül koyar olduğu için yine aynı sonucu verir. \n",
    "list(a)"
   ]
  },
  {
   "cell_type": "code",
   "execution_count": 6,
   "metadata": {},
   "outputs": [
    {
     "name": "stdout",
     "output_type": "stream",
     "text": [
      "['h', 'a', 'p', 'p', 'y']\n",
      "['h', 'a', 'p', 'p', 'y']\n"
     ]
    }
   ],
   "source": [
    "list_1 = ['h', 'a', 'p', 'p', 'y']\n",
    "word = \"happy\"\n",
    "list_2 = list(word)\n",
    "print(list_1)\n",
    "print(list_2)"
   ]
  },
  {
   "cell_type": "code",
   "execution_count": 7,
   "metadata": {},
   "outputs": [
    {
     "ename": "TypeError",
     "evalue": "'int' object is not iterable",
     "output_type": "error",
     "traceback": [
      "\u001b[1;31m---------------------------------------------------------------------------\u001b[0m",
      "\u001b[1;31mTypeError\u001b[0m                                 Traceback (most recent call last)",
      "\u001b[1;32mg:\\Drive'ım\\Masaüstü\\Eğitimler\\Yazılım\\VS Code Genel\\Python In-class\\013122.ipynb Cell 8'\u001b[0m in \u001b[0;36m<module>\u001b[1;34m\u001b[0m\n\u001b[1;32m----> <a href='vscode-notebook-cell:/g%3A/Drive%27%C4%B1m/Masa%C3%BCst%C3%BC/E%C4%9Fitimler/Yaz%C4%B1l%C4%B1m/VS%20Code%20Genel/Python%20In-class/013122.ipynb#ch0000010?line=0'>1</a>\u001b[0m \u001b[39mlist\u001b[39;49m(\u001b[39m1234\u001b[39;49m)\n",
      "\u001b[1;31mTypeError\u001b[0m: 'int' object is not iterable"
     ]
    }
   ],
   "source": [
    "list(1234)  # iterable yani elemanlarına ayrılabilen bir veri olmadığı için hata verir. "
   ]
  },
  {
   "cell_type": "code",
   "execution_count": 8,
   "metadata": {},
   "outputs": [
    {
     "ename": "TypeError",
     "evalue": "object of type 'int' has no len()",
     "output_type": "error",
     "traceback": [
      "\u001b[1;31m---------------------------------------------------------------------------\u001b[0m",
      "\u001b[1;31mTypeError\u001b[0m                                 Traceback (most recent call last)",
      "\u001b[1;32mg:\\Drive'ım\\Masaüstü\\Eğitimler\\Yazılım\\VS Code Genel\\Python In-class\\013122.ipynb Cell 9'\u001b[0m in \u001b[0;36m<module>\u001b[1;34m\u001b[0m\n\u001b[1;32m----> <a href='vscode-notebook-cell:/g%3A/Drive%27%C4%B1m/Masa%C3%BCst%C3%BC/E%C4%9Fitimler/Yaz%C4%B1l%C4%B1m/VS%20Code%20Genel/Python%20In-class/013122.ipynb#ch0000011?line=0'>1</a>\u001b[0m \u001b[39mlen\u001b[39;49m(\u001b[39m1230\u001b[39;49m)\n",
      "\u001b[1;31mTypeError\u001b[0m: object of type 'int' has no len()"
     ]
    }
   ],
   "source": [
    "len(1230)  # Hatırlatmak için yapıldı, len fonksiyonları da sadece iterable veriler alır içine. "
   ]
  },
  {
   "cell_type": "code",
   "execution_count": 17,
   "metadata": {},
   "outputs": [
    {
     "name": "stdout",
     "output_type": "stream",
     "text": [
      "['I', ' ', 'q', 'u', 'i', 't', ' ', 's', 'm', 'o', 'k', 'i', 'n', 'g']\n",
      "['I quit smoking']\n"
     ]
    }
   ],
   "source": [
    "string_1 = \"I quit smoking\"\n",
    "new_list_1 = list(string_1)  # we created multi element list, aralardaki boşluklar bile elemandır. \n",
    "print(new_list_1)\n",
    "\n",
    "new_list_2 = [string_1] # this is a single element list \n",
    "print(new_list_2)\n"
   ]
  },
  {
   "cell_type": "code",
   "execution_count": 11,
   "metadata": {},
   "outputs": [
    {
     "name": "stdout",
     "output_type": "stream",
     "text": [
      "[11, 'Joseph', False, 3.14, None, [1, 2, 3]]\n"
     ]
    }
   ],
   "source": [
    "mixed_list = [11, \"Joseph\", False, 3.14, None, [1, 2, 3]]  # Sırası ile int, str, bool, float, NoneType, list hepsinden vardır. \n",
    "print(mixed_list)"
   ]
  },
  {
   "cell_type": "code",
   "execution_count": 13,
   "metadata": {},
   "outputs": [
    {
     "name": "stdout",
     "output_type": "stream",
     "text": [
      "['joseph', 'Clarusway', 2020]\n",
      "3\n",
      "[['joseph', 'Clarusway', 2020]]\n",
      "1\n"
     ]
    }
   ],
   "source": [
    "my_list = [\"joseph\", \"Clarusway\", 2020]\n",
    "new_list1 = list(my_list)\n",
    "new_list_2 = [my_list]\n",
    "\n",
    "print(new_list1)\n",
    "print(len(new_list1))\n",
    "print(new_list_2)\n",
    "print(len(new_list_2))"
   ]
  },
  {
   "cell_type": "code",
   "execution_count": 20,
   "metadata": {},
   "outputs": [
    {
     "name": "stdout",
     "output_type": "stream",
     "text": [
      "[\"2020's hard\"]\n",
      "['2', '0', '2', '0', \"'\", 's', ' ', 'h', 'a', 'r', 'd']\n"
     ]
    }
   ],
   "source": [
    "my_list1 = [\"2020's hard\"]\n",
    "my_list2 = list(\"2020's hard\")\n",
    "\n",
    "print(my_list1)\n",
    "print(my_list2)"
   ]
  },
  {
   "cell_type": "markdown",
   "metadata": {},
   "source": [
    "Basic Operations with Lists"
   ]
  },
  {
   "cell_type": "code",
   "execution_count": 22,
   "metadata": {},
   "outputs": [
    {
     "data": {
      "text/plain": [
       "[]"
      ]
     },
     "execution_count": 22,
     "metadata": {},
     "output_type": "execute_result"
    }
   ],
   "source": [
    "empty_list1 = list()  # Boş liste oluşturam yöntemleri bu ve alt satırdaki gibidir. \n",
    "empty_list2 = []\n",
    "print(empty_list1)\n",
    "print(empty_list2)"
   ]
  },
  {
   "cell_type": "markdown",
   "metadata": {},
   "source": [
    ".append() : Listenin en sonuna eleman ilave eder. Mevcutun üzerine koyar ve tek bir eleman ekleyebiliriz.  "
   ]
  },
  {
   "cell_type": "code",
   "execution_count": 25,
   "metadata": {},
   "outputs": [
    {
     "name": "stdout",
     "output_type": "stream",
     "text": [
      "[]\n",
      "[]\n"
     ]
    }
   ],
   "source": [
    "boş = []\n",
    "boş2 = list()\n",
    "\n",
    "print(boş)\n",
    "print(boş2)"
   ]
  },
  {
   "cell_type": "markdown",
   "metadata": {},
   "source": [
    "\"ali deli veli\"'dan sonra yani string bir ifadeden sonra nokta (.) koyduğumuzda yukarı doğru bir liste açılır ve bunlar string metodlarıdır.\n",
    "\n",
    "\"ali deli veli\".(Burada açılır)\n",
    "\n",
    "Aynı durum list fonksiyonu içinde geçerlidir. \n",
    "\n",
    "listem = []\n",
    "listem.(burada çıkar)"
   ]
  },
  {
   "cell_type": "code",
   "execution_count": 1,
   "metadata": {},
   "outputs": [],
   "source": [
    "listem = []  # Aşağıda noktadan sonra listeye herhangi bir metod tanımlayabilmemiz için öncelikle bir list tanımlamalıyız. "
   ]
  },
  {
   "cell_type": "markdown",
   "metadata": {},
   "source": [
    "Stringler immutable dır (değiştirilemez) ama list ler mutable dır. (değiştirilebilir) Listelerin yerlerini de değiştirebiliriz. "
   ]
  },
  {
   "cell_type": "code",
   "execution_count": 2,
   "metadata": {},
   "outputs": [],
   "source": [
    "listem.append(11)  # Herhangi bir çıktı vermedi ama listemiz değişti aslında, aşağıda görebiliriz. \n",
    "# strin'deki gibi (\"ali veli deli\".replace(\"i\", \"+\") bunda hemen sonuç verir mesela çalıştırdığımızda ama asıl stringimiz değişmez, immutable'dır.)\n"
   ]
  },
  {
   "cell_type": "code",
   "execution_count": 3,
   "metadata": {},
   "outputs": [
    {
     "data": {
      "text/plain": [
       "[11]"
      ]
     },
     "execution_count": 3,
     "metadata": {},
     "output_type": "execute_result"
    }
   ],
   "source": [
    "listem  # Listemiz boştu ama şuanda içinde 11 var. "
   ]
  },
  {
   "cell_type": "code",
   "execution_count": 4,
   "metadata": {},
   "outputs": [
    {
     "name": "stdout",
     "output_type": "stream",
     "text": [
      "[11, 22]\n"
     ]
    }
   ],
   "source": [
    "listem.append(22)\n",
    "print(listem)"
   ]
  },
  {
   "cell_type": "code",
   "execution_count": 5,
   "metadata": {},
   "outputs": [],
   "source": [
    "listem.append(33)"
   ]
  },
  {
   "cell_type": "code",
   "execution_count": 6,
   "metadata": {},
   "outputs": [
    {
     "data": {
      "text/plain": [
       "[11, 22, 33]"
      ]
     },
     "execution_count": 6,
     "metadata": {},
     "output_type": "execute_result"
    }
   ],
   "source": [
    "listem"
   ]
  },
  {
   "cell_type": "code",
   "execution_count": 2,
   "metadata": {},
   "outputs": [
    {
     "data": {
      "text/plain": [
       "['ali', 'deli', 'veli']"
      ]
     },
     "execution_count": 2,
     "metadata": {},
     "output_type": "execute_result"
    }
   ],
   "source": [
    "gardaşlar = [\"ali\", \"deli\"]\n",
    "gardaşlar.append(\"veli\")\n",
    "gardaşlar"
   ]
  },
  {
   "cell_type": "code",
   "execution_count": 3,
   "metadata": {},
   "outputs": [
    {
     "data": {
      "text/plain": [
       "['ali', 'deli', 'veli', True]"
      ]
     },
     "execution_count": 3,
     "metadata": {},
     "output_type": "execute_result"
    }
   ],
   "source": [
    "gardaşlar.append(True)\n",
    "gardaşlar"
   ]
  },
  {
   "cell_type": "code",
   "execution_count": 4,
   "metadata": {},
   "outputs": [],
   "source": [
    "gardaşlar.append(3.14)"
   ]
  },
  {
   "cell_type": "code",
   "execution_count": 5,
   "metadata": {},
   "outputs": [
    {
     "data": {
      "text/plain": [
       "['ali', 'deli', 'veli', True, 3.14]"
      ]
     },
     "execution_count": 5,
     "metadata": {},
     "output_type": "execute_result"
    }
   ],
   "source": [
    "gardaşlar"
   ]
  },
  {
   "cell_type": "markdown",
   "metadata": {},
   "source": [
    "gardaşlar.pop(index=-1, /)  # En son elemanı siler ve sildiği elemanın da çıktısını verir. "
   ]
  },
  {
   "cell_type": "code",
   "execution_count": 11,
   "metadata": {},
   "outputs": [
    {
     "data": {
      "text/plain": [
       "3.14"
      ]
     },
     "execution_count": 11,
     "metadata": {},
     "output_type": "execute_result"
    }
   ],
   "source": [
    "gardaşlar.pop()  # Listenin en sonundaki elemanı siler ve sildiği elemanı da çıktı verir.     "
   ]
  },
  {
   "cell_type": "code",
   "execution_count": 12,
   "metadata": {},
   "outputs": [
    {
     "data": {
      "text/plain": [
       "['ali', 'deli', 'veli', True]"
      ]
     },
     "execution_count": 12,
     "metadata": {},
     "output_type": "execute_result"
    }
   ],
   "source": [
    "gardaşlar  # Çıktı aldığımızda 3.14'ün olmadığını görürüz. "
   ]
  },
  {
   "cell_type": "code",
   "execution_count": 13,
   "metadata": {},
   "outputs": [
    {
     "data": {
      "text/plain": [
       "['ali', 'deli', 'veli']"
      ]
     },
     "execution_count": 13,
     "metadata": {},
     "output_type": "execute_result"
    }
   ],
   "source": [
    "gardaşlar.pop()\n",
    "gardaşlar"
   ]
  },
  {
   "cell_type": "code",
   "execution_count": 14,
   "metadata": {},
   "outputs": [
    {
     "data": {
      "text/plain": [
       "['ali', 'veli']"
      ]
     },
     "execution_count": 14,
     "metadata": {},
     "output_type": "execute_result"
    }
   ],
   "source": [
    "gardaşlar.pop(1)  # 1 numaralı index silinir, ilk satırın çıktısı da yine sildiği elemandır. \n",
    "gardaşlar"
   ]
  },
  {
   "cell_type": "code",
   "execution_count": 15,
   "metadata": {},
   "outputs": [
    {
     "name": "stdout",
     "output_type": "stream",
     "text": [
      "[6666, 'Multiverse', [0]]\n"
     ]
    }
   ],
   "source": [
    "empty_list = []\n",
    "empty_list.append(6666)\n",
    "empty_list.append(\"Multiverse\")\n",
    "empty_list.append([0])\n",
    "\n",
    "print(empty_list)"
   ]
  },
  {
   "cell_type": "code",
   "execution_count": 16,
   "metadata": {},
   "outputs": [
    {
     "name": "stdout",
     "output_type": "stream",
     "text": [
      "['New York', 'London', 'Istabul', 'Seoul', 'Sydney', 'Addis Ababa']\n"
     ]
    }
   ],
   "source": [
    "city = [\"New York\", \"London\", \"Istabul\", \"Seoul\", \"Sydney\"]\n",
    "city.append(\"Addis Ababa\")\n",
    "print(city)"
   ]
  },
  {
   "cell_type": "code",
   "execution_count": 17,
   "metadata": {},
   "outputs": [
    {
     "name": "stdout",
     "output_type": "stream",
     "text": [
      "[1, 2, 3, 4]\n"
     ]
    }
   ],
   "source": [
    "numbers = []\n",
    "numbers.append(1)\n",
    "numbers.append(2)\n",
    "numbers.append(3)\n",
    "numbers.append(4)\n",
    "\n",
    "print(numbers)"
   ]
  },
  {
   "cell_type": "markdown",
   "metadata": {},
   "source": [
    ".insert() : Liste elemanları arasına ekleme yapabiliriz. İndeks numarasını yazarız ve ekleriz. Diğer indeksler sağa doğru kayar.  \n",
    "\n",
    "gardaşlar.insert(index, object, /)  # Formulü budur. "
   ]
  },
  {
   "cell_type": "code",
   "execution_count": 21,
   "metadata": {},
   "outputs": [
    {
     "data": {
      "text/plain": [
       "['ali', 'deli', 'veli']"
      ]
     },
     "execution_count": 21,
     "metadata": {},
     "output_type": "execute_result"
    }
   ],
   "source": [
    "gardaşlar.insert(1, \"deli\")\n",
    "gardaşlar"
   ]
  },
  {
   "cell_type": "code",
   "execution_count": 25,
   "metadata": {},
   "outputs": [
    {
     "name": "stdout",
     "output_type": "stream",
     "text": [
      "[1, 4, 9, 7]\n",
      "[1, 4, 6, 9, 7]\n"
     ]
    }
   ],
   "source": [
    "numbers = [1, 4, 7]\n",
    "numbers.insert(2, 9)\n",
    "print(numbers)\n",
    "numbers.insert(2, 6)\n",
    "print(numbers)"
   ]
  },
  {
   "cell_type": "code",
   "execution_count": 27,
   "metadata": {},
   "outputs": [
    {
     "name": "stdout",
     "output_type": "stream",
     "text": [
      "['New York', 'London', 'Stockholm', 'Istabul', 'Seoul', 'Sydney', 'Addis Ababa']\n"
     ]
    }
   ],
   "source": [
    "city = ['New York', 'London', 'Istabul', 'Seoul', 'Sydney', 'Addis Ababa']\n",
    "city.insert(2, \"Stockholm\")  # Üst listede yer alan 2 numaralı index'deki Istanbul sağ kayarak yerine stockholm gelir. \n",
    "print(city)"
   ]
  },
  {
   "cell_type": "code",
   "execution_count": 28,
   "metadata": {},
   "outputs": [],
   "source": [
    "listem = [1, 2, 3, 4]"
   ]
  },
  {
   "cell_type": "code",
   "execution_count": 29,
   "metadata": {},
   "outputs": [
    {
     "name": "stdout",
     "output_type": "stream",
     "text": [
      "[1, 2, 3, 4, 5]\n"
     ]
    }
   ],
   "source": [
    "listem.insert(4, 5)\n",
    "print(listem)"
   ]
  },
  {
   "cell_type": "markdown",
   "metadata": {},
   "source": [
    ".remove() : Listeden herhangi bir elemanı kaldırır, siler."
   ]
  },
  {
   "cell_type": "code",
   "execution_count": 31,
   "metadata": {},
   "outputs": [
    {
     "data": {
      "text/plain": [
       "[False, 'ali', 11, ['veli', ['deli']]]"
      ]
     },
     "execution_count": 31,
     "metadata": {},
     "output_type": "execute_result"
    }
   ],
   "source": [
    "mesela = [[1, 2, 4], False, \"ali\", 11, [\"veli\", [\"deli\"]]]\n",
    "mesela.remove([1, 2, 4])  # remove içine yazdığımız elemanı liste içinden çıkarır. \n",
    "mesela"
   ]
  },
  {
   "cell_type": "markdown",
   "metadata": {},
   "source": [
    ".sort() : Liste elemanlarının aynı tipte olması gerekmekte ve o elemanları ya küçükten büyüğe ya da alfabetik sıraya göre sıralar. reverse ile sıralamayı terse çevirebiliriz. "
   ]
  },
  {
   "cell_type": "code",
   "execution_count": 32,
   "metadata": {},
   "outputs": [
    {
     "data": {
      "text/plain": [
       "[1, 1, 3, 5, 7]"
      ]
     },
     "execution_count": 32,
     "metadata": {},
     "output_type": "execute_result"
    }
   ],
   "source": [
    "yeni = [3, 5, 1, 7, 4]\n",
    "yeni.sort()  # Sayısal olarak küçükten büyüğe doğru sıraldık. Kalıcı olarak değiştirdik. \n",
    "yeni "
   ]
  },
  {
   "cell_type": "code",
   "execution_count": 33,
   "metadata": {},
   "outputs": [
    {
     "data": {
      "text/plain": [
       "['ali', 'behçet', 'cavidan', 'veli']"
      ]
     },
     "execution_count": 33,
     "metadata": {},
     "output_type": "execute_result"
    }
   ],
   "source": [
    "eski = [\"behçet\", \"cavidan\", \"ali\", \"veli\"]\n",
    "eski.sort()  # Burada da alfabetik sıraya göre ilerlemektedir. \n",
    "eski"
   ]
  },
  {
   "cell_type": "code",
   "execution_count": 34,
   "metadata": {},
   "outputs": [
    {
     "ename": "TypeError",
     "evalue": "'<' not supported between instances of 'int' and 'str'",
     "output_type": "error",
     "traceback": [
      "\u001b[1;31m---------------------------------------------------------------------------\u001b[0m",
      "\u001b[1;31mTypeError\u001b[0m                                 Traceback (most recent call last)",
      "\u001b[1;32mg:\\Drive'ım\\Masaüstü\\Eğitimler\\Yazılım\\VS Code Genel\\Python In-class\\013122.ipynb Cell 49'\u001b[0m in \u001b[0;36m<module>\u001b[1;34m\u001b[0m\n\u001b[0;32m      <a href='vscode-notebook-cell:/g%3A/Drive%27%C4%B1m/Masa%C3%BCst%C3%BC/E%C4%9Fitimler/Yaz%C4%B1l%C4%B1m/VS%20Code%20Genel/Python%20In-class/013122.ipynb#ch0000053?line=0'>1</a>\u001b[0m mix_list \u001b[39m=\u001b[39m [\u001b[39m\"\u001b[39m\u001b[39md\u001b[39m\u001b[39m\"\u001b[39m, \u001b[39m1\u001b[39m, \u001b[39m\"\u001b[39m\u001b[39ma\u001b[39m\u001b[39m\"\u001b[39m, \u001b[39m7\u001b[39m]\n\u001b[1;32m----> <a href='vscode-notebook-cell:/g%3A/Drive%27%C4%B1m/Masa%C3%BCst%C3%BC/E%C4%9Fitimler/Yaz%C4%B1l%C4%B1m/VS%20Code%20Genel/Python%20In-class/013122.ipynb#ch0000053?line=1'>2</a>\u001b[0m mix_list\u001b[39m.\u001b[39;49msort()\n\u001b[0;32m      <a href='vscode-notebook-cell:/g%3A/Drive%27%C4%B1m/Masa%C3%BCst%C3%BC/E%C4%9Fitimler/Yaz%C4%B1l%C4%B1m/VS%20Code%20Genel/Python%20In-class/013122.ipynb#ch0000053?line=2'>3</a>\u001b[0m \u001b[39mprint\u001b[39m(mix_list)\n",
      "\u001b[1;31mTypeError\u001b[0m: '<' not supported between instances of 'int' and 'str'"
     ]
    }
   ],
   "source": [
    "mix_list = [\"d\", 1, \"a\", 7]\n",
    "mix_list.sort()\n",
    "print(mix_list)"
   ]
  },
  {
   "cell_type": "code",
   "execution_count": 35,
   "metadata": {},
   "outputs": [
    {
     "name": "stdout",
     "output_type": "stream",
     "text": [
      "['four', 'nine', 'one']\n"
     ]
    }
   ],
   "source": [
    "list_1 = [\"one\", \"four\", \"nine\"]\n",
    "list_1.sort()\n",
    "print(list_1)"
   ]
  },
  {
   "cell_type": "code",
   "execution_count": 36,
   "metadata": {},
   "outputs": [
    {
     "data": {
      "text/plain": [
       "['one', 'nine', 'four']"
      ]
     },
     "execution_count": 36,
     "metadata": {},
     "output_type": "execute_result"
    }
   ],
   "source": [
    "list_1.sort(reverse=True)  # Tam tersine çevirdik. \n",
    "list_1"
   ]
  },
  {
   "cell_type": "code",
   "execution_count": 37,
   "metadata": {},
   "outputs": [
    {
     "data": {
      "text/plain": [
       "['*-', '@', 'False']"
      ]
     },
     "execution_count": 37,
     "metadata": {},
     "output_type": "execute_result"
    }
   ],
   "source": [
    "list_2 = [\"@\", \"*-\", \"False\"]\n",
    "list_2.sort()  # Bu gibi karakterler (string) de aski koda göre sıralanır. Klavyedeki her bir karakterin sayısal bir karşılığı vardır. \n",
    "list_2"
   ]
  },
  {
   "cell_type": "code",
   "execution_count": 39,
   "metadata": {},
   "outputs": [
    {
     "data": {
      "text/plain": [
       "['False', '@', '*-']"
      ]
     },
     "execution_count": 39,
     "metadata": {},
     "output_type": "execute_result"
    }
   ],
   "source": [
    "list_2 = [\"@\", \"*-\", \"False\"]\n",
    "list_2.sort(reverse=True)  # Sıralamayı terse çevirdik \n",
    "list_2"
   ]
  },
  {
   "cell_type": "code",
   "execution_count": 40,
   "metadata": {},
   "outputs": [
    {
     "data": {
      "text/plain": [
       "42"
      ]
     },
     "execution_count": 40,
     "metadata": {},
     "output_type": "execute_result"
    }
   ],
   "source": [
    "ord(\"*\")  # Ord fonksiyonu sayesinde klavyedeki karakterlerin aski kodlarını görebiliriz. "
   ]
  },
  {
   "cell_type": "code",
   "execution_count": 41,
   "metadata": {},
   "outputs": [
    {
     "data": {
      "text/plain": [
       "64"
      ]
     },
     "execution_count": 41,
     "metadata": {},
     "output_type": "execute_result"
    }
   ],
   "source": [
    "ord(\"@\")"
   ]
  },
  {
   "cell_type": "code",
   "execution_count": 43,
   "metadata": {},
   "outputs": [
    {
     "data": {
      "text/plain": [
       "70"
      ]
     },
     "execution_count": 43,
     "metadata": {},
     "output_type": "execute_result"
    }
   ],
   "source": [
    "ord(\"F\")"
   ]
  },
  {
   "cell_type": "code",
   "execution_count": 45,
   "metadata": {},
   "outputs": [
    {
     "data": {
      "text/plain": [
       "[False, True]"
      ]
     },
     "execution_count": 45,
     "metadata": {},
     "output_type": "execute_result"
    }
   ],
   "source": [
    "list_3 = [True, False]  # False'u 0, True'yu 1 kabul eder ve ona göre listeler. \n",
    "list_3.sort()\n",
    "list_3"
   ]
  },
  {
   "cell_type": "code",
   "execution_count": 47,
   "metadata": {},
   "outputs": [
    {
     "data": {
      "text/plain": [
       "[[-12], [3], [44]]"
      ]
     },
     "execution_count": 47,
     "metadata": {},
     "output_type": "execute_result"
    }
   ],
   "source": [
    "list_4 = [[3], [44], [-12]]  # Liste içinde listeyi de sıralar. \n",
    "list_4.sort()\n",
    "list_4"
   ]
  },
  {
   "cell_type": "code",
   "execution_count": 48,
   "metadata": {},
   "outputs": [
    {
     "data": {
      "text/plain": [
       "[[-12, 1], [1, 3], [44, -40]]"
      ]
     },
     "execution_count": 48,
     "metadata": {},
     "output_type": "execute_result"
    }
   ],
   "source": [
    "list_5 = [[1, 3], [44, -40], [-12,1]]  # Eğer elemanlar içinde birden falza eleman olur ise o durumda da ilk elemanlarını baz alır. \n",
    "list_5.sort()\n",
    "list_5 "
   ]
  },
  {
   "cell_type": "markdown",
   "metadata": {},
   "source": [
    "chr(): Bir aski kodun string karşılığını bulmak için kullanırız. ord ile chr birbirinin zıttıdır. "
   ]
  },
  {
   "cell_type": "code",
   "execution_count": 49,
   "metadata": {},
   "outputs": [
    {
     "data": {
      "text/plain": [
       "'F'"
      ]
     },
     "execution_count": 49,
     "metadata": {},
     "output_type": "execute_result"
    }
   ],
   "source": [
    "chr(70)"
   ]
  },
  {
   "cell_type": "code",
   "execution_count": 50,
   "metadata": {},
   "outputs": [
    {
     "data": {
      "text/plain": [
       "3"
      ]
     },
     "execution_count": 50,
     "metadata": {},
     "output_type": "execute_result"
    }
   ],
   "source": [
    "list_1 = [\"one\", \"four\", \"nine\"]\n",
    "lenght = len(list_1)  # Listelerin uzunluğu, içindeki virgül ile ayrılmış elemanları kadardır. \n",
    "lenght"
   ]
  },
  {
   "cell_type": "code",
   "execution_count": null,
   "metadata": {},
   "outputs": [],
   "source": []
  }
 ],
 "metadata": {
  "interpreter": {
   "hash": "1119d47f94ad9ac75885573077f663dd4dae1d75e807f23fe53292849f40bbc4"
  },
  "kernelspec": {
   "display_name": "Python 3.10.2 64-bit",
   "language": "python",
   "name": "python3"
  },
  "language_info": {
   "codemirror_mode": {
    "name": "ipython",
    "version": 3
   },
   "file_extension": ".py",
   "mimetype": "text/x-python",
   "name": "python",
   "nbconvert_exporter": "python",
   "pygments_lexer": "ipython3",
   "version": "3.10.2"
  },
  "orig_nbformat": 4
 },
 "nbformat": 4,
 "nbformat_minor": 2
}
