{
 "cells": [
  {
   "cell_type": "markdown",
   "metadata": {},
   "source": [
    "IF-ELSE"
   ]
  },
  {
   "cell_type": "code",
   "execution_count": null,
   "metadata": {},
   "outputs": [],
   "source": [
    "if condition1: \n",
    "    execute body1\n",
    "else :\n",
    "    execute body2"
   ]
  },
  {
   "cell_type": "code",
   "execution_count": 5,
   "metadata": {},
   "outputs": [
    {
     "name": "stdout",
     "output_type": "stream",
     "text": [
      "you guaranteed the job\n"
     ]
    }
   ],
   "source": [
    "course = \"clarusway\"\n",
    "if course == \"clarusway\" :  # Bu kurs clarusway'e mi eşit ? \n",
    "    print(\"you guaranteed the job\")\n",
    "else : \n",
    "    print(\"think about it again\")"
   ]
  },
  {
   "cell_type": "code",
   "execution_count": 6,
   "metadata": {},
   "outputs": [
    {
     "name": "stdout",
     "output_type": "stream",
     "text": [
      "Number is bigger than 3\n"
     ]
    }
   ],
   "source": [
    "number = 5 \n",
    "if number <= 3 : \n",
    "    print(\"Number is smaller than or equal to 3\")\n",
    "else : \n",
    "    print(\"Number is bigger than 3\")"
   ]
  },
  {
   "cell_type": "code",
   "execution_count": 12,
   "metadata": {},
   "outputs": [
    {
     "name": "stdout",
     "output_type": "stream",
     "text": [
      "12 is even\n"
     ]
    }
   ],
   "source": [
    "number = int(input(\"Please enter a number :\"))\n",
    "if number % 2 == 0 :\n",
    "    print(number, \"is even\")\n",
    "else :\n",
    "    print(number, \"is odd\") "
   ]
  },
  {
   "cell_type": "code",
   "execution_count": 18,
   "metadata": {},
   "outputs": [
    {
     "name": "stdout",
     "output_type": "stream",
     "text": [
      "3.0 is positive number\n"
     ]
    }
   ],
   "source": [
    "number = float(input(\"Please enter a number except 0 :\"))\n",
    "if number < 0 :\n",
    "    print(\"{} is negative number\".format(number))\n",
    "else : \n",
    "    print(\"{} is positive number\".format(number))"
   ]
  },
  {
   "cell_type": "code",
   "execution_count": 23,
   "metadata": {},
   "outputs": [
    {
     "name": "stdout",
     "output_type": "stream",
     "text": [
      "35.0 is the large number\n"
     ]
    }
   ],
   "source": [
    "number1 = float(input(\"Please enter a first number :\"))\n",
    "number2 = float(input(\"Please enter a second number :\"))\n",
    "if number1 > number2 :\n",
    "    print(f\"{number1} is the large number\")\n",
    "else :\n",
    "    print(f\"{number2} is the large number\")"
   ]
  },
  {
   "cell_type": "code",
   "execution_count": 29,
   "metadata": {},
   "outputs": [
    {
     "name": "stdout",
     "output_type": "stream",
     "text": [
      "Yes\n"
     ]
    }
   ],
   "source": [
    "bool_value = True\n",
    "\n",
    "if bool_value :\n",
    "    print(\"Yes\")\n",
    "else :\n",
    "    print(\"No\")"
   ]
  },
  {
   "cell_type": "markdown",
   "metadata": {},
   "source": [
    "IF - ELIF - ELSE "
   ]
  },
  {
   "cell_type": "code",
   "execution_count": null,
   "metadata": {},
   "outputs": [],
   "source": [
    "if condition1:\n",
    "    execute body1\n",
    "elif condition2:\n",
    "    execute body2\n",
    "else:\n",
    "    execute body3"
   ]
  },
  {
   "cell_type": "code",
   "execution_count": 30,
   "metadata": {},
   "outputs": [
    {
     "name": "stdout",
     "output_type": "stream",
     "text": [
      "No such audience, stay at your home\n"
     ]
    }
   ],
   "source": [
    "audience = \"baby\"\n",
    "\n",
    "if audience == \"kid\" :\n",
    "    print(\"it is free to go to cinema\")\n",
    "elif audience == \"teen\" :\n",
    "    print(\"discounted price!\")\n",
    "elif audience == \"adult\" :\n",
    "    print(\"normal price\")\n",
    "else : \n",
    "    print(\"No such audience, stay at your home\")"
   ]
  },
  {
   "cell_type": "code",
   "execution_count": 32,
   "metadata": {},
   "outputs": [
    {
     "name": "stdout",
     "output_type": "stream",
     "text": [
      "The largest number is 35.0\n"
     ]
    }
   ],
   "source": [
    "num_1 = float(input(\"Enter first number :\"))\n",
    "num_2 = float(input(\"Enter second number :\"))\n",
    "num_3 = float(input(\"Enter third number :\"))\n",
    "\n",
    "if (num_1 > num_2) and (num_1 > num_3) : \n",
    "    print(f\"The largest number is {num_1}\")\n",
    "elif (num_2 > num_1) and (num_2 > num_3) : \n",
    "    print(f\"The largest number is {num_2}\")\n",
    "else :\n",
    "    print(f\"The largest number is {num_3}\")\n"
   ]
  },
  {
   "cell_type": "code",
   "execution_count": 4,
   "metadata": {},
   "outputs": [
    {
     "name": "stdout",
     "output_type": "stream",
     "text": [
      "The largest number is: 25.0\n"
     ]
    }
   ],
   "source": [
    "first_number = float(input(\"Lütfen 1. sayıyı giriniz?\"))\n",
    "seccond_number =float(input(\"Lütfen 2. sayıyı giriniz?\"))\n",
    "third_number = float(input(\"Lütfen 3. sayıyı giriniz?\"))\n",
    "if (first_number > seccond_number) and (first_number > third_number) :\n",
    "    largest = first_number\n",
    "elif (seccond_number > first_number ) and (seccond_number > third_number) :\n",
    "    largest = seccond_number\n",
    "else :\n",
    "    largest = third_number\n",
    "\n",
    "print((\"The largest number is:\"),largest)"
   ]
  },
  {
   "cell_type": "code",
   "execution_count": 36,
   "metadata": {},
   "outputs": [
    {
     "name": "stdout",
     "output_type": "stream",
     "text": [
      "25.0 is positive number\n"
     ]
    }
   ],
   "source": [
    "number = float(input(\"Enter a number :\"))\n",
    "if number > 0 : \n",
    "    print(\"{} is positive number\".format(number))\n",
    "elif number == 0 : \n",
    "    print(\"{} is notr\".format(number))\n",
    "else :\n",
    "    print(\"{} is negative number\".format(number))"
   ]
  },
  {
   "cell_type": "code",
   "execution_count": 48,
   "metadata": {},
   "outputs": [
    {
     "name": "stdout",
     "output_type": "stream",
     "text": [
      "B-\n"
     ]
    }
   ],
   "source": [
    "exam_score = float(input(\"Öğrencinin sınav notunu giriniz?\"))\n",
    "if exam_score >= 95 :\n",
    "    print(\"A+\")\n",
    "elif exam_score < 95 and exam_score >= 90 :\n",
    "    print(\"A\")\n",
    "elif exam_score < 90 and exam_score >= 85 :\n",
    "    print(\"B+\")\n",
    "elif exam_score < 85 and exam_score >= 80 :\n",
    "    print(\"B\")\n",
    "else:\n",
    "    print(\"B-\")\n"
   ]
  },
  {
   "cell_type": "markdown",
   "metadata": {},
   "source": [
    "NESTED STRUCTURE OF PRE-CLASS EXAMPLES"
   ]
  },
  {
   "cell_type": "code",
   "execution_count": 37,
   "metadata": {},
   "outputs": [
    {
     "name": "stdout",
     "output_type": "stream",
     "text": [
      "discounted price!\n"
     ]
    }
   ],
   "source": [
    "audience_group = \"kid\", \"teen\", \"adult\"\n",
    "audience = \"teen\"\n",
    "\n",
    "if audience in audience_group : \n",
    "    if audience == \"kid\" : \n",
    "        print(\"it is free to go to cinema\")\n",
    "    elif audience == \"teen\" : \n",
    "        print(\"discounted price!\")\n",
    "    else :\n",
    "        print(\"normal price\")\n",
    "\n",
    "else :\n",
    "    print(\"No such audience, stay at home!\")"
   ]
  },
  {
   "cell_type": "code",
   "execution_count": 51,
   "metadata": {},
   "outputs": [
    {
     "name": "stdout",
     "output_type": "stream",
     "text": [
      "student's degree is B\n"
     ]
    }
   ],
   "source": [
    "score = int(input('enter student\\'s number :'))\n",
    "if score >= 90 : \n",
    "    if score >= 95 :\n",
    "        print(\"Student's degree is A+\")\n",
    "    else :\n",
    "        print(\"student's degree is A\")\n",
    "elif score >= 80 :\n",
    "    if score >= 85 :\n",
    "        print(\"Student's degree is B+\")\n",
    "    else :\n",
    "        print(\"student's degree is B\")\n",
    "else : \n",
    "    print(\"Below B\")"
   ]
  },
  {
   "cell_type": "code",
   "execution_count": 57,
   "metadata": {},
   "outputs": [
    {
     "name": "stdout",
     "output_type": "stream",
     "text": [
      "Your degree: B+\n"
     ]
    }
   ],
   "source": [
    "score = int(input('enter student\\'s number :'))\n",
    "if score >= 90 : \n",
    "    if score >= 95 :\n",
    "        score_letter = \"A+\"\n",
    "    else :\n",
    "        score_letter = \"A\"\n",
    "elif score >= 80 :\n",
    "    if score >= 85 :\n",
    "        score_letter = \"B+\"\n",
    "    else :\n",
    "        score_letter = \"B\"\n",
    "else : \n",
    "    print(\"Below B\")\n",
    "print(\"Your degree:\", score_letter)"
   ]
  },
  {
   "cell_type": "code",
   "execution_count": 50,
   "metadata": {},
   "outputs": [
    {
     "name": "stdout",
     "output_type": "stream",
     "text": [
      "B\n"
     ]
    }
   ],
   "source": [
    "# NESTED olmadan boolean olarak çözümü (Kendime ait)\n",
    "\n",
    "exam_score = float(input(\"Öğrencinin sınav notunu giriniz?\"))\n",
    "if exam_score >= 95 :\n",
    "    print(\"A+\")\n",
    "elif exam_score < 95 and exam_score >= 90 :\n",
    "    print(\"A\")\n",
    "elif exam_score < 90 and exam_score >= 85 :\n",
    "    print(\"B+\")\n",
    "elif exam_score < 85 and exam_score >= 80 :\n",
    "    print(\"B\")\n",
    "else:\n",
    "    print(\"B-\")"
   ]
  },
  {
   "cell_type": "markdown",
   "metadata": {},
   "source": [
    "## LOOPS\n",
    "\n",
    "While Loop : Bir condition vardır yani TRUE, FALSE vardır. Eğer bir condition eğer TRUE ise sürekli devam eder kod bloğu içinde. Condition FALSE'a döndüğü anda body'den çıkıyor. \n",
    "For Loop : Sayı sayıyor, mesela bir iterable'ın eleman sayısı üzerinde iterate ediyorsak ve eleman sayısı 5 ise 5 kere kodumuzu çalıştırıyor. Eğer 1000 ise 1000 kere kodumuzu çalıştırıyor. O sayıyı bitirene kadar iterate ediyor (yeniliyor) Sırayla teker teker kod bloğunu çalıştırır. "
   ]
  },
  {
   "cell_type": "markdown",
   "metadata": {},
   "source": [
    "While Loop "
   ]
  },
  {
   "cell_type": "code",
   "execution_count": null,
   "metadata": {},
   "outputs": [],
   "source": [
    "while conditions :  # While condition'ı TRUE döndüğü sürece alt kısmındaki body de yer alanları sürekli çalıştırır. False olduğunda durur. \n",
    "    body "
   ]
  },
  {
   "cell_type": "code",
   "execution_count": 59,
   "metadata": {},
   "outputs": [],
   "source": [
    "while 0 :  # Buradaki condition 0 olduğu için Falsy'dir ve döngüye girmez. \n",
    "    print(\"sıfır\")"
   ]
  },
  {
   "cell_type": "code",
   "execution_count": 60,
   "metadata": {},
   "outputs": [
    {
     "name": "stdout",
     "output_type": "stream",
     "text": [
      "0\n",
      "1\n",
      "2\n",
      "3\n",
      "4\n",
      "5\n",
      "now, number is bigger or equal to 6\n"
     ]
    }
   ],
   "source": [
    "number = 0\n",
    "while number < 6 :\n",
    "    print(number)\n",
    "    number += 1\n",
    "print(\"now, number is bigger or equal to 6\")\n"
   ]
  },
  {
   "cell_type": "code",
   "execution_count": null,
   "metadata": {},
   "outputs": [],
   "source": [
    "condition = 5  # False'a eşit olamadığı için sonsuz döngüye girer. \n",
    "while condition :\n",
    "    print(condition)"
   ]
  },
  {
   "cell_type": "code",
   "execution_count": 65,
   "metadata": {},
   "outputs": [
    {
     "name": "stdout",
     "output_type": "stream",
     "text": [
      "4\n",
      "3\n",
      "2\n",
      "1\n",
      "0\n"
     ]
    }
   ],
   "source": [
    "condition = 5  # False'a eşit olamadığı için sonsuz döngüye girer. \n",
    "while True :\n",
    "    condition -= 1\n",
    "    print(condition)\n",
    "    \n",
    "    if condition == 0 :\n",
    "        break"
   ]
  },
  {
   "cell_type": "code",
   "execution_count": null,
   "metadata": {},
   "outputs": [],
   "source": []
  }
 ],
 "metadata": {
  "interpreter": {
   "hash": "1119d47f94ad9ac75885573077f663dd4dae1d75e807f23fe53292849f40bbc4"
  },
  "kernelspec": {
   "display_name": "Python 3.10.2 64-bit",
   "language": "python",
   "name": "python3"
  },
  "language_info": {
   "codemirror_mode": {
    "name": "ipython",
    "version": 3
   },
   "file_extension": ".py",
   "mimetype": "text/x-python",
   "name": "python",
   "nbconvert_exporter": "python",
   "pygments_lexer": "ipython3",
   "version": "3.10.2"
  },
  "orig_nbformat": 4
 },
 "nbformat": 4,
 "nbformat_minor": 2
}
