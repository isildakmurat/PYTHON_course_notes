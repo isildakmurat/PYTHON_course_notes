{
 "cells": [
  {
   "cell_type": "code",
   "execution_count": null,
   "metadata": {},
   "outputs": [],
   "source": [
    "while condition1 :\n",
    "    body1\n",
    "    while condition2 : \n",
    "        body2\n",
    "        break\n",
    "    break"
   ]
  },
  {
   "cell_type": "code",
   "execution_count": 1,
   "metadata": {},
   "outputs": [
    {
     "name": "stdout",
     "output_type": "stream",
     "text": [
      "square of 0 is : 0\n",
      "square of 1 is : 1\n",
      "square of 2 is : 4\n",
      "square of 3 is : 9\n",
      "square of 4 is : 16\n"
     ]
    }
   ],
   "source": [
    "my_list = [\"a\", \"b\", \"c\", \"d\", \"e\"]\n",
    "a = 0\n",
    "while a < len(my_list) : \n",
    "    print(\"square of {} is : {}\".format(a, a**2))\n",
    "    a += 1\n"
   ]
  },
  {
   "cell_type": "code",
   "execution_count": 10,
   "metadata": {},
   "outputs": [
    {
     "data": {
      "text/plain": [
       "False"
      ]
     },
     "execution_count": 10,
     "metadata": {},
     "output_type": "execute_result"
    }
   ],
   "source": [
    "\"cka\".isnumeric()"
   ]
  },
  {
   "cell_type": "code",
   "execution_count": 19,
   "metadata": {},
   "outputs": [
    {
     "name": "stdout",
     "output_type": "stream",
     "text": [
      "You entered incorrectly\n",
      "You entered incorrectly\n",
      "Thank you\n"
     ]
    }
   ],
   "source": [
    "user_age = input(\"Enter your age :\")\n",
    "\n",
    "while not user_age.isdigit() :\n",
    "    print(\"You entered incorrectly\")\n",
    "    user_age = input(\"Enter your age again :\")\n",
    "\n",
    "\n",
    "print(\"Thank you\")"
   ]
  },
  {
   "cell_type": "code",
   "execution_count": 20,
   "metadata": {},
   "outputs": [
    {
     "data": {
      "text/plain": [
       "False"
      ]
     },
     "execution_count": 20,
     "metadata": {},
     "output_type": "execute_result"
    }
   ],
   "source": [
    "yaş = \"onanltı\"\n",
    "yaş.isdigit()  # Girilen tüm değerlerin string olarak 0,1,2,...9 olmasını istiyor. \n"
   ]
  },
  {
   "cell_type": "code",
   "execution_count": 2,
   "metadata": {},
   "outputs": [
    {
     "name": "stdout",
     "output_type": "stream",
     "text": [
      "Great! You entered valid input\n"
     ]
    }
   ],
   "source": [
    "age = input(\"how old are you?\")\n",
    "\n",
    "while not age.isdigit() : \n",
    "\n",
    "    print(\"You entered incorrectly\")\n",
    "\n",
    "    age = input(\"Enter your age please\")\n",
    "\n",
    "print(\"Great! You entered valid input\")"
   ]
  },
  {
   "cell_type": "code",
   "execution_count": 6,
   "metadata": {},
   "outputs": [
    {
     "name": "stdout",
     "output_type": "stream",
     "text": [
      "Bilemedin\n",
      "Bilemedin\n",
      "Bilemedin\n",
      "Tebrik ederim, bildin\n"
     ]
    }
   ],
   "source": [
    "number = 15\n",
    "guess_number = int(input(\"Aklımdaki sayıyı tahmin et?\"))\n",
    "\n",
    "while number > guess_number :\n",
    "    print(\"Bilemedin\")\n",
    "    guess_number = int(input(\"Biraz yukarı, tekrar tahmin et?\"))\n",
    "    while number < guess_number :\n",
    "        print(\"Bilemedin\")\n",
    "        guess_number = int(input(\"Biraz aşağı, tekrar tahmin et?\"))\n",
    "\n",
    "if number == guess_number :\n",
    "        print(\"Tebrik ederim, bildin\")"
   ]
  },
  {
   "cell_type": "code",
   "execution_count": 12,
   "metadata": {},
   "outputs": [
    {
     "name": "stdout",
     "output_type": "stream",
     "text": [
      "Little lower...\n",
      "Are you a MINDREADER!!\n"
     ]
    }
   ],
   "source": [
    "number = 15\n",
    "\n",
    "while True :\n",
    "    guess = int(input(\"enter a number : \"))\n",
    "    if guess < number :\n",
    "        print(\"Little higher...\") \n",
    "    \n",
    "    elif guess > number :\n",
    "         print(\"Little lower...\")\n",
    "   \n",
    "    else :\n",
    "        print(\"Are you a MINDREADER!!\")\n",
    "        break\n",
    "\n",
    "\n"
   ]
  },
  {
   "cell_type": "code",
   "execution_count": 10,
   "metadata": {},
   "outputs": [
    {
     "name": "stdout",
     "output_type": "stream",
     "text": [
      "The lenght of the longest word is 9\n"
     ]
    }
   ],
   "source": [
    "sentence = input(\"Please enter a sentence at least 2 word :\")\n",
    "list_sentence = sentence.split()\n",
    "lenght_list = len(list_sentence)\n",
    "lengt_assume = 0\n",
    "longest = 0\n",
    "\n",
    "while lengt_assume < lenght_list :\n",
    "    if len(list_sentence[lengt_assume]) > longest :\n",
    "        longest = len(list_sentence[lengt_assume])\n",
    "\n",
    "    lengt_assume += 1\n",
    "print(\"The lenght of the longest word is\", longest)\n",
    "\n"
   ]
  },
  {
   "cell_type": "code",
   "execution_count": 15,
   "metadata": {},
   "outputs": [
    {
     "name": "stdout",
     "output_type": "stream",
     "text": [
      "The lenght of the longest word :  8\n"
     ]
    }
   ],
   "source": [
    "sentence = input(\"Enter a sentence at least 2 word?\")\n",
    "word_list= sentence.split()\n",
    "longest = 0\n",
    "i = 0\n",
    "while i < len(word_list) :\n",
    "    if len(word_list[i]) > longest :\n",
    "            longest = len(word_list[i])\n",
    "\n",
    "    i += 1\n",
    "\n",
    "print(\"The lenght of the longest word : \", longest)"
   ]
  },
  {
   "cell_type": "markdown",
   "metadata": {},
   "source": [
    "## FOR LOOP \n",
    "Burada bir şart ya da koşul yoktur. Sadece bir iterable var ve bu iterable'ın değişkene (variable) atanması durumu var. "
   ]
  },
  {
   "cell_type": "code",
   "execution_count": null,
   "metadata": {},
   "outputs": [],
   "source": [
    "for variable in iterable : \n",
    "    body"
   ]
  },
  {
   "cell_type": "code",
   "execution_count": 16,
   "metadata": {},
   "outputs": [
    {
     "name": "stdout",
     "output_type": "stream",
     "text": [
      "1\n",
      "2\n",
      "3\n",
      "4\n",
      "5\n"
     ]
    }
   ],
   "source": [
    "for i in [1, 2, 3, 4, 5] :\n",
    "    print(i)  # Bu bizim code body miz. "
   ]
  },
  {
   "cell_type": "code",
   "execution_count": 16,
   "metadata": {},
   "outputs": [
    {
     "name": "stdout",
     "output_type": "stream",
     "text": [
      "ali\n",
      "deli\n",
      "veli\n"
     ]
    }
   ],
   "source": [
    "benim_listem = [\"ali\", \"deli\", \"veli\"]\n",
    "print(benim_listem[0])\n",
    "print(benim_listem[1])\n",
    "print(benim_listem[2])  # Normalde tek tek bu şekilde yazdırmamız gerekirken for ile tek bir kere de yazdırabiliriz. "
   ]
  },
  {
   "cell_type": "code",
   "execution_count": 19,
   "metadata": {},
   "outputs": [
    {
     "name": "stdout",
     "output_type": "stream",
     "text": [
      "ali\n",
      "deli\n",
      "veli\n"
     ]
    }
   ],
   "source": [
    "benim_listem = [\"ali\", \"deli\", \"veli\"]\n",
    "for i in benim_listem :\n",
    "    print(i)"
   ]
  },
  {
   "cell_type": "code",
   "execution_count": 20,
   "metadata": {},
   "outputs": [
    {
     "name": "stdout",
     "output_type": "stream",
     "text": [
      "Hello Ahmed\n",
      "Hello Aisha\n",
      "Hello Adam\n",
      "Hello Joseph\n",
      "Hello Beyza\n"
     ]
    }
   ],
   "source": [
    "names = [\"Ahmed\", \"Aisha\", \"Adam\", \"Joseph\", \"Beyza\"]\n",
    "for name in names : \n",
    "    print(\"Hello\", name)"
   ]
  },
  {
   "cell_type": "code",
   "execution_count": 21,
   "metadata": {},
   "outputs": [
    {
     "name": "stdout",
     "output_type": "stream",
     "text": [
      "Hello Ahmed\n",
      "Hello AishaAdam\n",
      "Hello Joseph\n",
      "Hello Gabriel\n"
     ]
    }
   ],
   "source": [
    "names = [\"Ahmed\", \"Aisha\" \"Adam\", \"Joseph\", \"Gabriel\"]\n",
    "for name in names:\n",
    "    print(f\"Hello {name}\")"
   ]
  },
  {
   "cell_type": "code",
   "execution_count": 22,
   "metadata": {},
   "outputs": [
    {
     "name": "stdout",
     "output_type": "stream",
     "text": [
      "Hello Ahmed\n",
      "Hello AishaAdam\n",
      "Hello Joseph\n",
      "Hello Gabriel\n"
     ]
    }
   ],
   "source": [
    "names = [\"Ahmed\", \"Aisha\" \"Adam\", \"Joseph\", \"Gabriel\"]\n",
    "for name in names:\n",
    "    print(\"Hello {}\".format(name))"
   ]
  },
  {
   "cell_type": "code",
   "execution_count": 21,
   "metadata": {},
   "outputs": [],
   "source": [
    "List_range = list(range(1,6))"
   ]
  },
  {
   "cell_type": "code",
   "execution_count": 22,
   "metadata": {},
   "outputs": [
    {
     "name": "stdout",
     "output_type": "stream",
     "text": [
      "1\n",
      "2\n",
      "3\n",
      "4\n",
      "5\n"
     ]
    }
   ],
   "source": [
    "for i in List_range : \n",
    "    print(i)"
   ]
  },
  {
   "cell_type": "code",
   "execution_count": 24,
   "metadata": {},
   "outputs": [
    {
     "name": "stdout",
     "output_type": "stream",
     "text": [
      "[1]\n",
      "[1, 2]\n",
      "[1, 2, 3]\n",
      "[1, 2, 3, 4]\n",
      "[1, 2, 3, 4, 5]\n"
     ]
    }
   ],
   "source": [
    "numbers = []  # Boş liste oluşturduk ve içine eleman atacağız. \n",
    "for i in range(1, 6) : \n",
    "    numbers.append(i)\n",
    "    print(numbers)\n"
   ]
  },
  {
   "cell_type": "markdown",
   "metadata": {},
   "source": [
    "Aşağıda elemanlarına ayrılabilen metodlar yer almaktadır. Yani iterable lar. \n",
    "\n",
    "str\n",
    "list\n",
    "tuple\n",
    "dict\n",
    "set"
   ]
  },
  {
   "cell_type": "code",
   "execution_count": 25,
   "metadata": {},
   "outputs": [
    {
     "name": "stdout",
     "output_type": "stream",
     "text": [
      "a\n",
      "l\n",
      "i\n"
     ]
    }
   ],
   "source": [
    "for i in \"ali\" :\n",
    "    print(i)"
   ]
  },
  {
   "cell_type": "code",
   "execution_count": 26,
   "metadata": {},
   "outputs": [
    {
     "ename": "TypeError",
     "evalue": "'int' object is not iterable",
     "output_type": "error",
     "traceback": [
      "\u001b[1;31m---------------------------------------------------------------------------\u001b[0m",
      "\u001b[1;31mTypeError\u001b[0m                                 Traceback (most recent call last)",
      "Input \u001b[1;32mIn [26]\u001b[0m, in \u001b[0;36m<module>\u001b[1;34m\u001b[0m\n\u001b[1;32m----> 1\u001b[0m \u001b[39mfor\u001b[39;00m i \u001b[39min\u001b[39;00m \u001b[39m5\u001b[39m :\n\u001b[0;32m      2\u001b[0m     \u001b[39mprint\u001b[39m(i)\n",
      "\u001b[1;31mTypeError\u001b[0m: 'int' object is not iterable"
     ]
    }
   ],
   "source": [
    "for i in 5 :\n",
    "    print(i)"
   ]
  },
  {
   "cell_type": "code",
   "execution_count": 10,
   "metadata": {},
   "outputs": [
    {
     "name": "stdout",
     "output_type": "stream",
     "text": [
      "c-l-a-r-u-s-w-a-y"
     ]
    }
   ],
   "source": [
    "word = input(\"enter a word\")\n",
    "counter = 0\n",
    "for i in word : \n",
    "    counter += 1\n",
    "    if counter < len(word) :\n",
    "        i += \"-\"\n",
    "    print(i, end = \"\")\n"
   ]
  },
  {
   "cell_type": "code",
   "execution_count": null,
   "metadata": {},
   "outputs": [],
   "source": []
  },
  {
   "cell_type": "code",
   "execution_count": null,
   "metadata": {},
   "outputs": [],
   "source": []
  }
 ],
 "metadata": {
  "interpreter": {
   "hash": "1119d47f94ad9ac75885573077f663dd4dae1d75e807f23fe53292849f40bbc4"
  },
  "kernelspec": {
   "display_name": "Python 3.10.2 64-bit",
   "language": "python",
   "name": "python3"
  },
  "language_info": {
   "codemirror_mode": {
    "name": "ipython",
    "version": 3
   },
   "file_extension": ".py",
   "mimetype": "text/x-python",
   "name": "python",
   "nbconvert_exporter": "python",
   "pygments_lexer": "ipython3",
   "version": "3.10.2"
  },
  "orig_nbformat": 4
 },
 "nbformat": 4,
 "nbformat_minor": 2
}
