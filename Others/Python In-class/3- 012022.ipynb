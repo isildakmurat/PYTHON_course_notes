{
 "cells": [
  {
   "cell_type": "markdown",
   "metadata": {},
   "source": [
    "Arithmetic Operations"
   ]
  },
  {
   "cell_type": "code",
   "execution_count": 1,
   "metadata": {},
   "outputs": [
    {
     "data": {
      "text/plain": [
       "10"
      ]
     },
     "execution_count": 1,
     "metadata": {},
     "output_type": "execute_result"
    }
   ],
   "source": [
    "değişken = 10\n",
    "değişken "
   ]
  },
  {
   "cell_type": "code",
   "execution_count": 2,
   "metadata": {},
   "outputs": [
    {
     "data": {
      "text/plain": [
       "11"
      ]
     },
     "execution_count": 2,
     "metadata": {},
     "output_type": "execute_result"
    }
   ],
   "source": [
    "değişken = değişken + 1\n",
    "değişken"
   ]
  },
  {
   "cell_type": "code",
   "execution_count": 3,
   "metadata": {},
   "outputs": [
    {
     "data": {
      "text/plain": [
       "12"
      ]
     },
     "execution_count": 3,
     "metadata": {},
     "output_type": "execute_result"
    }
   ],
   "source": [
    "değişken = değişken + 1\n",
    "değişken"
   ]
  },
  {
   "cell_type": "code",
   "execution_count": 4,
   "metadata": {},
   "outputs": [
    {
     "data": {
      "text/plain": [
       "10"
      ]
     },
     "execution_count": 4,
     "metadata": {},
     "output_type": "execute_result"
    }
   ],
   "source": [
    "değişken2 = 5\n",
    "değişken2 = değişken2 * 2\n",
    "değişken2"
   ]
  },
  {
   "cell_type": "code",
   "execution_count": 6,
   "metadata": {},
   "outputs": [
    {
     "data": {
      "text/plain": [
       "20"
      ]
     },
     "execution_count": 6,
     "metadata": {},
     "output_type": "execute_result"
    }
   ],
   "source": [
    "değişken2 = değişken2 * 2\n",
    "değişken2"
   ]
  },
  {
   "cell_type": "markdown",
   "metadata": {},
   "source": [
    "değişken = değişken + 1  # Bu ve aşağıdaki aynıdır. Aşağıda yazan ifade daha kısa halidir.  \n",
    "değişken += 1 "
   ]
  },
  {
   "cell_type": "code",
   "execution_count": 8,
   "metadata": {},
   "outputs": [
    {
     "data": {
      "text/plain": [
       "13"
      ]
     },
     "execution_count": 8,
     "metadata": {},
     "output_type": "execute_result"
    }
   ],
   "source": [
    "değişken = 12\n",
    "değişken += 1 \n",
    "değişken "
   ]
  },
  {
   "cell_type": "code",
   "execution_count": 10,
   "metadata": {},
   "outputs": [
    {
     "data": {
      "text/plain": [
       "20"
      ]
     },
     "execution_count": 10,
     "metadata": {},
     "output_type": "execute_result"
    }
   ],
   "source": [
    "değişken = 10\n",
    "değişken *= 2\n",
    "değişken "
   ]
  },
  {
   "cell_type": "code",
   "execution_count": 11,
   "metadata": {},
   "outputs": [
    {
     "data": {
      "text/plain": [
       "40"
      ]
     },
     "execution_count": 11,
     "metadata": {},
     "output_type": "execute_result"
    }
   ],
   "source": [
    "değişken2 *= 2  # Artık yeni değer olarak değişken değerini 20 olarak kabul eder. \n",
    "değişken2"
   ]
  },
  {
   "cell_type": "code",
   "execution_count": 12,
   "metadata": {},
   "outputs": [
    {
     "data": {
      "text/plain": [
       "10"
      ]
     },
     "execution_count": 12,
     "metadata": {},
     "output_type": "execute_result"
    }
   ],
   "source": [
    "a = 8\n",
    "b = 2\n",
    "a += b\n",
    "a"
   ]
  },
  {
   "cell_type": "code",
   "execution_count": 13,
   "metadata": {},
   "outputs": [
    {
     "data": {
      "text/plain": [
       "20"
      ]
     },
     "execution_count": 13,
     "metadata": {},
     "output_type": "execute_result"
    }
   ],
   "source": [
    "a *= b\n",
    "a"
   ]
  },
  {
   "cell_type": "markdown",
   "metadata": {},
   "source": [
    "İşlem önceliğinde; \n",
    "1. parentheses ()\n",
    "2. power ** \n",
    "3. unary minus: -3\n",
    "4. multiplication and division: *, /\n",
    "5. addition and subtraction: +, - "
   ]
  },
  {
   "cell_type": "code",
   "execution_count": 15,
   "metadata": {},
   "outputs": [
    {
     "name": "stdout",
     "output_type": "stream",
     "text": [
      "4.0\n"
     ]
    }
   ],
   "source": [
    "a = (1+3) ** (2 ** (1 * 2 / 2) / 2)  # Bölme işleminin olduğu yerde float olarak devam eder. \n",
    "print(a) \n"
   ]
  },
  {
   "cell_type": "code",
   "execution_count": 21,
   "metadata": {},
   "outputs": [
    {
     "data": {
      "text/plain": [
       "5.0"
      ]
     },
     "execution_count": 21,
     "metadata": {},
     "output_type": "execute_result"
    }
   ],
   "source": [
    "a = 3\n",
    "b = 4\n",
    "c = (a ** 2 + b ** 2) ** (0.5)  # 0.5 değeri aynı zamanda 1/2 değeri olduğu için yani bölme işlemi uygulandığından ötürü yine sonucumuz float dır. \n",
    "c"
   ]
  },
  {
   "cell_type": "code",
   "execution_count": 25,
   "metadata": {},
   "outputs": [
    {
     "data": {
      "text/plain": [
       "5"
      ]
     },
     "execution_count": 25,
     "metadata": {},
     "output_type": "execute_result"
    }
   ],
   "source": [
    "#calculate the hypotenuse of a triangle (c = ?)\n",
    "a = 3\n",
    "b = 4\n",
    "c = (a ** 2 + b ** 2) ** 0.5\n",
    "int(c)"
   ]
  },
  {
   "cell_type": "markdown",
   "metadata": {},
   "source": [
    "Operations with print() function\n"
   ]
  },
  {
   "cell_type": "code",
   "execution_count": 28,
   "metadata": {},
   "outputs": [
    {
     "name": "stdout",
     "output_type": "stream",
     "text": [
      "we have reached 2021\n"
     ]
    }
   ],
   "source": [
    "number = 2021\n",
    "text = \"we have reached\"\n",
    "print(text, number)"
   ]
  },
  {
   "cell_type": "code",
   "execution_count": 29,
   "metadata": {},
   "outputs": [
    {
     "name": "stdout",
     "output_type": "stream",
     "text": [
      "ali\n",
      "deli veli\n",
      "selvi baharat 44\n",
      "5.0 False ahmet 3.14\n"
     ]
    }
   ],
   "source": [
    "print(\"ali\")\n",
    "print(\"deli\", \"veli\")\n",
    "print(\"selvi\", \"baharat\", 44)\n",
    "print(c, False, \"ahmet\", 3.14)"
   ]
  },
  {
   "cell_type": "code",
   "execution_count": 31,
   "metadata": {},
   "outputs": [
    {
     "name": "stdout",
     "output_type": "stream",
     "text": [
      "5.0-False-ahmet-3.14\n"
     ]
    }
   ],
   "source": [
    "print(c, False, \"ahmet\", 3.14, sep = \"-\")  # sep = \" \" fonksiyonu sayesinde çift tırnak arasına hangi değeri koyarsak onu değerlerimizin arasına atar. "
   ]
  },
  {
   "cell_type": "code",
   "execution_count": 32,
   "metadata": {},
   "outputs": [
    {
     "name": "stdout",
     "output_type": "stream",
     "text": [
      "5.0*False*ahmet*3.14\n"
     ]
    }
   ],
   "source": [
    "print(c, False, \"ahmet\", 3.14, sep = \"*\")"
   ]
  },
  {
   "cell_type": "code",
   "execution_count": 36,
   "metadata": {},
   "outputs": [
    {
     "name": "stdout",
     "output_type": "stream",
     "text": [
      "ali veli ayşe\n"
     ]
    }
   ],
   "source": [
    "print(\"ali\", end = \" \")  # end = \" \" ifadesi, yazdığımız en son değerden sonra ne koyacağımızı ve bir alt satır değerinin de onun devamında gelmesini sağlar. \n",
    "print(\"veli\", \"ayşe\")"
   ]
  },
  {
   "cell_type": "code",
   "execution_count": 34,
   "metadata": {},
   "outputs": [
    {
     "name": "stdout",
     "output_type": "stream",
     "text": [
      "ali\n",
      "veli ayşe\n"
     ]
    }
   ],
   "source": [
    "print(\"ali\")  # Normal yazımda OUTPUT aşağıdaki gibidir. \n",
    "print(\"veli\", \"ayşe\")"
   ]
  },
  {
   "cell_type": "code",
   "execution_count": 38,
   "metadata": {},
   "outputs": [
    {
     "name": "stdout",
     "output_type": "stream",
     "text": [
      "5.0 False ahmet 3.14-ayşe\n"
     ]
    }
   ],
   "source": [
    "print(c, False, \"ahmet\", 3.14, end = \"-\")\n",
    "print(\"ayşe\")"
   ]
  },
  {
   "cell_type": "code",
   "execution_count": 40,
   "metadata": {},
   "outputs": [
    {
     "name": "stdout",
     "output_type": "stream",
     "text": [
      "I bought 6 kg. of apple this morning\n",
      "I bought 6 kg. of apple this morning\n",
      "I bought 6 kg. of apple this morning\n",
      "I bought 6 kg. of apple this morning\n"
     ]
    }
   ],
   "source": [
    "text1 = \"I bought\"\n",
    "text2 = \"kg. of apple this morning\"\n",
    "amount = 6 \n",
    "text3 = text1 + \" \" + str(amount) + \" \" + text2  # I bought 6 kg. of apple this morning\n",
    "print(text1, amount, text2)  # I bought 6 kg. of apple this morning\n",
    "print(\"I bought\", 6, \"kg. of apple this morning\")  # I bought 6 kg. of apple this morning\n",
    "print(\"I bought \" + \"6 \" + \"kg. of apple this morning\")  # I bought 6 kg. of apple this morning\n",
    "print(text3)"
   ]
  },
  {
   "cell_type": "markdown",
   "metadata": {},
   "source": [
    "Escape Sequences (review)\n",
    "\n",
    "Python ignores any character which comes immediately after \\\n",
    "\n",
    "Bu konu stringlerin için de \\ işaretinin kullanılması. Özel karakterlerin önüne gelir ise onu normalize eder ya da belirli harflerin önüne gelirse de farklı bir özellik kazanır. \\n, \\t, b\\ . Ya shirli hale getiriyor ya da sihirli olanı sihirsiz hale getiriyor. \n",
    "\\n : new line\n",
    "\\t : tab mark \n",
    "\\b : backspace"
   ]
  },
  {
   "cell_type": "code",
   "execution_count": 41,
   "metadata": {},
   "outputs": [
    {
     "ename": "SyntaxError",
     "evalue": "unterminated string literal (detected at line 1) (1447621355.py, line 1)",
     "output_type": "error",
     "traceback": [
      "\u001b[1;36m  Input \u001b[1;32mIn [41]\u001b[1;36m\u001b[0m\n\u001b[1;33m    print('Ahmet'in ceketi')\u001b[0m\n\u001b[1;37m                          ^\u001b[0m\n\u001b[1;31mSyntaxError\u001b[0m\u001b[1;31m:\u001b[0m unterminated string literal (detected at line 1)\n"
     ]
    }
   ],
   "source": [
    "print('Ahmet'in ceketi')  # tek tırnaklar uyuşmadığı için hata veriyor. Bu kapsamda orta kısımdaki tek tırnağın özelliğini kaldırıyoruz aşağıda. "
   ]
  },
  {
   "cell_type": "code",
   "execution_count": 42,
   "metadata": {},
   "outputs": [
    {
     "name": "stdout",
     "output_type": "stream",
     "text": [
      "Ahmet'in ceketi\n"
     ]
    }
   ],
   "source": [
    "print('Ahmet\\'in ceketi')  # Tek tırnağın önüne \\ koyduğumuzda artık özel bir karakter olmaktan çıkıyor ve hata vermeden yazdırıyor. Normal bir tırnak oldu."
   ]
  },
  {
   "cell_type": "code",
   "execution_count": 43,
   "metadata": {},
   "outputs": [
    {
     "name": "stdout",
     "output_type": "stream",
     "text": [
      "Ahmet\\in ceketi\n"
     ]
    }
   ],
   "source": [
    "print('Ahmet\\in ceketi')  # önündeki i harfi özel bir karakter olmadığı için normal string olarak yazdırdı. "
   ]
  },
  {
   "cell_type": "code",
   "execution_count": 44,
   "metadata": {},
   "outputs": [
    {
     "name": "stdout",
     "output_type": "stream",
     "text": [
      "Ayla\n",
      "ın çantası\n"
     ]
    }
   ],
   "source": [
    "print('Ayla\\nın çantası')  # n özel bir karakter olduğu için \\n olduğunda new line olarak sonrasını aşağıya atıyor. "
   ]
  },
  {
   "cell_type": "code",
   "execution_count": 45,
   "metadata": {},
   "outputs": [
    {
     "name": "stdout",
     "output_type": "stream",
     "text": [
      "Ayla\\nın çantası\n"
     ]
    }
   ],
   "source": [
    "print('Ayla\\\\nın çantası')  # \\n özel karakterinin de önünde \\ koyarsak, artık \\ karakterini işlem yapamaz hale getirir, etkisizleştirir. "
   ]
  },
  {
   "cell_type": "code",
   "execution_count": 46,
   "metadata": {},
   "outputs": [
    {
     "name": "stdout",
     "output_type": "stream",
     "text": [
      "C:\\north pole\n",
      "oise_penguins.txt\n",
      "----------\n",
      "first\tsecond\tthird\n"
     ]
    }
   ],
   "source": [
    "print('C:\\\\north pole\\noise_penguins.txt')\n",
    "print('----------')\n",
    "print('first', 'second', 'third', sep = '\\t')"
   ]
  },
  {
   "cell_type": "code",
   "execution_count": 49,
   "metadata": {},
   "outputs": [
    {
     "name": "stdout",
     "output_type": "stream",
     "text": [
      "we areoosting ourrotherhood\n",
      "it's essential to learn Python's libraries in IT world\n"
     ]
    }
   ],
   "source": [
    "print('we are', '\\boosting', 'our', '\\brotherhood')  # we areoostig ourrotherhood\n",
    "print('it\\'s essential to learn Python\\'s libraries in IT world')  # it's essential to learn Python's libraries in IT world"
   ]
  },
  {
   "cell_type": "markdown",
   "metadata": {},
   "source": [
    "Boolean Operations"
   ]
  },
  {
   "cell_type": "markdown",
   "metadata": {},
   "source": [
    "1- and : Eğer hepsi True ise bu ifadenin sonucu en SON elemandır. Bir tane bile False var ise ilk False'dur. "
   ]
  },
  {
   "cell_type": "code",
   "execution_count": 58,
   "metadata": {},
   "outputs": [
    {
     "data": {
      "text/plain": [
       "False"
      ]
     },
     "execution_count": 58,
     "metadata": {},
     "output_type": "execute_result"
    }
   ],
   "source": [
    "bool(\"\")  # Boş bir string False verir. "
   ]
  },
  {
   "cell_type": "code",
   "execution_count": 52,
   "metadata": {},
   "outputs": [
    {
     "data": {
      "text/plain": [
       "False"
      ]
     },
     "execution_count": 52,
     "metadata": {},
     "output_type": "execute_result"
    }
   ],
   "source": [
    "bool([])  # Boş bir liste False verir. "
   ]
  },
  {
   "cell_type": "code",
   "execution_count": 57,
   "metadata": {},
   "outputs": [
    {
     "data": {
      "text/plain": [
       "False"
      ]
     },
     "execution_count": 57,
     "metadata": {},
     "output_type": "execute_result"
    }
   ],
   "source": [
    "bool(())  # Boş bir tuple False verir. "
   ]
  },
  {
   "cell_type": "code",
   "execution_count": 54,
   "metadata": {},
   "outputs": [
    {
     "data": {
      "text/plain": [
       "False"
      ]
     },
     "execution_count": 54,
     "metadata": {},
     "output_type": "execute_result"
    }
   ],
   "source": [
    "bool({})  # Boş bir dictionary False verir. "
   ]
  },
  {
   "cell_type": "code",
   "execution_count": 56,
   "metadata": {},
   "outputs": [
    {
     "data": {
      "text/plain": [
       "False"
      ]
     },
     "execution_count": 56,
     "metadata": {},
     "output_type": "execute_result"
    }
   ],
   "source": [
    "bool(0)  # Boolean içindeki integer 0' da False verir. "
   ]
  },
  {
   "cell_type": "code",
   "execution_count": 55,
   "metadata": {},
   "outputs": [
    {
     "data": {
      "text/plain": [
       "False"
      ]
     },
     "execution_count": 55,
     "metadata": {},
     "output_type": "execute_result"
    }
   ],
   "source": [
    "bool(None)  # None ifadesi Falsy'dir. "
   ]
  },
  {
   "cell_type": "markdown",
   "metadata": {},
   "source": [
    "Yukarıda da yer aldığı gibi boş string, boş liste, boş tuple, boş dictionary ve bool(0) ile bool(None) dışında geri kalan her şey \"True\" verir. "
   ]
  },
  {
   "cell_type": "code",
   "execution_count": 53,
   "metadata": {},
   "outputs": [
    {
     "data": {
      "text/plain": [
       "True"
      ]
     },
     "execution_count": 53,
     "metadata": {},
     "output_type": "execute_result"
    }
   ],
   "source": [
    "bool(\"0\")  # Dolu bir string True verir. "
   ]
  },
  {
   "cell_type": "code",
   "execution_count": 59,
   "metadata": {},
   "outputs": [
    {
     "data": {
      "text/plain": [
       "True"
      ]
     },
     "execution_count": 59,
     "metadata": {},
     "output_type": "execute_result"
    }
   ],
   "source": [
    "bool(\" \")  # Bu boş bir string değildir, arada boşluk olduğu için bunu dolu bir string olarak kabul eder ve True verir. "
   ]
  },
  {
   "cell_type": "code",
   "execution_count": 61,
   "metadata": {},
   "outputs": [
    {
     "data": {
      "text/plain": [
       "0"
      ]
     },
     "execution_count": 61,
     "metadata": {},
     "output_type": "execute_result"
    }
   ],
   "source": [
    "0 and None and 1  # Arada \"and\" olduğu için tek tek elemanların Truty ya da Falsy olduklarına bakarız ve 0 Falsy olduğu için ilk Falsy bizim sonucumuzdur\n",
    "# Yukarıdaki ifade aslında şu şekilde de yazılabilir. False and False and True "
   ]
  },
  {
   "cell_type": "markdown",
   "metadata": {},
   "source": [
    "2- or : Eğer hepsi False ise bu ifadenin sonucu en SON elemandır. Bir tane bile True var ise ilk True'dur. Yani and deki durumun tam tersidir. "
   ]
  },
  {
   "cell_type": "code",
   "execution_count": 62,
   "metadata": {},
   "outputs": [
    {
     "data": {
      "text/plain": [
       "True"
      ]
     },
     "execution_count": 62,
     "metadata": {},
     "output_type": "execute_result"
    }
   ],
   "source": [
    "True or True or True  # or ifadesinde ilk True hangisi ise sonuç o dur. "
   ]
  },
  {
   "cell_type": "code",
   "execution_count": 63,
   "metadata": {},
   "outputs": [
    {
     "data": {
      "text/plain": [
       "False"
      ]
     },
     "execution_count": 63,
     "metadata": {},
     "output_type": "execute_result"
    }
   ],
   "source": [
    "False or False or False # Hepsi False olur ise en sonuncu sonuçtur. "
   ]
  },
  {
   "cell_type": "code",
   "execution_count": 65,
   "metadata": {},
   "outputs": [
    {
     "data": {
      "text/plain": [
       "''"
      ]
     },
     "execution_count": 65,
     "metadata": {},
     "output_type": "execute_result"
    }
   ],
   "source": [
    "0 or None or \"\"  # Buradaki ifadelerin hepsi Falsy'dir ve hepsi Falsy olur ise sonuçta en sonuncu ifadedir. "
   ]
  },
  {
   "cell_type": "code",
   "execution_count": 66,
   "metadata": {},
   "outputs": [
    {
     "data": {
      "text/plain": [
       "1"
      ]
     },
     "execution_count": 66,
     "metadata": {},
     "output_type": "execute_result"
    }
   ],
   "source": [
    "0 or 1 or 2 or \"\"  # Falsy or Truty or Truty or Falsy olduğu için bir tane bile Truty var ise ilk Truty'dir. "
   ]
  },
  {
   "cell_type": "markdown",
   "metadata": {},
   "source": [
    "3- not : Kendisinden sonra geleni tersine çevirir. True ise False, False ise True'a çevirir. Her zaman \"True\" ya da \"False\" sonucu verir. not'ın önüne koyacağımız bir value olması gerekir. (\"Not 0\" gibi) "
   ]
  },
  {
   "cell_type": "code",
   "execution_count": 67,
   "metadata": {},
   "outputs": [
    {
     "data": {
      "text/plain": [
       "False"
      ]
     },
     "execution_count": 67,
     "metadata": {},
     "output_type": "execute_result"
    }
   ],
   "source": [
    "not 1  # 1 değeri normalde Truty olmasına rağmen "
   ]
  },
  {
   "cell_type": "code",
   "execution_count": 68,
   "metadata": {},
   "outputs": [
    {
     "data": {
      "text/plain": [
       "True"
      ]
     },
     "execution_count": 68,
     "metadata": {},
     "output_type": "execute_result"
    }
   ],
   "source": [
    "not False "
   ]
  },
  {
   "cell_type": "code",
   "execution_count": 69,
   "metadata": {},
   "outputs": [
    {
     "data": {
      "text/plain": [
       "True"
      ]
     },
     "execution_count": 69,
     "metadata": {},
     "output_type": "execute_result"
    }
   ],
   "source": [
    "not 0"
   ]
  },
  {
   "cell_type": "markdown",
   "metadata": {},
   "source": [
    "İşlem sırasına soktuğumuzda; \n",
    "1. not\n",
    "2. and\n",
    "3. or"
   ]
  },
  {
   "cell_type": "code",
   "execution_count": 70,
   "metadata": {},
   "outputs": [
    {
     "name": "stdout",
     "output_type": "stream",
     "text": [
      "False\n"
     ]
    }
   ],
   "source": [
    "bool_var = False and not True\n",
    "print(bool_var)"
   ]
  },
  {
   "cell_type": "code",
   "execution_count": 71,
   "metadata": {},
   "outputs": [
    {
     "data": {
      "text/plain": [
       "True"
      ]
     },
     "execution_count": 71,
     "metadata": {},
     "output_type": "execute_result"
    }
   ],
   "source": [
    "True and False or not False or False  # True and False or True or False - False or True or False - True"
   ]
  },
  {
   "cell_type": "markdown",
   "metadata": {},
   "source": [
    "Truth Values of Logic Statements \n",
    "- Falsy values in Python \n",
    "  None\n",
    "  Zero : 0, 0.0, 0j\n",
    "  Empty Seq. and collections : \"\", [], {}\n",
    "  Any remaining value : True\n"
   ]
  },
  {
   "cell_type": "code",
   "execution_count": 75,
   "metadata": {},
   "outputs": [
    {
     "name": "stdout",
     "output_type": "stream",
     "text": [
      "3\n"
     ]
    }
   ],
   "source": [
    "print(2 and 3)"
   ]
  },
  {
   "cell_type": "code",
   "execution_count": 76,
   "metadata": {},
   "outputs": [
    {
     "name": "stdout",
     "output_type": "stream",
     "text": [
      "0\n"
     ]
    }
   ],
   "source": [
    "print(1 and 0)"
   ]
  },
  {
   "cell_type": "code",
   "execution_count": 77,
   "metadata": {},
   "outputs": [
    {
     "name": "stdout",
     "output_type": "stream",
     "text": [
      "hello world\n",
      "[]\n",
      "None\n"
     ]
    }
   ],
   "source": [
    "print(2 and \"hello world\")\n",
    "print([] and \"be happy!\")\n",
    "print(None and ())"
   ]
  },
  {
   "cell_type": "code",
   "execution_count": 78,
   "metadata": {},
   "outputs": [
    {
     "name": "stdout",
     "output_type": "stream",
     "text": [
      "2\n",
      "1\n"
     ]
    }
   ],
   "source": [
    "print(2 or 3)\n",
    "print(None or 1)"
   ]
  },
  {
   "cell_type": "code",
   "execution_count": 79,
   "metadata": {},
   "outputs": [
    {
     "name": "stdout",
     "output_type": "stream",
     "text": [
      "2\n",
      "be happy!\n",
      "()\n",
      "0\n",
      "{0}\n"
     ]
    }
   ],
   "source": [
    "print(2 or \"hello world\")\n",
    "print([] or \"be happy!\")\n",
    "print(None or ())\n",
    "print({} or 0)\n",
    "print({0} or False)"
   ]
  },
  {
   "cell_type": "markdown",
   "metadata": {},
   "source": [
    "The Strenght of the String\n",
    "- Indexing & Slicing Strings"
   ]
  },
  {
   "cell_type": "code",
   "execution_count": 81,
   "metadata": {},
   "outputs": [
    {
     "data": {
      "text/plain": [
       "'&% , ali deli veli-1234'"
      ]
     },
     "execution_count": 81,
     "metadata": {},
     "output_type": "execute_result"
    }
   ],
   "source": [
    "string_karakterler = \"&% , ali deli veli-1234\"  # Bu string ifade içindeki her bir karakter bir değer olmakta (boşluk da dahil)\n",
    "string_karakterler"
   ]
  },
  {
   "cell_type": "code",
   "execution_count": 82,
   "metadata": {},
   "outputs": [
    {
     "data": {
      "text/plain": [
       "'&'"
      ]
     },
     "execution_count": 82,
     "metadata": {},
     "output_type": "execute_result"
    }
   ],
   "source": [
    "string_karakterler[0]  # soldan sağa doğru ilerleyecek şekilde köşeli parantez içinde yazdığım sayıya göre sting ifadenin tüm elemanlarına ulaşabiliyorum. "
   ]
  },
  {
   "cell_type": "code",
   "execution_count": 84,
   "metadata": {},
   "outputs": [
    {
     "data": {
      "text/plain": [
       "'s'"
      ]
     },
     "execution_count": 84,
     "metadata": {},
     "output_type": "execute_result"
    }
   ],
   "source": [
    "\"clarus\"[5]  # 5. index numarası bizlere s yi verir. "
   ]
  },
  {
   "cell_type": "code",
   "execution_count": 85,
   "metadata": {},
   "outputs": [
    {
     "data": {
      "text/plain": [
       "'s'"
      ]
     },
     "execution_count": 85,
     "metadata": {},
     "output_type": "execute_result"
    }
   ],
   "source": [
    "okul = \"clarus\"  \n",
    "okul[5] "
   ]
  },
  {
   "cell_type": "code",
   "execution_count": 87,
   "metadata": {},
   "outputs": [
    {
     "data": {
      "text/plain": [
       "'ar'"
      ]
     },
     "execution_count": 87,
     "metadata": {},
     "output_type": "execute_result"
    }
   ],
   "source": [
    "okul[2:4]  # 2. indexten başla ve :'den sonraki değerin bir eksiğine kadar git demek. Yani köşeli parantez içindeki ilk değer start, 2. değer ise stop ama 1 eksiği. "
   ]
  },
  {
   "cell_type": "code",
   "execution_count": 88,
   "metadata": {},
   "outputs": [
    {
     "data": {
      "text/plain": [
       "'cla'"
      ]
     },
     "execution_count": 88,
     "metadata": {},
     "output_type": "execute_result"
    }
   ],
   "source": [
    "okul[:3]  # En baştan başla ve stop un bir eksiğine kadar git demek. "
   ]
  },
  {
   "cell_type": "markdown",
   "metadata": {},
   "source": [
    "Eğer bir string ifadeden tek bir ifade çekmek istiyorsak tek bir tane sayı yazacağız köşeli parantez içine ama birden çok sayı yazacaksak o zaman aralarında : olacak şekilde 2 sayı belirteceğiz. step de aksi belirtilmediği sürece yönümüz soldan sağa doğrudur. \n",
    "\n",
    "[start:stop:step]"
   ]
  },
  {
   "cell_type": "code",
   "execution_count": 90,
   "metadata": {},
   "outputs": [
    {
     "data": {
      "text/plain": [
       "'clarus'"
      ]
     },
     "execution_count": 90,
     "metadata": {},
     "output_type": "execute_result"
    }
   ],
   "source": [
    "okul[:]  # En baştan başla ve en sona kadar git demektir. O yüzden tüm string ifadeyi yazdırır. "
   ]
  },
  {
   "cell_type": "code",
   "execution_count": null,
   "metadata": {},
   "outputs": [],
   "source": []
  }
 ],
 "metadata": {
  "interpreter": {
   "hash": "1119d47f94ad9ac75885573077f663dd4dae1d75e807f23fe53292849f40bbc4"
  },
  "kernelspec": {
   "display_name": "Python 3.10.2 64-bit",
   "language": "python",
   "name": "python3"
  },
  "language_info": {
   "codemirror_mode": {
    "name": "ipython",
    "version": 3
   },
   "file_extension": ".py",
   "mimetype": "text/x-python",
   "name": "python",
   "nbconvert_exporter": "python",
   "pygments_lexer": "ipython3",
   "version": "3.10.2"
  },
  "orig_nbformat": 4
 },
 "nbformat": 4,
 "nbformat_minor": 2
}
