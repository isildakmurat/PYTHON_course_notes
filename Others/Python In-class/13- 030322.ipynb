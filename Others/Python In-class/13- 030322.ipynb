{
 "cells": [
  {
   "cell_type": "code",
   "execution_count": 1,
   "metadata": {},
   "outputs": [
    {
     "name": "stdout",
     "output_type": "stream",
     "text": [
      "name\n",
      "surname\n",
      "age\n"
     ]
    }
   ],
   "source": [
    "user = {\n",
    "    \"name\" : \"Daniel\", \n",
    "    \"surname\" : \"Smith\", \n",
    "    \"age\" : 35\n",
    "}\n",
    "for attribute in user :   #Sadece keyler gelir. \n",
    "    print(attribute)"
   ]
  },
  {
   "cell_type": "code",
   "execution_count": 1,
   "metadata": {},
   "outputs": [
    {
     "name": "stdout",
     "output_type": "stream",
     "text": [
      "Daniel Smith 35 "
     ]
    }
   ],
   "source": [
    "user = {\n",
    "    \"name\" : \"Daniel\",   # for döngüleri iterable'ın uzunluğu kadar iterate (tekrar eder) eder. \n",
    "    \"surname\" : \"Smith\", \n",
    "    \"age\" : 35\n",
    "}\n",
    "for i in user.values() :   \n",
    "    print(i, end =\" \")"
   ]
  },
  {
   "cell_type": "code",
   "execution_count": 2,
   "metadata": {},
   "outputs": [
    {
     "name": "stdout",
     "output_type": "stream",
     "text": [
      "hello\n",
      "hello\n",
      "hello\n"
     ]
    }
   ],
   "source": [
    "for i in \"abc\"  :  # Buradaki i değişkenini illa ki kod bloğumuz içinde kullanmak zorunda değiliz. \"abc\" string ifadesi iterable olduğu için ve  \n",
    "    print(\"hello\")  # uzunluğu da 3 olduğu için 3 kere iterate eder. "
   ]
  },
  {
   "cell_type": "code",
   "execution_count": 3,
   "metadata": {},
   "outputs": [
    {
     "name": "stdout",
     "output_type": "stream",
     "text": [
      "name : Daniel\n",
      "surname : Smith\n",
      "age : 35\n"
     ]
    }
   ],
   "source": [
    "user = {\n",
    "    \"name\" : \"Daniel\",    \n",
    "    \"surname\" : \"Smith\",  # for dan sonra 2 ve daha fazla değişken de kullanabiliriz. \n",
    "    \"age\" : 35\n",
    "}  \n",
    "for key, value in user.items() :   # HATIRLATMA! user items sayesinde (name, Daniel), (surname, Smith), (age, 35) tuple yapıyoruz. \n",
    "    print(key, \":\",  value)"
   ]
  },
  {
   "cell_type": "code",
   "execution_count": 8,
   "metadata": {},
   "outputs": [
    {
     "name": "stdout",
     "output_type": "stream",
     "text": [
      "1 2\n",
      "3 4\n",
      "5 6\n"
     ]
    }
   ],
   "source": [
    "test = [(1, 2), (3, 4), (5, 6)]\n",
    "for i, j in test : \n",
    "    print(i, j)"
   ]
  },
  {
   "cell_type": "code",
   "execution_count": 2,
   "metadata": {},
   "outputs": [
    {
     "name": "stdout",
     "output_type": "stream",
     "text": [
      "1 2 11\n",
      "3 4 22\n",
      "5 6 33\n"
     ]
    }
   ],
   "source": [
    "test2 = [(1, 2, 11), (3, 4, 22), (5, 6, 33)]\n",
    "for i, j, t in test2 : \n",
    "    print(i, j, t)"
   ]
  },
  {
   "cell_type": "code",
   "execution_count": 3,
   "metadata": {},
   "outputs": [
    {
     "name": "stdout",
     "output_type": "stream",
     "text": [
      "(1, 2, 11)\n",
      "(3, 4, 22)\n",
      "(5, 6, 33)\n"
     ]
    }
   ],
   "source": [
    "test2 = [(1, 2, 11), (3, 4, 22), (5, 6, 33)]\n",
    "for i in test2 : \n",
    "    print(i)"
   ]
  },
  {
   "cell_type": "code",
   "execution_count": 10,
   "metadata": {},
   "outputs": [
    {
     "name": "stdout",
     "output_type": "stream",
     "text": [
      "I love you\n",
      "I love you\n",
      "I love you\n",
      "I love you\n",
      "I love you\n"
     ]
    }
   ],
   "source": [
    "times = int(input(\"How many times should I say 'I love You'\"))\n",
    "for i in range(times) :  # Burada ki range fonksiyonu ile sayı dizisi üretiyoruz ve itarable'a dönüştürüyoruz. Yani range fonksiyonu iterable dır. \n",
    "    print(\"I love you\")"
   ]
  },
  {
   "cell_type": "code",
   "execution_count": 18,
   "metadata": {},
   "outputs": [
    {
     "name": "stdout",
     "output_type": "stream",
     "text": [
      "5 x 0 = 0\n",
      "5 x 1 = 5\n",
      "5 x 2 = 10\n",
      "5 x 3 = 15\n",
      "5 x 4 = 20\n",
      "5 x 5 = 25\n",
      "5 x 6 = 30\n",
      "5 x 7 = 35\n",
      "5 x 8 = 40\n",
      "5 x 9 = 45\n",
      "5 x 10 = 50\n"
     ]
    }
   ],
   "source": [
    "number = input(\"Please enter a number between 1 and 10\")\n",
    "\n",
    "for i in range(11) :  # Eğer içinde sadece bir adet sayı var ise zaten 0'dan başlayıp o sayıya kadar demek. \n",
    "    print(number, \"x\", i, \"=\", (int(number)*i))\n"
   ]
  },
  {
   "cell_type": "code",
   "execution_count": null,
   "metadata": {},
   "outputs": [],
   "source": [
    "range(start, stop, step)  "
   ]
  },
  {
   "cell_type": "code",
   "execution_count": 2,
   "metadata": {},
   "outputs": [
    {
     "name": "stdout",
     "output_type": "stream",
     "text": [
      "10 9 8 7 6 5 4 3 2\n"
     ]
    }
   ],
   "source": [
    "print(* range(10,1,-1))"
   ]
  },
  {
   "cell_type": "code",
   "execution_count": 5,
   "metadata": {},
   "outputs": [
    {
     "name": "stdout",
     "output_type": "stream",
     "text": [
      "1 2 3 4 5 6 7 8 9\n"
     ]
    }
   ],
   "source": [
    "print(* range(1, 10))"
   ]
  },
  {
   "cell_type": "code",
   "execution_count": 6,
   "metadata": {},
   "outputs": [
    {
     "name": "stdout",
     "output_type": "stream",
     "text": [
      "j o s e p h\n"
     ]
    }
   ],
   "source": [
    "print(* \"joseph\")"
   ]
  },
  {
   "cell_type": "code",
   "execution_count": 9,
   "metadata": {},
   "outputs": [
    {
     "name": "stdout",
     "output_type": "stream",
     "text": [
      "1\n",
      "22\n",
      "333\n",
      "4444\n",
      "55555\n",
      "666666\n",
      "7777777\n",
      "88888888\n",
      "999999999\n"
     ]
    }
   ],
   "source": [
    "for i in range(1,10) :\n",
    "    print(str(i)*i)"
   ]
  },
  {
   "cell_type": "code",
   "execution_count": 10,
   "metadata": {},
   "outputs": [
    {
     "data": {
      "text/plain": [
       "[0, 1, 2, 3, 4, 5, 6, 7, 8, 9, 10]"
      ]
     },
     "execution_count": 10,
     "metadata": {},
     "output_type": "execute_result"
    }
   ],
   "source": [
    "list(range(11))"
   ]
  },
  {
   "cell_type": "code",
   "execution_count": 11,
   "metadata": {},
   "outputs": [
    {
     "data": {
      "text/plain": [
       "(0, 1, 2, 3, 4, 5, 6, 7, 8, 9, 10)"
      ]
     },
     "execution_count": 11,
     "metadata": {},
     "output_type": "execute_result"
    }
   ],
   "source": [
    "tuple(range(11))"
   ]
  },
  {
   "cell_type": "code",
   "execution_count": 12,
   "metadata": {},
   "outputs": [
    {
     "data": {
      "text/plain": [
       "{0, 1, 2, 3, 4, 5, 6, 7, 8, 9, 10}"
      ]
     },
     "execution_count": 12,
     "metadata": {},
     "output_type": "execute_result"
    }
   ],
   "source": [
    "set(range(11))"
   ]
  },
  {
   "cell_type": "code",
   "execution_count": 13,
   "metadata": {},
   "outputs": [
    {
     "name": "stdout",
     "output_type": "stream",
     "text": [
      "0 1 2 3 4 5 6 7 8 9 10\n"
     ]
    }
   ],
   "source": [
    "print(* range(11))"
   ]
  },
  {
   "cell_type": "code",
   "execution_count": 14,
   "metadata": {},
   "outputs": [
    {
     "name": "stdout",
     "output_type": "stream",
     "text": [
      "range(0, 11)\n"
     ]
    }
   ],
   "source": [
    "print(range(11))  # Bizim doğrudan range object'ini çıktı almaya çalışmamız söz konusu değil. "
   ]
  },
  {
   "cell_type": "code",
   "execution_count": 16,
   "metadata": {},
   "outputs": [
    {
     "name": "stdout",
     "output_type": "stream",
     "text": [
      "5 7 9 11 13 15 17 19 21 23\n"
     ]
    }
   ],
   "source": [
    "print(*range(5, 25, 2))"
   ]
  },
  {
   "cell_type": "code",
   "execution_count": 17,
   "metadata": {},
   "outputs": [
    {
     "name": "stdout",
     "output_type": "stream",
     "text": [
      "one : 1\n",
      "two : 2\n",
      "three : 3\n",
      "four : 4\n",
      "five : 5\n"
     ]
    }
   ],
   "source": [
    "text = [\"one\", \"two\", \"three\", \"four\", \"five\"]\n",
    "numbers = [1, 2, 3, 4, 5]\n",
    "for x, y in zip(text, numbers) :  # Her bir elemanı indeks numaralarına göre karşılıklı olarak eşleştirir. \n",
    "    print(x, \":\", y)"
   ]
  },
  {
   "cell_type": "code",
   "execution_count": 1,
   "metadata": {},
   "outputs": [
    {
     "data": {
      "text/plain": [
       "<zip at 0x2045b8344c0>"
      ]
     },
     "execution_count": 1,
     "metadata": {},
     "output_type": "execute_result"
    }
   ],
   "source": [
    "text = [\"one\", \"two\", \"three\", \"four\", \"five\"]\n",
    "numbers = [1, 2, 3, 4, 5]\n",
    "zipped = zip(text, numbers)\n",
    "zipped  # Memory'deki lokasyonu, adresi gösterir. Bunu görsel olarak alabilmemiz için collection functions, * ya da for döngülerini kullanabiliriz. "
   ]
  },
  {
   "cell_type": "code",
   "execution_count": 2,
   "metadata": {},
   "outputs": [
    {
     "name": "stdout",
     "output_type": "stream",
     "text": [
      "('one', 1) ('two', 2) ('three', 3) ('four', 4) ('five', 5)\n"
     ]
    }
   ],
   "source": [
    "print(* zipped)"
   ]
  },
  {
   "cell_type": "code",
   "execution_count": 3,
   "metadata": {},
   "outputs": [
    {
     "data": {
      "text/plain": [
       "[]"
      ]
     },
     "execution_count": 3,
     "metadata": {},
     "output_type": "execute_result"
    }
   ],
   "source": [
    "list(zipped)  # Boş çıktı vermesi zip fonksiyonuna özeldir, bir üstte çalıştığı için içi boş çıktı. İçini yeniden doldurup yeniden çalıştırırsak olur. "
   ]
  },
  {
   "cell_type": "code",
   "execution_count": 6,
   "metadata": {},
   "outputs": [
    {
     "data": {
      "text/plain": [
       "[('one', 1), ('two', 2), ('three', 3), ('four', 4), ('five', 5)]"
      ]
     },
     "execution_count": 6,
     "metadata": {},
     "output_type": "execute_result"
    }
   ],
   "source": [
    "zipped = zip(text, numbers)  # Yeniden doldurduk ve çalıştırdık. \n",
    "list(zipped)"
   ]
  },
  {
   "cell_type": "code",
   "execution_count": 7,
   "metadata": {},
   "outputs": [
    {
     "name": "stdout",
     "output_type": "stream",
     "text": [
      "one : 1\n",
      "two : 2\n",
      "three : 3\n",
      "four : 4\n",
      "five : 5\n"
     ]
    }
   ],
   "source": [
    "zipped = zip(text, numbers)\n",
    "for x, y in zipped :\n",
    "    print(x, \":\", y)"
   ]
  },
  {
   "cell_type": "code",
   "execution_count": 8,
   "metadata": {},
   "outputs": [
    {
     "data": {
      "text/plain": [
       "{'one': 1, 'two': 2, 'three': 3, 'four': 4, 'five': 5}"
      ]
     },
     "execution_count": 8,
     "metadata": {},
     "output_type": "execute_result"
    }
   ],
   "source": [
    "zipped = zip(text, numbers)  # ÖNEMLİ!!! zip fonksiyonunu dictionary için kullanabiliriz. Dict metodunda da çift olarak yapıyoruz çünkü. \n",
    "dict(zipped)"
   ]
  },
  {
   "cell_type": "markdown",
   "metadata": {},
   "source": [
    "zip fonksiyonu 2, 3, 4 ... gibi istediği kadar eleman alabilir ve eşleştirebilir. "
   ]
  },
  {
   "cell_type": "code",
   "execution_count": 9,
   "metadata": {},
   "outputs": [
    {
     "name": "stdout",
     "output_type": "stream",
     "text": [
      "(1, 1) (2, 4)\n"
     ]
    }
   ],
   "source": [
    "a = (1, 2, 3)  # Dikkat etmemiz gereken bir durum. Eleman sayıları birbiri ile uyuşmuyor ise uyuştuğu kadarını da çıktı verir. 3 açıkta kaldı eşi yok. \n",
    "b = (1, 4)\n",
    "print(* zip(a, b))"
   ]
  },
  {
   "cell_type": "code",
   "execution_count": 11,
   "metadata": {},
   "outputs": [
    {
     "name": "stdout",
     "output_type": "stream",
     "text": [
      "(1, 1) (2, 4) (3, 9)\n"
     ]
    }
   ],
   "source": [
    "a = (1, 2, 3)   # Biri list diğeri tuple bile olsa yine de eşleştirir ve () içinde sonuç çıkarır. \n",
    "b = [1, 4, 9]\n",
    "print(* zip(a, b))"
   ]
  },
  {
   "cell_type": "code",
   "execution_count": 13,
   "metadata": {},
   "outputs": [
    {
     "name": "stdout",
     "output_type": "stream",
     "text": [
      "(1, 1) (2, 4) (3, 9)\n"
     ]
    }
   ],
   "source": [
    "a = {1, 2, 3}   # Biri list diğeri tuple ya da her ikisi de farklı da olsa yine de eşleştirir ve () içinde sonuç çıkarır. \n",
    "b = [1, 4, 9]\n",
    "print(* zip(a, b))"
   ]
  },
  {
   "cell_type": "code",
   "execution_count": 12,
   "metadata": {},
   "outputs": [
    {
     "name": "stdout",
     "output_type": "stream",
     "text": [
      "evens: [0, 2, 4, 6, 8]\n",
      "odds: [1, 3, 5, 7, 9]\n"
     ]
    }
   ],
   "source": [
    "# Kendi çözümüm. Çok dolandırdım ama mantık aynı. \n",
    "\n",
    "numbers = list(range(10))\n",
    "numbers_half_len = len(numbers) / 2\n",
    "empty_list_even = []\n",
    "empty_list_odd = []\n",
    "for i in range(10) :\n",
    "    if numbers[i] % 2 == 0 : \n",
    "        empty_list_even.append(i)\n",
    "        if len(empty_list_even) == numbers_half_len :\n",
    "            print(\"evens:\", empty_list_even)\n",
    "        \n",
    "    else :\n",
    "        empty_list_odd.append(i)\n",
    "        if len(empty_list_odd) == numbers_half_len :\n",
    "            print(\"odds:\", empty_list_odd)\n",
    "        \n"
   ]
  },
  {
   "cell_type": "code",
   "execution_count": 13,
   "metadata": {},
   "outputs": [
    {
     "name": "stdout",
     "output_type": "stream",
     "text": [
      "evens: [0, 2, 4, 6, 8]\n",
      "odds: [1, 3, 5, 7, 9]\n"
     ]
    }
   ],
   "source": [
    "# Hocanın çözümü \n",
    "\n",
    "evens = []\n",
    "odds = []\n",
    "\n",
    "for i in range(10) :\n",
    "    if i % 2 == 0 :\n",
    "        evens.append(i)\n",
    "    else : \n",
    "        odds.append(i)\n",
    "print(\"evens:\", evens)\n",
    "print(\"odds:\", odds)"
   ]
  },
  {
   "cell_type": "code",
   "execution_count": 16,
   "metadata": {},
   "outputs": [
    {
     "name": "stdout",
     "output_type": "stream",
     "text": [
      "The number of even numbers : 3\n",
      "The number of odd numbers : 4\n"
     ]
    }
   ],
   "source": [
    "# Kendi çözümüm\n",
    "\n",
    "example_list = [11, 2, 24, 61, 48, 33, 3]\n",
    "evens = []\n",
    "odds = []\n",
    "\n",
    "for i in example_list : \n",
    "    if i % 2 == 0 :\n",
    "        evens.append(i)\n",
    "    else : \n",
    "        odds.append(i)\n",
    "print(\"The number of even numbers :\", len(evens))\n",
    "print(\"The number of odd numbers :\", len(odds))\n"
   ]
  },
  {
   "cell_type": "code",
   "execution_count": 18,
   "metadata": {},
   "outputs": [
    {
     "name": "stdout",
     "output_type": "stream",
     "text": [
      "The number of even numbers : 3\n",
      "The number of odd numbers : 4\n"
     ]
    }
   ],
   "source": [
    "# Hocanın çözümü (saydırarak yaptı)\n",
    "\n",
    "example_list = [11, 2, 24, 61, 48, 33, 3]\n",
    "evens = 0\n",
    "odds = 0\n",
    "\n",
    "for i in example_list : \n",
    "    if i % 2 == 0 :\n",
    "        evens += 1  # Bu saydırma metodudur, eğer bu şartı sağlıyor ise her seferinde 1 arttır demek. O yüzden yukarıda 0 değerini girdik. \n",
    "    else : \n",
    "        odds += 1\n",
    "print(\"The number of even numbers :\", evens)\n",
    "print(\"The number of odd numbers :\", odds)"
   ]
  },
  {
   "cell_type": "code",
   "execution_count": 25,
   "metadata": {},
   "outputs": [
    {
     "data": {
      "text/plain": [
       "2775"
      ]
     },
     "execution_count": 25,
     "metadata": {},
     "output_type": "execute_result"
    }
   ],
   "source": [
    "# Kendi çözümüm\n",
    "\n",
    "empty_list = []\n",
    "for i in range(1, 75) :\n",
    "    empty_list.append(i)\n",
    "sum(empty_list)\n",
    "    \n",
    "    "
   ]
  },
  {
   "cell_type": "code",
   "execution_count": 29,
   "metadata": {},
   "outputs": [
    {
     "name": "stdout",
     "output_type": "stream",
     "text": [
      "2775\n"
     ]
    }
   ],
   "source": [
    "# Hocanın çözümü \n",
    "sum_num = 0\n",
    "for i in range(1,75) : \n",
    "    sum_num += i\n",
    "print(sum_num)"
   ]
  },
  {
   "cell_type": "markdown",
   "metadata": {},
   "source": [
    "Nested for Loop "
   ]
  },
  {
   "cell_type": "code",
   "execution_count": null,
   "metadata": {},
   "outputs": [],
   "source": [
    "for variable1 in iterable1 : \n",
    "    for variable2 in iterable2 :\n",
    "        body "
   ]
  },
  {
   "cell_type": "code",
   "execution_count": 32,
   "metadata": {},
   "outputs": [
    {
     "name": "stdout",
     "output_type": "stream",
     "text": [
      "I am happy\n",
      "I am confident\n",
      "You are happy\n",
      "You are confident\n"
     ]
    }
   ],
   "source": [
    "who = [\"I am\", \"You are\"]\n",
    "mood = [\"happy\", \"confident\"]\n",
    "for i in who :\n",
    "    for ii in mood : \n",
    "        print(i, ii)"
   ]
  },
  {
   "cell_type": "code",
   "execution_count": 33,
   "metadata": {},
   "outputs": [
    {
     "name": "stdout",
     "output_type": "stream",
     "text": [
      "susan is happy\n",
      "susan is sad\n",
      "tom is happy\n",
      "tom is sad\n",
      "edward is happy\n",
      "edward is sad\n"
     ]
    }
   ],
   "source": [
    "names = [\"susan\", \"tom\", \"edward\"]\n",
    "mood = [\"happy\", \"sad\"]\n",
    "for i in names :\n",
    "    for ii in mood : \n",
    "        print(i, \"is\", ii)  # print(f\"{i} is {ii}\") ya da print(\"{} is {}\".format(i, ii)) olabilirdi çıktı için. "
   ]
  },
  {
   "cell_type": "code",
   "execution_count": 36,
   "metadata": {},
   "outputs": [
    {
     "data": {
      "text/plain": [
       "(1, 2, 3, 4, 5, 6, 7)"
      ]
     },
     "execution_count": 36,
     "metadata": {},
     "output_type": "execute_result"
    }
   ],
   "source": [
    "# tuple kullanarak atama yapabiliriz \n",
    "\n",
    "tuple(range(1, 8))"
   ]
  },
  {
   "cell_type": "code",
   "execution_count": 39,
   "metadata": {},
   "outputs": [],
   "source": [
    "mon, tue, wed, thu, fri, sat, sun = tuple(range(1,8))"
   ]
  },
  {
   "cell_type": "code",
   "execution_count": 40,
   "metadata": {},
   "outputs": [
    {
     "data": {
      "text/plain": [
       "1"
      ]
     },
     "execution_count": 40,
     "metadata": {},
     "output_type": "execute_result"
    }
   ],
   "source": [
    "mon "
   ]
  },
  {
   "cell_type": "code",
   "execution_count": 41,
   "metadata": {},
   "outputs": [
    {
     "data": {
      "text/plain": [
       "5"
      ]
     },
     "execution_count": 41,
     "metadata": {},
     "output_type": "execute_result"
    }
   ],
   "source": [
    "fri"
   ]
  },
  {
   "cell_type": "code",
   "execution_count": 42,
   "metadata": {},
   "outputs": [
    {
     "data": {
      "text/plain": [
       "[1, 2, 4, 'ali', 'veli']"
      ]
     },
     "execution_count": 42,
     "metadata": {},
     "output_type": "execute_result"
    }
   ],
   "source": [
    "# İki listenin toplanması. Bunu çok kullanırız. İçlerindeki verinin değeri farklı olsa da oluyor. \n",
    "\n",
    "[1, 2, 4] + [\"ali\", \"veli\"]"
   ]
  },
  {
   "cell_type": "code",
   "execution_count": 43,
   "metadata": {},
   "outputs": [
    {
     "ename": "ValueError",
     "evalue": "too many values to unpack (expected 2)",
     "output_type": "error",
     "traceback": [
      "\u001b[1;31m---------------------------------------------------------------------------\u001b[0m",
      "\u001b[1;31mValueError\u001b[0m                                Traceback (most recent call last)",
      "\u001b[1;32mg:\\Drive'ım\\Masaüstü\\Eğitimler\\Yazılım\\VS Code Genel\\Python In-class\\13- 030322.ipynb Cell 47'\u001b[0m in \u001b[0;36m<module>\u001b[1;34m\u001b[0m\n\u001b[1;32m----> <a href='vscode-notebook-cell:/g%3A/Drive%27%C4%B1m/Masa%C3%BCst%C3%BC/E%C4%9Fitimler/Yaz%C4%B1l%C4%B1m/VS%20Code%20Genel/Python%20In-class/13-%20030322.ipynb#ch0000075?line=0'>1</a>\u001b[0m a, b \u001b[39m=\u001b[39m (\u001b[39m10\u001b[39m, \u001b[39m20\u001b[39m, \u001b[39m30\u001b[39m, \u001b[39m40\u001b[39m)\n",
      "\u001b[1;31mValueError\u001b[0m: too many values to unpack (expected 2)"
     ]
    }
   ],
   "source": [
    "a, b = (10, 20, 30, 40)  # variable ile value sayıları uyuşmadığı için haya verir. Bunu hatasız bir şekilde yapabilmemiz için. "
   ]
  },
  {
   "cell_type": "code",
   "execution_count": 46,
   "metadata": {},
   "outputs": [
    {
     "name": "stdout",
     "output_type": "stream",
     "text": [
      "10 30\n"
     ]
    }
   ],
   "source": [
    "a, _, b, _ = (10, 20, 30, 40)  # Bu şekilde yaparak istediğimiz noktaya atamamızı yaptık. \n",
    "print(a, b)"
   ]
  },
  {
   "cell_type": "code",
   "execution_count": 47,
   "metadata": {},
   "outputs": [
    {
     "ename": "ValueError",
     "evalue": "too many values to unpack (expected 3)",
     "output_type": "error",
     "traceback": [
      "\u001b[1;31m---------------------------------------------------------------------------\u001b[0m",
      "\u001b[1;31mValueError\u001b[0m                                Traceback (most recent call last)",
      "\u001b[1;32mg:\\Drive'ım\\Masaüstü\\Eğitimler\\Yazılım\\VS Code Genel\\Python In-class\\13- 030322.ipynb Cell 49'\u001b[0m in \u001b[0;36m<module>\u001b[1;34m\u001b[0m\n\u001b[1;32m----> <a href='vscode-notebook-cell:/g%3A/Drive%27%C4%B1m/Masa%C3%BCst%C3%BC/E%C4%9Fitimler/Yaz%C4%B1l%C4%B1m/VS%20Code%20Genel/Python%20In-class/13-%20030322.ipynb#ch0000078?line=0'>1</a>\u001b[0m x, y, z \u001b[39m=\u001b[39m (\u001b[39m11\u001b[39m, \u001b[39m22\u001b[39m, \u001b[39m33\u001b[39m, \u001b[39m44\u001b[39m, \u001b[39m55\u001b[39m)\n",
      "\u001b[1;31mValueError\u001b[0m: too many values to unpack (expected 3)"
     ]
    }
   ],
   "source": [
    "x, y, z = (11, 22, 33, 44, 55)\n"
   ]
  },
  {
   "cell_type": "code",
   "execution_count": 49,
   "metadata": {},
   "outputs": [
    {
     "name": "stdout",
     "output_type": "stream",
     "text": [
      "11 22 [33, 44, 55]\n"
     ]
    }
   ],
   "source": [
    "x, y, *z = (11, 22, 33, 44, 55)  # z'nin başındaki yıldız sayesinde geri kalan son 3 değeri de z'ye atadık. \n",
    "print(x, y, z)"
   ]
  },
  {
   "cell_type": "code",
   "execution_count": 51,
   "metadata": {},
   "outputs": [
    {
     "name": "stdout",
     "output_type": "stream",
     "text": [
      "11 22\n"
     ]
    }
   ],
   "source": [
    "x, y, *_ = (11, 22, 33, 44, 55)\n",
    "print(x, y)"
   ]
  },
  {
   "cell_type": "code",
   "execution_count": 53,
   "metadata": {},
   "outputs": [
    {
     "name": "stdout",
     "output_type": "stream",
     "text": [
      "11\n",
      "22\n",
      "[33, 44, 55, 66]\n",
      "77\n"
     ]
    }
   ],
   "source": [
    "x, y, *z, t = (11, 22, 33, 44, 55, 66, 77)\n",
    "print(x, y, z, t, sep=\"\\n\")"
   ]
  },
  {
   "cell_type": "code",
   "execution_count": 55,
   "metadata": {},
   "outputs": [
    {
     "name": "stdout",
     "output_type": "stream",
     "text": [
      "11\n",
      "22\n",
      "77\n"
     ]
    }
   ],
   "source": [
    "x, y, *_, t = (11, 22, 33, 44, 55, 66, 77)\n",
    "print(x, y, t, sep=\"\\n\")"
   ]
  },
  {
   "cell_type": "code",
   "execution_count": null,
   "metadata": {},
   "outputs": [],
   "source": []
  }
 ],
 "metadata": {
  "interpreter": {
   "hash": "1119d47f94ad9ac75885573077f663dd4dae1d75e807f23fe53292849f40bbc4"
  },
  "kernelspec": {
   "display_name": "Python 3.10.2 64-bit",
   "language": "python",
   "name": "python3"
  },
  "language_info": {
   "codemirror_mode": {
    "name": "ipython",
    "version": 3
   },
   "file_extension": ".py",
   "mimetype": "text/x-python",
   "name": "python",
   "nbconvert_exporter": "python",
   "pygments_lexer": "ipython3",
   "version": "3.10.2"
  },
  "orig_nbformat": 4
 },
 "nbformat": 4,
 "nbformat_minor": 2
}
