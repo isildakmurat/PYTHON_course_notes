{
 "cells": [
  {
   "cell_type": "code",
   "execution_count": 1,
   "metadata": {},
   "outputs": [
    {
     "name": "stdout",
     "output_type": "stream",
     "text": [
      "-1\n"
     ]
    }
   ],
   "source": [
    "a = 1\n",
    "print(-a)"
   ]
  },
  {
   "cell_type": "code",
   "execution_count": 2,
   "metadata": {},
   "outputs": [
    {
     "name": "stdout",
     "output_type": "stream",
     "text": [
      "11\n"
     ]
    }
   ],
   "source": [
    "b = -11 \n",
    "print(-b)"
   ]
  },
  {
   "cell_type": "code",
   "execution_count": 3,
   "metadata": {},
   "outputs": [
    {
     "name": "stdout",
     "output_type": "stream",
     "text": [
      "The sum of 3 + 4 is : 7\n"
     ]
    }
   ],
   "source": [
    "a = 3\n",
    "b = 4\n",
    "print(\"The sum of {} + {} is : {}\".format(a, b, a+b))"
   ]
  },
  {
   "cell_type": "code",
   "execution_count": 7,
   "metadata": {},
   "outputs": [
    {
     "name": "stdout",
     "output_type": "stream",
     "text": [
      "The sum of 3 x 4 is : 12\n"
     ]
    }
   ],
   "source": [
    "a = 3\n",
    "b = 4\n",
    "print(\"The sum of {} x {} is : {}\".format(a, b, a*b))"
   ]
  },
  {
   "cell_type": "code",
   "execution_count": 8,
   "metadata": {},
   "outputs": [
    {
     "name": "stdout",
     "output_type": "stream",
     "text": [
      "The power of 3 to 2 is : 8\n"
     ]
    }
   ],
   "source": [
    "a = 2\n",
    "b = 3\n",
    "print(\"The power of {} to {} is : {}\".format(b, a, a**b))  # The power of 3 to 2, 2**3 demek. "
   ]
  },
  {
   "cell_type": "code",
   "execution_count": 9,
   "metadata": {},
   "outputs": [
    {
     "data": {
      "text/plain": [
       "'3.15, 5.367, 7.3243'"
      ]
     },
     "execution_count": 9,
     "metadata": {},
     "output_type": "execute_result"
    }
   ],
   "source": [
    "text = \"{:.2f}, {:.3f}, {:.4f}\".format(3.1463, 5.367, 7.324324)  # {} içine : koyduğumuzda, format içindeki almak istediğimiz kısmı belirleyebiliyoruz. \n",
    "text  # Mesela bu soruda f yazarak float sayının .'dan sonraki 2 basamağını ya da 3 basamağını almasını belirttik. "
   ]
  },
  {
   "cell_type": "code",
   "execution_count": 10,
   "metadata": {},
   "outputs": [
    {
     "data": {
      "text/plain": [
       "'3.1, 5.37, 7.324'"
      ]
     },
     "execution_count": 10,
     "metadata": {},
     "output_type": "execute_result"
    }
   ],
   "source": [
    "text = text = \"{:.2}, {:.3}, {:.4}\".format(3.1463, 5.367, 7.324324)  # f'i kaldırınca tüm sayının ne kadarını alacağına bakar. \n",
    "text  # Bu durumda string bir ifade de bu şekilde değildir. "
   ]
  },
  {
   "cell_type": "code",
   "execution_count": 11,
   "metadata": {},
   "outputs": [
    {
     "data": {
      "text/plain": [
       "'a3, 5.b, 7.32'"
      ]
     },
     "execution_count": 11,
     "metadata": {},
     "output_type": "execute_result"
    }
   ],
   "source": [
    "text = \"{:.2s}, {:.3s}, {:.4s}\".format(\"a3.1463\", \"5.b367\", \"7.324324c\")  # Format içine string ifadeler tanımladığımızda 2s, 3s yerien 1 ya da 3 yazsak da aynı sonucu verir. \n",
    "text"
   ]
  },
  {
   "cell_type": "code",
   "execution_count": 23,
   "metadata": {},
   "outputs": [
    {
     "data": {
      "text/plain": [
       "'a3, 5.b, 7.32'"
      ]
     },
     "execution_count": 23,
     "metadata": {},
     "output_type": "execute_result"
    }
   ],
   "source": [
    "text = \"{:.2}, {:.3}, {:.4}\".format(\"a3.1463\", \"5.b367\", \"7.324324c\")\n",
    "text"
   ]
  },
  {
   "cell_type": "code",
   "execution_count": 15,
   "metadata": {},
   "outputs": [
    {
     "data": {
      "text/plain": [
       "'      test'"
      ]
     },
     "execution_count": 15,
     "metadata": {},
     "output_type": "execute_result"
    }
   ],
   "source": [
    "text = \"{:>10}\".format(\"test\")  # {:>10} dediğimizde 10 karakerlik bir alanda sağa yasla demek. \n",
    "text"
   ]
  },
  {
   "cell_type": "code",
   "execution_count": null,
   "metadata": {},
   "outputs": [],
   "source": [
    "text = \"{:<10}\".format(\"test\")  # Ok'un yönünü değiştirdiğimiz de ise sola yasla demektir.  \n",
    "text"
   ]
  },
  {
   "cell_type": "code",
   "execution_count": 16,
   "metadata": {},
   "outputs": [
    {
     "data": {
      "text/plain": [
       "'formatlama satırı                 test bu da textin son kısmı'"
      ]
     },
     "execution_count": 16,
     "metadata": {},
     "output_type": "execute_result"
    }
   ],
   "source": [
    "text = \"formatlama satırı {:>20} bu da textin son kısmı\".format(\"test\")  # Sağa yasladı \n",
    "text"
   ]
  },
  {
   "cell_type": "code",
   "execution_count": 17,
   "metadata": {},
   "outputs": [
    {
     "data": {
      "text/plain": [
       "'formatlama satırı test                 bu da textin son kısmı'"
      ]
     },
     "execution_count": 17,
     "metadata": {},
     "output_type": "execute_result"
    }
   ],
   "source": [
    "text = \"formatlama satırı {:<20} bu da textin son kısmı\".format(\"test\")  # Sola yasladı \n",
    "text"
   ]
  },
  {
   "cell_type": "code",
   "execution_count": 26,
   "metadata": {},
   "outputs": [
    {
     "data": {
      "text/plain": [
       "'formatlama satırı         test         bu da textin son kısmı'"
      ]
     },
     "execution_count": 26,
     "metadata": {},
     "output_type": "execute_result"
    }
   ],
   "source": [
    "text = \"formatlama satırı {:^20} bu da textin son kısmı\".format(\"test\")  # Ortada \n",
    "text"
   ]
  },
  {
   "cell_type": "code",
   "execution_count": 24,
   "metadata": {},
   "outputs": [
    {
     "data": {
      "text/plain": [
       "'hippo     '"
      ]
     },
     "execution_count": 24,
     "metadata": {},
     "output_type": "execute_result"
    }
   ],
   "source": [
    "\"{:10.5}\".format(\"hippopotamus\") # 10 karakterden oluşan bir alan tanımladı sadece stringin ilk 5 ifadesini aldı. "
   ]
  },
  {
   "cell_type": "code",
   "execution_count": 27,
   "metadata": {},
   "outputs": [
    {
     "data": {
      "text/plain": [
       "'          hippo'"
      ]
     },
     "execution_count": 27,
     "metadata": {},
     "output_type": "execute_result"
    }
   ],
   "source": [
    "\"{:>15.5}\".format(\"hippopotamus\")  # Sağa yasla, 15'lik bir alan al ve ilk 5'ini yazdır. "
   ]
  },
  {
   "cell_type": "code",
   "execution_count": 28,
   "metadata": {},
   "outputs": [
    {
     "data": {
      "text/plain": [
       "'+55'"
      ]
     },
     "execution_count": 28,
     "metadata": {},
     "output_type": "execute_result"
    }
   ],
   "source": [
    "\"{:+}\".format(55)"
   ]
  },
  {
   "cell_type": "code",
   "execution_count": 29,
   "metadata": {},
   "outputs": [
    {
     "data": {
      "text/plain": [
       "'55'"
      ]
     },
     "execution_count": 29,
     "metadata": {},
     "output_type": "execute_result"
    }
   ],
   "source": [
    "\"{:-}\".format(55)"
   ]
  },
  {
   "cell_type": "markdown",
   "metadata": {},
   "source": [
    "Indexing a list\n",
    "\n",
    "Bir yerde indekslemeden bahsediliyor ise [] vardır. indeksleme iterable elemalar için geçerlidir. Integer'lar iterable değildir. \n",
    "\n",
    "list_name[index no]  "
   ]
  },
  {
   "cell_type": "code",
   "execution_count": 30,
   "metadata": {},
   "outputs": [
    {
     "name": "stdout",
     "output_type": "stream",
     "text": [
      "a\n"
     ]
    }
   ],
   "source": [
    "word = [\"h\", \"a\", \"p\", \"p\", \"y\"]  # Listelerdeki indexleme de aynı stringlerdeki gibidir. 0,1,2... diye devam eder. String örnek de aşağıdaki örnekde. \n",
    "print(word[1])"
   ]
  },
  {
   "cell_type": "code",
   "execution_count": 31,
   "metadata": {},
   "outputs": [
    {
     "name": "stdout",
     "output_type": "stream",
     "text": [
      "a\n"
     ]
    }
   ],
   "source": [
    "word = \"Happy\"  # String ifadelerde de bu şekildeydi.\n",
    "print(word[1])"
   ]
  },
  {
   "cell_type": "code",
   "execution_count": 38,
   "metadata": {},
   "outputs": [
    {
     "name": "stdout",
     "output_type": "stream",
     "text": [
      "blue\n"
     ]
    },
    {
     "data": {
      "text/plain": [
       "str"
      ]
     },
     "execution_count": 38,
     "metadata": {},
     "output_type": "execute_result"
    }
   ],
   "source": [
    "colors = [\"red\", \"purple\", \"blue\", \"yellow\", \"green\"]\n",
    "print(colors[2])  # Çıktısını verdiği eleman string olduğu için \"colors2\" ifadesi de string tipindedir. \n",
    "type(colors[2])"
   ]
  },
  {
   "cell_type": "code",
   "execution_count": 39,
   "metadata": {},
   "outputs": [
    {
     "data": {
      "text/plain": [
       "'yellow'"
      ]
     },
     "execution_count": 39,
     "metadata": {},
     "output_type": "execute_result"
    }
   ],
   "source": [
    "[\"red\", \"purple\", \"blue\", \"yellow\", \"green\"][3]"
   ]
  },
  {
   "cell_type": "code",
   "execution_count": 42,
   "metadata": {},
   "outputs": [
    {
     "name": "stdout",
     "output_type": "stream",
     "text": [
      "[['New York', 'London', 'Istabul', 'Seoul', 'Sydney']]\n"
     ]
    }
   ],
   "source": [
    "city = [\"New York\", \"London\", \"Istabul\", \"Seoul\", \"Sydney\"]\n",
    "city_list = []\n",
    "city_list.append(city)  # we have created a nested list\n",
    "\n",
    "print(city_list)  # Bu listenin eleman sayısı 1'dir. "
   ]
  },
  {
   "cell_type": "code",
   "execution_count": 44,
   "metadata": {},
   "outputs": [
    {
     "data": {
      "text/plain": [
       "[['New York', 'London', 'Istabul', 'Seoul', 'Sydney']]"
      ]
     },
     "execution_count": 44,
     "metadata": {},
     "output_type": "execute_result"
    }
   ],
   "source": [
    "city_list = [city]\n",
    "city_list"
   ]
  },
  {
   "cell_type": "code",
   "execution_count": 46,
   "metadata": {},
   "outputs": [
    {
     "ename": "IndexError",
     "evalue": "list index out of range",
     "output_type": "error",
     "traceback": [
      "\u001b[1;31m---------------------------------------------------------------------------\u001b[0m",
      "\u001b[1;31mIndexError\u001b[0m                                Traceback (most recent call last)",
      "\u001b[1;32mg:\\Drive'ım\\Masaüstü\\Eğitimler\\Yazılım\\VS Code Genel\\Python In-class\\020222.ipynb Cell 26'\u001b[0m in \u001b[0;36m<module>\u001b[1;34m\u001b[0m\n\u001b[1;32m----> <a href='vscode-notebook-cell:/g%3A/Drive%27%C4%B1m/Masa%C3%BCst%C3%BC/E%C4%9Fitimler/Yaz%C4%B1l%C4%B1m/VS%20Code%20Genel/Python%20In-class/020222.ipynb#ch0000026?line=0'>1</a>\u001b[0m city_list[\u001b[39m1\u001b[39;49m]\n",
      "\u001b[1;31mIndexError\u001b[0m: list index out of range"
     ]
    }
   ],
   "source": [
    "city_list[1]  # Bu listenin tek bir elamanı olduğu ve indeks sayısı 0 olduğu için hata verir. "
   ]
  },
  {
   "cell_type": "code",
   "execution_count": 47,
   "metadata": {},
   "outputs": [
    {
     "data": {
      "text/plain": [
       "['New York', 'London', 'Istabul', 'Seoul', 'Sydney']"
      ]
     },
     "execution_count": 47,
     "metadata": {},
     "output_type": "execute_result"
    }
   ],
   "source": [
    "city_list[0]  # Tek bir elemanı olduğu ve aşağıdaki eleman olduğu için bunu verir. "
   ]
  },
  {
   "cell_type": "code",
   "execution_count": 48,
   "metadata": {},
   "outputs": [
    {
     "data": {
      "text/plain": [
       "list"
      ]
     },
     "execution_count": 48,
     "metadata": {},
     "output_type": "execute_result"
    }
   ],
   "source": [
    "type(city_list)"
   ]
  },
  {
   "cell_type": "code",
   "execution_count": 51,
   "metadata": {},
   "outputs": [
    {
     "data": {
      "text/plain": [
       "'Istabul'"
      ]
     },
     "execution_count": 51,
     "metadata": {},
     "output_type": "execute_result"
    }
   ],
   "source": [
    "city_list[0][2]  # city_list içinde 1 elaman olduğu için onu aldık ve o elemana içinde de 2 numaralı indeksi aldık. O da \"Istanbul\""
   ]
  },
  {
   "cell_type": "code",
   "execution_count": 52,
   "metadata": {},
   "outputs": [
    {
     "data": {
      "text/plain": [
       "str"
      ]
     },
     "execution_count": 52,
     "metadata": {},
     "output_type": "execute_result"
    }
   ],
   "source": [
    "type(city_list[0][2])"
   ]
  },
  {
   "cell_type": "code",
   "execution_count": 54,
   "metadata": {},
   "outputs": [
    {
     "data": {
      "text/plain": [
       "'a'"
      ]
     },
     "execution_count": 54,
     "metadata": {},
     "output_type": "execute_result"
    }
   ],
   "source": [
    "city_list[0][2][3]  # İterable lar indekslenebiliyor. "
   ]
  },
  {
   "cell_type": "markdown",
   "metadata": {},
   "source": [
    "Slicing a list: Liste içinde aradan birden fazla elaman seçeceksek buna slicing deniliyor. Bir string slicing yapıyorsak çıktımız da string dir. Aynı şekilde bir list ya da tuple için de aynı şekilde çıktıların tipi de aynıdır. Aynı strinlerde olduğu gibidir. \n",
    "\n",
    "list_name = [start:stop:step]\n",
    "From \"Start\" to \"stop-1\" by \"step\"\n"
   ]
  },
  {
   "cell_type": "code",
   "execution_count": 55,
   "metadata": {},
   "outputs": [
    {
     "name": "stdout",
     "output_type": "stream",
     "text": [
      "[6, 8, 10]\n"
     ]
    }
   ],
   "source": [
    "even_numbers = [2, 4, 6, 8, 10, 12, 14]\n",
    "print(even_numbers[2:5])  # Dikkat ettiğimiz üzere çıktısını da liste olarak verdi. Gerisinin mantığı stringlerde olduğu gibi. \n"
   ]
  },
  {
   "cell_type": "code",
   "execution_count": 62,
   "metadata": {},
   "outputs": [
    {
     "data": {
      "text/plain": [
       "[1, 2, 3, 4, 5, 6, 7, 8, 9, 10]"
      ]
     },
     "execution_count": 62,
     "metadata": {},
     "output_type": "execute_result"
    }
   ],
   "source": [
    "range(1, 11)  # Range function'ı iterable üretir. Çok kullaılır. Range(start, stop, step)\n",
    "sayılarım = list(range(1,11))\n",
    "sayılarım"
   ]
  },
  {
   "cell_type": "code",
   "execution_count": 64,
   "metadata": {},
   "outputs": [
    {
     "data": {
      "text/plain": [
       "[1, 3, 5, 7, 9]"
      ]
     },
     "execution_count": 64,
     "metadata": {},
     "output_type": "execute_result"
    }
   ],
   "source": [
    "diğer = list(range(1, 11, 2))  # 2'şer 2'şer atlayarak gidiyor. \n",
    "diğer"
   ]
  },
  {
   "cell_type": "code",
   "execution_count": 65,
   "metadata": {},
   "outputs": [
    {
     "data": {
      "text/plain": [
       "[0, 1, 2, 3, 4, 5, 6, 7, 8, 9, 10]"
      ]
     },
     "execution_count": 65,
     "metadata": {},
     "output_type": "execute_result"
    }
   ],
   "source": [
    "list(range(11))  # Tek bir sayı yazarsak stop-1'i algılar. Yani start=0, step=+1 dir default olarak. "
   ]
  },
  {
   "cell_type": "code",
   "execution_count": 67,
   "metadata": {},
   "outputs": [
    {
     "data": {
      "text/plain": [
       "[11, 10, 9, 8, 7, 6, 5, 4, 3, 2]"
      ]
     },
     "execution_count": 67,
     "metadata": {},
     "output_type": "execute_result"
    }
   ],
   "source": [
    "list(range(11, 1, -1))"
   ]
  },
  {
   "cell_type": "code",
   "execution_count": 68,
   "metadata": {},
   "outputs": [
    {
     "name": "stdout",
     "output_type": "stream",
     "text": [
      "3\n"
     ]
    }
   ],
   "source": [
    "print(len([[1, 2, 3]][0]))"
   ]
  },
  {
   "cell_type": "code",
   "execution_count": null,
   "metadata": {},
   "outputs": [],
   "source": [
    "# Listemizdeki tekli sayıları bulabilemek için yazdığımız kod. \n",
    "odd_numbers = list(range(11))\n",
    "\n",
    "print(odd_numbers)\n",
    "print(odd_numbers[1:11:2])  # 1 numaralı indeksten başla yani (1) ve 2'şer atlayarak devam et. Böylece tekli sayıları bulacağız. "
   ]
  },
  {
   "cell_type": "code",
   "execution_count": 69,
   "metadata": {},
   "outputs": [
    {
     "name": "stdout",
     "output_type": "stream",
     "text": [
      "['elephant', 'bear', 'fox', 'wolf', 'rabbit', 'deer', 'giraffe']\n"
     ]
    }
   ],
   "source": [
    "animals =  [\"elephant\", \"bear\", \"fox\", \"wolf\", \"rabbit\", \"deer\", \"giraffe\"]\n",
    "print(animals[:])  # En baştan başla, en sonra kadar git diyor. Listenin kendisini verir. "
   ]
  },
  {
   "cell_type": "code",
   "execution_count": 70,
   "metadata": {},
   "outputs": [
    {
     "name": "stdout",
     "output_type": "stream",
     "text": [
      "['wolf', 'rabbit', 'deer', 'giraffe']\n"
     ]
    }
   ],
   "source": [
    "animals =  [\"elephant\", \"bear\", \"fox\", \"wolf\", \"rabbit\", \"deer\", \"giraffe\"]\n",
    "print(animals[3:])  # 3 numaralı indeksten başla ve sona kadar git. "
   ]
  },
  {
   "cell_type": "code",
   "execution_count": 71,
   "metadata": {},
   "outputs": [
    {
     "name": "stdout",
     "output_type": "stream",
     "text": [
      "['elephant', 'fox', 'rabbit', 'giraffe']\n"
     ]
    }
   ],
   "source": [
    "animals =  [\"elephant\", \"bear\", \"fox\", \"wolf\", \"rabbit\", \"deer\", \"giraffe\"]\n",
    "print(animals[::2])  # En baştan başla, en son kadar git ve 2'şerli atlayarak git. "
   ]
  },
  {
   "cell_type": "code",
   "execution_count": 76,
   "metadata": {},
   "outputs": [
    {
     "data": {
      "text/plain": [
       "['one', 'two', 'three']"
      ]
     },
     "execution_count": 76,
     "metadata": {},
     "output_type": "execute_result"
    }
   ],
   "source": [
    "mix_list = [1, [1, \"one\", 2, \"two\", 3, \"three\"], 4]\n",
    "mix_list[1][1::2]  # mix_list'in 1 numaralı elemanına ulaş ve içinden de \"one\", \"two\", \"three\" verilerini al. "
   ]
  },
  {
   "cell_type": "code",
   "execution_count": 77,
   "metadata": {},
   "outputs": [
    {
     "name": "stdout",
     "output_type": "stream",
     "text": [
      "London\n"
     ]
    }
   ],
   "source": [
    "city = [\"New York\", \"London\", \"Istanbul\", \"Seoul\", \"Sydney\"]\n",
    "print(city[-4])"
   ]
  },
  {
   "cell_type": "code",
   "execution_count": 78,
   "metadata": {},
   "outputs": [
    {
     "name": "stdout",
     "output_type": "stream",
     "text": [
      "London\n"
     ]
    }
   ],
   "source": [
    "city = [\"New York\", \"London\", \"Istanbul\", \"Seoul\", \"Sydney\"]\n",
    "print(city[1])"
   ]
  },
  {
   "cell_type": "code",
   "execution_count": 79,
   "metadata": {},
   "outputs": [
    {
     "name": "stdout",
     "output_type": "stream",
     "text": [
      "['Istanbul', 'Seoul', 'Sydney']\n"
     ]
    }
   ],
   "source": [
    "city = [\"New York\", \"London\", \"Istanbul\", \"Seoul\", \"Sydney\"]\n",
    "print(city[-3:])"
   ]
  },
  {
   "cell_type": "code",
   "execution_count": 80,
   "metadata": {},
   "outputs": [
    {
     "name": "stdout",
     "output_type": "stream",
     "text": [
      "['New York', 'London']\n"
     ]
    }
   ],
   "source": [
    "city = [\"New York\", \"London\", \"Istanbul\", \"Seoul\", \"Sydney\"]\n",
    "print(city[:-3])"
   ]
  },
  {
   "cell_type": "code",
   "execution_count": 81,
   "metadata": {},
   "outputs": [
    {
     "name": "stdout",
     "output_type": "stream",
     "text": [
      "['Sydney', 'Seoul', 'Istanbul', 'London', 'New York']\n"
     ]
    }
   ],
   "source": [
    "city = [\"New York\", \"London\", \"Istanbul\", \"Seoul\", \"Sydney\"]\n",
    "print(city[::-1])"
   ]
  },
  {
   "cell_type": "code",
   "execution_count": 84,
   "metadata": {},
   "outputs": [
    {
     "name": "stdout",
     "output_type": "stream",
     "text": [
      "['New York', 'London', 'Istanbul']\n"
     ]
    }
   ],
   "source": [
    "city = [\"New York\", \"London\", \"Istanbul\", \"Seoul\", \"Sydney\"]\n",
    "print(city[:-2])"
   ]
  },
  {
   "cell_type": "code",
   "execution_count": 85,
   "metadata": {},
   "outputs": [
    {
     "name": "stdout",
     "output_type": "stream",
     "text": [
      "['Sydney', 'Istanbul', 'New York']\n"
     ]
    }
   ],
   "source": [
    "city = [\"New York\", \"London\", \"Istanbul\", \"Seoul\", \"Sydney\"]\n",
    "print(city[::-2])"
   ]
  },
  {
   "cell_type": "code",
   "execution_count": 4,
   "metadata": {},
   "outputs": [
    {
     "name": "stdout",
     "output_type": "stream",
     "text": [
      "['Los Angeles', 'S', 'e', 'o', 'u', 'l']\n"
     ]
    }
   ],
   "source": [
    "city = [\"Los Angeles\", \"Beirut\", \"Tokyo\"]\n",
    "city[1:] = \"Seoul\"  # Burada slicing'e atama yapıyoruz. Daha önce indeks'e atama yapıyorduk. DİKKAT!! \n",
    "print(city)"
   ]
  },
  {
   "cell_type": "code",
   "execution_count": 15,
   "metadata": {},
   "outputs": [
    {
     "name": "stdout",
     "output_type": "stream",
     "text": [
      "['Los Angeles', 'S', 'e', 'o', 'u', 'l', 'Tokyo']\n"
     ]
    }
   ],
   "source": [
    "city = [\"Los Angeles\", \"Beirut\", \"Tokyo\"]\n",
    "city[1:2] = \"Seoul\"  # Burada slicing'e atama yapıyoruz. Daha önce indeks'e atama yapıyorduk. DİKKAT!! \n",
    "print(city)"
   ]
  },
  {
   "cell_type": "code",
   "execution_count": 17,
   "metadata": {},
   "outputs": [
    {
     "name": "stdout",
     "output_type": "stream",
     "text": [
      "['Los Angeles', 'Seoul']\n"
     ]
    }
   ],
   "source": [
    "city = [\"Los Angeles\", \"Beirut\", \"Tokyo\"]\n",
    "city[1:] = [\"Seoul\"]  # Burada slicing'e atama yapıyoruz. Daha önce indeks'e atama yapıyorduk. DİKKAT!! \n",
    "print(city)"
   ]
  },
  {
   "cell_type": "code",
   "execution_count": 18,
   "metadata": {},
   "outputs": [],
   "source": [
    "city = [\"Los Angeles\", \"Beirut\", \"Tokyo\"]\n",
    "city[1:] = [\"Seoul\"]  # Burada slicing'e atama yapıyoruz. Daha önce indeks'e atama yapıyorduk. DİKKAT!! "
   ]
  },
  {
   "cell_type": "code",
   "execution_count": 11,
   "metadata": {},
   "outputs": [
    {
     "name": "stdout",
     "output_type": "stream",
     "text": [
      "['Los Angeles', 'Seoul', 'Beirut', 'Tokyo']\n"
     ]
    }
   ],
   "source": [
    "city = [\"Los Angeles\", \"Beirut\", \"Tokyo\"]\n",
    "city.insert(1, \"Seoul\")  # Burada slicing'e atama yapıyoruz. Daha önce indeks'e atama yapıyorduk. DİKKAT!! \n",
    "print(city)"
   ]
  },
  {
   "cell_type": "code",
   "execution_count": 86,
   "metadata": {},
   "outputs": [
    {
     "name": "stdout",
     "output_type": "stream",
     "text": [
      "['h', 'g', 'f', 'e']\n",
      "[]\n"
     ]
    }
   ],
   "source": [
    "letters = [\"a\", \"b\", \"c\", \"d\", \"e\", \"f\", \"g\", \"h\", \"i\", \"j\"]\n",
    "print(letters[7:3:-1])\n",
    "print(letters[2:6:-1])"
   ]
  },
  {
   "cell_type": "markdown",
   "metadata": {},
   "source": [
    "Tuple: Değiştireilemez (Immutable) dır. Sayısını arttıramayız, yeni bir eleman ekleyemeyiz, eleman çıkaramayız ama tuple'ın elemanlarına nüfus ederek elemanları üzerinde oynayabiliriz.Tabi bu değiştirilemez özelliğini yine de değiştirmiyor. Listelerde olduğu gibi append metodu, sort metodu, remove metodu kullanılmadığı için yani arka planda çalışan bu fonksiyonlar daha az olduğu için daha az yer kaplarlar ve bundan dolayı da daha hızlı çalışırlar.Listelere göre içinden veri çekmek, indekslemek çok daha hızlıdır. İçine atarız ve öyle kalır tuple larda. GÜvenli bir alandır, IP numaraları, TC kimlik numaraları, bir sağlık kuruluşunun database'indeki özel rakamlar, şifreler, sigorta numaraları vb. bu tür değişmesini istemediğimiz verilen depolanmasında kullanılır. Ya da yanlışlıklada olsa kazara silinmesini, değişmesini önlemek istediğimiz bilgileri tuple ile kullanabiliriz. \n",
    "\n",
    "Bir tuple oluştururken iki şekilde yapabiliriz; \n",
    "()\n",
    "tuple()\n",
    "\n",
    "Tuple'lar içlerine iterable(elemanlarına ayrılabilen) veri alırlar. UNUTMAYALIM; Collection fonksiyonlar (list, tuple, set, dict) bunların hepsi iterable alır. "
   ]
  },
  {
   "cell_type": "code",
   "execution_count": 87,
   "metadata": {},
   "outputs": [
    {
     "name": "stdout",
     "output_type": "stream",
     "text": [
      "120\n",
      "64\n"
     ]
    }
   ],
   "source": [
    "import sys\n",
    "x = [1, 2, 3]\n",
    "y = (1, 2, 3)\n",
    "print(sys.getsizeof(x))  # Liste ve tuple'ın kapladıkları alanları byte olarak kıyasladık. Aşağıda da gördüğümüz üzere tuple çok daha az yer kaplamakta. \n",
    "print(sys.getsizeof(y))"
   ]
  },
  {
   "cell_type": "code",
   "execution_count": 89,
   "metadata": {},
   "outputs": [
    {
     "name": "stdout",
     "output_type": "stream",
     "text": [
      "('h', 'a', 'p', 'p', 'y')\n",
      "('h', 'a', 'p', 'p', 'y')\n",
      "('h', 'a', 'p', 'p', 'y')\n"
     ]
    }
   ],
   "source": [
    "tuple_1 = (\"h\", \"a\", \"p\", \"p\", \"y\")\n",
    "word = \"happy\"\n",
    "tuple_2 = tuple(word)\n",
    "print(tuple(tuple_1))\n",
    "print(tuple_1)\n",
    "print(tuple_2)"
   ]
  },
  {
   "cell_type": "code",
   "execution_count": 91,
   "metadata": {},
   "outputs": [
    {
     "name": "stdout",
     "output_type": "stream",
     "text": [
      "<class 'tuple'>\n"
     ]
    },
    {
     "data": {
      "text/plain": [
       "()"
      ]
     },
     "execution_count": 91,
     "metadata": {},
     "output_type": "execute_result"
    }
   ],
   "source": [
    "empty_tuple = ()\n",
    "print(type(empty_tuple))\n",
    "tuple()\n",
    "\n"
   ]
  },
  {
   "cell_type": "code",
   "execution_count": 93,
   "metadata": {},
   "outputs": [
    {
     "name": "stdout",
     "output_type": "stream",
     "text": [
      "Solar\n",
      "<class 'str'>\n"
     ]
    }
   ],
   "source": [
    "my_tuple = (\"Solar\")\n",
    "print(my_tuple, type(my_tuple), sep=\"\\n\")"
   ]
  },
  {
   "cell_type": "code",
   "execution_count": 95,
   "metadata": {},
   "outputs": [
    {
     "name": "stdout",
     "output_type": "stream",
     "text": [
      "1\n",
      "2\n",
      "3\n",
      "1 2 3\n"
     ]
    }
   ],
   "source": [
    "a, b, c = 1, 2, 3\n",
    "print(a)\n",
    "print(b)\n",
    "print(c)\n",
    "print(a, b, c)\n"
   ]
  },
  {
   "cell_type": "code",
   "execution_count": 97,
   "metadata": {},
   "outputs": [
    {
     "name": "stdout",
     "output_type": "stream",
     "text": [
      "(1, 2, 3)\n"
     ]
    },
    {
     "data": {
      "text/plain": [
       "tuple"
      ]
     },
     "execution_count": 97,
     "metadata": {},
     "output_type": "execute_result"
    }
   ],
   "source": [
    "x = 1, 2, 3  # Virgül ile ayırdığımız değerleri eğer parantez içinde yazmaz isek Python onu tuple olarak kabul eder. \n",
    "print(x)\n",
    "type(x)"
   ]
  },
  {
   "cell_type": "code",
   "execution_count": 99,
   "metadata": {},
   "outputs": [
    {
     "name": "stdout",
     "output_type": "stream",
     "text": [
      "('ali', 'veli', 'deli')\n"
     ]
    },
    {
     "data": {
      "text/plain": [
       "tuple"
      ]
     },
     "execution_count": 99,
     "metadata": {},
     "output_type": "execute_result"
    }
   ],
   "source": [
    "y = \"ali\", \"veli\", \"deli\"\n",
    "print(y)\n",
    "type(y)"
   ]
  },
  {
   "cell_type": "code",
   "execution_count": 100,
   "metadata": {},
   "outputs": [
    {
     "data": {
      "text/plain": [
       "str"
      ]
     },
     "execution_count": 100,
     "metadata": {},
     "output_type": "execute_result"
    }
   ],
   "source": [
    "z = \"ali\"  # Tuple'da tek elemanlı olarak tanımlamak yetmiyor, mutlaka yanına en azından bir , (virgül) koymalıyız. \n",
    "type(z)"
   ]
  },
  {
   "cell_type": "code",
   "execution_count": 101,
   "metadata": {},
   "outputs": [
    {
     "name": "stdout",
     "output_type": "stream",
     "text": [
      "('ali',)\n"
     ]
    },
    {
     "data": {
      "text/plain": [
       "tuple"
      ]
     },
     "execution_count": 101,
     "metadata": {},
     "output_type": "execute_result"
    }
   ],
   "source": [
    "z = \"ali\",  # Tek elemanlı tuple yapmak için bu şekilde tanımlamamız gerekir. \n",
    "print(z)\n",
    "type(z)"
   ]
  },
  {
   "cell_type": "code",
   "execution_count": 103,
   "metadata": {},
   "outputs": [
    {
     "data": {
      "text/plain": [
       "int"
      ]
     },
     "execution_count": 103,
     "metadata": {},
     "output_type": "execute_result"
    }
   ],
   "source": [
    "t = 1\n",
    "type(t)"
   ]
  },
  {
   "cell_type": "code",
   "execution_count": 102,
   "metadata": {},
   "outputs": [
    {
     "data": {
      "text/plain": [
       "tuple"
      ]
     },
     "execution_count": 102,
     "metadata": {},
     "output_type": "execute_result"
    }
   ],
   "source": [
    "t = 1,\n",
    "type(t)"
   ]
  },
  {
   "cell_type": "code",
   "execution_count": 104,
   "metadata": {},
   "outputs": [
    {
     "name": "stdout",
     "output_type": "stream",
     "text": [
      "('Earth', 'Venus', 'Uranus')\n",
      "<class 'tuple'>\n"
     ]
    }
   ],
   "source": [
    "solar = \"Earth\", \"Venus\", \"Uranus\"  # Parantez içinde değiller \n",
    "print(solar, type(solar), sep = \"\\n\")"
   ]
  },
  {
   "cell_type": "code",
   "execution_count": 105,
   "metadata": {},
   "outputs": [
    {
     "data": {
      "text/plain": [
       "('solar',)"
      ]
     },
     "execution_count": 105,
     "metadata": {},
     "output_type": "execute_result"
    }
   ],
   "source": [
    "tuple([\"solar\"])  # İçindeki liste iterable'mı? Evet,Listemizin tek bir elemanı var o da \"Solar\".Bunu tuple yaparlen ise tek bir elemanı al tuple yap demek.\n",
    "# Bunu yaparken ise tek bir elemanı alıp yanına virgül koyuyoruz, sonra da parantez ile kapatıyoruz. "
   ]
  },
  {
   "cell_type": "code",
   "execution_count": null,
   "metadata": {},
   "outputs": [],
   "source": []
  }
 ],
 "metadata": {
  "interpreter": {
   "hash": "1119d47f94ad9ac75885573077f663dd4dae1d75e807f23fe53292849f40bbc4"
  },
  "kernelspec": {
   "display_name": "Python 3.10.2 64-bit",
   "language": "python",
   "name": "python3"
  },
  "language_info": {
   "codemirror_mode": {
    "name": "ipython",
    "version": 3
   },
   "file_extension": ".py",
   "mimetype": "text/x-python",
   "name": "python",
   "nbconvert_exporter": "python",
   "pygments_lexer": "ipython3",
   "version": "3.10.2"
  },
  "orig_nbformat": 4
 },
 "nbformat": 4,
 "nbformat_minor": 2
}
