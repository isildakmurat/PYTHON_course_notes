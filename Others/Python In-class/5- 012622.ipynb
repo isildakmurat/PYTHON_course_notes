{
 "cells": [
  {
   "cell_type": "code",
   "execution_count": 2,
   "metadata": {},
   "outputs": [
    {
     "name": "stdout",
     "output_type": "stream",
     "text": [
      "The amount of orange we bought is 4 pounds\n"
     ]
    }
   ],
   "source": [
    "fruit = \"orange\"\n",
    "vegetable = \"tomato\"\n",
    "amount = 4 \n",
    "print('The amount of {} we bought is {} pounds'.format(fruit, amount))"
   ]
  },
  {
   "cell_type": "code",
   "execution_count": 5,
   "metadata": {},
   "outputs": [
    {
     "name": "stdout",
     "output_type": "stream",
     "text": [
      "The amount of apple we bought is 2 pounds\n"
     ]
    }
   ],
   "source": [
    "print('The amount of {fruit} we bought is {amount} pounds'.format(fruit = \"apple\", amount = 2))"
   ]
  },
  {
   "cell_type": "code",
   "execution_count": 6,
   "metadata": {},
   "outputs": [
    {
     "name": "stdout",
     "output_type": "stream",
     "text": [
      "The amount of apple we bought is 2 pounds\n"
     ]
    }
   ],
   "source": [
    "print('The amount of {1} we bought is {0} pounds'.format(2, \"apple\"))"
   ]
  },
  {
   "cell_type": "code",
   "execution_count": 7,
   "metadata": {},
   "outputs": [
    {
     "name": "stdout",
     "output_type": "stream",
     "text": [
      "The amount of apple we bought is 2 pounds\n"
     ]
    }
   ],
   "source": [
    "print('The amount of {} we bought is {} pounds'.format(\"apple\", 2))"
   ]
  },
  {
   "cell_type": "code",
   "execution_count": 8,
   "metadata": {},
   "outputs": [
    {
     "name": "stdout",
     "output_type": "stream",
     "text": [
      "California is the most crowded state of the USA\n"
     ]
    }
   ],
   "source": [
    "print(\"{state} is the most {adjective} state of the {country}\".format(state = \"California\", country = \"USA\", adjective = \"crowded\"))"
   ]
  },
  {
   "cell_type": "code",
   "execution_count": 9,
   "metadata": {},
   "outputs": [
    {
     "name": "stdout",
     "output_type": "stream",
     "text": [
      "California is the most crowded state of the USA\n"
     ]
    }
   ],
   "source": [
    "print(\"{0} is the most {2} state of the {1}\".format(\"California\", \"USA\", \"crowded\"))"
   ]
  },
  {
   "cell_type": "code",
   "execution_count": 10,
   "metadata": {},
   "outputs": [
    {
     "name": "stdout",
     "output_type": "stream",
     "text": [
      "California is the most crowded state of the USA\n"
     ]
    }
   ],
   "source": [
    "state = \"California\"\n",
    "country = \"USA\"\n",
    "adjective = \"crowded\"\n",
    "\n",
    "print(\"{} is the most {} state of the {}\".format(state, adjective, country))"
   ]
  },
  {
   "cell_type": "code",
   "execution_count": 12,
   "metadata": {},
   "outputs": [
    {
     "name": "stdout",
     "output_type": "stream",
     "text": [
      "California is the most crowded state of the USA\n"
     ]
    }
   ],
   "source": [
    "print(\"{} is the most {} state of the {}\".format(\"California\", \"crowded\", \"USA\"))"
   ]
  },
  {
   "cell_type": "code",
   "execution_count": 17,
   "metadata": {},
   "outputs": [
    {
     "name": "stdout",
     "output_type": "stream",
     "text": [
      "generosity wins in all circumstances\n"
     ]
    }
   ],
   "source": [
    "phrase = \"{2} {3} {1} {0}\".format('circumstances', 'in all', 'generosity', 'wins')\n",
    "print(phrase)"
   ]
  },
  {
   "cell_type": "markdown",
   "metadata": {},
   "source": [
    "Şimdiye kadar 2 tane string format metodu gördük; \n",
    "1- Arithmatic Syntax (*, +, =)\n",
    "2- string.format() Method\n",
    "\n",
    "Şimdi ise 3. sünü göreceğiz;\n"
   ]
  },
  {
   "cell_type": "markdown",
   "metadata": {},
   "source": [
    "String Formatting with f-String\n",
    "\n",
    "f'string {variable1} string {variable2} string'"
   ]
  },
  {
   "cell_type": "code",
   "execution_count": 20,
   "metadata": {},
   "outputs": [
    {
     "name": "stdout",
     "output_type": "stream",
     "text": [
      "The amount of orange and Tomato we bought are totally 6 pounds\n"
     ]
    }
   ],
   "source": [
    "fruit = \"orange\"\n",
    "vegetable = \"tomato\"\n",
    "amount = 6\n",
    "output = f\"The amount of {fruit} and {vegetable} we bought are totally {amount} pounds\"\n",
    "print(output)"
   ]
  },
  {
   "cell_type": "code",
   "execution_count": 21,
   "metadata": {},
   "outputs": [
    {
     "name": "stdout",
     "output_type": "stream",
     "text": [
      "8\n"
     ]
    }
   ],
   "source": [
    "sample = f\"{2 ** 3}\"  # f string metodun da süslü parantez içinde fonksiyonlar ve metodların hepsi çalışır.   \n",
    "print(sample)  # .format() metounda da bazıları geçerli ama  f string metodunda hepsi geçerli. "
   ]
  },
  {
   "cell_type": "code",
   "execution_count": 28,
   "metadata": {},
   "outputs": [
    {
     "name": "stdout",
     "output_type": "stream",
     "text": [
      "My name is Mariam\n"
     ]
    }
   ],
   "source": [
    "# string.capitalize() metodu, kullanıldığı string ifadenin baş harfini büyük diğerlerini küçük yapmaktadır. \n",
    "name = \"MARIAM\"\n",
    "sentence = f\"My name is {name.capitalize()}\"  # f string metodu içinde farklı metod ve fonksiyonlar kullanılabilmektedir. \n",
    "print(sentence)"
   ]
  },
  {
   "cell_type": "code",
   "execution_count": 42,
   "metadata": {},
   "outputs": [
    {
     "name": "stdout",
     "output_type": "stream",
     "text": [
      "Hi Joseph. You are one of the teachers in the Data Sciense section.\n"
     ]
    }
   ],
   "source": [
    "name = \"Joseph\"\n",
    "job = \"teachers\"\n",
    "domain = \"Data Sciense\"\n",
    "message = (\n",
    "    f\"Hi {name}.\"\n",
    "    f\" You are one of the {job}\"\n",
    "    f\" in the {domain} section.\"\n",
    ")\n",
    "print(message)"
   ]
  },
  {
   "cell_type": "code",
   "execution_count": 38,
   "metadata": {},
   "outputs": [
    {
     "name": "stdout",
     "output_type": "stream",
     "text": [
      "Hi Joseph. You are one of the teachers in the Data Sciense section.\n"
     ]
    }
   ],
   "source": [
    "name = \"Joseph\"\n",
    "job = \"teachers\"\n",
    "domain = \"Data Sciense\"  # \"\\\" işareti ile de ayrı ayrı satırlardda yazabiliriz rahat olması açısından. Burada parantez yoktur. \n",
    "message = f\"Hi {name}.\" \\\n",
    "    f\" You are one of the {job}\" \\\n",
    "    f\" in the {domain} section.\"\n",
    "print(message)"
   ]
  },
  {
   "cell_type": "code",
   "execution_count": 47,
   "metadata": {},
   "outputs": [
    {
     "data": {
      "text/plain": [
       "'Hi Joseph. Are you ill?'"
      ]
     },
     "execution_count": 47,
     "metadata": {},
     "output_type": "execute_result"
    }
   ],
   "source": [
    "name = \"Joseph\"\n",
    "status = \"ill\"\n",
    "message = f\"Hi {name}. \\\n",
    "Are you {status}?\"\n",
    "message"
   ]
  },
  {
   "cell_type": "code",
   "execution_count": 51,
   "metadata": {},
   "outputs": [
    {
     "name": "stdout",
     "output_type": "stream",
     "text": [
      "Susan is a young lady and she is a student at the CLRWY IT university\n"
     ]
    }
   ],
   "source": [
    "name = \"Susan\"\n",
    "age = \"young\"\n",
    "gender = \"lady\"\n",
    "school = \"CLRWY IT university\"\n",
    "\n",
    "sentence = (  # Parantez olmadığında \\ ile aşağı satırlara yazdırıyoruz. \n",
    "    f\"{name} is\" \n",
    "    f\" a {age}\"\n",
    "    f\" {gender}\"\n",
    "    f\" and she is a student at the {school}\"\n",
    ")\n",
    "print(sentence)"
   ]
  },
  {
   "cell_type": "markdown",
   "metadata": {},
   "source": [
    "Immutability \n",
    "\n",
    "Değişmezlik. Stringler immutability dir. "
   ]
  },
  {
   "cell_type": "code",
   "execution_count": 52,
   "metadata": {},
   "outputs": [
    {
     "name": "stdout",
     "output_type": "stream",
     "text": [
      "clarusway\n",
      "ClarusWay\n",
      "clarusway\n"
     ]
    }
   ],
   "source": [
    "var_string = 'ClarusWay'\n",
    "print(var_string.lower())  # lower fonksiyonu, string olab value değerimizin tüm harflerini küçültür. \n",
    "print(var_string)\n",
    "var_string = 'ClarusWay'.lower()\n",
    "print(var_string)"
   ]
  },
  {
   "cell_type": "code",
   "execution_count": 59,
   "metadata": {},
   "outputs": [
    {
     "data": {
      "text/plain": [
       "'ali̇ VELI'"
      ]
     },
     "execution_count": 59,
     "metadata": {},
     "output_type": "execute_result"
    }
   ],
   "source": [
    "isim = \"ALİ veli\"\n",
    "isim.swapcase()  # Herşeyi tam tersine çevirir. Büyükleri küçük, küçükleri ise büyük yapar. \n"
   ]
  },
  {
   "cell_type": "code",
   "execution_count": 61,
   "metadata": {},
   "outputs": [
    {
     "data": {
      "text/plain": [
       "'ali̇ VELI'"
      ]
     },
     "execution_count": 61,
     "metadata": {},
     "output_type": "execute_result"
    }
   ],
   "source": [
    "isim  # Bizim variable mız değişmedi, sadece output umuz değişti, variable aynı durmaktadır. "
   ]
  },
  {
   "cell_type": "code",
   "execution_count": 62,
   "metadata": {},
   "outputs": [
    {
     "data": {
      "text/plain": [
       "'ALİ veli'"
      ]
     },
     "execution_count": 62,
     "metadata": {},
     "output_type": "execute_result"
    }
   ],
   "source": [
    "isim = isim.swapcase()\n",
    "isim "
   ]
  },
  {
   "cell_type": "code",
   "execution_count": 65,
   "metadata": {},
   "outputs": [
    {
     "name": "stdout",
     "output_type": "stream",
     "text": [
      "In God we Trust\n"
     ]
    }
   ],
   "source": [
    "var_str = \"In God we Trust\"\n",
    "var_str.lower() # in god we trust\n",
    "print(var_str)  "
   ]
  },
  {
   "cell_type": "markdown",
   "metadata": {},
   "source": [
    "Searching a String \n",
    "\n",
    "Aşağıdaki iki metod ile text içinde herhangi bir karakter aramamızı sağlar, boolean sonuç verirler (True ya da False). Çokça kullanılan metodlardır. \n",
    "\n",
    "- string.startswith() : en başında arar \n",
    "- string.endswith() : en sonunda arar"
   ]
  },
  {
   "cell_type": "code",
   "execution_count": 67,
   "metadata": {},
   "outputs": [
    {
     "name": "stdout",
     "output_type": "stream",
     "text": [
      "True\n",
      "False\n"
     ]
    }
   ],
   "source": [
    "text = \"www.clarusway.com\"\n",
    "print(text.endswith(\".com\"))  # Son 4 karakter bu mu diye soruyor ve True\n",
    "print(text.startswith(\"http:\"))  # İlk 5 karakter bu mu diye soruyor ve False"
   ]
  },
  {
   "cell_type": "code",
   "execution_count": 68,
   "metadata": {},
   "outputs": [
    {
     "name": "stdout",
     "output_type": "stream",
     "text": [
      "True\n",
      "True\n"
     ]
    }
   ],
   "source": [
    "text = \"www.clarusway.com\"\n",
    "print(text.endswith(\"om\"))\n",
    "print(text.startswith(\"w\"))"
   ]
  },
  {
   "cell_type": "code",
   "execution_count": 70,
   "metadata": {},
   "outputs": [
    {
     "name": "stdout",
     "output_type": "stream",
     "text": [
      "True\n",
      "True\n"
     ]
    }
   ],
   "source": [
    "email = \"clarusway@clarusway.com is my e-mail address\"\n",
    "print(email.startswith(\"@\", 9))  # 9 numaralı indekste \"@\" var diyor. \n",
    "print(email.endswith(\"-\", 10, 32))  # 10 numaralı indeksten başla 32'ye kadar git (32 dahil değil) ve \"-\" karakterini ara. Aradığında 31. karakterde buldu. "
   ]
  },
  {
   "cell_type": "markdown",
   "metadata": {},
   "source": [
    "Changing a String\n",
    "\n",
    "string.method(arguments)\n",
    "\n",
    "- str.replace(old, new[, count])  # eskisi ile yenisini değiştirir. \n",
    "- str.swapcase()  # Her şeyi tam tersine çevirir. Örneğin küçükleri büyük, büyükleri küçük yapar. \n",
    "- str.capitalize()  # Kelimenin/cümlenin ilk harfini büyük yapar, geri kalanını ise küçük yapar. \n",
    "- str.upper()  # Tüm kelimeyi büyük harfe çevirir. \n",
    "- str.lower()  # Tüm kelimeyi büyük harfe çeivirir. \n",
    "- str.title()  # Kelimelerin baş harflerini büyütüyor. "
   ]
  },
  {
   "cell_type": "code",
   "execution_count": 71,
   "metadata": {},
   "outputs": [
    {
     "data": {
      "text/plain": [
       "'clarusway'"
      ]
     },
     "execution_count": 71,
     "metadata": {},
     "output_type": "execute_result"
    }
   ],
   "source": [
    "text = \"Clarusway\"\n",
    "text.replace(\"C\", \"c\")  # İlk önce eskiyi yazdık ve sonra da yeniyi yani olmasını istediğimizi yazdık. "
   ]
  },
  {
   "cell_type": "code",
   "execution_count": 72,
   "metadata": {},
   "outputs": [
    {
     "data": {
      "text/plain": [
       "'Clarusway'"
      ]
     },
     "execution_count": 72,
     "metadata": {},
     "output_type": "execute_result"
    }
   ],
   "source": [
    "text  # stringler immutable (değişmez) oldukları için text'in çıktısını aldığımızda yine ilk hali ile verir. "
   ]
  },
  {
   "cell_type": "code",
   "execution_count": 73,
   "metadata": {},
   "outputs": [
    {
     "data": {
      "text/plain": [
       "'Cl**rusw**y'"
      ]
     },
     "execution_count": 73,
     "metadata": {},
     "output_type": "execute_result"
    }
   ],
   "source": [
    "text.replace(\"a\", \"**\")  # \"a\" ları bul yerine \"**\" koy. "
   ]
  },
  {
   "cell_type": "code",
   "execution_count": 74,
   "metadata": {},
   "outputs": [
    {
     "data": {
      "text/plain": [
       "str"
      ]
     },
     "execution_count": 74,
     "metadata": {},
     "output_type": "execute_result"
    }
   ],
   "source": [
    "type(text.replace(\"a\", \"**\"))"
   ]
  },
  {
   "cell_type": "code",
   "execution_count": 75,
   "metadata": {},
   "outputs": [
    {
     "name": "stdout",
     "output_type": "stream",
     "text": [
      "I LIVE AND WORK IN VIRGINIA\n",
      "i live and work in virginia\n",
      "i LIVE AND WORK IN vIRGINIA\n",
      "I live and work in Virginia\n"
     ]
    }
   ],
   "source": [
    "sentence = \"I live and work in Virginia\"\n",
    "print(sentence.upper())\n",
    "print(sentence.lower())\n",
    "print(sentence.swapcase())\n",
    "print(sentence)  # Ana cümlemiz değişmedi, string ifadeler değişmezdirler. "
   ]
  },
  {
   "cell_type": "code",
   "execution_count": 76,
   "metadata": {},
   "outputs": [
    {
     "data": {
      "text/plain": [
       "'Clarusway'"
      ]
     },
     "execution_count": 76,
     "metadata": {},
     "output_type": "execute_result"
    }
   ],
   "source": [
    "text  # Tek bir string'de birden çok metod kullanabiliriz. Aşağıda örnekleri mevcuttur. "
   ]
  },
  {
   "cell_type": "code",
   "execution_count": 81,
   "metadata": {},
   "outputs": [
    {
     "data": {
      "text/plain": [
       "'Cl--rusw--y'"
      ]
     },
     "execution_count": 81,
     "metadata": {},
     "output_type": "execute_result"
    }
   ],
   "source": [
    "text.replace(\"a\", \"--\")"
   ]
  },
  {
   "cell_type": "code",
   "execution_count": 82,
   "metadata": {},
   "outputs": [
    {
     "data": {
      "text/plain": [
       "'Cl--ruw--y'"
      ]
     },
     "execution_count": 82,
     "metadata": {},
     "output_type": "execute_result"
    }
   ],
   "source": [
    "text.replace(\"a\", \"--\").replace(\"s\", \"\")"
   ]
  },
  {
   "cell_type": "code",
   "execution_count": 83,
   "metadata": {},
   "outputs": [
    {
     "data": {
      "text/plain": [
       "'CL--RUW--Y'"
      ]
     },
     "execution_count": 83,
     "metadata": {},
     "output_type": "execute_result"
    }
   ],
   "source": [
    "text.replace(\"a\", \"--\").replace(\"s\", \"\").upper()"
   ]
  },
  {
   "cell_type": "code",
   "execution_count": 84,
   "metadata": {},
   "outputs": [
    {
     "name": "stdout",
     "output_type": "stream",
     "text": [
      "The Better The Family, The Better The Society\n"
     ]
    }
   ],
   "source": [
    "text = \"the better the family, the better the society\"  # Tüm baş harflerini büyüttük ve text için yeniden değer atadık. \n",
    "text = text.title()\n",
    "print(text)"
   ]
  },
  {
   "cell_type": "code",
   "execution_count": 85,
   "metadata": {},
   "outputs": [
    {
     "name": "stdout",
     "output_type": "stream",
     "text": [
      "sodome and Gomore\n"
     ]
    }
   ],
   "source": [
    "text = \"s0d0me and G0m0re\"\n",
    "text = text.replace(\"0\", \"o\")\n",
    "print(text)"
   ]
  },
  {
   "cell_type": "markdown",
   "metadata": {},
   "source": [
    "Editing a String\n",
    "\n",
    "string.method(arguments)\n",
    "\n",
    "- string.strip() : \n",
    "- string.rstrip() : \n",
    "- string.lstrip() : "
   ]
  },
  {
   "cell_type": "code",
   "execution_count": 86,
   "metadata": {},
   "outputs": [
    {
     "name": "stdout",
     "output_type": "stream",
     "text": [
      "listen first\n"
     ]
    }
   ],
   "source": [
    "space_string = \"    listen first    \"\n",
    "print(space_string.strip())  # Sağdaki ve soldaki tüm boşlukları kaldırır. "
   ]
  },
  {
   "cell_type": "code",
   "execution_count": 92,
   "metadata": {},
   "outputs": [
    {
     "name": "stdout",
     "output_type": "stream",
     "text": [
      "YOU CAN LEARN ALMOST EVERYTHING IN PRE-CLASS\n"
     ]
    }
   ],
   "source": [
    "text = \"tyou can learn almost everything in pre-classz\"\n",
    "text = text.lstrip(\"t\").rstrip(\"z\").upper()\n",
    "print(text)"
   ]
  },
  {
   "cell_type": "code",
   "execution_count": null,
   "metadata": {},
   "outputs": [],
   "source": []
  }
 ],
 "metadata": {
  "interpreter": {
   "hash": "1119d47f94ad9ac75885573077f663dd4dae1d75e807f23fe53292849f40bbc4"
  },
  "kernelspec": {
   "display_name": "Python 3.10.2 64-bit",
   "language": "python",
   "name": "python3"
  },
  "language_info": {
   "codemirror_mode": {
    "name": "ipython",
    "version": 3
   },
   "file_extension": ".py",
   "mimetype": "text/x-python",
   "name": "python",
   "nbconvert_exporter": "python",
   "pygments_lexer": "ipython3",
   "version": "3.10.2"
  },
  "orig_nbformat": 4
 },
 "nbformat": 4,
 "nbformat_minor": 2
}
