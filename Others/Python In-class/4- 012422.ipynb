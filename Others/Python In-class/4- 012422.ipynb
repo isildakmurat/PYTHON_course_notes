{
 "cells": [
  {
   "cell_type": "markdown",
   "metadata": {},
   "source": [
    "Kadayıf dolmasının malzemeleri; \n",
    "- Kadayıf\n",
    "- İç \n",
    "  - Ceviz\n",
    "  - Fındık\n",
    "  - Fıstık\n",
    "- Şerbet\n",
    "  - Su\n",
    "  - Şeker\n",
    "- Yumurta"
   ]
  },
  {
   "cell_type": "code",
   "execution_count": 8,
   "metadata": {},
   "outputs": [
    {
     "data": {
      "text/plain": [
       "True"
      ]
     },
     "execution_count": 8,
     "metadata": {},
     "output_type": "execute_result"
    }
   ],
   "source": [
    "kadayıf = True  # Olmazsa olmaz\n",
    "\n",
    "# İç --> Olmazsa olmaz\n",
    "fındık = True  # Farketmez\n",
    "fıstık = False  # Farketmez\n",
    "ceviz = False  # Farketmez\n",
    "\n",
    "# Şerbet \n",
    "su = True\n",
    "şeker = True\n",
    "\n",
    "yumurta = True # Olmazsa olmaz\n",
    "\n",
    "# içecek --> Olmazsa olmaz\n",
    "çay = True\n",
    "meşrubat = False\n",
    "limonata = False\n",
    "\n",
    "yedim = kadayıf and (su and şeker) and (fındık or fıstık or ceviz) and yumurta\\\n",
    "and (çay or meşrubat or limonata)\n",
    "yedim"
   ]
  },
  {
   "cell_type": "markdown",
   "metadata": {},
   "source": []
  },
  {
   "cell_type": "markdown",
   "metadata": {},
   "source": [
    "\"and\" de False'u arar, \"or\" da True'yu arar. "
   ]
  },
  {
   "cell_type": "markdown",
   "metadata": {},
   "source": [
    "Indexing & Slicing Strings\n",
    "\n",
    "iterable : Tek tek elemanlarına ayrılabilen, ulaşılabilen verilere denmektedir. iterate etmek de tek tek o elemanlara ulaşıp üzerinde gezmektir. String'de bir iterable'dır. Tek tek elemanlarına ulaşıp üzerinde gezebiliriz. \n",
    "\n",
    "slicing yaptığımızda birden çok elemanı almış oluruz.\n",
    "indexing yaptığımızda ise bir eleman almış oluruz."
   ]
  },
  {
   "cell_type": "code",
   "execution_count": 10,
   "metadata": {},
   "outputs": [
    {
     "name": "stdout",
     "output_type": "stream",
     "text": [
      "Orange\n",
      "O\n",
      "r\n",
      "ang\n",
      "ange\n"
     ]
    }
   ],
   "source": [
    "fruit = \"Orange\"\n",
    "print(fruit)\n",
    "print(fruit[0])\n",
    "print(fruit[1])\n",
    "print(fruit[2:5])\n",
    "print(fruit[2:])"
   ]
  },
  {
   "cell_type": "code",
   "execution_count": 11,
   "metadata": {},
   "outputs": [
    {
     "name": "stdout",
     "output_type": "stream",
     "text": [
      "hoenix\n",
      "Phoeni\n",
      "Ponx\n",
      "hei\n",
      "nix\n",
      "xineohP\n"
     ]
    }
   ],
   "source": [
    "city = \"Phoenix\"\n",
    "print(city[1:])  # hoenix\n",
    "print(city[:6])  # Phoeni\n",
    "print(city[::2])  # Ponx\n",
    "print(city[1::2])  # hei\n",
    "print(city[-3:])  # nix\n",
    "print(city[::-1])  # xineohP"
   ]
  },
  {
   "cell_type": "code",
   "execution_count": 15,
   "metadata": {},
   "outputs": [
    {
     "name": "stdout",
     "output_type": "stream",
     "text": [
      "ippopotamus\n",
      "hippop\n",
      "hpooau\n",
      "ipp\n",
      "mus\n",
      "sumatopoppih\n"
     ]
    }
   ],
   "source": [
    "animal = \"hippopotamus\"\n",
    "print(animal[1:])  # ippopotamus\n",
    "print(animal[:6])  # hippop\n",
    "print(animal[::2])  # hpooau\n",
    "print(animal[1:7:2])  # ipp\n",
    "print(animal[-3:])  # mus\n",
    "print(animal[::-1])  # sumatopoppih\n"
   ]
  },
  {
   "cell_type": "markdown",
   "metadata": {},
   "source": [
    "\"len\" fonsiyonu iterable'ın uzunluğunu verir. Yani sadece iterable değer alır içine. len(1230) da 1230 iterable bir veri tipi olmadığı için sonucu hata verir. "
   ]
  },
  {
   "cell_type": "code",
   "execution_count": 17,
   "metadata": {},
   "outputs": [
    {
     "data": {
      "text/plain": [
       "7"
      ]
     },
     "execution_count": 17,
     "metadata": {},
     "output_type": "execute_result"
    }
   ],
   "source": [
    "len(city)  # len fonsiyonu integer (tam sayı) değer döndürür/verir ve uzunluk yani eleman sayısını verir. "
   ]
  },
  {
   "cell_type": "code",
   "execution_count": 18,
   "metadata": {},
   "outputs": [
    {
     "data": {
      "text/plain": [
       "3"
      ]
     },
     "execution_count": 18,
     "metadata": {},
     "output_type": "execute_result"
    }
   ],
   "source": [
    "len(\"321\")"
   ]
  },
  {
   "cell_type": "code",
   "execution_count": 19,
   "metadata": {},
   "outputs": [
    {
     "data": {
      "text/plain": [
       "1"
      ]
     },
     "execution_count": 19,
     "metadata": {},
     "output_type": "execute_result"
    }
   ],
   "source": [
    "len(\"0\")"
   ]
  },
  {
   "cell_type": "code",
   "execution_count": 20,
   "metadata": {},
   "outputs": [
    {
     "data": {
      "text/plain": [
       "3"
      ]
     },
     "execution_count": 20,
     "metadata": {},
     "output_type": "execute_result"
    }
   ],
   "source": [
    "len(\"1 1\")"
   ]
  },
  {
   "cell_type": "code",
   "execution_count": 21,
   "metadata": {},
   "outputs": [
    {
     "ename": "TypeError",
     "evalue": "object of type 'int' has no len()",
     "output_type": "error",
     "traceback": [
      "\u001b[1;31m---------------------------------------------------------------------------\u001b[0m",
      "\u001b[1;31mTypeError\u001b[0m                                 Traceback (most recent call last)",
      "\u001b[1;32mg:\\Drive'ım\\Masaüstü\\Eğitimler\\Yazılım\\VS Code Genel\\Python In-class\\012422.ipynb Cell 15'\u001b[0m in \u001b[0;36m<module>\u001b[1;34m\u001b[0m\n\u001b[1;32m----> <a href='vscode-notebook-cell:/g%3A/Drive%27%C4%B1m/Masa%C3%BCst%C3%BC/E%C4%9Fitimler/Yaz%C4%B1l%C4%B1m/VS%20Code%20Genel/Python%20In-class/012422.ipynb#ch0000015?line=0'>1</a>\u001b[0m \u001b[39mlen\u001b[39;49m(\u001b[39m111\u001b[39;49m)\n",
      "\u001b[1;31mTypeError\u001b[0m: object of type 'int' has no len()"
     ]
    }
   ],
   "source": [
    "len(111)  # iterable(elemanlarına ayrılabilen) olmadığı için eleman sayısından da bahsedilemez. String'e dönüştürseydik olurdu. "
   ]
  },
  {
   "cell_type": "markdown",
   "metadata": {},
   "source": [
    "String Formatting with Arithmetic Syntax\n",
    "+\n",
    "=\n",
    "*"
   ]
  },
  {
   "cell_type": "code",
   "execution_count": 23,
   "metadata": {},
   "outputs": [
    {
     "data": {
      "text/plain": [
       "'121121'"
      ]
     },
     "execution_count": 23,
     "metadata": {},
     "output_type": "execute_result"
    }
   ],
   "source": [
    "sonuc = str((5 + 6) ** 2) + '121'\n",
    "sonuc"
   ]
  },
  {
   "cell_type": "code",
   "execution_count": 24,
   "metadata": {},
   "outputs": [
    {
     "data": {
      "text/plain": [
       "'alideliveli'"
      ]
     },
     "execution_count": 24,
     "metadata": {},
     "output_type": "execute_result"
    }
   ],
   "source": [
    "\"ali\" + \"deli\" + \"veli\""
   ]
  },
  {
   "cell_type": "code",
   "execution_count": 25,
   "metadata": {},
   "outputs": [
    {
     "data": {
      "text/plain": [
       "'100500001'"
      ]
     },
     "execution_count": 25,
     "metadata": {},
     "output_type": "execute_result"
    }
   ],
   "source": [
    "\"100\" + \"500\" + \"001\""
   ]
  },
  {
   "cell_type": "code",
   "execution_count": 31,
   "metadata": {},
   "outputs": [
    {
     "data": {
      "text/plain": [
       "'121121121121121121121121'"
      ]
     },
     "execution_count": 31,
     "metadata": {},
     "output_type": "execute_result"
    }
   ],
   "source": [
    "sonuc = str((5 + 6) ** 2) + '121'\n",
    "sonuc = (sonuc + sonuc) * 2\n",
    "sonuc"
   ]
  },
  {
   "cell_type": "code",
   "execution_count": 32,
   "metadata": {},
   "outputs": [
    {
     "data": {
      "text/plain": [
       "'alialiali'"
      ]
     },
     "execution_count": 32,
     "metadata": {},
     "output_type": "execute_result"
    }
   ],
   "source": [
    "\"ali\" * 3"
   ]
  },
  {
   "cell_type": "code",
   "execution_count": 33,
   "metadata": {},
   "outputs": [
    {
     "data": {
      "text/plain": [
       "'veliveliveli'"
      ]
     },
     "execution_count": 33,
     "metadata": {},
     "output_type": "execute_result"
    }
   ],
   "source": [
    "3 * \"veli\""
   ]
  },
  {
   "cell_type": "code",
   "execution_count": 34,
   "metadata": {},
   "outputs": [
    {
     "name": "stdout",
     "output_type": "stream",
     "text": [
      "uppercase\n",
      "uppercase\n",
      "uppercase\n"
     ]
    }
   ],
   "source": [
    "str_one = 'upper'\n",
    "str_two = 'case'\n",
    "str_comb = str_one + str_two\n",
    "print(\"upper\" + \"case\")\n",
    "print(str_one + str_two)\n",
    "print(str_comb)"
   ]
  },
  {
   "cell_type": "code",
   "execution_count": 37,
   "metadata": {},
   "outputs": [
    {
     "name": "stdout",
     "output_type": "stream",
     "text": [
      "c l a r u s w a y\n"
     ]
    }
   ],
   "source": [
    "print(* \"clarusway\")  # iterable bir ifadenin önüne eğer yıldız koyarsak elemanlarına ayırır yani böler. "
   ]
  },
  {
   "cell_type": "code",
   "execution_count": 38,
   "metadata": {},
   "outputs": [
    {
     "ename": "TypeError",
     "evalue": "print() argument after * must be an iterable, not int",
     "output_type": "error",
     "traceback": [
      "\u001b[1;31m---------------------------------------------------------------------------\u001b[0m",
      "\u001b[1;31mTypeError\u001b[0m                                 Traceback (most recent call last)",
      "\u001b[1;32mg:\\Drive'ım\\Masaüstü\\Eğitimler\\Yazılım\\VS Code Genel\\Python In-class\\012422.ipynb Cell 24'\u001b[0m in \u001b[0;36m<module>\u001b[1;34m\u001b[0m\n\u001b[1;32m----> <a href='vscode-notebook-cell:/g%3A/Drive%27%C4%B1m/Masa%C3%BCst%C3%BC/E%C4%9Fitimler/Yaz%C4%B1l%C4%B1m/VS%20Code%20Genel/Python%20In-class/012422.ipynb#ch0000026?line=0'>1</a>\u001b[0m \u001b[39mprint\u001b[39;49m(\u001b[39m*\u001b[39;49m \u001b[39m111\u001b[39;49m)\n",
      "\u001b[1;31mTypeError\u001b[0m: print() argument after * must be an iterable, not int"
     ]
    }
   ],
   "source": [
    "print(* 111)  # iterable olmadığı için yani elemanlarına ayrılabilen bir ifade olmadığı için hata verdi. "
   ]
  },
  {
   "cell_type": "code",
   "execution_count": 39,
   "metadata": {},
   "outputs": [
    {
     "ename": "TypeError",
     "evalue": "unsupported operand type(s) for +: 'int' and 'str'",
     "output_type": "error",
     "traceback": [
      "\u001b[1;31m---------------------------------------------------------------------------\u001b[0m",
      "\u001b[1;31mTypeError\u001b[0m                                 Traceback (most recent call last)",
      "\u001b[1;32mg:\\Drive'ım\\Masaüstü\\Eğitimler\\Yazılım\\VS Code Genel\\Python In-class\\012422.ipynb Cell 25'\u001b[0m in \u001b[0;36m<module>\u001b[1;34m\u001b[0m\n\u001b[1;32m----> <a href='vscode-notebook-cell:/g%3A/Drive%27%C4%B1m/Masa%C3%BCst%C3%BC/E%C4%9Fitimler/Yaz%C4%B1l%C4%B1m/VS%20Code%20Genel/Python%20In-class/012422.ipynb#ch0000027?line=0'>1</a>\u001b[0m \u001b[39m1\u001b[39;49m \u001b[39m+\u001b[39;49m \u001b[39m\"\u001b[39;49m\u001b[39m1\u001b[39;49m\u001b[39m\"\u001b[39;49m\n",
      "\u001b[1;31mTypeError\u001b[0m: unsupported operand type(s) for +: 'int' and 'str'"
     ]
    }
   ],
   "source": [
    "1 + \"1\"  # Bir string ile bir integer'ı toplarsak hata verir. Ama aşağıdaki gibi çarparsak; "
   ]
  },
  {
   "cell_type": "code",
   "execution_count": 40,
   "metadata": {},
   "outputs": [
    {
     "data": {
      "text/plain": [
       "'vv'"
      ]
     },
     "execution_count": 40,
     "metadata": {},
     "output_type": "execute_result"
    }
   ],
   "source": [
    "2 * \"v\"  # tekrar ettirir ve yan yana yazar (string olarak)"
   ]
  },
  {
   "cell_type": "code",
   "execution_count": 41,
   "metadata": {},
   "outputs": [
    {
     "name": "stdout",
     "output_type": "stream",
     "text": [
      "I   a m   a n g r y . . .\n"
     ]
    }
   ],
   "source": [
    "string_1 = 'I am angry...'\n",
    "print(* string_1)"
   ]
  },
  {
   "cell_type": "code",
   "execution_count": 43,
   "metadata": {},
   "outputs": [
    {
     "name": "stdout",
     "output_type": "stream",
     "text": [
      "1 4 5 3\n"
     ]
    }
   ],
   "source": [
    "string_2 = \"1453\"\n",
    "print(* string_2)"
   ]
  },
  {
   "cell_type": "code",
   "execution_count": 44,
   "metadata": {},
   "outputs": [
    {
     "name": "stdout",
     "output_type": "stream",
     "text": [
      "j o s e p h\n"
     ]
    }
   ],
   "source": [
    "print(* \"joseph\")"
   ]
  },
  {
   "cell_type": "code",
   "execution_count": 45,
   "metadata": {},
   "outputs": [
    {
     "data": {
      "text/plain": [
       "1"
      ]
     },
     "execution_count": 45,
     "metadata": {},
     "output_type": "execute_result"
    }
   ],
   "source": [
    "len(\" \")"
   ]
  },
  {
   "cell_type": "code",
   "execution_count": 50,
   "metadata": {},
   "outputs": [
    {
     "data": {
      "text/plain": [
       "'aliveli'"
      ]
     },
     "execution_count": 50,
     "metadata": {},
     "output_type": "execute_result"
    }
   ],
   "source": [
    "a = \"ali\"\n",
    "b = \"veli\"\n",
    "a = a + b\n",
    "a"
   ]
  },
  {
   "cell_type": "markdown",
   "metadata": {},
   "source": [
    "String Formatting with string.format() Method\n",
    "\n",
    "Bu metod sadece stringler ile kullanılır. Formulü aşağıdaki gibidir. \n",
    "\n",
    "'string {} string {} string'.format(data1, data2)"
   ]
  },
  {
   "cell_type": "code",
   "execution_count": 51,
   "metadata": {},
   "outputs": [
    {
     "data": {
      "text/plain": [
       "<function str.format>"
      ]
     },
     "execution_count": 51,
     "metadata": {},
     "output_type": "execute_result"
    }
   ],
   "source": [
    "deneme = \"clarusway\"\n",
    "deneme.format()\n",
    "# ya da şu şekilde de yazabiliriz; \n",
    "\"clarusway\".format()"
   ]
  },
  {
   "cell_type": "code",
   "execution_count": 52,
   "metadata": {},
   "outputs": [
    {
     "data": {
      "text/plain": [
       "\"Ben sabah 05:00 de uyandım. Okul'a gittim. Gelirken de 2 kg elma aldım.\""
      ]
     },
     "execution_count": 52,
     "metadata": {},
     "output_type": "execute_result"
    }
   ],
   "source": [
    "saat = \"05:00\"\n",
    "yer = \"Okul\"\n",
    "miktar = 2\n",
    "\"Ben sabah {} de uyandım. {}'a gittim. Gelirken de {} kg elma aldım.\".format(saat, yer, miktar)  # format içinde 0, 1, 2 olarak index sayıları verebiliriz. \n",
    "# {} koyduğumuzda format içindeki verileri yazdırmak istediğimizde kullanıyoruz.  "
   ]
  },
  {
   "cell_type": "code",
   "execution_count": 3,
   "metadata": {},
   "outputs": [
    {
     "data": {
      "text/plain": [
       "\"Ben sabah 05.00 de uyandım. okul'a gittim. Gelirken de 2 kg elma aldım.\""
      ]
     },
     "execution_count": 3,
     "metadata": {},
     "output_type": "execute_result"
    }
   ],
   "source": [
    "# bu da format metodunun 3. kullanımıdır. \n",
    "\"Ben sabah {saat} de uyandım. {yer}'a gittim. Gelirken de {miktar} kg elma aldım.\".format(yer = \"okul\", miktar = 2, saat = \"05.00\")"
   ]
  },
  {
   "cell_type": "code",
   "execution_count": 1,
   "metadata": {},
   "outputs": [
    {
     "data": {
      "text/plain": [
       "\"Ben sabah 05.00 de uyandım. okul'a gittim. Gelirken de 2 kg elma aldım.\""
      ]
     },
     "execution_count": 1,
     "metadata": {},
     "output_type": "execute_result"
    }
   ],
   "source": [
    "# illa değişkenleri atamak zorunda da değiliz, içine direk değerleri de yazdırabiliriz. \n",
    "\"Ben sabah {} de uyandım. {}'a gittim. Gelirken de {} kg elma aldım.\".format(\"05.00\", \"okul\", \"2\")"
   ]
  },
  {
   "cell_type": "code",
   "execution_count": 58,
   "metadata": {},
   "outputs": [
    {
     "data": {
      "text/plain": [
       "\"Ben sabah 05.00 de uyandım. okul'a gittim. Gelirken de 2 kg elma aldım.\""
      ]
     },
     "execution_count": 58,
     "metadata": {},
     "output_type": "execute_result"
    }
   ],
   "source": [
    "# bu da format metodunun 4. kullanımıdır. format içindeki veriler 0, 1, 2 olmak üzere index ataması yapabilir ve {} içlerine de o index numaralarını yazabiliriz. \n",
    "\"Ben sabah {2} de uyandım. {0}'a gittim. Gelirken de {1} kg elma aldım.\".format(\"okul\", 2, \"05.00\")  "
   ]
  },
  {
   "cell_type": "code",
   "execution_count": null,
   "metadata": {},
   "outputs": [],
   "source": []
  }
 ],
 "metadata": {
  "interpreter": {
   "hash": "1119d47f94ad9ac75885573077f663dd4dae1d75e807f23fe53292849f40bbc4"
  },
  "kernelspec": {
   "display_name": "Python 3.10.2 64-bit",
   "language": "python",
   "name": "python3"
  },
  "language_info": {
   "codemirror_mode": {
    "name": "ipython",
    "version": 3
   },
   "file_extension": ".py",
   "mimetype": "text/x-python",
   "name": "python",
   "nbconvert_exporter": "python",
   "pygments_lexer": "ipython3",
   "version": "3.10.2"
  },
  "orig_nbformat": 4
 },
 "nbformat": 4,
 "nbformat_minor": 2
}
