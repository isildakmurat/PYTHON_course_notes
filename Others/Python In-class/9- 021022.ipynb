{
 "cells": [
  {
   "cell_type": "markdown",
   "id": "48e59907",
   "metadata": {},
   "source": [
    "- Herhangi bir object'in üstüne kurulan fonksiyonlara metod denir. \n",
    "- list(dictname.items()) => liste içerisine dict items tuple olarak atar.\n",
    "- \"in\" True or False output verir. var mı yok mu kontrolü yapar.\n",
    "- bootcamp = \"c l a r u s w a y\".split()  split komutu defult değeri her boşluktan bölüp liste yapar.() içine atama yapılırsa o değere göre böler.\n",
    "- iç içe dictionary (nested) olabilir.\n",
    "- len() dictionary lerde key sayısını verir.\n",
    "- max() en yüksek int değerini döndürür.\n",
    "- max(boşiterable, default = ) => eğer boş iterable da kullanılırsa default değerini döndürür.\n",
    "- max(numbers, key = numbers.)    key parametresine fonksiyon atanması gerekir.\n",
    "- max(numbers, key = numbers.count) #fonksiyonu numbers a tek tek uygula ve o çıkan sonucun en büyüğünü verir.\n",
    "- numbers.count(max(numbers, key = numbers.count)) #en çok tekrar eden elemanın kaç kez tekrar ettiğini verir."
   ]
  },
  {
   "cell_type": "code",
   "execution_count": 4,
   "id": "7296ad00",
   "metadata": {},
   "outputs": [
    {
     "name": "stdout",
     "output_type": "stream",
     "text": [
      "dict_items([('animal', 'dog'), ('planet', 'Neptun'), ('number', 40), ('pi', 3.14), ('is_good', True)]) \n",
      "\n",
      "dict_keys(['animal', 'planet', 'number', 'pi', 'is_good']) \n",
      "\n",
      "dict_values(['dog', 'Neptun', 40, 3.14, True]) \n",
      "\n"
     ]
    }
   ],
   "source": [
    "dict_by_dict = {'animal':'dog',\n",
    "\t\t\t'planet': 'Neptun',\n",
    "\t\t\t'number': 40,\n",
    "\t\t\t'pi':3.14,\n",
    "\t\t\t'is_good': True}\n",
    "\n",
    "print(dict_by_dict.items(), '\\n')  # Buradaki \"\\n\" bir alt satıra geçerken arada bir boşluk bıraktırıyor. \n",
    "print(dict_by_dict.keys(), '\\n')\n",
    "print(dict_by_dict.values(), '\\n')"
   ]
  },
  {
   "cell_type": "code",
   "execution_count": 5,
   "id": "38d10b65",
   "metadata": {},
   "outputs": [
    {
     "data": {
      "text/plain": [
       "dict_items([('animal', 'dog'), ('planet', 'Neptun'), ('number', 40), ('pi', 3.14), ('is_good', True)])"
      ]
     },
     "execution_count": 5,
     "metadata": {},
     "output_type": "execute_result"
    }
   ],
   "source": [
    "dict_by_dict.items()"
   ]
  },
  {
   "cell_type": "code",
   "execution_count": 6,
   "id": "7342e493",
   "metadata": {},
   "outputs": [
    {
     "ename": "ValueError",
     "evalue": "too many values to unpack (expected 2)",
     "output_type": "error",
     "traceback": [
      "\u001b[1;31m---------------------------------------------------------------------------\u001b[0m",
      "\u001b[1;31mValueError\u001b[0m                                Traceback (most recent call last)",
      "\u001b[1;32mg:\\Drive'ım\\Masaüstü\\Eğitimler\\Yazılım\\VS Code Genel\\Python In-class\\9- 021022.ipynb Cell 4'\u001b[0m in \u001b[0;36m<module>\u001b[1;34m\u001b[0m\n\u001b[1;32m----> <a href='vscode-notebook-cell:/g%3A/Drive%27%C4%B1m/Masa%C3%BCst%C3%BC/E%C4%9Fitimler/Yaz%C4%B1l%C4%B1m/VS%20Code%20Genel/Python%20In-class/9-%20021022.ipynb#ch0000002?line=0'>1</a>\u001b[0m x, y \u001b[39m=\u001b[39m dict_by_dict\u001b[39m.\u001b[39mitems()\n",
      "\u001b[1;31mValueError\u001b[0m: too many values to unpack (expected 2)"
     ]
    }
   ],
   "source": [
    "x, y = dict_by_dict.items()"
   ]
  },
  {
   "cell_type": "code",
   "execution_count": 7,
   "id": "5c5dfb6c",
   "metadata": {},
   "outputs": [
    {
     "ename": "TypeError",
     "evalue": "cannot unpack non-iterable int object",
     "output_type": "error",
     "traceback": [
      "\u001b[1;31m---------------------------------------------------------------------------\u001b[0m",
      "\u001b[1;31mTypeError\u001b[0m                                 Traceback (most recent call last)",
      "\u001b[1;32mg:\\Drive'ım\\Masaüstü\\Eğitimler\\Yazılım\\VS Code Genel\\Python In-class\\9- 021022.ipynb Cell 5'\u001b[0m in \u001b[0;36m<module>\u001b[1;34m\u001b[0m\n\u001b[1;32m----> <a href='vscode-notebook-cell:/g%3A/Drive%27%C4%B1m/Masa%C3%BCst%C3%BC/E%C4%9Fitimler/Yaz%C4%B1l%C4%B1m/VS%20Code%20Genel/Python%20In-class/9-%20021022.ipynb#ch0000003?line=0'>1</a>\u001b[0m a, b \u001b[39m=\u001b[39m \u001b[39m1\u001b[39m\n",
      "\u001b[1;31mTypeError\u001b[0m: cannot unpack non-iterable int object"
     ]
    }
   ],
   "source": [
    "a, b = 1"
   ]
  },
  {
   "cell_type": "code",
   "execution_count": 8,
   "id": "b9a4ec5f",
   "metadata": {},
   "outputs": [
    {
     "data": {
      "text/plain": [
       "[('animal', 'dog'),\n",
       " ('planet', 'Neptun'),\n",
       " ('number', 40),\n",
       " ('pi', 3.14),\n",
       " ('is_good', True)]"
      ]
     },
     "execution_count": 8,
     "metadata": {},
     "output_type": "execute_result"
    }
   ],
   "source": [
    "list(dict_by_dict.items())"
   ]
  },
  {
   "cell_type": "code",
   "execution_count": 47,
   "id": "5634aac8",
   "metadata": {},
   "outputs": [],
   "source": [
    "items = list(dict_by_dict.items())"
   ]
  },
  {
   "cell_type": "code",
   "execution_count": 10,
   "id": "20a48e43",
   "metadata": {},
   "outputs": [],
   "source": [
    "x, y = items[0]  # Buradaki 0 numaralı indeks içinde 1'den falz değer olduğu için atama gerçekleşti. "
   ]
  },
  {
   "cell_type": "code",
   "execution_count": 11,
   "id": "d24e6a22",
   "metadata": {},
   "outputs": [
    {
     "data": {
      "text/plain": [
       "'animal'"
      ]
     },
     "execution_count": 11,
     "metadata": {},
     "output_type": "execute_result"
    }
   ],
   "source": [
    "x"
   ]
  },
  {
   "cell_type": "code",
   "execution_count": 12,
   "id": "e5f7f6aa",
   "metadata": {},
   "outputs": [
    {
     "data": {
      "text/plain": [
       "'dog'"
      ]
     },
     "execution_count": 12,
     "metadata": {},
     "output_type": "execute_result"
    }
   ],
   "source": [
    "y"
   ]
  },
  {
   "cell_type": "code",
   "execution_count": 13,
   "id": "e0d80566",
   "metadata": {},
   "outputs": [],
   "source": [
    "x, y = \"animal\", \"dog\""
   ]
  },
  {
   "cell_type": "code",
   "execution_count": 14,
   "id": "aa803524",
   "metadata": {},
   "outputs": [
    {
     "data": {
      "text/plain": [
       "dict_keys(['animal', 'planet', 'number', 'pi', 'is_good'])"
      ]
     },
     "execution_count": 14,
     "metadata": {},
     "output_type": "execute_result"
    }
   ],
   "source": [
    "dict_by_dict.keys()"
   ]
  },
  {
   "cell_type": "code",
   "execution_count": 15,
   "id": "f2d1b1c1",
   "metadata": {},
   "outputs": [
    {
     "data": {
      "text/plain": [
       "('animal', 'planet', 'number', 'pi', 'is_good')"
      ]
     },
     "execution_count": 15,
     "metadata": {},
     "output_type": "execute_result"
    }
   ],
   "source": [
    "tuple(dict_by_dict.keys())"
   ]
  },
  {
   "cell_type": "code",
   "execution_count": 12,
   "id": "5588b2a3",
   "metadata": {},
   "outputs": [
    {
     "data": {
      "text/plain": [
       "dict_values(['dog', 'Neptun', 40, 3.14, True])"
      ]
     },
     "execution_count": 12,
     "metadata": {},
     "output_type": "execute_result"
    }
   ],
   "source": [
    "dict_by_dict.values()"
   ]
  },
  {
   "cell_type": "code",
   "execution_count": 13,
   "id": "82013720",
   "metadata": {},
   "outputs": [
    {
     "data": {
      "text/plain": [
       "{3.14, 40, 'Neptun', True, 'dog'}"
      ]
     },
     "execution_count": 13,
     "metadata": {},
     "output_type": "execute_result"
    }
   ],
   "source": [
    "set(dict_by_dict.values())"
   ]
  },
  {
   "cell_type": "code",
   "execution_count": 17,
   "id": "e492e280",
   "metadata": {},
   "outputs": [],
   "source": [
    "family = {'name1': 'Joseph', \n",
    "          'name2': 'Bella',\n",
    "          'name3': 'Aisha',\n",
    "          'name4': 'Tom'\n",
    "         }"
   ]
  },
  {
   "cell_type": "code",
   "execution_count": 18,
   "id": "be4069ec",
   "metadata": {},
   "outputs": [
    {
     "data": {
      "text/plain": [
       "{'name1': 'Joseph', 'name2': 'Bella', 'name3': 'Aisha', 'name4': 'Tom'}"
      ]
     },
     "execution_count": 18,
     "metadata": {},
     "output_type": "execute_result"
    }
   ],
   "source": [
    "family"
   ]
  },
  {
   "cell_type": "code",
   "execution_count": 19,
   "id": "68672c84",
   "metadata": {},
   "outputs": [
    {
     "data": {
      "text/plain": [
       "[('name1', 'Joseph'), ('name2', 'Bella'), ('name3', 'Aisha'), ('name4', 'Tom')]"
      ]
     },
     "execution_count": 19,
     "metadata": {},
     "output_type": "execute_result"
    }
   ],
   "source": [
    "list(family.items())"
   ]
  },
  {
   "cell_type": "code",
   "execution_count": 17,
   "id": "29ae1122",
   "metadata": {},
   "outputs": [
    {
     "data": {
      "text/plain": [
       "['name1', 'name2', 'name3', 'name4']"
      ]
     },
     "execution_count": 17,
     "metadata": {},
     "output_type": "execute_result"
    }
   ],
   "source": [
    "list(family.keys())"
   ]
  },
  {
   "cell_type": "code",
   "execution_count": 20,
   "id": "77e01f9c",
   "metadata": {},
   "outputs": [
    {
     "data": {
      "text/plain": [
       "['Joseph', 'Bella', 'Aisha', 'Tom']"
      ]
     },
     "execution_count": 20,
     "metadata": {},
     "output_type": "execute_result"
    }
   ],
   "source": [
    "list(family.values())"
   ]
  },
  {
   "cell_type": "code",
   "execution_count": 21,
   "id": "773f39d0",
   "metadata": {},
   "outputs": [],
   "source": [
    "family[\"name5\"] = \"idris\"  # Bu çok kullanılır, DİKKAT ET. Hiç olmayan bir değişkene bir değer atıyoruz. "
   ]
  },
  {
   "cell_type": "code",
   "execution_count": 22,
   "id": "082dc0d9",
   "metadata": {},
   "outputs": [
    {
     "data": {
      "text/plain": [
       "{'name1': 'Joseph',\n",
       " 'name2': 'Bella',\n",
       " 'name3': 'Aisha',\n",
       " 'name4': 'Tom',\n",
       " 'name5': 'idris'}"
      ]
     },
     "execution_count": 22,
     "metadata": {},
     "output_type": "execute_result"
    }
   ],
   "source": [
    "family"
   ]
  },
  {
   "cell_type": "code",
   "execution_count": 23,
   "id": "fec5d87f",
   "metadata": {},
   "outputs": [],
   "source": [
    "family.update({\"name6\" : \"buşra\"})  # update metodu ile aynı anda birden çok eleman ekleyebiliriz. Update içinde dict olarak yazıyoruz. "
   ]
  },
  {
   "cell_type": "code",
   "execution_count": 24,
   "id": "abac2cc9",
   "metadata": {},
   "outputs": [
    {
     "data": {
      "text/plain": [
       "{'name1': 'Joseph',\n",
       " 'name2': 'Bella',\n",
       " 'name3': 'Aisha',\n",
       " 'name4': 'Tom',\n",
       " 'name5': 'idris',\n",
       " 'name6': 'buşra'}"
      ]
     },
     "execution_count": 24,
     "metadata": {},
     "output_type": "execute_result"
    }
   ],
   "source": [
    "family"
   ]
  },
  {
   "cell_type": "code",
   "execution_count": 25,
   "id": "3f71e226",
   "metadata": {},
   "outputs": [],
   "source": [
    "family.update({\"name2\" : \"elizabeth\"})  # Mevcut key deki value değerini değiştirdik.  "
   ]
  },
  {
   "cell_type": "code",
   "execution_count": 26,
   "id": "57ed7855",
   "metadata": {},
   "outputs": [
    {
     "data": {
      "text/plain": [
       "{'name1': 'Joseph',\n",
       " 'name2': 'elizabeth',\n",
       " 'name3': 'Aisha',\n",
       " 'name4': 'Tom',\n",
       " 'name5': 'idris',\n",
       " 'name6': 'buşra'}"
      ]
     },
     "execution_count": 26,
     "metadata": {},
     "output_type": "execute_result"
    }
   ],
   "source": [
    "family"
   ]
  },
  {
   "cell_type": "code",
   "execution_count": 27,
   "id": "b627fbb6",
   "metadata": {},
   "outputs": [],
   "source": [
    "family[\"name5\"] = \"osman\""
   ]
  },
  {
   "cell_type": "code",
   "execution_count": 28,
   "id": "7632cdc5",
   "metadata": {},
   "outputs": [
    {
     "data": {
      "text/plain": [
       "{'name1': 'Joseph',\n",
       " 'name2': 'elizabeth',\n",
       " 'name3': 'Aisha',\n",
       " 'name4': 'Tom',\n",
       " 'name5': 'osman',\n",
       " 'name6': 'buşra'}"
      ]
     },
     "execution_count": 28,
     "metadata": {},
     "output_type": "execute_result"
    }
   ],
   "source": [
    "family"
   ]
  },
  {
   "cell_type": "code",
   "execution_count": 29,
   "id": "fd6b5199",
   "metadata": {},
   "outputs": [],
   "source": [
    "# del bir keyword, fonksiyon değildir? Bu keyword'ün yanına boşluk ve indeksleme yapıyoruz.  \n",
    "del family[\"name1\"]  # İndeks içine sadece key yazıyoruz. "
   ]
  },
  {
   "cell_type": "code",
   "execution_count": 28,
   "id": "ca36e8e7",
   "metadata": {},
   "outputs": [
    {
     "data": {
      "text/plain": [
       "{'name2': 'elizabeth',\n",
       " 'name3': 'Aisha',\n",
       " 'name4': 'Tom',\n",
       " 'name5': 'osman',\n",
       " 'name6': 'buşra'}"
      ]
     },
     "execution_count": 28,
     "metadata": {},
     "output_type": "execute_result"
    }
   ],
   "source": [
    "family"
   ]
  },
  {
   "cell_type": "code",
   "execution_count": 30,
   "id": "a5802a7d",
   "metadata": {},
   "outputs": [],
   "source": [
    "# Aynı anda iki tane simek istediğimizde yan yana virgül ile.  \n",
    "\n",
    "del family[\"name3\"], family[\"name5\"]"
   ]
  },
  {
   "cell_type": "code",
   "execution_count": 31,
   "id": "877da819",
   "metadata": {},
   "outputs": [
    {
     "data": {
      "text/plain": [
       "{'name2': 'elizabeth', 'name4': 'Tom', 'name6': 'buşra'}"
      ]
     },
     "execution_count": 31,
     "metadata": {},
     "output_type": "execute_result"
    }
   ],
   "source": [
    "family"
   ]
  },
  {
   "cell_type": "code",
   "execution_count": 32,
   "id": "7a08fda2",
   "metadata": {},
   "outputs": [],
   "source": [
    "a = \"clarusway\""
   ]
  },
  {
   "cell_type": "code",
   "execution_count": 33,
   "id": "d3eef9b5",
   "metadata": {},
   "outputs": [
    {
     "name": "stdout",
     "output_type": "stream",
     "text": [
      "clarusway\n"
     ]
    }
   ],
   "source": [
    "print(a)"
   ]
  },
  {
   "cell_type": "code",
   "execution_count": 34,
   "id": "a3aeab2a",
   "metadata": {},
   "outputs": [],
   "source": [
    "del a  # Bir değişkeni niye silme ihtiyacı duyarız ki, kullanmayız biter ? İşimize yaramayan veriler hafızda çok yer tutmasın diye. "
   ]
  },
  {
   "cell_type": "code",
   "execution_count": 36,
   "id": "1818dd58",
   "metadata": {},
   "outputs": [
    {
     "ename": "NameError",
     "evalue": "name 'a' is not defined",
     "output_type": "error",
     "traceback": [
      "\u001b[1;31m---------------------------------------------------------------------------\u001b[0m",
      "\u001b[1;31mNameError\u001b[0m                                 Traceback (most recent call last)",
      "\u001b[1;32mg:\\Drive'ım\\Masaüstü\\Eğitimler\\Yazılım\\VS Code Genel\\Python In-class\\9- 021022.ipynb Cell 36'\u001b[0m in \u001b[0;36m<module>\u001b[1;34m\u001b[0m\n\u001b[1;32m----> <a href='vscode-notebook-cell:/g%3A/Drive%27%C4%B1m/Masa%C3%BCst%C3%BC/E%C4%9Fitimler/Yaz%C4%B1l%C4%B1m/VS%20Code%20Genel/Python%20In-class/9-%20021022.ipynb#ch0000034?line=0'>1</a>\u001b[0m \u001b[39mprint\u001b[39m(a)\n",
      "\u001b[1;31mNameError\u001b[0m: name 'a' is not defined"
     ]
    }
   ],
   "source": [
    "print(a)  # Sildiğini teğit ettik. "
   ]
  },
  {
   "cell_type": "code",
   "execution_count": null,
   "id": "48b8d97a",
   "metadata": {},
   "outputs": [],
   "source": [
    "# Herhangi bir iterable içinde herhangi bir eleman var mı yok mu bu kontrol etmemize yarar. \n",
    "in  # True ya da False output veren bir keyword'dür. "
   ]
  },
  {
   "cell_type": "code",
   "execution_count": 35,
   "id": "97b36e85",
   "metadata": {},
   "outputs": [
    {
     "data": {
      "text/plain": [
       "False"
      ]
     },
     "execution_count": 35,
     "metadata": {},
     "output_type": "execute_result"
    }
   ],
   "source": [
    "\"i\" in \"clarusway\"  # Clarusway içinde string i harfi var mı diye soru soruyoruz. "
   ]
  },
  {
   "cell_type": "code",
   "execution_count": 36,
   "id": "d5adb142",
   "metadata": {},
   "outputs": [
    {
     "data": {
      "text/plain": [
       "True"
      ]
     },
     "execution_count": 36,
     "metadata": {},
     "output_type": "execute_result"
    }
   ],
   "source": [
    "\"a\" in \"clarusway\" "
   ]
  },
  {
   "cell_type": "code",
   "execution_count": 37,
   "id": "9dae7fa7",
   "metadata": {},
   "outputs": [
    {
     "data": {
      "text/plain": [
       "False"
      ]
     },
     "execution_count": 37,
     "metadata": {},
     "output_type": "execute_result"
    }
   ],
   "source": [
    "\"A\" in \"clarusway\"  # Büyük harf, küçük harf duyarlılığı vardır. "
   ]
  },
  {
   "cell_type": "code",
   "execution_count": 40,
   "id": "ce022126",
   "metadata": {},
   "outputs": [
    {
     "data": {
      "text/plain": [
       "['ali', 'deli', 'veli']"
      ]
     },
     "execution_count": 40,
     "metadata": {},
     "output_type": "execute_result"
    }
   ],
   "source": [
    "# - lerden böl ve her böldüğün string parçasını listenin elemanları haline getir.  \n",
    "\"ali-deli-veli\".split(\"-\")  # Nereden bölmesini istiyorsak parantez içine onu koyuyoruz.  "
   ]
  },
  {
   "cell_type": "code",
   "execution_count": 38,
   "id": "6c28ea1a",
   "metadata": {},
   "outputs": [],
   "source": [
    "bootcamp = \"c l a r u s w a y\".split()  # Bunu çok kullanırız. Aralarındaki boşluklardan listeye çeviriyoruz. "
   ]
  },
  {
   "cell_type": "code",
   "execution_count": 39,
   "id": "41fe0af8",
   "metadata": {},
   "outputs": [
    {
     "data": {
      "text/plain": [
       "['c', 'l', 'a', 'r', 'u', 's', 'w', 'a', 'y']"
      ]
     },
     "execution_count": 39,
     "metadata": {},
     "output_type": "execute_result"
    }
   ],
   "source": [
    "bootcamp  # Kolay liste yapma yöntemi "
   ]
  },
  {
   "cell_type": "code",
   "execution_count": 41,
   "id": "290b98f6",
   "metadata": {},
   "outputs": [
    {
     "data": {
      "text/plain": [
       "True"
      ]
     },
     "execution_count": 41,
     "metadata": {},
     "output_type": "execute_result"
    }
   ],
   "source": [
    "\"a\" in bootcamp  # bootcamp iterable olduğu için elemanları arasında arama yapıyor, kontrol ediyor."
   ]
  },
  {
   "cell_type": "code",
   "execution_count": 42,
   "id": "c1f4dad4",
   "metadata": {},
   "outputs": [
    {
     "data": {
      "text/plain": [
       "{'animal': 'dog',\n",
       " 'planet': 'Neptun',\n",
       " 'number': 40,\n",
       " 'pi': 3.14,\n",
       " 'is_good': True}"
      ]
     },
     "execution_count": 42,
     "metadata": {},
     "output_type": "execute_result"
    }
   ],
   "source": [
    "# Aynı şekilde dict ler içinde de yapabiliriz. \n",
    "\n",
    "dict_by_dict"
   ]
  },
  {
   "cell_type": "code",
   "execution_count": 43,
   "id": "25625984",
   "metadata": {},
   "outputs": [
    {
     "data": {
      "text/plain": [
       "False"
      ]
     },
     "execution_count": 43,
     "metadata": {},
     "output_type": "execute_result"
    }
   ],
   "source": [
    "\"dog\" in dict_by_dict  # in metodu sadece key olarak bakıyor. "
   ]
  },
  {
   "cell_type": "code",
   "execution_count": 44,
   "id": "8990e0ae",
   "metadata": {},
   "outputs": [
    {
     "data": {
      "text/plain": [
       "True"
      ]
     },
     "execution_count": 44,
     "metadata": {},
     "output_type": "execute_result"
    }
   ],
   "source": [
    "\"planet\" in dict_by_dict # key'e baktığı için True"
   ]
  },
  {
   "cell_type": "code",
   "execution_count": 37,
   "id": "04664fb2",
   "metadata": {},
   "outputs": [
    {
     "data": {
      "text/plain": [
       "True"
      ]
     },
     "execution_count": 37,
     "metadata": {},
     "output_type": "execute_result"
    }
   ],
   "source": [
    "\"dog\" in dict_by_dict.values()  # Value lar arasından da bu şekilde bakabiliriz. "
   ]
  },
  {
   "cell_type": "code",
   "execution_count": 46,
   "id": "b14021d6",
   "metadata": {},
   "outputs": [
    {
     "data": {
      "text/plain": [
       "False"
      ]
     },
     "execution_count": 46,
     "metadata": {},
     "output_type": "execute_result"
    }
   ],
   "source": [
    "not True"
   ]
  },
  {
   "cell_type": "code",
   "execution_count": 38,
   "id": "adcd8ef9",
   "metadata": {},
   "outputs": [
    {
     "data": {
      "text/plain": [
       "True"
      ]
     },
     "execution_count": 38,
     "metadata": {},
     "output_type": "execute_result"
    }
   ],
   "source": [
    "\"dog\" not in dict_by_dict  # dog içinde yok mu ? diye soruyoruz not in diyerek. "
   ]
  },
  {
   "cell_type": "code",
   "execution_count": 40,
   "id": "921a3c9f",
   "metadata": {},
   "outputs": [],
   "source": [
    "school_records={\n",
    "\t'personal_info':\n",
    "\t\t{'kid':{'tom':{'class':'intermediate', 'age':10},\n",
    "\t\t\t'sue':{'class':'elemantary', 'age':8}\n",
    "\t\t\t},\n",
    "\t\t'teen':{'joseph':{'class':'college', 'age':19},\n",
    "\t\t\t'marry':{'class':'high school', 'age':16}\n",
    "\t\t\t},\n",
    "\t\t},\n",
    "\t'grades_info':\n",
    "\t\t{'kid':{'tom':{'math':88, 'speech':69},\n",
    "\t\t\t'sue':{'math':90, 'speech':81}\n",
    "\t\t\t},\n",
    "\t\t'teen':{'joseph':{'coding':80, 'math':89},\n",
    "\t\t\t'marry':{'coding':70, 'math':96}\n",
    "\t\t\t},\n",
    "\t\t}\n",
    "}"
   ]
  },
  {
   "cell_type": "code",
   "execution_count": 49,
   "id": "5aacdcc7",
   "metadata": {},
   "outputs": [
    {
     "data": {
      "text/plain": [
       "2"
      ]
     },
     "execution_count": 49,
     "metadata": {},
     "output_type": "execute_result"
    }
   ],
   "source": [
    "len(school_records)  # Len iterable alır eleman sayısını verir. "
   ]
  },
  {
   "cell_type": "code",
   "execution_count": 50,
   "id": "3d7570fc",
   "metadata": {},
   "outputs": [
    {
     "data": {
      "text/plain": [
       "{'kid': {'tom': {'class': 'intermediate', 'age': 10},\n",
       "  'sue': {'class': 'elemantary', 'age': 8}},\n",
       " 'teen': {'joseph': {'class': 'college', 'age': 19},\n",
       "  'marry': {'class': 'high school', 'age': 16}}}"
      ]
     },
     "execution_count": 50,
     "metadata": {},
     "output_type": "execute_result"
    }
   ],
   "source": [
    "school_records[\"personal_info\"]"
   ]
  },
  {
   "cell_type": "code",
   "execution_count": 51,
   "id": "a28a7356",
   "metadata": {},
   "outputs": [
    {
     "data": {
      "text/plain": [
       "dict"
      ]
     },
     "execution_count": 51,
     "metadata": {},
     "output_type": "execute_result"
    }
   ],
   "source": [
    "type(school_records[\"personal_info\"])"
   ]
  },
  {
   "cell_type": "code",
   "execution_count": 52,
   "id": "9d500512",
   "metadata": {},
   "outputs": [
    {
     "data": {
      "text/plain": [
       "2"
      ]
     },
     "execution_count": 52,
     "metadata": {},
     "output_type": "execute_result"
    }
   ],
   "source": [
    "len(school_records[\"personal_info\"])"
   ]
  },
  {
   "cell_type": "code",
   "execution_count": 53,
   "id": "8975dde0",
   "metadata": {},
   "outputs": [
    {
     "data": {
      "text/plain": [
       "{'kid': {'tom': {'math': 88, 'speech': 69}, 'sue': {'math': 90, 'speech': 81}},\n",
       " 'teen': {'joseph': {'coding': 80, 'math': 89},\n",
       "  'marry': {'coding': 70, 'math': 96}}}"
      ]
     },
     "execution_count": 53,
     "metadata": {},
     "output_type": "execute_result"
    }
   ],
   "source": [
    "school_records['grades_info']"
   ]
  },
  {
   "cell_type": "code",
   "execution_count": 55,
   "id": "65fdb20b",
   "metadata": {},
   "outputs": [
    {
     "data": {
      "text/plain": [
       "{'tom': {'class': 'intermediate', 'age': 10},\n",
       " 'sue': {'class': 'elemantary', 'age': 8}}"
      ]
     },
     "execution_count": 55,
     "metadata": {},
     "output_type": "execute_result"
    }
   ],
   "source": [
    "school_records[\"personal_info\"][\"kid\"]"
   ]
  },
  {
   "cell_type": "code",
   "execution_count": 56,
   "id": "2df8a8c6",
   "metadata": {},
   "outputs": [
    {
     "data": {
      "text/plain": [
       "2"
      ]
     },
     "execution_count": 56,
     "metadata": {},
     "output_type": "execute_result"
    }
   ],
   "source": [
    "len(school_records[\"personal_info\"][\"kid\"])"
   ]
  },
  {
   "cell_type": "code",
   "execution_count": 57,
   "id": "c5679042",
   "metadata": {},
   "outputs": [
    {
     "data": {
      "text/plain": [
       "{'class': 'intermediate', 'age': 10}"
      ]
     },
     "execution_count": 57,
     "metadata": {},
     "output_type": "execute_result"
    }
   ],
   "source": [
    "school_records[\"personal_info\"][\"kid\"][\"tom\"]"
   ]
  },
  {
   "cell_type": "code",
   "execution_count": 58,
   "id": "18d7a684",
   "metadata": {},
   "outputs": [
    {
     "data": {
      "text/plain": [
       "10"
      ]
     },
     "execution_count": 58,
     "metadata": {},
     "output_type": "execute_result"
    }
   ],
   "source": [
    "school_records[\"personal_info\"][\"kid\"][\"tom\"]['age']  # Key ne ise onunla indeksleyebiliriz. Direk sayı yazamayız.  "
   ]
  },
  {
   "cell_type": "code",
   "execution_count": 51,
   "metadata": {},
   "outputs": [
    {
     "data": {
      "text/plain": [
       "{'coding': 80, 'math': 89}"
      ]
     },
     "execution_count": 51,
     "metadata": {},
     "output_type": "execute_result"
    }
   ],
   "source": [
    "school_records['grades_info'][\"teen\"][\"joseph\"]\n"
   ]
  },
  {
   "cell_type": "code",
   "execution_count": 53,
   "id": "e7f2727d",
   "metadata": {},
   "outputs": [
    {
     "name": "stdout",
     "output_type": "stream",
     "text": [
      "[('coding', 80), ('math', 89)]\n"
     ]
    }
   ],
   "source": [
    "print(list(school_records['grades_info'][\"teen\"][\"joseph\"].items()))\n"
   ]
  },
  {
   "cell_type": "markdown",
   "id": "dda26ce4",
   "metadata": {},
   "source": [
    "## The most frequent element"
   ]
  },
  {
   "cell_type": "code",
   "execution_count": 57,
   "id": "f6f8ea35",
   "metadata": {},
   "outputs": [],
   "source": [
    "numbers = [-1, 3, 7, 4, 3, 0, 3, 16, 3, 7, 0, 0, 1]"
   ]
  },
  {
   "cell_type": "code",
   "execution_count": 60,
   "id": "4f52fd90",
   "metadata": {},
   "outputs": [
    {
     "data": {
      "text/plain": [
       "16"
      ]
     },
     "execution_count": 60,
     "metadata": {},
     "output_type": "execute_result"
    }
   ],
   "source": [
    "max(numbers)  # iterable içindeki elemanlardan birini döndürüyor. "
   ]
  },
  {
   "cell_type": "code",
   "execution_count": 61,
   "id": "04f1adf9",
   "metadata": {},
   "outputs": [
    {
     "data": {
      "text/plain": [
       "5"
      ]
     },
     "execution_count": 61,
     "metadata": {},
     "output_type": "execute_result"
    }
   ],
   "source": [
    "max(2, 3, 5)"
   ]
  },
  {
   "cell_type": "code",
   "execution_count": 62,
   "id": "505cad55",
   "metadata": {},
   "outputs": [
    {
     "data": {
      "text/plain": [
       "'Boş'"
      ]
     },
     "execution_count": 62,
     "metadata": {},
     "output_type": "execute_result"
    }
   ],
   "source": [
    "empty = []  # Boş bir iterable'ın max alırken default'a ne tanımlamışsak onu döndürür. \n",
    "\n",
    "max(empty, default = \"Boş\")"
   ]
  },
  {
   "cell_type": "code",
   "execution_count": 63,
   "id": "24c3419a",
   "metadata": {},
   "outputs": [
    {
     "data": {
      "text/plain": [
       "True"
      ]
     },
     "execution_count": 63,
     "metadata": {},
     "output_type": "execute_result"
    }
   ],
   "source": [
    "max(empty, default = True)"
   ]
  },
  {
   "cell_type": "code",
   "execution_count": 64,
   "id": "bdb259e1",
   "metadata": {},
   "outputs": [
    {
     "data": {
      "text/plain": [
       "22"
      ]
     },
     "execution_count": 64,
     "metadata": {},
     "output_type": "execute_result"
    }
   ],
   "source": [
    "max(empty, default = 22)"
   ]
  },
  {
   "cell_type": "code",
   "execution_count": 65,
   "id": "7a386251",
   "metadata": {},
   "outputs": [],
   "source": [
    "empty = ()"
   ]
  },
  {
   "cell_type": "code",
   "execution_count": 66,
   "id": "d4f27666",
   "metadata": {},
   "outputs": [
    {
     "data": {
      "text/plain": [
       "22"
      ]
     },
     "execution_count": 66,
     "metadata": {},
     "output_type": "execute_result"
    }
   ],
   "source": [
    "max(empty, default = 22)"
   ]
  },
  {
   "cell_type": "code",
   "execution_count": 67,
   "id": "a7a42ce4",
   "metadata": {},
   "outputs": [],
   "source": [
    "sequence = [1, 1, 1, 1, 2, 2, 2, 3, 3, 4]"
   ]
  },
  {
   "cell_type": "code",
   "execution_count": 68,
   "id": "698de2bd",
   "metadata": {},
   "outputs": [
    {
     "data": {
      "text/plain": [
       "4"
      ]
     },
     "execution_count": 68,
     "metadata": {},
     "output_type": "execute_result"
    }
   ],
   "source": [
    "max(sequence)"
   ]
  },
  {
   "cell_type": "code",
   "execution_count": 69,
   "id": "398de96e",
   "metadata": {},
   "outputs": [
    {
     "data": {
      "text/plain": [
       "1"
      ]
     },
     "execution_count": 69,
     "metadata": {},
     "output_type": "execute_result"
    }
   ],
   "source": [
    "sequence.count(4)"
   ]
  },
  {
   "cell_type": "code",
   "execution_count": 70,
   "id": "cbfd8437",
   "metadata": {},
   "outputs": [
    {
     "data": {
      "text/plain": [
       "4"
      ]
     },
     "execution_count": 70,
     "metadata": {},
     "output_type": "execute_result"
    }
   ],
   "source": [
    "sequence.count(1)"
   ]
  },
  {
   "cell_type": "code",
   "execution_count": 71,
   "id": "7bc708a8",
   "metadata": {},
   "outputs": [
    {
     "data": {
      "text/plain": [
       "2"
      ]
     },
     "execution_count": 71,
     "metadata": {},
     "output_type": "execute_result"
    }
   ],
   "source": [
    "sequence.count(3)"
   ]
  },
  {
   "cell_type": "code",
   "execution_count": 72,
   "id": "0fb8ceb6",
   "metadata": {},
   "outputs": [
    {
     "data": {
      "text/plain": [
       "3"
      ]
     },
     "execution_count": 72,
     "metadata": {},
     "output_type": "execute_result"
    }
   ],
   "source": [
    "sequence.count(2)"
   ]
  },
  {
   "cell_type": "code",
   "execution_count": 58,
   "id": "bb786196",
   "metadata": {},
   "outputs": [
    {
     "data": {
      "text/plain": [
       "[-1, 3, 7, 4, 3, 0, 3, 16, 3, 7, 0, 0, 1]"
      ]
     },
     "execution_count": 58,
     "metadata": {},
     "output_type": "execute_result"
    }
   ],
   "source": [
    "numbers"
   ]
  },
  {
   "cell_type": "code",
   "execution_count": 74,
   "id": "f6572fa0",
   "metadata": {},
   "outputs": [
    {
     "data": {
      "text/plain": [
       "16"
      ]
     },
     "execution_count": 74,
     "metadata": {},
     "output_type": "execute_result"
    }
   ],
   "source": [
    "max(numbers)"
   ]
  },
  {
   "cell_type": "code",
   "execution_count": 75,
   "id": "25959055",
   "metadata": {},
   "outputs": [
    {
     "data": {
      "text/plain": [
       "1"
      ]
     },
     "execution_count": 75,
     "metadata": {},
     "output_type": "execute_result"
    }
   ],
   "source": [
    "numbers.count(16)"
   ]
  },
  {
   "cell_type": "code",
   "execution_count": 59,
   "id": "b8244c64",
   "metadata": {},
   "outputs": [
    {
     "data": {
      "text/plain": [
       "1"
      ]
     },
     "execution_count": 59,
     "metadata": {},
     "output_type": "execute_result"
    }
   ],
   "source": [
    "numbers.count(max(numbers))"
   ]
  },
  {
   "cell_type": "code",
   "execution_count": 60,
   "id": "a03ba443",
   "metadata": {},
   "outputs": [
    {
     "data": {
      "text/plain": [
       "3"
      ]
     },
     "execution_count": 60,
     "metadata": {},
     "output_type": "execute_result"
    }
   ],
   "source": [
    "max(numbers, key = numbers.count)  # fonksiyonu numbers a tek tek uygula ve o çıkan sonucun en büyüğünü verir."
   ]
  },
  {
   "cell_type": "code",
   "execution_count": 61,
   "id": "beff5b00",
   "metadata": {},
   "outputs": [
    {
     "data": {
      "text/plain": [
       "4"
      ]
     },
     "execution_count": 61,
     "metadata": {},
     "output_type": "execute_result"
    }
   ],
   "source": [
    "numbers.count(max(numbers, key = numbers.count))  #en çok tekrar eden elemanın kaç kez tekrar ettiğini verir."
   ]
  },
  {
   "cell_type": "code",
   "execution_count": 62,
   "id": "b564c0e8",
   "metadata": {},
   "outputs": [
    {
     "data": {
      "text/plain": [
       "4"
      ]
     },
     "execution_count": 62,
     "metadata": {},
     "output_type": "execute_result"
    }
   ],
   "source": [
    "numbers.count(max(numbers, key = numbers.count))  "
   ]
  },
  {
   "cell_type": "code",
   "execution_count": 64,
   "id": "d9aeb2de",
   "metadata": {},
   "outputs": [],
   "source": [
    "sehirler = [\"istanbul\", \"van\", \"ağrı\", \"ankara\"]"
   ]
  },
  {
   "cell_type": "code",
   "execution_count": 80,
   "id": "bce8ee52",
   "metadata": {},
   "outputs": [
    {
     "data": {
      "text/plain": [
       "['ankara', 'ağrı', 'istanbul', 'van']"
      ]
     },
     "execution_count": 80,
     "metadata": {},
     "output_type": "execute_result"
    }
   ],
   "source": [
    "sorted(sehirler)"
   ]
  },
  {
   "cell_type": "code",
   "execution_count": 81,
   "id": "ba70b189",
   "metadata": {},
   "outputs": [
    {
     "data": {
      "text/plain": [
       "['van', 'ağrı', 'ankara', 'istanbul']"
      ]
     },
     "execution_count": 81,
     "metadata": {},
     "output_type": "execute_result"
    }
   ],
   "source": [
    "sorted(sehirler, key = len)"
   ]
  },
  {
   "cell_type": "code",
   "execution_count": 65,
   "id": "f177732c",
   "metadata": {},
   "outputs": [
    {
     "data": {
      "text/plain": [
       "['istanbul', 'ankara', 'ağrı', 'van']"
      ]
     },
     "execution_count": 65,
     "metadata": {},
     "output_type": "execute_result"
    }
   ],
   "source": [
    "sorted(sehirler, key = len, reverse  = True)  # #sehirler listesine(iterable) len fonksiyonunu çalıştır, ters sırala.(büyükten küçüğe)"
   ]
  },
  {
   "cell_type": "code",
   "execution_count": 83,
   "id": "7e0ec124",
   "metadata": {},
   "outputs": [
    {
     "data": {
      "text/plain": [
       "['van', 'ağrı', 'ankara', 'istanbul']"
      ]
     },
     "execution_count": 83,
     "metadata": {},
     "output_type": "execute_result"
    }
   ],
   "source": [
    "sehirler.sort(key  = len)\n",
    "sehirler"
   ]
  }
 ],
 "metadata": {
  "kernelspec": {
   "display_name": "Python 3",
   "language": "python",
   "name": "python3"
  },
  "language_info": {
   "codemirror_mode": {
    "name": "ipython",
    "version": 3
   },
   "file_extension": ".py",
   "mimetype": "text/x-python",
   "name": "python",
   "nbconvert_exporter": "python",
   "pygments_lexer": "ipython3",
   "version": "3.10.2"
  }
 },
 "nbformat": 4,
 "nbformat_minor": 5
}
