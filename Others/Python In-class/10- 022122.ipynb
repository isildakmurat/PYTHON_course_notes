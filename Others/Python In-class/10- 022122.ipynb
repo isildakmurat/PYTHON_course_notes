{
 "cells": [
  {
   "cell_type": "markdown",
   "metadata": {},
   "source": [
    "## SETS\n",
    "Tekrar eden eleman yoktur (No repetition) - Örneğin bir listeyi kümeye çevirdiğimizde sadece uniqe olanları alır, tekrar edenleri almaz. \n",
    "Matematiksel küme operasyonları yapabiliriz. Sonuçta da yine küme çıktısı verir! (Union-Birleşim, İntersection-Kesişim, difference-fark)\n",
    "Unordered'dırlar. - Biz bir küme oluşturduğumuzda, o kümenin elemanlarını farklı şekilde sıralayabilir, kendi algoritmasına bağlıdır. \n",
    "\n",
    "Bu iki yöntem ile oluşturulur. \n",
    "{}\n",
    "set() - Her zaman ki gibi iterable verileri içine alır. \n",
    "\n",
    "list(), tuple(), dict(), set() bunların hepsi iterable alırlar"
   ]
  },
  {
   "cell_type": "code",
   "execution_count": 3,
   "metadata": {},
   "outputs": [
    {
     "name": "stdout",
     "output_type": "stream",
     "text": [
      "{'red', 'blue', 'pink'}\n"
     ]
    },
    {
     "data": {
      "text/plain": [
       "{'blue', 'pink', 'red'}"
      ]
     },
     "execution_count": 3,
     "metadata": {},
     "output_type": "execute_result"
    }
   ],
   "source": [
    "set_1 = {'red', 'blue', 'pink', 'red'}  # Dikket ettiğimiz üzere aynı elemandan 2 adet var manuel olarak yazdığımızda. \n",
    "colors = 'red', 'blue', 'pink', 'red' # Dikkat, buradaki colors ifadesi aslında bir tuple'dır. Parantez koymasak bile tuple olarak algılar python. \n",
    "set_2 = set(colors)  # Bir fonksiyon içine eleman koymaya (Burada olduğu gibi) \"pass an argument\" denir. \n",
    "print(set_1)\n",
    "set(colors)  # Set komutu ile yazdırdığımızda rastgele sıra ile çıktı vermekte ve 2 adet olanları tek bir tane yazdırmakta. "
   ]
  },
  {
   "cell_type": "code",
   "execution_count": 9,
   "metadata": {},
   "outputs": [
    {
     "name": "stdout",
     "output_type": "stream",
     "text": [
      "set()\n",
      "<class 'set'>\n"
     ]
    },
    {
     "data": {
      "text/plain": [
       "set"
      ]
     },
     "execution_count": 9,
     "metadata": {},
     "output_type": "execute_result"
    }
   ],
   "source": [
    "empty_set = set()  # Boş küme \n",
    "\n",
    "print(empty_set)\n",
    "print(type(empty_set))\n",
    "type(empty_set)"
   ]
  },
  {
   "cell_type": "code",
   "execution_count": 10,
   "metadata": {},
   "outputs": [
    {
     "name": "stdout",
     "output_type": "stream",
     "text": [
      "{'orchid', 'carnation', 'violet', 'rose'}\n",
      "['orchid', 'carnation', 'violet', 'rose']\n"
     ]
    }
   ],
   "source": [
    "flower_list = [\"rose\", \"violet\", \"carnation\", \"rose\", \"orchid\", \"rose\", \"orchid\"]\n",
    "flowerset = set(flower_list)\n",
    "flowerlist = list(flowerset)\n",
    "\n",
    "print(flowerset)\n",
    "print(flowerlist)"
   ]
  },
  {
   "cell_type": "code",
   "execution_count": 4,
   "metadata": {},
   "outputs": [
    {
     "data": {
      "text/plain": [
       "{0, 1, 2}"
      ]
     },
     "execution_count": 4,
     "metadata": {},
     "output_type": "execute_result"
    }
   ],
   "source": [
    "ilk_kumem = {1, 1, 2, 0, 1}  # süslü parantez ile manuel bir küme oluşturduk.\n",
    "ilk_kumem"
   ]
  },
  {
   "cell_type": "code",
   "execution_count": 6,
   "metadata": {},
   "outputs": [
    {
     "data": {
      "text/plain": [
       "5"
      ]
     },
     "execution_count": 6,
     "metadata": {},
     "output_type": "execute_result"
    }
   ],
   "source": [
    "len([1, 1, 2, 0, 1])\n"
   ]
  },
  {
   "cell_type": "code",
   "execution_count": 7,
   "metadata": {},
   "outputs": [
    {
     "data": {
      "text/plain": [
       "3"
      ]
     },
     "execution_count": 7,
     "metadata": {},
     "output_type": "execute_result"
    }
   ],
   "source": [
    "len({1, 1, 2, 0, 1})  # len fonksiyonu iterable'lar ile kullanıldığı için içine küme attık ve sadece uniqe lerini aldı. "
   ]
  },
  {
   "cell_type": "code",
   "execution_count": 12,
   "metadata": {},
   "outputs": [
    {
     "name": "stdout",
     "output_type": "stream",
     "text": [
      "['a', 'b', 'c', 'd', 'e', 'f', 'g', 'h', 'i', 'j', 'k', 'l', 'm', 'n', 'o', 'p', 'r', 's', 't', 'u', 'w', 'v', 'y', 'z']\n"
     ]
    }
   ],
   "source": [
    "letter = \"a b c d e f g h i j k l m n o p r s t u w v y z\".split()  # Arada boşluk koyarak split fonsiyonunu kullanınca direk listeye çevirir. \n",
    "print(letter)"
   ]
  },
  {
   "cell_type": "code",
   "execution_count": 13,
   "metadata": {},
   "outputs": [
    {
     "name": "stdout",
     "output_type": "stream",
     "text": [
      "{'k', 't', 'd', 'p', 'i', 'y', 'o', 'n', 'm', 'f', 's', 'r', 'u', 'h', 'g', 'a', 'l', 'j', 'w', 'e', 'c', 'z', 'v', 'b'}\n"
     ]
    }
   ],
   "source": [
    "print(set(letter))  # Kümeye çevirdiğimizde karışık olarak verir. "
   ]
  },
  {
   "cell_type": "code",
   "execution_count": 14,
   "metadata": {},
   "outputs": [
    {
     "name": "stdout",
     "output_type": "stream",
     "text": [
      "{'k', 't', 'd', 'p', 'i', 'y', 'o', 'n', 'm', 'f', 's', 'r', 'u', 'h', 'g', 'a', 'l', 'j', 'w', 'e', 'c', 'z', 'v', 'b'}\n"
     ]
    }
   ],
   "source": [
    "print(set(letter))  # restart edilmiş hali ve sıra yine değişti sıralama "
   ]
  },
  {
   "cell_type": "code",
   "execution_count": 15,
   "metadata": {},
   "outputs": [
    {
     "data": {
      "text/plain": [
       "2"
      ]
     },
     "execution_count": 15,
     "metadata": {},
     "output_type": "execute_result"
    }
   ],
   "source": [
    "şöyle_birşey = {1, \"1\", 1.0}  # 1 = 1.0 dır set için. Görsel olarak farklı gibi olsada bu duruma dikkat. \n",
    "len(şöyle_birşey)"
   ]
  },
  {
   "cell_type": "code",
   "execution_count": 7,
   "metadata": {},
   "outputs": [
    {
     "data": {
      "text/plain": [
       "False"
      ]
     },
     "execution_count": 7,
     "metadata": {},
     "output_type": "execute_result"
    }
   ],
   "source": [
    "1 == \"1\""
   ]
  },
  {
   "cell_type": "code",
   "execution_count": 8,
   "metadata": {},
   "outputs": [
    {
     "data": {
      "text/plain": [
       "True"
      ]
     },
     "execution_count": 8,
     "metadata": {},
     "output_type": "execute_result"
    }
   ],
   "source": [
    "1 == 1.0 "
   ]
  },
  {
   "cell_type": "code",
   "execution_count": 9,
   "metadata": {},
   "outputs": [
    {
     "ename": "TypeError",
     "evalue": "unhashable type: 'list'",
     "output_type": "error",
     "traceback": [
      "\u001b[1;31m---------------------------------------------------------------------------\u001b[0m",
      "\u001b[1;31mTypeError\u001b[0m                                 Traceback (most recent call last)",
      "\u001b[1;32mg:\\Drive'ım\\Masaüstü\\Eğitimler\\Yazılım\\VS Code Genel\\Python In-class\\022122.ipynb Cell 12'\u001b[0m in \u001b[0;36m<module>\u001b[1;34m\u001b[0m\n\u001b[0;32m      <a href='vscode-notebook-cell:/g%3A/Drive%27%C4%B1m/Masa%C3%BCst%C3%BC/E%C4%9Fitimler/Yaz%C4%B1l%C4%B1m/VS%20Code%20Genel/Python%20In-class/022122.ipynb#ch0000012?line=0'>1</a>\u001b[0m given_list \u001b[39m=\u001b[39m [\u001b[39m1\u001b[39m, \u001b[39m2\u001b[39m, \u001b[39m3\u001b[39m, \u001b[39m4\u001b[39m, \u001b[39m5\u001b[39m]\n\u001b[1;32m----> <a href='vscode-notebook-cell:/g%3A/Drive%27%C4%B1m/Masa%C3%BCst%C3%BC/E%C4%9Fitimler/Yaz%C4%B1l%C4%B1m/VS%20Code%20Genel/Python%20In-class/022122.ipynb#ch0000012?line=1'>2</a>\u001b[0m kumemiz \u001b[39m=\u001b[39m {given_list}\n",
      "\u001b[1;31mTypeError\u001b[0m: unhashable type: 'list'"
     ]
    }
   ],
   "source": [
    "given_list = [1, 2, 3, 4, 5]  # Listeyi manuel olarak direk küme içine aldığımızda olmamakta.\n",
    "kumemiz = {given_list}"
   ]
  },
  {
   "cell_type": "code",
   "execution_count": 19,
   "metadata": {},
   "outputs": [
    {
     "name": "stdout",
     "output_type": "stream",
     "text": [
      "{(1, 2, 3, 4, 5)}\n"
     ]
    }
   ],
   "source": [
    "given_list = 1, 2, 3, 4, 5  # Küme içine tuple olmasına izin veriyor ama. \n",
    "kumemiz = {given_list}\n",
    "print(kumemiz)"
   ]
  },
  {
   "cell_type": "code",
   "execution_count": 20,
   "metadata": {},
   "outputs": [
    {
     "name": "stdout",
     "output_type": "stream",
     "text": [
      "{1, 2, 3, 4, 5}\n"
     ]
    }
   ],
   "source": [
    "given_list = [1, 2, 3, 4, 5]  \n",
    "kumemiz = set(given_list)  # Bir list'i kümeye çevirebiliriz bu şekilde ama direk süslü parantez içinde yazamayız yukarıdaki gibi. \n",
    "print(kumemiz)"
   ]
  },
  {
   "cell_type": "code",
   "execution_count": 21,
   "metadata": {},
   "outputs": [
    {
     "ename": "TypeError",
     "evalue": "unhashable type: 'list'",
     "output_type": "error",
     "traceback": [
      "\u001b[1;31m---------------------------------------------------------------------------\u001b[0m",
      "\u001b[1;31mTypeError\u001b[0m                                 Traceback (most recent call last)",
      "\u001b[1;32mg:\\Drive'ım\\Masaüstü\\Eğitimler\\Yazılım\\VS Code Genel\\Python In-class\\022122.ipynb Cell 17'\u001b[0m in \u001b[0;36m<module>\u001b[1;34m\u001b[0m\n\u001b[1;32m----> <a href='vscode-notebook-cell:/g%3A/Drive%27%C4%B1m/Masa%C3%BCst%C3%BC/E%C4%9Fitimler/Yaz%C4%B1l%C4%B1m/VS%20Code%20Genel/Python%20In-class/022122.ipynb#ch0000012?line=0'>1</a>\u001b[0m {[\u001b[39m1\u001b[39m, \u001b[39m\"\u001b[39m\u001b[39mbir\u001b[39m\u001b[39m\"\u001b[39m], \u001b[39m1\u001b[39m, \u001b[39m2\u001b[39m}\n",
      "\u001b[1;31mTypeError\u001b[0m: unhashable type: 'list'"
     ]
    }
   ],
   "source": [
    "{[1, \"bir\"], 1, 2} # İçinde liste olduğu için ve liste birden fazla değerden oluştuğu için, aynı zaman da mutable oluduğu için hata veriyor. "
   ]
  },
  {
   "cell_type": "code",
   "execution_count": 22,
   "metadata": {},
   "outputs": [
    {
     "ename": "TypeError",
     "evalue": "unhashable type: 'dict'",
     "output_type": "error",
     "traceback": [
      "\u001b[1;31m---------------------------------------------------------------------------\u001b[0m",
      "\u001b[1;31mTypeError\u001b[0m                                 Traceback (most recent call last)",
      "\u001b[1;32mg:\\Drive'ım\\Masaüstü\\Eğitimler\\Yazılım\\VS Code Genel\\Python In-class\\022122.ipynb Cell 18'\u001b[0m in \u001b[0;36m<module>\u001b[1;34m\u001b[0m\n\u001b[1;32m----> <a href='vscode-notebook-cell:/g%3A/Drive%27%C4%B1m/Masa%C3%BCst%C3%BC/E%C4%9Fitimler/Yaz%C4%B1l%C4%B1m/VS%20Code%20Genel/Python%20In-class/022122.ipynb#ch0000013?line=0'>1</a>\u001b[0m {{\u001b[39m1\u001b[39m: \u001b[39m\"\u001b[39m\u001b[39mbir\u001b[39m\u001b[39m\"\u001b[39m}, \u001b[39m1\u001b[39m, \u001b[39m2\u001b[39m}\n",
      "\u001b[1;31mTypeError\u001b[0m: unhashable type: 'dict'"
     ]
    }
   ],
   "source": [
    " {{1: \"bir\"}, 1, 2}  # Yine aynı şekilde manuel bir küme içinde dict'de olamıyor. "
   ]
  },
  {
   "cell_type": "code",
   "execution_count": 23,
   "metadata": {},
   "outputs": [
    {
     "ename": "TypeError",
     "evalue": "unhashable type: 'set'",
     "output_type": "error",
     "traceback": [
      "\u001b[1;31m---------------------------------------------------------------------------\u001b[0m",
      "\u001b[1;31mTypeError\u001b[0m                                 Traceback (most recent call last)",
      "\u001b[1;32mg:\\Drive'ım\\Masaüstü\\Eğitimler\\Yazılım\\VS Code Genel\\Python In-class\\022122.ipynb Cell 19'\u001b[0m in \u001b[0;36m<module>\u001b[1;34m\u001b[0m\n\u001b[1;32m----> <a href='vscode-notebook-cell:/g%3A/Drive%27%C4%B1m/Masa%C3%BCst%C3%BC/E%C4%9Fitimler/Yaz%C4%B1l%C4%B1m/VS%20Code%20Genel/Python%20In-class/022122.ipynb#ch0000014?line=0'>1</a>\u001b[0m {\u001b[39m1\u001b[39m, \u001b[39m2\u001b[39m, {\u001b[39m\"\u001b[39m\u001b[39mali\u001b[39m\u001b[39m\"\u001b[39m, \u001b[39m\"\u001b[39m\u001b[39mveli\u001b[39m\u001b[39m\"\u001b[39m}, \u001b[39m3\u001b[39m, \u001b[39m4\u001b[39m}\n",
      "\u001b[1;31mTypeError\u001b[0m: unhashable type: 'set'"
     ]
    }
   ],
   "source": [
    "{1, 2, {\"ali\", \"veli\"}, 3, 4}  # # Yine aynı şekilde manuel bir küme içinde dict'de olamıyor. "
   ]
  },
  {
   "cell_type": "code",
   "execution_count": 24,
   "metadata": {},
   "outputs": [
    {
     "data": {
      "text/plain": [
       "{(3, 4), 1, 2}"
      ]
     },
     "execution_count": 24,
     "metadata": {},
     "output_type": "execute_result"
    }
   ],
   "source": [
    "tuple_set = {1, 2, (3, 4)}  # Sırasını değiştirdi ama tuple yaptı. \n",
    "tuple_set"
   ]
  },
  {
   "cell_type": "markdown",
   "metadata": {},
   "source": [
    "Main Operations with sets (review)"
   ]
  },
  {
   "cell_type": "code",
   "execution_count": 30,
   "metadata": {},
   "outputs": [
    {
     "name": "stdout",
     "output_type": "stream",
     "text": [
      "{'carnation', 'archid', 'rose', 'viole'}\n",
      "{'carnation', 'archid', 'rose', 'viole'}\n"
     ]
    }
   ],
   "source": [
    "a = {'carnation', 'archid', 'rose', 'viole'}\n",
    "b = {'rose', 'carnation', 'archid', 'rose', 'viole'}\n",
    "print(a, b, sep=\"\\n\")"
   ]
  },
  {
   "cell_type": "code",
   "execution_count": 32,
   "metadata": {},
   "outputs": [
    {
     "data": {
      "text/plain": [
       "{'archid', 'carnation', 'lily', 'rose', 'viole'}"
      ]
     },
     "execution_count": 32,
     "metadata": {},
     "output_type": "execute_result"
    }
   ],
   "source": [
    "a.add(\"lily\") # İstediği herhangi bir yere \"lily\" eklendi. \n",
    "a"
   ]
  },
  {
   "cell_type": "code",
   "execution_count": 35,
   "metadata": {},
   "outputs": [
    {
     "name": "stdout",
     "output_type": "stream",
     "text": [
      "{'e', 'l', 'a', 'd', 'i', 'p', 'h'}\n",
      "{'o', 'n', 'l', 'd', 'i', 'p', 'h'}\n"
     ]
    }
   ],
   "source": [
    "a = set(\"philadelphia\")\n",
    "b = set(\"dolphin\")\n",
    "print(a, b, sep=\"\\n\")"
   ]
  },
  {
   "cell_type": "code",
   "execution_count": 36,
   "metadata": {},
   "outputs": [
    {
     "name": "stdout",
     "output_type": "stream",
     "text": [
      "{'a', 'e'}\n",
      "{'a', 'e'}\n"
     ]
    }
   ],
   "source": [
    "print(a-b)\n",
    "print(a.difference(b))  # Bunların her ikisi de a'nın b'den farkı demektir. (a fark b)"
   ]
  },
  {
   "cell_type": "code",
   "execution_count": 37,
   "metadata": {},
   "outputs": [
    {
     "name": "stdout",
     "output_type": "stream",
     "text": [
      "{'n', 'o'}\n",
      "{'n', 'o'}\n"
     ]
    }
   ],
   "source": [
    "print(b-a)  # Bunların her ikisi de b'nın a'den farkı demektir. (b fark a)\n",
    "print(b.difference(a))"
   ]
  },
  {
   "cell_type": "code",
   "execution_count": 43,
   "metadata": {},
   "outputs": [
    {
     "name": "stdout",
     "output_type": "stream",
     "text": [
      "{'e', 'o', 'n', 'l', 'a', 'd', 'p', 'i', 'h'}\n",
      "{'e', 'o', 'n', 'l', 'a', 'd', 'p', 'i', 'h'}\n",
      "{'e', 'o', 'n', 'l', 'a', 'd', 'p', 'i', 'h'}\n",
      "{'e', 'o', 'n', 'l', 'a', 'd', 'p', 'i', 'h'}\n"
     ]
    }
   ],
   "source": [
    "print(a | b)  # Birleşim olduğunda ise | (vertical bar) kullanıyoruz. \n",
    "print(b | a)  # Her üçü de birbirine eşittir.\n",
    "print(a.union(b))\n",
    "print(b.union(a))"
   ]
  },
  {
   "cell_type": "code",
   "execution_count": 42,
   "metadata": {},
   "outputs": [
    {
     "name": "stdout",
     "output_type": "stream",
     "text": [
      "{'l', 'd', 'p', 'i', 'h'}\n",
      "{'l', 'd', 'p', 'i', 'h'}\n",
      "{'l', 'd', 'p', 'i', 'h'}\n",
      "{'l', 'd', 'p', 'i', 'h'}\n"
     ]
    }
   ],
   "source": [
    "print(a & b)  # Kesişim olduğunda ise & ile ifade edilir. \n",
    "print(b & a)  # Herbiri birbirine eşittir.\n",
    "print(a.intersection(b))\n",
    "print(b.intersection(a))"
   ]
  },
  {
   "cell_type": "code",
   "execution_count": 44,
   "metadata": {},
   "outputs": [
    {
     "name": "stdout",
     "output_type": "stream",
     "text": [
      "{'/', '2', '1', '0'}\n"
     ]
    },
    {
     "data": {
      "text/plain": [
       "{'02/21/2022'}"
      ]
     },
     "execution_count": 44,
     "metadata": {},
     "output_type": "execute_result"
    }
   ],
   "source": [
    "date1 = set(\"02/21/2022\")  # Burada set foksiyonu sayesinde iterable'ı elemanlarına ayırıyoruz ve kümeye dönüştürüyoruz ama aşağıda; \n",
    "date2 = {\"02/21/2022\"}  # Direk süslü parantez içinde tek bir string eleman yer almaktadır. \n",
    "\n",
    "print(date1)\n",
    "date2"
   ]
  },
  {
   "cell_type": "code",
   "execution_count": 17,
   "metadata": {},
   "outputs": [
    {
     "data": {
      "text/plain": [
       "{'02/21/2022'}"
      ]
     },
     "execution_count": 17,
     "metadata": {},
     "output_type": "execute_result"
    }
   ],
   "source": [
    "date2"
   ]
  },
  {
   "cell_type": "code",
   "execution_count": 20,
   "metadata": {},
   "outputs": [
    {
     "name": "stdout",
     "output_type": "stream",
     "text": [
      "{1, 2, 3, 4, 5}\n"
     ]
    }
   ],
   "source": [
    "given_list = [1, 2, 3, 3, 3, 3, 4, 4, 5, 5]  # Herhangi bir collection'nın sadece uniqe elamanlarını görmek istiyorum dediğiniz de direk set fonksiyonunu kullanmalıyız. \n",
    "unique = set(given_list)  # Burada direk {given_list} yapmak istediğimizde hata veriyordu, UNUTMA. \n",
    "print(unique)\n"
   ]
  },
  {
   "cell_type": "code",
   "execution_count": 51,
   "metadata": {},
   "outputs": [
    {
     "name": "stdout",
     "output_type": "stream",
     "text": [
      "{'e', 'g', 'o', 'n', 't', 'l', 'W', 'i'}\n",
      "{'w', 'g', 'o', 'n', 't', 'a', 'i', 's', 'h'} \n",
      "\n",
      "{'l', 'e', 'W'}\n",
      "{'l', 'e', 'W'} \n",
      "\n",
      "{'w', 'a', 'h', 's'}\n",
      "{'w', 'a', 'h', 's'} \n",
      "\n",
      "{'g', 'o', 'n', 't', 'i'}\n",
      "{'g', 'o', 'n', 't', 'i'} \n",
      "\n",
      "{'w', 'e', 'g', 'o', 'n', 't', 'l', 'W', 'a', 's', 'i', 'h'}\n",
      "{'w', 'e', 'g', 'o', 'n', 't', 'l', 'W', 'a', 's', 'i', 'h'}\n"
     ]
    }
   ],
   "source": [
    "new_zeland = set(\"Wellington\")\n",
    "us = set(\"washington\")\n",
    "\n",
    "print(new_zeland)\n",
    "print(us, \"\\n\")\n",
    "\n",
    "print(new_zeland - us) # new_zeland fark us\n",
    "print(new_zeland.difference(us), \"\\n\")\n",
    "\n",
    "print(us - new_zeland)  # Us fark new_zeland\n",
    "print(us.difference(new_zeland), \"\\n\")\n",
    "\n",
    "print(new_zeland & us)  # new_zeland kesişim us\n",
    "print(new_zeland.intersection(us), \"\\n\")\n",
    "\n",
    "print(new_zeland | us)  # new_zeland birleşim us\n",
    "print(new_zeland.union(us))\n",
    "\n"
   ]
  },
  {
   "cell_type": "markdown",
   "metadata": {},
   "source": [
    "## CONTROL FLOW STATEMENTS"
   ]
  },
  {
   "cell_type": "markdown",
   "metadata": {},
   "source": [
    "Python kodlarımızı kontrol etmemize yarayan, istediğimiz doğrultuda yönlendirmemizi sağlayan, istediğimiz şartlarda çalışmasını, istemediğimiz şartlarda çalışmamasını sağlayan, istediğimiz kadar tekrar etmesini sağlamamıza imkan veren kodlar bütünüdür. "
   ]
  },
  {
   "cell_type": "markdown",
   "metadata": {},
   "source": [
    "IF : Koşullu yapılardır, belirli koşullar sağlanınca çalışır, sağlanmayınca çalışmaz. Aşağıdaki formül yapısında kullanılır. \n",
    "\n",
    "if condition : \n",
    "    body  \n",
    "    \n",
    "if satırından sonra mutlaka 4 adet boşluk bıraktığımız girinti yer almalıdır. \n",
    "condition kısmında mutlaka boolean gibi bir iafe yer almalıdır. (True, False, Turty, Falsy) İlla blooean tipinde olmak zorunda değildir. \n",
    "\n"
   ]
  },
  {
   "cell_type": "code",
   "execution_count": 52,
   "metadata": {},
   "outputs": [
    {
     "name": "stdout",
     "output_type": "stream",
     "text": [
      "1\n",
      "2\n",
      "3\n",
      "4\n",
      "5\n"
     ]
    }
   ],
   "source": [
    "sayılar = [1, 2, 3, 4, 5]\n",
    "print(sayılar[0])\n",
    "print(sayılar[1])\n",
    "print(sayılar[2])  # Normalde tek tek bu şekilde yazmamız gerekir. \n",
    "print(sayılar[3])\n",
    "print(sayılar[4])"
   ]
  },
  {
   "cell_type": "markdown",
   "metadata": {},
   "source": [
    ">, <, >=, <=, == bunlar her zaman boolean sonuç verirler. "
   ]
  },
  {
   "cell_type": "code",
   "execution_count": 53,
   "metadata": {},
   "outputs": [],
   "source": [
    "a = 3\n",
    "b = 0"
   ]
  },
  {
   "cell_type": "code",
   "execution_count": 54,
   "metadata": {},
   "outputs": [
    {
     "data": {
      "text/plain": [
       "False"
      ]
     },
     "execution_count": 54,
     "metadata": {},
     "output_type": "execute_result"
    }
   ],
   "source": [
    "b > a  # b büyük müdür a'dan diye soru soruyoruz (Büyük olmadığı için de False veriyor cevap)"
   ]
  },
  {
   "cell_type": "code",
   "execution_count": 55,
   "metadata": {},
   "outputs": [
    {
     "name": "stdout",
     "output_type": "stream",
     "text": [
      "ali\n"
     ]
    }
   ],
   "source": [
    "if b > a :  # Burada eğer bu koşulumuz True döndürüyorsa bir alt satırdaki ifadeyi yazdır diyoruz, ama eğer False döndürüyor ise en alttaki satırı. \n",
    "    print(\"hello\")  # Yani True verdiğinde bu body kımsını çalıştırır, aksi halde body'den çıkar. \n",
    "print(\"ali\") "
   ]
  },
  {
   "cell_type": "code",
   "execution_count": null,
   "metadata": {},
   "outputs": [],
   "source": [
    "if condition : \n",
    "    body1\n",
    "    body2\n",
    "outbody "
   ]
  },
  {
   "cell_type": "code",
   "execution_count": 57,
   "metadata": {},
   "outputs": [
    {
     "name": "stdout",
     "output_type": "stream",
     "text": [
      "hello world\n",
      "print me in all cases\n"
     ]
    }
   ],
   "source": [
    "if \"0\" : \n",
    "    print(\"hello world\")\n",
    "print(\"print me in all cases\")"
   ]
  },
  {
   "cell_type": "code",
   "execution_count": 58,
   "metadata": {},
   "outputs": [],
   "source": [
    "if \"0\" and \"\" :\n",
    "    print(\"hello world\")"
   ]
  },
  {
   "cell_type": "code",
   "execution_count": 59,
   "metadata": {},
   "outputs": [],
   "source": [
    "if 0 or \"False\" and None : \n",
    "    print(\"hello universe\")"
   ]
  },
  {
   "cell_type": "code",
   "execution_count": 60,
   "metadata": {},
   "outputs": [
    {
     "name": "stdout",
     "output_type": "stream",
     "text": [
      "clarusway\n"
     ]
    }
   ],
   "source": [
    "if 1 :  # Truty olduğu için altındaki print'i çalıştırır. \n",
    "    print(\"clarusway\")"
   ]
  },
  {
   "cell_type": "code",
   "execution_count": 63,
   "metadata": {},
   "outputs": [
    {
     "name": "stdout",
     "output_type": "stream",
     "text": [
      "hello\n"
     ]
    }
   ],
   "source": [
    "if -1 :  # Truty olduğu için altındaki print'i çalıştırır. \n",
    "    print(\"hello\")"
   ]
  },
  {
   "cell_type": "code",
   "execution_count": 64,
   "metadata": {},
   "outputs": [
    {
     "name": "stdout",
     "output_type": "stream",
     "text": [
      "hello\n"
     ]
    }
   ],
   "source": [
    "if [\"\"] :  # Burada boş bir liste yok, her ne kadar boş bir string de olsa içinde, sonuçta dolu bir liste, o yüzden truty. \n",
    "    print(\"hello\")"
   ]
  },
  {
   "cell_type": "code",
   "execution_count": 67,
   "metadata": {},
   "outputs": [
    {
     "name": "stdout",
     "output_type": "stream",
     "text": [
      "it is true\n"
     ]
    }
   ],
   "source": [
    "if True : \n",
    "    print(\"it is true\")"
   ]
  },
  {
   "cell_type": "code",
   "execution_count": 69,
   "metadata": {},
   "outputs": [
    {
     "name": "stdout",
     "output_type": "stream",
     "text": [
      "Bon Appetit\n"
     ]
    }
   ],
   "source": [
    "minced_meat = True\n",
    "hamburger_bread = True\n",
    "lettuce = False\n",
    "pepper = True\n",
    "grocery_store = True\n",
    "\n",
    "hamburger = minced_meat and hamburger_bread and (lettuce or pepper) and grocery_store\n",
    "\n",
    "if hamburger : \n",
    "    print(\"Bon Appetit\")"
   ]
  },
  {
   "cell_type": "code",
   "execution_count": 70,
   "metadata": {},
   "outputs": [
    {
     "data": {
      "text/plain": [
       "True"
      ]
     },
     "execution_count": 70,
     "metadata": {},
     "output_type": "execute_result"
    }
   ],
   "source": [
    "1 == 1.0"
   ]
  },
  {
   "cell_type": "code",
   "execution_count": 71,
   "metadata": {},
   "outputs": [
    {
     "data": {
      "text/plain": [
       "False"
      ]
     },
     "execution_count": 71,
     "metadata": {},
     "output_type": "execute_result"
    }
   ],
   "source": [
    "3 > 3 "
   ]
  },
  {
   "cell_type": "code",
   "execution_count": 72,
   "metadata": {},
   "outputs": [
    {
     "data": {
      "text/plain": [
       "True"
      ]
     },
     "execution_count": 72,
     "metadata": {},
     "output_type": "execute_result"
    }
   ],
   "source": [
    "3 >= 3"
   ]
  },
  {
   "cell_type": "code",
   "execution_count": 73,
   "metadata": {},
   "outputs": [
    {
     "name": "stdout",
     "output_type": "stream",
     "text": [
      "veli\n"
     ]
    }
   ],
   "source": [
    "if \"ali\" != \"deli\" :  # Sonuç true olduğu için veli'yi yazdırır. \n",
    "    print(\"veli\")"
   ]
  },
  {
   "cell_type": "code",
   "execution_count": 74,
   "metadata": {},
   "outputs": [],
   "source": [
    "if \"ali\" == \"Ali\" :  # Sonuç false olduğu için çıktı vermez. \n",
    "    print(\"deli\")"
   ]
  },
  {
   "cell_type": "code",
   "execution_count": 76,
   "metadata": {},
   "outputs": [
    {
     "data": {
      "text/plain": [
       "str"
      ]
     },
     "execution_count": 76,
     "metadata": {},
     "output_type": "execute_result"
    }
   ],
   "source": [
    "# input fonksiyonunda kullanıcıdan ne tip bir veri alırsak alalım tipi string'dir. String'de olsa, integer'da olsa alınan veri hep stringdir. \n",
    "type(input(\"bir şey yaz :\"))  # Klavyeden ne girersek girelim sonuç string'dir. "
   ]
  },
  {
   "cell_type": "markdown",
   "metadata": {},
   "source": [
    "Comparison Operators"
   ]
  },
  {
   "cell_type": "code",
   "execution_count": 33,
   "metadata": {},
   "outputs": [
    {
     "name": "stdout",
     "output_type": "stream",
     "text": [
      "True\n"
     ]
    }
   ],
   "source": [
    "a = set(\"TWELVE PLUS ONE\")\n",
    "b = set(\"ELEVEN PLUS TWO\")\n",
    "\n",
    "print(a == b)\n"
   ]
  },
  {
   "cell_type": "code",
   "execution_count": 19,
   "metadata": {},
   "outputs": [
    {
     "name": "stdout",
     "output_type": "stream",
     "text": [
      "You entered True\n",
      "You entered True\n"
     ]
    }
   ],
   "source": [
    "word = input(\"Please enter Yes or No?\").title().strip() == \"Yes\"\n",
    "\n",
    "if word :\n",
    "    print(\"You entered\", word)\n",
    "print(\"You entered\", word)"
   ]
  },
  {
   "cell_type": "code",
   "execution_count": 82,
   "metadata": {},
   "outputs": [
    {
     "name": "stdout",
     "output_type": "stream",
     "text": [
      "You entered True\n"
     ]
    }
   ],
   "source": [
    "# Kullanıcı hepsi küçük ya da hepsi büyük yes yazar ise onu istediğimiz formata çevirmek için title kullandık (baş harf büyük)\n",
    "# Kullanıcı ekstradan boşluk vb girdise onları kırpsın diye strip kullandık.  \n",
    "\n",
    "word = input(\"Please enter Yes or No?\").title().strip() == \"Yes\" # input içerisinden bize gelecek olan veri string olduğu için string metodlarını uyguladık.\n",
    "print(\"You entered\", word) "
   ]
  },
  {
   "cell_type": "code",
   "execution_count": 94,
   "metadata": {},
   "outputs": [
    {
     "name": "stdout",
     "output_type": "stream",
     "text": [
      "You entered False\n"
     ]
    }
   ],
   "source": [
    "print(f\"You entered {input('Please enter Yes or No?').title().strip() == 'Yes'}\")"
   ]
  }
 ],
 "metadata": {
  "interpreter": {
   "hash": "1119d47f94ad9ac75885573077f663dd4dae1d75e807f23fe53292849f40bbc4"
  },
  "kernelspec": {
   "display_name": "Python 3.10.2 64-bit",
   "language": "python",
   "name": "python3"
  },
  "language_info": {
   "codemirror_mode": {
    "name": "ipython",
    "version": 3
   },
   "file_extension": ".py",
   "mimetype": "text/x-python",
   "name": "python",
   "nbconvert_exporter": "python",
   "pygments_lexer": "ipython3",
   "version": "3.10.2"
  },
  "orig_nbformat": 4
 },
 "nbformat": 4,
 "nbformat_minor": 2
}
