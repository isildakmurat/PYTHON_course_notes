{
 "cells": [
  {
   "cell_type": "code",
   "execution_count": 21,
   "metadata": {},
   "outputs": [
    {
     "name": "stdout",
     "output_type": "stream",
     "text": [
      "the most frequent number is 3 and it was 4 times repeated\n"
     ]
    }
   ],
   "source": [
    "# İlgili soru cevabı. Başka çözüm var mı araştır. \n",
    "\n",
    "numbers = [1, 3, 7, 4, 3, 0, 3, 6, 3]\n",
    "dict = {}\n",
    "\n",
    "for i in numbers : \n",
    "    if i in dict :\n",
    "        dict[i] += 1\n",
    "    else :\n",
    "        dict[i] = 1\n",
    "\n",
    "a = dict.items()\n",
    "b = list(a)\n",
    "number = b[1][0]\n",
    "# frequency = b[1][1]\n",
    "frequency_num = numbers.count(number)\n",
    "print(f\"the most frequent number is {number} and it was {frequency_num} times repeated\")\n",
    "\n",
    "        "
   ]
  },
  {
   "cell_type": "code",
   "execution_count": 3,
   "metadata": {},
   "outputs": [
    {
     "name": "stdout",
     "output_type": "stream",
     "text": [
      "1: 3\n",
      "2: 4\n",
      "3: 5\n"
     ]
    }
   ],
   "source": [
    "arr = [1, 1, 1, 2, 2, 2, 2, 3, 3, 3, 3, 3]\n",
    "elements_count = {}\n",
    "for element in arr:\n",
    "   if element in elements_count:  # İlk baktığında False çıkar ve else e geçer. \n",
    "      elements_count[element] += 1\n",
    "   else:\n",
    "      elements_count[element] = 1\n",
    "for key, value in elements_count.items():\n",
    "   print(f\"{key}: {value}\")"
   ]
  },
  {
   "cell_type": "code",
   "execution_count": 10,
   "metadata": {},
   "outputs": [
    {
     "name": "stdout",
     "output_type": "stream",
     "text": [
      "{'a': 3, 'b': 2, 'c': 1}\n"
     ]
    }
   ],
   "source": [
    "a_list = [\"a\", \"b\", \"a\", \"c\", \"a\", \"b\"]\n",
    "\n",
    "frequencies = {}\n",
    "for item in a_list:\n",
    "    if item in frequencies:\n",
    "        frequencies[item] += 1\n",
    "    else:\n",
    "        frequencies[item] = 1\n",
    "\n",
    "print(frequencies)"
   ]
  },
  {
   "cell_type": "code",
   "execution_count": null,
   "metadata": {},
   "outputs": [],
   "source": []
  }
 ],
 "metadata": {
  "interpreter": {
   "hash": "1119d47f94ad9ac75885573077f663dd4dae1d75e807f23fe53292849f40bbc4"
  },
  "kernelspec": {
   "display_name": "Python 3.10.2 64-bit",
   "language": "python",
   "name": "python3"
  },
  "language_info": {
   "codemirror_mode": {
    "name": "ipython",
    "version": 3
   },
   "file_extension": ".py",
   "mimetype": "text/x-python",
   "name": "python",
   "nbconvert_exporter": "python",
   "pygments_lexer": "ipython3",
   "version": "3.10.2"
  },
  "orig_nbformat": 4
 },
 "nbformat": 4,
 "nbformat_minor": 2
}
