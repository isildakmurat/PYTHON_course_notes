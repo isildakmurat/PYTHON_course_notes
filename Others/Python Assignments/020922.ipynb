{
 "cells": [
  {
   "cell_type": "markdown",
   "metadata": {},
   "source": [
    "## Soru\n",
    "Find out if the given word is \"comfortable words\" in relation to the ten-finger keyboard use.\n",
    "\n",
    "A comfortable word is a word which you can type always alternating the hand you type with (assuming you type using a Q-keyboard and use of the ten-fingers standard).\n",
    "The word will always be a string consisting of only letters from a to z.\n",
    "Write a program which returns True if it's a comfortable word or False otherwise.\n",
    "Examples\n",
    "Given  word\tDesired Output (explanation)\n",
    "tester\tFalse (uses only left-hand fingers)*\n",
    "polly\tFalse (uses only right-hand fingers)*\n",
    "clarusway\tTrue (uses both hand fingers)*Note : Do a quick research on ten-fingers keyboard usage. (*) the explanation doesn't need to be in the output."
   ]
  },
  {
   "cell_type": "code",
   "execution_count": 19,
   "metadata": {},
   "outputs": [
    {
     "data": {
      "text/plain": [
       "False"
      ]
     },
     "execution_count": 19,
     "metadata": {},
     "output_type": "execute_result"
    }
   ],
   "source": [
    "## Joseph hocanın çözümü \n",
    "\n",
    "left_hand = set(\"qwertasdfgzxcvb\")\n",
    "right_hand = set(\"yuiophjklmn\")\n",
    "word = set(input(\"Please write a word\").lower())\n",
    "leftcheck = bool(word.intersection(left_hand))\n",
    "rightcheck = bool(word.intersection(right_hand))\n",
    "sonuc = leftcheck and rightcheck\n",
    "sonuc"
   ]
  },
  {
   "cell_type": "code",
   "execution_count": 8,
   "metadata": {},
   "outputs": [
    {
     "data": {
      "text/plain": [
       "False"
      ]
     },
     "execution_count": 8,
     "metadata": {},
     "output_type": "execute_result"
    }
   ],
   "source": [
    "bool(set())  # boş bir küme False verir. "
   ]
  },
  {
   "cell_type": "code",
   "execution_count": 9,
   "metadata": {},
   "outputs": [
    {
     "data": {
      "text/plain": [
       "True"
      ]
     },
     "execution_count": 9,
     "metadata": {},
     "output_type": "execute_result"
    }
   ],
   "source": [
    "bool(set(\"bir\"))  # Dolu bir küme ise True verir. "
   ]
  },
  {
   "cell_type": "code",
   "execution_count": 8,
   "metadata": {},
   "outputs": [
    {
     "name": "stdout",
     "output_type": "stream",
     "text": [
      "False\n"
     ]
    }
   ],
   "source": [
    "# Bu soru başka nasıl çözülür ? Kendi çözümüm. \n",
    "\n",
    "left_hand = list(\"qwertasdfgzxcvb\")\n",
    "right_hand = list(\"yuiophjklmn\")\n",
    "left_empty = []\n",
    "right_empty = []\n",
    "word = list(input(\"Please write a word\").lower())\n",
    "for i in word : \n",
    "    if i in left_hand :\n",
    "        left_empty.append(i)\n",
    "    elif i in right_hand : \n",
    "        right_empty.append(i)\n",
    "if len(left_empty) != 0  and len(right_empty) != 0 : \n",
    "    print(True)\n",
    "else : \n",
    "    print(False)"
   ]
  },
  {
   "cell_type": "code",
   "execution_count": null,
   "metadata": {},
   "outputs": [],
   "source": []
  }
 ],
 "metadata": {
  "interpreter": {
   "hash": "1119d47f94ad9ac75885573077f663dd4dae1d75e807f23fe53292849f40bbc4"
  },
  "kernelspec": {
   "display_name": "Python 3.10.2 64-bit",
   "language": "python",
   "name": "python3"
  },
  "language_info": {
   "codemirror_mode": {
    "name": "ipython",
    "version": 3
   },
   "file_extension": ".py",
   "mimetype": "text/x-python",
   "name": "python",
   "nbconvert_exporter": "python",
   "pygments_lexer": "ipython3",
   "version": "3.10.2"
  },
  "orig_nbformat": 4
 },
 "nbformat": 4,
 "nbformat_minor": 2
}
