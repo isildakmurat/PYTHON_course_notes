{
 "cells": [
  {
   "cell_type": "code",
   "execution_count": 6,
   "metadata": {},
   "outputs": [
    {
     "name": "stdout",
     "output_type": "stream",
     "text": [
      "1605.78147647843\n"
     ]
    }
   ],
   "source": [
    "para = 1000\n",
    "para = para + (para * 0.07)  # 1. gün\n",
    "para = para + (para * 0.07)  # 2. gün\n",
    "para = para + (para * 0.07)  # 3. gün\n",
    "para = para + (para * 0.07)  # 4. gün\n",
    "para = para + (para * 0.07)  # 5. gün\n",
    "para = para + (para * 0.07)  # 6. gün\n",
    "para = para + (para * 0.07)  # 7. gün\n",
    "print(para)"
   ]
  },
  {
   "cell_type": "code",
   "execution_count": 7,
   "metadata": {},
   "outputs": [
    {
     "name": "stdout",
     "output_type": "stream",
     "text": [
      "1605.7814764784307\n"
     ]
    }
   ],
   "source": [
    "para = 1000\n",
    "para = para * (1.07)**7\n",
    "print(para)"
   ]
  }
 ],
 "metadata": {
  "interpreter": {
   "hash": "1119d47f94ad9ac75885573077f663dd4dae1d75e807f23fe53292849f40bbc4"
  },
  "kernelspec": {
   "display_name": "Python 3.10.2 64-bit",
   "language": "python",
   "name": "python3"
  },
  "language_info": {
   "codemirror_mode": {
    "name": "ipython",
    "version": 3
   },
   "file_extension": ".py",
   "mimetype": "text/x-python",
   "name": "python",
   "nbconvert_exporter": "python",
   "pygments_lexer": "ipython3",
   "version": "3.10.2"
  },
  "orig_nbformat": 4
 },
 "nbformat": 4,
 "nbformat_minor": 2
}
