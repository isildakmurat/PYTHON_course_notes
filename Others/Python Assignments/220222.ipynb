{
 "cells": [
  {
   "cell_type": "markdown",
   "metadata": {},
   "source": [
    "## Soru-1 \n",
    "Armstrong number"
   ]
  },
  {
   "cell_type": "code",
   "execution_count": 19,
   "metadata": {},
   "outputs": [
    {
     "name": "stdout",
     "output_type": "stream",
     "text": [
      "123 is not an Armstront Number.\n"
     ]
    }
   ],
   "source": [
    "# Joseph hocanın çözümü \n",
    "\n",
    "while True :\n",
    "\n",
    "    number = input(\"Enter a positive integer number:\")\n",
    "    digits = len(number)\n",
    "    summ = 0\n",
    "\n",
    "    if not number.isdigit() : \n",
    "        print(number, \"is invalid entery. Please enter valid input.\")\n",
    "    elif int(number) >= 0 : \n",
    "        for i in range(digits) : \n",
    "            summ = summ + int(number[i]) ** digits\n",
    "        if summ == int(number) :\n",
    "            print(number, \"is a Armstront Number.\")\n",
    "            break\n",
    "        else : \n",
    "            print(number, \"is not an Armstront Number.\")\n",
    "            break"
   ]
  },
  {
   "cell_type": "code",
   "execution_count": null,
   "metadata": {},
   "outputs": [],
   "source": []
  }
 ],
 "metadata": {
  "interpreter": {
   "hash": "1119d47f94ad9ac75885573077f663dd4dae1d75e807f23fe53292849f40bbc4"
  },
  "kernelspec": {
   "display_name": "Python 3.10.2 64-bit",
   "language": "python",
   "name": "python3"
  },
  "language_info": {
   "codemirror_mode": {
    "name": "ipython",
    "version": 3
   },
   "file_extension": ".py",
   "mimetype": "text/x-python",
   "name": "python",
   "nbconvert_exporter": "python",
   "pygments_lexer": "ipython3",
   "version": "3.10.2"
  },
  "orig_nbformat": 4
 },
 "nbformat": 4,
 "nbformat_minor": 2
}
