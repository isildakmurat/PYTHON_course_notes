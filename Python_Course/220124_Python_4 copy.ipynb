{
 "cells": [
  {
   "cell_type": "markdown",
   "metadata": {},
   "source": [
    "<h1><p style=\"text-align: center; color:darkblue\">PYTHON DERS NOTLARI </p><h1>\n",
    "<h1><p style=\"text-align: center; color:darkblue\">4. DERS (24.01.2022) </p><h1>\n",
    "\n",
    "<h1><p style=\"text-align: center; color:blue\">STRINGS </p><h1>"
   ]
  },
  {
   "cell_type": "markdown",
   "metadata": {},
   "source": [
    "KONULAR\n",
    "* [start : stop : step] Indexing & Slicing Strings (Dizin oluşturma ve dilimleme)\n",
    "* len() fonksiyonu\n",
    "* String Verilerde Arithmetic syntax (+, =, *) Kullanımı\n",
    "* string.format() Metodu\n",
    "* f\"string\" ile format Metodu"
   ]
  },
  {
   "cell_type": "markdown",
   "metadata": {},
   "source": [
    "___"
   ]
  },
  {
   "cell_type": "markdown",
   "metadata": {},
   "source": [
    "### **[start : stop : step]** \n",
    ">[ ] Indexing & Slicing Strings \n",
    "_____"
   ]
  },
  {
   "cell_type": "markdown",
   "metadata": {},
   "source": [
    "> **ÖZET**"
   ]
  },
  {
   "cell_type": "code",
   "execution_count": null,
   "metadata": {},
   "outputs": [],
   "source": [
    "'''\n",
    "string[start:stop:step]___________________________________________________________________________\n",
    "\n",
    "string[:]          dizinin tam kopyasını döndürür\n",
    "string[start:]     diziyi baştan sona döndürür\n",
    "string[:stop]      diziyin 0'dan stopa döndürür\n",
    "string[::step]     diziyi 0'dan sona step atlayarak döndüdür\n",
    "'''"
   ]
  },
  {
   "cell_type": "code",
   "execution_count": 2,
   "metadata": {},
   "outputs": [
    {
     "name": "stdout",
     "output_type": "stream",
     "text": [
      "Python\n",
      "ython\n",
      "Pytho\n",
      "Pto\n",
      "yhn\n",
      "hon\n",
      "nohtyP\n",
      "yt\n"
     ]
    }
   ],
   "source": [
    "var = 'Python'  # Toplam 9 harfli (0'dan başlayarak 9 dizi elemanından oluşan değişken)\n",
    "\n",
    "\n",
    "print(var[:])      # Dizinin tam kopyasını döndür\n",
    "print(var[1:])     # 1.dizi elemanından başlayıp sona kadar git (!0.yı atlar!)\n",
    "print(var[:5])     # 0.dizi elemanından başlayıp 8.dizi elemanına kadar git (!8 hariç! = 7.de durur)\n",
    "print(var[::2])    # 0.dizi elemanından başla sona kadar 2'şer adımla git\n",
    "print(var[1::2])   # 1.dizi elemanından başla sona kadar 2'şer adımla git\n",
    "print(var[-3:])    # -3.dizi elemanından başla sona kadar git (!Soldan sağa doğru ilerler!)\n",
    "print(var[::-1])   # 0.dizi elemanından başla sona doğru -1 adımla git (!Sağdan sola doğru ilerler!)\n",
    "print(var[1:-3])   # 1.dizi elemanından başlayıp -3.dizi elemanına kadar git (!-3 hariç! = -4.de durur)"
   ]
  },
  {
   "cell_type": "markdown",
   "metadata": {},
   "source": [
    ">**[:]** - # Dizinin tam kopyasını döndür!"
   ]
  },
  {
   "cell_type": "code",
   "execution_count": 60,
   "metadata": {},
   "outputs": [
    {
     "name": "stdout",
     "output_type": "stream",
     "text": [
      "Clarusway\n",
      "Clarusway\n"
     ]
    }
   ],
   "source": [
    "var = 'Clarusway'  # Toplam 9 harfli (0'dan başlayarak 9 dizi elemanından oluşan değişken)\n",
    "\n",
    "print(var[:])\n",
    "\n",
    "#veya\n",
    "\n",
    "var = var[:]\n",
    "print(var)"
   ]
  },
  {
   "cell_type": "markdown",
   "metadata": {},
   "source": [
    ">**[1]** - # Dizinin belirtilen karakterini yazar!"
   ]
  },
  {
   "cell_type": "code",
   "execution_count": 3,
   "metadata": {},
   "outputs": [
    {
     "name": "stdout",
     "output_type": "stream",
     "text": [
      "r\n",
      "a\n"
     ]
    }
   ],
   "source": [
    "var = 'Clarusway' \n",
    "\n",
    "print(var[3])\n",
    "\n",
    "#veya\n",
    "\n",
    "var = var[-2]\n",
    "print(var)"
   ]
  },
  {
   "cell_type": "markdown",
   "metadata": {},
   "source": [
    ">**[1:]** - # 1.dizi elemanından başlayıp sona kadar gider (!0.yı atlar!)"
   ]
  },
  {
   "cell_type": "code",
   "execution_count": 63,
   "metadata": {},
   "outputs": [
    {
     "name": "stdout",
     "output_type": "stream",
     "text": [
      "larusway\n",
      "larusway\n"
     ]
    }
   ],
   "source": [
    "var = 'Clarusway'\n",
    "\n",
    "print(var[1:])\n",
    "\n",
    "#veya\n",
    "\n",
    "var = var[1:]\n",
    "print(var)"
   ]
  },
  {
   "cell_type": "markdown",
   "metadata": {},
   "source": [
    ">**[:8]** - 0.dizi elemanından başlayıp 8.dizi elemanına kadar git (!8.hariç! = 7.de durur)"
   ]
  },
  {
   "cell_type": "code",
   "execution_count": 65,
   "metadata": {},
   "outputs": [
    {
     "name": "stdout",
     "output_type": "stream",
     "text": [
      "Claruswa\n",
      "Claruswa\n"
     ]
    }
   ],
   "source": [
    "var = 'Clarusway'\n",
    "\n",
    "print(var[:8])\n",
    "\n",
    "#veya\n",
    "\n",
    "var = var[:8]\n",
    "print(var)"
   ]
  },
  {
   "cell_type": "markdown",
   "metadata": {},
   "source": [
    ">**[::2]** - 0.dizi elemanından başla sona kadar 2'şer adımla git"
   ]
  },
  {
   "cell_type": "code",
   "execution_count": 66,
   "metadata": {},
   "outputs": [
    {
     "name": "stdout",
     "output_type": "stream",
     "text": [
      "Cauwy\n",
      "Crw\n"
     ]
    }
   ],
   "source": [
    "var = 'Clarusway'\n",
    "\n",
    "print(var[::2])\n",
    "\n",
    "#veya\n",
    "\n",
    "var = var[::3]\n",
    "print(var)"
   ]
  },
  {
   "cell_type": "markdown",
   "metadata": {},
   "source": [
    ">**[1::2]** - 1.dizi elemanından başla sona kadar 2'şer adımla git"
   ]
  },
  {
   "cell_type": "code",
   "execution_count": 69,
   "metadata": {},
   "outputs": [
    {
     "name": "stdout",
     "output_type": "stream",
     "text": [
      "lrsa\n",
      "auwy\n"
     ]
    }
   ],
   "source": [
    "var = 'Clarusway'\n",
    "\n",
    "print(var[1::2])   \n",
    "\n",
    "#veya\n",
    "\n",
    "var = var[2::2]\n",
    "print(var)"
   ]
  },
  {
   "cell_type": "markdown",
   "metadata": {},
   "source": [
    ">**[-3:]** \"-3\".dizi elemanından başla sona kadar git (!Soldan sağa doğru ilerler!)"
   ]
  },
  {
   "cell_type": "code",
   "execution_count": 70,
   "metadata": {},
   "outputs": [
    {
     "name": "stdout",
     "output_type": "stream",
     "text": [
      "way\n",
      "way\n"
     ]
    }
   ],
   "source": [
    "var = 'Clarusway'\n",
    "\n",
    "print(var[-3:])   \n",
    "\n",
    "#veya\n",
    "\n",
    "var = var[-3:]\n",
    "print(var)"
   ]
  },
  {
   "cell_type": "markdown",
   "metadata": {},
   "source": [
    ">**[::-1]** 0.dizi elemanından başla sona doğru -1 adımla git (!Sağdan sola doğru ilerler!)"
   ]
  },
  {
   "cell_type": "code",
   "execution_count": 85,
   "metadata": {},
   "outputs": [
    {
     "name": "stdout",
     "output_type": "stream",
     "text": [
      "yawsuralC\n",
      "ywuaC\n"
     ]
    }
   ],
   "source": [
    "var = 'Clarusway'\n",
    "\n",
    "print(var[::-1])   \n",
    "\n",
    "#veya\n",
    "\n",
    "var = var[::-2]\n",
    "print(var)"
   ]
  },
  {
   "cell_type": "markdown",
   "metadata": {},
   "source": [
    ">**[1:-3:]**  1.dizi elemanından başlayıp -3.dizi elemanına kadar git (!-3 hariç! = -4.de durur)"
   ]
  },
  {
   "cell_type": "code",
   "execution_count": 74,
   "metadata": {},
   "outputs": [
    {
     "name": "stdout",
     "output_type": "stream",
     "text": [
      "larus\n",
      "larus\n"
     ]
    }
   ],
   "source": [
    "var = 'Clarusway'\n",
    "\n",
    "print(var[1:-3])   \n",
    "\n",
    "#veya\n",
    "\n",
    "var = var[1:-3]\n",
    "print(var)"
   ]
  },
  {
   "cell_type": "markdown",
   "metadata": {},
   "source": [
    "___"
   ]
  },
  {
   "cell_type": "markdown",
   "metadata": {},
   "source": [
    "### **len() fonksiyonu**\n",
    "\n",
    ">STRING DEĞİŞKENDEKİ ELEMAN SAYISINI VERİR\n",
    "___"
   ]
  },
  {
   "cell_type": "code",
   "execution_count": 35,
   "metadata": {},
   "outputs": [
    {
     "name": "stdout",
     "output_type": "stream",
     "text": [
      "9\n",
      "Clarusway 9 harfli bir kelimedir\n"
     ]
    }
   ],
   "source": [
    "var = 'Clarusway'                       \n",
    "print(len(var))     \n",
    "\n",
    "#veya\n",
    "\n",
    "var = 'Clarusway'               \n",
    "print(var, len(var), \"harfli bir kelimedir\")   "
   ]
  },
  {
   "cell_type": "markdown",
   "metadata": {},
   "source": [
    "___"
   ]
  },
  {
   "cell_type": "markdown",
   "metadata": {},
   "source": [
    "### **String** Verilerde Arithmetic syntax (+, =, *) Kullanımı\n",
    "\n",
    ">**\" + \"** STRING VERİYİ BİTİŞİK YAZDIRIR\n",
    "____"
   ]
  },
  {
   "cell_type": "code",
   "execution_count": 79,
   "metadata": {},
   "outputs": [
    {
     "name": "stdout",
     "output_type": "stream",
     "text": [
      "Clarusway\n",
      "Clarusway\n",
      "5Clarusway\n"
     ]
    }
   ],
   "source": [
    "print('Clarus' + 'way')        \n",
    "\n",
    "#veya \n",
    "\n",
    "var = (\"Clarus\" + \"way\")\n",
    "print(var)        \n",
    "\n",
    "#veya\n",
    "\n",
    "print(str(3+2) + 'Clarusway')"
   ]
  },
  {
   "cell_type": "markdown",
   "metadata": {},
   "source": [
    ">**\" * \"** STRING VERİYİ ÇARPAN SAYISI KADAR BİTİŞİK YAZDIRIR"
   ]
  },
  {
   "cell_type": "code",
   "execution_count": 82,
   "metadata": {},
   "outputs": [
    {
     "name": "stdout",
     "output_type": "stream",
     "text": [
      "ClaruswayClarusway\n",
      "ClaruswayClaruswayClarusway\n",
      "ClaruswayClaruswayClaruswayClaruswayClaruswayClarusway\n"
     ]
    }
   ],
   "source": [
    "print('Clarusway' * 2)        \n",
    "\n",
    "#veya \n",
    "\n",
    "var = (3 * 'Clarusway')\n",
    "print(var)        \n",
    "\n",
    "#veya\n",
    "\n",
    "print((2+2*2) * 'Clarusway')"
   ]
  },
  {
   "cell_type": "markdown",
   "metadata": {},
   "source": [
    ">*'string' STRING VERİYİ ARALARI AÇARAK YAZDIRIR"
   ]
  },
  {
   "cell_type": "code",
   "execution_count": 5,
   "metadata": {},
   "outputs": [
    {
     "name": "stdout",
     "output_type": "stream",
     "text": [
      "C l a r u s w a y\n"
     ]
    }
   ],
   "source": [
    "print(*\"Clarusway\")"
   ]
  },
  {
   "cell_type": "markdown",
   "metadata": {},
   "source": [
    ">**\" = \"** VERİLERİ BİRBİRİNE EŞİTLER"
   ]
  },
  {
   "cell_type": "code",
   "execution_count": 86,
   "metadata": {},
   "outputs": [
    {
     "name": "stdout",
     "output_type": "stream",
     "text": [
      "ClaruswayPython\n"
     ]
    }
   ],
   "source": [
    "kurs = \"Clarusway\"\n",
    "ders = \"Python\"\n",
    "\n",
    "print(kurs + ders)        "
   ]
  },
  {
   "cell_type": "markdown",
   "metadata": {},
   "source": [
    ">**\" += \"** VERİLERİ BİRBİRİNE EKLER"
   ]
  },
  {
   "cell_type": "code",
   "execution_count": 8,
   "metadata": {},
   "outputs": [
    {
     "name": "stdout",
     "output_type": "stream",
     "text": [
      "ClaruswayPython\n",
      "3\n"
     ]
    }
   ],
   "source": [
    "kurs = \"Clarusway\"\n",
    "kurs += \"Python\"\n",
    "\n",
    "print(kurs)    \n",
    "\n",
    "#veya\n",
    "\n",
    "no = 1\n",
    "no += 2     #(1+2)\n",
    "print(no)"
   ]
  },
  {
   "cell_type": "markdown",
   "metadata": {},
   "source": [
    "___"
   ]
  },
  {
   "cell_type": "markdown",
   "metadata": {},
   "source": [
    "### string.**format()** Metodu"
   ]
  },
  {
   "cell_type": "markdown",
   "metadata": {},
   "source": [
    ">Kıvrımlı parantezler {}, .format() öğesinden değerler alır."
   ]
  },
  {
   "cell_type": "markdown",
   "metadata": {},
   "source": [
    "___"
   ]
  },
  {
   "cell_type": "code",
   "execution_count": 98,
   "metadata": {},
   "outputs": [
    {
     "name": "stdout",
     "output_type": "stream",
     "text": [
      "Ben şuan 13:13 ânında ve Ankara'dayım. 5 kere göz kırptım\n",
      "Ben şuan 2020 ânında ve İstanbul'dayım. 5 kere göz kırptım.\n"
     ]
    }
   ],
   "source": [
    "saat = \"13:13\"\n",
    "yer = \"Ankara\"\n",
    "miktar = 5\n",
    "\n",
    "print('Ben şuan {} ânında ve {}\\'dayım. {} kere göz kırptım'.format(saat, yer, miktar))\n",
    "\n",
    "#veya\n",
    "\n",
    "saat = input(\"Saat kaç?\")\n",
    "yer = input(\"Neredesin?\")\n",
    "miktar = input(\"Kaç kere göz kırptın?\")\n",
    "\n",
    "print('Ben şuan {} ânında ve {}\\'dayım. {} kere göz kırptım.'.format(saat, yer, miktar))"
   ]
  },
  {
   "cell_type": "markdown",
   "metadata": {},
   "source": [
    "### **f\"string\"** ile format Metodu"
   ]
  },
  {
   "cell_type": "markdown",
   "metadata": {},
   "source": [
    ">* Kıvrımlı parantezler {}, içerisindeki daha önceden tanımlanan değişkenleri alır.\n",
    "\n",
    ">* String içerisinde {} süslü parantezler ile aritmetik işlem yapılabilir!"
   ]
  },
  {
   "cell_type": "code",
   "execution_count": 17,
   "metadata": {},
   "outputs": [
    {
     "name": "stdout",
     "output_type": "stream",
     "text": [
      "Ben şuan 13:13 ânında ve Ankara'dayım. 5 kere göz kırptım.\n",
      "Ben şuan 13:13 ânında ve Ankara'dayım. 5 kere göz kırptım.\n",
      "5 kere\n"
     ]
    }
   ],
   "source": [
    "saat = \"13:13\"\n",
    "yer = \"Ankara\"\n",
    "miktar = 5\n",
    "\n",
    "print(f'Ben şuan {saat} ânında ve {yer}\\'dayım. {miktar} kere göz kırptım.')\n",
    "\n",
    "\n",
    "#veya\n",
    "\n",
    "\n",
    "saat = \"13:13\"\n",
    "yer = \"Ankara\"\n",
    "miktar = 5\n",
    "\n",
    "print(\n",
    "    f'Ben şuan {saat} ânında'          #Daha anlaşılır gözükmesi için bu şekilde de yazılabilir!\n",
    "    f' ve {yer}\\'dayım.'\n",
    "    f' {miktar} kere göz kırptım.')\n",
    "\n",
    "\n",
    "#veya\n",
    "\n",
    "\n",
    "örnek = f\"{2+3} kere\"    #bu format metodunda string içerisinde {} süslü parantezler ile aritmetik işlem yapılabilir!\n",
    "print(örnek)\n"
   ]
  },
  {
   "cell_type": "markdown",
   "metadata": {},
   "source": [
    "### Soru:\n",
    "\n",
    ">** If you had deposited a coin on the cryptocurrency exchange that brought 7% fixed profit daily for a week, how much would your $1000 reach at the end of the 7th day?\n",
    "\n",
    "\n",
    ">** Kripto para borsasına bir hafta boyunca günlük %7 sabit kar getiren bir coin yatırmış olsaydınız, 7. günün sonunda 1000$'ınız ne kadar olurdu?\n",
    "____"
   ]
  },
  {
   "cell_type": "code",
   "execution_count": 5,
   "metadata": {},
   "outputs": [
    {
     "name": "stdout",
     "output_type": "stream",
     "text": [
      "1605.78147647843\n",
      "1.6057814764784306\n"
     ]
    }
   ],
   "source": [
    "para = 1000\n",
    "para = para + para * 0.07 #pazartesi\n",
    "para = para + para * 0.07 #salı\n",
    "para = para + para * 0.07 #çarşamba\n",
    "para = para + para * 0.07 #perşembe\n",
    "para = para + para * 0.07 #cuma\n",
    "para = para + para * 0.07 #cumartesi\n",
    "para = para + para * 0.07 #pazar\n",
    "print(para)\n",
    "\n",
    "#veya\n",
    "\n",
    "#para parantezine alınırsa para(1+0.07) eder\n",
    "#dolayısıyla;\n",
    "\n",
    "para = 1000  #ise\n",
    "\n",
    "para = para * 1.07 #1 günlük faiz\n",
    "\n",
    "#------------------\n",
    "\n",
    "para = 1.07 ** 7   #7 günlük faiz   böylelikle yukarıdaki kod tek satıra indirilebilir!\n",
    "print(para)"
   ]
  },
  {
   "cell_type": "code",
   "execution_count": null,
   "metadata": {},
   "outputs": [],
   "source": [
    "para = 1000\n",
    "gün = input(\"kaç günlük faiz?\")\n",
    "para = 1.07 ** float(gün)\n",
    "print(para)"
   ]
  },
  {
   "cell_type": "code",
   "execution_count": 4,
   "metadata": {},
   "outputs": [
    {
     "name": "stdout",
     "output_type": "stream",
     "text": [
      "6\n"
     ]
    }
   ],
   "source": [
    "a = 5\n",
    "a = 6\n",
    "print(a)"
   ]
  },
  {
   "cell_type": "code",
   "execution_count": null,
   "metadata": {},
   "outputs": [],
   "source": []
  }
 ],
 "metadata": {
  "interpreter": {
   "hash": "0127ce2b7568e6364fcc574b031f73928e7aa4cd8418ab017d9e270fb3906b0d"
  },
  "kernelspec": {
   "display_name": "Python 3.10.1 64-bit",
   "language": "python",
   "name": "python3"
  },
  "language_info": {
   "codemirror_mode": {
    "name": "ipython",
    "version": 3
   },
   "file_extension": ".py",
   "mimetype": "text/x-python",
   "name": "python",
   "nbconvert_exporter": "python",
   "pygments_lexer": "ipython3",
   "version": "3.10.1"
  },
  "orig_nbformat": 4
 },
 "nbformat": 4,
 "nbformat_minor": 2
}
