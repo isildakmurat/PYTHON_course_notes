{
 "cells": [
  {
   "cell_type": "markdown",
   "metadata": {},
   "source": [
    "<h1><p style=\"text-align: center; color:darkblue\">PYTHON DERS NOTLARI </p><h1>\n",
    "<h1><p style=\"text-align: center; color:darkblue\">5. DERS (26.01.2022) </p><h1>"
   ]
  },
  {
   "cell_type": "markdown",
   "metadata": {},
   "source": [
    "KONULAR\n",
    "* (string.lower())\n",
    "* (string.upper())\n",
    "* (string.title())\n",
    "* (string.swapcase())\n",
    "* (string.replace())\n",
    "* (string.strip()), (string.rstrip()), (string.lstrip())\n",
    "* (string.endswith()), (string.startswith())"
   ]
  },
  {
   "cell_type": "markdown",
   "metadata": {},
   "source": [
    "### (string.**lower**())\n",
    "\n",
    ">DEĞİŞKENİ TAMAMEN KÜÇÜK HARFE ÇEVİRME \n",
    "_____"
   ]
  },
  {
   "cell_type": "code",
   "execution_count": 21,
   "metadata": {},
   "outputs": [
    {
     "name": "stdout",
     "output_type": "stream",
     "text": [
      "python\n",
      "pyt hon\n"
     ]
    }
   ],
   "source": [
    "#string verinin hepsini küçük yapar__________________________________________________________________\n",
    "\n",
    "var = 'PyThOn'           \n",
    "print(var.lower())                  \n",
    "\n",
    "#veya\n",
    "\n",
    "var = 'Pyt Hon'.lower()\n",
    "print(var)"
   ]
  },
  {
   "cell_type": "markdown",
   "metadata": {},
   "source": [
    "### (string.**upper**())\n",
    "\n",
    ">DEĞİŞKENİ TAMAMEN BÜYÜK HARFE ÇEVİRME\n",
    "___"
   ]
  },
  {
   "cell_type": "code",
   "execution_count": 1,
   "metadata": {},
   "outputs": [
    {
     "name": "stdout",
     "output_type": "stream",
     "text": [
      "PYTHON\n",
      "PYTHON, PYT HON\n"
     ]
    }
   ],
   "source": [
    "#HEPSİNİ BÜYÜK YAPAR_________________________________________________________________________________\n",
    "\n",
    "var = 'Python'                       \n",
    "print(var.upper())     \n",
    "\n",
    "#veya\n",
    "\n",
    "var = 'PyThOn, pyt HON'.upper()\n",
    "print(var)"
   ]
  },
  {
   "cell_type": "markdown",
   "metadata": {},
   "source": [
    "### (string.**title**())\n",
    "\n",
    ">YALNIZCA KELİME BAŞ HARFLERİNİ BÜYÜTÜP DİĞER HARFLERİ KÜÇÜLTME\n",
    "____"
   ]
  },
  {
   "cell_type": "code",
   "execution_count": 22,
   "metadata": {},
   "outputs": [
    {
     "name": "stdout",
     "output_type": "stream",
     "text": [
      "Pyt Hon, Pyt Hon\n",
      "Python, Python\n"
     ]
    }
   ],
   "source": [
    "#Kelime Baş Harflerini Büyütür (!diğer harfleri küçültür!)___________________________________________\n",
    "\n",
    "var = 'PYT hON, pYt HoN'\n",
    "print(var.title())        \n",
    "\n",
    "#veya \n",
    "\n",
    "var = 'PYTHON, pYtHoN'.title()\n",
    "print(var)        "
   ]
  },
  {
   "cell_type": "markdown",
   "metadata": {},
   "source": [
    "### (string.**capitalize**())\n",
    "\n",
    ">YALNIZCA İLK KELİMENİN BAŞ HARFİNİ BÜYÜTÜR DİĞERLERİNİ KÜÇÜLTÜR\n",
    "____"
   ]
  },
  {
   "cell_type": "code",
   "execution_count": 23,
   "metadata": {},
   "outputs": [
    {
     "name": "stdout",
     "output_type": "stream",
     "text": [
      "Pyt hon, pyt hon\n",
      "Pyt hon, python\n"
     ]
    }
   ],
   "source": [
    "var = 'Pyt hon, pYt HoN'\n",
    "print(var.capitalize())        \n",
    "\n",
    "#veya \n",
    "\n",
    "var = 'pyt hon, PytHON'.capitalize()\n",
    "print(var)        "
   ]
  },
  {
   "cell_type": "markdown",
   "metadata": {},
   "source": [
    "### (string.**swapcase**())\n",
    "\n",
    ">YAZILANI (BÜYÜK/KÜÇÜK HARF) TERSİNE ÇEVİRME \n",
    "____"
   ]
  },
  {
   "cell_type": "code",
   "execution_count": 24,
   "metadata": {},
   "outputs": [
    {
     "name": "stdout",
     "output_type": "stream",
     "text": [
      "pYTHON, PyThOn\n",
      "Python, PyT hOn\n"
     ]
    }
   ],
   "source": [
    "#yAZILANI tERS çEVİRİR - #Yazılanı Ters Çevirir______________________________________________________\n",
    "\n",
    "var = 'Python, pYtHoN'\n",
    "print(var.swapcase())              \n",
    "\n",
    "#veya\n",
    "\n",
    "var = 'pYTHON, pYt HoN'.swapcase()\n",
    "print(var)"
   ]
  },
  {
   "cell_type": "markdown",
   "metadata": {},
   "source": [
    "### (string.**replace**())\n",
    "\n",
    ">STRING VERİ İÇERİSİNDE KARAKTERLERİ DEĞİŞTİRME\n",
    "___"
   ]
  },
  {
   "cell_type": "code",
   "execution_count": 25,
   "metadata": {},
   "outputs": [
    {
     "name": "stdout",
     "output_type": "stream",
     "text": [
      "\t _____1. Örnek_____\n",
      "Bython\n",
      "Pyth on\n",
      "\t\n",
      "\t _____2. Örnek_____\n",
      "P*thn\n",
      "Bytion\n",
      "Byytion\n",
      "\t\n",
      "\t ______3. Örnek______\n",
      "pyth@n\n",
      "PYTH@N\n",
      "Pyth@N\n",
      "pYTH@N\n"
     ]
    }
   ],
   "source": [
    "#İLK string İLE İKİNCİ string YERİNİ DEĞİŞTİRİR______________________________________________________\n",
    "print(\"\\t\", \"_____1. Örnek_____\")#___________________________________________________________________\n",
    "\n",
    "var = 'Python'\n",
    "print(var.replace('P', 'B'))                       \n",
    "print(var.replace('on', ' on')) #ikincide boşluk var!      \n",
    "\n",
    "\n",
    "\n",
    "print(\"\\t\") #______#BİRDEN FAZLA .replace AYNI ANDA_________________________________________________\n",
    "print(\"\\t\", \"_____2. Örnek_____\") #_________________________________________________________________\n",
    "\n",
    "var = 'Python'\n",
    "print(var.replace(\"y\", \"*\").replace(\"o\", \"\"))    # \"\" içi dolu olmayan tırnak işareti karakteri siler\n",
    "#veya\n",
    "print('Python'.replace('P', 'B').replace('h', 'i'))\n",
    "#veya\n",
    "print('Python'.replace('P', 'B').replace('h', 'i').replace('y', 'yy'))\n",
    "\n",
    "\n",
    "\n",
    "print(\"\\t\") #______#.replace 'dan sonra .lower, .upper, .title, .swapcase AYNI ANDA__________________\n",
    "print(\"\\t\", \"______3. Örnek______\")#_________________________________________________________________\n",
    "\n",
    "var = 'Python'\n",
    "print(var.replace(\"o\", \"@\").lower())      \n",
    "print(var.replace(\"o\", \"@\").upper()) \n",
    "print(var.replace(\"o\", \"@\").title()) \n",
    "print(var.replace(\"o\", \"@\").swapcase())   \n"
   ]
  },
  {
   "cell_type": "markdown",
   "metadata": {},
   "source": [
    "### (string.**strip**()), (string.**rstrip**()), (string.**lstrip**())\n",
    "\n",
    ">BAŞTAN SONDAN (SOL-SAĞ) KIRPMA \n",
    "___"
   ]
  },
  {
   "cell_type": "code",
   "execution_count": 26,
   "metadata": {},
   "outputs": [
    {
     "name": "stdout",
     "output_type": "stream",
     "text": [
      "\t _____1. Örnek_____\n",
      "Python\n",
      "Python\n",
      "\t _____2. Örnek_____\n",
      "ytho\n",
      "th\n",
      "\t _____3. Örnek_____\n",
      "thon\n",
      "\t _____4. Örnek_____\n",
      "Pyt\n",
      "Pyt\n"
     ]
    }
   ],
   "source": [
    "#BAŞTAN SONDAN BOŞLUKLARI VE (\\n, \\t) ESCAPE SEQUENCE LARI KIRPAR___________________________________\n",
    "print(\"\\t\", \"_____1. Örnek_____\")#__________________________________________________________________\n",
    "\n",
    "var = \"  Python  \"\n",
    "print(var.strip())   \n",
    "#veya\n",
    "print(\"\\n  Python  \\t\".strip()) \n",
    "\n",
    "\n",
    "\n",
    "#BAŞTAN SONDAN KARAKTER KIRPAR______________________________________________________________________\n",
    "print(\"\\t\", \"_____2. Örnek_____\")#__________________________________________________________________\n",
    "\n",
    "var = \"Python\"\n",
    "print(var.strip(\"Pn\"))   \n",
    "print(var.strip(\"Pyon\"))  \n",
    "\n",
    "\n",
    "\n",
    "#BAŞTAN (SOLDAN) KARAKTER KIRPAR____________________________________________________________________\n",
    "print(\"\\t\", \"_____3. Örnek_____\")#__________________________________________________________________\n",
    "\n",
    "var = \"Python\"\n",
    "print(var.lstrip(\"Py\"))               \n",
    "            \n",
    "\n",
    "\n",
    "#SONDAN (SAĞDAN) KARAKTER KIRPAR____________________________________________________________________\n",
    "print(\"\\t\", \"_____4. Örnek_____\")#__________________________________________________________________\n",
    "\n",
    "var = \"Python\"\n",
    "print(var.rstrip(\"hon\"))  \n",
    "#veya\n",
    "print(var.rstrip(\"noh\"))\n"
   ]
  },
  {
   "cell_type": "markdown",
   "metadata": {},
   "source": [
    "### (string.**endswith**()) (string.**startswith**())\n",
    "\n",
    ">VERİNİN BAŞINDA SONUNDA VE BELİRTİLEN KONUMUNDA VARMI-YOKMU (True False olarak \"boolean\" sonuç verir!)\n",
    "___"
   ]
  },
  {
   "cell_type": "code",
   "execution_count": 27,
   "metadata": {},
   "outputs": [
    {
     "name": "stdout",
     "output_type": "stream",
     "text": [
      "\t _____1. Örnek_____\n",
      "True\n",
      "\t _____2. Örnek_____\n",
      "True\n",
      "\t _____3. Örnek_____\n",
      "True\n",
      "\t _____4. Örnek_____\n",
      "True\n",
      "\t _____5. Örnek_____\n",
      "True\n",
      "True\n"
     ]
    }
   ],
   "source": [
    "#VERİNİN SONUNDA VAR MI?____________________________________________________________________________\n",
    "print(\"\\t\", \"_____1. Örnek_____\")#__________________________________________________________________\n",
    "\n",
    "var = \"Python\"\n",
    "print(var.endswith('hon'))          #soldan sağa doğru okur!\n",
    "\n",
    "\n",
    "\n",
    "\n",
    "#VERİNİN BAŞINDA VAR MI?____________________________________________________________________________\n",
    "print(\"\\t\", \"_____2. Örnek_____\")#__________________________________________________________________\n",
    "\n",
    "print(var.startswith('Pyt'))        #soldan sağa doğru okur!\n",
    "\n",
    "\n",
    "\n",
    "\n",
    "#VERİNİN (BAŞTAN \"0\" İTİBAREN SAYILARAK) BELİRTİLEN YERİNDE VAR MI?_________________________________\n",
    "print(\"\\t\", \"_____3. Örnek_____\")#__________________________________________________________________\n",
    "\n",
    "var = \"Python\"\n",
    "print(var.startswith('t', 2))       # 'a' başlangıçtan itibaren 2. indeks mi?\n",
    "\n",
    "\n",
    "\n",
    "\n",
    "#VERİNİN (SONDAN \"-1\" İTİBAREN SAYILARAK) BELİRTİLEN YERİNDE VAR MI?________________________________\n",
    "print(\"\\t\", \"_____4. Örnek_____\")#__________________________________________________________________\n",
    "\n",
    "var = \"Python\"\n",
    "print(var.endswith('n', -1))\n",
    "\n",
    "\n",
    "\n",
    "\n",
    "#VERİNİN BELİRTİLEN KONUM ARALIĞINDA VAR MI?_______________________________________________________\n",
    "print(\"\\t\", \"_____5. Örnek_____\")#__________________________________________________________________\n",
    "\n",
    "var = \"Python\"\n",
    "print(var.endswith('h', -3, -2)) #-2 ile -3 arasındaki konum w ile biter?\n",
    "\n",
    "print(var.startswith('t', 2, 5)) #2 ile 3 arasındaki konum a ile başlar?\n"
   ]
  },
  {
   "cell_type": "code",
   "execution_count": null,
   "metadata": {},
   "outputs": [],
   "source": []
  }
 ],
 "metadata": {
  "interpreter": {
   "hash": "0127ce2b7568e6364fcc574b031f73928e7aa4cd8418ab017d9e270fb3906b0d"
  },
  "kernelspec": {
   "display_name": "Python 3.10.1 64-bit",
   "language": "python",
   "name": "python3"
  },
  "language_info": {
   "codemirror_mode": {
    "name": "ipython",
    "version": 3
   },
   "file_extension": ".py",
   "mimetype": "text/x-python",
   "name": "python",
   "nbconvert_exporter": "python",
   "pygments_lexer": "ipython3",
   "version": "3.10.1"
  },
  "orig_nbformat": 4
 },
 "nbformat": 4,
 "nbformat_minor": 2
}
