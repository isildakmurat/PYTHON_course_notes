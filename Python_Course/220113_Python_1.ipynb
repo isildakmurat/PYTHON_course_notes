{
 "cells": [
  {
   "cell_type": "markdown",
   "metadata": {},
   "source": [
    "<h1><p style=\"text-align: center; color:darkblue\">PYTHON DERS NOTLARI </p><h1>\n",
    "<h1><p style=\"text-align: center; color:darkblue\">1. DERS (13.01.2022) </p><h1>"
   ]
  },
  {
   "cell_type": "markdown",
   "metadata": {},
   "source": [
    "KONULAR\n",
    "* (string.lower())\n",
    "* (string.upper())\n",
    "* (string.title())\n",
    "* (string.swapcase())\n",
    "* (string.replace())\n",
    "* (string.strip()), (string.rstrip()), (string.lstrip())\n",
    "* (string.endswith()), (string.startswith())"
   ]
  },
  {
   "cell_type": "markdown",
   "metadata": {},
   "source": [
    "### (string.lower())\n",
    "\n",
    ">DEĞİŞKENİ TAMAMEN KÜÇÜK HARFE ÇEVİRME \n",
    "_____"
   ]
  },
  {
   "cell_type": "code",
   "execution_count": 97,
   "metadata": {},
   "outputs": [
    {
     "name": "stdout",
     "output_type": "stream",
     "text": [
      "clarusway\n",
      "clarus way\n"
     ]
    }
   ],
   "source": [
    "#string verinin hepsini küçük yapar__________________________________________________________________\n",
    "\n",
    "var = 'ClArUsWaY'           \n",
    "print(var.lower())                  \n",
    "\n",
    "#veya\n",
    "\n",
    "var = 'Clarus Way'.lower()\n",
    "print(var)"
   ]
  }
 ],
 "metadata": {
  "interpreter": {
   "hash": "0127ce2b7568e6364fcc574b031f73928e7aa4cd8418ab017d9e270fb3906b0d"
  },
  "kernelspec": {
   "display_name": "Python 3.10.1 64-bit",
   "language": "python",
   "name": "python3"
  },
  "language_info": {
   "codemirror_mode": {
    "name": "ipython",
    "version": 3
   },
   "file_extension": ".py",
   "mimetype": "text/x-python",
   "name": "python",
   "nbconvert_exporter": "python",
   "pygments_lexer": "ipython3",
   "version": "3.10.1"
  },
  "orig_nbformat": 4
 },
 "nbformat": 4,
 "nbformat_minor": 2
}
