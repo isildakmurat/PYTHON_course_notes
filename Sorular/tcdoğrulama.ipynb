{
 "cells": [
  {
   "cell_type": "markdown",
   "metadata": {},
   "source": [
    "Bir fonksiyon yazıp TC kimlik numarasının doğruluğunu kontrol etmeni istiyorum.\n",
    "\n",
    "* TC kimlik numarasını doğrulamak için 1,3,5,7 ve 9.cu hanelerindeki rakamların toplamını 7 ile çarpımından çıkan sonucu 2,4,6 ve 8. hanelerinin rakamlarının toplamından çıkartıldığında geriye kalanın 10'a böldüğümüzde kalanı 10uncu haneyi verir.\n",
    "\n",
    "* Birinci haneden onuncu haneye kadar olan tüm rakamların toplamını 10'a böldüğümüzde kalanı 11. rakamı sağlar."
   ]
  },
  {
   "cell_type": "code",
   "execution_count": 9,
   "metadata": {},
   "outputs": [],
   "source": [
    "def tcDoğrulama(tc: str) -> bool:               # parametrelerin ve outputlarının tipini not alıyoruz\n",
    "    tc = str(tc)                                # slays yapabilmek için str ye çevirdik\n",
    "    \n",
    "    tekhanelerinToplamı = 0                     # değişkenleri önceden tanımlamazsak aşağıda hata verir\n",
    "    çifthanelerinToplamı = 0                    # toplamı bilmediğimiz için başlangıç 0 varsayıyoruz\n",
    "    tümhanelerinToplamı = 0                     # kullanacağımız tüm değişkenleri önceden tanımlıyoruz\n",
    "    sıra = 1                                    # str tc'nin elemanlarının for içindeki sırası 1'den başlar\n",
    "\n",
    "    if len(tc) != 11 :                          # str uzunluğu 11 değilse False döndür\n",
    "        return False\n",
    "    \n",
    "    if tc[0] == \"0\" :                           # ilk hanesi \"0\" ise False döndür\n",
    "        return False\n",
    "\n",
    "    for rakam in tc :                           # for her seferinde bir karakteri döndürür\n",
    "        tümhanelerinToplamı += int(rakam)       # tüm haneleri toplamak için for'un içinde yazıyoruz\n",
    "        \n",
    "        if sıra > 9 :                           # soruda 10. haneyi ayırıyor o yüzden 10 aşağıdaki döngüye dahil değil\n",
    "            break\n",
    "        \n",
    "        if sıra % 2 == 0 :                      # çift haneleri almak için sıranın ikiye kalansız bölünmesi gerekir\n",
    "            çifthanelerinToplamı += int(rakam)  # rakam srtdir. her for döngüsünde çiftleri bulur ve burada int ekler.\n",
    "        else :                                  # ikiye kalansız bölünmezse else döngüsüne geçer\n",
    "            tekhanelerinToplamı += int(rakam)   # ve üstteki gibi tek haneleri toplar\n",
    "        sıra += 1                               # sırayı her seferinde 1 arttırırsak döngü biter\n",
    "    \n",
    "    if (tekhanelerinToplamı * 7 - çifthanelerinToplamı) % 10 == int(tc[9]) \\\n",
    "        and tümhanelerinToplamı % 10 == int(tc[10]) : # sorunun şartlarına göre bir işlem yazdık\n",
    "        print(\"Tc Numarası Doğru\")\n",
    "    else:\n",
    "        print(\"Tc Numarası Yanlış\")"
   ]
  },
  {
   "cell_type": "code",
   "execution_count": 10,
   "metadata": {},
   "outputs": [
    {
     "name": "stdout",
     "output_type": "stream",
     "text": [
      "Tc Numarası Doğru\n"
     ]
    }
   ],
   "source": [
    "tcDoğrulama(11111111110)"
   ]
  },
  {
   "cell_type": "code",
   "execution_count": 11,
   "metadata": {},
   "outputs": [
    {
     "name": "stdout",
     "output_type": "stream",
     "text": [
      "Tc Numarası Yanlış\n"
     ]
    }
   ],
   "source": [
    "tcDoğrulama(12345678901)"
   ]
  },
  {
   "cell_type": "code",
   "execution_count": null,
   "metadata": {},
   "outputs": [],
   "source": []
  }
 ],
 "metadata": {
  "interpreter": {
   "hash": "1e0e9c6fa50239b296d741002312a367832c358bdded32aabb2575ff59aa9be4"
  },
  "kernelspec": {
   "display_name": "Python 3.9.10 64-bit (windows store)",
   "language": "python",
   "name": "python3"
  },
  "language_info": {
   "codemirror_mode": {
    "name": "ipython",
    "version": 3
   },
   "file_extension": ".py",
   "mimetype": "text/x-python",
   "name": "python",
   "nbconvert_exporter": "python",
   "pygments_lexer": "ipython3",
   "version": "3.9.10"
  },
  "orig_nbformat": 4
 },
 "nbformat": 4,
 "nbformat_minor": 2
}
