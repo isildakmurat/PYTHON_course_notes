{
 "cells": [
  {
   "cell_type": "markdown",
   "metadata": {},
   "source": [
    "Program kullanıcıdan bir string alsın. Bu stringi kullanarak yeni string oluştursun.\n",
    "Bu stringin ilk 3 karakteri ile son 3 karakterinden oluşsun ancak tüm karakterler büyük harflerden oluşacak \n",
    "şekilde sonuç versin.\n",
    "Son olarak yazdığın program oluşan bu stringi terminale yazdırsın.\n",
    "Örneğin \"Ertuğrul” dan \"RULERT”,, \"At” dan \"ATAT” sonucu terminalde yazdırılsın."
   ]
  },
  {
   "cell_type": "code",
   "execution_count": 4,
   "metadata": {},
   "outputs": [
    {
     "name": "stdout",
     "output_type": "stream",
     "text": [
      "RULERT\n"
     ]
    }
   ],
   "source": [
    "kelime = input(\"Kelime: \")\n",
    "yenikelime = (kelime[-3:] + kelime[:3]).upper()\n",
    "print(yenikelime)"
   ]
  },
  {
   "cell_type": "code",
   "execution_count": null,
   "metadata": {},
   "outputs": [],
   "source": []
  }
 ],
 "metadata": {
  "interpreter": {
   "hash": "1e0e9c6fa50239b296d741002312a367832c358bdded32aabb2575ff59aa9be4"
  },
  "kernelspec": {
   "display_name": "Python 3.9.10 64-bit (windows store)",
   "language": "python",
   "name": "python3"
  },
  "language_info": {
   "codemirror_mode": {
    "name": "ipython",
    "version": 3
   },
   "file_extension": ".py",
   "mimetype": "text/x-python",
   "name": "python",
   "nbconvert_exporter": "python",
   "pygments_lexer": "ipython3",
   "version": "3.9.10"
  },
  "orig_nbformat": 4
 },
 "nbformat": 4,
 "nbformat_minor": 2
}
