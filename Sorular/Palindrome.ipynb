{
 "cells": [
  {
   "cell_type": "markdown",
   "metadata": {},
   "source": [
    "### Write a program to check if a given string is a Palindrome. A palindrome reads same from front and back e.g.- aba, ccaacc, mom, etc.\n",
    "\n",
    "**INPUT: aba**\n",
    "**OUTPUT: True**\n",
    "**INPUT: berlin**\n",
    "**OUTPUT: False**"
   ]
  },
  {
   "cell_type": "code",
   "execution_count": 1,
   "metadata": {},
   "outputs": [
    {
     "name": "stdout",
     "output_type": "stream",
     "text": [
      "True\n"
     ]
    }
   ],
   "source": [
    "word = (input(\"Write a Palindrome word: \"))\n",
    "print(word[:] == word[::-1])"
   ]
  },
  {
   "cell_type": "code",
   "execution_count": 3,
   "metadata": {},
   "outputs": [
    {
     "name": "stdout",
     "output_type": "stream",
     "text": [
      "çana\n"
     ]
    }
   ],
   "source": [
    "word = \"anaç\"\n",
    "print(word[::-1])"
   ]
  },
  {
   "cell_type": "code",
   "execution_count": 3,
   "metadata": {},
   "outputs": [
    {
     "name": "stdout",
     "output_type": "stream",
     "text": [
      "True\n"
     ]
    }
   ],
   "source": [
    "word = input(\"please enter a word : \")\n",
    "print(word == word[::-1])"
   ]
  },
  {
   "cell_type": "code",
   "execution_count": 5,
   "metadata": {},
   "outputs": [
    {
     "data": {
      "text/plain": [
       "True"
      ]
     },
     "execution_count": 5,
     "metadata": {},
     "output_type": "execute_result"
    }
   ],
   "source": [
    "s = input()\n",
    "bool(s == s[::-1])"
   ]
  },
  {
   "cell_type": "code",
   "execution_count": 6,
   "metadata": {},
   "outputs": [
    {
     "name": "stdout",
     "output_type": "stream",
     "text": [
      "True\n"
     ]
    }
   ],
   "source": [
    "palindrome = str(input(\"Please enter a palindrome word: \" ))\n",
    "check = palindrome[0:] == palindrome[::-1]\n",
    "print(check)"
   ]
  },
  {
   "cell_type": "code",
   "execution_count": 1,
   "metadata": {},
   "outputs": [
    {
     "name": "stdout",
     "output_type": "stream",
     "text": [
      "True\n"
     ]
    }
   ],
   "source": [
    "word = (input(\"Write a Palindrome word: \"))\n",
    "print(word.endswith(word[len(word)//2::-1]))"
   ]
  },
  {
   "cell_type": "code",
   "execution_count": 17,
   "metadata": {},
   "outputs": [
    {
     "name": "stdout",
     "output_type": "stream",
     "text": [
      "True\n"
     ]
    }
   ],
   "source": [
    "word = (input(\"Write a Palindrome word: \"))\n",
    "print(word.startswith(word[:len(word)//2]))"
   ]
  },
  {
   "cell_type": "code",
   "execution_count": 18,
   "metadata": {},
   "outputs": [
    {
     "name": "stdout",
     "output_type": "stream",
     "text": [
      "True\n"
     ]
    }
   ],
   "source": [
    "word = input(\"Please Enter a Word : \")\n",
    "counter = len(word) - 1\n",
    "\n",
    "word_2 = \"\"\n",
    "for i in word:\n",
    " word_2 = word_2 + word[counter]\n",
    " counter -= 1\n",
    "\n",
    "if word == word_2:\n",
    " print(True)\n",
    "else:\n",
    " print(False)\n"
   ]
  },
  {
   "cell_type": "code",
   "execution_count": 10,
   "metadata": {},
   "outputs": [
    {
     "name": "stdout",
     "output_type": "stream",
     "text": [
      "read from leading character: ada\n",
      "read from trailing character: ada\n",
      "Palindrome situation of word is True.\n"
     ]
    }
   ],
   "source": [
    "word = input(\"write a word, is it palindrome?:\")\n",
    "letter_list = []\n",
    "letter_list.extend(word)\n",
    "print(\"read from leading character:\", \"\".join(letter_list))\n",
    "print(\"read from trailing character:\", \"\".join(letter_list[::-1]))\n",
    "print(f\"Palindrome situation of word is {letter_list[::-1] == letter_list}.\")"
   ]
  },
  {
   "cell_type": "code",
   "execution_count": 6,
   "metadata": {},
   "outputs": [
    {
     "name": "stdout",
     "output_type": "stream",
     "text": [
      "['a', 'd', 'a', 'a']\n"
     ]
    }
   ],
   "source": [
    "word = \"adaa\"\n",
    "letters = []\n",
    "letters.extend(word)\n",
    "print(letters)"
   ]
  },
  {
   "cell_type": "code",
   "execution_count": 11,
   "metadata": {},
   "outputs": [
    {
     "name": "stdout",
     "output_type": "stream",
     "text": [
      "True,ada that's the Palindrome word : ada\n"
     ]
    }
   ],
   "source": [
    "word = input(\"Please enter word :\" )\n",
    "word1 = word[::-1]\n",
    "if word==word1 :\n",
    "  print(f\"True,{word} that's the Palindrome word :\", word)\n",
    "else:\n",
    "  print(f\"False,{word} is not equal '{word1}' .That's not a Palindrome word : \")"
   ]
  },
  {
   "cell_type": "code",
   "execution_count": 2,
   "metadata": {},
   "outputs": [
    {
     "name": "stdout",
     "output_type": "stream",
     "text": [
      "True\n"
     ]
    }
   ],
   "source": [
    "palindrome = input(\"please enter a word: \")\n",
    "print(list(palindrome)==list(reversed(palindrome)))"
   ]
  },
  {
   "cell_type": "code",
   "execution_count": 12,
   "metadata": {},
   "outputs": [
    {
     "data": {
      "text/plain": [
       "['4', ' ', '3', ' ', '2', ' ', '1']"
      ]
     },
     "execution_count": 12,
     "metadata": {},
     "output_type": "execute_result"
    }
   ],
   "source": [
    "a = \"1234\"\n",
    "list(reversed(a))"
   ]
  },
  {
   "cell_type": "code",
   "execution_count": 9,
   "metadata": {},
   "outputs": [
    {
     "data": {
      "text/plain": [
       "['5678', '1234']"
      ]
     },
     "execution_count": 9,
     "metadata": {},
     "output_type": "execute_result"
    }
   ],
   "source": [
    "a = \"1234\", \"5678\"\n",
    "list(reversed(a))"
   ]
  },
  {
   "cell_type": "code",
   "execution_count": 29,
   "metadata": {},
   "outputs": [
    {
     "name": "stdout",
     "output_type": "stream",
     "text": [
      "1234\n"
     ]
    }
   ],
   "source": [
    "a = \"1234\"\n",
    "reversed(a)\n",
    "print(a)"
   ]
  },
  {
   "cell_type": "code",
   "execution_count": 28,
   "metadata": {},
   "outputs": [
    {
     "name": "stdout",
     "output_type": "stream",
     "text": [
      "('1234', '5678')\n"
     ]
    }
   ],
   "source": [
    "a = \"1234\", \"5678\"\n",
    "list(a)\n",
    "reversed(a)\n",
    "print(a)"
   ]
  },
  {
   "cell_type": "code",
   "execution_count": 23,
   "metadata": {},
   "outputs": [
    {
     "data": {
      "text/plain": [
       "['e',\n",
       " 'y',\n",
       " ' ',\n",
       " 'e',\n",
       " 'd',\n",
       " 'i',\n",
       " 'p',\n",
       " ' ',\n",
       " 'a',\n",
       " 'd',\n",
       " 'a',\n",
       " 'n',\n",
       " 'a',\n",
       " 'd',\n",
       " 'a',\n",
       " ' ',\n",
       " 'p',\n",
       " 'i',\n",
       " 'd',\n",
       " 'e',\n",
       " ' ',\n",
       " 'y',\n",
       " 'e']"
      ]
     },
     "execution_count": 23,
     "metadata": {},
     "output_type": "execute_result"
    }
   ],
   "source": [
    "b = \"ey edip adanada pide ye\"\n",
    "list(reversed(b))"
   ]
  },
  {
   "cell_type": "code",
   "execution_count": null,
   "metadata": {},
   "outputs": [],
   "source": [
    "reversed()"
   ]
  }
 ],
 "metadata": {
  "interpreter": {
   "hash": "0127ce2b7568e6364fcc574b031f73928e7aa4cd8418ab017d9e270fb3906b0d"
  },
  "kernelspec": {
   "display_name": "Python 3.10.1 64-bit",
   "language": "python",
   "name": "python3"
  },
  "language_info": {
   "codemirror_mode": {
    "name": "ipython",
    "version": 3
   },
   "file_extension": ".py",
   "mimetype": "text/x-python",
   "name": "python",
   "nbconvert_exporter": "python",
   "pygments_lexer": "ipython3",
   "version": "3.9.12"
  },
  "orig_nbformat": 4
 },
 "nbformat": 4,
 "nbformat_minor": 2
}
