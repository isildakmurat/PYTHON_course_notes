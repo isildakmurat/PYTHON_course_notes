{
 "cells": [
  {
   "cell_type": "code",
   "execution_count": 9,
   "metadata": {},
   "outputs": [
    {
     "name": "stdout",
     "output_type": "stream",
     "text": [
      "3.8696844624861835\n"
     ]
    }
   ],
   "source": [
    "para = 1000\n",
    "gün = input(\"kaç günlük faiz?\")\n",
    "para = 1.07 ** float(gün)\n",
    "print(para)"
   ]
  },
  {
   "cell_type": "code",
   "execution_count": 5,
   "metadata": {},
   "outputs": [
    {
     "name": "stdout",
     "output_type": "stream",
     "text": [
      "Converter Celsius to Fahrenheit\n",
      "50.8 °C =  123.44 °F\n"
     ]
    }
   ],
   "source": [
    "#Kullanıcıdan Celsius sıcaklığını girmesini isteyen (ondalık bir sayı olabilir),\\ \n",
    "# girilen sıcaklığı Fahrenheit dereceye çeviren ve sonucu yazdıran kısa bir Python programı yazın.\n",
    "# T(°F) = T(°C) × 1.8 + 32\n",
    "\n",
    "print(\"Converter Celsius to Fahrenheit\")\n",
    "\n",
    "Celcius = float(input(\"Celcius = \"))\n",
    "print(Celcius, \"°C = \", ((Celcius * 1.8) + 32), \"°F\")"
   ]
  },
  {
   "cell_type": "code",
   "execution_count": 8,
   "metadata": {},
   "outputs": [
    {
     "name": "stdout",
     "output_type": "stream",
     "text": [
      "Converter Kilometers to Miles\n",
      "1.0 Kilometers =  0.62137119 Miles\n"
     ]
    }
   ],
   "source": [
    "#1 km = (1/1.609344) mi = 0.62137119 mi\n",
    "\n",
    "print(\"Converter Kilometers to Miles\")\n",
    "\n",
    "Kilometers = float(input(\"Kilometers = \"))\n",
    "print(Kilometers, \"Kilometers = \", Kilometers * 0.62137119, \"Miles\")"
   ]
  },
  {
   "cell_type": "code",
   "execution_count": 3,
   "metadata": {},
   "outputs": [
    {
     "name": "stdout",
     "output_type": "stream",
     "text": [
      "Converter Celsius to Fahrenheit\n",
      "10.0 °C =  50.0 °F\n",
      "Converter Kilometers to Miles\n",
      "5.0 Kilometers =  3.10685595 Miles\n"
     ]
    }
   ],
   "source": [
    "print(\"Converter Celsius to Fahrenheit\")\n",
    "Celcius = float(input(\"Celcius = \"))\n",
    "print(Celcius, \"°C = \", ((Celcius * 1.8) + 32), \"°F\")\n",
    "\n",
    "print(\"Converter Kilometers to Miles\")\n",
    "Kilometers = float(input(\"Kilometers = \"))\n",
    "print(Kilometers, \"Kilometers = \", Kilometers * 0.62137119, \"Miles\")"
   ]
  },
  {
   "cell_type": "code",
   "execution_count": 7,
   "metadata": {},
   "outputs": [
    {
     "name": "stdout",
     "output_type": "stream",
     "text": [
      "clarusway\n"
     ]
    }
   ],
   "source": [
    "word = 'clarusway'\n",
    "print(word.strip(\"\"))"
   ]
  },
  {
   "cell_type": "code",
   "execution_count": 14,
   "metadata": {},
   "outputs": [
    {
     "name": "stdout",
     "output_type": "stream",
     "text": [
      "clausway\n"
     ]
    }
   ],
   "source": [
    "word = \"clarusway\".replace('r', \"\")\n",
    "print(word)"
   ]
  },
  {
   "cell_type": "code",
   "execution_count": 15,
   "metadata": {},
   "outputs": [
    {
     "name": "stdout",
     "output_type": "stream",
     "text": [
      "Hello! I am a new programer and I love Clarusway\n"
     ]
    }
   ],
   "source": [
    "text = \"{}! I am a {} programer and I {} Clarusway\".format(\"Hello\", \"new\", \"love\")\n",
    "print(text)\n"
   ]
  },
  {
   "cell_type": "code",
   "execution_count": 22,
   "metadata": {},
   "outputs": [
    {
     "name": "stdout",
     "output_type": "stream",
     "text": [
      "('I live in', 'Sarajevo')\n"
     ]
    }
   ],
   "source": [
    "city = \"SARAJEVO\"\n",
    "text = \"I live in\", city.capitalize()\n",
    "print(text)"
   ]
  },
  {
   "cell_type": "code",
   "execution_count": 25,
   "metadata": {},
   "outputs": [
    {
     "name": "stdout",
     "output_type": "stream",
     "text": [
      "I live in, Sarajevo\n"
     ]
    }
   ],
   "source": [
    "city = \"SARAJEVO\"\n",
    "text = f\"I live in, {city.capitalize()}\"\n",
    "print(text)"
   ]
  },
  {
   "cell_type": "code",
   "execution_count": 28,
   "metadata": {},
   "outputs": [
    {
     "name": "stdout",
     "output_type": "stream",
     "text": [
      "%d\n"
     ]
    }
   ],
   "source": [
    "print(\"%d\")"
   ]
  },
  {
   "cell_type": "code",
   "execution_count": 29,
   "metadata": {},
   "outputs": [
    {
     "name": "stdout",
     "output_type": "stream",
     "text": [
      "16\n"
     ]
    }
   ],
   "source": [
    "x = 12\n",
    "y = x + 21\n",
    "x = 2\n",
    "print(y//x)"
   ]
  },
  {
   "cell_type": "code",
   "execution_count": 30,
   "metadata": {},
   "outputs": [
    {
     "name": "stdout",
     "output_type": "stream",
     "text": [
      "2020\n"
     ]
    }
   ],
   "source": [
    "print(int(1988 + 32))"
   ]
  },
  {
   "cell_type": "code",
   "execution_count": 31,
   "metadata": {},
   "outputs": [
    {
     "name": "stdout",
     "output_type": "stream",
     "text": [
      "2020\n"
     ]
    }
   ],
   "source": [
    "print(int(\"1988\") + int(\"32\"))"
   ]
  },
  {
   "cell_type": "code",
   "execution_count": 32,
   "metadata": {},
   "outputs": [
    {
     "name": "stdout",
     "output_type": "stream",
     "text": [
      "8\n"
     ]
    }
   ],
   "source": [
    "print(8 or not None)"
   ]
  },
  {
   "cell_type": "code",
   "execution_count": 34,
   "metadata": {},
   "outputs": [
    {
     "name": "stdout",
     "output_type": "stream",
     "text": [
      "True\n"
     ]
    }
   ],
   "source": [
    "print(not None or 8)"
   ]
  },
  {
   "cell_type": "code",
   "execution_count": 37,
   "metadata": {},
   "outputs": [
    {
     "name": "stdout",
     "output_type": "stream",
     "text": [
      "I will find a job.\n"
     ]
    }
   ],
   "source": [
    "print(\"{3} {2} {4} {1} {0}\".format('job.', 'a', 'will', 'I', 'find'))"
   ]
  },
  {
   "cell_type": "code",
   "execution_count": null,
   "metadata": {},
   "outputs": [],
   "source": []
  }
 ],
 "metadata": {
  "interpreter": {
   "hash": "0127ce2b7568e6364fcc574b031f73928e7aa4cd8418ab017d9e270fb3906b0d"
  },
  "kernelspec": {
   "display_name": "Python 3.10.1 64-bit",
   "language": "python",
   "name": "python3"
  },
  "language_info": {
   "codemirror_mode": {
    "name": "ipython",
    "version": 3
   },
   "file_extension": ".py",
   "mimetype": "text/x-python",
   "name": "python",
   "nbconvert_exporter": "python",
   "pygments_lexer": "ipython3",
   "version": "3.10.1"
  },
  "orig_nbformat": 4
 },
 "nbformat": 4,
 "nbformat_minor": 2
}
