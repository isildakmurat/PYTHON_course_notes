{
 "cells": [
  {
   "cell_type": "code",
   "execution_count": 1,
   "metadata": {},
   "outputs": [
    {
     "name": "stdout",
     "output_type": "stream",
     "text": [
      "Python                        \n",
      "                        Python\n",
      "            Python            \n",
      "Python************************\n",
      "************************Python\n",
      "************Python************\n",
      "Pyt\n"
     ]
    }
   ],
   "source": [
    "name = \"Python\"\n",
    "print(f\"{name:<30}\")      #sağına ekleyerek 30 karaktere tamamla\n",
    "print(f\"{name:>30}\")      #soluna ekleyerek 30 karaktere tamamla\n",
    "print(f\"{name:^30}\")      #sağa sola ekleyerek 30 karaktere tamamla\n",
    "\n",
    "print(f\"{name:*<30}\")     #sağına * ekleyerek 30 karaktere tamamla\n",
    "print(f\"{name:*>30}\")     #soluna * ekleyerek 30 karaktere tamamla\n",
    "print(f\"{name:*^30}\")     #sağa sola * ekleyerek 30 karaktere tamamla\n",
    "\n",
    "print(f\"{name:.3}\")       #sadece ilk üç karakteri al"
   ]
  },
  {
   "cell_type": "code",
   "execution_count": 2,
   "metadata": {},
   "outputs": [
    {
     "data": {
      "text/plain": [
       "'            Python            '"
      ]
     },
     "execution_count": 2,
     "metadata": {},
     "output_type": "execute_result"
    }
   ],
   "source": [
    "name = \"Python\"\n",
    "name.center(30)"
   ]
  },
  {
   "cell_type": "code",
   "execution_count": 5,
   "metadata": {},
   "outputs": [
    {
     "data": {
      "text/plain": [
       "'************Python************'"
      ]
     },
     "execution_count": 5,
     "metadata": {},
     "output_type": "execute_result"
    }
   ],
   "source": [
    "name = \"Python\"\n",
    "name.center(30, \"*\")"
   ]
  }
 ],
 "metadata": {
  "interpreter": {
   "hash": "0127ce2b7568e6364fcc574b031f73928e7aa4cd8418ab017d9e270fb3906b0d"
  },
  "kernelspec": {
   "display_name": "Python 3.10.1 64-bit",
   "language": "python",
   "name": "python3"
  },
  "language_info": {
   "codemirror_mode": {
    "name": "ipython",
    "version": 3
   },
   "file_extension": ".py",
   "mimetype": "text/x-python",
   "name": "python",
   "nbconvert_exporter": "python",
   "pygments_lexer": "ipython3",
   "version": "3.10.1"
  },
  "orig_nbformat": 4
 },
 "nbformat": 4,
 "nbformat_minor": 2
}
