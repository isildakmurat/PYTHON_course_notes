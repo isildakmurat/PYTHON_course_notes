{
 "cells": [
  {
   "cell_type": "code",
   "execution_count": 3,
   "metadata": {},
   "outputs": [
    {
     "name": "stdout",
     "output_type": "stream",
     "text": [
      "blue, 100, winter\n"
     ]
    },
    {
     "ename": "TypeError",
     "evalue": "type() takes 1 or 3 arguments",
     "output_type": "error",
     "traceback": [
      "\u001b[1;31m---------------------------------------------------------------------------\u001b[0m",
      "\u001b[1;31mTypeError\u001b[0m                                 Traceback (most recent call last)",
      "Input \u001b[1;32mIn [3]\u001b[0m, in \u001b[0;36m<module>\u001b[1;34m\u001b[0m\n\u001b[0;32m      7\u001b[0m season \u001b[38;5;241m=\u001b[39m \u001b[38;5;124m'\u001b[39m\u001b[38;5;124mwinter\u001b[39m\u001b[38;5;124m'\u001b[39m  \n\u001b[0;32m      9\u001b[0m \u001b[38;5;28mprint\u001b[39m(color, price, season, sep\u001b[38;5;241m=\u001b[39m\u001b[38;5;124m'\u001b[39m\u001b[38;5;124m, \u001b[39m\u001b[38;5;124m'\u001b[39m)\n\u001b[1;32m---> 10\u001b[0m \u001b[38;5;28mprint\u001b[39m(\u001b[38;5;28;43mtype\u001b[39;49m\u001b[43m(\u001b[49m\u001b[43msep\u001b[49m\u001b[38;5;241;43m=\u001b[39;49m\u001b[38;5;124;43m'\u001b[39;49m\u001b[38;5;124;43m, \u001b[39;49m\u001b[38;5;124;43m'\u001b[39;49m\u001b[43m)\u001b[49m)\n",
      "\u001b[1;31mTypeError\u001b[0m: type() takes 1 or 3 arguments"
     ]
    }
   ],
   "source": [
    "color = 'red'  # str type variable\n",
    "season = 'summer'\n",
    "price = 250  # int type variable\n",
    "pi = 3.14  # float type variable\n",
    "color = 'blue'  # You can always assign a new value to a created variable\n",
    "price = 100  # value of 'price' is changed\n",
    "season = 'winter'  \n",
    "\n",
    "print(color, price, season, sep=', ')"
   ]
  },
  {
   "cell_type": "code",
   "execution_count": 12,
   "metadata": {},
   "outputs": [
    {
     "ename": "SyntaxError",
     "evalue": "positional argument follows keyword argument (1431085791.py, line 8)",
     "output_type": "error",
     "traceback": [
      "\u001b[1;36m  Input \u001b[1;32mIn [12]\u001b[1;36m\u001b[0m\n\u001b[1;33m    print(a, b, c, sep=' x ', '=')\u001b[0m\n\u001b[1;37m                                 ^\u001b[0m\n\u001b[1;31mSyntaxError\u001b[0m\u001b[1;31m:\u001b[0m positional argument follows keyword argument\n"
     ]
    }
   ],
   "source": [
    "a = 5\n",
    "b = 55\n",
    "c = 555\n",
    "c = a\n",
    "b = c\n",
    "a = b\n",
    "\n",
    "print(a, b, c, sep=' x ')\n"
   ]
  },
  {
   "cell_type": "code",
   "execution_count": 63,
   "metadata": {},
   "outputs": [
    {
     "name": "stdout",
     "output_type": "stream",
     "text": [
      "11-2 = 9\n",
      "11+2 = 13\n",
      "11x2 = 22\n",
      "11/2 = 5.5\n",
      "11**2 = 121\n",
      "11//2 = 5\n",
      "11%2 = 1\n",
      "arası paragraflı\n",
      "1\n",
      "11\n"
     ]
    }
   ],
   "source": [
    "m = 11\n",
    "n = 11\n",
    "\n",
    "m -= 2\n",
    "print(\"11-2 =\", m)\n",
    "m = n\n",
    "\n",
    "m += 2\n",
    "print(\"11+2 =\", m) \n",
    "m = n\n",
    "\n",
    "m *= 2\n",
    "print(\"11x2 =\", m) \n",
    "m = n\n",
    "\n",
    "m /= 2\n",
    "print(\"11/2 =\", m) \n",
    "m = n\n",
    "\n",
    "m **= 2\n",
    "print(\"11**2 =\", m) \n",
    "m = n\n",
    "\n",
    "m //= 2\n",
    "print(\"11//2 =\", m) \n",
    "m = n\n",
    "\n",
    "m %= 2\n",
    "print(\"11%2 =\", m)\n",
    "\n",
    "print(\"arası paragraflı\", m, n, sep = '\\n')"
   ]
  },
  {
   "cell_type": "code",
   "execution_count": 16,
   "metadata": {},
   "outputs": [
    {
     "name": "stdout",
     "output_type": "stream",
     "text": [
      "5.0\n"
     ]
    }
   ],
   "source": [
    "a = 3\n",
    "b = 4\n",
    "c = (a ** 2 + b ** 2) ** 0.5\n",
    "print(c)\n"
   ]
  },
  {
   "cell_type": "code",
   "execution_count": 19,
   "metadata": {},
   "outputs": [
    {
     "name": "stdout",
     "output_type": "stream",
     "text": [
      "3 4 5\n"
     ]
    }
   ],
   "source": [
    "print(a, end = \" \", sep = \",\")\n",
    "print(b, int(c))"
   ]
  },
  {
   "cell_type": "code",
   "execution_count": 21,
   "metadata": {},
   "outputs": [
    {
     "name": "stdout",
     "output_type": "stream",
     "text": [
      "Ayla'nın \"çantası\" \n"
     ]
    }
   ],
   "source": [
    "print('''Ayla'nın \"çantası\" ''')"
   ]
  },
  {
   "cell_type": "code",
   "execution_count": 77,
   "metadata": {},
   "outputs": [
    {
     "name": "stdout",
     "output_type": "stream",
     "text": [
      "\t   Clarus \t \t    Way\n",
      "\t Clarusway         \t Clarusway\n",
      "  Clarusway Clarusway       Clarusway Clarusway\n",
      " Clarusway   Clarusway     Clarusway   Clarusway\n",
      "Clarusway Clarusway Clarusway Clarusway Clarusway\n",
      "Clarusway Clarusway Clarusway Clarusway Clarusway\n",
      " Clarusway   Clarusway     Clarusway   Clarusway\n",
      "    Clarusway Clarusway Clarusway Clarusway\n",
      "       Clarusway   Clarusway   Clarusway\n",
      "\t Clarusway Clarusway Clarusway\n",
      "\t      Clarusway   Clarusway\n",
      "\t \t    Clarusway\n",
      "\t \t     Clarus\n",
      "\t \t       Way\n"
     ]
    }
   ],
   "source": [
    "text = \"Clarusway\"\n",
    "text_1 = \"Clarus\"\n",
    "text_2 = \"Way\"\n",
    "\n",
    "print(\"\\t\",\" \", text_1, \"\\t\", \"\\t\",\"  \", text_2)\n",
    "print(\"\\t\", text, \"       \", \"\\t\", text)\n",
    "print(\" \", text, text, \"     \", text, text, )\n",
    "print(\"\", text,\" \", text, \"   \", text,\" \", text)\n",
    "print(text, text, text, text, text)\n",
    "print(text, text, text, text, text)\n",
    "print(\"\", text,\" \", text, \"   \", text,\" \", text)\n",
    "print(\" \", \" \", text, text, text, text)\n",
    "print(\"      \", text,\" \", text,\" \", text)\n",
    "print(\"\\t\", text, text, text)\n",
    "print(\"\\t\", \"    \", text,\" \", text)\n",
    "print(\"\\t\", \"\\t\", \"  \", text)\n",
    "print(\"\\t\", \"\\t\", \"   \", text_1)\n",
    "print(\"\\t\", \"\\t\", \"     \", text_2)"
   ]
  },
  {
   "cell_type": "code",
   "execution_count": 1,
   "metadata": {},
   "outputs": [
    {
     "name": "stdout",
     "output_type": "stream",
     "text": [
      "Hello, Engin\n",
      "You are a spring chicken!\n"
     ]
    }
   ],
   "source": [
    "name = input('What is your name?: ')\n",
    "print('Hello, ' + name)\n",
    "age = int(input('How old are you?'))\n",
    "if age >= 70:\n",
    "    print('You are aged to perfection!')\n",
    "else:\n",
    "    print('You are a spring chicken!')"
   ]
  },
  {
   "cell_type": "code",
   "execution_count": 46,
   "metadata": {},
   "outputs": [
    {
     "name": "stdout",
     "output_type": "stream",
     "text": [
      "50 saat çalıştım\n",
      "1300.0 dolar kazandım\n"
     ]
    }
   ],
   "source": [
    "saat = input(\"kaç saat\")\n",
    "print(saat, \"saat çalıştım\")\n",
    "if int(saat) <= 40:\n",
    "    para = int(saat) * 20\n",
    "    print(para, \"$ kazandım\")\n",
    "elif int(saat) > 40:\n",
    "    para = (int(saat) * 20) + ((int(saat) - 40) * 20 * 1.5)\n",
    "    print(para, \"dolar kazandım\")"
   ]
  },
  {
   "cell_type": "code",
   "execution_count": null,
   "metadata": {},
   "outputs": [],
   "source": [
    "START \n",
    "\n",
    "INPUT KİŞİ SAYISI\n",
    "\n",
    "SET \n",
    "KİŞİ * 1 Kaşık Kahve\n",
    "KİŞİ * 1 Fincan Su\n",
    "\n",
    "INPUT SADE/ORTA/ŞEKERLİ \n",
    "\n",
    "IF SADE = 0 \n",
    "ELIF ORTA = 1\n",
    "ELIF ŞEKERLİ = 2\n",
    "\n",
    "OUTPUT PİŞİR \n",
    "\n",
    "OUTPUT KAHVE / KİŞİ SAYISI\n",
    "\n",
    "OUTPUT SERVİS\n",
    "\n",
    "END"
   ]
  },
  {
   "cell_type": "code",
   "execution_count": 1,
   "metadata": {},
   "outputs": [
    {
     "name": "stdout",
     "output_type": "stream",
     "text": [
      "Basit Hesap Makinası v.3 Türkçe\n",
      "Çarpım: 6.0 * 9.0 = 54.0\n"
     ]
    }
   ],
   "source": [
    "print(\"Basit Hesap Makinası v.3 Türkçe\")\n",
    "\n",
    "num_1 = float(input(\"İlk Sayıyı Girin: \"))    #ilk sayıyı gir\n",
    "num_2 = float(input(\"İkinci Sayıyı Girin: \")) #ikinci sayıyı gir\n",
    "op = input(\"Hangi işlemi yapmak istersiniz? (+, -, *, /): \")       #işlemi gir\n",
    "if op == \"+\":\n",
    "    print(\"Toplam:\", num_1, \"+\", num_2, \"=\", num_1 + num_2)\n",
    "elif op == \"-\":\n",
    "    print(\"Kalan:\", num_1, \"-\", num_2, \"=\", num_1 - num_2)\n",
    "elif op == \"*\":\n",
    "    print(\"Çarpım:\", num_1, \"*\", num_2, \"=\", num_1 * num_2)\n",
    "elif op == \"/\":\n",
    "    print(\"Bölünen:\", int(num_1))\n",
    "    print(\"Bölen:\", int(num_2))\n",
    "    print(\"Bölüm:\", int(num_1 / num_2))\n",
    "    print(\"Kalan:\", int(num_1 % num_2))\n",
    "    print(\"Kesirli Bölüm:\", num_1, \"/\", num_2, \"=\", (num_1 / num_2))\n",
    "else:\n",
    "    print(\"Bir yerde hata yaptın!\")"
   ]
  },
  {
   "cell_type": "code",
   "execution_count": null,
   "metadata": {},
   "outputs": [],
   "source": []
  }
 ],
 "metadata": {
  "interpreter": {
   "hash": "0127ce2b7568e6364fcc574b031f73928e7aa4cd8418ab017d9e270fb3906b0d"
  },
  "kernelspec": {
   "display_name": "Python 3.10.1 64-bit",
   "language": "python",
   "name": "python3"
  },
  "language_info": {
   "codemirror_mode": {
    "name": "ipython",
    "version": 3
   },
   "file_extension": ".py",
   "mimetype": "text/x-python",
   "name": "python",
   "nbconvert_exporter": "python",
   "pygments_lexer": "ipython3",
   "version": "3.10.1"
  },
  "orig_nbformat": 4
 },
 "nbformat": 4,
 "nbformat_minor": 2
}
