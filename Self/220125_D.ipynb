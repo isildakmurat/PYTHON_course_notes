{
 "cells": [
  {
   "cell_type": "code",
   "execution_count": 33,
   "metadata": {},
   "outputs": [
    {
     "ename": "TypeError",
     "evalue": "len() takes exactly one argument (3 given)",
     "output_type": "error",
     "traceback": [
      "\u001b[1;31m---------------------------------------------------------------------------\u001b[0m",
      "\u001b[1;31mTypeError\u001b[0m                                 Traceback (most recent call last)",
      "Input \u001b[1;32mIn [33]\u001b[0m, in \u001b[0;36m<module>\u001b[1;34m\u001b[0m\n\u001b[1;32m----> 1\u001b[0m \u001b[38;5;28;43mlen\u001b[39;49m\u001b[43m(\u001b[49m\u001b[38;5;124;43m\"\u001b[39;49m\u001b[38;5;124;43m1\u001b[39;49m\u001b[38;5;124;43m\"\u001b[39;49m\u001b[43m,\u001b[49m\u001b[43m \u001b[49m\u001b[38;5;124;43m\"\u001b[39;49m\u001b[38;5;124;43m2\u001b[39;49m\u001b[38;5;124;43m\"\u001b[39;49m\u001b[43m,\u001b[49m\u001b[43m \u001b[49m\u001b[38;5;124;43m\"\u001b[39;49m\u001b[38;5;124;43m3\u001b[39;49m\u001b[38;5;124;43m\"\u001b[39;49m\u001b[43m)\u001b[49m\n",
      "\u001b[1;31mTypeError\u001b[0m: len() takes exactly one argument (3 given)"
     ]
    }
   ],
   "source": [
    "len(\"1\", \"2\", \"3\")"
   ]
  },
  {
   "cell_type": "code",
   "execution_count": 29,
   "metadata": {},
   "outputs": [
    {
     "name": "stdout",
     "output_type": "stream",
     "text": [
      "1 mumdur\n",
      "2 mumdur\n",
      "3 mumdur\n",
      "4 mumdur\n",
      "14\n",
      "1 mumdur\t2 mumdur\t3 mumdur\t4 mumdur\t14\n",
      "1,2,3,4.1 2 3 4:"
     ]
    }
   ],
   "source": [
    "print(1, 2, 3, 4, 14, sep=\" mumdur\\n\")\n",
    "print(1, 2, 3, 4, 14, sep=\" mumdur\\t\")\n",
    "print(1, 2, 3, 4, sep=\",\", end=\".\")\n",
    "print(1, 2, 3, 4, end=\":\")"
   ]
  },
  {
   "cell_type": "code",
   "execution_count": 34,
   "metadata": {},
   "outputs": [
    {
     "name": "stdout",
     "output_type": "stream",
     "text": [
      "\u0007\u0007\u0007\u0007\u0007\n"
     ]
    }
   ],
   "source": [
    "print(\"\\a\" * 5)"
   ]
  },
  {
   "cell_type": "code",
   "execution_count": 37,
   "metadata": {},
   "outputs": [
    {
     "name": "stdout",
     "output_type": "stream",
     "text": [
      "aldım \u000b geldim\n"
     ]
    }
   ],
   "source": [
    "print(\"aldım \\v geldim\")"
   ]
  },
  {
   "cell_type": "code",
   "execution_count": null,
   "metadata": {},
   "outputs": [],
   "source": [
    "isim = \"Murat\"\n",
    "soyisim = \"İşildak\"\n",
    "işsis = \"Python\"\n",
    "şehir = \"Ankara\"\n",
    "print(\"isim : \", isim, \"\\n\",\n",
    "\"soyisim : \", soyisim, \"\\n\",\n",
    "\"işletim sistemi: \", işsis, \"\\n\",\n",
    "\"şehir : \", şehir, \"\\n\",\n",
    "sep=\"\")"
   ]
  },
  {
   "cell_type": "code",
   "execution_count": 19,
   "metadata": {},
   "outputs": [
    {
     "name": "stdout",
     "output_type": "stream",
     "text": [
      "Bir gün = 1440 dk\n",
      "Namazların toplam dk'sı= 40\n",
      "Abdestlerin toplan dk'sı= 2.5 dk\n",
      "Geriye kalan= 1400\n",
      "Günlük uyku= 600 dk\n",
      "Uyanıklık= 840 dk\n",
      "Namaz hariç= 800\n",
      "Oyun vakti= 180\n"
     ]
    }
   ],
   "source": [
    "Gün = 24 * 60\n",
    "Uyku = 10 * 60\n",
    "Namaz = 40\n",
    "Oyun = 3 * 60\n",
    "Abdest = 0.5 * 5\n",
    "\n",
    "print(\"Bir gün =\", Gün, \"dk\")\n",
    "print(\"Namazların toplam dk'sı=\", Namaz)\n",
    "print(\"Abdestlerin toplan dk'sı=\", Abdest, \"dk\")\n",
    "print(\"Geriye kalan=\", int(Gün-Namaz))\n",
    "print(\"Günlük uyku=\", Uyku, \"dk\")\n",
    "print(\"Uyanıklık=\", int(Gün-Uyku), \"dk\")\n",
    "print(\"Namaz hariç=\", int(Gün-Uyku)-Namaz)\n",
    "print(\"Oyun vakti=\", Oyun)"
   ]
  },
  {
   "cell_type": "code",
   "execution_count": 90,
   "metadata": {},
   "outputs": [
    {
     "name": "stdout",
     "output_type": "stream",
     "text": [
      "('Do', 'Mi', 'Sol', 'Si')\n"
     ]
    }
   ],
   "source": [
    "notalar = \"Do\", \"Re\", \"Mi\", \"Fa\", \"Sol\", \"La\", \"Si\"\n",
    "\n",
    "input(\"Nota?\")\n",
    "if Do:\n",
    "    print(notalar[0:7:2])\n",
    "elif Re:\n",
    "    print(notalar[1:7:2])  "
   ]
  },
  {
   "cell_type": "code",
   "execution_count": 8,
   "metadata": {},
   "outputs": [
    {
     "name": "stdout",
     "output_type": "stream",
     "text": [
      "['Y', 'o', 'u', ' ', 'm', 'u', 's', 't', ' ', 'q', 'u', 'i', 't', ' ', 's', 'm', 'o', 'k', 'i', 'n', 'g', '!']\n"
     ]
    }
   ],
   "source": [
    "warning = 'You must quit smoking!'\n",
    "\n",
    "print(list(warning))"
   ]
  },
  {
   "cell_type": "code",
   "execution_count": 32,
   "metadata": {},
   "outputs": [
    {
     "name": "stdout",
     "output_type": "stream",
     "text": [
      "['do', 're', 3, 3.14, True]\n"
     ]
    },
    {
     "data": {
      "text/plain": [
       "['do', 're', 'fa', 'Pi', True, 'mi']"
      ]
     },
     "execution_count": 32,
     "metadata": {},
     "output_type": "execute_result"
    }
   ],
   "source": [
    "nota = [\"do\", \"re\", 3, 3.14, True]\n",
    "print(nota)\n",
    "list(nota)\n",
    "nota.append(\"mi\")\n",
    "list(nota)\n",
    "nota.insert(3, \"fa\")\n",
    "list(nota)\n",
    "nota.remove(3)\n",
    "list(nota)\n",
    "nota[3] = \"Pi\"\n",
    "list(nota)"
   ]
  },
  {
   "cell_type": "code",
   "execution_count": 1,
   "metadata": {},
   "outputs": [
    {
     "data": {
      "text/plain": [
       "True"
      ]
     },
     "execution_count": 1,
     "metadata": {},
     "output_type": "execute_result"
    }
   ],
   "source": [
    "5!=6"
   ]
  },
  {
   "cell_type": "code",
   "execution_count": 2,
   "metadata": {},
   "outputs": [
    {
     "data": {
      "text/plain": [
       "True"
      ]
     },
     "execution_count": 2,
     "metadata": {},
     "output_type": "execute_result"
    }
   ],
   "source": [
    "3+2 == 4+1"
   ]
  },
  {
   "cell_type": "code",
   "execution_count": null,
   "metadata": {},
   "outputs": [],
   "source": []
  }
 ],
 "metadata": {
  "interpreter": {
   "hash": "0127ce2b7568e6364fcc574b031f73928e7aa4cd8418ab017d9e270fb3906b0d"
  },
  "kernelspec": {
   "display_name": "Python 3.10.1 64-bit",
   "language": "python",
   "name": "python3"
  },
  "language_info": {
   "codemirror_mode": {
    "name": "ipython",
    "version": 3
   },
   "file_extension": ".py",
   "mimetype": "text/x-python",
   "name": "python",
   "nbconvert_exporter": "python",
   "pygments_lexer": "ipython3",
   "version": "3.10.1"
  },
  "orig_nbformat": 4
 },
 "nbformat": 4,
 "nbformat_minor": 2
}
