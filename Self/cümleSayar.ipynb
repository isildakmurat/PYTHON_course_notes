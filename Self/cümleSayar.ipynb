{
 "cells": [
  {
   "cell_type": "code",
   "execution_count": null,
   "metadata": {},
   "outputs": [],
   "source": [
    "\"\"\"\n",
    "Contrary to popular belief, Lorem Ipsum is not simply random text. It has roots in a piece of classical Latin literature from 45 BC, making it over 2000 years old. Richard McClintock, a Latin professor at Hampden-Sydney College in Virginia, looked up one of the more obscure Latin words, consectetur, from a Lorem Ipsum passage, and going through the cites of the word in classical literature, discovered the undoubtable source. Lorem Ipsum comes from sections 1.10.32 and 1.10.33 of \"de Finibus Bonorum et Malorum\" (The Extremes of Good and Evil) by Cicero, written in 45 BC. This book is a treatise on the theory of ethics, very popular during the Renaissance. The first line of Lorem Ipsum, \"Lorem ipsum dolor sit amet..\", comes from a line in section 1.10.32.\n",
    "The standard chunk of Lorem Ipsum used since the 1500s is reproduced below for those interested. Sections 1.10.32 and 1.10.33 from \"de Finibus Bonorum et Malorum\" by Cicero are also reproduced in their exact original form, accompanied by English versions from the 1914 translation by H. Rackham.\n",
    "\"\"\""
   ]
  },
  {
   "cell_type": "code",
   "execution_count": 1,
   "metadata": {},
   "outputs": [],
   "source": [
    "def cümleSayar():\n",
    "    girilenMetin = input(\"Metin giriniz: \")\n",
    "    noktaMetin = girilenMetin.split('.')\n",
    "    ünlemMetin = girilenMetin.split(\"!\")\n",
    "    soruMetin = girilenMetin.split(\"?\")\n",
    "    return (len(ünlemMetin)-1)+(len(noktaMetin)-1)+(len(soruMetin)-1)"
   ]
  },
  {
   "cell_type": "code",
   "execution_count": 2,
   "metadata": {},
   "outputs": [
    {
     "data": {
      "text/plain": [
       "3"
      ]
     },
     "execution_count": 2,
     "metadata": {},
     "output_type": "execute_result"
    }
   ],
   "source": [
    "cümleSayar()"
   ]
  },
  {
   "cell_type": "code",
   "execution_count": 7,
   "metadata": {},
   "outputs": [],
   "source": [
    "def cümleSayar():\n",
    "    girilenMetin = input(\"Metin giriniz: \")\n",
    "    listeMetin = list(girilenMetin)\n",
    "    noktaMetin = listeMetin.count(\".\")\n",
    "    ünlemMetin = listeMetin.count(\"!\")\n",
    "    soruMetin = listeMetin.count(\"?\")\n",
    "    cümleSayısı = noktaMetin + ünlemMetin + soruMetin\n",
    "    print(cümleSayısı)"
   ]
  },
  {
   "cell_type": "code",
   "execution_count": 8,
   "metadata": {},
   "outputs": [
    {
     "name": "stdout",
     "output_type": "stream",
     "text": [
      "21\n"
     ]
    }
   ],
   "source": [
    "cümleSayar()"
   ]
  },
  {
   "cell_type": "code",
   "execution_count": 9,
   "metadata": {},
   "outputs": [],
   "source": [
    "def cümleSayar():\n",
    "    import re\n",
    "    girilenMetin = input(\"Metin giriniz: \")\n",
    "    print(len(re.split('. |! |\\? |\\n', girilenMetin)))"
   ]
  },
  {
   "cell_type": "code",
   "execution_count": 10,
   "metadata": {},
   "outputs": [
    {
     "name": "stdout",
     "output_type": "stream",
     "text": [
      "176\n"
     ]
    }
   ],
   "source": [
    "cümleSayar()"
   ]
  },
  {
   "cell_type": "code",
   "execution_count": null,
   "metadata": {},
   "outputs": [],
   "source": [
    "girilenMetin = input(\"Metin giriniz: \")\n",
    "nokta = 0\n",
    "for nokta in girilenMetin:\n",
    "    if nokta == \". \":\n",
    "        nokta += 1\n",
    "    elif nokta == \"! \":\n",
    "        nokta += 1\n",
    "    elif nokta == \"? \":\n",
    "        nokta += 1    \n",
    "    else:\n",
    "        break\n",
    "else:\n",
    "    nokta += 1 \n",
    "print(len(nokta))"
   ]
  },
  {
   "cell_type": "code",
   "execution_count": null,
   "metadata": {},
   "outputs": [],
   "source": [
    "cümleSayar()"
   ]
  }
 ],
 "metadata": {
  "interpreter": {
   "hash": "1e0e9c6fa50239b296d741002312a367832c358bdded32aabb2575ff59aa9be4"
  },
  "kernelspec": {
   "display_name": "Python 3.9.10 64-bit (windows store)",
   "language": "python",
   "name": "python3"
  },
  "language_info": {
   "codemirror_mode": {
    "name": "ipython",
    "version": 3
   },
   "file_extension": ".py",
   "mimetype": "text/x-python",
   "name": "python",
   "nbconvert_exporter": "python",
   "pygments_lexer": "ipython3",
   "version": "3.9.12"
  },
  "orig_nbformat": 4
 },
 "nbformat": 4,
 "nbformat_minor": 2
}
