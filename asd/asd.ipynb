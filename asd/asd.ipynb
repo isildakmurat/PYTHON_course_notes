{
 "cells": [
  {
   "cell_type": "markdown",
   "metadata": {},
   "source": [
    "bir günde kaç kişiyle ne kadar muhatap oluyorsun?"
   ]
  },
  {
   "cell_type": "code",
   "execution_count": 28,
   "metadata": {},
   "outputs": [
    {
     "ename": "SyntaxError",
     "evalue": "invalid syntax (1302457856.py, line 6)",
     "output_type": "error",
     "traceback": [
      "\u001b[1;36m  Input \u001b[1;32mIn [28]\u001b[1;36m\u001b[0m\n\u001b[1;33m    elif\u001b[0m\n\u001b[1;37m    ^\u001b[0m\n\u001b[1;31mSyntaxError\u001b[0m\u001b[1;31m:\u001b[0m invalid syntax\n"
     ]
    }
   ],
   "source": [
    "pzt_kişi = input(\"Pazartesi günü kaç kişiyle muhatap oldun?\")\n",
    "dk = input(\"Kaç dakika muhatap oldun?\")\n",
    "\n",
    "while pzt_kişi == 10:\n",
    "    print(\"10 kişiyle muhatap oldun.\")\n",
    "elif\n",
    "    print(\"Çok fazla kişiyle konuştun.\")"
   ]
  },
  {
   "cell_type": "code",
   "execution_count": 34,
   "metadata": {},
   "outputs": [
    {
     "name": "stdout",
     "output_type": "stream",
     "text": [
      "5\n"
     ]
    }
   ],
   "source": [
    "'''\n",
    "INPUT \n",
    "HER GÜN İÇİN\n",
    "KONUŞULAN KİŞİ SAYISI\n",
    "KONUŞMA SÜRESİ (DK)\n",
    "KİŞİYE SOSYAL ETKİLENME PUANI İÇİN BİR VERİ SAĞLAYACAĞIZ\n",
    "KİŞİSEL ÖNERİLER\n",
    "'''\n",
    "\n",
    "print(2+3)"
   ]
  },
  {
   "cell_type": "code",
   "execution_count": null,
   "metadata": {},
   "outputs": [],
   "source": [
    "input(\"Pazartesi\")\n",
    "input(\"Salı\")\n",
    "input(\"Çarşamba\")\n",
    "input(\"Perşembe\")\n",
    "input(\"Cuma\")\n",
    "input(\"Cumartesi\")\n",
    "input(\"Pazar\")"
   ]
  },
  {
   "cell_type": "code",
   "execution_count": 32,
   "metadata": {},
   "outputs": [
    {
     "name": "stdout",
     "output_type": "stream",
     "text": [
      "giriş\n",
      "25 + 52 = 77\n",
      "çıkılıyor...\n"
     ]
    }
   ],
   "source": []
  },
  {
   "cell_type": "code",
   "execution_count": null,
   "metadata": {},
   "outputs": [],
   "source": []
  }
 ],
 "metadata": {
  "interpreter": {
   "hash": "0127ce2b7568e6364fcc574b031f73928e7aa4cd8418ab017d9e270fb3906b0d"
  },
  "kernelspec": {
   "display_name": "Python 3.10.1 64-bit",
   "language": "python",
   "name": "python3"
  },
  "language_info": {
   "codemirror_mode": {
    "name": "ipython",
    "version": 3
   },
   "file_extension": ".py",
   "mimetype": "text/x-python",
   "name": "python",
   "nbconvert_exporter": "python",
   "pygments_lexer": "ipython3",
   "version": "3.10.1"
  },
  "orig_nbformat": 4
 },
 "nbformat": 4,
 "nbformat_minor": 2
}
